{
 "cells": [
  {
   "cell_type": "markdown",
   "id": "87043118",
   "metadata": {},
   "source": [
    "# CLASE 4.2: INTRODUCCIÓN A LA COMPUTACIÓN SIMBÓLICA CON SYMPY.\n",
    "---\n",
    "## Introducción.\n",
    "La computación simbólica corresponde a un paradigma de computación completamente diferente al basado en arreglos numéricos que hemos estado desarrollando durante la asignatura. En un software de computación simbólica (conocidos popularmente como sistemas de álgebra computacional, o CAS), las representaciones de objetos matemáticos y expresiones se manipulan y transforman analíticamente, de la misma forma en que haríamos cálculos con lápiz y papel, aunque -por supuesto- con un alcance mucho mayor. Por tanto, la computación simbólica constituye una fantástica herramienta para el chequeo y *debugging* de cálculos analíticos hechos a mano y, más importante aún, para llevar a cabo análisis que, de otro modo, serían imposibles de realizar.\n",
    "\n",
    "La computacional simbólica es un elemento clave de la computación científica, e incluso para problemas que pueden ser resueltos únicamente mediante métodos numéricos (lo que es muy común en el campo de la ciencia de datos), podemos hacer una gran diferencia al llegar a los límites de los cálculos analíticos que pueden realizarse antes de proceder a la implementación de técnicas numéricas. Aquello puede, por ejemplo, reducir la complejidad o el tamaño de un problema previo a resolverlo numéricamente. En otras palabras, en vez de resolver un problema de manera inmediata mediante algún método numérico, las herramientas de computación simbólica nos permitirán simplificarlo primero.\n",
    "\n",
    "Existen algunas librerías de computación científica en Python, siendo **Sympy** (acrónimo de *Symbolic Python*), indudablemente, la más popular de todas. **Sympy** es una librería escrita completamente en Python y nos provee de herramientas para la resolución de un amplio rango de problemas de naturaleza analítica. Y en esta sección, nos dedicaremos a conocer en parte cómo hacer uso de **Sympy** para resolver este tipo de problemas. Esta librería no se encuentra incluida en algunas versiones de Anaconda, pero podemos instalarla fácilmente usando una terminal como sigue:\n",
    "\n",
    "`conda install sympy`\n",
    "\n",
    "En general, **Sympy** suele importarse de manera tal que tengamos acceso directo a todas sus funciones (mediante instrucciones del tipo `from sympy import *`). Sin embargo, a fin de tener claridad en relación a lo que hacemos, importaremos este módulo de manera directa, a fin de usar su nombre como prefijo para todas sus funciones (o bien, importaremos funciones específicas):"
   ]
  },
  {
   "cell_type": "code",
   "execution_count": 1,
   "id": "595923be",
   "metadata": {},
   "outputs": [],
   "source": [
    "# Importamos Sympy.\n",
    "import sympy"
   ]
  },
  {
   "cell_type": "markdown",
   "id": "cc7beff1",
   "metadata": {},
   "source": [
    "Haremos uso, en primera instancia, de la función `sympy.init_printing()`, la cual nos permitirá configurar el sistema de impresión en pantalla de **Sympy** para así renderizar expresiones matemáticas bastante bonitas a la vista, muy similares a las que podemos generar mediante el uso de LaTeX:"
   ]
  },
  {
   "cell_type": "code",
   "execution_count": 2,
   "id": "bed110ed",
   "metadata": {},
   "outputs": [],
   "source": [
    "# Inicializamos el sistema de impresión de expresiones matemáticas.\n",
    "sympy.init_printing()"
   ]
  },
  {
   "cell_type": "markdown",
   "id": "c65660c9",
   "metadata": {},
   "source": [
    "**NOTA IMPORTANTE:** Notemos que **Numpy** y **Sympy**, como suele ocurrir con otras librerías de Python, nos proveen de muchas variables y funciones con el mismo nombre. Sin embargo, estos símbolos rara vez serán intercambiables. Por ejemplo, `numpy.pi` nos proveerá de un valor aproximado del número $\\pi$, mientras que `sympy.pi` nos proveerá de una representación simbólica de $\\pi$. Por lo tanto, es importante no mezclar ambas cosas.\n",
    "\n",
    "## Símbolos.\n",
    "Un atributo esencial de **Sympy** es la representación de símbolos matemáticos por medio de objetos de Python. En esta librería, por ejemplo, podemos utilizar la clase `sympy.Symbol` para este propósito. Una instancia de `sympy.Symbol` tiene siempre un nombre y un conjunto de atributos que describen sus propiedades, y métodos que permiten consultar tales propiedades y para operar sobre estos objetos simbólicos. Un símbolo por sí mismo no es de mucha utilidad, pero son utilizados como nodos en árboles completos que representan expresiones algebraicas. El paso cero a la hora de resolver un problema utilizando herramientas de **Sympy**, es precisamente crear símbolos para las variables matemáticas involucradas y las constantes que son necesarias para resolver dicho problema.\n",
    "\n",
    "El nombre de un símbolo se define siempre por medio de un string, el cual, de manera opcional, puede incluir sintaxis de LaTeX para forzar a **Sympy** a representar simbólicamente lo que nosotros queremos en un entorno potenciado por **IPython** (como un notebook de Jupyter). Este nombre se establece al crear el símbolo, y dicha creación puede hacerse de varias maneras, usando clases y funciones tales como `sympy.Symbol`, `sympy.symbols()` y `sympy.var()`. En general, es deseable asociar los símbolos creados en **Sympy** a variables de Python que tengan el mismo nombren(o lo más parecido posible). Por ejemplo, podemos crear un símbolo en **Sympy** que represente a una variable $x$, y luego asociarlo a un objeto de Python que llamamos `x`:"
   ]
  },
  {
   "cell_type": "code",
   "execution_count": 3,
   "id": "acf1275d",
   "metadata": {},
   "outputs": [],
   "source": [
    "# Nuestra primera variable en Sympy.\n",
    "x = sympy.Symbol(\"x\")"
   ]
  },
  {
   "cell_type": "markdown",
   "id": "9ad176cf",
   "metadata": {},
   "source": [
    "La variable `x` ahora representa un símbolo matemático abstracto $x$ del cual sabemos muy poca información por defecto. En este punto, `x` podría representar, por ejemplo, un número real, un entero, un número complejo, una función, o cualquier otra entidad de naturaleza matemática. En muchos casos, es suficiente representar un símbolo matemático con este nivel de abstracción, pero a veces puede resultar necesario darle a **Sympy** pistas acerca del tipo de símbolo que estamos representando, lo que sinduda puede ayudar a **Sympy** a manipular de forma más eficiente expresiones analíticas. Podemos añadir varios supuestos que permitan describir las propiedades de un objeto simbólico mediante el uso de algunos argumentos propios de las funciones que crean estos símbolos (por ejemplo, `sympy.Symbol`). Por ejemplo, si tenemos una variable matemática $\\alpha$ que sabemos que es un número real, podemos usar el argumento Booleano `real` en la clase `sympy.Symbol` para definir dicha propiedad:"
   ]
  },
  {
   "cell_type": "code",
   "execution_count": 4,
   "id": "22c6cc94",
   "metadata": {},
   "outputs": [],
   "source": [
    "# Creación de un símbolo que representa un número real.\n",
    "alpha = sympy.Symbol(r\"\\alpha\", real=True)"
   ]
  },
  {
   "cell_type": "code",
   "execution_count": 5,
   "id": "c663a707",
   "metadata": {},
   "outputs": [
    {
     "data": {
      "image/png": "[encoded data removed]",
      "text/latex": [
       "$\\displaystyle \\alpha$"
      ],
      "text/plain": [
       "\\alpha"
      ]
     },
     "execution_count": 5,
     "metadata": {},
     "output_type": "execute_result"
    }
   ],
   "source": [
    "# Mostramos el símbolo en pantalla.\n",
    "alpha"
   ]
  },
  {
   "cell_type": "markdown",
   "id": "ffadf8e4",
   "metadata": {},
   "source": [
    "Podemos consultar el atributo `is_real` del objeto anterior, a fin de confirmar que efectivamente dicho objeto representa un número real:"
   ]
  },
  {
   "cell_type": "code",
   "execution_count": 6,
   "id": "b9a99d82",
   "metadata": {},
   "outputs": [
    {
     "data": {
      "text/plain": [
       "True"
      ]
     },
     "execution_count": 6,
     "metadata": {},
     "output_type": "execute_result"
    }
   ],
   "source": [
    "# Comprobamos que este objeto es, en efecto, un número real.\n",
    "alpha.is_real"
   ]
  },
  {
   "cell_type": "markdown",
   "id": "acef5a6c",
   "metadata": {},
   "source": [
    "Si, por otro lado, si fuéramos a usar el atributo `is_real` para consultar el símbolo `x`, definido previamente, y para el cual no establecimos explícitamente que representa un número real (o de otro tipo), obtendríamos `None` como respuesta:"
   ]
  },
  {
   "cell_type": "code",
   "execution_count": 7,
   "id": "152f0ce7",
   "metadata": {},
   "outputs": [
    {
     "data": {
      "text/plain": [
       "True"
      ]
     },
     "execution_count": 7,
     "metadata": {},
     "output_type": "execute_result"
    }
   ],
   "source": [
    "# Consultamos si x es un número real.\n",
    "x.is_real is None"
   ]
  },
  {
   "cell_type": "markdown",
   "id": "2accc615",
   "metadata": {},
   "source": [
    "Otros atributos que denotan el tipo de símbolo a definir se muestran en la Tabla (2.1).\n",
    "\n",
    "</p> <p style=\"text-align: center;\">Tabla (2.1): Algunos tipos para los símbolos en Sympy y los argumentos que los definen</p>\n",
    "\n",
    "| Argumentos | Atributos | Descripción |\n",
    "| :--------- | :-------- | :---------- |\n",
    "| `real`, `imaginary` | `is_real`, `is_imaginary` | Permite especificar si un símbolo representa un número real o imaginario. |\n",
    "| `positive`, `negative` | `is_positive`, `is_negative` | Especifica si un símbolo es positivo o negativo. |\n",
    "| `integer` | `is_integer` | Especifica si el símbolo es un entero. |\n",
    "| `odd`, `even` | `is_odd`, `is_even` | Especifica si un símbolo es un entero par o impar. |\n",
    "| `prime` | `is_prime` | Especifica si el símbolo es un número primo (y por tanto un entero). |\n",
    "| `finite`, `infinite` | `is_finite`, `is_infinite` | Especifica si el símbolo representa una cantidad que es finita o infinita. |\n",
    "\n",
    "Entre todos los tipos de símbolos que podemos crear (algunos de los cuales hemos explicitado en la Tabla (2.1)), indudablemente los atributos más importantes serán `real` y `positive`; es decir, si el símbolo representa (o no) un número real y positivo. Cuando aplican, la adición de estos supuestos puede, con frecuencia, ayudar a **Sympy** a simplificar varios tipos de expresiones. Consideremos el siguiente ejemplo:"
   ]
  },
  {
   "cell_type": "code",
   "execution_count": 8,
   "id": "57483ca9",
   "metadata": {},
   "outputs": [],
   "source": [
    "# Definimos las variables simbólicas x e y.\n",
    "x = sympy.Symbol(\"x\")\n",
    "y = sympy.Symbol(\"y\", positive=True)"
   ]
  },
  {
   "cell_type": "code",
   "execution_count": 9,
   "id": "cd1008ef",
   "metadata": {},
   "outputs": [
    {
     "data": {
      "image/png": "[encoded data removed]",
      "text/latex": [
       "$\\displaystyle \\sqrt{x^{2}}$"
      ],
      "text/plain": [
       "   ____\n",
       "  ╱  2 \n",
       "╲╱  x  "
      ]
     },
     "execution_count": 9,
     "metadata": {},
     "output_type": "execute_result"
    }
   ],
   "source": [
    "# Verificamos qué representa, simbólicamente, la raíz de x elevado al cuadrado.\n",
    "sympy.sqrt(x ** 2)"
   ]
  },
  {
   "cell_type": "code",
   "execution_count": 10,
   "id": "a3389430",
   "metadata": {},
   "outputs": [
    {
     "data": {
      "image/png": "[encoded data removed]",
      "text/latex": [
       "$\\displaystyle y$"
      ],
      "text/plain": [
       "y"
      ]
     },
     "execution_count": 10,
     "metadata": {},
     "output_type": "execute_result"
    }
   ],
   "source": [
    "# Y verificamos qué representa, simbólicamente, la raíz de y elevado al cuadrado.\n",
    "sympy.sqrt(y ** 2)"
   ]
  },
  {
   "cell_type": "markdown",
   "id": "bfc35405",
   "metadata": {},
   "source": [
    "En las líneas de código anteriores, hemos creado dos variables simbólicas, $x$ e $y$, y hemos computado la raíz cuadrada de los cuadrados de ambas variables, usando la función `sympy.sqrt()`. Si no existe información relativa al símbolo en cuestión, no podemos hacer ningún tipo de simplificación sobre esta expresión (al menos, así lo *entiende* **Sympy**). Sin embargo, si la variable simbólica es real y positiva, por supuesto que es posible simplificar esta expresión, ya que $\\sqrt{y^{2}}=y$ para todo $y>0$, y eso es precisamente lo que **Sympy** reconoce.\n",
    "\n",
    "Cuando trabajamos con símbolos matemáticos que representan números enteros, resulta útil especificar en forma explícita usando los correspondientes argumentos. Esto, por supuesto, con el objetivo de simplificar ciertas expresiones. Por ejemplo:"
   ]
  },
  {
   "cell_type": "code",
   "execution_count": 11,
   "id": "fd339ffa",
   "metadata": {},
   "outputs": [],
   "source": [
    "# Definimos tres enteros, cada uno con ciertas condiciones.\n",
    "k = sympy.Symbol(\"k\")\n",
    "m = sympy.Symbol(\"m\", integer=True)\n",
    "n = sympy.Symbol(\"n\", odd=True)"
   ]
  },
  {
   "cell_type": "code",
   "execution_count": 12,
   "id": "78e26238",
   "metadata": {},
   "outputs": [
    {
     "data": {
      "image/png": "[encoded data removed]",
      "text/latex": [
       "$\\displaystyle \\cos{\\left(\\pi k \\right)}$"
      ],
      "text/plain": [
       "cos(π⋅k)"
      ]
     },
     "execution_count": 12,
     "metadata": {},
     "output_type": "execute_result"
    }
   ],
   "source": [
    "# Computamos algunas expresiones con estas variables simbólicas. Primero para k.\n",
    "sympy.cos(k * sympy.pi)"
   ]
  },
  {
   "cell_type": "code",
   "execution_count": 13,
   "id": "f92a22bc",
   "metadata": {},
   "outputs": [
    {
     "data": {
      "image/png": "[encoded data removed]",
      "text/latex": [
       "$\\displaystyle \\left(-1\\right)^{m}$"
      ],
      "text/plain": [
       "    m\n",
       "(-1) "
      ]
     },
     "execution_count": 13,
     "metadata": {},
     "output_type": "execute_result"
    }
   ],
   "source": [
    "# Luego para m.\n",
    "sympy.cos(m * sympy.pi)"
   ]
  },
  {
   "cell_type": "code",
   "execution_count": 14,
   "id": "4a862402",
   "metadata": {},
   "outputs": [
    {
     "data": {
      "image/png": "[encoded data removed]",
      "text/latex": [
       "$\\displaystyle -1$"
      ],
      "text/plain": [
       "-1"
      ]
     },
     "execution_count": 14,
     "metadata": {},
     "output_type": "execute_result"
    }
   ],
   "source": [
    "# Y finalmente para n.\n",
    "sympy.cos(n * sympy.pi)"
   ]
  },
  {
   "cell_type": "markdown",
   "id": "9b979d3c",
   "metadata": {},
   "source": [
    "Comprobamos pues que, dependiendo de las propiedades que hemos supuesto para cada variable simbólica, **Sympy** tendrá más o menos opciones para construir simplificaciones de las expresiones simbólicas que queramos computar.\n",
    "\n",
    "Para formular un problema matemático que, con frecuencia, no es trivial, será necesario definir una gran cantidad de símbolos. El uso de la clase `sympy.Symbol` para especificar cada símbolo, uno por uno, puede volverse un proceso tedioso y, por conveniencia, **Sympy** nos provee de la función `sympy.symbols()` para crear múltiples símbolos de una sola vez. Esta función recibe como argumento un string donde cada símbolo a definir se separa por comas dentro del mismo string, así como un conjunto arbitrario de argumentos que especifiquen los tipos asociados a cada variable simbólica (si tales tipos aplican). Por ejemplo:"
   ]
  },
  {
   "cell_type": "code",
   "execution_count": 15,
   "id": "fdf18349",
   "metadata": {},
   "outputs": [],
   "source": [
    "# Definimos tres variables simbólicas negativas.\n",
    "x, y, z = sympy.symbols(\"x, y, z\", negative=True)"
   ]
  },
  {
   "cell_type": "code",
   "execution_count": 16,
   "id": "4a02345d",
   "metadata": {},
   "outputs": [],
   "source": [
    "# Definimos tres variables simbólicas positivas.\n",
    "u, v, w = sympy.symbols(\"u, v, w\", positive=True)"
   ]
  },
  {
   "cell_type": "markdown",
   "id": "65d5276f",
   "metadata": {},
   "source": [
    "## Números.\n",
    "El propósito de representar símbolos matemáticos mediante objetos de Python es para usarlos en **árboles de cómputo** que representen expresiones matemáticas. Para ello, también necesitamos representar otros objetos matemáticos, tales como números, funciones y constantes. La creación de números, puntualmente, comparte muchas de las propiedades de los símbolos de **Sympy**, lo que nos permite tratar a ambos objetos de manera más o menos equitativa cuando construimos expresiones con ellos.\n",
    "\n",
    "Por ejemplo, previamente, vimos que las instancias de `sympy.Symbol` tienen atributos que permiten consultar ciertas propiedades de la variable simbólica en cuestión (por ejemplo, `is_real`). Queremos usar este mismo tipo de atributos para todos nuestros objetos, incluyendo números enteros y de punto flotante, cuando manipulemos expresiones simbólicas de **Sympy**. Por esta razón, no podemos utilizar de manera directa los objetos nativos de Python que permiten construir este tipo de números (por ejemplo, `int` o `float`). En vez de ello, **Sympy** nos provee de las clases `sympy.Integer` y `sympy.Float`, los que representan números enteros y de punto flotante en su framework. Es importante tener siempre presente esta distinción en mente, aunque rara vez haremos uso explícito de estas clases, puesto que **Sympy** automáticamente crea instancias de estas clases cuando ocurren al usar esta librería en cómputos simbólicos. Sin embargo, para demostrar la diferencia entre números enteros y de punto flotante nativos de Python y provistos por **Sympy**, haremos uso explícito de estas clases:"
   ]
  },
  {
   "cell_type": "code",
   "execution_count": 17,
   "id": "7a06a836",
   "metadata": {},
   "outputs": [],
   "source": [
    "# Creamos un entero k.\n",
    "k = sympy.Integer(19)"
   ]
  },
  {
   "cell_type": "code",
   "execution_count": 18,
   "id": "750dd39c",
   "metadata": {},
   "outputs": [
    {
     "data": {
      "text/plain": [
       "sympy.core.numbers.Integer"
      ]
     },
     "execution_count": 18,
     "metadata": {},
     "output_type": "execute_result"
    }
   ],
   "source": [
    "# Verificamos el tipo de k.\n",
    "type(k)"
   ]
  },
  {
   "cell_type": "code",
   "execution_count": 19,
   "id": "4cb17406",
   "metadata": {},
   "outputs": [
    {
     "data": {
      "text/plain": [
       "(True, True, True)"
      ]
     },
     "execution_count": 19,
     "metadata": {},
     "output_type": "execute_result"
    }
   ],
   "source": [
    "# Consultamos algunos atributos de k.\n",
    "k.is_integer, k.is_odd, k.is_real"
   ]
  },
  {
   "cell_type": "code",
   "execution_count": 20,
   "id": "a8b83c7a",
   "metadata": {},
   "outputs": [],
   "source": [
    "# Creamos un número de punto flotante p.\n",
    "p = sympy.Float(4.7846593)"
   ]
  },
  {
   "cell_type": "code",
   "execution_count": 21,
   "id": "52ca2c25",
   "metadata": {},
   "outputs": [
    {
     "data": {
      "text/plain": [
       "sympy.core.numbers.Float"
      ]
     },
     "execution_count": 21,
     "metadata": {},
     "output_type": "execute_result"
    }
   ],
   "source": [
    "# Verificamos el tipo de p.\n",
    "type(p)"
   ]
  },
  {
   "cell_type": "code",
   "execution_count": 22,
   "id": "f51ee26c",
   "metadata": {},
   "outputs": [
    {
     "data": {
      "text/plain": [
       "(False, False, True)"
      ]
     },
     "execution_count": 22,
     "metadata": {},
     "output_type": "execute_result"
    }
   ],
   "source": [
    "# Consultamos algunos atributos de p.\n",
    "p.is_integer, p.is_odd, p.is_real"
   ]
  },
  {
   "cell_type": "markdown",
   "id": "a04094b4",
   "metadata": {},
   "source": [
    "Siempre podremos *traer* instancias de `sympy.Integer` y `sympy.Float` de vuelta a sus correspondientes equivalentes de Python usando las funciones nativas `int()` y `float()`.\n",
    "\n",
    "Para crear una representación en **Sympy** de un número o, en general, de una expresión arbitraria, podemos usar igualmente la función `sympy.sympify()`. Dicha función toma un amplio rango de entradas y permite derivar una expresión compatible con **Sympy**, eliminando la necesidad de especificar explícitamente qué tipos de objetos deben ser creados. Para el caso sencillo de un input numérico, podemos utilizar:"
   ]
  },
  {
   "cell_type": "code",
   "execution_count": 23,
   "id": "495b7054",
   "metadata": {},
   "outputs": [],
   "source": [
    "a1, a2 = sympy.sympify(20), sympy.sympify(4.7564)"
   ]
  },
  {
   "cell_type": "code",
   "execution_count": 24,
   "id": "bd591161",
   "metadata": {},
   "outputs": [
    {
     "data": {
      "text/plain": [
       "(sympy.core.numbers.Integer, sympy.core.numbers.Float)"
      ]
     },
     "execution_count": 24,
     "metadata": {},
     "output_type": "execute_result"
    }
   ],
   "source": [
    "type(a1), type(a2)"
   ]
  },
  {
   "cell_type": "markdown",
   "id": "ee999cc9",
   "metadata": {},
   "source": [
    "Y ahí lo tenemos: **Sympy** infiere los tipos asociados a cada número.\n",
    "\n",
    "### Enteros.\n",
    "Anteriormente hemos usado la clase `sympy.Integer` para representar enteros. Al respecto, vale la pena distinguir las diferencias que existen entre una instancia de `sympy.Symbol` con el argumento `integer=True`, y una instancia de `sympy.Integer`. Mientras que una variable simbólica definida mediante `sympy.Symbol` con `integer=True` representa *algún* entero, una instancia de `sympy.Integer` representa un entero específico. En ambos casos, el atributo `is_integer` nos devolverá el valor Booleano `True`, pero también existe un atributo `is_Integer` (sí, con \"I\" mayúscula), que únicamente es `True` para instancias de `sympy.Integer`. En general, atributos cuyo nombre es del tipo `is_Name` (con \"N\" mayúscula) indican si el objeto respectiivo es de tipo `sympy.Name`, mientras que atributos de tipo `is_name` indican si dicho objeto satisface una condición establecida cuyo nombre es `name`. De esta manera, también existe un atributo `is_Symbol` que devuelve el valor `True` para objetos instanciados a partir de la clase `sympy.Symbol`:"
   ]
  },
  {
   "cell_type": "code",
   "execution_count": 25,
   "id": "5e2c0cef",
   "metadata": {},
   "outputs": [],
   "source": [
    "# Definimos la variable simbólica n.\n",
    "n = sympy.Symbol(\"n\", integer=True)"
   ]
  },
  {
   "cell_type": "code",
   "execution_count": 26,
   "id": "12e99bdd",
   "metadata": {},
   "outputs": [
    {
     "data": {
      "text/plain": [
       "(True, False, None, True)"
      ]
     },
     "execution_count": 26,
     "metadata": {},
     "output_type": "execute_result"
    }
   ],
   "source": [
    "# Consultamos algunos atributos de n.\n",
    "n.is_integer, n.is_Integer, n.is_positive, n.is_Symbol"
   ]
  },
  {
   "cell_type": "code",
   "execution_count": 27,
   "id": "2e7577cd",
   "metadata": {},
   "outputs": [],
   "source": [
    "# Definimos un entero específico.\n",
    "a1 = sympy.Integer(19)"
   ]
  },
  {
   "cell_type": "code",
   "execution_count": 28,
   "id": "b197b36a",
   "metadata": {},
   "outputs": [
    {
     "data": {
      "text/plain": [
       "(True, True, True, False)"
      ]
     },
     "execution_count": 28,
     "metadata": {},
     "output_type": "execute_result"
    }
   ],
   "source": [
    "# Consultamos algunos atributos específicos de a1.\n",
    "a1.is_integer, a1.is_Integer, a1.is_positive, a1.is_Symbol"
   ]
  },
  {
   "cell_type": "markdown",
   "id": "a423472b",
   "metadata": {},
   "source": [
    "Los enteros en **Sympy** tienen una precisión arbitraria, lo que significa que no existen cotas superiores ni inferiores para limitar las cantidades que éstos pueden representar (lo que difiere de los tipos de datos vistos en **Numpy**). Por lo tanto, es posible trabajar en **Sympy** con números muy grandes:"
   ]
  },
  {
   "cell_type": "code",
   "execution_count": 29,
   "id": "85ed402c",
   "metadata": {},
   "outputs": [
    {
     "data": {
      "image/png": "[encoded data removed]",
      "text/latex": [
       "$\\displaystyle 53114861964971781805211413858120662813570892087695571452312606929382350146801$"
      ],
      "text/plain": [
       "53114861964971781805211413858120662813570892087695571452312606929382350146801"
      ]
     },
     "execution_count": 29,
     "metadata": {},
     "output_type": "execute_result"
    }
   ],
   "source": [
    "# Un número extremadamente grande.\n",
    "a1 ** 60"
   ]
  },
  {
   "cell_type": "code",
   "execution_count": 30,
   "id": "f7bce3a1",
   "metadata": {},
   "outputs": [
    {
     "data": {
      "image/png": "[encoded data removed]",
      "text/latex": [
       "$\\displaystyle 8320987112741390144276341183223364380754172606361245952449277696409600000000000000$"
      ],
      "text/plain": [
       "832098711274139014427634118322336438075417260636124595244927769640960000000000\n",
       "0000"
      ]
     },
     "execution_count": 30,
     "metadata": {},
     "output_type": "execute_result"
    }
   ],
   "source": [
    "# Otro número muy muy grande.\n",
    "sympy.factorial(60)"
   ]
  },
  {
   "cell_type": "markdown",
   "id": "896a7f42",
   "metadata": {},
   "source": [
    "### Números de punto flotante.\n",
    "También hemos hecho uso de la clase `sympy.Float` para definir números de punto flotante específicos. Como en el caso de la clase `sympy.Integer`, `sympy.Float` también permite generar números con precisión arbitraria (en este caso, representada por un número arbitrario de decimales). Cuando creamos una instancia de `sympy.Float` usando su constructor correspondiente, usualmente imputamos dos entradas: La primera es un número de punto flotante (escrito en Python) o un string que representa un número de punto flotante, y la segunda (que es opcional) corresponde a la precisión (número de decimales significativos) del objeto a instanciar. Por ejemplo, sabemos que el número real 0.8 no puede ser representado de manera exacta por medio de un número de punto flotante de tamaño fijo, y cuando imprimimos en pantalla 0.8 con 25 dígitos decimales significativos, este número se muestra como 0.8000000000000000444089210. La clase `sympy.Float` puede representar números reales sin estos problemas:"
   ]
  },
  {
   "cell_type": "code",
   "execution_count": 31,
   "id": "457e4aef",
   "metadata": {},
   "outputs": [
    {
     "data": {
      "text/plain": [
       "'0.8000000000000000444089210'"
      ]
     },
     "execution_count": 31,
     "metadata": {},
     "output_type": "execute_result"
    }
   ],
   "source": [
    "# Representación de punto flotante del número 0.8 con 25 dígitos decimales significativos.\n",
    "\"%.25f\" % 0.8"
   ]
  },
  {
   "cell_type": "code",
   "execution_count": 32,
   "id": "0ccd8569",
   "metadata": {},
   "outputs": [
    {
     "data": {
      "image/png": "[encoded data removed]",
      "text/latex": [
       "$\\displaystyle 0.8$"
      ],
      "text/plain": [
       "0.8000000"
      ]
     },
     "execution_count": 32,
     "metadata": {},
     "output_type": "execute_result"
    }
   ],
   "source": [
    "# Representación de punto flotante del número 0.8 en Sympy con 25 dígitos decimales significativos.\n",
    "sympy.Float(\"0.8\", precision=25)"
   ]
  },
  {
   "cell_type": "markdown",
   "id": "5f5343db",
   "metadata": {},
   "source": [
    "### Números racionales.\n",
    "Un número racional corresponde a una fracción del tipo $p/q$, donde $p, q\\in \\mathbb{Z}$ y $q\\neq 0$. **Sympy** representa este tipo de números usando la clase `sympy.Rational`. Los números racionales pueden crearse de forma explícita especificando el numerador y denominador respectivo:"
   ]
  },
  {
   "cell_type": "code",
   "execution_count": 33,
   "id": "67a30d03",
   "metadata": {},
   "outputs": [
    {
     "data": {
      "image/png": "[encoded data removed]",
      "text/latex": [
       "$\\displaystyle \\frac{1}{3}$"
      ],
      "text/plain": [
       "1/3"
      ]
     },
     "execution_count": 33,
     "metadata": {},
     "output_type": "execute_result"
    }
   ],
   "source": [
    "# Creación de un número racional en Sympy.\n",
    "sympy.Rational(1, 3)"
   ]
  },
  {
   "cell_type": "markdown",
   "id": "120d96cd",
   "metadata": {},
   "source": [
    "Es posible que existan operaciones en **Sympy** que den como resultado números racionales:"
   ]
  },
  {
   "cell_type": "code",
   "execution_count": 34,
   "id": "db94ee53",
   "metadata": {},
   "outputs": [],
   "source": [
    "# Creamos un par de números racionales.\n",
    "r1 = sympy.Rational(1, 4)\n",
    "r2 = sympy.Rational(3, 24)"
   ]
  },
  {
   "cell_type": "code",
   "execution_count": 35,
   "id": "a235a947",
   "metadata": {},
   "outputs": [
    {
     "data": {
      "image/png": "[encoded data removed]",
      "text/latex": [
       "$\\displaystyle \\frac{1}{32}$"
      ],
      "text/plain": [
       "1/32"
      ]
     },
     "execution_count": 35,
     "metadata": {},
     "output_type": "execute_result"
    }
   ],
   "source": [
    "# Al operar con ellos, el resultado es otro número racional (simplificado).\n",
    "r1 * r2"
   ]
  },
  {
   "cell_type": "code",
   "execution_count": 36,
   "id": "0fdacd32",
   "metadata": {},
   "outputs": [
    {
     "data": {
      "image/png": "[encoded data removed]",
      "text/latex": [
       "$\\displaystyle 2$"
      ],
      "text/plain": [
       "2"
      ]
     },
     "execution_count": 36,
     "metadata": {},
     "output_type": "execute_result"
    }
   ],
   "source": [
    "# Y, a veces, un entero.\n",
    "r1 / r2"
   ]
  },
  {
   "cell_type": "markdown",
   "id": "6621f0ef",
   "metadata": {},
   "source": [
    "### Constantes y símbolos especiales.\n",
    "**Sympy** nos provee de símbolos predefinidos para varias constantes matemáticas y objetos matemáticos especiales, tales como la unidad imaginaria ($i$) o el símbolo infinito ($\\infty$). Estos objetos se resumen en la Tabla (2.2), junto con sus correspondientes símbolos en **Sympy**. Notemos que, en particular, la unidad imaginaria se escribe como `I` en **Sympy** (y no como `i`, como cabría esperar).\n",
    "\n",
    "</p> <p style=\"text-align: center;\">Tabla (2.2): Algunas constantes matemáticas y símbolos especiales y sus correspondientes definiciones en Sympy</p>\n",
    "\n",
    "| Símbolo matemático | Símbolo en **Sympy** | Descripción |\n",
    "| :----------------- | :------------------- | :---------- |\n",
    "| $\\pi$ | `sympi.pi` | Razon entre el perímetro y el diámetro de una circunferencia. |\n",
    "| $e$ | `sympy.E` | Base del logaritmo natural ($\\log{e}=1$). |\n",
    "| $\\gamma$ | `sympy.EulerGamma` | Constante de Euler-Mascheroni: $\\gamma =\\displaystyle \\lim_{n\\rightarrow +\\infty } \\left[ \\sum^{n}_{k=1} \\frac{1}{k} -\\log \\left( n\\right)  \\right]  =\\int^{+\\infty }_{1} \\left( \\frac{1}{\\left\\lfloor x\\right\\rfloor  } -\\frac{1}{x} \\right)  dx$. |\n",
    "| $i$ | `sympy.I` | Unidad imaginaria: $i=\\sqrt{-1}$. |\n",
    "| $\\infty$ | `sympy.oo` | Símbolo que designa una cantidad infinitamente grande. |\n",
    "\n",
    "## Funciones.\n",
    "En **Sympy**, los objetos que representan funciones pueden ser creados mediante la clase `sympy.Function`. Como en el caso de `sympy.Symbol`, este objeto toma un nombre como primer argumento. **Sympy** distingue entre funciones definidas y no definidas, así como aplicadas y no aplicadas. La creación de una función mediante la clase `sympy.Function` resulta en una función abstracta (no definida) y no aplicada, que tiene un nombre, pero no puede ser evaluada porque su correspondiente expresión (o fórmula) no está definida. Una función de **Sympy** así definida puede representar una función arbitraria con un número también arbitrario de variables de entrada, ya que ésta no se ha aplicado sobre ningún símbolo o variable en particular. Una función no aplicada puede aplicarse sobre un conjunto de símbolos de entrada que representan el dominio de la misma, llamando a la instancia de dicha función con esos símbolos como argumentos. El resultado de ésto sigue siendo una función que no ha sido evaluada, pero ya fue aplicada al conjunto de variables de entrada especificadas, y por tanto cuenta con un set de variables dependientes. Como ejemplo de estos conceptos, consideremos el siguiente bloque de código:"
   ]
  },
  {
   "cell_type": "code",
   "execution_count": 37,
   "id": "204bacde",
   "metadata": {},
   "outputs": [],
   "source": [
    "# Definimos una tripleta de variables simbólicas de Sympy.\n",
    "x, y, z = sympy.symbols(\"x, y, z\")"
   ]
  },
  {
   "cell_type": "code",
   "execution_count": 38,
   "id": "84f97d66",
   "metadata": {},
   "outputs": [],
   "source": [
    "# Definimos una función (abstracta) de estas tres variables,\n",
    "f = sympy.Function(\"f\")"
   ]
  },
  {
   "cell_type": "code",
   "execution_count": 39,
   "id": "5b4c3b74",
   "metadata": {},
   "outputs": [
    {
     "data": {
      "text/plain": [
       "sympy.core.function.UndefinedFunction"
      ]
     },
     "execution_count": 39,
     "metadata": {},
     "output_type": "execute_result"
    }
   ],
   "source": [
    "# Verificamos el tipo de objeto que es f.\n",
    "type(f)"
   ]
  },
  {
   "cell_type": "code",
   "execution_count": 40,
   "id": "d12139bd",
   "metadata": {},
   "outputs": [
    {
     "data": {
      "image/png": "[encoded data removed]",
      "text/latex": [
       "$\\displaystyle f{\\left(x \\right)}$"
      ],
      "text/plain": [
       "f(x)"
      ]
     },
     "execution_count": 40,
     "metadata": {},
     "output_type": "execute_result"
    }
   ],
   "source": [
    "# Correspondencia de f con uno de sus argumentos (en este caso, x).\n",
    "f(x)"
   ]
  },
  {
   "cell_type": "code",
   "execution_count": 41,
   "id": "cea5abe0",
   "metadata": {},
   "outputs": [],
   "source": [
    "# Asignación de variables de entrada a una función g.\n",
    "g = sympy.Function(\"g\")(x, y, z)"
   ]
  },
  {
   "cell_type": "code",
   "execution_count": 42,
   "id": "bd018b52",
   "metadata": {},
   "outputs": [
    {
     "data": {
      "image/png": "[encoded data removed]",
      "text/latex": [
       "$\\displaystyle g{\\left(x,y,z \\right)}$"
      ],
      "text/plain": [
       "g(x, y, z)"
      ]
     },
     "execution_count": 42,
     "metadata": {},
     "output_type": "execute_result"
    }
   ],
   "source": [
    "# Correspondencia de estas variables de entrada con respecto a la función g.\n",
    "g"
   ]
  },
  {
   "cell_type": "code",
   "execution_count": 43,
   "id": "e72662b7",
   "metadata": {},
   "outputs": [
    {
     "data": {
      "image/png": "[encoded data removed]",
      "text/latex": [
       "$\\displaystyle \\left\\{x, y, z\\right\\}$"
      ],
      "text/plain": [
       "{x, y, z}"
      ]
     },
     "execution_count": 43,
     "metadata": {},
     "output_type": "execute_result"
    }
   ],
   "source": [
    "# Verificamos las variables (libres) de entrada de la función g.\n",
    "g.free_symbols"
   ]
  },
  {
   "cell_type": "markdown",
   "id": "0500c187",
   "metadata": {},
   "source": [
    "En el bloque de código anterior hemos usado el atributo `free_symbols`, el cual retorna un conjunto de símbolos únicos que están contenidos en una expresión dada (en este caso, la función aplicada, no definida, `g`), a fin de demostrar que una función aplicada indudablemente está asociada con un conjunto específico de variables simbólicas de entrada. Más adelante daremos sentido a la importancia de este hecho, cuando consideremos derivadas de funciones abstractas. Una aplicación importante de las funciones de este tipo estriba en la especificación de ecuaciones diferenciales o, en palabras más sencillas, cuando una ecuación para una función es conocida, pero la función en sí misma no lo es.\n",
    "\n",
    "En contraste con las funciones no definidas, una función definida es una función tal que ésta posee una implementación específica y que puede ser evaluada numéricamente para todo parámetro de entrada válido. **Sympy** dispone de funciones nativas para muchas funciones matemáticas estándar (por ejemplo, hay módulos tales como `sympy.functions.elementary` y `sympy.functions.special`) que pueden aplicarse de manera sencilla:"
   ]
  },
  {
   "cell_type": "code",
   "execution_count": 44,
   "id": "2de539f7",
   "metadata": {},
   "outputs": [
    {
     "data": {
      "text/plain": [
       "cos"
      ]
     },
     "execution_count": 44,
     "metadata": {},
     "output_type": "execute_result"
    }
   ],
   "source": [
    "# La función coseno aplicada desde Sympy.\n",
    "sympy.cos"
   ]
  },
  {
   "cell_type": "code",
   "execution_count": 45,
   "id": "53c82bec",
   "metadata": {},
   "outputs": [
    {
     "data": {
      "text/plain": [
       "cos"
      ]
     },
     "execution_count": 45,
     "metadata": {},
     "output_type": "execute_result"
    }
   ],
   "source": [
    "# Y también desde el módulo scipy.functions.elementary.\n",
    "sympy.functions.elementary.trigonometric.cos"
   ]
  },
  {
   "cell_type": "code",
   "execution_count": 46,
   "id": "af8a6dcf",
   "metadata": {},
   "outputs": [
    {
     "data": {
      "image/png": "[encoded data removed]",
      "text/latex": [
       "$\\displaystyle \\cos{\\left(x \\right)}$"
      ],
      "text/plain": [
       "cos(x)"
      ]
     },
     "execution_count": 46,
     "metadata": {},
     "output_type": "execute_result"
    }
   ],
   "source": [
    "# Función coseno completamente abstracta.\n",
    "sympy.cos(x)"
   ]
  },
  {
   "cell_type": "code",
   "execution_count": 47,
   "id": "d6b171f8",
   "metadata": {},
   "outputs": [
    {
     "data": {
      "image/png": "[encoded data removed]",
      "text/latex": [
       "$\\displaystyle \\frac{\\sqrt{2}}{2}$"
      ],
      "text/plain": [
       "√2\n",
       "──\n",
       "2 "
      ]
     },
     "execution_count": 47,
     "metadata": {},
     "output_type": "execute_result"
    }
   ],
   "source": [
    "# Función coseno evaluada directamente sobre un valor determinado.\n",
    "sympy.cos(sympy.pi / 4)"
   ]
  },
  {
   "cell_type": "markdown",
   "id": "d368350b",
   "metadata": {},
   "source": [
    "Cuando se aplica sobre un símbolo abstracto, como `x`, la función `sympy.cos()` conforma una función que no ha sido evaluada, pero cuando es posible, se puede evaluar sobre algún valor numérico específico:"
   ]
  },
  {
   "cell_type": "code",
   "execution_count": 48,
   "id": "f4e63191",
   "metadata": {},
   "outputs": [],
   "source": [
    "# Definimos una variable entera n.\n",
    "n = sympy.Symbol(\"n\", integer=True)"
   ]
  },
  {
   "cell_type": "code",
   "execution_count": 49,
   "id": "cef420f1",
   "metadata": {},
   "outputs": [
    {
     "data": {
      "image/png": "[encoded data removed]",
      "text/latex": [
       "$\\displaystyle \\left(-1\\right)^{n}$"
      ],
      "text/plain": [
       "    n\n",
       "(-1) "
      ]
     },
     "execution_count": 49,
     "metadata": {},
     "output_type": "execute_result"
    }
   ],
   "source": [
    "# Calculamos el valor de la función coseno evaluada sobre un múltiplo n de sympy.pi/2.\n",
    "sympy.cos(sympy.pi * n)"
   ]
  },
  {
   "cell_type": "markdown",
   "id": "ec58e479",
   "metadata": {},
   "source": [
    "Un tercer tipo de función en **Sympy** corresponde a las funciones de tipo lambda, o funciones anónimas, en un sentido similar al de las funciones `lambda` en Python. Estas funciones son anónimas porque no tienen un nombre asignado, pero sí tienen un cuerpo bien definido que podemos evaluar. Este tipo de funciones se definen por medio de la clase `sympy.Lambda`:"
   ]
  },
  {
   "cell_type": "code",
   "execution_count": 50,
   "id": "03626a7e",
   "metadata": {},
   "outputs": [],
   "source": [
    "# Una función anónima en Sympy.\n",
    "h = sympy.Lambda(x, 1 + x**2)"
   ]
  },
  {
   "cell_type": "code",
   "execution_count": 51,
   "id": "e33740be",
   "metadata": {},
   "outputs": [
    {
     "data": {
      "image/png": "[encoded data removed]",
      "text/latex": [
       "$\\displaystyle \\left( x \\mapsto x^{2} + 1 \\right)$"
      ],
      "text/plain": [
       "     2    \n",
       "x ↦ x  + 1"
      ]
     },
     "execution_count": 51,
     "metadata": {},
     "output_type": "execute_result"
    }
   ],
   "source": [
    "# Mostramos en pantalla esta función.\n",
    "h"
   ]
  },
  {
   "cell_type": "code",
   "execution_count": 52,
   "id": "c426020c",
   "metadata": {},
   "outputs": [
    {
     "data": {
      "image/png": "[encoded data removed]",
      "text/latex": [
       "$\\displaystyle 37$"
      ],
      "text/plain": [
       "37"
      ]
     },
     "execution_count": 52,
     "metadata": {},
     "output_type": "execute_result"
    }
   ],
   "source": [
    "# Evaluamos esta función en x = 6.\n",
    "h(6)"
   ]
  },
  {
   "cell_type": "code",
   "execution_count": 53,
   "id": "012b3944",
   "metadata": {},
   "outputs": [
    {
     "data": {
      "image/png": "[encoded data removed]",
      "text/latex": [
       "$\\displaystyle 1 + \\frac{1}{\\left(x^{2} - 1\\right)^{2}}$"
      ],
      "text/plain": [
       "        1    \n",
       "1 + ─────────\n",
       "            2\n",
       "    ⎛ 2    ⎞ \n",
       "    ⎝x  - 1⎠ "
      ]
     },
     "execution_count": 53,
     "metadata": {},
     "output_type": "execute_result"
    }
   ],
   "source": [
    "# Generamos una composición.\n",
    "h(1 / (x**2 - 1))"
   ]
  },
  {
   "cell_type": "markdown",
   "id": "4d20ce47",
   "metadata": {},
   "source": [
    "## Expresiones.\n",
    "Los símbolos y objetos que hemos introducido previamente constituyen los bloques fundamentales necesarios para formular expresiones matemáticas. En **Sympy**, las expresiones matemáticas se representan por medio de árboles donde las hojas son los símbolos y los nodos son instancias de clases que representan operaciones matemáticas. Algunos ejemplos de estas clases son `sympy.Add`, `sympy.Mul` y `sympy.Pow`, y que corresponden a las operaciones básicas de suma, multiplicación y exponenciación. Otros ejemplos de operaciones analíticas de mayor complejidad son `sympy.Sum`, `sympy.Product`, `sympy.Integral` y `sympy.Derivative`, que corresponden a la sumatoria, producto, integrales y derivadas.\n",
    "\n",
    "Consideremos, por ejemplo, la expresión matemática $1+2x^{2}+3x^{3}$. Para representar dicha expresión en **Sympy**, simplemente creamos el símbolo $x$ y luego escribimos esta expresión por medio de un código de Python sencillo:"
   ]
  },
  {
   "cell_type": "code",
   "execution_count": 54,
   "id": "08911abe",
   "metadata": {},
   "outputs": [],
   "source": [
    "# Creamos la variable simbólica x.\n",
    "x = sympy.Symbol(\"x\")"
   ]
  },
  {
   "cell_type": "code",
   "execution_count": 55,
   "id": "980208f0",
   "metadata": {},
   "outputs": [],
   "source": [
    "# Construimos nuestra expresión.\n",
    "d = 1 + 2 * x**2 + 3 * x**3"
   ]
  },
  {
   "cell_type": "code",
   "execution_count": 56,
   "id": "cf90549c",
   "metadata": {},
   "outputs": [
    {
     "data": {
      "image/png": "[encoded data removed]",
      "text/latex": [
       "$\\displaystyle 3 x^{3} + 2 x^{2} + 1$"
      ],
      "text/plain": [
       "   3      2    \n",
       "3⋅x  + 2⋅x  + 1"
      ]
     },
     "execution_count": 56,
     "metadata": {},
     "output_type": "execute_result"
    }
   ],
   "source": [
    "# Mostramos en pantalla nuestra expresión.\n",
    "d"
   ]
  },
  {
   "cell_type": "markdown",
   "id": "da069fbd",
   "metadata": {},
   "source": [
    "En el código anterior, la expresión `d` es una instancia de `sympy.Add` constituida por las subexpresiones `1`, `2 * x**2` y `3 * x**3`. El árbol de cómputo que representa esta expresión se ilustra en la Fig. (2.1). Notemos que no es necesario construir de manera explícita este árbol, ya que éste se genera de manera automática a partir de la expresión y sus correspondientes operadores. Sin embargo, para entender cómo **Sympy** trabaja las expresiones matemáticas, es importante saber cómo éstas se representan.\n",
    "\n",
    "<p style=\"text-align: center;\"><img src=\"figures/fig_2_1.png\" width=\"600\"></p>\n",
    "<p style=\"text-align: center;\">Fig. (2.1): Árbol que representa la expresión del bloque de código anterior</p>\n",
    "\n",
    "Cualquier árbol de cómputo puede recorrerse explícitamente usando el atributo `args`, y que es provisto por todos los símbolos y operadores de **Sympy**. Para el caso de un operador, el atributo `args` retorna una tupla de subexpresiones que se combinan conforme la regla implementada por la clase que define al correspondiente operador. Para el caso de un símbolo, el atributo `args` retorna una tupla vacía, lo que significa que éste representa una hoja en un árbol de cómputo.\n",
    "\n",
    "En el siguiente bloque de código se muestra como podemos acceder de manera explícita a un árbol de cómputo:"
   ]
  },
  {
   "cell_type": "code",
   "execution_count": 57,
   "id": "2dc0add0",
   "metadata": {},
   "outputs": [
    {
     "data": {
      "image/png": "[encoded data removed]",
      "text/latex": [
       "$\\displaystyle \\left( 1, \\  2 x^{2}, \\  3 x^{3}\\right)$"
      ],
      "text/plain": [
       "⎛      2     3⎞\n",
       "⎝1, 2⋅x , 3⋅x ⎠"
      ]
     },
     "execution_count": 57,
     "metadata": {},
     "output_type": "execute_result"
    }
   ],
   "source": [
    "# Todos los elementos del árbol.\n",
    "d.args"
   ]
  },
  {
   "cell_type": "code",
   "execution_count": 58,
   "id": "51972c36",
   "metadata": {},
   "outputs": [
    {
     "data": {
      "image/png": "[encoded data removed]",
      "text/latex": [
       "$\\displaystyle 2 x^{2}$"
      ],
      "text/plain": [
       "   2\n",
       "2⋅x "
      ]
     },
     "execution_count": 58,
     "metadata": {},
     "output_type": "execute_result"
    }
   ],
   "source": [
    "# Segunda expresión.\n",
    "d.args[1]"
   ]
  },
  {
   "cell_type": "code",
   "execution_count": 59,
   "id": "cc088f34",
   "metadata": {},
   "outputs": [
    {
     "data": {
      "image/png": "[encoded data removed]",
      "text/latex": [
       "$\\displaystyle \\left( 2, \\  x^{2}\\right)$"
      ],
      "text/plain": [
       "⎛    2⎞\n",
       "⎝2, x ⎠"
      ]
     },
     "execution_count": 59,
     "metadata": {},
     "output_type": "execute_result"
    }
   ],
   "source": [
    "# Subexpresiones que conforman la expresión anterior.\n",
    "d.args[1].args"
   ]
  },
  {
   "cell_type": "code",
   "execution_count": 60,
   "id": "ca4986f9",
   "metadata": {},
   "outputs": [
    {
     "data": {
      "image/png": "[encoded data removed]",
      "text/latex": [
       "$\\displaystyle \\left( x, \\  2\\right)$"
      ],
      "text/plain": [
       "(x, 2)"
      ]
     },
     "execution_count": 60,
     "metadata": {},
     "output_type": "execute_result"
    }
   ],
   "source": [
    "# Subexpresiones de la segunda subexpresión anterior.\n",
    "d.args[1].args[1].args"
   ]
  },
  {
   "cell_type": "code",
   "execution_count": 61,
   "id": "7b4cb7f7",
   "metadata": {},
   "outputs": [
    {
     "data": {
      "image/png": "[encoded data removed]",
      "text/latex": [
       "$\\displaystyle \\left( \\right)$"
      ],
      "text/plain": [
       "()"
      ]
     },
     "execution_count": 61,
     "metadata": {},
     "output_type": "execute_result"
    }
   ],
   "source": [
    "# Las expresiones anteriores constituyen hojas del árbol completo.\n",
    "d.args[1].args[1].args[1].args"
   ]
  },
  {
   "cell_type": "markdown",
   "id": "539790fe",
   "metadata": {},
   "source": [
    "En el uso común de **Sympy**, raramente será necesario manipular de forma explícita árboles de cómputo, pero cuando los métodos que permiten la manipulación de expresiones completas, y que veremos a continuación, no sean suficientes a la hora de resolver un problema, será útil implementar funciones definidas por nosotros que naveguen por los árboles de cómputo y permitan manipularlo, usando el argumento `args`.\n",
    "\n",
    "## Manipulación de expresiones.\n",
    "La manipulación de árboles de cómputo es uno de los trabajos fundamentales de **Sympy**, existiendo una amplia gama de funciones disponibles para la implementación de varios tipos de transformaciones. La idea general es que los árboles subyacentes pueden ser transformados en objetos matemáticamente equivalentes por medio de simplificaciones y reescritura de funciones. Tales funciones, en general, crean nuevas expresiones modificadas a partir de las originales. De esta manera, es buena idea considerar a las expresiones de **Sympy** como objetos inmutables. De hecho, ese será el caso para todas las funciones que estudiaremos en esta sección y que interactuarán con expresiones de **Sympy**, retornando nuevos árboles de cómputo en vez de modificar los existentes.\n",
    "\n",
    "### Simplificaciones.\n",
    "La manipulación que más nos interesa implementar sobre una expresión matemática corresponde a la simplificación. Esta es, quizás, la operación más ambigua de todas las que podemos realizar, debido a que no es nada trivial el determinar, de forma algorítmica, si una expresión parece ser (o *es*) más simple que otra para un ser humano, y en general, no es muy obvio qué metodo(s) emplear para llegar a una expresión más simple. No obstante, la simplificación de tipo *black-box* de cualquier sistema de álgebra computacional, y **Sympy** incluye la función `sympy.simplify()`, que tiene como objetivo *intentar* simplificar una expresión dada utilizando una variedad de métodos y enfoques. La función de simplificación también puede invocarse por medio del método `simplify()`, como se ilustra en el siguiente ejemplo:"
   ]
  },
  {
   "cell_type": "code",
   "execution_count": 62,
   "id": "30860ab1",
   "metadata": {},
   "outputs": [],
   "source": [
    "# Definimos una expresión.\n",
    "d = 2 * (x**2 - x) - x * (x + 1)"
   ]
  },
  {
   "cell_type": "code",
   "execution_count": 63,
   "id": "a787f879",
   "metadata": {},
   "outputs": [
    {
     "data": {
      "image/png": "[encoded data removed]",
      "text/latex": [
       "$\\displaystyle 2 x^{2} - x \\left(x + 1\\right) - 2 x$"
      ],
      "text/plain": [
       "   2                  \n",
       "2⋅x  - x⋅(x + 1) - 2⋅x"
      ]
     },
     "execution_count": 63,
     "metadata": {},
     "output_type": "execute_result"
    }
   ],
   "source": [
    "# Mostramos en pantalla esta expresión.\n",
    "d"
   ]
  },
  {
   "cell_type": "code",
   "execution_count": 64,
   "id": "64ea64e9",
   "metadata": {},
   "outputs": [
    {
     "data": {
      "image/png": "[encoded data removed]",
      "text/latex": [
       "$\\displaystyle x \\left(x - 3\\right)$"
      ],
      "text/plain": [
       "x⋅(x - 3)"
      ]
     },
     "execution_count": 64,
     "metadata": {},
     "output_type": "execute_result"
    }
   ],
   "source": [
    "# Simplificamos dicha expresión.\n",
    "sympy.simplify(d)"
   ]
  },
  {
   "cell_type": "code",
   "execution_count": 65,
   "id": "e1ae83b5",
   "metadata": {},
   "outputs": [
    {
     "data": {
      "image/png": "[encoded data removed]",
      "text/latex": [
       "$\\displaystyle 2 x^{2} - x \\left(x + 1\\right) - 2 x$"
      ],
      "text/plain": [
       "   2                  \n",
       "2⋅x  - x⋅(x + 1) - 2⋅x"
      ]
     },
     "execution_count": 65,
     "metadata": {},
     "output_type": "execute_result"
    }
   ],
   "source": [
    "# Notemos que la expresión anterior no se ha alterado.\n",
    "d"
   ]
  },
  {
   "cell_type": "markdown",
   "id": "fa5f1867",
   "metadata": {},
   "source": [
    "Notemos que ambos, `sympy.simplify(d)` y `d.simplify()` retornan nuevos árboles de cómputo y no modifican en absoluto la expresión original definida por `d`, como mencionamios previamente. En este ejemplo, la expresión `d` puede simplificarse expandiendo los productos involucrados, cancelando términos y luego factorizando nuevamente la expresión. En general, la función `sympy.simplify()` *intentará* aplicar diversas estrategias de simplificación y, también, será capaz de simplificar expresiones que contengan funciones potenciales y trigonométricas. Por ejemplo:"
   ]
  },
  {
   "cell_type": "code",
   "execution_count": 66,
   "id": "12fba871",
   "metadata": {},
   "outputs": [],
   "source": [
    "# Definimos una nueva expresión.\n",
    "e = 2 * sympy.cos(x) * sympy.sin(x)"
   ]
  },
  {
   "cell_type": "code",
   "execution_count": 67,
   "id": "747f6de7",
   "metadata": {},
   "outputs": [
    {
     "data": {
      "image/png": "[encoded data removed]",
      "text/latex": [
       "$\\displaystyle 2 \\sin{\\left(x \\right)} \\cos{\\left(x \\right)}$"
      ],
      "text/plain": [
       "2⋅sin(x)⋅cos(x)"
      ]
     },
     "execution_count": 67,
     "metadata": {},
     "output_type": "execute_result"
    }
   ],
   "source": [
    "# Mostramos esta expresión en pantalla.\n",
    "e"
   ]
  },
  {
   "cell_type": "code",
   "execution_count": 68,
   "id": "df8e16ef",
   "metadata": {},
   "outputs": [
    {
     "data": {
      "image/png": "[encoded data removed]",
      "text/latex": [
       "$\\displaystyle \\sin{\\left(2 x \\right)}$"
      ],
      "text/plain": [
       "sin(2⋅x)"
      ]
     },
     "execution_count": 68,
     "metadata": {},
     "output_type": "execute_result"
    }
   ],
   "source": [
    "# Simplificamos dicha expresión.\n",
    "sympy.simplify(e)"
   ]
  },
  {
   "cell_type": "code",
   "execution_count": 69,
   "id": "5e4f7956",
   "metadata": {},
   "outputs": [],
   "source": [
    "# Definimos una nueva expresión.\n",
    "f = sympy.exp(x) * sympy.exp(y)"
   ]
  },
  {
   "cell_type": "code",
   "execution_count": 70,
   "id": "6f92f5a4",
   "metadata": {},
   "outputs": [
    {
     "data": {
      "image/png": "[encoded data removed]",
      "text/latex": [
       "$\\displaystyle e^{x} e^{y}$"
      ],
      "text/plain": [
       " x  y\n",
       "ℯ ⋅ℯ "
      ]
     },
     "execution_count": 70,
     "metadata": {},
     "output_type": "execute_result"
    }
   ],
   "source": [
    "# Mostramos esta expresión en pantalla.\n",
    "f"
   ]
  },
  {
   "cell_type": "code",
   "execution_count": 71,
   "id": "db93299c",
   "metadata": {},
   "outputs": [
    {
     "data": {
      "image/png": "[encoded data removed]",
      "text/latex": [
       "$\\displaystyle e^{x + y}$"
      ],
      "text/plain": [
       " x + y\n",
       "ℯ     "
      ]
     },
     "execution_count": 71,
     "metadata": {},
     "output_type": "execute_result"
    }
   ],
   "source": [
    "# Simplificamos dicha expresión.\n",
    "sympy.simplify(f)"
   ]
  },
  {
   "cell_type": "markdown",
   "id": "fc36da7f",
   "metadata": {},
   "source": [
    "Cada tipo de simplificación puede ser llevada a cabo mediante el uso de funciones más especializadas, tales como `sympy.trigsimp()` o `sympy.powsimp()`, para expresiones compuestas de funciones trigonométricas y potenciales/exponenciales, respectivamente. Estas funciones únicamente intervienen con subexpresiones del tipo asociado a la correspondiente simplificación. Un resumen de estas funciones de simplificación específicas para un determinado tipo de función (elemental, trascendente, algebraica, etc.) se muestra en la Tabla (2.3).\n",
    "\n",
    "</p> <p style=\"text-align: center;\">Tabla (2.3): Algunas funciones específicas de simplificación de Sympy</p>\n",
    "\n",
    "| Función            | Descripción |\n",
    "| :----------------- | :---------- |\n",
    "| `sympy.simplify()` | Intenta aplicar varios métodos de simplificación para obtener una forma reducida de una expresión dada. |\n",
    "| `sympy.trigsimp()` | Intenta simplificar una expresión por medio de identidades trigonométricas. |\n",
    "| `sympy.powsimp()`  | Intenta simplificar una expresión por medio de la aplicación de leyes de potencias. |\n",
    "| `sympy.compsimp()` | Intenta simplificar una expresión por medio de la aplicación de identidades combinatorias. |\n",
    "| `sympy.ratsimp()`  | Intenta simplificar una expresión por medio del uso denominadores comunes. |\n",
    "\n",
    "### Expansiones.\n",
    "Cuando la simplificación de tipo black-box provista por la función `sympy.simplify()` no produce resultados satisfactorios, con frecuencia es posible conseguir progresos guiando manualmente a **Sympy** para que utilice operaciones algebraicas específicas. Una herramienta importante en este proceso es la expansión de ciertas expresiones de diversas maneras. La función `sympy.expand()` permite generar varios tipos de expansiones, dependiendo de los valores de algunos argumentos propios de esta función. Por defecto, `sympy.expand()` distribuye sumas con respecto a multiplicaciones, construyendo expresiones totalmente desarrolladas. Por ejemplo, un producto de binomios como $(x+1)(x+2)$ puede expandirse a $x^{2}+3x+2$ en **Sympy** como sigue:"
   ]
  },
  {
   "cell_type": "code",
   "execution_count": 72,
   "id": "9d816f9e",
   "metadata": {},
   "outputs": [],
   "source": [
    "# Construimos la expresión anterior.\n",
    "h = (x + 1) * (x + 2)"
   ]
  },
  {
   "cell_type": "code",
   "execution_count": 73,
   "id": "7d859b35",
   "metadata": {},
   "outputs": [
    {
     "data": {
      "image/png": "[encoded data removed]",
      "text/latex": [
       "$\\displaystyle x^{2} + 3 x + 2$"
      ],
      "text/plain": [
       " 2          \n",
       "x  + 3⋅x + 2"
      ]
     },
     "execution_count": 73,
     "metadata": {},
     "output_type": "execute_result"
    }
   ],
   "source": [
    "# Y la expandimos algebraicamente.\n",
    "sympy.expand(h)"
   ]
  },
  {
   "cell_type": "markdown",
   "id": "6e01b41b",
   "metadata": {},
   "source": [
    "Uno de los argumentos de la función `sympy.expand()` es `mul`, el cual corresponde a un valor Booleano que permite establecer si expandiremos productos existentes en las correspondientes expresiones (como en el ejemplo anterior). Por otro lado, el argumento Booleano `trig` permite expandir expresiones trigonométricas:"
   ]
  },
  {
   "cell_type": "code",
   "execution_count": 74,
   "id": "01c2d520",
   "metadata": {},
   "outputs": [],
   "source": [
    "# Una expresión trigonométrica.\n",
    "g = sympy.tan(x + y)"
   ]
  },
  {
   "cell_type": "code",
   "execution_count": 75,
   "id": "31f82be0",
   "metadata": {},
   "outputs": [
    {
     "data": {
      "image/png": "[encoded data removed]",
      "text/latex": [
       "$\\displaystyle \\frac{\\tan{\\left(x \\right)}}{- \\tan{\\left(x \\right)} \\tan{\\left(y \\right)} + 1} + \\frac{\\tan{\\left(y \\right)}}{- \\tan{\\left(x \\right)} \\tan{\\left(y \\right)} + 1}$"
      ],
      "text/plain": [
       "      tan(x)               tan(y)      \n",
       "────────────────── + ──────────────────\n",
       "-tan(x)⋅tan(y) + 1   -tan(x)⋅tan(y) + 1"
      ]
     },
     "execution_count": 75,
     "metadata": {},
     "output_type": "execute_result"
    }
   ],
   "source": [
    "# Intentamos expandir esta expresión.\n",
    "sympy.expand(g, trig=True)"
   ]
  },
  {
   "cell_type": "markdown",
   "id": "1a4ede72",
   "metadata": {},
   "source": [
    "También disponemos del argumento Booleano `log`, válido para expresiones logarítmicas:"
   ]
  },
  {
   "cell_type": "code",
   "execution_count": 76,
   "id": "5a805c50",
   "metadata": {},
   "outputs": [],
   "source": [
    "# Definimos primeramente un par de símbolos.\n",
    "alpha, beta, gamma, delta = sympy.symbols(r\"\\alpha, \\beta, \\gamma, \\delta\", positive=True)"
   ]
  },
  {
   "cell_type": "code",
   "execution_count": 77,
   "id": "fb1d27c4",
   "metadata": {},
   "outputs": [],
   "source": [
    "# Una expresión logarítmica.\n",
    "h = sympy.log((alpha**gamma)*beta) + sympy.log(sympy.sqrt(delta))"
   ]
  },
  {
   "cell_type": "code",
   "execution_count": 78,
   "id": "13b9e7df",
   "metadata": {},
   "outputs": [
    {
     "data": {
      "image/png": "[encoded data removed]",
      "text/latex": [
       "$\\displaystyle \\log{\\left(\\sqrt{\\delta} \\right)} + \\log{\\left(\\alpha^{\\gamma} \\beta \\right)}$"
      ],
      "text/plain": [
       "   ⎛  ________⎞      ⎛      \\gamma      ⎞\n",
       "log⎝╲╱ \\delta ⎠ + log⎝\\alpha      ⋅\\beta⎠"
      ]
     },
     "execution_count": 78,
     "metadata": {},
     "output_type": "execute_result"
    }
   ],
   "source": [
    "# Mostramos en pantalla esta expresión.\n",
    "h"
   ]
  },
  {
   "cell_type": "code",
   "execution_count": 79,
   "id": "50357070",
   "metadata": {},
   "outputs": [
    {
     "data": {
      "image/png": "[encoded data removed]",
      "text/latex": [
       "$\\displaystyle \\gamma \\log{\\left(\\alpha \\right)} + \\log{\\left(\\beta \\right)} + \\frac{\\log{\\left(\\delta \\right)}}{2}$"
      ],
      "text/plain": [
       "                                  log(\\delta)\n",
       "\\gamma⋅log(\\alpha) + log(\\beta) + ───────────\n",
       "                                       2     "
      ]
     },
     "execution_count": 79,
     "metadata": {},
     "output_type": "execute_result"
    }
   ],
   "source": [
    "# Intentamos expandir esta expresión.\n",
    "sympy.expand(h, log=True)"
   ]
  },
  {
   "cell_type": "markdown",
   "id": "e1abd1fc",
   "metadata": {},
   "source": [
    "También es posible usar el argumento Booleano `complex` para separar las partes real e imaginaria de un número complejo:"
   ]
  },
  {
   "cell_type": "code",
   "execution_count": 80,
   "id": "177f9735",
   "metadata": {},
   "outputs": [],
   "source": [
    "# Definimos dos números complejos.\n",
    "z1 = sympy.exp(alpha + sympy.I * beta)\n",
    "z2 = sympy.exp(gamma - sympy.I * delta)"
   ]
  },
  {
   "cell_type": "code",
   "execution_count": 81,
   "id": "37242961",
   "metadata": {},
   "outputs": [
    {
     "data": {
      "image/png": "[encoded data removed]",
      "text/latex": [
       "$\\displaystyle \\left( e^{\\alpha + i \\beta}, \\  e^{- i \\delta + \\gamma}\\right)$"
      ],
      "text/plain": [
       "⎛ \\alpha + ⅈ⋅\\beta   -ⅈ⋅\\delta + \\gamma⎞\n",
       "⎝ℯ                , ℯ                  ⎠"
      ]
     },
     "execution_count": 81,
     "metadata": {},
     "output_type": "execute_result"
    }
   ],
   "source": [
    "# Mostramos estos números en pantalla.\n",
    "(z1, z2)"
   ]
  },
  {
   "cell_type": "code",
   "execution_count": 82,
   "id": "d087c969",
   "metadata": {},
   "outputs": [
    {
     "data": {
      "image/png": "[encoded data removed]",
      "text/latex": [
       "$\\displaystyle i e^{\\alpha} \\sin{\\left(\\beta \\right)} + e^{\\alpha} \\cos{\\left(\\beta \\right)}$"
      ],
      "text/plain": [
       "   \\alpha               \\alpha           \n",
       "ⅈ⋅ℯ      ⋅sin(\\beta) + ℯ      ⋅cos(\\beta)"
      ]
     },
     "execution_count": 82,
     "metadata": {},
     "output_type": "execute_result"
    }
   ],
   "source": [
    "# Expandimos estas expresiones.\n",
    "z1.expand(complex=True)"
   ]
  },
  {
   "cell_type": "code",
   "execution_count": 83,
   "id": "80e308f9",
   "metadata": {},
   "outputs": [
    {
     "data": {
      "image/png": "[encoded data removed]",
      "text/latex": [
       "$\\displaystyle - i e^{\\gamma} \\sin{\\left(\\delta \\right)} + e^{\\gamma} \\cos{\\left(\\delta \\right)}$"
      ],
      "text/plain": [
       "     \\gamma                \\gamma            \n",
       "- ⅈ⋅ℯ      ⋅sin(\\delta) + ℯ      ⋅cos(\\delta)"
      ]
     },
     "execution_count": 83,
     "metadata": {},
     "output_type": "execute_result"
    }
   ],
   "source": [
    "z2.expand(complex=True)"
   ]
  },
  {
   "cell_type": "markdown",
   "id": "ff8414d3",
   "metadata": {},
   "source": [
    "### Factorizaciones.\n",
    "Un patrón común de uso para la función `sympy.expand()` al expandir expresiones, es dejar que **Sympy** cancele ciertos términos y luego factorice o combine la expresión nuevamente. La función `sympy.factor()` intenta factorizar una expresión tanto como sea posible y, en cierto sentido, lo contrario a la función `sympy.expand()` con `mul=True`. Podemos factorizar expresiones algebraicas como sigue:"
   ]
  },
  {
   "cell_type": "code",
   "execution_count": 84,
   "id": "3da0f8cd",
   "metadata": {},
   "outputs": [],
   "source": [
    "# Definimos una expresión algebraica.\n",
    "e = x**2 - 13*x + 42"
   ]
  },
  {
   "cell_type": "code",
   "execution_count": 85,
   "id": "7be3e462",
   "metadata": {},
   "outputs": [
    {
     "data": {
      "image/png": "[encoded data removed]",
      "text/latex": [
       "$\\displaystyle x^{2} - 13 x + 42$"
      ],
      "text/plain": [
       " 2            \n",
       "x  - 13⋅x + 42"
      ]
     },
     "execution_count": 85,
     "metadata": {},
     "output_type": "execute_result"
    }
   ],
   "source": [
    "# Mostramos esta expresión en pantalla.\n",
    "e"
   ]
  },
  {
   "cell_type": "code",
   "execution_count": 86,
   "id": "1a400677",
   "metadata": {},
   "outputs": [
    {
     "data": {
      "image/png": "[encoded data removed]",
      "text/latex": [
       "$\\displaystyle \\left(x - 7\\right) \\left(x - 6\\right)$"
      ],
      "text/plain": [
       "(x - 7)⋅(x - 6)"
      ]
     },
     "execution_count": 86,
     "metadata": {},
     "output_type": "execute_result"
    }
   ],
   "source": [
    "# Factorizamos esta expresión.\n",
    "sympy.factor(e)"
   ]
  },
  {
   "cell_type": "markdown",
   "id": "85bd7acd",
   "metadata": {},
   "source": [
    "Existen, igualmente, funciones de factorización específicas para ciertos tipos de expresiones. Por ejemplo, para el caso de expresiones logarítmicas, podemos utilizar la función `sympy.logcombine()`:"
   ]
  },
  {
   "cell_type": "code",
   "execution_count": 87,
   "id": "6ccf30b5",
   "metadata": {},
   "outputs": [],
   "source": [
    "# Definimos una expresión logarítmica sencilla.\n",
    "f = sympy.log(alpha) - sympy.log(beta) + delta * sympy.log(gamma)"
   ]
  },
  {
   "cell_type": "code",
   "execution_count": 88,
   "id": "4613c980",
   "metadata": {},
   "outputs": [
    {
     "data": {
      "image/png": "[encoded data removed]",
      "text/latex": [
       "$\\displaystyle \\delta \\log{\\left(\\gamma \\right)} + \\log{\\left(\\alpha \\right)} - \\log{\\left(\\beta \\right)}$"
      ],
      "text/plain": [
       "\\delta⋅log(\\gamma) + log(\\alpha) - log(\\beta)"
      ]
     },
     "execution_count": 88,
     "metadata": {},
     "output_type": "execute_result"
    }
   ],
   "source": [
    "# Mostramos esta expresión en pantalla.\n",
    "f"
   ]
  },
  {
   "cell_type": "code",
   "execution_count": 89,
   "id": "0fefda6f",
   "metadata": {},
   "outputs": [
    {
     "data": {
      "image/png": "[encoded data removed]",
      "text/latex": [
       "$\\displaystyle \\log{\\left(\\frac{\\alpha \\gamma^{\\delta}}{\\beta} \\right)}$"
      ],
      "text/plain": [
       "   ⎛             \\delta⎞\n",
       "   ⎜\\alpha⋅\\gamma      ⎟\n",
       "log⎜───────────────────⎟\n",
       "   ⎝       \\beta       ⎠"
      ]
     },
     "execution_count": 89,
     "metadata": {},
     "output_type": "execute_result"
    }
   ],
   "source": [
    "# Reducimos esta expresión.\n",
    "sympy.logcombine(f)"
   ]
  },
  {
   "cell_type": "markdown",
   "id": "339db26e",
   "metadata": {},
   "source": [
    "Cuando trabajamos con expresiones matemáticas, con frecuencia resulta necesario tener un cierto nivel de control sobre los tipos de factorización que implementamos. El método `collect()` permite factorizar los términos de una expresión que contengan una variable simbólica dada (o una lista de este tipo de variables). Por ejemplo, la expresión $x^{2}y + 2xy - zy + x^{2}yz^{2}$ no puede ser completamente factorizada, pero sí podemos obtener factores parciales para $x$ e $y$:"
   ]
  },
  {
   "cell_type": "code",
   "execution_count": 90,
   "id": "1e461055",
   "metadata": {},
   "outputs": [],
   "source": [
    "# Definimos nuestra expresión.\n",
    "g = x**2*y + 2*x*y - z*y + x**2*y*z**2"
   ]
  },
  {
   "cell_type": "code",
   "execution_count": 91,
   "id": "fb2b1463",
   "metadata": {},
   "outputs": [
    {
     "data": {
      "image/png": "[encoded data removed]",
      "text/latex": [
       "$\\displaystyle x^{2} y z^{2} + x^{2} y + 2 x y - y z$"
      ],
      "text/plain": [
       " 2    2    2                \n",
       "x ⋅y⋅z  + x ⋅y + 2⋅x⋅y - y⋅z"
      ]
     },
     "execution_count": 91,
     "metadata": {},
     "output_type": "execute_result"
    }
   ],
   "source": [
    "# Mostramos esta expresión en pantalla.\n",
    "g"
   ]
  },
  {
   "cell_type": "code",
   "execution_count": 92,
   "id": "3ae19bb9",
   "metadata": {},
   "outputs": [
    {
     "data": {
      "image/png": "[encoded data removed]",
      "text/latex": [
       "$\\displaystyle x^{2} \\left(y z^{2} + y\\right) + 2 x y - y z$"
      ],
      "text/plain": [
       " 2 ⎛   2    ⎞              \n",
       "x ⋅⎝y⋅z  + y⎠ + 2⋅x⋅y - y⋅z"
      ]
     },
     "execution_count": 92,
     "metadata": {},
     "output_type": "execute_result"
    }
   ],
   "source": [
    "# Factorizamos parcialmente esta expresión.\n",
    "g.collect(x)"
   ]
  },
  {
   "cell_type": "code",
   "execution_count": 93,
   "id": "f007059c",
   "metadata": {},
   "outputs": [
    {
     "data": {
      "image/png": "[encoded data removed]",
      "text/latex": [
       "$\\displaystyle y \\left(x^{2} z^{2} + x^{2} + 2 x - z\\right)$"
      ],
      "text/plain": [
       "  ⎛ 2  2    2          ⎞\n",
       "y⋅⎝x ⋅z  + x  + 2⋅x - z⎠"
      ]
     },
     "execution_count": 93,
     "metadata": {},
     "output_type": "execute_result"
    }
   ],
   "source": [
    "g.collect(y)"
   ]
  },
  {
   "cell_type": "markdown",
   "id": "6a4c5634",
   "metadata": {},
   "source": [
    "Pasando una lista de símbolos o expresiones a la función `sympy.collect()` o al método `collect()`, podemos generar varias factorizaciones parciales de una sola vez. Además, cuando usamos el método `collect()`, podemos encadenar otros métodos:"
   ]
  },
  {
   "cell_type": "code",
   "execution_count": 94,
   "id": "a4e1f7b2",
   "metadata": {},
   "outputs": [],
   "source": [
    "# Definimos una expresión vía funciones trignométricas.\n",
    "h = sympy.cos(x + y) + sympy.sin(x - y)"
   ]
  },
  {
   "cell_type": "code",
   "execution_count": 95,
   "id": "2143dd3a",
   "metadata": {},
   "outputs": [
    {
     "data": {
      "image/png": "[encoded data removed]",
      "text/latex": [
       "$\\displaystyle \\sin{\\left(x - y \\right)} + \\cos{\\left(x + y \\right)}$"
      ],
      "text/plain": [
       "sin(x - y) + cos(x + y)"
      ]
     },
     "execution_count": 95,
     "metadata": {},
     "output_type": "execute_result"
    }
   ],
   "source": [
    "# Mostramos esta expresión en pantalla.\n",
    "h"
   ]
  },
  {
   "cell_type": "code",
   "execution_count": 96,
   "id": "a5a1980a",
   "metadata": {},
   "outputs": [
    {
     "data": {
      "image/png": "[encoded data removed]",
      "text/latex": [
       "$\\displaystyle \\left(- \\sin{\\left(y \\right)} + \\cos{\\left(y \\right)}\\right) \\cos{\\left(x \\right)} - \\sin{\\left(x \\right)} \\sin{\\left(y \\right)} + \\sin{\\left(x \\right)} \\cos{\\left(y \\right)}$"
      ],
      "text/plain": [
       "(-sin(y) + cos(y))⋅cos(x) - sin(x)⋅sin(y) + sin(x)⋅cos(y)"
      ]
     },
     "execution_count": 96,
     "metadata": {},
     "output_type": "execute_result"
    }
   ],
   "source": [
    "# Encandenamos varios métodos de expansión y factorización.\n",
    "h.expand(trig=True).collect([sympy.cos(x), sympy.sin(y)]).collect(sympy.cos(y) - sympy.sin(y))"
   ]
  },
  {
   "cell_type": "markdown",
   "id": "064b3181",
   "metadata": {},
   "source": [
    "### Descomposiciones.\n",
    "El último tipo de factorización que revisaremos en **Sympy** guarda relación con el tratamiento de fracciones (o, más general, *funciones racionales*). Las funciones `sympy.apart()` y `sympy.together()` permiten, respectivamente, descomponer una función racional en fracciones parciales y combinar varias fracciones parciales en una única función racional:"
   ]
  },
  {
   "cell_type": "code",
   "execution_count": 97,
   "id": "32892883",
   "metadata": {},
   "outputs": [],
   "source": [
    "# Construimos una expresión racional.\n",
    "r = 1 / (x**3 + 4*x - 5)"
   ]
  },
  {
   "cell_type": "code",
   "execution_count": 98,
   "id": "a3f58fdf",
   "metadata": {},
   "outputs": [
    {
     "data": {
      "image/png": "[encoded data removed]",
      "text/latex": [
       "$\\displaystyle \\frac{1}{x^{3} + 4 x - 5}$"
      ],
      "text/plain": [
       "     1      \n",
       "────────────\n",
       " 3          \n",
       "x  + 4⋅x - 5"
      ]
     },
     "execution_count": 98,
     "metadata": {},
     "output_type": "execute_result"
    }
   ],
   "source": [
    "# Mostramos esta expresión en pantalla.\n",
    "r"
   ]
  },
  {
   "cell_type": "code",
   "execution_count": 99,
   "id": "488dacc7",
   "metadata": {},
   "outputs": [
    {
     "data": {
      "image/png": "[encoded data removed]",
      "text/latex": [
       "$\\displaystyle - \\frac{x + 2}{7 \\left(x^{2} + x + 5\\right)} + \\frac{1}{7 \\left(x - 1\\right)}$"
      ],
      "text/plain": [
       "      x + 2            1    \n",
       "- ────────────── + ─────────\n",
       "    ⎛ 2        ⎞   7⋅(x - 1)\n",
       "  7⋅⎝x  + x + 5⎠            "
      ]
     },
     "execution_count": 99,
     "metadata": {},
     "output_type": "execute_result"
    }
   ],
   "source": [
    "# Descomponemos esta expresión en fracciones parciales.\n",
    "sympy.apart(r)"
   ]
  },
  {
   "cell_type": "code",
   "execution_count": 100,
   "id": "287f83ad",
   "metadata": {},
   "outputs": [],
   "source": [
    "# Construimos una nueva expresión compuesta por la suma de fracciones parciales.\n",
    "q = (1 / (x**2 + x + 1)) - (1 / (x - 1)) + (1 / (x + 1))"
   ]
  },
  {
   "cell_type": "code",
   "execution_count": 101,
   "id": "9a20bb90",
   "metadata": {},
   "outputs": [
    {
     "data": {
      "image/png": "[encoded data removed]",
      "text/latex": [
       "$\\displaystyle \\frac{1}{x^{2} + x + 1} + \\frac{1}{x + 1} - \\frac{1}{x - 1}$"
      ],
      "text/plain": [
       "    1          1       1  \n",
       "────────── + ───── - ─────\n",
       " 2           x + 1   x - 1\n",
       "x  + x + 1                "
      ]
     },
     "execution_count": 101,
     "metadata": {},
     "output_type": "execute_result"
    }
   ],
   "source": [
    "# Mostramos esta expresión en pantalla.\n",
    "q"
   ]
  },
  {
   "cell_type": "code",
   "execution_count": 102,
   "id": "e3598015",
   "metadata": {},
   "outputs": [
    {
     "data": {
      "image/png": "[encoded data removed]",
      "text/latex": [
       "$\\displaystyle \\frac{\\left(x - 1\\right) \\left(x + 1\\right) + \\left(x - 1\\right) \\left(x^{2} + x + 1\\right) - \\left(x + 1\\right) \\left(x^{2} + x + 1\\right)}{\\left(x - 1\\right) \\left(x + 1\\right) \\left(x^{2} + x + 1\\right)}$"
      ],
      "text/plain": [
       "                          ⎛ 2        ⎞           ⎛ 2        ⎞\n",
       "(x - 1)⋅(x + 1) + (x - 1)⋅⎝x  + x + 1⎠ - (x + 1)⋅⎝x  + x + 1⎠\n",
       "─────────────────────────────────────────────────────────────\n",
       "                                 ⎛ 2        ⎞                \n",
       "                 (x - 1)⋅(x + 1)⋅⎝x  + x + 1⎠                "
      ]
     },
     "execution_count": 102,
     "metadata": {},
     "output_type": "execute_result"
    }
   ],
   "source": [
    "# Reunimos todo en una única función racional.\n",
    "sympy.together(q)"
   ]
  },
  {
   "cell_type": "markdown",
   "id": "54b2010c",
   "metadata": {},
   "source": [
    "## Sustituciones.\n",
    "Previamente nos hemos enfocado en la manipulación de expresiones algebraicas y funcionales mediante el uso de técnicas de simplificación y factorización que, en definitiva, permiten reescribir tales expresiones conforme otras más simples (o más generales). Sin embargo, otro tipo común de manipulación de este tipo de expresiones corresponde a la sustitución de ciertas variables simbólicas (o una subexpresión constituida por varias de estas variables) dentro de una expresión. Por ejemplo, es posible que queramos realizar una sustitución que consiste en un cambio de variables o similar. En **Sympy** hay dos métodos para llevar a cabo sustituciones de este tipo: `subs()` y `replace()`. Usualmente, la alternativa más adecuada es `subs()`, pero `replace()` puede ofrecernos opciones mejores en algunos casos, como aquellos donde los reemplazos se definen en base a caracteres comodines.\n",
    "\n",
    "El caso más simple de uso del método `subs()` es cuando éste se llama a partir de una expresión. En este caso, el símbolo a reemplazar (digamos `x`) corresponde al primer argumento que imputamos, seguido del símbolo a usar como reemplazo (`y`). Como resultado, todas las ocurrencias de `x` son reemplazadas por `y`:"
   ]
  },
  {
   "cell_type": "code",
   "execution_count": 103,
   "id": "031ae066",
   "metadata": {},
   "outputs": [],
   "source": [
    "# Definimos una expresión.\n",
    "e = x**2 + 2*x*y + y**2"
   ]
  },
  {
   "cell_type": "code",
   "execution_count": 104,
   "id": "46c29f4f",
   "metadata": {},
   "outputs": [
    {
     "data": {
      "image/png": "[encoded data removed]",
      "text/latex": [
       "$\\displaystyle x^{2} + 2 x y + y^{2}$"
      ],
      "text/plain": [
       " 2            2\n",
       "x  + 2⋅x⋅y + y "
      ]
     },
     "execution_count": 104,
     "metadata": {},
     "output_type": "execute_result"
    }
   ],
   "source": [
    "# Mostramos en pantalla esta expresión.\n",
    "e"
   ]
  },
  {
   "cell_type": "code",
   "execution_count": 105,
   "id": "34cd816a",
   "metadata": {},
   "outputs": [
    {
     "data": {
      "image/png": "[encoded data removed]",
      "text/latex": [
       "$\\displaystyle 4 y^{2}$"
      ],
      "text/plain": [
       "   2\n",
       "4⋅y "
      ]
     },
     "execution_count": 105,
     "metadata": {},
     "output_type": "execute_result"
    }
   ],
   "source": [
    "# Reemplazamos x por y.\n",
    "e.subs(x, y)"
   ]
  },
  {
   "cell_type": "code",
   "execution_count": 106,
   "id": "254d4dec",
   "metadata": {},
   "outputs": [],
   "source": [
    "# En este otro ejemplo, usamos funciones trigonométricas y exponenciales.\n",
    "f = sympy.sin(x + y) + sympy.exp(x*y)"
   ]
  },
  {
   "cell_type": "code",
   "execution_count": 107,
   "id": "5f1dda42",
   "metadata": {},
   "outputs": [
    {
     "data": {
      "image/png": "[encoded data removed]",
      "text/latex": [
       "$\\displaystyle e^{x y} + \\sin{\\left(x + y \\right)}$"
      ],
      "text/plain": [
       " x⋅y             \n",
       "ℯ    + sin(x + y)"
      ]
     },
     "execution_count": 107,
     "metadata": {},
     "output_type": "execute_result"
    }
   ],
   "source": [
    "# Mostramos en pantalla esta expresión.\n",
    "f"
   ]
  },
  {
   "cell_type": "code",
   "execution_count": 108,
   "id": "445bea4d",
   "metadata": {},
   "outputs": [
    {
     "data": {
      "image/png": "[encoded data removed]",
      "text/latex": [
       "$\\displaystyle e^{x^{2}} + \\sin{\\left(2 x \\right)}$"
      ],
      "text/plain": [
       " ⎛ 2⎞           \n",
       " ⎝x ⎠           \n",
       "ℯ     + sin(2⋅x)"
      ]
     },
     "execution_count": 108,
     "metadata": {},
     "output_type": "execute_result"
    }
   ],
   "source": [
    "# Reemplazamos y por x.\n",
    "f.subs(y, x)"
   ]
  },
  {
   "cell_type": "markdown",
   "id": "4cd59f54",
   "metadata": {},
   "source": [
    "En vez de encadenar varios reemplazos, cuando se requiera realizar sustituciones de más de una variable en una expresión dada, podemos utilizar un diccionario que mapee las variables a reemplazar:"
   ]
  },
  {
   "cell_type": "code",
   "execution_count": 109,
   "id": "2a95e44a",
   "metadata": {},
   "outputs": [],
   "source": [
    "# Construimos una expresión algebraica basada en coordenadas cartesianas.\n",
    "x, y, z = sympy.symbols(\"x, y, z\", positive=True, real=True)\n",
    "e = x**2 + y**2 + z**2"
   ]
  },
  {
   "cell_type": "code",
   "execution_count": 110,
   "id": "68c8eb1a",
   "metadata": {},
   "outputs": [],
   "source": [
    "# Definimos algunas variables para reemplazar.\n",
    "r, theta = sympy.symbols(r\"r, \\theta\", real=True, positive=True)"
   ]
  },
  {
   "cell_type": "code",
   "execution_count": 111,
   "id": "c3f08c63",
   "metadata": {},
   "outputs": [
    {
     "data": {
      "image/png": "[encoded data removed]",
      "text/latex": [
       "$\\displaystyle x^{2} + y^{2} + z^{2}$"
      ],
      "text/plain": [
       " 2    2    2\n",
       "x  + y  + z "
      ]
     },
     "execution_count": 111,
     "metadata": {},
     "output_type": "execute_result"
    }
   ],
   "source": [
    "# Mostramos nuestra expresión en pantalla.\n",
    "e"
   ]
  },
  {
   "cell_type": "code",
   "execution_count": 112,
   "id": "09cac772",
   "metadata": {},
   "outputs": [
    {
     "data": {
      "image/png": "[encoded data removed]",
      "text/latex": [
       "$\\displaystyle r^{2} + z^{2}$"
      ],
      "text/plain": [
       " 2    2\n",
       "r  + z "
      ]
     },
     "execution_count": 112,
     "metadata": {},
     "output_type": "execute_result"
    }
   ],
   "source": [
    "# Generamos un reemplazo conforme coordenadas cilíndricas y simplificamos.\n",
    "e.subs({x: r*sympy.cos(theta), y: r*sympy.sin(theta)}).trigsimp()"
   ]
  },
  {
   "cell_type": "markdown",
   "id": "885958af",
   "metadata": {},
   "source": [
    "Una aplicación típica del método `subs()` corresponde a la sustitución de variables simbólicas por valores numéricas, a fin de evaluar rápidamente expresiones completas:"
   ]
  },
  {
   "cell_type": "code",
   "execution_count": 113,
   "id": "75eb48ac",
   "metadata": {},
   "outputs": [],
   "source": [
    "# Una expresión simbólica.\n",
    "f = x**2 + 2*x*y + x*z**2 + z*3"
   ]
  },
  {
   "cell_type": "code",
   "execution_count": 114,
   "id": "480c4e1c",
   "metadata": {},
   "outputs": [
    {
     "data": {
      "image/png": "[encoded data removed]",
      "text/latex": [
       "$\\displaystyle x^{2} + 2 x y + x z^{2} + 3 z$"
      ],
      "text/plain": [
       " 2              2      \n",
       "x  + 2⋅x⋅y + x⋅z  + 3⋅z"
      ]
     },
     "execution_count": 114,
     "metadata": {},
     "output_type": "execute_result"
    }
   ],
   "source": [
    "# Mostramos en pantalla esta expresión.\n",
    "f"
   ]
  },
  {
   "cell_type": "code",
   "execution_count": 115,
   "id": "e44b1cef",
   "metadata": {},
   "outputs": [
    {
     "data": {
      "image/png": "[encoded data removed]",
      "text/latex": [
       "$\\displaystyle 33$"
      ],
      "text/plain": [
       "33"
      ]
     },
     "execution_count": 115,
     "metadata": {},
     "output_type": "execute_result"
    }
   ],
   "source": [
    "# Evaluamos esta expresión en (x, y, z) = (1, 2, 4).\n",
    "f.subs({x: 1, y: 2, z: 4})"
   ]
  },
  {
   "cell_type": "markdown",
   "id": "aaf3a78d",
   "metadata": {},
   "source": [
    "## Evaluación numérica de expresiones simbólicas.\n",
    "Incluso a pesar de que trabajemos con matemáticas simbólicas, será inevitable que tarde o temprano evaluemos las correspondientes expresiones numéricamente. Una expresión simbólica de **Sympy** puede evaluarse ya sea por medio de la función `sympy.N()` o mediante el método `evalf()`, a partir de una expresión dada:"
   ]
  },
  {
   "cell_type": "code",
   "execution_count": 116,
   "id": "adf81c5e",
   "metadata": {},
   "outputs": [
    {
     "data": {
      "image/png": "[encoded data removed]",
      "text/latex": [
       "$\\displaystyle 4.14159265358979$"
      ],
      "text/plain": [
       "4.14159265358979"
      ]
     },
     "execution_count": 116,
     "metadata": {},
     "output_type": "execute_result"
    }
   ],
   "source": [
    "# Evaluamos una expresión.\n",
    "sympy.N(1 + sympy.pi)"
   ]
  },
  {
   "cell_type": "code",
   "execution_count": 117,
   "id": "53064a4e",
   "metadata": {},
   "outputs": [
    {
     "data": {
      "image/png": "[encoded data removed]",
      "text/latex": [
       "$\\displaystyle 4.1415926535897932384626433832795028841971693993751$"
      ],
      "text/plain": [
       "4.1415926535897932384626433832795028841971693993751"
      ]
     },
     "execution_count": 117,
     "metadata": {},
     "output_type": "execute_result"
    }
   ],
   "source": [
    "# Generamos un resultado con 50 cifras decimales significativas.\n",
    "sympy.N(1 + sympy.pi, 50)"
   ]
  },
  {
   "cell_type": "code",
   "execution_count": 118,
   "id": "7a09486f",
   "metadata": {},
   "outputs": [
    {
     "data": {
      "image/png": "[encoded data removed]",
      "text/latex": [
       "$\\displaystyle 4.141592654$"
      ],
      "text/plain": [
       "4.141592654"
      ]
     },
     "execution_count": 118,
     "metadata": {},
     "output_type": "execute_result"
    }
   ],
   "source": [
    "# Evaluamos ahora mediante el método evalf() con 10 cifras decimales significativas.\n",
    "(1 + sympy.pi).evalf(10)"
   ]
  },
  {
   "cell_type": "markdown",
   "id": "092801d9",
   "metadata": {},
   "source": [
    "Cuando necesitamos evaluar numéricamente una expresión para un rango de valores de entrada, podemos, en primera instancia, construir un loop de evaluación (por ejemplo, mediante una expresión generadora de Python) y realizar llamadas sucesivas del método `evalf()`:"
   ]
  },
  {
   "cell_type": "code",
   "execution_count": 119,
   "id": "a8c95650",
   "metadata": {},
   "outputs": [],
   "source": [
    "# Construimos una expresión.\n",
    "f = sympy.sin(sympy.pi * x + 1/sympy.exp(x**2))"
   ]
  },
  {
   "cell_type": "code",
   "execution_count": 120,
   "id": "d642c44d",
   "metadata": {},
   "outputs": [
    {
     "data": {
      "image/png": "[encoded data removed]",
      "text/latex": [
       "$\\displaystyle \\sin{\\left(\\pi x + e^{- x^{2}} \\right)}$"
      ],
      "text/plain": [
       "   ⎛         2⎞\n",
       "   ⎜       -x ⎟\n",
       "sin⎝π⋅x + ℯ   ⎠"
      ]
     },
     "execution_count": 120,
     "metadata": {},
     "output_type": "execute_result"
    }
   ],
   "source": [
    "# Mostramos esta expresión en pantalla.\n",
    "f"
   ]
  },
  {
   "cell_type": "code",
   "execution_count": 121,
   "id": "a18ddfb4",
   "metadata": {},
   "outputs": [
    {
     "data": {
      "image/png": "[encoded data removed]",
      "text/latex": [
       "$\\displaystyle \\left[ 0.8415, \\  -0.3596, \\  0.01831, \\  -0.0001234, \\  1.125 \\cdot 10^{-7}, \\  -1.389 \\cdot 10^{-11}, \\  2.32 \\cdot 10^{-16}, \\  -5.243 \\cdot 10^{-22}, \\  1.604 \\cdot 10^{-28}, \\  -6.64 \\cdot 10^{-36}\\right]$"
      ],
      "text/plain": [
       "[0.8415, -0.3596, 0.01831, -0.0001234, 1.125e-7, -1.389e-11, 2.32e-16, -5.243e\n",
       "-22, 1.604e-28, -6.64e-36]"
      ]
     },
     "execution_count": 121,
     "metadata": {},
     "output_type": "execute_result"
    }
   ],
   "source": [
    "# Generamos una compresión de lista para evaluar esta expresión en varios valores de x.\n",
    "[f.subs(x, xj).evalf(4) for xj in range(10)]"
   ]
  },
  {
   "cell_type": "markdown",
   "id": "f3971f7b",
   "metadata": {},
   "source": [
    "La evaluación anterior es práctica y sencilla, pero lenta:"
   ]
  },
  {
   "cell_type": "code",
   "execution_count": 122,
   "id": "1166652b",
   "metadata": {},
   "outputs": [
    {
     "name": "stdout",
     "output_type": "stream",
     "text": [
      "1.07 ms ± 3.34 µs per loop (mean ± std. dev. of 7 runs, 1,000 loops each)\n"
     ]
    }
   ],
   "source": [
    "%timeit [f.subs(x, xj).evalf(4) for xj in range(10)]"
   ]
  },
  {
   "cell_type": "markdown",
   "id": "b87cefc8",
   "metadata": {},
   "source": [
    "**Sympy** nos provee de un método más adecuado para la evaluación numérica de expresiones simbólicas, y que corresponde a la función `sympy.lambdify()`. Dicha función toma como argumentos un conjunto de variables simbólicas (libres) y una expresión determinada, generando de esta manera un eficiente evaluador que nos retornará el valor numérico de la expresión, siempre que le imputemos el valor respecto del cual se realiza la evaluación. Por ejemplo:"
   ]
  },
  {
   "cell_type": "code",
   "execution_count": 123,
   "id": "848566cd",
   "metadata": {},
   "outputs": [],
   "source": [
    "# Valor a construir un evaluador para la expresión anterior.\n",
    "f_eval = sympy.lambdify(x, f)"
   ]
  },
  {
   "cell_type": "code",
   "execution_count": 124,
   "id": "8b2632ff",
   "metadata": {},
   "outputs": [
    {
     "data": {
      "image/png": "[encoded data removed]",
      "text/latex": [
       "$\\displaystyle -0.359637565412495$"
      ],
      "text/plain": [
       "-0.3596375654124955"
      ]
     },
     "execution_count": 124,
     "metadata": {},
     "output_type": "execute_result"
    }
   ],
   "source": [
    "# Evaluamos la función anterior en x = 1.\n",
    "f_eval(1)"
   ]
  },
  {
   "cell_type": "code",
   "execution_count": 125,
   "id": "b6bbbe4e",
   "metadata": {},
   "outputs": [
    {
     "data": {
      "image/png": "[encoded data removed]",
      "text/latex": [
       "$\\displaystyle \\left[ 0.841470984807897, \\  -0.359637565412495, \\  0.0183146148705179, \\  -0.000123409803772472, \\  1.12535173578426 \\cdot 10^{-7}, \\  -1.38869454470316 \\cdot 10^{-11}, \\  -7.34788079488412 \\cdot 10^{-16}, \\  8.57252759403147 \\cdot 10^{-16}, \\  -9.79717439317883 \\cdot 10^{-16}, \\  1.10218211923262 \\cdot 10^{-15}\\right]$"
      ],
      "text/plain": [
       "[0.8414709848078965, -0.3596375654124955, 0.018314614870517897, -0.00012340980\n",
       "377247208, 1.1253517357842555e-07, -1.3886945447031584e-11, -7.347880794884119\n",
       "e-16, 8.572527594031472e-16, -9.797174393178826e-16, 1.102182119232618e-15]"
      ]
     },
     "execution_count": 125,
     "metadata": {},
     "output_type": "execute_result"
    }
   ],
   "source": [
    "# Y podemos generar evaluaciones sucesivas.\n",
    "[f_eval(xj) for xj in range(10)]"
   ]
  },
  {
   "cell_type": "markdown",
   "id": "c030e34b",
   "metadata": {},
   "source": [
    "Esta función es extremadamente eficiente en términos de tiempo de ejecución:"
   ]
  },
  {
   "cell_type": "code",
   "execution_count": 126,
   "id": "c35a315a",
   "metadata": {},
   "outputs": [
    {
     "name": "stdout",
     "output_type": "stream",
     "text": [
      "32.8 µs ± 79.1 ns per loop (mean ± std. dev. of 7 runs, 10,000 loops each)\n"
     ]
    }
   ],
   "source": [
    "%timeit [f_eval(xj) for xj in range(10)]"
   ]
  },
  {
   "cell_type": "markdown",
   "id": "5a285792",
   "metadata": {},
   "source": [
    "¡Más de 30 veces más rápida que simplemente evaluar vía el método `evalf()`!\n",
    "\n",
    "Notemos que las evaluaciones numéricas retornan valores escalares propios de **Sympy** que no son directamente compatibles con librerías que manipulen datos numéricos de precisión fija (como **Numpy** y derivados). Sin embargo, **Sympy** nos permite generar funciones vectorizadas que sean compatibles con **Numpy** simplemente pasando el argumento `\"numpy\"` en la función `sympy.lambdify()`. De esta manera, los evaluadores resultantes podrán recibir arreglos de **Numpy** como argumentos de entrada, aprovechando la velocidad de esta librería (ya que está escrita en C) para la evaluación de expresiones para grandes cantidades de datos:"
   ]
  },
  {
   "cell_type": "code",
   "execution_count": 127,
   "id": "ef6208f8",
   "metadata": {},
   "outputs": [],
   "source": [
    "# Creamos un evaluador vectorizado compatible con Numpy.\n",
    "f_eval = sympy.lambdify(x, f, \"numpy\")"
   ]
  },
  {
   "cell_type": "code",
   "execution_count": 128,
   "id": "2d02024c",
   "metadata": {},
   "outputs": [],
   "source": [
    "# Importamos Numpy.\n",
    "import numpy as np"
   ]
  },
  {
   "cell_type": "code",
   "execution_count": 129,
   "id": "d726ab58",
   "metadata": {},
   "outputs": [],
   "source": [
    "# Generamos un arreglo de valores que evaluaremos.\n",
    "values = np.linspace(start=0, stop=99, num=100)"
   ]
  },
  {
   "cell_type": "code",
   "execution_count": 130,
   "id": "96ade033",
   "metadata": {},
   "outputs": [
    {
     "data": {
      "image/png": "[encoded data removed]",
      "text/latex": [
       "$\\displaystyle \\left[ 0.841470984807897, \\  -0.359637565412495, \\  0.0183146148705179, \\  -0.000123409803772472, \\  1.12535173578426 \\cdot 10^{-7}, \\  -1.38869454470316 \\cdot 10^{-11}, \\  -7.34788079488412 \\cdot 10^{-16}, \\  8.57252759403147 \\cdot 10^{-16}, \\  -9.79717439317883 \\cdot 10^{-16}, \\  1.10218211923262 \\cdot 10^{-15}, \\  -1.22464679914735 \\cdot 10^{-15}, \\  4.89982515786259 \\cdot 10^{-15}, \\  -1.46957615897682 \\cdot 10^{-15}, \\  -1.96067283990894 \\cdot 10^{-15}, \\  -1.71450551880629 \\cdot 10^{-15}, \\  5.38968387752153 \\cdot 10^{-15}, \\  -1.95943487863577 \\cdot 10^{-15}, \\  -1.47081412025 \\cdot 10^{-15}, \\  -2.20436423846524 \\cdot 10^{-15}, \\  5.87954259718047 \\cdot 10^{-15}, \\  -2.44929359829471 \\cdot 10^{-15}, \\  -9.80955400591059 \\cdot 10^{-16}, \\  -9.79965031572518 \\cdot 10^{-15}, \\  6.36940131683941 \\cdot 10^{-15}, \\  -2.93915231795365 \\cdot 10^{-15}, \\  -4.91096680932118 \\cdot 10^{-16}, \\  3.92134567981788 \\cdot 10^{-15}, \\  6.85926003649835 \\cdot 10^{-15}, \\  -3.42901103761259 \\cdot 10^{-15}, \\  -1.23796127317672 \\cdot 10^{-18}, \\  -1.07793677550431 \\cdot 10^{-14}, \\  7.3491187561573 \\cdot 10^{-15}, \\  -3.91886975727153 \\cdot 10^{-15}, \\  4.88620758385765 \\cdot 10^{-16}, \\  2.9416282405 \\cdot 10^{-15}, \\  7.83897747581624 \\cdot 10^{-15}, \\  -4.40872847693047 \\cdot 10^{-15}, \\  9.78479478044706 \\cdot 10^{-16}, \\  -1.17590851943609 \\cdot 10^{-14}, \\  8.32883619547518 \\cdot 10^{-15}, \\  -4.89858719658941 \\cdot 10^{-15}, \\  1.56791929129057 \\cdot 10^{-14}, \\  1.96191080118212 \\cdot 10^{-15}, \\  8.81869491513412 \\cdot 10^{-15}, \\  -1.95993006314504 \\cdot 10^{-14}, \\  1.95819691736259 \\cdot 10^{-15}, \\  -1.27388026336788 \\cdot 10^{-14}, \\  -4.90230108040894 \\cdot 10^{-15}, \\  -5.8783046359073 \\cdot 10^{-15}, \\  1.66589103522235 \\cdot 10^{-14}, \\  9.82193361864236 \\cdot 10^{-16}, \\  9.798412354452 \\cdot 10^{-15}, \\  7.84269135963577 \\cdot 10^{-15}, \\  2.93791435668047 \\cdot 10^{-15}, \\  -1.37185200729967 \\cdot 10^{-14}, \\  -3.92258364109106 \\cdot 10^{-15}, \\  -6.85802207522518 \\cdot 10^{-15}, \\  1.76386277915414 \\cdot 10^{-14}, \\  2.47592254635343 \\cdot 10^{-18}, \\  1.07781297937699 \\cdot 10^{-14}, \\  -2.15587355100861 \\cdot 10^{-14}, \\  3.91763179599835 \\cdot 10^{-15}, \\  -1.46982375123146 \\cdot 10^{-14}, \\  -2.94286620177318 \\cdot 10^{-15}, \\  -7.83773951454306 \\cdot 10^{-15}, \\  1.86183452308593 \\cdot 10^{-14}, \\  -9.77241516771529 \\cdot 10^{-16}, \\  1.17578472330878 \\cdot 10^{-14}, \\  5.883256481 \\cdot 10^{-15}, \\  4.89734923531624 \\cdot 10^{-15}, \\  -1.56779549516325 \\cdot 10^{-14}, \\  -1.9631487624553 \\cdot 10^{-15}, \\  -8.81745695386094 \\cdot 10^{-15}, \\  1.95980626701772 \\cdot 10^{-14}, \\  -1.95695895608941 \\cdot 10^{-15}, \\  1.27375646724056 \\cdot 10^{-14}, \\  -2.35181703887219 \\cdot 10^{-14}, \\  5.87706667463412 \\cdot 10^{-15}, \\  -1.66576723909504 \\cdot 10^{-14}, \\  -9.83431323137413 \\cdot 10^{-16}, \\  -9.79717439317883 \\cdot 10^{-15}, \\  2.05777801094951 \\cdot 10^{-14}, \\  -3.13583858258113 \\cdot 10^{-14}, \\  -1.47044273186805 \\cdot 10^{-14}, \\  3.92382160236424 \\cdot 10^{-15}, \\  6.856784113952 \\cdot 10^{-15}, \\  -1.76373898302682 \\cdot 10^{-14}, \\  2.84179955465845 \\cdot 10^{-14}, \\  -3.91986012629007 \\cdot 10^{-14}, \\  -6.86421188159106 \\cdot 10^{-15}, \\  -3.91639383472518 \\cdot 10^{-15}, \\  1.46969995510414 \\cdot 10^{-14}, \\  -2.54776052673577 \\cdot 10^{-14}, \\  3.62582109836739 \\cdot 10^{-14}, \\  9.80460216081789 \\cdot 10^{-15}, \\  9.76003555498352 \\cdot 10^{-16}, \\  -1.17566092718146 \\cdot 10^{-14}, \\  2.25372149881308 \\cdot 10^{-14}, \\  -3.33178207044471 \\cdot 10^{-14}, \\  -1.27449924400447 \\cdot 10^{-14}\\right]$"
      ],
      "text/plain": [
       "[0.8414709848078965, -0.3596375654124955, 0.018314614870517897, -0.00012340980\n",
       "377247208, 1.1253517357842555e-07, -1.3886945447031584e-11, -7.347880794884119\n",
       "e-16, 8.572527594031472e-16, -9.797174393178826e-16, 1.102182119232618e-15, -1\n",
       ".2246467991473533e-15, 4.899825157862589e-15, -1.4695761589768238e-15, -1.9606\n",
       "728399089416e-15, -1.7145055188062944e-15, 5.3896838775215305e-15, -1.95943487\n",
       "8635765e-15, -1.4708141202500005e-15, -2.204364238465236e-15, 5.87954259718047\n",
       "2e-15, -2.4492935982947065e-15, -9.809554005910593e-16, -9.799650315725178e-15\n",
       ", 6.369401316839413e-15, -2.9391523179536475e-15, -4.91096680932118e-16, 3.921\n",
       "345679817883e-15, 6.859260036498355e-15, -3.429011037612589e-15, -1.2379612731\n",
       "767154e-18, -1.0779367755043061e-14, 7.349118756157295e-15, -3.91886975727153e\n",
       "-15, 4.886207583857646e-16, 2.941628240500001e-15, 7.838977475816237e-15, -4.4\n",
       "08728476930472e-15, 9.784794780447059e-16, -1.1759085194360944e-14, 8.32883619\n",
       "5475178e-15, -4.898587196589413e-15, 1.567919291290565e-14, 1.9619108011821185\n",
       "e-15, 8.81869491513412e-15, -1.9599300631450357e-14, 1.9581969173625882e-15, -\n",
       "1.2738802633678827e-14, -4.902301080408943e-15, -5.878304635907295e-15, 1.6658\n",
       "910352223535e-14, 9.82193361864236e-16, 9.798412354452001e-15, 7.8426913596357\n",
       "67e-15, 2.937914356680471e-15, -1.371852007299671e-14, -3.92258364109106e-15, \n",
       "-6.858022075225178e-15, 1.7638627791541416e-14, 2.475922546353431e-18, 1.07781\n",
       "29793769884e-14, -2.1558735510086122e-14, 3.917631795998353e-15, -1.4698237512\n",
       "31459e-14, -2.942866201773178e-15, -7.83773951454306e-15, 1.8618345230859297e-\n",
       "14, -9.772415167715292e-16, 1.1757847233087767e-14, 5.883256481000002e-15, 4.8\n",
       "97349235316236e-15, -1.5677954951632475e-14, -1.963148762455295e-15, -8.817456\n",
       "953860943e-15, 1.959806267017718e-14, -1.9569589560894117e-15, 1.2737564672405\n",
       "65e-14, -2.3518170388721888e-14, 5.877066674634119e-15, -1.6657672390950356e-1\n",
       "4, -9.834313231374127e-16, -9.797174393178826e-15, 2.0577780109495062e-14, -3.\n",
       "13583858258113e-14, -1.4704427318680477e-14, 3.923821602364237e-15, 6.85678411\n",
       "3952001e-15, -1.763738983026824e-14, 2.8417995546584478e-14, -3.91986012629007\n",
       "1e-14, -6.8642118815910615e-15, -3.9163938347251765e-15, 1.4696999551041415e-1\n",
       "4, -2.5477605267357653e-14, 3.625821098367389e-14, 9.804602160817886e-15, 9.76\n",
       "0035554983525e-16, -1.175660927181459e-14, 2.2537214988130828e-14, -3.33178207\n",
       "0444707e-14, -1.274499244004471e-14]"
      ]
     },
     "execution_count": 130,
     "metadata": {},
     "output_type": "execute_result"
    }
   ],
   "source": [
    "# Evaluamos la expresión para todos estos valores.\n",
    "[f_eval(xj) for xj in values]"
   ]
  },
  {
   "cell_type": "markdown",
   "id": "9ed94bd4",
   "metadata": {},
   "source": [
    "## Aplicaciones al cálculo diferencial.\n",
    "Hasta ahora, hemos estudiado como representar expresiones matemáticas en **Sympy**, manipular tales expresiones, simplificarlas, expandirlas, factorizarlas y evaluarlas numéricamente. Con todas estas funcionalidades en consideración, ya estamos listos para explorar las herramientas que nos brinda **Sympy** en una de las ramas fundamentales del análisis matemático: El cálculo diferencial. Y que, como bien hemos sido testigos en nuestras carreras, es esencial en todo tipo de problemas físicos y de ingeniería.\n",
    "\n",
    "Como bien sabemos de nuestros cursos de cálculo, el elemento base del cálculo diferencial corresponde a la derivada, que a su vez es un operador lineal que permite describir la tasa de cambio de una función dada en el entorno de un punto perteneneciente a su dominio. En **Sympy**, podemos calcular la derivada de una función (simbólica, insistimos) mediante el uso de la función `sympy.diff()`, o bien, usando el opersdor `diff()`, que es directamente aplicable sobre expresiones simbólicas. El argumento, en cualquiera de los dos casos, corresponde a una determinada variable simbólica o conjunto de ellas, y que por supuesto serán aquellas variables respecto de las cuales calcularemos la(s) derivada(s) de interés. Por ejemplo, para representar la primera derivada de una función $f$ en el punto arbitrario $x$, lo que denotamos como $f'(x)$ o $df/dx$, tendremos que:"
   ]
  },
  {
   "cell_type": "code",
   "execution_count": 131,
   "id": "61320a31",
   "metadata": {},
   "outputs": [],
   "source": [
    "# Definimos una función (arbitraria) de la variable simbólica x.\n",
    "f = sympy.Function(\"f\")(x)"
   ]
  },
  {
   "cell_type": "code",
   "execution_count": 132,
   "id": "7c3a42f2",
   "metadata": {},
   "outputs": [
    {
     "data": {
      "image/png": "[encoded data removed]",
      "text/latex": [
       "$\\displaystyle \\frac{d}{d x} f{\\left(x \\right)}$"
      ],
      "text/plain": [
       "d       \n",
       "──(f(x))\n",
       "dx      "
      ]
     },
     "execution_count": 132,
     "metadata": {},
     "output_type": "execute_result"
    }
   ],
   "source": [
    "# Expresamos la primera derivada de esta función.\n",
    "sympy.diff(f)"
   ]
  },
  {
   "cell_type": "markdown",
   "id": "6d5d310d",
   "metadata": {},
   "source": [
    "Y eso es todo (a nivel simbólico). Podemos representar derivadas de orden superior de forma igualmente sencilla, simplemente repitiendo el símbolo respecto del cual derivamos (`x` en el ejemplo anterior), o equivalentemente, especificando un número entero luego del símbolo respecto del cual derivamos, y que define el orden de la derivada:"
   ]
  },
  {
   "cell_type": "code",
   "execution_count": 133,
   "id": "60db13b0",
   "metadata": {},
   "outputs": [
    {
     "data": {
      "image/png": "[encoded data removed]",
      "text/latex": [
       "$\\displaystyle \\frac{d^{2}}{d x^{2}} f{\\left(x \\right)}$"
      ],
      "text/plain": [
       "  2      \n",
       " d       \n",
       "───(f(x))\n",
       "  2      \n",
       "dx       "
      ]
     },
     "execution_count": 133,
     "metadata": {},
     "output_type": "execute_result"
    }
   ],
   "source": [
    "# Derivada de segundo orden.\n",
    "sympy.diff(f, x, 2)"
   ]
  },
  {
   "cell_type": "code",
   "execution_count": 134,
   "id": "3c506155",
   "metadata": {},
   "outputs": [
    {
     "data": {
      "image/png": "[encoded data removed]",
      "text/latex": [
       "$\\displaystyle \\frac{d^{3}}{d x^{3}} f{\\left(x \\right)}$"
      ],
      "text/plain": [
       "  3      \n",
       " d       \n",
       "───(f(x))\n",
       "  3      \n",
       "dx       "
      ]
     },
     "execution_count": 134,
     "metadata": {},
     "output_type": "execute_result"
    }
   ],
   "source": [
    "# Derivada de segundo orden.\n",
    "sympy.diff(f, x, 3)"
   ]
  },
  {
   "cell_type": "markdown",
   "id": "9b232f1b",
   "metadata": {},
   "source": [
    "Podemos representar derivadas parciales de manera sencilla considerando funciones multivariables, especificando las variables simbólicas respecto de las cuales derivamos. Por ejemplo, definimos primeramente una función arbitraria $g(x, y)$:"
   ]
  },
  {
   "cell_type": "code",
   "execution_count": 135,
   "id": "623757bf",
   "metadata": {},
   "outputs": [],
   "source": [
    "# Función de dos variables g(x, y).\n",
    "g = sympy.Function(\"g\")(x, y)"
   ]
  },
  {
   "cell_type": "markdown",
   "id": "17b6880f",
   "metadata": {},
   "source": [
    "Podemos representar las derivadas parciales $\\displaystyle \\frac {\\partial g}{\\partial x}$ y $\\displaystyle \\frac{\\partial g}{\\partial y}$ fácilmente en **Sympy** escribiendo:"
   ]
  },
  {
   "cell_type": "code",
   "execution_count": 136,
   "id": "2c39a912",
   "metadata": {},
   "outputs": [
    {
     "data": {
      "image/png": "[encoded data removed]",
      "text/latex": [
       "$\\displaystyle \\frac{\\partial}{\\partial x} g{\\left(x,y \\right)}$"
      ],
      "text/plain": [
       "∂          \n",
       "──(g(x, y))\n",
       "∂x         "
      ]
     },
     "execution_count": 136,
     "metadata": {},
     "output_type": "execute_result"
    }
   ],
   "source": [
    "# Derivada parcial de g(x, y) con respecto a x.\n",
    "g.diff(x)"
   ]
  },
  {
   "cell_type": "code",
   "execution_count": 137,
   "id": "198fa922",
   "metadata": {},
   "outputs": [
    {
     "data": {
      "image/png": "[encoded data removed]",
      "text/latex": [
       "$\\displaystyle \\frac{\\partial}{\\partial y} g{\\left(x,y \\right)}$"
      ],
      "text/plain": [
       "∂          \n",
       "──(g(x, y))\n",
       "∂y         "
      ]
     },
     "execution_count": 137,
     "metadata": {},
     "output_type": "execute_result"
    }
   ],
   "source": [
    "# Derivada parcial de g(x, y) con respecto a y.\n",
    "g.diff(y)"
   ]
  },
  {
   "cell_type": "markdown",
   "id": "b6f10f61",
   "metadata": {},
   "source": [
    "Para el caso de las derivadas parciales de orden superior, la sintaxis es bastante sencilla:"
   ]
  },
  {
   "cell_type": "code",
   "execution_count": 138,
   "id": "0be8224d",
   "metadata": {},
   "outputs": [
    {
     "data": {
      "image/png": "[encoded data removed]",
      "text/latex": [
       "$\\displaystyle \\frac{\\partial^{2}}{\\partial y\\partial x} g{\\left(x,y \\right)}$"
      ],
      "text/plain": [
       "   2          \n",
       "  ∂           \n",
       "─────(g(x, y))\n",
       "∂y ∂x         "
      ]
     },
     "execution_count": 138,
     "metadata": {},
     "output_type": "execute_result"
    }
   ],
   "source": [
    "# Derivada parcial mixta (de segundo orden) con respecto a x e y.\n",
    "g.diff(x, y)"
   ]
  },
  {
   "cell_type": "code",
   "execution_count": 139,
   "id": "eabdd52e",
   "metadata": {},
   "outputs": [
    {
     "data": {
      "image/png": "[encoded data removed]",
      "text/latex": [
       "$\\displaystyle \\frac{\\partial^{6}}{\\partial y^{2}\\partial x^{4}} g{\\left(x,y \\right)}$"
      ],
      "text/plain": [
       "    6           \n",
       "   ∂            \n",
       "───────(g(x, y))\n",
       "  2   4         \n",
       "∂y  ∂x          "
      ]
     },
     "execution_count": 139,
     "metadata": {},
     "output_type": "execute_result"
    }
   ],
   "source": [
    "# Derivada parcial de orden 4 en x y de orden 2 en y (orden 6 en general).\n",
    "g.diff(x, 4, y, 2)"
   ]
  },
  {
   "cell_type": "markdown",
   "id": "a3f6b276",
   "metadata": {},
   "source": [
    "Los ejemplos anteriores consideran únicamente funciones arbitrarias (que no tienen un cuerpo definido). Naturalmente, es posible evaluar las derivadas de funciones bien definidas y de expresiones simbólicas, obteniendo igualmente las expresiones que representan las derivadas de tales funciones y expresiones. Por ejemplo, usando la función `sympy.diff()` podemos evaluar fácilmente las derivadas de cualquier expresión:"
   ]
  },
  {
   "cell_type": "code",
   "execution_count": 140,
   "id": "b54c8ec5",
   "metadata": {},
   "outputs": [],
   "source": [
    "# Una expresión polinómica.\n",
    "e = 4*x**6 + 2*x**3 - x**2 + 3*x - 6"
   ]
  },
  {
   "cell_type": "code",
   "execution_count": 141,
   "id": "ed5d95ca",
   "metadata": {},
   "outputs": [
    {
     "data": {
      "image/png": "[encoded data removed]",
      "text/latex": [
       "$\\displaystyle 4 x^{6} + 2 x^{3} - x^{2} + 3 x - 6$"
      ],
      "text/plain": [
       "   6      3    2          \n",
       "4⋅x  + 2⋅x  - x  + 3⋅x - 6"
      ]
     },
     "execution_count": 141,
     "metadata": {},
     "output_type": "execute_result"
    }
   ],
   "source": [
    "# Mostramos esta expresión en pantalla.\n",
    "e"
   ]
  },
  {
   "cell_type": "code",
   "execution_count": 142,
   "id": "9f918902",
   "metadata": {},
   "outputs": [
    {
     "data": {
      "image/png": "[encoded data removed]",
      "text/latex": [
       "$\\displaystyle 24 x^{5} + 6 x^{2} - 2 x + 3$"
      ],
      "text/plain": [
       "    5      2          \n",
       "24⋅x  + 6⋅x  - 2⋅x + 3"
      ]
     },
     "execution_count": 142,
     "metadata": {},
     "output_type": "execute_result"
    }
   ],
   "source": [
    "# Obtenemos la derivada de la expresion anterior.\n",
    "e.diff(x)"
   ]
  },
  {
   "cell_type": "code",
   "execution_count": 143,
   "id": "080b9c2d",
   "metadata": {},
   "outputs": [],
   "source": [
    "# Una expresión racional.\n",
    "r = (x + 1) / (x**2 + x - 1) + (12 / (x**3 - 2*x**2 + 4*x - 3)) + 4 / (x**2 + 1)"
   ]
  },
  {
   "cell_type": "code",
   "execution_count": 144,
   "id": "11ec2ba3",
   "metadata": {},
   "outputs": [
    {
     "data": {
      "image/png": "[encoded data removed]",
      "text/latex": [
       "$\\displaystyle \\frac{x + 1}{x^{2} + x - 1} + \\frac{12}{x^{3} - 2 x^{2} + 4 x - 3} + \\frac{4}{x^{2} + 1}$"
      ],
      "text/plain": [
       "  x + 1               12             4   \n",
       "────────── + ─────────────────── + ──────\n",
       " 2            3      2              2    \n",
       "x  + x - 1   x  - 2⋅x  + 4⋅x - 3   x  + 1"
      ]
     },
     "execution_count": 144,
     "metadata": {},
     "output_type": "execute_result"
    }
   ],
   "source": [
    "# Mostramos esta expresión en pantalla.\n",
    "r"
   ]
  },
  {
   "cell_type": "code",
   "execution_count": 145,
   "id": "c96211e0",
   "metadata": {},
   "outputs": [
    {
     "data": {
      "image/png": "[encoded data removed]",
      "text/latex": [
       "$\\displaystyle - \\frac{8 x}{\\left(x^{2} + 1\\right)^{2}} + \\frac{\\left(- 2 x - 1\\right) \\left(x + 1\\right)}{\\left(x^{2} + x - 1\\right)^{2}} + \\frac{12 \\left(- 3 x^{2} + 4 x - 4\\right)}{\\left(x^{3} - 2 x^{2} + 4 x - 3\\right)^{2}} + \\frac{1}{x^{2} + x - 1}$"
      ],
      "text/plain": [
       "                                      ⎛     2          ⎞              \n",
       "     8⋅x      (-2⋅x - 1)⋅(x + 1)   12⋅⎝- 3⋅x  + 4⋅x - 4⎠        1     \n",
       "- ───────── + ────────────────── + ────────────────────── + ──────────\n",
       "          2                 2                           2    2        \n",
       "  ⎛ 2    ⎞      ⎛ 2        ⎞       ⎛ 3      2          ⎞    x  + x - 1\n",
       "  ⎝x  + 1⎠      ⎝x  + x - 1⎠       ⎝x  - 2⋅x  + 4⋅x - 3⎠              "
      ]
     },
     "execution_count": 145,
     "metadata": {},
     "output_type": "execute_result"
    }
   ],
   "source": [
    "# Obtenemos la derivada de la expresión anterior.\n",
    "r.diff(x)"
   ]
  },
  {
   "cell_type": "code",
   "execution_count": 146,
   "id": "b65aa740",
   "metadata": {},
   "outputs": [
    {
     "data": {
      "image/png": "[encoded data removed]",
      "text/latex": [
       "$\\displaystyle 2 \\cdot \\left(\\frac{16 x^{2}}{\\left(x^{2} + 1\\right)^{3}} + \\frac{\\left(x + 1\\right) \\left(2 x + 1\\right)^{2}}{\\left(x^{2} + x - 1\\right)^{3}} - \\frac{x + 1}{\\left(x^{2} + x - 1\\right)^{2}} - \\frac{2 x + 1}{\\left(x^{2} + x - 1\\right)^{2}} - \\frac{12 \\cdot \\left(3 x - 2\\right)}{\\left(x^{3} - 2 x^{2} + 4 x - 3\\right)^{2}} + \\frac{12 \\left(3 x^{2} - 4 x + 4\\right)^{2}}{\\left(x^{3} - 2 x^{2} + 4 x - 3\\right)^{3}} - \\frac{4}{\\left(x^{2} + 1\\right)^{2}}\\right)$"
      ],
      "text/plain": [
       "  ⎛                                                                           \n",
       "  ⎜      2                      2                                             \n",
       "  ⎜  16⋅x      (x + 1)⋅(2⋅x + 1)        x + 1          2⋅x + 1           12⋅(3\n",
       "2⋅⎜───────── + ────────────────── - ───────────── - ───────────── - ──────────\n",
       "  ⎜        3                 3                  2               2             \n",
       "  ⎜⎛ 2    ⎞      ⎛ 2        ⎞       ⎛ 2        ⎞    ⎛ 2        ⎞    ⎛ 3      2\n",
       "  ⎝⎝x  + 1⎠      ⎝x  + x - 1⎠       ⎝x  + x - 1⎠    ⎝x  + x - 1⎠    ⎝x  - 2⋅x \n",
       "\n",
       "                                   2             ⎞\n",
       "                   ⎛   2          ⎞              ⎟\n",
       "⋅x - 2)         12⋅⎝3⋅x  - 4⋅x + 4⎠         4    ⎟\n",
       "──────────── + ────────────────────── - ─────────⎟\n",
       "           2                        3           2⎟\n",
       "          ⎞    ⎛ 3      2          ⎞    ⎛ 2    ⎞ ⎟\n",
       " + 4⋅x - 3⎠    ⎝x  - 2⋅x  + 4⋅x - 3⎠    ⎝x  + 1⎠ ⎠"
      ]
     },
     "execution_count": 146,
     "metadata": {},
     "output_type": "execute_result"
    }
   ],
   "source": [
    "# Y también la segunda derivada.\n",
    "r.diff(x, 2)"
   ]
  },
  {
   "cell_type": "code",
   "execution_count": 147,
   "id": "309cde86",
   "metadata": {},
   "outputs": [],
   "source": [
    "# Una expresión que combina funciones logarítmicas y trigonométricas.\n",
    "f = (1 / sympy.log(x**2 + 1)) + sympy.exp(-x**2) * sympy.tan((x**2 - 1)**2) - 1/(sympy.sin(x**2) + sympy.cos(x**2))"
   ]
  },
  {
   "cell_type": "code",
   "execution_count": 148,
   "id": "54d7ae7f",
   "metadata": {},
   "outputs": [
    {
     "data": {
      "image/png": "[encoded data removed]",
      "text/latex": [
       "$\\displaystyle \\frac{1}{\\log{\\left(x^{2} + 1 \\right)}} + e^{- x^{2}} \\tan{\\left(\\left(x^{2} - 1\\right)^{2} \\right)} - \\frac{1}{\\sin{\\left(x^{2} \\right)} + \\cos{\\left(x^{2} \\right)}}$"
      ],
      "text/plain": [
       "                 2    ⎛        2⎞                    \n",
       "     1         -x     ⎜⎛ 2    ⎞ ⎟           1        \n",
       "─────────── + ℯ   ⋅tan⎝⎝x  - 1⎠ ⎠ - ─────────────────\n",
       "   ⎛ 2    ⎞                            ⎛ 2⎞      ⎛ 2⎞\n",
       "log⎝x  + 1⎠                         sin⎝x ⎠ + cos⎝x ⎠"
      ]
     },
     "execution_count": 148,
     "metadata": {},
     "output_type": "execute_result"
    }
   ],
   "source": [
    "# Mostramos esta expresión en pantalla.\n",
    "f"
   ]
  },
  {
   "cell_type": "code",
   "execution_count": 149,
   "id": "191a17ad",
   "metadata": {},
   "outputs": [
    {
     "data": {
      "image/png": "[encoded data removed]",
      "text/latex": [
       "$\\displaystyle 4 x \\left(x^{2} - 1\\right) \\left(\\tan^{2}{\\left(\\left(x^{2} - 1\\right)^{2} \\right)} + 1\\right) e^{- x^{2}} - 2 x e^{- x^{2}} \\tan{\\left(\\left(x^{2} - 1\\right)^{2} \\right)} - \\frac{2 x}{\\left(x^{2} + 1\\right) \\log{\\left(x^{2} + 1 \\right)}^{2}} - \\frac{2 x \\sin{\\left(x^{2} \\right)} - 2 x \\cos{\\left(x^{2} \\right)}}{\\left(\\sin{\\left(x^{2} \\right)} + \\cos{\\left(x^{2} \\right)}\\right)^{2}}$"
      ],
      "text/plain": [
       "             ⎛    ⎛        2⎞    ⎞    2          2    ⎛        2⎞             \n",
       "    ⎛ 2    ⎞ ⎜   2⎜⎛ 2    ⎞ ⎟    ⎟  -x         -x     ⎜⎛ 2    ⎞ ⎟            2\n",
       "4⋅x⋅⎝x  - 1⎠⋅⎝tan ⎝⎝x  - 1⎠ ⎠ + 1⎠⋅ℯ    - 2⋅x⋅ℯ   ⋅tan⎝⎝x  - 1⎠ ⎠ - ──────────\n",
       "                                                                    ⎛ 2    ⎞  \n",
       "                                                                    ⎝x  + 1⎠⋅l\n",
       "                                                                              \n",
       "\n",
       "                     ⎛ 2⎞          ⎛ 2⎞\n",
       "⋅x            2⋅x⋅sin⎝x ⎠ - 2⋅x⋅cos⎝x ⎠\n",
       "─────────── - ─────────────────────────\n",
       "  2⎛ 2    ⎞                         2  \n",
       "og ⎝x  + 1⎠      ⎛   ⎛ 2⎞      ⎛ 2⎞⎞   \n",
       "                 ⎝sin⎝x ⎠ + cos⎝x ⎠⎠   "
      ]
     },
     "execution_count": 149,
     "metadata": {},
     "output_type": "execute_result"
    }
   ],
   "source": [
    "# Obtenemos la derivada de la expresión anterior.\n",
    "f.diff(x)"
   ]
  },
  {
   "cell_type": "code",
   "execution_count": 150,
   "id": "d9367c2c",
   "metadata": {},
   "outputs": [
    {
     "data": {
      "image/png": "[encoded data removed]",
      "text/latex": [
       "$\\displaystyle 2 \\cdot \\left(16 x^{2} \\left(x^{2} - 1\\right)^{2} \\left(\\tan^{2}{\\left(\\left(x^{2} - 1\\right)^{2} \\right)} + 1\\right) e^{- x^{2}} \\tan{\\left(\\left(x^{2} - 1\\right)^{2} \\right)} - 8 x^{2} \\left(x^{2} - 1\\right) \\left(\\tan^{2}{\\left(\\left(x^{2} - 1\\right)^{2} \\right)} + 1\\right) e^{- x^{2}} - \\frac{4 x^{2} \\left(\\sin{\\left(x^{2} \\right)} - \\cos{\\left(x^{2} \\right)}\\right)^{2}}{\\left(\\sin{\\left(x^{2} \\right)} + \\cos{\\left(x^{2} \\right)}\\right)^{3}} + 4 x^{2} \\left(\\tan^{2}{\\left(\\left(x^{2} - 1\\right)^{2} \\right)} + 1\\right) e^{- x^{2}} + 2 x^{2} e^{- x^{2}} \\tan{\\left(\\left(x^{2} - 1\\right)^{2} \\right)} + \\frac{2 x^{2}}{\\left(x^{2} + 1\\right)^{2} \\log{\\left(x^{2} + 1 \\right)}^{2}} + \\frac{4 x^{2}}{\\left(x^{2} + 1\\right)^{2} \\log{\\left(x^{2} + 1 \\right)}^{3}} + 2 \\left(x^{2} - 1\\right) \\left(\\tan^{2}{\\left(\\left(x^{2} - 1\\right)^{2} \\right)} + 1\\right) e^{- x^{2}} - e^{- x^{2}} \\tan{\\left(\\left(x^{2} - 1\\right)^{2} \\right)} - \\frac{2 x^{2} \\sin{\\left(x^{2} \\right)} + 2 x^{2} \\cos{\\left(x^{2} \\right)} + \\sin{\\left(x^{2} \\right)} - \\cos{\\left(x^{2} \\right)}}{\\left(\\sin{\\left(x^{2} \\right)} + \\cos{\\left(x^{2} \\right)}\\right)^{2}} - \\frac{1}{\\left(x^{2} + 1\\right) \\log{\\left(x^{2} + 1 \\right)}^{2}}\\right)$"
      ],
      "text/plain": [
       "  ⎛                                                                           \n",
       "  ⎜              2 ⎛    ⎛        2⎞    ⎞    2    ⎛        2⎞                 ⎛\n",
       "  ⎜    2 ⎛ 2    ⎞  ⎜   2⎜⎛ 2    ⎞ ⎟    ⎟  -x     ⎜⎛ 2    ⎞ ⎟      2 ⎛ 2    ⎞ ⎜\n",
       "2⋅⎜16⋅x ⋅⎝x  - 1⎠ ⋅⎝tan ⎝⎝x  - 1⎠ ⎠ + 1⎠⋅ℯ   ⋅tan⎝⎝x  - 1⎠ ⎠ - 8⋅x ⋅⎝x  - 1⎠⋅⎝\n",
       "  ⎜                                                                           \n",
       "  ⎜                                                                           \n",
       "  ⎝                                                                           \n",
       "\n",
       "                                                    2                         \n",
       "    ⎛        2⎞    ⎞    2      2 ⎛   ⎛ 2⎞      ⎛ 2⎞⎞         ⎛    ⎛        2⎞ \n",
       "   2⎜⎛ 2    ⎞ ⎟    ⎟  -x    4⋅x ⋅⎝sin⎝x ⎠ - cos⎝x ⎠⎠       2 ⎜   2⎜⎛ 2    ⎞ ⎟ \n",
       "tan ⎝⎝x  - 1⎠ ⎠ + 1⎠⋅ℯ    - ───────────────────────── + 4⋅x ⋅⎝tan ⎝⎝x  - 1⎠ ⎠ \n",
       "                                                  3                           \n",
       "                               ⎛   ⎛ 2⎞      ⎛ 2⎞⎞                            \n",
       "                               ⎝sin⎝x ⎠ + cos⎝x ⎠⎠                            \n",
       "\n",
       "                                                                              \n",
       "   ⎞    2           2    ⎛        2⎞               2                        2 \n",
       "   ⎟  -x       2  -x     ⎜⎛ 2    ⎞ ⎟            2⋅x                      4⋅x  \n",
       "+ 1⎠⋅ℯ    + 2⋅x ⋅ℯ   ⋅tan⎝⎝x  - 1⎠ ⎠ + ────────────────────── + ──────────────\n",
       "                                               2                        2     \n",
       "                                       ⎛ 2    ⎞     2⎛ 2    ⎞   ⎛ 2    ⎞     3\n",
       "                                       ⎝x  + 1⎠ ⋅log ⎝x  + 1⎠   ⎝x  + 1⎠ ⋅log \n",
       "\n",
       "                                                                              \n",
       "                      ⎛    ⎛        2⎞    ⎞    2      2    ⎛        2⎞      2 \n",
       "             ⎛ 2    ⎞ ⎜   2⎜⎛ 2    ⎞ ⎟    ⎟  -x     -x     ⎜⎛ 2    ⎞ ⎟   2⋅x ⋅\n",
       "──────── + 2⋅⎝x  - 1⎠⋅⎝tan ⎝⎝x  - 1⎠ ⎠ + 1⎠⋅ℯ    - ℯ   ⋅tan⎝⎝x  - 1⎠ ⎠ - ─────\n",
       "                                                                              \n",
       "⎛ 2    ⎞                                                                      \n",
       "⎝x  + 1⎠                                                                      \n",
       "\n",
       "                                                                  ⎞\n",
       "   ⎛ 2⎞      2    ⎛ 2⎞      ⎛ 2⎞      ⎛ 2⎞                        ⎟\n",
       "sin⎝x ⎠ + 2⋅x ⋅cos⎝x ⎠ + sin⎝x ⎠ - cos⎝x ⎠             1          ⎟\n",
       "────────────────────────────────────────── - ─────────────────────⎟\n",
       "                            2                ⎛ 2    ⎞    2⎛ 2    ⎞⎟\n",
       "         ⎛   ⎛ 2⎞      ⎛ 2⎞⎞                 ⎝x  + 1⎠⋅log ⎝x  + 1⎠⎟\n",
       "         ⎝sin⎝x ⎠ + cos⎝x ⎠⎠                                      ⎠"
      ]
     },
     "execution_count": 150,
     "metadata": {},
     "output_type": "execute_result"
    }
   ],
   "source": [
    "# Y también la segunda derivada.\n",
    "f.diff(x, 2)"
   ]
  },
  {
   "cell_type": "markdown",
   "id": "a2e1602c",
   "metadata": {},
   "source": [
    "Los cálculos de derivadas también pueden extenderse fácilmente a expresiones multivariables:"
   ]
  },
  {
   "cell_type": "code",
   "execution_count": 151,
   "id": "b19347ad",
   "metadata": {},
   "outputs": [],
   "source": [
    "# Una expresión de dos variables (x e y).\n",
    "t = sympy.sin(x**2 - y**2)*sympy.tan(1 + x*y)/(sympy.sin(1 + 1/(x*y)**2))"
   ]
  },
  {
   "cell_type": "code",
   "execution_count": 152,
   "id": "2c732a01",
   "metadata": {},
   "outputs": [
    {
     "data": {
      "image/png": "[encoded data removed]",
      "text/latex": [
       "$\\displaystyle \\frac{\\sin{\\left(x^{2} - y^{2} \\right)} \\tan{\\left(x y + 1 \\right)}}{\\sin{\\left(1 + \\frac{1}{x^{2} y^{2}} \\right)}}$"
      ],
      "text/plain": [
       "   ⎛ 2    2⎞             \n",
       "sin⎝x  - y ⎠⋅tan(x⋅y + 1)\n",
       "─────────────────────────\n",
       "         ⎛      1  ⎞     \n",
       "      sin⎜1 + ─────⎟     \n",
       "         ⎜     2  2⎟     \n",
       "         ⎝    x ⋅y ⎠     "
      ]
     },
     "execution_count": 152,
     "metadata": {},
     "output_type": "execute_result"
    }
   ],
   "source": [
    "# Mostramos esta expresión en pantalla.\n",
    "t"
   ]
  },
  {
   "cell_type": "code",
   "execution_count": 153,
   "id": "761b8dc8",
   "metadata": {},
   "outputs": [
    {
     "data": {
      "image/png": "[encoded data removed]",
      "text/latex": [
       "$\\displaystyle \\frac{2 x \\cos{\\left(x^{2} - y^{2} \\right)} \\tan{\\left(x y + 1 \\right)}}{\\sin{\\left(1 + \\frac{1}{x^{2} y^{2}} \\right)}} + \\frac{y \\left(\\tan^{2}{\\left(x y + 1 \\right)} + 1\\right) \\sin{\\left(x^{2} - y^{2} \\right)}}{\\sin{\\left(1 + \\frac{1}{x^{2} y^{2}} \\right)}} + \\frac{2 \\sin{\\left(x^{2} - y^{2} \\right)} \\cos{\\left(1 + \\frac{1}{x^{2} y^{2}} \\right)} \\tan{\\left(x y + 1 \\right)}}{x^{3} y^{2} \\sin^{2}{\\left(1 + \\frac{1}{x^{2} y^{2}} \\right)}}$"
      ],
      "text/plain": [
       "                                                                          ⎛ 2 \n",
       "                                                                     2⋅sin⎝x  \n",
       "       ⎛ 2    2⎞                  ⎛   2             ⎞    ⎛ 2    2⎞            \n",
       "2⋅x⋅cos⎝x  - y ⎠⋅tan(x⋅y + 1)   y⋅⎝tan (x⋅y + 1) + 1⎠⋅sin⎝x  - y ⎠            \n",
       "───────────────────────────── + ────────────────────────────────── + ─────────\n",
       "           ⎛      1  ⎞                       ⎛      1  ⎞                      \n",
       "        sin⎜1 + ─────⎟                    sin⎜1 + ─────⎟                      \n",
       "           ⎜     2  2⎟                       ⎜     2  2⎟                      \n",
       "           ⎝    x ⋅y ⎠                       ⎝    x ⋅y ⎠                      \n",
       "\n",
       "   2⎞    ⎛      1  ⎞             \n",
       "- y ⎠⋅cos⎜1 + ─────⎟⋅tan(x⋅y + 1)\n",
       "         ⎜     2  2⎟             \n",
       "         ⎝    x ⋅y ⎠             \n",
       "─────────────────────────────────\n",
       "  3  2    2⎛      1  ⎞           \n",
       " x ⋅y ⋅sin ⎜1 + ─────⎟           \n",
       "           ⎜     2  2⎟           \n",
       "           ⎝    x ⋅y ⎠           "
      ]
     },
     "execution_count": 153,
     "metadata": {},
     "output_type": "execute_result"
    }
   ],
   "source": [
    "# Derivada parcial con respecto a x.\n",
    "t.diff(x)"
   ]
  },
  {
   "cell_type": "code",
   "execution_count": 154,
   "id": "84ca0334",
   "metadata": {},
   "outputs": [
    {
     "data": {
      "image/png": "[encoded data removed]",
      "text/latex": [
       "$\\displaystyle \\frac{x \\left(\\tan^{2}{\\left(x y + 1 \\right)} + 1\\right) \\sin{\\left(x^{2} - y^{2} \\right)}}{\\sin{\\left(1 + \\frac{1}{x^{2} y^{2}} \\right)}} - \\frac{2 y \\cos{\\left(x^{2} - y^{2} \\right)} \\tan{\\left(x y + 1 \\right)}}{\\sin{\\left(1 + \\frac{1}{x^{2} y^{2}} \\right)}} + \\frac{2 \\sin{\\left(x^{2} - y^{2} \\right)} \\cos{\\left(1 + \\frac{1}{x^{2} y^{2}} \\right)} \\tan{\\left(x y + 1 \\right)}}{x^{2} y^{3} \\sin^{2}{\\left(1 + \\frac{1}{x^{2} y^{2}} \\right)}}$"
      ],
      "text/plain": [
       "                                                                          ⎛ 2 \n",
       "                                                                     2⋅sin⎝x  \n",
       "  ⎛   2             ⎞    ⎛ 2    2⎞          ⎛ 2    2⎞                         \n",
       "x⋅⎝tan (x⋅y + 1) + 1⎠⋅sin⎝x  - y ⎠   2⋅y⋅cos⎝x  - y ⎠⋅tan(x⋅y + 1)            \n",
       "────────────────────────────────── - ───────────────────────────── + ─────────\n",
       "             ⎛      1  ⎞                        ⎛      1  ⎞                   \n",
       "          sin⎜1 + ─────⎟                     sin⎜1 + ─────⎟                   \n",
       "             ⎜     2  2⎟                        ⎜     2  2⎟                   \n",
       "             ⎝    x ⋅y ⎠                        ⎝    x ⋅y ⎠                   \n",
       "\n",
       "   2⎞    ⎛      1  ⎞             \n",
       "- y ⎠⋅cos⎜1 + ─────⎟⋅tan(x⋅y + 1)\n",
       "         ⎜     2  2⎟             \n",
       "         ⎝    x ⋅y ⎠             \n",
       "─────────────────────────────────\n",
       "  2  3    2⎛      1  ⎞           \n",
       " x ⋅y ⋅sin ⎜1 + ─────⎟           \n",
       "           ⎜     2  2⎟           \n",
       "           ⎝    x ⋅y ⎠           "
      ]
     },
     "execution_count": 154,
     "metadata": {},
     "output_type": "execute_result"
    }
   ],
   "source": [
    "# Derivada parcial con respecto a y.\n",
    "t.diff(y)"
   ]
  },
  {
   "cell_type": "code",
   "execution_count": 155,
   "id": "907748c9",
   "metadata": {},
   "outputs": [
    {
     "data": {
      "image/png": "[encoded data removed]",
      "text/latex": [
       "$\\displaystyle \\frac{2 x^{2} \\left(\\tan^{2}{\\left(x y + 1 \\right)} + 1\\right) \\cos{\\left(x^{2} - y^{2} \\right)} + 2 x y \\left(\\tan^{2}{\\left(x y + 1 \\right)} + 1\\right) \\sin{\\left(x^{2} - y^{2} \\right)} \\tan{\\left(x y + 1 \\right)} + 4 x y \\sin{\\left(x^{2} - y^{2} \\right)} \\tan{\\left(x y + 1 \\right)} - 2 y^{2} \\left(\\tan^{2}{\\left(x y + 1 \\right)} + 1\\right) \\cos{\\left(x^{2} - y^{2} \\right)} + \\left(\\tan^{2}{\\left(x y + 1 \\right)} + 1\\right) \\sin{\\left(x^{2} - y^{2} \\right)} + \\frac{4 \\cos{\\left(1 + \\frac{1}{x^{2} y^{2}} \\right)} \\cos{\\left(x^{2} - y^{2} \\right)} \\tan{\\left(x y + 1 \\right)}}{x y^{3} \\sin{\\left(1 + \\frac{1}{x^{2} y^{2}} \\right)}} + \\frac{4 \\left(\\tan^{2}{\\left(x y + 1 \\right)} + 1\\right) \\sin{\\left(x^{2} - y^{2} \\right)} \\cos{\\left(1 + \\frac{1}{x^{2} y^{2}} \\right)}}{x^{2} y^{2} \\sin{\\left(1 + \\frac{1}{x^{2} y^{2}} \\right)}} - \\frac{4 \\cos{\\left(1 + \\frac{1}{x^{2} y^{2}} \\right)} \\cos{\\left(x^{2} - y^{2} \\right)} \\tan{\\left(x y + 1 \\right)}}{x^{3} y \\sin{\\left(1 + \\frac{1}{x^{2} y^{2}} \\right)}} - \\frac{4 \\sin{\\left(x^{2} - y^{2} \\right)} \\cos{\\left(1 + \\frac{1}{x^{2} y^{2}} \\right)} \\tan{\\left(x y + 1 \\right)}}{x^{3} y^{3} \\sin{\\left(1 + \\frac{1}{x^{2} y^{2}} \\right)}} + \\frac{4 \\sin{\\left(x^{2} - y^{2} \\right)} \\tan{\\left(x y + 1 \\right)}}{x^{5} y^{5}} + \\frac{8 \\sin{\\left(x^{2} - y^{2} \\right)} \\cos^{2}{\\left(1 + \\frac{1}{x^{2} y^{2}} \\right)} \\tan{\\left(x y + 1 \\right)}}{x^{5} y^{5} \\sin^{2}{\\left(1 + \\frac{1}{x^{2} y^{2}} \\right)}}}{\\sin{\\left(1 + \\frac{1}{x^{2} y^{2}} \\right)}}$"
      ],
      "text/plain": [
       "                                                                              \n",
       "                                                                              \n",
       "                                                                              \n",
       "   2 ⎛   2             ⎞    ⎛ 2    2⎞         ⎛   2             ⎞    ⎛ 2    2⎞\n",
       "2⋅x ⋅⎝tan (x⋅y + 1) + 1⎠⋅cos⎝x  - y ⎠ + 2⋅x⋅y⋅⎝tan (x⋅y + 1) + 1⎠⋅sin⎝x  - y ⎠\n",
       "                                                                              \n",
       "                                                                              \n",
       "                                                                              \n",
       "                                                                              \n",
       "──────────────────────────────────────────────────────────────────────────────\n",
       "                                                                              \n",
       "                                                                              \n",
       "                                                                              \n",
       "                                                                              \n",
       "\n",
       "                                                                              \n",
       "                                                                              \n",
       "                                                                              \n",
       "                         ⎛ 2    2⎞                   2 ⎛   2             ⎞    \n",
       "⋅tan(x⋅y + 1) + 4⋅x⋅y⋅sin⎝x  - y ⎠⋅tan(x⋅y + 1) - 2⋅y ⋅⎝tan (x⋅y + 1) + 1⎠⋅cos\n",
       "                                                                              \n",
       "                                                                              \n",
       "                                                                              \n",
       "                                                                              \n",
       "──────────────────────────────────────────────────────────────────────────────\n",
       "                                                                              \n",
       "                                                                              \n",
       "                                                                              \n",
       "                                                                              \n",
       "\n",
       "                                                    ⎛      1  ⎞    ⎛ 2    2⎞  \n",
       "                                               4⋅cos⎜1 + ─────⎟⋅cos⎝x  - y ⎠⋅t\n",
       "                                                    ⎜     2  2⎟               \n",
       "⎛ 2    2⎞   ⎛   2             ⎞    ⎛ 2    2⎞        ⎝    x ⋅y ⎠               \n",
       "⎝x  - y ⎠ + ⎝tan (x⋅y + 1) + 1⎠⋅sin⎝x  - y ⎠ + ───────────────────────────────\n",
       "                                                             3    ⎛      1  ⎞ \n",
       "                                                          x⋅y ⋅sin⎜1 + ─────⎟ \n",
       "                                                                  ⎜     2  2⎟ \n",
       "                                                                  ⎝    x ⋅y ⎠ \n",
       "──────────────────────────────────────────────────────────────────────────────\n",
       "                                                                        ⎛     \n",
       "                                                                     sin⎜1 + ─\n",
       "                                                                        ⎜     \n",
       "                                                                        ⎝    x\n",
       "\n",
       "                ⎛   2             ⎞    ⎛ 2    2⎞    ⎛      1  ⎞        ⎛      \n",
       "an(x⋅y + 1)   4⋅⎝tan (x⋅y + 1) + 1⎠⋅sin⎝x  - y ⎠⋅cos⎜1 + ─────⎟   4⋅cos⎜1 + ──\n",
       "                                                    ⎜     2  2⎟        ⎜     2\n",
       "                                                    ⎝    x ⋅y ⎠        ⎝    x \n",
       "─────────── + ───────────────────────────────────────────────── - ────────────\n",
       "                              2  2    ⎛      1  ⎞                             \n",
       "                             x ⋅y ⋅sin⎜1 + ─────⎟                            x\n",
       "                                      ⎜     2  2⎟                             \n",
       "                                      ⎝    x ⋅y ⎠                             \n",
       "──────────────────────────────────────────────────────────────────────────────\n",
       " 1  ⎞                                                                         \n",
       "────⎟                                                                         \n",
       "2  2⎟                                                                         \n",
       " ⋅y ⎠                                                                         \n",
       "\n",
       "1  ⎞    ⎛ 2    2⎞                     ⎛ 2    2⎞    ⎛      1  ⎞                \n",
       "───⎟⋅cos⎝x  - y ⎠⋅tan(x⋅y + 1)   4⋅sin⎝x  - y ⎠⋅cos⎜1 + ─────⎟⋅tan(x⋅y + 1)   \n",
       "  2⎟                                               ⎜     2  2⎟                \n",
       "⋅y ⎠                                               ⎝    x ⋅y ⎠                \n",
       "────────────────────────────── - ────────────────────────────────────────── + \n",
       "3      ⎛      1  ⎞                           3  3    ⎛      1  ⎞              \n",
       " ⋅y⋅sin⎜1 + ─────⎟                          x ⋅y ⋅sin⎜1 + ─────⎟              \n",
       "       ⎜     2  2⎟                                   ⎜     2  2⎟              \n",
       "       ⎝    x ⋅y ⎠                                   ⎝    x ⋅y ⎠              \n",
       "──────────────────────────────────────────────────────────────────────────────\n",
       "                                                                              \n",
       "                                                                              \n",
       "                                                                              \n",
       "                                                                              \n",
       "\n",
       "                                   ⎛ 2    2⎞    2⎛      1  ⎞             \n",
       "                              8⋅sin⎝x  - y ⎠⋅cos ⎜1 + ─────⎟⋅tan(x⋅y + 1)\n",
       "     ⎛ 2    2⎞                                   ⎜     2  2⎟             \n",
       "4⋅sin⎝x  - y ⎠⋅tan(x⋅y + 1)                      ⎝    x ⋅y ⎠             \n",
       "─────────────────────────── + ───────────────────────────────────────────\n",
       "            5  5                          5  5    2⎛      1  ⎞           \n",
       "           x ⋅y                          x ⋅y ⋅sin ⎜1 + ─────⎟           \n",
       "                                                   ⎜     2  2⎟           \n",
       "                                                   ⎝    x ⋅y ⎠           \n",
       "─────────────────────────────────────────────────────────────────────────\n",
       "                                                                         \n",
       "                                                                         \n",
       "                                                                         \n",
       "                                                                         "
      ]
     },
     "execution_count": 155,
     "metadata": {},
     "output_type": "execute_result"
    }
   ],
   "source": [
    "# Derivada parcial mixta de segundo orden respecto de x e y.\n",
    "t.diff(x, y)"
   ]
  },
  {
   "cell_type": "markdown",
   "id": "c8392f4a",
   "metadata": {},
   "source": [
    "Las derivadas suelen ser fáciles de computar, y la función `sympy.diff()` debiera ser capaz de evaluar la derivada de la mayoría de las funciones estándar que pueden definirse por medio del uso de **Sympy**.\n",
    "\n",
    "Notemos que, en los ejemplos anteriores, el uso del método `diff()` sobre una expresión arbitraria resulta en una nueva expresión. Si, en vez de ello, queremos representar simbólicamente la derivada de una expresión bien definida, podemos crear una instancia de la clase `sympy.Derivative`, pasando la correspondiente expresión como el primer argumento, seguida de las variables simbólicas respecto de las cuales queremos calcular la respectiva derivada:"
   ]
  },
  {
   "cell_type": "code",
   "execution_count": 156,
   "id": "f62713b5",
   "metadata": {},
   "outputs": [],
   "source": [
    "# Generamos una instancia de la derivada para la expresión f.\n",
    "d = sympy.Derivative(f, x)"
   ]
  },
  {
   "cell_type": "code",
   "execution_count": 157,
   "id": "8a46bba7",
   "metadata": {},
   "outputs": [
    {
     "data": {
      "image/png": "[encoded data removed]",
      "text/latex": [
       "$\\displaystyle \\frac{d}{d x} \\left(\\frac{1}{\\log{\\left(x^{2} + 1 \\right)}} + e^{- x^{2}} \\tan{\\left(\\left(x^{2} - 1\\right)^{2} \\right)} - \\frac{1}{\\sin{\\left(x^{2} \\right)} + \\cos{\\left(x^{2} \\right)}}\\right)$"
      ],
      "text/plain": [
       "  ⎛                 2    ⎛        2⎞                    ⎞\n",
       "d ⎜     1         -x     ⎜⎛ 2    ⎞ ⎟           1        ⎟\n",
       "──⎜─────────── + ℯ   ⋅tan⎝⎝x  - 1⎠ ⎠ - ─────────────────⎟\n",
       "dx⎜   ⎛ 2    ⎞                            ⎛ 2⎞      ⎛ 2⎞⎟\n",
       "  ⎝log⎝x  + 1⎠                         sin⎝x ⎠ + cos⎝x ⎠⎠"
      ]
     },
     "execution_count": 157,
     "metadata": {},
     "output_type": "execute_result"
    }
   ],
   "source": [
    "# Mostramos esta instancia.\n",
    "d"
   ]
  },
  {
   "cell_type": "markdown",
   "id": "3cfc6462",
   "metadata": {},
   "source": [
    "Esta representación formal de la derivada `d` puede luego evaluarse usando el método `doit()`, que es propio de la clase `sympy.Derivative`:"
   ]
  },
  {
   "cell_type": "code",
   "execution_count": 158,
   "id": "c52f2ab9",
   "metadata": {},
   "outputs": [
    {
     "data": {
      "image/png": "[encoded data removed]",
      "text/latex": [
       "$\\displaystyle 4 x \\left(x^{2} - 1\\right) \\left(\\tan^{2}{\\left(\\left(x^{2} - 1\\right)^{2} \\right)} + 1\\right) e^{- x^{2}} - 2 x e^{- x^{2}} \\tan{\\left(\\left(x^{2} - 1\\right)^{2} \\right)} - \\frac{2 x}{\\left(x^{2} + 1\\right) \\log{\\left(x^{2} + 1 \\right)}^{2}} - \\frac{2 x \\sin{\\left(x^{2} \\right)} - 2 x \\cos{\\left(x^{2} \\right)}}{\\left(\\sin{\\left(x^{2} \\right)} + \\cos{\\left(x^{2} \\right)}\\right)^{2}}$"
      ],
      "text/plain": [
       "             ⎛    ⎛        2⎞    ⎞    2          2    ⎛        2⎞             \n",
       "    ⎛ 2    ⎞ ⎜   2⎜⎛ 2    ⎞ ⎟    ⎟  -x         -x     ⎜⎛ 2    ⎞ ⎟            2\n",
       "4⋅x⋅⎝x  - 1⎠⋅⎝tan ⎝⎝x  - 1⎠ ⎠ + 1⎠⋅ℯ    - 2⋅x⋅ℯ   ⋅tan⎝⎝x  - 1⎠ ⎠ - ──────────\n",
       "                                                                    ⎛ 2    ⎞  \n",
       "                                                                    ⎝x  + 1⎠⋅l\n",
       "                                                                              \n",
       "\n",
       "                     ⎛ 2⎞          ⎛ 2⎞\n",
       "⋅x            2⋅x⋅sin⎝x ⎠ - 2⋅x⋅cos⎝x ⎠\n",
       "─────────── - ─────────────────────────\n",
       "  2⎛ 2    ⎞                         2  \n",
       "og ⎝x  + 1⎠      ⎛   ⎛ 2⎞      ⎛ 2⎞⎞   \n",
       "                 ⎝sin⎝x ⎠ + cos⎝x ⎠⎠   "
      ]
     },
     "execution_count": 158,
     "metadata": {},
     "output_type": "execute_result"
    }
   ],
   "source": [
    "# Evaluamos la derivada.\n",
    "d.doit()"
   ]
  },
  {
   "cell_type": "code",
   "execution_count": 159,
   "id": "b5c0898f",
   "metadata": {},
   "outputs": [
    {
     "data": {
      "text/plain": [
       "True"
      ]
     },
     "execution_count": 159,
     "metadata": {},
     "output_type": "execute_result"
    }
   ],
   "source": [
    "# Efectivamente, hemos llegado al mismo resultado.\n",
    "f.diff(x) is d.doit()"
   ]
  },
  {
   "cell_type": "markdown",
   "id": "456496c1",
   "metadata": {},
   "source": [
    "El patrón anterior de evaluación, en cierta forma retardado, es muy frecuente en **Sympy**. Esto sucede precisamente porque muchas expresiones pueden ser factibles de ser simplificadas antes de ser evaluadas de forma directa.\n",
    "\n",
    "## Aplicaciones al cálculo integral\n",
    "Por supuesto, en **Sympy** también es posible evaluar integrales. Para ello, podemos hacer uso de la función `sympy.integrate()` para evaluar la integral de una expresión arbitraria con respecto a una determinada variable, o bien, podemos expresar formalmente una integral por medio de la clase `sympy.Integral` (pudiendo evaluar la integral correspondiente mediante el método `doit()`, de la misma forma que lo hacemos con las derivadas). Las integrales, como en el caso simbólico, pueden ser definidas o indefinidas, dependiendo si existe un intervalo o región de integración o no. En el primer caso, el resultado de una integral es un valor numérico que puede representar un área en el caso unidimensional, un volumen en el caso bidimensional, y así sucesivamente. En el segundo caso, el resultado es una expresión que típicamente se denomina *antiderivada* de la expresión que integramos. Cualquiera sea el tipo de integral, **Sympy** puede manejar ambos mediante la función `sympy.integrate()`.\n",
    "\n",
    "Si hacemos uso de la función `sympy.integrate()` únicamente con una determinada expresión como argumento, **Sympy** computará la correspondiente integral indefinida de dicha expresión. Por otro lado, podemos computar una integral definida si, adicionalmente, pasamos una tupla a la función `sympy.integrate()` de la forma `(x, a, b)`, donde `x` es la variable respecto de la cual integramos, mientras que `a` y `b` representan los límites de integración en el caso unidimensional. Para una función de una variable $f(x)$, las correspondientes integrales (definida e indefinida) se computan como sigue:"
   ]
  },
  {
   "cell_type": "code",
   "execution_count": 160,
   "id": "baa0cb31",
   "metadata": {},
   "outputs": [],
   "source": [
    "# Definimos todas las variables simbólicas a utilizar.\n",
    "a, b, x = sympy.symbols(\"a, b, x\", real=True)"
   ]
  },
  {
   "cell_type": "code",
   "execution_count": 161,
   "id": "798add63",
   "metadata": {},
   "outputs": [],
   "source": [
    "# Definimos la función f(x).\n",
    "f = sympy.Function(\"f\")(x)"
   ]
  },
  {
   "cell_type": "code",
   "execution_count": 162,
   "id": "88eb5ae5",
   "metadata": {},
   "outputs": [
    {
     "data": {
      "image/png": "[encoded data removed]",
      "text/latex": [
       "$\\displaystyle \\int f{\\left(x \\right)}\\, dx$"
      ],
      "text/plain": [
       "⌠        \n",
       "⎮ f(x) dx\n",
       "⌡        "
      ]
     },
     "execution_count": 162,
     "metadata": {},
     "output_type": "execute_result"
    }
   ],
   "source": [
    "# Expresamos la integral indefinida de f.\n",
    "f.integrate(x)"
   ]
  },
  {
   "cell_type": "code",
   "execution_count": 163,
   "id": "0db72fed",
   "metadata": {},
   "outputs": [
    {
     "data": {
      "image/png": "[encoded data removed]",
      "text/latex": [
       "$\\displaystyle \\int\\limits_{a}^{b} f{\\left(x \\right)}\\, dx$"
      ],
      "text/plain": [
       "b        \n",
       "⌠        \n",
       "⎮ f(x) dx\n",
       "⌡        \n",
       "a        "
      ]
     },
     "execution_count": 163,
     "metadata": {},
     "output_type": "execute_result"
    }
   ],
   "source": [
    "# Expresamos la integral de f sobre el intervalo cerrado [a, b].\n",
    "sympy.integrate(f, (x, a, b))"
   ]
  },
  {
   "cell_type": "markdown",
   "id": "ab78c21f",
   "metadata": {},
   "source": [
    "Por supuesto, cuando estos métodos se aplican sobre funciones bien definidas, las integran se evalúan conforme dichas definiciones:"
   ]
  },
  {
   "cell_type": "code",
   "execution_count": 164,
   "id": "9c7d8a55",
   "metadata": {},
   "outputs": [],
   "source": [
    "# Definimos una expresión.\n",
    "g = (x**3 + 2*x - 1) / (x**4 - 1)"
   ]
  },
  {
   "cell_type": "code",
   "execution_count": 165,
   "id": "58c83048",
   "metadata": {},
   "outputs": [
    {
     "data": {
      "image/png": "[encoded data removed]",
      "text/latex": [
       "$\\displaystyle \\frac{x^{3} + 2 x - 1}{x^{4} - 1}$"
      ],
      "text/plain": [
       " 3          \n",
       "x  + 2⋅x - 1\n",
       "────────────\n",
       "    4       \n",
       "   x  - 1   "
      ]
     },
     "execution_count": 165,
     "metadata": {},
     "output_type": "execute_result"
    }
   ],
   "source": [
    "# Mostramos esta expresión en pantalla.\n",
    "g"
   ]
  },
  {
   "cell_type": "code",
   "execution_count": 166,
   "id": "35a6fa48",
   "metadata": {},
   "outputs": [
    {
     "data": {
      "image/png": "[encoded data removed]",
      "text/latex": [
       "$\\displaystyle \\frac{\\log{\\left(x - 1 \\right)}}{2} + \\log{\\left(x + 1 \\right)} - \\frac{\\log{\\left(x^{2} + 1 \\right)}}{4} + \\frac{\\operatorname{atan}{\\left(x \\right)}}{2}$"
      ],
      "text/plain": [
       "                             ⎛ 2    ⎞          \n",
       "log(x - 1)                log⎝x  + 1⎠   atan(x)\n",
       "────────── + log(x + 1) - ─────────── + ───────\n",
       "    2                          4           2   "
      ]
     },
     "execution_count": 166,
     "metadata": {},
     "output_type": "execute_result"
    }
   ],
   "source": [
    "# Calculamos la integral indefinida de la expresión anterior.\n",
    "g.integrate(x)"
   ]
  },
  {
   "cell_type": "code",
   "execution_count": 167,
   "id": "b3415d55",
   "metadata": {},
   "outputs": [
    {
     "data": {
      "image/png": "[encoded data removed]",
      "text/latex": [
       "$\\displaystyle - \\frac{\\log{\\left(a - 1 \\right)}}{2} - \\log{\\left(a + 1 \\right)} + \\frac{\\log{\\left(a^{2} + 1 \\right)}}{4} + \\frac{\\log{\\left(b - 1 \\right)}}{2} + \\log{\\left(b + 1 \\right)} - \\frac{\\log{\\left(b^{2} + 1 \\right)}}{4} - \\frac{\\operatorname{atan}{\\left(a \\right)}}{2} + \\frac{\\operatorname{atan}{\\left(b \\right)}}{2}$"
      ],
      "text/plain": [
       "                               ⎛ 2    ⎞                                ⎛ 2    \n",
       "  log(a - 1)                log⎝a  + 1⎠   log(b - 1)                log⎝b  + 1\n",
       "- ────────── - log(a + 1) + ─────────── + ────────── + log(b + 1) - ──────────\n",
       "      2                          4            2                          4    \n",
       "\n",
       "⎞                    \n",
       "⎠   atan(a)   atan(b)\n",
       "─ - ─────── + ───────\n",
       "       2         2   "
      ]
     },
     "execution_count": 167,
     "metadata": {},
     "output_type": "execute_result"
    }
   ],
   "source": [
    "# Calculamos la integral de la expresion anterior, definida sobre el intervalo [a, b].\n",
    "sympy.integrate(g, (x, a, b))"
   ]
  },
  {
   "cell_type": "markdown",
   "id": "327701bd",
   "metadata": {},
   "source": [
    "También es posible definir límites de integración de forma explícita, incluso usando expresiones como $+\\infty$ o $-\\infty$:"
   ]
  },
  {
   "cell_type": "code",
   "execution_count": 168,
   "id": "da3e65c9",
   "metadata": {},
   "outputs": [],
   "source": [
    "# Definimos la expresión que vamos a integrar.\n",
    "h = 1 / (1 + x**2 + x**4 + x**6)"
   ]
  },
  {
   "cell_type": "code",
   "execution_count": 169,
   "id": "0a7c3d7e",
   "metadata": {},
   "outputs": [
    {
     "data": {
      "image/png": "[encoded data removed]",
      "text/latex": [
       "$\\displaystyle \\frac{1}{x^{6} + x^{4} + x^{2} + 1}$"
      ],
      "text/plain": [
       "       1        \n",
       "────────────────\n",
       " 6    4    2    \n",
       "x  + x  + x  + 1"
      ]
     },
     "execution_count": 169,
     "metadata": {},
     "output_type": "execute_result"
    }
   ],
   "source": [
    "# Mostramos la expresión en pantalla.\n",
    "h"
   ]
  },
  {
   "cell_type": "code",
   "execution_count": 170,
   "id": "8b62cfab",
   "metadata": {},
   "outputs": [
    {
     "data": {
      "image/png": "[encoded data removed]",
      "text/latex": [
       "$\\displaystyle \\frac{\\pi}{4}$"
      ],
      "text/plain": [
       "π\n",
       "─\n",
       "4"
      ]
     },
     "execution_count": 170,
     "metadata": {},
     "output_type": "execute_result"
    }
   ],
   "source": [
    "# Calculamos la integral de la expresion anterior, definida sobre el intervalo [0, +∞].\n",
    "sympy.integrate(h, (x, 0, sympy.oo))"
   ]
  },
  {
   "cell_type": "code",
   "execution_count": 171,
   "id": "a609633d",
   "metadata": {},
   "outputs": [],
   "source": [
    "# Definimos otra expresión.\n",
    "p = 1 / (1 + x**4)"
   ]
  },
  {
   "cell_type": "code",
   "execution_count": 172,
   "id": "881b42bf",
   "metadata": {},
   "outputs": [
    {
     "data": {
      "image/png": "[encoded data removed]",
      "text/latex": [
       "$\\displaystyle \\frac{1}{x^{4} + 1}$"
      ],
      "text/plain": [
       "  1   \n",
       "──────\n",
       " 4    \n",
       "x  + 1"
      ]
     },
     "execution_count": 172,
     "metadata": {},
     "output_type": "execute_result"
    }
   ],
   "source": [
    "# Mostramos esta expresión en pantalla.\n",
    "p"
   ]
  },
  {
   "cell_type": "code",
   "execution_count": 173,
   "id": "7b660279",
   "metadata": {},
   "outputs": [
    {
     "data": {
      "image/png": "[encoded data removed]",
      "text/latex": [
       "$\\displaystyle \\frac{\\sqrt{2} \\pi}{4}$"
      ],
      "text/plain": [
       "√2⋅π\n",
       "────\n",
       " 4  "
      ]
     },
     "execution_count": 173,
     "metadata": {},
     "output_type": "execute_result"
    }
   ],
   "source": [
    "# Calculamos la integral definida sobre el intervalo cerrado [a, b].\n",
    "sympy.integrate(p, (x, 0, sympy.oo))"
   ]
  },
  {
   "cell_type": "markdown",
   "id": "0f1da49f",
   "metadata": {},
   "source": [
    "A diferencia de las derivadas, el problema de calcular una integral simbólicamente es, en general, muy difícil, y **Sympy** no será capaz de calcular *cualquier* integral que presentemos. Cuando ésto ocurra, **Sympy** retornará una instancia de `sympy.Integral` representando formalmente la integral requerida. Por ejemplo:"
   ]
  },
  {
   "cell_type": "code",
   "execution_count": 174,
   "id": "32f65d1e",
   "metadata": {},
   "outputs": [
    {
     "data": {
      "image/png": "[encoded data removed]",
      "text/latex": [
       "$\\displaystyle \\int \\sin{\\left(x \\cos{\\left(x \\right)} \\right)}\\, dx$"
      ],
      "text/plain": [
       "⌠                 \n",
       "⎮ sin(x⋅cos(x)) dx\n",
       "⌡                 "
      ]
     },
     "execution_count": 174,
     "metadata": {},
     "output_type": "execute_result"
    }
   ],
   "source": [
    "# Un ejemplo de integral que Sympy, en primera instancia, no es capaz de calcular.\n",
    "sympy.integrate(sympy.sin(x * sympy.cos(x)))"
   ]
  },
  {
   "cell_type": "markdown",
   "id": "f955166c",
   "metadata": {},
   "source": [
    "También es posible evaluar expresiones multivariables, siempre que especifiquemos la variable respecto de la cual calculamos la integral:"
   ]
  },
  {
   "cell_type": "code",
   "execution_count": 175,
   "id": "c50a744f",
   "metadata": {},
   "outputs": [],
   "source": [
    "# Una expresión multivariable.\n",
    "q = (1 - x*y) / (x**2 + 2*x*y + y**2)"
   ]
  },
  {
   "cell_type": "code",
   "execution_count": 176,
   "id": "c090e350",
   "metadata": {},
   "outputs": [
    {
     "data": {
      "image/png": "[encoded data removed]",
      "text/latex": [
       "$\\displaystyle \\frac{- x y + 1}{x^{2} + 2 x y + y^{2}}$"
      ],
      "text/plain": [
       "    -x⋅y + 1   \n",
       "───────────────\n",
       " 2            2\n",
       "x  + 2⋅x⋅y + y "
      ]
     },
     "execution_count": 176,
     "metadata": {},
     "output_type": "execute_result"
    }
   ],
   "source": [
    "# Mostramos esta expresión en pantalla.\n",
    "q"
   ]
  },
  {
   "cell_type": "code",
   "execution_count": 177,
   "id": "2c0c88dc",
   "metadata": {},
   "outputs": [
    {
     "data": {
      "image/png": "[encoded data removed]",
      "text/latex": [
       "$\\displaystyle - y \\log{\\left(x + y \\right)} - \\frac{y^{2} + 1}{x + y}$"
      ],
      "text/plain": [
       "                 2    \n",
       "                y  + 1\n",
       "-y⋅log(x + y) - ──────\n",
       "                x + y "
      ]
     },
     "execution_count": 177,
     "metadata": {},
     "output_type": "execute_result"
    }
   ],
   "source": [
    "# Calculamos la integral con respecto a x.\n",
    "sympy.integrate(q, x)"
   ]
  },
  {
   "cell_type": "code",
   "execution_count": 178,
   "id": "56740efb",
   "metadata": {},
   "outputs": [
    {
     "data": {
      "image/png": "[encoded data removed]",
      "text/latex": [
       "$\\displaystyle - x \\log{\\left(x + y \\right)} - \\frac{x^{2} + 1}{x + y}$"
      ],
      "text/plain": [
       "                 2    \n",
       "                x  + 1\n",
       "-x⋅log(x + y) - ──────\n",
       "                x + y "
      ]
     },
     "execution_count": 178,
     "metadata": {},
     "output_type": "execute_result"
    }
   ],
   "source": [
    "# Calculamos la integral con respecto a y.\n",
    "sympy.integrate(q, y)"
   ]
  },
  {
   "cell_type": "markdown",
   "id": "57f70e2e",
   "metadata": {},
   "source": [
    "También es posible calcular integrales múltiples mediante el uso de la función `sympy.integrate()`, aunque por el momento nos ahorraremos esta discusión, hasta que revisemos implementaciones de **Sympy** para resolver ecuaciones, y que son muy útiles para calcular intersecciones entre curvas, superficies y volúmenes.\n",
    "\n",
    "## Aplicaciones a series numéricas.\n",
    "Las series constituyen un aspecto fundamental del cálculo en términos de procesos infinitos y son aplicables a una serie de problemas de ingeniería (sobretodo en fenómenos peródicos). Las expansiones en serie permiten que una función arbitraria pueda escribirse como una suma (infinita) de términos que, con frecuencia, son más simples. Por ejemplo, toda función $f:I\\subseteq \\mathbb{R} \\rightarrow \\mathbb{R}$ definida en un intervalo abierto $I$ de $\\mathbb{R}$, $n$ veces diferenciable en $I$, puede expandirse en la forma de un polinomio con infinitos sumandos, en un entorno centrado en un punto $x_{0}\\in I$, y que puede escribirse como:\n",
    "\n",
    "$$T_{n}\\left( x\\right)  :=\\displaystyle \\sum^{+\\infty}_{n=0} \\frac{f^{\\left( n\\right)  }\\left( x_{0}\\right)  }{n!} \\left( x-x_{0}\\right)^{n}$$\n",
    "</p> <p style=\"text-align: right;\">$(2.1)$</p>\n",
    "\n",
    "Donde $f^{\\left( n\\right)}$ denota la derivada de orden $n$ de $f$. La serie así definida se conoce como expansión (o serie) de Taylor de $f$ centrada en $x_{0}$.\n",
    "\n",
    "Si truncamos la serie de Taylor en $k$ sumandos, obtendremos una aproximación de $f$ de orden $k$.En **Sympy**, la expansión en serie de Taylor de una función o de una expresión dada puede computarse mediante el uso de la función `sympy.series()`, o bien, el método `series()` aplicable a cualquier expresión de **Sympy**. El primer argumento de esta función es una función o expresión que deseamos expandir en serie, seguida de un símbolo que representa la variable respecto de la cual se construye la serie (y que puede omitirse para el caso de funciones o expresiones univariables). En adición, también es posible establecer el punto que define el entorno respecto del cual se construye la serie usando el argumento `x0` (que por defecto es igual a cero). También podemos especificar el orden de la expansión mediante el argumento `n` (que por defecto es igual a `6`):"
   ]
  },
  {
   "cell_type": "code",
   "execution_count": 179,
   "id": "854f1266",
   "metadata": {},
   "outputs": [],
   "source": [
    "# Definimos las variables simbólicas que vamos a utilizar.\n",
    "x, y = sympy.symbols(\"x, y\")"
   ]
  },
  {
   "cell_type": "code",
   "execution_count": 180,
   "id": "19d61fd8",
   "metadata": {},
   "outputs": [],
   "source": [
    "# Definimos una función de la variable x.\n",
    "f = sympy.Function(\"f\")(x)"
   ]
  },
  {
   "cell_type": "code",
   "execution_count": 181,
   "id": "0dae95ce",
   "metadata": {},
   "outputs": [
    {
     "data": {
      "text/latex": [
       "$\\displaystyle f{\\left(0 \\right)} + x \\left. \\frac{d}{d \\xi} f{\\left(\\xi \\right)} \\right|_{\\substack{ \\xi=0 }} + \\frac{x^{2} \\left. \\frac{d^{2}}{d \\xi^{2}} f{\\left(\\xi \\right)} \\right|_{\\substack{ \\xi=0 }}}{2} + \\frac{x^{3} \\left. \\frac{d^{3}}{d \\xi^{3}} f{\\left(\\xi \\right)} \\right|_{\\substack{ \\xi=0 }}}{6} + \\frac{x^{4} \\left. \\frac{d^{4}}{d \\xi^{4}} f{\\left(\\xi \\right)} \\right|_{\\substack{ \\xi=0 }}}{24} + \\frac{x^{5} \\left. \\frac{d^{5}}{d \\xi^{5}} f{\\left(\\xi \\right)} \\right|_{\\substack{ \\xi=0 }}}{120} + O\\left(x^{6}\\right)$"
      ],
      "text/plain": [
       "                             ⎛  2      ⎞│         ⎛  3      ⎞│         ⎛  4   \n",
       "                           2 ⎜ d       ⎟│       3 ⎜ d       ⎟│       4 ⎜ d    \n",
       "                          x ⋅⎜───(f(ξ))⎟│      x ⋅⎜───(f(ξ))⎟│      x ⋅⎜───(f(\n",
       "                             ⎜  2      ⎟│         ⎜  3      ⎟│         ⎜  4   \n",
       "         ⎛d       ⎞│         ⎝dξ       ⎠│ξ=0      ⎝dξ       ⎠│ξ=0      ⎝dξ    \n",
       "f(0) + x⋅⎜──(f(ξ))⎟│    + ────────────────── + ────────────────── + ──────────\n",
       "         ⎝dξ      ⎠│ξ=0           2                    6                    24\n",
       "\n",
       "   ⎞│         ⎛  5      ⎞│           \n",
       "   ⎟│       5 ⎜ d       ⎟│           \n",
       "ξ))⎟│      x ⋅⎜───(f(ξ))⎟│           \n",
       "   ⎟│         ⎜  5      ⎟│           \n",
       "   ⎠│ξ=0      ⎝dξ       ⎠│ξ=0    ⎛ 6⎞\n",
       "──────── + ────────────────── + O⎝x ⎠\n",
       "                  120                "
      ]
     },
     "execution_count": 181,
     "metadata": {},
     "output_type": "execute_result"
    }
   ],
   "source": [
    "# Construimos la expansión en serie de f, en torno a x0 = 0.\n",
    "sympy.series(f, x)"
   ]
  },
  {
   "cell_type": "code",
   "execution_count": 182,
   "id": "7b12d95a",
   "metadata": {},
   "outputs": [],
   "source": [
    "# Definimos una expresión.\n",
    "e = sympy.log(1 + x)"
   ]
  },
  {
   "cell_type": "code",
   "execution_count": 183,
   "id": "54e2bcbe",
   "metadata": {},
   "outputs": [
    {
     "data": {
      "image/png": "[encoded data removed]",
      "text/latex": [
       "$\\displaystyle \\log{\\left(2 \\right)} - \\frac{1}{2} - \\frac{\\left(x - 1\\right)^{2}}{8} + \\frac{\\left(x - 1\\right)^{3}}{24} - \\frac{\\left(x - 1\\right)^{4}}{64} + \\frac{\\left(x - 1\\right)^{5}}{160} - \\frac{\\left(x - 1\\right)^{6}}{384} + \\frac{\\left(x - 1\\right)^{7}}{896} + \\frac{x}{2} + O\\left(\\left(x - 1\\right)^{8}; x\\rightarrow 1\\right)$"
      ],
      "text/plain": [
       "                    2          3          4          5          6          7  \n",
       "         1   (x - 1)    (x - 1)    (x - 1)    (x - 1)    (x - 1)    (x - 1)   \n",
       "log(2) - ─ - ──────── + ──────── - ──────── + ──────── - ──────── + ──────── +\n",
       "         2      8          24         64        160        384        896     \n",
       "\n",
       "                       \n",
       " x    ⎛       8       ⎞\n",
       " ─ + O⎝(x - 1) ; x → 1⎠\n",
       " 2                     "
      ]
     },
     "execution_count": 183,
     "metadata": {},
     "output_type": "execute_result"
    }
   ],
   "source": [
    "# Obtenemos el polinomio de Taylor de la expresión anterior de orden 8 en torno a x0 = 1.\n",
    "e.series(x, x0=1, n=8)"
   ]
  },
  {
   "cell_type": "markdown",
   "id": "baaf36f3",
   "metadata": {},
   "source": [
    "Por supuesto, `x0` puede ser una variable simbólica:"
   ]
  },
  {
   "cell_type": "code",
   "execution_count": 184,
   "id": "aa5e935b",
   "metadata": {},
   "outputs": [],
   "source": [
    "# Definimos x0.\n",
    "x0 = sympy.Symbol(\"x_0\", int=True, positive=True)"
   ]
  },
  {
   "cell_type": "code",
   "execution_count": 185,
   "id": "37dc6423",
   "metadata": {},
   "outputs": [
    {
     "data": {
      "image/png": "[encoded data removed]",
      "text/latex": [
       "$\\displaystyle \\tan{\\left(x_{0} \\right)} + \\left(x - x_{0}\\right) \\left(\\tan^{2}{\\left(x_{0} \\right)} + 1\\right) + \\left(x - x_{0}\\right)^{2} \\left(\\tan^{3}{\\left(x_{0} \\right)} + \\tan{\\left(x_{0} \\right)}\\right) + \\left(x - x_{0}\\right)^{3} \\left(\\tan^{4}{\\left(x_{0} \\right)} + \\frac{4 \\tan^{2}{\\left(x_{0} \\right)}}{3} + \\frac{1}{3}\\right) + O\\left(\\left(x - x_{0}\\right)^{4}; x\\rightarrow x_{0}\\right)$"
      ],
      "text/plain": [
       "                                                                              \n",
       "                   ⎛   2        ⎞           2 ⎛   3              ⎞           3\n",
       "tan(x₀) + (x - x₀)⋅⎝tan (x₀) + 1⎠ + (x - x₀) ⋅⎝tan (x₀) + tan(x₀)⎠ + (x - x₀) \n",
       "                                                                              \n",
       "\n",
       " ⎛                2        ⎞                       \n",
       " ⎜   4       4⋅tan (x₀)   1⎟    ⎛        4        ⎞\n",
       "⋅⎜tan (x₀) + ────────── + ─⎟ + O⎝(x - x₀) ; x → x₀⎠\n",
       " ⎝               3        3⎠                       "
      ]
     },
     "execution_count": 185,
     "metadata": {},
     "output_type": "execute_result"
    }
   ],
   "source": [
    "# Construimos el polinomio de Taylor de cuarto orden de la función tangente en torno a x0.\n",
    "sympy.series(sympy.tan(x), x, n=4, x0=x0)"
   ]
  },
  {
   "cell_type": "markdown",
   "id": "388162d0",
   "metadata": {},
   "source": [
    "Notemos que **Sympy** expresa el último del polinomio de Taylor haciendo uso de la notación \"O grande\" de Landau, la cual puede definirse como sigue: Para dos funciones $f$ y $g$ definidas en un entorno de un punto $x_{0}$ dentro del dominio de ambas funciones, diremos que $f=\\mathcal{O}(g)$, cuando $x\\rightarrow x_{0}$, si y sólo si existe un número real $\\epsilon>0$ tal que $|f(x)|\\leq \\epsilon|g(x)|$ para todo $x$ en un entorno de $x_{0}$.\n",
    "\n",
    "Es posible evaluar numéricamente el valor de una expansión de Taylor removiendo el término de Landau correspondiente, usando el método `removeO()`:"
   ]
  },
  {
   "cell_type": "code",
   "execution_count": 186,
   "id": "3579c278",
   "metadata": {},
   "outputs": [
    {
     "data": {
      "text/latex": [
       "$\\displaystyle \\frac{x^{5} \\left. \\frac{d^{5}}{d \\xi^{5}} f{\\left(\\xi \\right)} \\right|_{\\substack{ \\xi=0 }}}{120} + \\frac{x^{4} \\left. \\frac{d^{4}}{d \\xi^{4}} f{\\left(\\xi \\right)} \\right|_{\\substack{ \\xi=0 }}}{24} + \\frac{x^{3} \\left. \\frac{d^{3}}{d \\xi^{3}} f{\\left(\\xi \\right)} \\right|_{\\substack{ \\xi=0 }}}{6} + \\frac{x^{2} \\left. \\frac{d^{2}}{d \\xi^{2}} f{\\left(\\xi \\right)} \\right|_{\\substack{ \\xi=0 }}}{2} + x \\left. \\frac{d}{d \\xi} f{\\left(\\xi \\right)} \\right|_{\\substack{ \\xi=0 }} + f{\\left(0 \\right)}$"
      ],
      "text/plain": [
       "   ⎛  5      ⎞│         ⎛  4      ⎞│         ⎛  3      ⎞│         ⎛  2      ⎞│\n",
       " 5 ⎜ d       ⎟│       4 ⎜ d       ⎟│       3 ⎜ d       ⎟│       2 ⎜ d       ⎟│\n",
       "x ⋅⎜───(f(ξ))⎟│      x ⋅⎜───(f(ξ))⎟│      x ⋅⎜───(f(ξ))⎟│      x ⋅⎜───(f(ξ))⎟│\n",
       "   ⎜  5      ⎟│         ⎜  4      ⎟│         ⎜  3      ⎟│         ⎜  2      ⎟│\n",
       "   ⎝dξ       ⎠│ξ=0      ⎝dξ       ⎠│ξ=0      ⎝dξ       ⎠│ξ=0      ⎝dξ       ⎠│\n",
       "────────────────── + ────────────────── + ────────────────── + ───────────────\n",
       "       120                   24                   6                    2      \n",
       "\n",
       "                             \n",
       "                             \n",
       "                             \n",
       "                             \n",
       "ξ=0     ⎛d       ⎞│          \n",
       "─── + x⋅⎜──(f(ξ))⎟│    + f(0)\n",
       "        ⎝dξ      ⎠│ξ=0       "
      ]
     },
     "execution_count": 186,
     "metadata": {},
     "output_type": "execute_result"
    }
   ],
   "source": [
    "# Remoción simbólica del término de Landau de una serie.\n",
    "sympy.series(f, x).removeO()"
   ]
  },
  {
   "cell_type": "markdown",
   "id": "2fb00cff",
   "metadata": {},
   "source": [
    "Podemos, además, construir series arbitrarias usando la clase `sympy.Sum`, que nos permite definir sumas sobre un rango de valores bien definido. Por ejemplo:"
   ]
  },
  {
   "cell_type": "code",
   "execution_count": 187,
   "id": "e6b51f4c",
   "metadata": {},
   "outputs": [],
   "source": [
    "# Definimos una variable simbólica entera para trabajar cualquier serie.\n",
    "n = sympy.Symbol(\"n\", integer=True, positive=True)"
   ]
  },
  {
   "cell_type": "code",
   "execution_count": 188,
   "id": "470a68d3",
   "metadata": {},
   "outputs": [],
   "source": [
    "# Construimos una expresión que equivale a una serie armónica.\n",
    "s = sympy.Sum(1 / (n**2), (n, 1, sympy.oo))"
   ]
  },
  {
   "cell_type": "code",
   "execution_count": 189,
   "id": "3d953a24",
   "metadata": {},
   "outputs": [
    {
     "data": {
      "image/png": "[encoded data removed]",
      "text/latex": [
       "$\\displaystyle \\sum_{n=1}^{\\infty} \\frac{1}{n^{2}}$"
      ],
      "text/plain": [
       "  ∞     \n",
       " ____   \n",
       " ╲      \n",
       "  ╲   1 \n",
       "   ╲  ──\n",
       "   ╱   2\n",
       "  ╱   n \n",
       " ╱      \n",
       " ‾‾‾‾   \n",
       "n = 1   "
      ]
     },
     "execution_count": 189,
     "metadata": {},
     "output_type": "execute_result"
    }
   ],
   "source": [
    "# Mostramos esta serie en pantalla.\n",
    "s"
   ]
  },
  {
   "cell_type": "code",
   "execution_count": 190,
   "id": "2615bc88",
   "metadata": {},
   "outputs": [
    {
     "data": {
      "image/png": "[encoded data removed]",
      "text/latex": [
       "$\\displaystyle \\frac{\\pi^{2}}{6}$"
      ],
      "text/plain": [
       " 2\n",
       "π \n",
       "──\n",
       "6 "
      ]
     },
     "execution_count": 190,
     "metadata": {},
     "output_type": "execute_result"
    }
   ],
   "source": [
    "# Calculamos el resultado de la serie mediante el método doit().\n",
    "s.doit()"
   ]
  }
 ],
 "metadata": {
  "kernelspec": {
   "display_name": "Python 3 (ipykernel)",
   "language": "python",
   "name": "python3"
  },
  "language_info": {
   "codemirror_mode": {
    "name": "ipython",
    "version": 3
   },
   "file_extension": ".py",
   "mimetype": "text/x-python",
   "name": "python",
   "nbconvert_exporter": "python",
   "pygments_lexer": "ipython3",
   "version": "3.9.16"
  }
 },
 "nbformat": 4,
 "nbformat_minor": 5
}
