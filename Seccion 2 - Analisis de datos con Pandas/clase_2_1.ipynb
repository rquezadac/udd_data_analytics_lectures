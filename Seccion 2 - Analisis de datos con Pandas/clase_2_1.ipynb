{
 "cells": [
  {
   "cell_type": "markdown",
   "id": "4c153924",
   "metadata": {},
   "source": [
    "# CLASE 2.1: ESTRUCTURAS DE DATOS FUNDAMENTALES DE PANDAS.\n",
    "---\n",
    "\n",
    "## Introducción.\n",
    "En las secciones anteriores, estudiamos en detalle el uso del módulo **Numpy** para trabajar con arreglos de datos gracias a su objeto `numpy.ndarray`. Ahora nos dedicaremos al estudio de otro tipo de estructura de datos provisto por la librería **Pandas** de Python. Dicha librería está construida sobre **Numpy**, siendo una de sus grandes características la implementación de un objeto muy conocido en la ciencia de datos como `pandas.DataFrame`. Los *DataFrames* son, en esencia, arreglos multidimensionales con etiquetas o rótulos que distinguen tanto sus filas como sus columnas, y que son capaces de almacenar varios tipos de datos (incluso registros o “celdas” con valores faltantes). También poseen una interfaz de almacenamiento muy cómoda para usuarios familiarizados con hojas de cálculo, como las usadas típicamente en programas como MS Excel®, SPSS o Minitab.\n",
    "\n",
    "De la misma forma que ocurre con **Numpy**, **Pandas** suele venir incluido en la instalación por defecto de la suite de Anaconda®. Siempre podremos hacer una instalación limpias de **Pandas** desde el índice de paquetes de Python como:\n",
    "\n",
    "`pip install pandas`\n",
    "\n",
    "La importación de **Pandas**, en la práctica, suele hacerse mediante el prefijo `pd`. De esta manera, al iniciar nuestra sesión, escribiremos:"
   ]
  },
  {
   "cell_type": "code",
   "execution_count": 1,
   "id": "62417540",
   "metadata": {},
   "outputs": [],
   "source": [
    "import numpy as np\n",
    "import pandas as pd"
   ]
  },
  {
   "cell_type": "markdown",
   "id": "496ce753",
   "metadata": {},
   "source": [
    "Usaremos esta convención durante el resto del curso.\n",
    "\n",
    "En un nivel muy básico de entendimiento, los objetos de **Pandas** pueden ser pensados como versiones mejoradas de los arreglos de **Numpy**, en los cuales las filas y las columnas son identificados con rótulos o etiquetas en vez de simples números enteros. Como veremos durante el trascurso de esta asignatura, **Pandas** nos provee de una serie de útiles herramientas, métodos y funcionalidades muy eficientes para el trabajo con este tipo de estructuras, pero casi todas ellas requieren de un completo entendimiento de las mismas. Por lo tanto, antes de ir en detalle, introduciremos las tres estructuras fundamentales de **Pandas**, agrupadas en tres objetos: `pandas.Series` (series), `pandas.DataFrame` (DataFrames) y `pandas.Index` (índices).\n",
    "\n",
    "## Series.\n",
    "En **Pandas**, una serie se define como un arreglo unidimensional que permite almacenar datos en un número arbitrario de observaciones. Sin embargo, dicho arreglo unidimensional posee dos diferencias esenciales con el típico arreglo de **Numpy**: Dispone de un índice que permite identificar cualquier fila del arreglo con un rótulo arbitrario (no necesariamente un número entero), y permiten almacenar data que no necesariamente es del mismo tipo. Una serie de **Pandas** puede construirse de manera rápida mediante la clase `pd.Series()`, la cual considera, como mínimo, un argumento denominado data, que representa por supuesto la data a imputar en esta estructura:"
   ]
  },
  {
   "cell_type": "code",
   "execution_count": 2,
   "id": "030a8957",
   "metadata": {},
   "outputs": [],
   "source": [
    "# Construimos la serie a partir de una lista de Python.\n",
    "data = pd.Series(data=[0.25,  0.5, 0.75,  1.0])"
   ]
  },
  {
   "cell_type": "code",
   "execution_count": 3,
   "id": "6202dfaf",
   "metadata": {},
   "outputs": [
    {
     "data": {
      "text/plain": [
       "0    0.25\n",
       "1    0.50\n",
       "2    0.75\n",
       "3    1.00\n",
       "dtype: float64"
      ]
     },
     "execution_count": 3,
     "metadata": {},
     "output_type": "execute_result"
    }
   ],
   "source": [
    "# Mostramos la serie en pantalla.\n",
    "data"
   ]
  },
  {
   "cell_type": "markdown",
   "id": "78cb2a0a",
   "metadata": {},
   "source": [
    "Vemos que, al mostrar la serie en pantalla, no solamente se destaca la **data** o **valores** que hemos imputado a la misma, sino que además cada observación (fila) de la serie viene rotulada por un número. Este conjunto de valores que etiquetan a estas observaciones es llamado **índice de la serie**. Su función es permitir una selección rápida y, en lo posible, sin ambigüedad de los elementos que sean de nuestro interés en la serie. \n",
    "\n",
    "Por otro lado, también se muestra el **tipo de dato** que se ha almacenado en nuestra serie. En este caso, vemos que la misma está constituida por números de punto flotante de 64 bits.\n",
    "\n",
    "Los tres elementos mencionados previamente constituyen atributos propios de una serie. De esta manera, si queremos simplemente trabajar con los valores de una serie, bastará con usar su atributo `values`, el cual nos retornará un arreglo unidimensional de **Numpy** constituido únicamente por los valores que están almacenados en la serie:"
   ]
  },
  {
   "cell_type": "code",
   "execution_count": 4,
   "id": "2600663c",
   "metadata": {},
   "outputs": [
    {
     "data": {
      "text/plain": [
       "array([0.25, 0.5 , 0.75, 1.  ])"
      ]
     },
     "execution_count": 4,
     "metadata": {},
     "output_type": "execute_result"
    }
   ],
   "source": [
    "data.values"
   ]
  },
  {
   "cell_type": "markdown",
   "id": "a00ca5ea",
   "metadata": {},
   "source": [
    "Por otro lado, el índice de la serie (en el cual profundizaremos un poco más adelante) puede individualizarse mediante el atributo `index`:"
   ]
  },
  {
   "cell_type": "code",
   "execution_count": 5,
   "id": "8b8a4db4",
   "metadata": {},
   "outputs": [
    {
     "data": {
      "text/plain": [
       "RangeIndex(start=0, stop=4, step=1)"
      ]
     },
     "execution_count": 5,
     "metadata": {},
     "output_type": "execute_result"
    }
   ],
   "source": [
    "data.index"
   ]
  },
  {
   "cell_type": "markdown",
   "id": "57c178b1",
   "metadata": {},
   "source": [
    "El índice corresponde a un objeto del tipo pd.Index, exclusivo de **Pandas**. En el ejemplo, tal índice es simplemente un rango de valores que va desde el 0 hasta antes del 4, con un paso igual a 1 (similar a un rango construido mediante la función `np.arange(start=0, stop=4, step=1)`). La selección de valores de interés en la serie se realiza por medio de este índice, de la misma forma en que lo haríamos con un arreglo unidimensional de **Numpy**:"
   ]
  },
  {
   "cell_type": "code",
   "execution_count": 6,
   "id": "255f0800",
   "metadata": {},
   "outputs": [
    {
     "data": {
      "text/plain": [
       "0.5"
      ]
     },
     "execution_count": 6,
     "metadata": {},
     "output_type": "execute_result"
    }
   ],
   "source": [
    "# Selección individual de elementos.\n",
    "data[1]"
   ]
  },
  {
   "cell_type": "code",
   "execution_count": 7,
   "id": "74331eb2",
   "metadata": {},
   "outputs": [
    {
     "data": {
      "text/plain": [
       "1    0.50\n",
       "2    0.75\n",
       "dtype: float64"
      ]
     },
     "execution_count": 7,
     "metadata": {},
     "output_type": "execute_result"
    }
   ],
   "source": [
    "# Selección mediante slicing.\n",
    "data[1:3]"
   ]
  },
  {
   "cell_type": "markdown",
   "id": "7915b423",
   "metadata": {},
   "source": [
    "Si bien son parecidas, las series son estructuras de datos que son mucho más generales y flexibles que los arreglos unidimensionales de **Numpy**. La diferencia esencial entre ambos es, naturalmente, la presencia del objeto `pd.Index`: Mientras que el arreglo de **Numpy** tiene siempre un índice entero definido de forma implícita que usamos para acceder selectivamente a los valores que son de nuestro interés, una de serie de **Pandas** tiene un índice explícitamente definido, que está asociado a los valores que tiene almacenados, de la misma forma que ocurre en un diccionario de Python, en la relación llave - valor.\n",
    "\n",
    "Esta definición explícita le da a las series capacidades adicionales. Por ejemplo, el índice no debe ser necesariamente un entero, ya que podemos usar el tipo de datos que nosotros queramos para definirlo. Por ejemplo, podemos usar strings, creando la serie y usando el argumento `index` para construir un índice según nuestras necesidades:"
   ]
  },
  {
   "cell_type": "code",
   "execution_count": 8,
   "id": "ba6152e6",
   "metadata": {},
   "outputs": [
    {
     "data": {
      "text/plain": [
       "a    0.25\n",
       "b    0.50\n",
       "c    0.75\n",
       "d    1.00\n",
       "dtype: float64"
      ]
     },
     "execution_count": 8,
     "metadata": {},
     "output_type": "execute_result"
    }
   ],
   "source": [
    "# Definición explícita del índice en una serie.\n",
    "data = pd.Series(data=[0.25,  0.5, 0.75,  1.0], index=[\"a\", \"b\", \"c\", \"d\"])\n",
    "data"
   ]
  },
  {
   "cell_type": "markdown",
   "id": "b87d07f3",
   "metadata": {},
   "source": [
    "Como cabría esperar, el acceso a los datos es conforme el índice que hemos definido:"
   ]
  },
  {
   "cell_type": "code",
   "execution_count": 9,
   "id": "94d35bcf",
   "metadata": {},
   "outputs": [
    {
     "data": {
      "text/plain": [
       "0.5"
      ]
     },
     "execution_count": 9,
     "metadata": {},
     "output_type": "execute_result"
    }
   ],
   "source": [
    "# Seleccionamos la data conforme el índice que hemos creado.\n",
    "data[\"b\"]"
   ]
  },
  {
   "cell_type": "markdown",
   "id": "41a21b0d",
   "metadata": {},
   "source": [
    "Notemos que, como hemos creado una serie cuyo índice está constituido por strings, cualquier selección que explicitemos requerirá especificar dicho string entre comillas, como en el ejemplo anterior.\n",
    "\n",
    "Al construir una serie, no estaremos en absoluto limitados por ningún criterio más que el sentido común a la hora de indexar los valores que se almacenan en ella. De este modo, si un índice está conformado por números enteros, éstos ni siquiera tienen por qué estar ordenados:"
   ]
  },
  {
   "cell_type": "code",
   "execution_count": 10,
   "id": "2b92fb00",
   "metadata": {},
   "outputs": [
    {
     "data": {
      "text/plain": [
       "2    0.25\n",
       "5    0.50\n",
       "3    0.75\n",
       "7    1.00\n",
       "dtype: float64"
      ]
     },
     "execution_count": 10,
     "metadata": {},
     "output_type": "execute_result"
    }
   ],
   "source": [
    "# El índice de una serie no tiene por qué seguir un orden lógico.\n",
    "data = pd.Series([0.25,  0.5, 0.75,  1.0], index=[2, 5, 3, 7])\n",
    "data"
   ]
  },
  {
   "cell_type": "markdown",
   "id": "c306fb0f",
   "metadata": {},
   "source": [
    "Notemos que el segundo elemento almacenado en la serie se corresponde con el índice 5, y no 2. Como no hay ambigüedad, al seleccionar ese elemento, **Pandas** lo identificará de inmediato:"
   ]
  },
  {
   "cell_type": "code",
   "execution_count": 11,
   "id": "a14b79aa",
   "metadata": {},
   "outputs": [
    {
     "data": {
      "text/plain": [
       "0.5"
      ]
     },
     "execution_count": 11,
     "metadata": {},
     "output_type": "execute_result"
    }
   ],
   "source": [
    "data[5]"
   ]
  },
  {
   "cell_type": "markdown",
   "id": "520154be",
   "metadata": {},
   "source": [
    "La correspondencia entre el par (índice, valor) en las series de **Pandas** permiten formular la abstracción de que las series, además de ser versiones especializadas de los arreglos unidimensionales de **Numpy**, también pueden ser versiones generales de los diccionarios nativos de Python. Recordemos que los diccionarios son estructuras de datos que relacionan un valor determinado a un único rótulo, que llamamos llave, de tal forma que siempre que deseemos recuperar un determinado valor de un diccionario, haremos uso de su correspondiente llave. Un ejemplo de diccionario es el siguiente:"
   ]
  },
  {
   "cell_type": "code",
   "execution_count": 12,
   "id": "b7994001",
   "metadata": {},
   "outputs": [],
   "source": [
    "# Un diccionario con la información relativa a la producción de cobre fino (en ktmh)\n",
    "# para distintas operaciones mineras en Chile (2021).\n",
    "production_dict = {\n",
    "    \"Escondida\": 1011,\n",
    "    \"Collahuasi\": 630,\n",
    "    \"El Teniente\": 460,\n",
    "    \"Los Bronces\": 370,\n",
    "    \"Los Pelambres\": 336,\n",
    "    \"Radomiro Tomic\": 326,\n",
    "    \"Chuquicamata\": 319,\n",
    "    \"Centinela\": 274,\n",
    "    \"Spence\": 203,\n",
    "    \"Sierra Gorda\": 198,\n",
    "    \"Ministro Hales\": 182,\n",
    "    \"Andina\": 177,\n",
    "    \"Candelaria\": 119,\n",
    "    \"Caserones\": 110,\n",
    "    \"Gabriela Mistral\": 101\n",
    "}"
   ]
  },
  {
   "cell_type": "markdown",
   "id": "6cb241c2",
   "metadata": {},
   "source": [
    "No existe ningún problema al convertir este diccionario en una serie por medio de la clase `pd.Series()`. De hecho, al hacerlo, las llaves del diccionario serán transformadas inmediatamente en los índices de la serie, mientras que los valores anexados a cada llave serán los valores anexados a cada índice de la serie resultante:"
   ]
  },
  {
   "cell_type": "code",
   "execution_count": 13,
   "id": "39b624ff",
   "metadata": {},
   "outputs": [
    {
     "data": {
      "text/plain": [
       "Escondida           1011\n",
       "Collahuasi           630\n",
       "El Teniente          460\n",
       "Los Bronces          370\n",
       "Los Pelambres        336\n",
       "Radomiro Tomic       326\n",
       "Chuquicamata         319\n",
       "Centinela            274\n",
       "Spence               203\n",
       "Sierra Gorda         198\n",
       "Ministro Hales       182\n",
       "Andina               177\n",
       "Candelaria           119\n",
       "Caserones            110\n",
       "Gabriela Mistral     101\n",
       "dtype: int64"
      ]
     },
     "execution_count": 13,
     "metadata": {},
     "output_type": "execute_result"
    }
   ],
   "source": [
    "# Todo diccionario puede transformarse en una serie.\n",
    "production_data = pd.Series(production_dict)\n",
    "production_data"
   ]
  },
  {
   "cell_type": "markdown",
   "id": "e074c482",
   "metadata": {},
   "source": [
    "Vemos pues que la serie preserva incluso el orden original en el cual fueron definidas las llaves en nuestro diccionario, además del tipo de dato que caracteriza a los valores de la misma (en este caso, números enteros).\n",
    "\n",
    "El acceso a la información de la serie `production_data` es muy intuitivo. Si quisiéramos acceder a la data asociada a la producción anual (2021) de la mina Candelaria, bastará con usar el índice respectivo para consultar dicha información:"
   ]
  },
  {
   "cell_type": "code",
   "execution_count": 14,
   "id": "cd69a365",
   "metadata": {},
   "outputs": [
    {
     "data": {
      "text/plain": [
       "119"
      ]
     },
     "execution_count": 14,
     "metadata": {},
     "output_type": "execute_result"
    }
   ],
   "source": [
    "# La selección de información en series es muy intuitiva.\n",
    "production_data[\"Candelaria\"]"
   ]
  },
  {
   "cell_type": "markdown",
   "id": "5ad0e8ea",
   "metadata": {},
   "source": [
    "Los slicings de información deben tener en consideración el orden de los índices que definen la serie. De este modo, si queremos seleccionar la data de producción entre las minas El Teniente y Chuquicamata, bastará con que escribamos:"
   ]
  },
  {
   "cell_type": "code",
   "execution_count": 15,
   "id": "78879585",
   "metadata": {},
   "outputs": [
    {
     "data": {
      "text/plain": [
       "El Teniente       460\n",
       "Los Bronces       370\n",
       "Los Pelambres     336\n",
       "Radomiro Tomic    326\n",
       "Chuquicamata      319\n",
       "dtype: int64"
      ]
     },
     "execution_count": 15,
     "metadata": {},
     "output_type": "execute_result"
    }
   ],
   "source": [
    "# El slicing también es posible, y preserva el orden original de los índices.\n",
    "production_data[\"El Teniente\": \"Chuquicamata\"]"
   ]
  },
  {
   "cell_type": "markdown",
   "id": "c511c190",
   "metadata": {},
   "source": [
    "La serie, en virtud de su estructura del tipo arreglo unidimensional (pero con mayor flexibilidad) de **Numpy**, puede ser utilizada para operar de la misma forma que lo haríamos con estructuras de este tipo en **Numpy**. Sin embargo, la presencia del índice en una serie sirve como referencia para todas las operaciones queramos realizar. Por lo tanto, al operar aritméticamente con dos o más series, tales operaciones siempre intentarán generar empates entre elementos que compartan el mismo índice. Esto se conoce como **alineamiento de índices**:"
   ]
  },
  {
   "cell_type": "code",
   "execution_count": 16,
   "id": "14d9de87",
   "metadata": {},
   "outputs": [],
   "source": [
    "# Demanda mundial de cobre refinado, proyeccion 2020 (en ktmf).\n",
    "cu_dem_20 = pd.Series(\n",
    "    data=[12807, 3472, 1702, 930, 410, 696, 446, 358],\n",
    "    index=[\"China\", \"Europa\", \"EE.UU.\", \"Japon\", \"India\", \"Corea\", \"Turquia\", \"Mexico\"],\n",
    ")"
   ]
  },
  {
   "cell_type": "code",
   "execution_count": 17,
   "id": "197aebfa",
   "metadata": {},
   "outputs": [],
   "source": [
    "# Demanda mundial de cobre refinado, proyeccion 2021 (en ktmf).\n",
    "cu_dem_21 = pd.Series(\n",
    "    data=[13063, 3594, 1753, 949, 484, 706, 463, 369],\n",
    "    index=[\"China\", \"Europa\", \"EE.UU.\", \"Japon\", \"India\", \"Corea\", \"Turquia\", \"Mexico\"],\n",
    ")"
   ]
  },
  {
   "cell_type": "code",
   "execution_count": 18,
   "id": "41864b3b",
   "metadata": {},
   "outputs": [
    {
     "data": {
      "text/plain": [
       "China      25870\n",
       "Europa      7066\n",
       "EE.UU.      3455\n",
       "Japon       1879\n",
       "India        894\n",
       "Corea       1402\n",
       "Turquia      909\n",
       "Mexico       727\n",
       "dtype: int64"
      ]
     },
     "execution_count": 18,
     "metadata": {},
     "output_type": "execute_result"
    }
   ],
   "source": [
    "# La suma de ambas series alinea los índices en ambos casos.\n",
    "cu_dem_20 + cu_dem_21"
   ]
  },
  {
   "cell_type": "markdown",
   "id": "3852ba4a",
   "metadata": {},
   "source": [
    "La serie resultante de la suma `cu_dem_20 + cu_dem_21` contiene la unión de los índices que caracterizan a los datos en `cu_dem_20` y `cu_dem_21`. Como ambas series tienen el mismo índice, éste se preserva en el resultado de la suma, y se alinea en relación a las sumas respectivas elemento a elemento.\n",
    "\n",
    "Por otro lado, si operamos aritméticamente con series que tienen distintos índices, la serie resultante tendrá como índice a la unión de los índices de las series con las que operamos, pero sólo se tendrán resultados de la operación para los índices que aparecen en las series individuales. Para el resto de las posiciones, no se hará ningún cálculo, y **Pandas** rellenará esos valores con `nan` (que, recordemos, es la convención utilizada para representar data faltante: *“Not a number”*)."
   ]
  },
  {
   "cell_type": "code",
   "execution_count": 19,
   "id": "97378b13",
   "metadata": {},
   "outputs": [],
   "source": [
    "# Mineral transportado por camiones de una flota un día determinado.\n",
    "ore_transp_1 = pd.Series(\n",
    "    data=[1291, 1334, 480, 851, 1180],\n",
    "    index=[\"C251\", \"C256\", \"C224\", \"C231\", \"C265\"]\n",
    ")"
   ]
  },
  {
   "cell_type": "code",
   "execution_count": 20,
   "id": "0e16322b",
   "metadata": {},
   "outputs": [],
   "source": [
    "# Mineral transportado por camiones de una flota al día siguiente del anterior.\n",
    "ore_transp_2 = pd.Series(\n",
    "    data=[251, 1291, 1332, 456, 1210],\n",
    "    index=[\"C221\", \"C231\", \"C251\", \"C230\", \"C274\"]\n",
    ")"
   ]
  },
  {
   "cell_type": "code",
   "execution_count": 21,
   "id": "7984ff7b",
   "metadata": {},
   "outputs": [
    {
     "data": {
      "text/plain": [
       "C221       NaN\n",
       "C224       NaN\n",
       "C230       NaN\n",
       "C231    2142.0\n",
       "C251    2623.0\n",
       "C256       NaN\n",
       "C265       NaN\n",
       "C274       NaN\n",
       "dtype: float64"
      ]
     },
     "execution_count": 21,
     "metadata": {},
     "output_type": "execute_result"
    }
   ],
   "source": [
    "# Cuando las series no tienen los mismos índices, sólo obtendremos resultados para aquellos\n",
    "# que están definidos en todas las series, obteniendo un NaN como resultado en el resto de los\n",
    "# índices.\n",
    "ore_transp_1 + ore_transp_2"
   ]
  },
  {
   "cell_type": "markdown",
   "id": "43391c42",
   "metadata": {},
   "source": [
    "Toda serie puede ser inicializada a partir de un único valor escalar. De ser el caso, el número de valores que tenga la serie será igual al número de elementos definidos en su índice al haberla construido:"
   ]
  },
  {
   "cell_type": "code",
   "execution_count": 22,
   "id": "0d9a615a",
   "metadata": {},
   "outputs": [
    {
     "data": {
      "text/plain": [
       "a    42\n",
       "b    42\n",
       "c    42\n",
       "d    42\n",
       "dtype: int64"
      ]
     },
     "execution_count": 22,
     "metadata": {},
     "output_type": "execute_result"
    }
   ],
   "source": [
    "# Podemos iniciar siempre una serie mediante un escalar.\n",
    "scalar_series = pd.Series(data=42, index=[\"a\", \"b\", \"c\", \"d\"])\n",
    "scalar_series"
   ]
  },
  {
   "cell_type": "markdown",
   "id": "3013225d",
   "metadata": {},
   "source": [
    "Toda serie puede *“bautizarse”* con un nombre, el cual permite rotular los valores de la misma. Podemos darle nombre a una serie mediante su constructor, con el argumento `name`:"
   ]
  },
  {
   "cell_type": "code",
   "execution_count": 23,
   "id": "09ebcc8d",
   "metadata": {},
   "outputs": [
    {
     "data": {
      "text/plain": [
       "P1    5.5\n",
       "P2    4.8\n",
       "P3    6.3\n",
       "P4    6.5\n",
       "P5    6.2\n",
       "Name: qualifications, dtype: float64"
      ]
     },
     "execution_count": 23,
     "metadata": {},
     "output_type": "execute_result"
    }
   ],
   "source": [
    "# Podemos usar el argumento name en el constructor de una serie para rotular los datos.\n",
    "ser = pd.Series(\n",
    "    data=[5.5, 4.8, 6.3, 6.5, 6.2],\n",
    "    index=[\"P1\", \"P2\", \"P3\", \"P4\", \"P5\"],\n",
    "    name=\"qualifications\",\n",
    ")\n",
    "ser"
   ]
  },
  {
   "cell_type": "markdown",
   "id": "90e8b28d",
   "metadata": {},
   "source": [
    "El nombre de una serie también puede definirse mediante el atributo `name`:"
   ]
  },
  {
   "cell_type": "code",
   "execution_count": 24,
   "id": "f9efec30",
   "metadata": {},
   "outputs": [
    {
     "data": {
      "text/plain": [
       "P1    5.5\n",
       "P2    4.8\n",
       "P3    6.3\n",
       "P4    6.5\n",
       "P5    6.2\n",
       "Name: Notas, dtype: float64"
      ]
     },
     "execution_count": 24,
     "metadata": {},
     "output_type": "execute_result"
    }
   ],
   "source": [
    "# El atributo name permite cambiar el nombre de una serie\n",
    "ser.name = \"Notas\"\n",
    "ser"
   ]
  },
  {
   "cell_type": "markdown",
   "id": "fe06aa57",
   "metadata": {},
   "source": [
    "Las series disponen además de un método `plot()`, que nos permite graficar los valores almacenados en ellas, considerando como etiquetas de los ejes los valores definidos por el índice respectivo de la serie. Los gráficos están soportados mediante la librería **Matplotlib** (aunque no es necesario importarla). Veremos en detalle la construcción de gráficos más adelante:"
   ]
  },
  {
   "cell_type": "code",
   "execution_count": 25,
   "id": "1731b4a5",
   "metadata": {},
   "outputs": [
    {
     "data": {
      "image/png": "[encoded data removed]",
      "text/plain": [
       "<Figure size 720x360 with 1 Axes>"
      ]
     },
     "metadata": {
      "needs_background": "light"
     },
     "output_type": "display_data"
    }
   ],
   "source": [
    "# Un gráfico de líneas sencillo (notemos los argumentos del método plot()).\n",
    "cu_dem_20.plot(\n",
    "    kind=\"line\", xlabel=\"País\", ylabel=\"Cobre (ktmf)\",\n",
    "    title=\"Demanda proyectada de cobre (2020)\", color=\"magenta\",\n",
    "    figsize=(10, 5)\n",
    ");"
   ]
  },
  {
   "cell_type": "code",
   "execution_count": 26,
   "id": "e6bdf6b7",
   "metadata": {},
   "outputs": [
    {
     "data": {
      "image/png": "[encoded data removed]",
      "text/plain": [
       "<Figure size 720x360 with 1 Axes>"
      ]
     },
     "metadata": {
      "needs_background": "light"
     },
     "output_type": "display_data"
    }
   ],
   "source": [
    "# Un gráfico de barras sencillo (notemos los argumentos del método plot()).\n",
    "cu_dem_21.plot(\n",
    "    kind=\"bar\", xlabel=\"País\", ylabel=\"Cobre (ktmf)\",\n",
    "    title=\"Demanda proyectada de cobre (2021)\", color=\"skyblue\",\n",
    "    edgecolor=\"black\", figsize=(10, 5)\n",
    ");"
   ]
  },
  {
   "cell_type": "markdown",
   "id": "ec98059a",
   "metadata": {},
   "source": [
    "## DataFrames.\n",
    "Los DataFrames son estructuras de datos de **Pandas** que permiten generalizar el concepto de serie. En este contexto, un DataFrame puede definirse como una sucesión continua de series, cada una de las cuales está referenciada por el mismo índice que permite identificar a cualquiera de sus filas. Sin embargo, los DataFrames también cuentan con un segundo juego de índices, los que permiten individualizar sus columnas con un nombre respectivo. Por lo tanto, podemos pensar en los DataFrames como versiones especializadas de los arreglos bidimensionales de **Numpy**, pero con la flexibilidad de las series tanto en la identificación de filas como de columnas.\n",
    "\n",
    "Del mismo modo que las series, los DataFrames también pueden ser pensados como versiones mejoradas de diccionarios, pero en más de dos niveles. En **Pandas**, el constructor de DataFrames corresponde a la clase `pd.DataFrame()`, la cual toma como mínimo un argumento denominado `data`, que corresponde a los valores que se almacenarán en él (y que suele ser un arreglo bidimensional de **Numpy**, aunque también podría ser una lista anidada o incluso otro DataFrame). También es posible definir, en forma explícita, el juego de índices tanto para las filas, con el argumento `index`, como para las columnas, con el argumento columns. Bastará con especificar tales índices mediante listas:"
   ]
  },
  {
   "cell_type": "code",
   "execution_count": 27,
   "id": "c29ddb13",
   "metadata": {},
   "outputs": [
    {
     "data": {
      "text/html": [
       "<div>\n",
       "<style scoped>\n",
       "    .dataframe tbody tr th:only-of-type {\n",
       "        vertical-align: middle;\n",
       "    }\n",
       "\n",
       "    .dataframe tbody tr th {\n",
       "        vertical-align: top;\n",
       "    }\n",
       "\n",
       "    .dataframe thead th {\n",
       "        text-align: right;\n",
       "    }\n",
       "</style>\n",
       "<table border=\"1\" class=\"dataframe\">\n",
       "  <thead>\n",
       "    <tr style=\"text-align: right;\">\n",
       "      <th></th>\n",
       "      <th>col_1</th>\n",
       "      <th>col_2</th>\n",
       "      <th>col_3</th>\n",
       "    </tr>\n",
       "  </thead>\n",
       "  <tbody>\n",
       "    <tr>\n",
       "      <th>fila_1</th>\n",
       "      <td>2</td>\n",
       "      <td>1</td>\n",
       "      <td>3</td>\n",
       "    </tr>\n",
       "    <tr>\n",
       "      <th>fila_2</th>\n",
       "      <td>4</td>\n",
       "      <td>0</td>\n",
       "      <td>3</td>\n",
       "    </tr>\n",
       "    <tr>\n",
       "      <th>fila_3</th>\n",
       "      <td>0</td>\n",
       "      <td>9</td>\n",
       "      <td>1</td>\n",
       "    </tr>\n",
       "  </tbody>\n",
       "</table>\n",
       "</div>"
      ],
      "text/plain": [
       "        col_1  col_2  col_3\n",
       "fila_1      2      1      3\n",
       "fila_2      4      0      3\n",
       "fila_3      0      9      1"
      ]
     },
     "execution_count": 27,
     "metadata": {},
     "output_type": "execute_result"
    }
   ],
   "source": [
    "# Constructor de DataFrames.\n",
    "df = pd.DataFrame(\n",
    "    data=np.array([[2, 1, 3], [4, 0, 3], [0, 9, 1]]),\n",
    "    index=[\"fila_1\", \"fila_2\", \"fila_3\"],\n",
    "    columns=[\"col_1\", \"col_2\", \"col_3\"]\n",
    ")\n",
    "df"
   ]
  },
  {
   "cell_type": "markdown",
   "id": "8c537ffb",
   "metadata": {},
   "source": [
    "De la misma forma que las series, los DataFrames cuentan con atributos que permiten recuperar tanto índices (`index`) como valores almacenados en ellos (`values`). Sin embargo, también cuentan con el atributo `columns`, que permite recuperar el juego de índices asociados a sus columnas:"
   ]
  },
  {
   "cell_type": "code",
   "execution_count": 28,
   "id": "8e1ea761",
   "metadata": {},
   "outputs": [
    {
     "data": {
      "text/plain": [
       "array([[2, 1, 3],\n",
       "       [4, 0, 3],\n",
       "       [0, 9, 1]])"
      ]
     },
     "execution_count": 28,
     "metadata": {},
     "output_type": "execute_result"
    }
   ],
   "source": [
    "# El atributo values permite recuperar los datos almacenados en un DataFrame\n",
    "# (en un formato de arreglo de Numpy bidimensional).\n",
    "df.values"
   ]
  },
  {
   "cell_type": "code",
   "execution_count": 29,
   "id": "8563efa1",
   "metadata": {},
   "outputs": [
    {
     "data": {
      "text/plain": [
       "Index(['fila_1', 'fila_2', 'fila_3'], dtype='object')"
      ]
     },
     "execution_count": 29,
     "metadata": {},
     "output_type": "execute_result"
    }
   ],
   "source": [
    "# El atributo index permite recuperar el índice asociado a las filas del DataFrame.\n",
    "df.index"
   ]
  },
  {
   "cell_type": "code",
   "execution_count": 30,
   "id": "511359c0",
   "metadata": {},
   "outputs": [
    {
     "data": {
      "text/plain": [
       "Index(['col_1', 'col_2', 'col_3'], dtype='object')"
      ]
     },
     "execution_count": 30,
     "metadata": {},
     "output_type": "execute_result"
    }
   ],
   "source": [
    "# El atributo index permite recuperar el índice asociado a las columnas del DataFrame.\n",
    "df.columns"
   ]
  },
  {
   "cell_type": "markdown",
   "id": "bfa01b2f",
   "metadata": {},
   "source": [
    "Siempre podremos construir un DataFrame mediante su constructor, tomando como base un diccionario cuya estructura sea de, al menos, dos niveles. El siguiente diccionario, que llamamos `owners_dict`, lista las empresas propietarias de las operaciones mineras detalladas en el diccionario `production_dict`, construido con anterioridad:"
   ]
  },
  {
   "cell_type": "code",
   "execution_count": 31,
   "id": "db56d02c",
   "metadata": {},
   "outputs": [],
   "source": [
    "# Otro diccionario, pero esta vez de propietarios de las operaciones mineras.\n",
    "owners_dict = {\n",
    "    \"Escondida\": \"BHP\",\n",
    "    \"Collahuasi\": \"Anglo American PLC & Glencore\",\n",
    "    \"El Teniente\": \"Codelco\",\n",
    "    \"Los Bronces\": \"Anglo American PLC\",\n",
    "    \"Los Pelambres\": \"Antofagasta Minerals\",\n",
    "    \"Radomiro Tomic\": \"Codelco\",\n",
    "    \"Chuquicamata\": \"Codelco\",\n",
    "    \"Centinela\": \"Antofagasta Minerals\",\n",
    "    \"Spence\": \"BHP\",\n",
    "    \"Sierra Gorda\": \"KGHM International\",\n",
    "    \"Ministro Hales\": \"Codelco\",\n",
    "    \"Andina\": \"Codelco\",\n",
    "    \"Candelaria\": \"Lundin Mining\",\n",
    "    \"Caserones\": \"SCM Lumina Copper Chile\",\n",
    "    \"Gabriela Mistral\": \"Codelco\"\n",
    "}"
   ]
  },
  {
   "cell_type": "markdown",
   "id": "21560657",
   "metadata": {},
   "source": [
    "Si usamos ambos diccionarios, podemos construir fácilmente un DataFrame para englobar tanto la producción de fino como la propiedad de estas operaciones mineras como sigue:"
   ]
  },
  {
   "cell_type": "code",
   "execution_count": 32,
   "id": "794f9762",
   "metadata": {},
   "outputs": [
    {
     "data": {
      "text/html": [
       "<div>\n",
       "<style scoped>\n",
       "    .dataframe tbody tr th:only-of-type {\n",
       "        vertical-align: middle;\n",
       "    }\n",
       "\n",
       "    .dataframe tbody tr th {\n",
       "        vertical-align: top;\n",
       "    }\n",
       "\n",
       "    .dataframe thead th {\n",
       "        text-align: right;\n",
       "    }\n",
       "</style>\n",
       "<table border=\"1\" class=\"dataframe\">\n",
       "  <thead>\n",
       "    <tr style=\"text-align: right;\">\n",
       "      <th></th>\n",
       "      <th>Produccion</th>\n",
       "      <th>Empresa</th>\n",
       "    </tr>\n",
       "  </thead>\n",
       "  <tbody>\n",
       "    <tr>\n",
       "      <th>Escondida</th>\n",
       "      <td>1011</td>\n",
       "      <td>BHP</td>\n",
       "    </tr>\n",
       "    <tr>\n",
       "      <th>Collahuasi</th>\n",
       "      <td>630</td>\n",
       "      <td>Anglo American PLC &amp; Glencore</td>\n",
       "    </tr>\n",
       "    <tr>\n",
       "      <th>El Teniente</th>\n",
       "      <td>460</td>\n",
       "      <td>Codelco</td>\n",
       "    </tr>\n",
       "    <tr>\n",
       "      <th>Los Bronces</th>\n",
       "      <td>370</td>\n",
       "      <td>Anglo American PLC</td>\n",
       "    </tr>\n",
       "    <tr>\n",
       "      <th>Los Pelambres</th>\n",
       "      <td>336</td>\n",
       "      <td>Antofagasta Minerals</td>\n",
       "    </tr>\n",
       "    <tr>\n",
       "      <th>Radomiro Tomic</th>\n",
       "      <td>326</td>\n",
       "      <td>Codelco</td>\n",
       "    </tr>\n",
       "    <tr>\n",
       "      <th>Chuquicamata</th>\n",
       "      <td>319</td>\n",
       "      <td>Codelco</td>\n",
       "    </tr>\n",
       "    <tr>\n",
       "      <th>Centinela</th>\n",
       "      <td>274</td>\n",
       "      <td>Antofagasta Minerals</td>\n",
       "    </tr>\n",
       "    <tr>\n",
       "      <th>Spence</th>\n",
       "      <td>203</td>\n",
       "      <td>BHP</td>\n",
       "    </tr>\n",
       "    <tr>\n",
       "      <th>Sierra Gorda</th>\n",
       "      <td>198</td>\n",
       "      <td>KGHM International</td>\n",
       "    </tr>\n",
       "    <tr>\n",
       "      <th>Ministro Hales</th>\n",
       "      <td>182</td>\n",
       "      <td>Codelco</td>\n",
       "    </tr>\n",
       "    <tr>\n",
       "      <th>Andina</th>\n",
       "      <td>177</td>\n",
       "      <td>Codelco</td>\n",
       "    </tr>\n",
       "    <tr>\n",
       "      <th>Candelaria</th>\n",
       "      <td>119</td>\n",
       "      <td>Lundin Mining</td>\n",
       "    </tr>\n",
       "    <tr>\n",
       "      <th>Caserones</th>\n",
       "      <td>110</td>\n",
       "      <td>SCM Lumina Copper Chile</td>\n",
       "    </tr>\n",
       "    <tr>\n",
       "      <th>Gabriela Mistral</th>\n",
       "      <td>101</td>\n",
       "      <td>Codelco</td>\n",
       "    </tr>\n",
       "  </tbody>\n",
       "</table>\n",
       "</div>"
      ],
      "text/plain": [
       "                  Produccion                        Empresa\n",
       "Escondida               1011                            BHP\n",
       "Collahuasi               630  Anglo American PLC & Glencore\n",
       "El Teniente              460                        Codelco\n",
       "Los Bronces              370             Anglo American PLC\n",
       "Los Pelambres            336           Antofagasta Minerals\n",
       "Radomiro Tomic           326                        Codelco\n",
       "Chuquicamata             319                        Codelco\n",
       "Centinela                274           Antofagasta Minerals\n",
       "Spence                   203                            BHP\n",
       "Sierra Gorda             198             KGHM International\n",
       "Ministro Hales           182                        Codelco\n",
       "Andina                   177                        Codelco\n",
       "Candelaria               119                  Lundin Mining\n",
       "Caserones                110        SCM Lumina Copper Chile\n",
       "Gabriela Mistral         101                        Codelco"
      ]
     },
     "execution_count": 32,
     "metadata": {},
     "output_type": "execute_result"
    }
   ],
   "source": [
    "# Llevamos ambos diccionarios a un DataFrame.\n",
    "data = pd.DataFrame({\"Produccion\": production_dict, \"Empresa\": owners_dict})\n",
    "data"
   ]
  },
  {
   "cell_type": "markdown",
   "id": "fd2af27b",
   "metadata": {},
   "source": [
    "Notemos que la estructura de nuestro DataFrame data es la de dos series unidas por el mismo índice de filas, y para las cuales cada columna es individualizada igualmente por un índice. Para todo DataFrame, podemos seleccionar cualquier columna del mismo especificando su índice entre corchetes. El resultado de seleccionar una determinada columna de un DataFrame es que ésta será retornada como una serie:"
   ]
  },
  {
   "cell_type": "code",
   "execution_count": 33,
   "id": "1f9a163b",
   "metadata": {},
   "outputs": [
    {
     "data": {
      "text/plain": [
       "Escondida                                     BHP\n",
       "Collahuasi          Anglo American PLC & Glencore\n",
       "El Teniente                               Codelco\n",
       "Los Bronces                    Anglo American PLC\n",
       "Los Pelambres                Antofagasta Minerals\n",
       "Radomiro Tomic                            Codelco\n",
       "Chuquicamata                              Codelco\n",
       "Centinela                    Antofagasta Minerals\n",
       "Spence                                        BHP\n",
       "Sierra Gorda                   KGHM International\n",
       "Ministro Hales                            Codelco\n",
       "Andina                                    Codelco\n",
       "Candelaria                          Lundin Mining\n",
       "Caserones                 SCM Lumina Copper Chile\n",
       "Gabriela Mistral                          Codelco\n",
       "Name: Empresa, dtype: object"
      ]
     },
     "execution_count": 33,
     "metadata": {},
     "output_type": "execute_result"
    }
   ],
   "source": [
    "# Las columnas pueden seleccionarse especificando su nombre entre corchetes.\n",
    "data[\"Empresa\"]"
   ]
  },
  {
   "cell_type": "markdown",
   "id": "bb8ccaf0",
   "metadata": {},
   "source": [
    "Podemos, igualmente, individualizar cualquier elemento de un DataFrame usando igualmente la notación entre corchetes. En este esquema de selección, primero especificamos el rótulo de la columna de interés con su propio corchete, y luego el rótulo de la fila respectiva, también con su propio corchete:"
   ]
  },
  {
   "cell_type": "code",
   "execution_count": 34,
   "id": "92c140a3",
   "metadata": {},
   "outputs": [
    {
     "data": {
      "text/plain": [
       "'Antofagasta Minerals'"
      ]
     },
     "execution_count": 34,
     "metadata": {},
     "output_type": "execute_result"
    }
   ],
   "source": [
    "# Individualizacion de un dato específico.\n",
    "data[\"Empresa\"][\"Centinela\"]"
   ]
  },
  {
   "cell_type": "markdown",
   "id": "db9b9b4a",
   "metadata": {},
   "source": [
    "El **esquema de selección** anterior no es el más adecuado para seleccionar datos, pero siempre podemos recurrir a él. Sin embargo, un poco más adelante veremos esquemas más eficientes. Sin embargo, sí es muy común utilizar un único corchete para seleccionar columnas individuales de un DataFrame.\n",
    "\n",
    "Vamos a agregar más información a nuestro DataFrame por medio de la construcción de un nuevo diccionario, en el cual especificaremos la región en la cual se ubica cada una de las operaciones mineras:"
   ]
  },
  {
   "cell_type": "code",
   "execution_count": 35,
   "id": "95273a04",
   "metadata": {},
   "outputs": [],
   "source": [
    "# Y otro diccionario... (esta vez, con las ubicaciones de las operaciones).\n",
    "location_dict = {\n",
    "    \"Escondida\": \"Antofagasta\",\n",
    "    \"Collahuasi\": \"Tarapaca\",\n",
    "    \"El Teniente\": \"Lib. Bdo. O'Higgins\",\n",
    "    \"Los Bronces\": \"Metropolitana\",\n",
    "    \"Los Pelambres\": \"Coquimbo\",\n",
    "    \"Radomiro Tomic\": \"Antofagasta\",\n",
    "     \"Chuquicamata\": \"Antofagasta\",\n",
    "    \"Centinela\": \"Antofagasta\",\n",
    "    \"Spence\": \"Antofagasta\",\n",
    "    \"Sierra Gorda\": \"Antofagasta\",\n",
    "    \"Ministro Hales\": \"Antofagasta\",\n",
    "    \"Andina\": \"Valparaiso\",\n",
    "    \"Candelaria\": \"Atacama\",\n",
    "    \"Caserones\": \"Atacama\",\n",
    "    \"Gabriela Mistral\": \"Antofagasta\"\n",
    "}"
   ]
  },
  {
   "cell_type": "code",
   "execution_count": 36,
   "id": "f2c87c84",
   "metadata": {},
   "outputs": [],
   "source": [
    "# Unimos todo en un DataFrame.\n",
    "data = pd.DataFrame({\n",
    "    \"Produccion\": production_dict, \n",
    "    \"Empresa\": owners_dict, \n",
    "    \"Región\": location_dict\n",
    "})"
   ]
  },
  {
   "cell_type": "code",
   "execution_count": 37,
   "id": "4031cfd4",
   "metadata": {},
   "outputs": [
    {
     "data": {
      "text/html": [
       "<div>\n",
       "<style scoped>\n",
       "    .dataframe tbody tr th:only-of-type {\n",
       "        vertical-align: middle;\n",
       "    }\n",
       "\n",
       "    .dataframe tbody tr th {\n",
       "        vertical-align: top;\n",
       "    }\n",
       "\n",
       "    .dataframe thead th {\n",
       "        text-align: right;\n",
       "    }\n",
       "</style>\n",
       "<table border=\"1\" class=\"dataframe\">\n",
       "  <thead>\n",
       "    <tr style=\"text-align: right;\">\n",
       "      <th></th>\n",
       "      <th>Produccion</th>\n",
       "      <th>Empresa</th>\n",
       "      <th>Región</th>\n",
       "    </tr>\n",
       "  </thead>\n",
       "  <tbody>\n",
       "    <tr>\n",
       "      <th>Escondida</th>\n",
       "      <td>1011</td>\n",
       "      <td>BHP</td>\n",
       "      <td>Antofagasta</td>\n",
       "    </tr>\n",
       "    <tr>\n",
       "      <th>Collahuasi</th>\n",
       "      <td>630</td>\n",
       "      <td>Anglo American PLC &amp; Glencore</td>\n",
       "      <td>Tarapaca</td>\n",
       "    </tr>\n",
       "    <tr>\n",
       "      <th>El Teniente</th>\n",
       "      <td>460</td>\n",
       "      <td>Codelco</td>\n",
       "      <td>Lib. Bdo. O'Higgins</td>\n",
       "    </tr>\n",
       "    <tr>\n",
       "      <th>Los Bronces</th>\n",
       "      <td>370</td>\n",
       "      <td>Anglo American PLC</td>\n",
       "      <td>Metropolitana</td>\n",
       "    </tr>\n",
       "    <tr>\n",
       "      <th>Los Pelambres</th>\n",
       "      <td>336</td>\n",
       "      <td>Antofagasta Minerals</td>\n",
       "      <td>Coquimbo</td>\n",
       "    </tr>\n",
       "    <tr>\n",
       "      <th>Radomiro Tomic</th>\n",
       "      <td>326</td>\n",
       "      <td>Codelco</td>\n",
       "      <td>Antofagasta</td>\n",
       "    </tr>\n",
       "    <tr>\n",
       "      <th>Chuquicamata</th>\n",
       "      <td>319</td>\n",
       "      <td>Codelco</td>\n",
       "      <td>Antofagasta</td>\n",
       "    </tr>\n",
       "    <tr>\n",
       "      <th>Centinela</th>\n",
       "      <td>274</td>\n",
       "      <td>Antofagasta Minerals</td>\n",
       "      <td>Antofagasta</td>\n",
       "    </tr>\n",
       "    <tr>\n",
       "      <th>Spence</th>\n",
       "      <td>203</td>\n",
       "      <td>BHP</td>\n",
       "      <td>Antofagasta</td>\n",
       "    </tr>\n",
       "    <tr>\n",
       "      <th>Sierra Gorda</th>\n",
       "      <td>198</td>\n",
       "      <td>KGHM International</td>\n",
       "      <td>Antofagasta</td>\n",
       "    </tr>\n",
       "    <tr>\n",
       "      <th>Ministro Hales</th>\n",
       "      <td>182</td>\n",
       "      <td>Codelco</td>\n",
       "      <td>Antofagasta</td>\n",
       "    </tr>\n",
       "    <tr>\n",
       "      <th>Andina</th>\n",
       "      <td>177</td>\n",
       "      <td>Codelco</td>\n",
       "      <td>Valparaiso</td>\n",
       "    </tr>\n",
       "    <tr>\n",
       "      <th>Candelaria</th>\n",
       "      <td>119</td>\n",
       "      <td>Lundin Mining</td>\n",
       "      <td>Atacama</td>\n",
       "    </tr>\n",
       "    <tr>\n",
       "      <th>Caserones</th>\n",
       "      <td>110</td>\n",
       "      <td>SCM Lumina Copper Chile</td>\n",
       "      <td>Atacama</td>\n",
       "    </tr>\n",
       "    <tr>\n",
       "      <th>Gabriela Mistral</th>\n",
       "      <td>101</td>\n",
       "      <td>Codelco</td>\n",
       "      <td>Antofagasta</td>\n",
       "    </tr>\n",
       "  </tbody>\n",
       "</table>\n",
       "</div>"
      ],
      "text/plain": [
       "                  Produccion                        Empresa  \\\n",
       "Escondida               1011                            BHP   \n",
       "Collahuasi               630  Anglo American PLC & Glencore   \n",
       "El Teniente              460                        Codelco   \n",
       "Los Bronces              370             Anglo American PLC   \n",
       "Los Pelambres            336           Antofagasta Minerals   \n",
       "Radomiro Tomic           326                        Codelco   \n",
       "Chuquicamata             319                        Codelco   \n",
       "Centinela                274           Antofagasta Minerals   \n",
       "Spence                   203                            BHP   \n",
       "Sierra Gorda             198             KGHM International   \n",
       "Ministro Hales           182                        Codelco   \n",
       "Andina                   177                        Codelco   \n",
       "Candelaria               119                  Lundin Mining   \n",
       "Caserones                110        SCM Lumina Copper Chile   \n",
       "Gabriela Mistral         101                        Codelco   \n",
       "\n",
       "                               Región  \n",
       "Escondida                 Antofagasta  \n",
       "Collahuasi                   Tarapaca  \n",
       "El Teniente       Lib. Bdo. O'Higgins  \n",
       "Los Bronces             Metropolitana  \n",
       "Los Pelambres                Coquimbo  \n",
       "Radomiro Tomic            Antofagasta  \n",
       "Chuquicamata              Antofagasta  \n",
       "Centinela                 Antofagasta  \n",
       "Spence                    Antofagasta  \n",
       "Sierra Gorda              Antofagasta  \n",
       "Ministro Hales            Antofagasta  \n",
       "Andina                     Valparaiso  \n",
       "Candelaria                    Atacama  \n",
       "Caserones                     Atacama  \n",
       "Gabriela Mistral          Antofagasta  "
      ]
     },
     "execution_count": 37,
     "metadata": {},
     "output_type": "execute_result"
    }
   ],
   "source": [
    "data"
   ]
  },
  {
   "cell_type": "markdown",
   "id": "5b5459e9",
   "metadata": {},
   "source": [
    "Para seleccionar la información de más de una columna, bastará con especificar los nombres de tales columnas dentro de una lista, usando la misma notación entre corchetes anterior (es decir, fancy indexing). De esta manera, si queremos seleccionar la data relativa a las producciones y ubicaciones de las operaciones mineras especificadas en nuestro DataFrame, obtendremos otro DataFrame:"
   ]
  },
  {
   "cell_type": "code",
   "execution_count": 38,
   "id": "46cd4702",
   "metadata": {},
   "outputs": [
    {
     "data": {
      "text/html": [
       "<div>\n",
       "<style scoped>\n",
       "    .dataframe tbody tr th:only-of-type {\n",
       "        vertical-align: middle;\n",
       "    }\n",
       "\n",
       "    .dataframe tbody tr th {\n",
       "        vertical-align: top;\n",
       "    }\n",
       "\n",
       "    .dataframe thead th {\n",
       "        text-align: right;\n",
       "    }\n",
       "</style>\n",
       "<table border=\"1\" class=\"dataframe\">\n",
       "  <thead>\n",
       "    <tr style=\"text-align: right;\">\n",
       "      <th></th>\n",
       "      <th>Produccion</th>\n",
       "      <th>Región</th>\n",
       "    </tr>\n",
       "  </thead>\n",
       "  <tbody>\n",
       "    <tr>\n",
       "      <th>Escondida</th>\n",
       "      <td>1011</td>\n",
       "      <td>Antofagasta</td>\n",
       "    </tr>\n",
       "    <tr>\n",
       "      <th>Collahuasi</th>\n",
       "      <td>630</td>\n",
       "      <td>Tarapaca</td>\n",
       "    </tr>\n",
       "    <tr>\n",
       "      <th>El Teniente</th>\n",
       "      <td>460</td>\n",
       "      <td>Lib. Bdo. O'Higgins</td>\n",
       "    </tr>\n",
       "    <tr>\n",
       "      <th>Los Bronces</th>\n",
       "      <td>370</td>\n",
       "      <td>Metropolitana</td>\n",
       "    </tr>\n",
       "    <tr>\n",
       "      <th>Los Pelambres</th>\n",
       "      <td>336</td>\n",
       "      <td>Coquimbo</td>\n",
       "    </tr>\n",
       "    <tr>\n",
       "      <th>Radomiro Tomic</th>\n",
       "      <td>326</td>\n",
       "      <td>Antofagasta</td>\n",
       "    </tr>\n",
       "    <tr>\n",
       "      <th>Chuquicamata</th>\n",
       "      <td>319</td>\n",
       "      <td>Antofagasta</td>\n",
       "    </tr>\n",
       "    <tr>\n",
       "      <th>Centinela</th>\n",
       "      <td>274</td>\n",
       "      <td>Antofagasta</td>\n",
       "    </tr>\n",
       "    <tr>\n",
       "      <th>Spence</th>\n",
       "      <td>203</td>\n",
       "      <td>Antofagasta</td>\n",
       "    </tr>\n",
       "    <tr>\n",
       "      <th>Sierra Gorda</th>\n",
       "      <td>198</td>\n",
       "      <td>Antofagasta</td>\n",
       "    </tr>\n",
       "    <tr>\n",
       "      <th>Ministro Hales</th>\n",
       "      <td>182</td>\n",
       "      <td>Antofagasta</td>\n",
       "    </tr>\n",
       "    <tr>\n",
       "      <th>Andina</th>\n",
       "      <td>177</td>\n",
       "      <td>Valparaiso</td>\n",
       "    </tr>\n",
       "    <tr>\n",
       "      <th>Candelaria</th>\n",
       "      <td>119</td>\n",
       "      <td>Atacama</td>\n",
       "    </tr>\n",
       "    <tr>\n",
       "      <th>Caserones</th>\n",
       "      <td>110</td>\n",
       "      <td>Atacama</td>\n",
       "    </tr>\n",
       "    <tr>\n",
       "      <th>Gabriela Mistral</th>\n",
       "      <td>101</td>\n",
       "      <td>Antofagasta</td>\n",
       "    </tr>\n",
       "  </tbody>\n",
       "</table>\n",
       "</div>"
      ],
      "text/plain": [
       "                  Produccion               Región\n",
       "Escondida               1011          Antofagasta\n",
       "Collahuasi               630             Tarapaca\n",
       "El Teniente              460  Lib. Bdo. O'Higgins\n",
       "Los Bronces              370        Metropolitana\n",
       "Los Pelambres            336             Coquimbo\n",
       "Radomiro Tomic           326          Antofagasta\n",
       "Chuquicamata             319          Antofagasta\n",
       "Centinela                274          Antofagasta\n",
       "Spence                   203          Antofagasta\n",
       "Sierra Gorda             198          Antofagasta\n",
       "Ministro Hales           182          Antofagasta\n",
       "Andina                   177           Valparaiso\n",
       "Candelaria               119              Atacama\n",
       "Caserones                110              Atacama\n",
       "Gabriela Mistral         101          Antofagasta"
      ]
     },
     "execution_count": 38,
     "metadata": {},
     "output_type": "execute_result"
    }
   ],
   "source": [
    "# Selección de más de una columna en un DataFrame.\n",
    "data[[\"Produccion\", \"Región\"]]"
   ]
  },
  {
   "cell_type": "markdown",
   "id": "a04013c3",
   "metadata": {},
   "source": [
    "Es importante destacar que tanto las series como los DataFrames son estructuras mutables desde la perspectiva de los datos que éstos almacenan, lo que es similar a lo que ocurre con los arreglos de **Numpy**. Por esta razón, podemos modificar cualquier valor en un DataFrame (o en una serie) mediante la selección de dicho valor:"
   ]
  },
  {
   "cell_type": "code",
   "execution_count": 39,
   "id": "d66151cc",
   "metadata": {},
   "outputs": [
    {
     "name": "stderr",
     "output_type": "stream",
     "text": [
      "/var/folders/sn/hlgjzv2n1537dplx8bvvj1c80000gn/T/ipykernel_40847/2438761236.py:2: SettingWithCopyWarning: \n",
      "A value is trying to be set on a copy of a slice from a DataFrame\n",
      "\n",
      "See the caveats in the documentation: https://pandas.pydata.org/pandas-docs/stable/user_guide/indexing.html#returning-a-view-versus-a-copy\n",
      "  data[\"Región\"][\"El Teniente\"] = \"O'Higgins\"\n"
     ]
    },
    {
     "data": {
      "text/html": [
       "<div>\n",
       "<style scoped>\n",
       "    .dataframe tbody tr th:only-of-type {\n",
       "        vertical-align: middle;\n",
       "    }\n",
       "\n",
       "    .dataframe tbody tr th {\n",
       "        vertical-align: top;\n",
       "    }\n",
       "\n",
       "    .dataframe thead th {\n",
       "        text-align: right;\n",
       "    }\n",
       "</style>\n",
       "<table border=\"1\" class=\"dataframe\">\n",
       "  <thead>\n",
       "    <tr style=\"text-align: right;\">\n",
       "      <th></th>\n",
       "      <th>Produccion</th>\n",
       "      <th>Empresa</th>\n",
       "      <th>Región</th>\n",
       "    </tr>\n",
       "  </thead>\n",
       "  <tbody>\n",
       "    <tr>\n",
       "      <th>Escondida</th>\n",
       "      <td>1011</td>\n",
       "      <td>BHP</td>\n",
       "      <td>Antofagasta</td>\n",
       "    </tr>\n",
       "    <tr>\n",
       "      <th>Collahuasi</th>\n",
       "      <td>630</td>\n",
       "      <td>Anglo American PLC &amp; Glencore</td>\n",
       "      <td>Tarapaca</td>\n",
       "    </tr>\n",
       "    <tr>\n",
       "      <th>El Teniente</th>\n",
       "      <td>460</td>\n",
       "      <td>Codelco</td>\n",
       "      <td>O'Higgins</td>\n",
       "    </tr>\n",
       "    <tr>\n",
       "      <th>Los Bronces</th>\n",
       "      <td>370</td>\n",
       "      <td>Anglo American PLC</td>\n",
       "      <td>Metropolitana</td>\n",
       "    </tr>\n",
       "    <tr>\n",
       "      <th>Los Pelambres</th>\n",
       "      <td>336</td>\n",
       "      <td>Antofagasta Minerals</td>\n",
       "      <td>Coquimbo</td>\n",
       "    </tr>\n",
       "    <tr>\n",
       "      <th>Radomiro Tomic</th>\n",
       "      <td>326</td>\n",
       "      <td>Codelco</td>\n",
       "      <td>Antofagasta</td>\n",
       "    </tr>\n",
       "    <tr>\n",
       "      <th>Chuquicamata</th>\n",
       "      <td>319</td>\n",
       "      <td>Codelco</td>\n",
       "      <td>Antofagasta</td>\n",
       "    </tr>\n",
       "    <tr>\n",
       "      <th>Centinela</th>\n",
       "      <td>274</td>\n",
       "      <td>Antofagasta Minerals</td>\n",
       "      <td>Antofagasta</td>\n",
       "    </tr>\n",
       "    <tr>\n",
       "      <th>Spence</th>\n",
       "      <td>203</td>\n",
       "      <td>BHP</td>\n",
       "      <td>Antofagasta</td>\n",
       "    </tr>\n",
       "    <tr>\n",
       "      <th>Sierra Gorda</th>\n",
       "      <td>198</td>\n",
       "      <td>KGHM International</td>\n",
       "      <td>Antofagasta</td>\n",
       "    </tr>\n",
       "    <tr>\n",
       "      <th>Ministro Hales</th>\n",
       "      <td>182</td>\n",
       "      <td>Codelco</td>\n",
       "      <td>Antofagasta</td>\n",
       "    </tr>\n",
       "    <tr>\n",
       "      <th>Andina</th>\n",
       "      <td>177</td>\n",
       "      <td>Codelco</td>\n",
       "      <td>Valparaiso</td>\n",
       "    </tr>\n",
       "    <tr>\n",
       "      <th>Candelaria</th>\n",
       "      <td>119</td>\n",
       "      <td>Lundin Mining</td>\n",
       "      <td>Atacama</td>\n",
       "    </tr>\n",
       "    <tr>\n",
       "      <th>Caserones</th>\n",
       "      <td>110</td>\n",
       "      <td>SCM Lumina Copper Chile</td>\n",
       "      <td>Atacama</td>\n",
       "    </tr>\n",
       "    <tr>\n",
       "      <th>Gabriela Mistral</th>\n",
       "      <td>101</td>\n",
       "      <td>Codelco</td>\n",
       "      <td>Antofagasta</td>\n",
       "    </tr>\n",
       "  </tbody>\n",
       "</table>\n",
       "</div>"
      ],
      "text/plain": [
       "                  Produccion                        Empresa         Región\n",
       "Escondida               1011                            BHP    Antofagasta\n",
       "Collahuasi               630  Anglo American PLC & Glencore       Tarapaca\n",
       "El Teniente              460                        Codelco      O'Higgins\n",
       "Los Bronces              370             Anglo American PLC  Metropolitana\n",
       "Los Pelambres            336           Antofagasta Minerals       Coquimbo\n",
       "Radomiro Tomic           326                        Codelco    Antofagasta\n",
       "Chuquicamata             319                        Codelco    Antofagasta\n",
       "Centinela                274           Antofagasta Minerals    Antofagasta\n",
       "Spence                   203                            BHP    Antofagasta\n",
       "Sierra Gorda             198             KGHM International    Antofagasta\n",
       "Ministro Hales           182                        Codelco    Antofagasta\n",
       "Andina                   177                        Codelco     Valparaiso\n",
       "Candelaria               119                  Lundin Mining        Atacama\n",
       "Caserones                110        SCM Lumina Copper Chile        Atacama\n",
       "Gabriela Mistral         101                        Codelco    Antofagasta"
      ]
     },
     "execution_count": 39,
     "metadata": {},
     "output_type": "execute_result"
    }
   ],
   "source": [
    "# Modificamos un valor cualquier en un DataFrame mediane una simple selección.\n",
    "data[\"Región\"][\"El Teniente\"] = \"O'Higgins\"\n",
    "data"
   ]
  },
  {
   "cell_type": "markdown",
   "id": "28c38a37",
   "metadata": {},
   "source": [
    "Notemos que, al modificar un valor de manera directa como en el caso anterior, **Pandas** inmediatamente nos levanta una advertencia (`SettingWithCopyWarning`) en la cual se aconseja usar una copia del DataFrame para después modificarla. Esta es una muy buena práctica, ya que, si bien los DataFrames son estructuras parcialmente mutables, modificarlas una y otra vez puede llevar a ambigüedades en un análisis de sus datos.\n",
    "\n",
    "La mutabilidad también permite construir nuevos registros para nuestro DataFrame simplemente definiéndolos:"
   ]
  },
  {
   "cell_type": "code",
   "execution_count": 40,
   "id": "a6eeb218",
   "metadata": {},
   "outputs": [
    {
     "data": {
      "text/html": [
       "<div>\n",
       "<style scoped>\n",
       "    .dataframe tbody tr th:only-of-type {\n",
       "        vertical-align: middle;\n",
       "    }\n",
       "\n",
       "    .dataframe tbody tr th {\n",
       "        vertical-align: top;\n",
       "    }\n",
       "\n",
       "    .dataframe thead th {\n",
       "        text-align: right;\n",
       "    }\n",
       "</style>\n",
       "<table border=\"1\" class=\"dataframe\">\n",
       "  <thead>\n",
       "    <tr style=\"text-align: right;\">\n",
       "      <th></th>\n",
       "      <th>Produccion</th>\n",
       "      <th>Empresa</th>\n",
       "      <th>Región</th>\n",
       "      <th>Porcentaje produccion Chile</th>\n",
       "    </tr>\n",
       "  </thead>\n",
       "  <tbody>\n",
       "    <tr>\n",
       "      <th>Escondida</th>\n",
       "      <td>1011</td>\n",
       "      <td>BHP</td>\n",
       "      <td>Antofagasta</td>\n",
       "      <td>18.0</td>\n",
       "    </tr>\n",
       "    <tr>\n",
       "      <th>Collahuasi</th>\n",
       "      <td>630</td>\n",
       "      <td>Anglo American PLC &amp; Glencore</td>\n",
       "      <td>Tarapaca</td>\n",
       "      <td>11.2</td>\n",
       "    </tr>\n",
       "    <tr>\n",
       "      <th>El Teniente</th>\n",
       "      <td>460</td>\n",
       "      <td>Codelco</td>\n",
       "      <td>O'Higgins</td>\n",
       "      <td>8.2</td>\n",
       "    </tr>\n",
       "    <tr>\n",
       "      <th>Los Bronces</th>\n",
       "      <td>370</td>\n",
       "      <td>Anglo American PLC</td>\n",
       "      <td>Metropolitana</td>\n",
       "      <td>6.6</td>\n",
       "    </tr>\n",
       "    <tr>\n",
       "      <th>Los Pelambres</th>\n",
       "      <td>336</td>\n",
       "      <td>Antofagasta Minerals</td>\n",
       "      <td>Coquimbo</td>\n",
       "      <td>6.0</td>\n",
       "    </tr>\n",
       "    <tr>\n",
       "      <th>Radomiro Tomic</th>\n",
       "      <td>326</td>\n",
       "      <td>Codelco</td>\n",
       "      <td>Antofagasta</td>\n",
       "      <td>5.8</td>\n",
       "    </tr>\n",
       "    <tr>\n",
       "      <th>Chuquicamata</th>\n",
       "      <td>319</td>\n",
       "      <td>Codelco</td>\n",
       "      <td>Antofagasta</td>\n",
       "      <td>5.7</td>\n",
       "    </tr>\n",
       "    <tr>\n",
       "      <th>Centinela</th>\n",
       "      <td>274</td>\n",
       "      <td>Antofagasta Minerals</td>\n",
       "      <td>Antofagasta</td>\n",
       "      <td>4.9</td>\n",
       "    </tr>\n",
       "    <tr>\n",
       "      <th>Spence</th>\n",
       "      <td>203</td>\n",
       "      <td>BHP</td>\n",
       "      <td>Antofagasta</td>\n",
       "      <td>3.6</td>\n",
       "    </tr>\n",
       "    <tr>\n",
       "      <th>Sierra Gorda</th>\n",
       "      <td>198</td>\n",
       "      <td>KGHM International</td>\n",
       "      <td>Antofagasta</td>\n",
       "      <td>3.5</td>\n",
       "    </tr>\n",
       "    <tr>\n",
       "      <th>Ministro Hales</th>\n",
       "      <td>182</td>\n",
       "      <td>Codelco</td>\n",
       "      <td>Antofagasta</td>\n",
       "      <td>3.2</td>\n",
       "    </tr>\n",
       "    <tr>\n",
       "      <th>Andina</th>\n",
       "      <td>177</td>\n",
       "      <td>Codelco</td>\n",
       "      <td>Valparaiso</td>\n",
       "      <td>3.2</td>\n",
       "    </tr>\n",
       "    <tr>\n",
       "      <th>Candelaria</th>\n",
       "      <td>119</td>\n",
       "      <td>Lundin Mining</td>\n",
       "      <td>Atacama</td>\n",
       "      <td>2.1</td>\n",
       "    </tr>\n",
       "    <tr>\n",
       "      <th>Caserones</th>\n",
       "      <td>110</td>\n",
       "      <td>SCM Lumina Copper Chile</td>\n",
       "      <td>Atacama</td>\n",
       "      <td>2.0</td>\n",
       "    </tr>\n",
       "    <tr>\n",
       "      <th>Gabriela Mistral</th>\n",
       "      <td>101</td>\n",
       "      <td>Codelco</td>\n",
       "      <td>Antofagasta</td>\n",
       "      <td>1.8</td>\n",
       "    </tr>\n",
       "  </tbody>\n",
       "</table>\n",
       "</div>"
      ],
      "text/plain": [
       "                  Produccion                        Empresa         Región  \\\n",
       "Escondida               1011                            BHP    Antofagasta   \n",
       "Collahuasi               630  Anglo American PLC & Glencore       Tarapaca   \n",
       "El Teniente              460                        Codelco      O'Higgins   \n",
       "Los Bronces              370             Anglo American PLC  Metropolitana   \n",
       "Los Pelambres            336           Antofagasta Minerals       Coquimbo   \n",
       "Radomiro Tomic           326                        Codelco    Antofagasta   \n",
       "Chuquicamata             319                        Codelco    Antofagasta   \n",
       "Centinela                274           Antofagasta Minerals    Antofagasta   \n",
       "Spence                   203                            BHP    Antofagasta   \n",
       "Sierra Gorda             198             KGHM International    Antofagasta   \n",
       "Ministro Hales           182                        Codelco    Antofagasta   \n",
       "Andina                   177                        Codelco     Valparaiso   \n",
       "Candelaria               119                  Lundin Mining        Atacama   \n",
       "Caserones                110        SCM Lumina Copper Chile        Atacama   \n",
       "Gabriela Mistral         101                        Codelco    Antofagasta   \n",
       "\n",
       "                  Porcentaje produccion Chile  \n",
       "Escondida                                18.0  \n",
       "Collahuasi                               11.2  \n",
       "El Teniente                               8.2  \n",
       "Los Bronces                               6.6  \n",
       "Los Pelambres                             6.0  \n",
       "Radomiro Tomic                            5.8  \n",
       "Chuquicamata                              5.7  \n",
       "Centinela                                 4.9  \n",
       "Spence                                    3.6  \n",
       "Sierra Gorda                              3.5  \n",
       "Ministro Hales                            3.2  \n",
       "Andina                                    3.2  \n",
       "Candelaria                                2.1  \n",
       "Caserones                                 2.0  \n",
       "Gabriela Mistral                          1.8  "
      ]
     },
     "execution_count": 40,
     "metadata": {},
     "output_type": "execute_result"
    }
   ],
   "source": [
    "# Creación sencilla de una nueva columna en nuestro DataFrame.\n",
    "data[\"Porcentaje produccion Chile\"] = np.array([\n",
    "    18.0, 11.2, 8.2, 6.6, 6.0, 5.8, 5.7, 4.9, 3.6, 3.5, 3.2, 3.2, 2.1, 2.0, 1.8\n",
    "])\n",
    "data"
   ]
  },
  {
   "cell_type": "markdown",
   "id": "d4eb32b4",
   "metadata": {},
   "source": [
    "Todo DataFrame, al igual que los arreglos bidimensionales de **Numpy**, puede transponerse, invirtiendo filas y columnas. Dicha transposición se logra mediante el mismo atributo que tienen tales arreglos, definido como `T`:"
   ]
  },
  {
   "cell_type": "code",
   "execution_count": 41,
   "id": "11c8c4d4",
   "metadata": {},
   "outputs": [
    {
     "data": {
      "text/html": [
       "<div>\n",
       "<style scoped>\n",
       "    .dataframe tbody tr th:only-of-type {\n",
       "        vertical-align: middle;\n",
       "    }\n",
       "\n",
       "    .dataframe tbody tr th {\n",
       "        vertical-align: top;\n",
       "    }\n",
       "\n",
       "    .dataframe thead th {\n",
       "        text-align: right;\n",
       "    }\n",
       "</style>\n",
       "<table border=\"1\" class=\"dataframe\">\n",
       "  <thead>\n",
       "    <tr style=\"text-align: right;\">\n",
       "      <th></th>\n",
       "      <th>fila_1</th>\n",
       "      <th>fila_2</th>\n",
       "      <th>fila_3</th>\n",
       "    </tr>\n",
       "  </thead>\n",
       "  <tbody>\n",
       "    <tr>\n",
       "      <th>col_1</th>\n",
       "      <td>2</td>\n",
       "      <td>4</td>\n",
       "      <td>0</td>\n",
       "    </tr>\n",
       "    <tr>\n",
       "      <th>col_2</th>\n",
       "      <td>1</td>\n",
       "      <td>0</td>\n",
       "      <td>9</td>\n",
       "    </tr>\n",
       "    <tr>\n",
       "      <th>col_3</th>\n",
       "      <td>3</td>\n",
       "      <td>3</td>\n",
       "      <td>1</td>\n",
       "    </tr>\n",
       "  </tbody>\n",
       "</table>\n",
       "</div>"
      ],
      "text/plain": [
       "       fila_1  fila_2  fila_3\n",
       "col_1       2       4       0\n",
       "col_2       1       0       9\n",
       "col_3       3       3       1"
      ]
     },
     "execution_count": 41,
     "metadata": {},
     "output_type": "execute_result"
    }
   ],
   "source": [
    "# Transposición de un DataFrame.\n",
    "df.T"
   ]
  },
  {
   "cell_type": "markdown",
   "id": "2630d0b3",
   "metadata": {},
   "source": [
    "En un DataFrame, podemos construir generar apilamientos de información mezclando los índices de filas con los índices de columnas. Esto permite transformar cualquier DataFrame en una **serie multinivel** (o serie jerárquicamente indexada). Para ello, usamos el método `stack()`:"
   ]
  },
  {
   "cell_type": "code",
   "execution_count": 42,
   "id": "2208de1a",
   "metadata": {},
   "outputs": [
    {
     "data": {
      "text/plain": [
       "Escondida         Produccion                                              1011\n",
       "                  Empresa                                                  BHP\n",
       "                  Región                                           Antofagasta\n",
       "                  Porcentaje produccion Chile                             18.0\n",
       "Collahuasi        Produccion                                               630\n",
       "                  Empresa                        Anglo American PLC & Glencore\n",
       "                  Región                                              Tarapaca\n",
       "                  Porcentaje produccion Chile                             11.2\n",
       "El Teniente       Produccion                                               460\n",
       "                  Empresa                                              Codelco\n",
       "                  Región                                             O'Higgins\n",
       "                  Porcentaje produccion Chile                              8.2\n",
       "Los Bronces       Produccion                                               370\n",
       "                  Empresa                                   Anglo American PLC\n",
       "                  Región                                         Metropolitana\n",
       "                  Porcentaje produccion Chile                              6.6\n",
       "Los Pelambres     Produccion                                               336\n",
       "                  Empresa                                 Antofagasta Minerals\n",
       "                  Región                                              Coquimbo\n",
       "                  Porcentaje produccion Chile                              6.0\n",
       "Radomiro Tomic    Produccion                                               326\n",
       "                  Empresa                                              Codelco\n",
       "                  Región                                           Antofagasta\n",
       "                  Porcentaje produccion Chile                              5.8\n",
       "Chuquicamata      Produccion                                               319\n",
       "                  Empresa                                              Codelco\n",
       "                  Región                                           Antofagasta\n",
       "                  Porcentaje produccion Chile                              5.7\n",
       "Centinela         Produccion                                               274\n",
       "                  Empresa                                 Antofagasta Minerals\n",
       "                  Región                                           Antofagasta\n",
       "                  Porcentaje produccion Chile                              4.9\n",
       "Spence            Produccion                                               203\n",
       "                  Empresa                                                  BHP\n",
       "                  Región                                           Antofagasta\n",
       "                  Porcentaje produccion Chile                              3.6\n",
       "Sierra Gorda      Produccion                                               198\n",
       "                  Empresa                                   KGHM International\n",
       "                  Región                                           Antofagasta\n",
       "                  Porcentaje produccion Chile                              3.5\n",
       "Ministro Hales    Produccion                                               182\n",
       "                  Empresa                                              Codelco\n",
       "                  Región                                           Antofagasta\n",
       "                  Porcentaje produccion Chile                              3.2\n",
       "Andina            Produccion                                               177\n",
       "                  Empresa                                              Codelco\n",
       "                  Región                                            Valparaiso\n",
       "                  Porcentaje produccion Chile                              3.2\n",
       "Candelaria        Produccion                                               119\n",
       "                  Empresa                                        Lundin Mining\n",
       "                  Región                                               Atacama\n",
       "                  Porcentaje produccion Chile                              2.1\n",
       "Caserones         Produccion                                               110\n",
       "                  Empresa                              SCM Lumina Copper Chile\n",
       "                  Región                                               Atacama\n",
       "                  Porcentaje produccion Chile                              2.0\n",
       "Gabriela Mistral  Produccion                                               101\n",
       "                  Empresa                                              Codelco\n",
       "                  Región                                           Antofagasta\n",
       "                  Porcentaje produccion Chile                              1.8\n",
       "dtype: object"
      ]
     },
     "execution_count": 42,
     "metadata": {},
     "output_type": "execute_result"
    }
   ],
   "source": [
    "# Apilamiento de un DataFrame.\n",
    "data_stacked = data.stack()\n",
    "data_stacked"
   ]
  },
  {
   "cell_type": "markdown",
   "id": "85075a75",
   "metadata": {},
   "source": [
    "No lo parece, pero `data_stacked` es efectivamente una serie. Podemos comprobarlo:"
   ]
  },
  {
   "cell_type": "code",
   "execution_count": 43,
   "id": "a6af20b2",
   "metadata": {},
   "outputs": [
    {
     "data": {
      "text/plain": [
       "pandas.core.series.Series"
      ]
     },
     "execution_count": 43,
     "metadata": {},
     "output_type": "execute_result"
    }
   ],
   "source": [
    "# Comprobamos que data_stacked es una serie.\n",
    "type(data_stacked)"
   ]
  },
  {
   "cell_type": "markdown",
   "id": "0cdbdf50",
   "metadata": {},
   "source": [
    "Esta serie se denomina multinivel porque su índice tiene dos niveles de selección de información:"
   ]
  },
  {
   "cell_type": "code",
   "execution_count": 44,
   "id": "3c9593f9",
   "metadata": {},
   "outputs": [
    {
     "data": {
      "text/plain": [
       "MultiIndex([(       'Escondida',                  'Produccion'),\n",
       "            (       'Escondida',                     'Empresa'),\n",
       "            (       'Escondida',                      'Región'),\n",
       "            (       'Escondida', 'Porcentaje produccion Chile'),\n",
       "            (      'Collahuasi',                  'Produccion'),\n",
       "            (      'Collahuasi',                     'Empresa'),\n",
       "            (      'Collahuasi',                      'Región'),\n",
       "            (      'Collahuasi', 'Porcentaje produccion Chile'),\n",
       "            (     'El Teniente',                  'Produccion'),\n",
       "            (     'El Teniente',                     'Empresa'),\n",
       "            (     'El Teniente',                      'Región'),\n",
       "            (     'El Teniente', 'Porcentaje produccion Chile'),\n",
       "            (     'Los Bronces',                  'Produccion'),\n",
       "            (     'Los Bronces',                     'Empresa'),\n",
       "            (     'Los Bronces',                      'Región'),\n",
       "            (     'Los Bronces', 'Porcentaje produccion Chile'),\n",
       "            (   'Los Pelambres',                  'Produccion'),\n",
       "            (   'Los Pelambres',                     'Empresa'),\n",
       "            (   'Los Pelambres',                      'Región'),\n",
       "            (   'Los Pelambres', 'Porcentaje produccion Chile'),\n",
       "            (  'Radomiro Tomic',                  'Produccion'),\n",
       "            (  'Radomiro Tomic',                     'Empresa'),\n",
       "            (  'Radomiro Tomic',                      'Región'),\n",
       "            (  'Radomiro Tomic', 'Porcentaje produccion Chile'),\n",
       "            (    'Chuquicamata',                  'Produccion'),\n",
       "            (    'Chuquicamata',                     'Empresa'),\n",
       "            (    'Chuquicamata',                      'Región'),\n",
       "            (    'Chuquicamata', 'Porcentaje produccion Chile'),\n",
       "            (       'Centinela',                  'Produccion'),\n",
       "            (       'Centinela',                     'Empresa'),\n",
       "            (       'Centinela',                      'Región'),\n",
       "            (       'Centinela', 'Porcentaje produccion Chile'),\n",
       "            (          'Spence',                  'Produccion'),\n",
       "            (          'Spence',                     'Empresa'),\n",
       "            (          'Spence',                      'Región'),\n",
       "            (          'Spence', 'Porcentaje produccion Chile'),\n",
       "            (    'Sierra Gorda',                  'Produccion'),\n",
       "            (    'Sierra Gorda',                     'Empresa'),\n",
       "            (    'Sierra Gorda',                      'Región'),\n",
       "            (    'Sierra Gorda', 'Porcentaje produccion Chile'),\n",
       "            (  'Ministro Hales',                  'Produccion'),\n",
       "            (  'Ministro Hales',                     'Empresa'),\n",
       "            (  'Ministro Hales',                      'Región'),\n",
       "            (  'Ministro Hales', 'Porcentaje produccion Chile'),\n",
       "            (          'Andina',                  'Produccion'),\n",
       "            (          'Andina',                     'Empresa'),\n",
       "            (          'Andina',                      'Región'),\n",
       "            (          'Andina', 'Porcentaje produccion Chile'),\n",
       "            (      'Candelaria',                  'Produccion'),\n",
       "            (      'Candelaria',                     'Empresa'),\n",
       "            (      'Candelaria',                      'Región'),\n",
       "            (      'Candelaria', 'Porcentaje produccion Chile'),\n",
       "            (       'Caserones',                  'Produccion'),\n",
       "            (       'Caserones',                     'Empresa'),\n",
       "            (       'Caserones',                      'Región'),\n",
       "            (       'Caserones', 'Porcentaje produccion Chile'),\n",
       "            ('Gabriela Mistral',                  'Produccion'),\n",
       "            ('Gabriela Mistral',                     'Empresa'),\n",
       "            ('Gabriela Mistral',                      'Región'),\n",
       "            ('Gabriela Mistral', 'Porcentaje produccion Chile')],\n",
       "           )"
      ]
     },
     "execution_count": 44,
     "metadata": {},
     "output_type": "execute_result"
    }
   ],
   "source": [
    "# El índice de data_stacked es un multi-índice (o índice jerárquico).\n",
    "data_stacked.index"
   ]
  },
  {
   "cell_type": "markdown",
   "id": "b3c02ce6",
   "metadata": {},
   "source": [
    "Más adelante profundizaremos en series (y DataFrames) con este tipo de índices.\n",
    "\n",
    "Es posible “desapilar” una serie mulitinivel mediante el método `unstack()`:"
   ]
  },
  {
   "cell_type": "code",
   "execution_count": 45,
   "id": "4a2eed21",
   "metadata": {},
   "outputs": [
    {
     "data": {
      "text/html": [
       "<div>\n",
       "<style scoped>\n",
       "    .dataframe tbody tr th:only-of-type {\n",
       "        vertical-align: middle;\n",
       "    }\n",
       "\n",
       "    .dataframe tbody tr th {\n",
       "        vertical-align: top;\n",
       "    }\n",
       "\n",
       "    .dataframe thead th {\n",
       "        text-align: right;\n",
       "    }\n",
       "</style>\n",
       "<table border=\"1\" class=\"dataframe\">\n",
       "  <thead>\n",
       "    <tr style=\"text-align: right;\">\n",
       "      <th></th>\n",
       "      <th>Produccion</th>\n",
       "      <th>Empresa</th>\n",
       "      <th>Región</th>\n",
       "      <th>Porcentaje produccion Chile</th>\n",
       "    </tr>\n",
       "  </thead>\n",
       "  <tbody>\n",
       "    <tr>\n",
       "      <th>Escondida</th>\n",
       "      <td>1011</td>\n",
       "      <td>BHP</td>\n",
       "      <td>Antofagasta</td>\n",
       "      <td>18.0</td>\n",
       "    </tr>\n",
       "    <tr>\n",
       "      <th>Collahuasi</th>\n",
       "      <td>630</td>\n",
       "      <td>Anglo American PLC &amp; Glencore</td>\n",
       "      <td>Tarapaca</td>\n",
       "      <td>11.2</td>\n",
       "    </tr>\n",
       "    <tr>\n",
       "      <th>El Teniente</th>\n",
       "      <td>460</td>\n",
       "      <td>Codelco</td>\n",
       "      <td>O'Higgins</td>\n",
       "      <td>8.2</td>\n",
       "    </tr>\n",
       "    <tr>\n",
       "      <th>Los Bronces</th>\n",
       "      <td>370</td>\n",
       "      <td>Anglo American PLC</td>\n",
       "      <td>Metropolitana</td>\n",
       "      <td>6.6</td>\n",
       "    </tr>\n",
       "    <tr>\n",
       "      <th>Los Pelambres</th>\n",
       "      <td>336</td>\n",
       "      <td>Antofagasta Minerals</td>\n",
       "      <td>Coquimbo</td>\n",
       "      <td>6.0</td>\n",
       "    </tr>\n",
       "    <tr>\n",
       "      <th>Radomiro Tomic</th>\n",
       "      <td>326</td>\n",
       "      <td>Codelco</td>\n",
       "      <td>Antofagasta</td>\n",
       "      <td>5.8</td>\n",
       "    </tr>\n",
       "    <tr>\n",
       "      <th>Chuquicamata</th>\n",
       "      <td>319</td>\n",
       "      <td>Codelco</td>\n",
       "      <td>Antofagasta</td>\n",
       "      <td>5.7</td>\n",
       "    </tr>\n",
       "    <tr>\n",
       "      <th>Centinela</th>\n",
       "      <td>274</td>\n",
       "      <td>Antofagasta Minerals</td>\n",
       "      <td>Antofagasta</td>\n",
       "      <td>4.9</td>\n",
       "    </tr>\n",
       "    <tr>\n",
       "      <th>Spence</th>\n",
       "      <td>203</td>\n",
       "      <td>BHP</td>\n",
       "      <td>Antofagasta</td>\n",
       "      <td>3.6</td>\n",
       "    </tr>\n",
       "    <tr>\n",
       "      <th>Sierra Gorda</th>\n",
       "      <td>198</td>\n",
       "      <td>KGHM International</td>\n",
       "      <td>Antofagasta</td>\n",
       "      <td>3.5</td>\n",
       "    </tr>\n",
       "    <tr>\n",
       "      <th>Ministro Hales</th>\n",
       "      <td>182</td>\n",
       "      <td>Codelco</td>\n",
       "      <td>Antofagasta</td>\n",
       "      <td>3.2</td>\n",
       "    </tr>\n",
       "    <tr>\n",
       "      <th>Andina</th>\n",
       "      <td>177</td>\n",
       "      <td>Codelco</td>\n",
       "      <td>Valparaiso</td>\n",
       "      <td>3.2</td>\n",
       "    </tr>\n",
       "    <tr>\n",
       "      <th>Candelaria</th>\n",
       "      <td>119</td>\n",
       "      <td>Lundin Mining</td>\n",
       "      <td>Atacama</td>\n",
       "      <td>2.1</td>\n",
       "    </tr>\n",
       "    <tr>\n",
       "      <th>Caserones</th>\n",
       "      <td>110</td>\n",
       "      <td>SCM Lumina Copper Chile</td>\n",
       "      <td>Atacama</td>\n",
       "      <td>2.0</td>\n",
       "    </tr>\n",
       "    <tr>\n",
       "      <th>Gabriela Mistral</th>\n",
       "      <td>101</td>\n",
       "      <td>Codelco</td>\n",
       "      <td>Antofagasta</td>\n",
       "      <td>1.8</td>\n",
       "    </tr>\n",
       "  </tbody>\n",
       "</table>\n",
       "</div>"
      ],
      "text/plain": [
       "                 Produccion                        Empresa         Región  \\\n",
       "Escondida              1011                            BHP    Antofagasta   \n",
       "Collahuasi              630  Anglo American PLC & Glencore       Tarapaca   \n",
       "El Teniente             460                        Codelco      O'Higgins   \n",
       "Los Bronces             370             Anglo American PLC  Metropolitana   \n",
       "Los Pelambres           336           Antofagasta Minerals       Coquimbo   \n",
       "Radomiro Tomic          326                        Codelco    Antofagasta   \n",
       "Chuquicamata            319                        Codelco    Antofagasta   \n",
       "Centinela               274           Antofagasta Minerals    Antofagasta   \n",
       "Spence                  203                            BHP    Antofagasta   \n",
       "Sierra Gorda            198             KGHM International    Antofagasta   \n",
       "Ministro Hales          182                        Codelco    Antofagasta   \n",
       "Andina                  177                        Codelco     Valparaiso   \n",
       "Candelaria              119                  Lundin Mining        Atacama   \n",
       "Caserones               110        SCM Lumina Copper Chile        Atacama   \n",
       "Gabriela Mistral        101                        Codelco    Antofagasta   \n",
       "\n",
       "                 Porcentaje produccion Chile  \n",
       "Escondida                               18.0  \n",
       "Collahuasi                              11.2  \n",
       "El Teniente                              8.2  \n",
       "Los Bronces                              6.6  \n",
       "Los Pelambres                            6.0  \n",
       "Radomiro Tomic                           5.8  \n",
       "Chuquicamata                             5.7  \n",
       "Centinela                                4.9  \n",
       "Spence                                   3.6  \n",
       "Sierra Gorda                             3.5  \n",
       "Ministro Hales                           3.2  \n",
       "Andina                                   3.2  \n",
       "Candelaria                               2.1  \n",
       "Caserones                                2.0  \n",
       "Gabriela Mistral                         1.8  "
      ]
     },
     "execution_count": 45,
     "metadata": {},
     "output_type": "execute_result"
    }
   ],
   "source": [
    "# Siempre podemos desapilar una serie multinivel.\n",
    "data_stacked.unstack()"
   ]
  },
  {
   "cell_type": "markdown",
   "id": "e9edf1fe",
   "metadata": {},
   "source": [
    "La mayoría de los métodos de **Pandas** que se aplican sobre series y DataFrames retornan copias de éstos, y no generan modificaciones en el acto. Sin embargo, algunos de estos métodos sí disponen de la opción de generar tales modificaciones de inmediato (profundizaremos en eso más adelante). En general, siempre es una buena práctica, a la hora de trabajar con series o DataFrames, generar una copia de éstos para su manipulación, y así evitar posibles cambios en la data original que queremos trabajar. Siempre podremos copiar una estructura de datos de este tipo mediante el método `copy()`:"
   ]
  },
  {
   "cell_type": "code",
   "execution_count": 46,
   "id": "8f128a45",
   "metadata": {},
   "outputs": [
    {
     "data": {
      "text/html": [
       "<div>\n",
       "<style scoped>\n",
       "    .dataframe tbody tr th:only-of-type {\n",
       "        vertical-align: middle;\n",
       "    }\n",
       "\n",
       "    .dataframe tbody tr th {\n",
       "        vertical-align: top;\n",
       "    }\n",
       "\n",
       "    .dataframe thead th {\n",
       "        text-align: right;\n",
       "    }\n",
       "</style>\n",
       "<table border=\"1\" class=\"dataframe\">\n",
       "  <thead>\n",
       "    <tr style=\"text-align: right;\">\n",
       "      <th></th>\n",
       "      <th>Produccion</th>\n",
       "      <th>Empresa</th>\n",
       "      <th>Región</th>\n",
       "      <th>Porcentaje produccion Chile</th>\n",
       "    </tr>\n",
       "  </thead>\n",
       "  <tbody>\n",
       "    <tr>\n",
       "      <th>Escondida</th>\n",
       "      <td>1011</td>\n",
       "      <td>BHP</td>\n",
       "      <td>Antofagasta</td>\n",
       "      <td>18.0</td>\n",
       "    </tr>\n",
       "    <tr>\n",
       "      <th>Collahuasi</th>\n",
       "      <td>630</td>\n",
       "      <td>Anglo American PLC &amp; Glencore</td>\n",
       "      <td>Tarapaca</td>\n",
       "      <td>11.2</td>\n",
       "    </tr>\n",
       "    <tr>\n",
       "      <th>El Teniente</th>\n",
       "      <td>460</td>\n",
       "      <td>Codelco</td>\n",
       "      <td>O'Higgins</td>\n",
       "      <td>8.2</td>\n",
       "    </tr>\n",
       "    <tr>\n",
       "      <th>Los Bronces</th>\n",
       "      <td>370</td>\n",
       "      <td>Anglo American PLC</td>\n",
       "      <td>Metropolitana</td>\n",
       "      <td>6.6</td>\n",
       "    </tr>\n",
       "    <tr>\n",
       "      <th>Los Pelambres</th>\n",
       "      <td>336</td>\n",
       "      <td>Antofagasta Minerals</td>\n",
       "      <td>Coquimbo</td>\n",
       "      <td>6.0</td>\n",
       "    </tr>\n",
       "    <tr>\n",
       "      <th>Radomiro Tomic</th>\n",
       "      <td>326</td>\n",
       "      <td>Codelco</td>\n",
       "      <td>Antofagasta</td>\n",
       "      <td>5.8</td>\n",
       "    </tr>\n",
       "    <tr>\n",
       "      <th>Chuquicamata</th>\n",
       "      <td>319</td>\n",
       "      <td>Codelco</td>\n",
       "      <td>Antofagasta</td>\n",
       "      <td>5.7</td>\n",
       "    </tr>\n",
       "    <tr>\n",
       "      <th>Centinela</th>\n",
       "      <td>274</td>\n",
       "      <td>Antofagasta Minerals</td>\n",
       "      <td>Antofagasta</td>\n",
       "      <td>4.9</td>\n",
       "    </tr>\n",
       "    <tr>\n",
       "      <th>Spence</th>\n",
       "      <td>203</td>\n",
       "      <td>BHP</td>\n",
       "      <td>Antofagasta</td>\n",
       "      <td>3.6</td>\n",
       "    </tr>\n",
       "    <tr>\n",
       "      <th>Sierra Gorda</th>\n",
       "      <td>198</td>\n",
       "      <td>KGHM International</td>\n",
       "      <td>Antofagasta</td>\n",
       "      <td>3.5</td>\n",
       "    </tr>\n",
       "    <tr>\n",
       "      <th>Ministro Hales</th>\n",
       "      <td>182</td>\n",
       "      <td>Codelco</td>\n",
       "      <td>Antofagasta</td>\n",
       "      <td>3.2</td>\n",
       "    </tr>\n",
       "    <tr>\n",
       "      <th>Andina</th>\n",
       "      <td>177</td>\n",
       "      <td>Codelco</td>\n",
       "      <td>Valparaiso</td>\n",
       "      <td>3.2</td>\n",
       "    </tr>\n",
       "    <tr>\n",
       "      <th>Candelaria</th>\n",
       "      <td>119</td>\n",
       "      <td>Lundin Mining</td>\n",
       "      <td>Atacama</td>\n",
       "      <td>2.1</td>\n",
       "    </tr>\n",
       "    <tr>\n",
       "      <th>Caserones</th>\n",
       "      <td>110</td>\n",
       "      <td>SCM Lumina Copper Chile</td>\n",
       "      <td>Atacama</td>\n",
       "      <td>2.0</td>\n",
       "    </tr>\n",
       "    <tr>\n",
       "      <th>Gabriela Mistral</th>\n",
       "      <td>101</td>\n",
       "      <td>Codelco</td>\n",
       "      <td>Antofagasta</td>\n",
       "      <td>1.8</td>\n",
       "    </tr>\n",
       "  </tbody>\n",
       "</table>\n",
       "</div>"
      ],
      "text/plain": [
       "                  Produccion                        Empresa         Región  \\\n",
       "Escondida               1011                            BHP    Antofagasta   \n",
       "Collahuasi               630  Anglo American PLC & Glencore       Tarapaca   \n",
       "El Teniente              460                        Codelco      O'Higgins   \n",
       "Los Bronces              370             Anglo American PLC  Metropolitana   \n",
       "Los Pelambres            336           Antofagasta Minerals       Coquimbo   \n",
       "Radomiro Tomic           326                        Codelco    Antofagasta   \n",
       "Chuquicamata             319                        Codelco    Antofagasta   \n",
       "Centinela                274           Antofagasta Minerals    Antofagasta   \n",
       "Spence                   203                            BHP    Antofagasta   \n",
       "Sierra Gorda             198             KGHM International    Antofagasta   \n",
       "Ministro Hales           182                        Codelco    Antofagasta   \n",
       "Andina                   177                        Codelco     Valparaiso   \n",
       "Candelaria               119                  Lundin Mining        Atacama   \n",
       "Caserones                110        SCM Lumina Copper Chile        Atacama   \n",
       "Gabriela Mistral         101                        Codelco    Antofagasta   \n",
       "\n",
       "                  Porcentaje produccion Chile  \n",
       "Escondida                                18.0  \n",
       "Collahuasi                               11.2  \n",
       "El Teniente                               8.2  \n",
       "Los Bronces                               6.6  \n",
       "Los Pelambres                             6.0  \n",
       "Radomiro Tomic                            5.8  \n",
       "Chuquicamata                              5.7  \n",
       "Centinela                                 4.9  \n",
       "Spence                                    3.6  \n",
       "Sierra Gorda                              3.5  \n",
       "Ministro Hales                            3.2  \n",
       "Andina                                    3.2  \n",
       "Candelaria                                2.1  \n",
       "Caserones                                 2.0  \n",
       "Gabriela Mistral                          1.8  "
      ]
     },
     "execution_count": 46,
     "metadata": {},
     "output_type": "execute_result"
    }
   ],
   "source": [
    "# El método copy() nos permite crear copias de nuestras series o DataFrames.\n",
    "data_copied = data.copy()\n",
    "data_copied"
   ]
  },
  {
   "cell_type": "markdown",
   "id": "40ea97b9",
   "metadata": {},
   "source": [
    "Los DataFrames también disponen de un método `plot()` para generar gráficos rápidos de la data contenida en ellos, apoyándonos de los juegos de índices para las filas y columnas. Cuando abordemos la librería **Matplotlib**, hablaremos más en detalle en relación a la creación de gráficos:"
   ]
  },
  {
   "cell_type": "code",
   "execution_count": 47,
   "id": "c8d4a047",
   "metadata": {},
   "outputs": [
    {
     "data": {
      "image/png": "[encoded data removed]",
      "text/plain": [
       "<Figure size 720x432 with 1 Axes>"
      ]
     },
     "metadata": {
      "needs_background": "light"
     },
     "output_type": "display_data"
    }
   ],
   "source": [
    "# El método plot() también está disponible para los DataFrames.\n",
    "df.plot(\n",
    "    kind=\"bar\", figsize=(10, 6), title=\"Titulo de gráfico\", \n",
    "    xlabel=\"Rótulo del eje X\", ylabel=\"Rótulo del eje Y\",\n",
    "    edgecolor=\"black\"\n",
    "); "
   ]
  },
  {
   "cell_type": "markdown",
   "id": "178b83b1",
   "metadata": {},
   "source": [
    "## Índices.\n",
    "Hemos visto que tanto las series como los DataFrames contienen un índice explícito que nos permite tanto modificar como referenciar nuestros datos. El objeto `pd.Index` es una estructura interesante en sí misma, y puede ser entendida tanto como un arreglo inmutable como un conjunto ordenado (técnicamente, un multiconjunto, ya que pd.Index permite elementos repetidos en su estructura). Tales puntos de vista tienen consecuencias interesantes en las operaciones ejecutables sobre índices. Para ejemplificar aquello, construyamos un objeto tipo `pd.Index` a partir de una lista de enteros:"
   ]
  },
  {
   "cell_type": "code",
   "execution_count": 48,
   "id": "5c3c0664",
   "metadata": {},
   "outputs": [],
   "source": [
    "# Definimos una lista con enteros.\n",
    "idx = [2*n for n in range(5)]"
   ]
  },
  {
   "cell_type": "code",
   "execution_count": 49,
   "id": "1fc7318d",
   "metadata": {},
   "outputs": [
    {
     "data": {
      "text/plain": [
       "Int64Index([0, 2, 4, 6, 8], dtype='int64')"
      ]
     },
     "execution_count": 49,
     "metadata": {},
     "output_type": "execute_result"
    }
   ],
   "source": [
    "# Construimos un índice a partir de la lista anterior.\n",
    "index = pd.Index(idx)\n",
    "index"
   ]
  },
  {
   "cell_type": "markdown",
   "id": "89490946",
   "metadata": {},
   "source": [
    "Vemos que **Pandas** nos indica que el índice que hemos creado es del tipo `Int64Index`, lo que significa que está compuesto por números enteros de 64 bits. Un índice de **Pandas** tiene algunas similitudes con los arreglos de **Numpy**, ya que podemos seleccionar cualquier elemento del mismo especificando la posición de dicho elemento entre corchetes, o bien, recuperar un subconjunto de elementos del índice por medio de un slicing:"
   ]
  },
  {
   "cell_type": "code",
   "execution_count": 50,
   "id": "22e20eb8",
   "metadata": {},
   "outputs": [
    {
     "data": {
      "text/plain": [
       "2"
      ]
     },
     "execution_count": 50,
     "metadata": {},
     "output_type": "execute_result"
    }
   ],
   "source": [
    "# Selección de un elemento del índice.\n",
    "index[1]"
   ]
  },
  {
   "cell_type": "code",
   "execution_count": 51,
   "id": "f0d73755",
   "metadata": {},
   "outputs": [
    {
     "data": {
      "text/plain": [
       "Int64Index([0, 4, 8], dtype='int64')"
      ]
     },
     "execution_count": 51,
     "metadata": {},
     "output_type": "execute_result"
    }
   ],
   "source": [
    "# Selección de varios elementos del índice.\n",
    "index[::2]"
   ]
  },
  {
   "cell_type": "markdown",
   "id": "e8e3dd26",
   "metadata": {},
   "source": [
    "Los índices, además, también tienen ciertos atributos que son heredados de los arreglos de **Numpy**:"
   ]
  },
  {
   "cell_type": "code",
   "execution_count": 52,
   "id": "18982aab",
   "metadata": {},
   "outputs": [
    {
     "data": {
      "text/plain": [
       "5"
      ]
     },
     "execution_count": 52,
     "metadata": {},
     "output_type": "execute_result"
    }
   ],
   "source": [
    "index.size # Número de elementos de un índice."
   ]
  },
  {
   "cell_type": "code",
   "execution_count": 53,
   "id": "64ec009c",
   "metadata": {},
   "outputs": [
    {
     "data": {
      "text/plain": [
       "(5,)"
      ]
     },
     "execution_count": 53,
     "metadata": {},
     "output_type": "execute_result"
    }
   ],
   "source": [
    "index.shape # Geometría de un índice."
   ]
  },
  {
   "cell_type": "code",
   "execution_count": 54,
   "id": "61ecfae7",
   "metadata": {},
   "outputs": [
    {
     "data": {
      "text/plain": [
       "1"
      ]
     },
     "execution_count": 54,
     "metadata": {},
     "output_type": "execute_result"
    }
   ],
   "source": [
    "index.ndim # Número de dimensiones de un índice."
   ]
  },
  {
   "cell_type": "code",
   "execution_count": 55,
   "id": "09bb2ac5",
   "metadata": {},
   "outputs": [
    {
     "data": {
      "text/plain": [
       "dtype('int64')"
      ]
     },
     "execution_count": 55,
     "metadata": {},
     "output_type": "execute_result"
    }
   ],
   "source": [
    "index.dtype # Tipo de dato de los elementos de un índice."
   ]
  },
  {
   "cell_type": "markdown",
   "id": "5404e552",
   "metadata": {},
   "source": [
    "Sin embargo, **los índices son inmutables**; si queremos cambiar un valor del mismo mediante simple selección, se levantará un error de tipo:"
   ]
  },
  {
   "cell_type": "code",
   "execution_count": 56,
   "id": "46d974d5",
   "metadata": {},
   "outputs": [
    {
     "name": "stdout",
     "output_type": "stream",
     "text": [
      "Index does not support mutable operations\n"
     ]
    }
   ],
   "source": [
    "try:\n",
    "    index[1] = 0\n",
    "except TypeError as e:\n",
    "    print(e)"
   ]
  },
  {
   "cell_type": "markdown",
   "id": "ec7098f1",
   "metadata": {},
   "source": [
    "Esta inmutabilidad hace más seguro el compartir índices entre múltiples DataFrames, evitando los potenciales problemas devenidos de la modificación por simple selección de los índices en una operación de este tipo (como veremos más adelante).\n",
    "\n",
    "**Los índices también se comportan como conjuntos de Python**. Recordemos que los conjuntos, tal y como su nombre lo indica, son objetos nativos de Python que permiten operar algebraicamente con sus elementos mediante el uso de operaciones típicas de ese tipo de objetos, tales como uniones, intersecciones, complementos, entre otras. De esta manera, si definimos otro índice:"
   ]
  },
  {
   "cell_type": "code",
   "execution_count": 57,
   "id": "d8f8e80a",
   "metadata": {},
   "outputs": [
    {
     "data": {
      "text/plain": [
       "Int64Index([1, 3, 5, 7, 9], dtype='int64')"
      ]
     },
     "execution_count": 57,
     "metadata": {},
     "output_type": "execute_result"
    }
   ],
   "source": [
    "# Construimos otro índice, esta vez con números impares.\n",
    "index_2 = pd.Index([2*n + 1 for n in range(5)])\n",
    "index_2"
   ]
  },
  {
   "cell_type": "markdown",
   "id": "048c189b",
   "metadata": {},
   "source": [
    "Podemos unir ambos índices previamente construidos mediante el método `union()`:"
   ]
  },
  {
   "cell_type": "code",
   "execution_count": 58,
   "id": "6658fcc5",
   "metadata": {},
   "outputs": [
    {
     "data": {
      "text/plain": [
       "Int64Index([0, 1, 2, 3, 4, 5, 6, 7, 8, 9], dtype='int64')"
      ]
     },
     "execution_count": 58,
     "metadata": {},
     "output_type": "execute_result"
    }
   ],
   "source": [
    "# Unión de dos índices.\n",
    "index.union(index_2)"
   ]
  },
  {
   "cell_type": "markdown",
   "id": "99876034",
   "metadata": {},
   "source": [
    "También podemos obtener su intersección mediante el método `intersection()`:"
   ]
  },
  {
   "cell_type": "code",
   "execution_count": 59,
   "id": "adc3d821",
   "metadata": {},
   "outputs": [
    {
     "data": {
      "text/plain": [
       "Int64Index([], dtype='int64')"
      ]
     },
     "execution_count": 59,
     "metadata": {},
     "output_type": "execute_result"
    }
   ],
   "source": [
    "# Intersección de dos índices.\n",
    "index.intersection(index_2)"
   ]
  },
  {
   "cell_type": "markdown",
   "id": "6d69c982",
   "metadata": {},
   "source": [
    "Veremos más operaciones de este tipo un poco más adelante.\n",
    "\n",
    "## Selección de información.\n",
    "Cuando aprendimos a trabajar con los arreglos de **Numpy**, discutimos en detalle métodos y herramientas para seleccionar, setear y modificar valores de dichos arreglos. Éstos incluyen indexación simple (por ejemplo, `x[2, 1]`), slicing (por ejemplo, `x[:1, :5]`), masking (por ejemplo, `x[x >= 0]`), fancy indexing (por ejemplo, `x[0, [1, 5]]`), y combinaciones de las herramientas anteriores. A continuación, estudiaremos métodos similares para poder modificar y acceder a los valores que constituyen las estructuras de datos básicas de **Pandas**: Series y DataFrames. La indexación sobre objetos de **Pandas** se sentirá muy familiar, luego de haber aprendido a ejecutar estas mismas operaciones sobre arreglos de **Numpy**.\n",
    "\n",
    "Partiremos con el caso más sencillo, que corresponde a la selección de datos en series. Como ya vimos un poco más atrás, las series actúan en muchas facetas como arreglos unidimensionales, y en otras, como diccionarios de Python. Con ambas analogías en mente, podremos entender sin demasiado problema el cómo indexar elementos de una serie.\n",
    "Como en el caso de un diccionario, la serie nos provee de una forma de mapeo de tipo (índice, valor), similar al que haríamos al tratar de mapear valores en un diccionario a partir de sus llaves. Por ejemplo:"
   ]
  },
  {
   "cell_type": "code",
   "execution_count": 60,
   "id": "b5d5be38",
   "metadata": {},
   "outputs": [
    {
     "data": {
      "text/plain": [
       "a    0.25\n",
       "b    0.50\n",
       "c    0.75\n",
       "d    1.00\n",
       "dtype: float64"
      ]
     },
     "execution_count": 60,
     "metadata": {},
     "output_type": "execute_result"
    }
   ],
   "source": [
    "# Construimos una serie para jugar con ella.\n",
    "data = pd.Series(data=[0.25, 0.5, 0.75, 1.0], index=['a', 'b', 'c', 'd'])\n",
    "data"
   ]
  },
  {
   "cell_type": "code",
   "execution_count": 61,
   "id": "a41861d4",
   "metadata": {},
   "outputs": [
    {
     "data": {
      "text/plain": [
       "0.5"
      ]
     },
     "execution_count": 61,
     "metadata": {},
     "output_type": "execute_result"
    }
   ],
   "source": [
    "# Selección directa de un elemento de una serie.\n",
    "data[\"b\"]"
   ]
  },
  {
   "cell_type": "markdown",
   "id": "3def6fef",
   "metadata": {},
   "source": [
    "Las series, al ser parcialmente mutables, pueden ser modificadas mediante una sintaxis típica de diccionarios (tal y como hicimos previamente con los DataFrames). De la misma forma en que generalmente extendemos la longitud de un diccionario mediante la asignación de una nueva llave, podemos extender una serie mediante la asignación de un índice nuevo, como sigue:"
   ]
  },
  {
   "cell_type": "code",
   "execution_count": 62,
   "id": "81562f97",
   "metadata": {},
   "outputs": [
    {
     "data": {
      "text/plain": [
       "a    0.25\n",
       "b    0.50\n",
       "c    0.75\n",
       "d    1.00\n",
       "e    1.25\n",
       "dtype: float64"
      ]
     },
     "execution_count": 62,
     "metadata": {},
     "output_type": "execute_result"
    }
   ],
   "source": [
    "# Agregamos un valor nuevo a la serie por simple asignación.\n",
    "data[\"e\"] = 1.25\n",
    "data"
   ]
  },
  {
   "cell_type": "markdown",
   "id": "bff73ed2",
   "metadata": {},
   "source": [
    "Esta sencilla mutabilidad de los objetos constituye una característica muy conveniente: Bajo toda esta sencillez, **Pandas** está tomando decisiones respecto de la distribución de memoria y copia de datos que podrían tener lugar en operaciones así. De este modo, **Pandas** asume que el usuario, en general, no debería perder su tiempo en cuestiones de esta naturaleza (aunque podríamos, ciertamente).\n",
    "\n",
    "Podemos aprovechar la similitud de una serie a un arreglo unidimensional y aplicar las mismas operaciones de selección que aprendimos para esas estructuras de datos. Por ejemplo:"
   ]
  },
  {
   "cell_type": "code",
   "execution_count": 63,
   "id": "c15b569c",
   "metadata": {},
   "outputs": [
    {
     "data": {
      "text/plain": [
       "a    0.25\n",
       "b    0.50\n",
       "c    0.75\n",
       "dtype: float64"
      ]
     },
     "execution_count": 63,
     "metadata": {},
     "output_type": "execute_result"
    }
   ],
   "source": [
    "# Slicing explicitando los índices.\n",
    "data['a': 'c']"
   ]
  },
  {
   "cell_type": "code",
   "execution_count": 64,
   "id": "bb4b38b9",
   "metadata": {},
   "outputs": [
    {
     "data": {
      "text/plain": [
       "a    0.25\n",
       "b    0.50\n",
       "c    0.75\n",
       "dtype: float64"
      ]
     },
     "execution_count": 64,
     "metadata": {},
     "output_type": "execute_result"
    }
   ],
   "source": [
    "# Los índices no tienen porqué ser especificados explícitamente.\n",
    "data[0: 3]"
   ]
  },
  {
   "cell_type": "code",
   "execution_count": 65,
   "id": "0439b1da",
   "metadata": {},
   "outputs": [
    {
     "data": {
      "text/plain": [
       "b    0.50\n",
       "c    0.75\n",
       "dtype: float64"
      ]
     },
     "execution_count": 65,
     "metadata": {},
     "output_type": "execute_result"
    }
   ],
   "source": [
    "# Podemos realizar filtros mediante masking.\n",
    "data[(data > 0.3) & (data < 0.8)]"
   ]
  },
  {
   "cell_type": "code",
   "execution_count": 66,
   "id": "47d433e1",
   "metadata": {},
   "outputs": [
    {
     "data": {
      "text/plain": [
       "a    0.25\n",
       "e    1.25\n",
       "dtype: float64"
      ]
     },
     "execution_count": 66,
     "metadata": {},
     "output_type": "execute_result"
    }
   ],
   "source": [
    "# Y también fancy indexing.\n",
    "data[['a', 'e']]"
   ]
  },
  {
   "cell_type": "markdown",
   "id": "60d3d65e",
   "metadata": {},
   "source": [
    "Entre todas las operaciones anteriores, la que más lugar a confusión nos puede dar corresponde al slicing. Notemos que si generamos un slicing con índices explícitos (por ejemplo, `data['a': 'c']`), el índice final se incluye en el slice, mientras que los slicings con índices implícitos (por ejemplo, `data[0: 2]`), el índice final se excluye del slice.\n",
    "\n",
    "### Esquemas de indexación.\n",
    "Las operaciones previamente presentadas pueden conformar una fuente de confusión. Por ejemplo, si nuestra serie tiene un índice entero explícito, una operación de indexado como `data[1]` usará los índices explícitos, mientras que una operación de slicing como `data[1: 3]` usará índices implícitos, como si se tratara de un arreglo o una lista de Python:"
   ]
  },
  {
   "cell_type": "code",
   "execution_count": 67,
   "id": "ad6c82dc",
   "metadata": {},
   "outputs": [
    {
     "data": {
      "text/plain": [
       "1    a\n",
       "3    b\n",
       "5    c\n",
       "dtype: object"
      ]
     },
     "execution_count": 67,
     "metadata": {},
     "output_type": "execute_result"
    }
   ],
   "source": [
    "# Creamos una nueva serie.\n",
    "data = pd.Series(data=['a', 'b', 'c'], index=[1, 3, 5])\n",
    "data"
   ]
  },
  {
   "cell_type": "code",
   "execution_count": 68,
   "id": "df76bcaf",
   "metadata": {},
   "outputs": [
    {
     "data": {
      "text/plain": [
       "'a'"
      ]
     },
     "execution_count": 68,
     "metadata": {},
     "output_type": "execute_result"
    }
   ],
   "source": [
    "# Indexación con índice explícito.\n",
    "data[1]"
   ]
  },
  {
   "cell_type": "code",
   "execution_count": 69,
   "id": "ab93af39",
   "metadata": {},
   "outputs": [
    {
     "data": {
      "text/plain": [
       "3    b\n",
       "5    c\n",
       "dtype: object"
      ]
     },
     "execution_count": 69,
     "metadata": {},
     "output_type": "execute_result"
    }
   ],
   "source": [
    "# Slicing con índices implícitos.\n",
    "data[1: 3]"
   ]
  },
  {
   "cell_type": "markdown",
   "id": "4be7177b",
   "metadata": {},
   "source": [
    "A causa de esta potencial confusión en el caso de los índices enteros, **Pandas** nos provee de algunos métodos que son capaces de exponer de manera explícita los esquemas de indexación de una serie o de un DataFrame. No se trata de métodos funcionales, pero bastan para exponer una interfaz particular de selección de datos en cualquier estructura de datos de Pandas.\n",
    "\n",
    "Tanto las series como los DataFrames, como hemos visto previamente, admiten selecciones de información mediante el uso de corchetes. Por defecto, los DataFrames permiten seleccionar datos de una posición definida por una determinada fila y columna, usando los nombres de dicha fila y columna en corchetes separados, siguiendo un esquema de indexación del tipo `data[\"columna_j\"][\"fila_i\"]`. Sin embargo, tal esquema puede llevarnos a ciertas ambigüedades, considerando que, en la sección anterior, aprendimos a trabajar con arreglos de **Numpy**, y su esquema de indexación es ciertamente diferente, considerando primero filas, y luego columnas. \n",
    "\n",
    "Afortunadamente, dadas todas estas posibles ambigüedades, podemos seleccionar información siguiendo un esquema diferente. Existen dos métodos de indexación que permiten ya sea explicitar los índices de una estructura de datos al realizar una selección de información, o bien, no hacerlo y tratar estas estructuras como si fueran arreglos unidimensionales (para el caso de las series) o bidimensionales (para el caso de los DataFrames). El primer método de indexado es `loc[]`, que sólo nos dejará seleccionar información de una serie o DataFrame explicitando el o los índices respectivos:"
   ]
  },
  {
   "cell_type": "code",
   "execution_count": 70,
   "id": "1895dad1",
   "metadata": {},
   "outputs": [
    {
     "data": {
      "text/plain": [
       "'a'"
      ]
     },
     "execution_count": 70,
     "metadata": {},
     "output_type": "execute_result"
    }
   ],
   "source": [
    "# Indexamos de manera explícita una serie mediante loc[].\n",
    "data.loc[1]"
   ]
  },
  {
   "cell_type": "code",
   "execution_count": 71,
   "id": "dd4915d4",
   "metadata": {},
   "outputs": [
    {
     "data": {
      "text/plain": [
       "1    a\n",
       "3    b\n",
       "dtype: object"
      ]
     },
     "execution_count": 71,
     "metadata": {},
     "output_type": "execute_result"
    }
   ],
   "source": [
    "# Slicing usando este esquema de indexación.\n",
    "data.loc[1: 3]"
   ]
  },
  {
   "cell_type": "markdown",
   "id": "654b0a4d",
   "metadata": {},
   "source": [
    "Este esquema de indexación, en el caso de un DataFrame, permite seleccionar información conforme un esquema que nos es familiar desde Numpy: Explicitando primero la fila, y luego la columna respectiva. De esta manera, dicho esquema es del tipo `data.loc[\"fila_i\", \"columna_j\"]`:"
   ]
  },
  {
   "cell_type": "code",
   "execution_count": 72,
   "id": "0b89b613",
   "metadata": {},
   "outputs": [
    {
     "data": {
      "text/html": [
       "<div>\n",
       "<style scoped>\n",
       "    .dataframe tbody tr th:only-of-type {\n",
       "        vertical-align: middle;\n",
       "    }\n",
       "\n",
       "    .dataframe tbody tr th {\n",
       "        vertical-align: top;\n",
       "    }\n",
       "\n",
       "    .dataframe thead th {\n",
       "        text-align: right;\n",
       "    }\n",
       "</style>\n",
       "<table border=\"1\" class=\"dataframe\">\n",
       "  <thead>\n",
       "    <tr style=\"text-align: right;\">\n",
       "      <th></th>\n",
       "      <th>Produccion</th>\n",
       "      <th>Empresa</th>\n",
       "      <th>Region</th>\n",
       "    </tr>\n",
       "  </thead>\n",
       "  <tbody>\n",
       "    <tr>\n",
       "      <th>Escondida</th>\n",
       "      <td>1011</td>\n",
       "      <td>BHP</td>\n",
       "      <td>Antofagasta</td>\n",
       "    </tr>\n",
       "    <tr>\n",
       "      <th>Collahuasi</th>\n",
       "      <td>630</td>\n",
       "      <td>Anglo American PLC &amp; Glencore</td>\n",
       "      <td>Tarapaca</td>\n",
       "    </tr>\n",
       "    <tr>\n",
       "      <th>El Teniente</th>\n",
       "      <td>460</td>\n",
       "      <td>Codelco</td>\n",
       "      <td>Lib. Bdo. O'Higgins</td>\n",
       "    </tr>\n",
       "    <tr>\n",
       "      <th>Los Bronces</th>\n",
       "      <td>370</td>\n",
       "      <td>Anglo American PLC</td>\n",
       "      <td>Metropolitana</td>\n",
       "    </tr>\n",
       "    <tr>\n",
       "      <th>Los Pelambres</th>\n",
       "      <td>336</td>\n",
       "      <td>Antofagasta Minerals</td>\n",
       "      <td>Coquimbo</td>\n",
       "    </tr>\n",
       "    <tr>\n",
       "      <th>Radomiro Tomic</th>\n",
       "      <td>326</td>\n",
       "      <td>Codelco</td>\n",
       "      <td>Antofagasta</td>\n",
       "    </tr>\n",
       "    <tr>\n",
       "      <th>Chuquicamata</th>\n",
       "      <td>319</td>\n",
       "      <td>Codelco</td>\n",
       "      <td>Antofagasta</td>\n",
       "    </tr>\n",
       "    <tr>\n",
       "      <th>Centinela</th>\n",
       "      <td>274</td>\n",
       "      <td>Antofagasta Minerals</td>\n",
       "      <td>Antofagasta</td>\n",
       "    </tr>\n",
       "    <tr>\n",
       "      <th>Spence</th>\n",
       "      <td>203</td>\n",
       "      <td>BHP</td>\n",
       "      <td>Antofagasta</td>\n",
       "    </tr>\n",
       "    <tr>\n",
       "      <th>Sierra Gorda</th>\n",
       "      <td>198</td>\n",
       "      <td>KGHM International</td>\n",
       "      <td>Antofagasta</td>\n",
       "    </tr>\n",
       "    <tr>\n",
       "      <th>Ministro Hales</th>\n",
       "      <td>182</td>\n",
       "      <td>Codelco</td>\n",
       "      <td>Antofagasta</td>\n",
       "    </tr>\n",
       "    <tr>\n",
       "      <th>Andina</th>\n",
       "      <td>177</td>\n",
       "      <td>Codelco</td>\n",
       "      <td>Valparaiso</td>\n",
       "    </tr>\n",
       "    <tr>\n",
       "      <th>Candelaria</th>\n",
       "      <td>119</td>\n",
       "      <td>Lundin Mining</td>\n",
       "      <td>Atacama</td>\n",
       "    </tr>\n",
       "    <tr>\n",
       "      <th>Caserones</th>\n",
       "      <td>110</td>\n",
       "      <td>SCM Lumina Copper Chile</td>\n",
       "      <td>Atacama</td>\n",
       "    </tr>\n",
       "    <tr>\n",
       "      <th>Gabriela Mistral</th>\n",
       "      <td>101</td>\n",
       "      <td>Codelco</td>\n",
       "      <td>Antofagasta</td>\n",
       "    </tr>\n",
       "  </tbody>\n",
       "</table>\n",
       "</div>"
      ],
      "text/plain": [
       "                  Produccion                        Empresa  \\\n",
       "Escondida               1011                            BHP   \n",
       "Collahuasi               630  Anglo American PLC & Glencore   \n",
       "El Teniente              460                        Codelco   \n",
       "Los Bronces              370             Anglo American PLC   \n",
       "Los Pelambres            336           Antofagasta Minerals   \n",
       "Radomiro Tomic           326                        Codelco   \n",
       "Chuquicamata             319                        Codelco   \n",
       "Centinela                274           Antofagasta Minerals   \n",
       "Spence                   203                            BHP   \n",
       "Sierra Gorda             198             KGHM International   \n",
       "Ministro Hales           182                        Codelco   \n",
       "Andina                   177                        Codelco   \n",
       "Candelaria               119                  Lundin Mining   \n",
       "Caserones                110        SCM Lumina Copper Chile   \n",
       "Gabriela Mistral         101                        Codelco   \n",
       "\n",
       "                               Region  \n",
       "Escondida                 Antofagasta  \n",
       "Collahuasi                   Tarapaca  \n",
       "El Teniente       Lib. Bdo. O'Higgins  \n",
       "Los Bronces             Metropolitana  \n",
       "Los Pelambres                Coquimbo  \n",
       "Radomiro Tomic            Antofagasta  \n",
       "Chuquicamata              Antofagasta  \n",
       "Centinela                 Antofagasta  \n",
       "Spence                    Antofagasta  \n",
       "Sierra Gorda              Antofagasta  \n",
       "Ministro Hales            Antofagasta  \n",
       "Andina                     Valparaiso  \n",
       "Candelaria                    Atacama  \n",
       "Caserones                     Atacama  \n",
       "Gabriela Mistral          Antofagasta  "
      ]
     },
     "execution_count": 72,
     "metadata": {},
     "output_type": "execute_result"
    }
   ],
   "source": [
    "# Creamos un DataFrame para probar los esquemas de indexación.\n",
    "df = pd.DataFrame({\n",
    "    \"Produccion\": production_dict, \n",
    "    \"Empresa\": owners_dict, \n",
    "    \"Region\": location_dict\n",
    "})\n",
    "df"
   ]
  },
  {
   "cell_type": "markdown",
   "id": "2a9269bb",
   "metadata": {},
   "source": [
    "El esquema de indexación por medio de `loc[]` en un DataFrame sigue el orden (fila, columna) al seleccionar información:"
   ]
  },
  {
   "cell_type": "code",
   "execution_count": 73,
   "id": "83eda0fc",
   "metadata": {},
   "outputs": [
    {
     "data": {
      "text/plain": [
       "319"
      ]
     },
     "execution_count": 73,
     "metadata": {},
     "output_type": "execute_result"
    }
   ],
   "source": [
    "# Seleccionamos información de una fila y columna específica.\n",
    "df.loc[\"Chuquicamata\", \"Produccion\"]"
   ]
  },
  {
   "cell_type": "markdown",
   "id": "8a2c55bc",
   "metadata": {},
   "source": [
    "Esto también es válido para cualquier tipo de slicing, masking o fancy indexing:"
   ]
  },
  {
   "cell_type": "code",
   "execution_count": 74,
   "id": "fe3f2168",
   "metadata": {},
   "outputs": [
    {
     "data": {
      "text/html": [
       "<div>\n",
       "<style scoped>\n",
       "    .dataframe tbody tr th:only-of-type {\n",
       "        vertical-align: middle;\n",
       "    }\n",
       "\n",
       "    .dataframe tbody tr th {\n",
       "        vertical-align: top;\n",
       "    }\n",
       "\n",
       "    .dataframe thead th {\n",
       "        text-align: right;\n",
       "    }\n",
       "</style>\n",
       "<table border=\"1\" class=\"dataframe\">\n",
       "  <thead>\n",
       "    <tr style=\"text-align: right;\">\n",
       "      <th></th>\n",
       "      <th>Produccion</th>\n",
       "      <th>Empresa</th>\n",
       "    </tr>\n",
       "  </thead>\n",
       "  <tbody>\n",
       "    <tr>\n",
       "      <th>Radomiro Tomic</th>\n",
       "      <td>326</td>\n",
       "      <td>Codelco</td>\n",
       "    </tr>\n",
       "    <tr>\n",
       "      <th>Chuquicamata</th>\n",
       "      <td>319</td>\n",
       "      <td>Codelco</td>\n",
       "    </tr>\n",
       "    <tr>\n",
       "      <th>Centinela</th>\n",
       "      <td>274</td>\n",
       "      <td>Antofagasta Minerals</td>\n",
       "    </tr>\n",
       "    <tr>\n",
       "      <th>Spence</th>\n",
       "      <td>203</td>\n",
       "      <td>BHP</td>\n",
       "    </tr>\n",
       "    <tr>\n",
       "      <th>Sierra Gorda</th>\n",
       "      <td>198</td>\n",
       "      <td>KGHM International</td>\n",
       "    </tr>\n",
       "  </tbody>\n",
       "</table>\n",
       "</div>"
      ],
      "text/plain": [
       "                Produccion               Empresa\n",
       "Radomiro Tomic         326               Codelco\n",
       "Chuquicamata           319               Codelco\n",
       "Centinela              274  Antofagasta Minerals\n",
       "Spence                 203                   BHP\n",
       "Sierra Gorda           198    KGHM International"
      ]
     },
     "execution_count": 74,
     "metadata": {},
     "output_type": "execute_result"
    }
   ],
   "source": [
    "# El slicing en DataFrames trabaja exactamente igual que en arreglos de Numpy.\n",
    "df.loc[\"Radomiro Tomic\": \"Sierra Gorda\", \"Produccion\": \"Empresa\"]"
   ]
  },
  {
   "cell_type": "code",
   "execution_count": 75,
   "id": "e33af68f",
   "metadata": {},
   "outputs": [
    {
     "data": {
      "text/html": [
       "<div>\n",
       "<style scoped>\n",
       "    .dataframe tbody tr th:only-of-type {\n",
       "        vertical-align: middle;\n",
       "    }\n",
       "\n",
       "    .dataframe tbody tr th {\n",
       "        vertical-align: top;\n",
       "    }\n",
       "\n",
       "    .dataframe thead th {\n",
       "        text-align: right;\n",
       "    }\n",
       "</style>\n",
       "<table border=\"1\" class=\"dataframe\">\n",
       "  <thead>\n",
       "    <tr style=\"text-align: right;\">\n",
       "      <th></th>\n",
       "      <th>Produccion</th>\n",
       "      <th>Empresa</th>\n",
       "      <th>Region</th>\n",
       "    </tr>\n",
       "  </thead>\n",
       "  <tbody>\n",
       "    <tr>\n",
       "      <th>Escondida</th>\n",
       "      <td>1011</td>\n",
       "      <td>BHP</td>\n",
       "      <td>Antofagasta</td>\n",
       "    </tr>\n",
       "    <tr>\n",
       "      <th>Collahuasi</th>\n",
       "      <td>630</td>\n",
       "      <td>Anglo American PLC &amp; Glencore</td>\n",
       "      <td>Tarapaca</td>\n",
       "    </tr>\n",
       "    <tr>\n",
       "      <th>El Teniente</th>\n",
       "      <td>460</td>\n",
       "      <td>Codelco</td>\n",
       "      <td>Lib. Bdo. O'Higgins</td>\n",
       "    </tr>\n",
       "    <tr>\n",
       "      <th>Los Bronces</th>\n",
       "      <td>370</td>\n",
       "      <td>Anglo American PLC</td>\n",
       "      <td>Metropolitana</td>\n",
       "    </tr>\n",
       "    <tr>\n",
       "      <th>Los Pelambres</th>\n",
       "      <td>336</td>\n",
       "      <td>Antofagasta Minerals</td>\n",
       "      <td>Coquimbo</td>\n",
       "    </tr>\n",
       "    <tr>\n",
       "      <th>Radomiro Tomic</th>\n",
       "      <td>326</td>\n",
       "      <td>Codelco</td>\n",
       "      <td>Antofagasta</td>\n",
       "    </tr>\n",
       "    <tr>\n",
       "      <th>Chuquicamata</th>\n",
       "      <td>319</td>\n",
       "      <td>Codelco</td>\n",
       "      <td>Antofagasta</td>\n",
       "    </tr>\n",
       "    <tr>\n",
       "      <th>Centinela</th>\n",
       "      <td>274</td>\n",
       "      <td>Antofagasta Minerals</td>\n",
       "      <td>Antofagasta</td>\n",
       "    </tr>\n",
       "    <tr>\n",
       "      <th>Spence</th>\n",
       "      <td>203</td>\n",
       "      <td>BHP</td>\n",
       "      <td>Antofagasta</td>\n",
       "    </tr>\n",
       "  </tbody>\n",
       "</table>\n",
       "</div>"
      ],
      "text/plain": [
       "                Produccion                        Empresa               Region\n",
       "Escondida             1011                            BHP          Antofagasta\n",
       "Collahuasi             630  Anglo American PLC & Glencore             Tarapaca\n",
       "El Teniente            460                        Codelco  Lib. Bdo. O'Higgins\n",
       "Los Bronces            370             Anglo American PLC        Metropolitana\n",
       "Los Pelambres          336           Antofagasta Minerals             Coquimbo\n",
       "Radomiro Tomic         326                        Codelco          Antofagasta\n",
       "Chuquicamata           319                        Codelco          Antofagasta\n",
       "Centinela              274           Antofagasta Minerals          Antofagasta\n",
       "Spence                 203                            BHP          Antofagasta"
      ]
     },
     "execution_count": 75,
     "metadata": {},
     "output_type": "execute_result"
    }
   ],
   "source": [
    "# Mediante masking, podemos construir filtros sencillos para nuestra data.\n",
    "df.loc[df[\"Produccion\"] >= 200]"
   ]
  },
  {
   "cell_type": "code",
   "execution_count": 76,
   "id": "7524b2da",
   "metadata": {},
   "outputs": [
    {
     "data": {
      "text/html": [
       "<div>\n",
       "<style scoped>\n",
       "    .dataframe tbody tr th:only-of-type {\n",
       "        vertical-align: middle;\n",
       "    }\n",
       "\n",
       "    .dataframe tbody tr th {\n",
       "        vertical-align: top;\n",
       "    }\n",
       "\n",
       "    .dataframe thead th {\n",
       "        text-align: right;\n",
       "    }\n",
       "</style>\n",
       "<table border=\"1\" class=\"dataframe\">\n",
       "  <thead>\n",
       "    <tr style=\"text-align: right;\">\n",
       "      <th></th>\n",
       "      <th>Produccion</th>\n",
       "      <th>Empresa</th>\n",
       "      <th>Region</th>\n",
       "    </tr>\n",
       "  </thead>\n",
       "  <tbody>\n",
       "    <tr>\n",
       "      <th>Escondida</th>\n",
       "      <td>1011</td>\n",
       "      <td>BHP</td>\n",
       "      <td>Antofagasta</td>\n",
       "    </tr>\n",
       "    <tr>\n",
       "      <th>Radomiro Tomic</th>\n",
       "      <td>326</td>\n",
       "      <td>Codelco</td>\n",
       "      <td>Antofagasta</td>\n",
       "    </tr>\n",
       "    <tr>\n",
       "      <th>Chuquicamata</th>\n",
       "      <td>319</td>\n",
       "      <td>Codelco</td>\n",
       "      <td>Antofagasta</td>\n",
       "    </tr>\n",
       "    <tr>\n",
       "      <th>Centinela</th>\n",
       "      <td>274</td>\n",
       "      <td>Antofagasta Minerals</td>\n",
       "      <td>Antofagasta</td>\n",
       "    </tr>\n",
       "    <tr>\n",
       "      <th>Spence</th>\n",
       "      <td>203</td>\n",
       "      <td>BHP</td>\n",
       "      <td>Antofagasta</td>\n",
       "    </tr>\n",
       "  </tbody>\n",
       "</table>\n",
       "</div>"
      ],
      "text/plain": [
       "                Produccion               Empresa       Region\n",
       "Escondida             1011                   BHP  Antofagasta\n",
       "Radomiro Tomic         326               Codelco  Antofagasta\n",
       "Chuquicamata           319               Codelco  Antofagasta\n",
       "Centinela              274  Antofagasta Minerals  Antofagasta\n",
       "Spence                 203                   BHP  Antofagasta"
      ]
     },
     "execution_count": 76,
     "metadata": {},
     "output_type": "execute_result"
    }
   ],
   "source": [
    "# Y estos filtros pueden ser respecto de cualquier combinación de filas y/o columnas.\n",
    "df.loc[(df[\"Produccion\"] >= 200) & (df[\"Region\"] == \"Antofagasta\")]"
   ]
  },
  {
   "cell_type": "code",
   "execution_count": 77,
   "id": "c0bc1558",
   "metadata": {},
   "outputs": [
    {
     "data": {
      "text/html": [
       "<div>\n",
       "<style scoped>\n",
       "    .dataframe tbody tr th:only-of-type {\n",
       "        vertical-align: middle;\n",
       "    }\n",
       "\n",
       "    .dataframe tbody tr th {\n",
       "        vertical-align: top;\n",
       "    }\n",
       "\n",
       "    .dataframe thead th {\n",
       "        text-align: right;\n",
       "    }\n",
       "</style>\n",
       "<table border=\"1\" class=\"dataframe\">\n",
       "  <thead>\n",
       "    <tr style=\"text-align: right;\">\n",
       "      <th></th>\n",
       "      <th>Produccion</th>\n",
       "      <th>Region</th>\n",
       "    </tr>\n",
       "  </thead>\n",
       "  <tbody>\n",
       "    <tr>\n",
       "      <th>El Teniente</th>\n",
       "      <td>460</td>\n",
       "      <td>Lib. Bdo. O'Higgins</td>\n",
       "    </tr>\n",
       "    <tr>\n",
       "      <th>Chuquicamata</th>\n",
       "      <td>319</td>\n",
       "      <td>Antofagasta</td>\n",
       "    </tr>\n",
       "    <tr>\n",
       "      <th>Radomiro Tomic</th>\n",
       "      <td>326</td>\n",
       "      <td>Antofagasta</td>\n",
       "    </tr>\n",
       "    <tr>\n",
       "      <th>Andina</th>\n",
       "      <td>177</td>\n",
       "      <td>Valparaiso</td>\n",
       "    </tr>\n",
       "  </tbody>\n",
       "</table>\n",
       "</div>"
      ],
      "text/plain": [
       "                Produccion               Region\n",
       "El Teniente            460  Lib. Bdo. O'Higgins\n",
       "Chuquicamata           319          Antofagasta\n",
       "Radomiro Tomic         326          Antofagasta\n",
       "Andina                 177           Valparaiso"
      ]
     },
     "execution_count": 77,
     "metadata": {},
     "output_type": "execute_result"
    }
   ],
   "source": [
    "# Mediante fancy indexing podemos especificar ciertas filas o columnas.\n",
    "df.loc[[\"El Teniente\", \"Chuquicamata\", \"Radomiro Tomic\", \"Andina\"], [\"Produccion\", \"Region\"]]"
   ]
  },
  {
   "cell_type": "markdown",
   "id": "ea7cb76e",
   "metadata": {},
   "source": [
    "Por otro lado, también disponemos de un esquema de indexación que prescinde de explicitar los índices de una serie o DataFrame, tratando a estas estructuras de datos como si fueran arreglos unidimensionales y/o bidimensionales de **Numpy**, según sea el caso. Tal esquema se genera por medio del método `iloc[]`:"
   ]
  },
  {
   "cell_type": "code",
   "execution_count": 78,
   "id": "d2dda015",
   "metadata": {},
   "outputs": [
    {
     "data": {
      "text/plain": [
       "'b'"
      ]
     },
     "execution_count": 78,
     "metadata": {},
     "output_type": "execute_result"
    }
   ],
   "source": [
    "# El método iloc[] nos permite tratar a cualquier serie como un arreglo unidimensional cuando\n",
    "# seleccionamos información.\n",
    "data.iloc[1]"
   ]
  },
  {
   "cell_type": "code",
   "execution_count": 79,
   "id": "e2f94284",
   "metadata": {},
   "outputs": [
    {
     "data": {
      "text/plain": [
       "'c'"
      ]
     },
     "execution_count": 79,
     "metadata": {},
     "output_type": "execute_result"
    }
   ],
   "source": [
    "data.iloc[-1]"
   ]
  },
  {
   "cell_type": "code",
   "execution_count": 80,
   "id": "3bcc0719",
   "metadata": {},
   "outputs": [
    {
     "data": {
      "text/plain": [
       "Produccion            101\n",
       "Empresa           Codelco\n",
       "Region        Antofagasta\n",
       "Name: Gabriela Mistral, dtype: object"
      ]
     },
     "execution_count": 80,
     "metadata": {},
     "output_type": "execute_result"
    }
   ],
   "source": [
    "# ... y a los DataFrames, como arreglos unidimensionales.\n",
    "df.iloc[-1, :]"
   ]
  },
  {
   "cell_type": "markdown",
   "id": "8ec9f7c3",
   "metadata": {},
   "source": [
    "### Convenciones de orden.\n",
    "Existen algunas convenciones adicionales de indexación que podrían parecer extrañas en primera instancia, pero que, de todas maneras, pueden llegar a ser extremadamente útiles en la práctica. Tales convenciones son especialmente relevantes cuando tratamos con DataFrames.\n",
    "\n",
    "En un DataFrame, el esquema de selección por defecto al rotular entre corchetes (sin usar indexadores como `loc[]` o `iloc[]`) siempre aplica por defecto sobre los índices relativos a las columnas. De esta manera, si escribimos `df[\"col_j\"]`, **Pandas** entenderá que estamos buscando la columna llamada `\"col_j\"` en el DataFrame `df`. En efecto:"
   ]
  },
  {
   "cell_type": "code",
   "execution_count": 81,
   "id": "c94a91ee",
   "metadata": {},
   "outputs": [
    {
     "data": {
      "text/plain": [
       "Escondida           1011\n",
       "Collahuasi           630\n",
       "El Teniente          460\n",
       "Los Bronces          370\n",
       "Los Pelambres        336\n",
       "Radomiro Tomic       326\n",
       "Chuquicamata         319\n",
       "Centinela            274\n",
       "Spence               203\n",
       "Sierra Gorda         198\n",
       "Ministro Hales       182\n",
       "Andina               177\n",
       "Candelaria           119\n",
       "Caserones            110\n",
       "Gabriela Mistral     101\n",
       "Name: Produccion, dtype: int64"
      ]
     },
     "execution_count": 81,
     "metadata": {},
     "output_type": "execute_result"
    }
   ],
   "source": [
    "# Al escribir un nombre entre corchetes luego del nombre de un DataFrame, Pandas siempre asumirá\n",
    "# que estamos buscando una determinada columna en dicho DataFrame.\n",
    "df[\"Produccion\"]"
   ]
  },
  {
   "cell_type": "markdown",
   "id": "ac3d3039",
   "metadata": {},
   "source": [
    "Por lo tanto, si buscamos una determinada fila en un DataFrame, siempre tendremos que usar algún indexador:"
   ]
  },
  {
   "cell_type": "code",
   "execution_count": 82,
   "id": "6e438a8c",
   "metadata": {},
   "outputs": [
    {
     "data": {
      "text/plain": [
       "Produccion                     336\n",
       "Empresa       Antofagasta Minerals\n",
       "Region                    Coquimbo\n",
       "Name: Los Pelambres, dtype: object"
      ]
     },
     "execution_count": 82,
     "metadata": {},
     "output_type": "execute_result"
    }
   ],
   "source": [
    "# En un DataFrame, si queremos seleccionar una fila, tendremos que usar un indexador.\n",
    "df.loc[\"Los Pelambres\"]"
   ]
  },
  {
   "cell_type": "markdown",
   "id": "da79dd80",
   "metadata": {},
   "source": [
    "Al contrario de lo que ocurre con la simple selección, al realizar un slicing entre corchetes sin especificar un indexador, **Pandas** siempre entenderá que dicha búsqueda se hará con respecto a las filas del DataFrame:"
   ]
  },
  {
   "cell_type": "code",
   "execution_count": 83,
   "id": "e0c31210",
   "metadata": {},
   "outputs": [
    {
     "data": {
      "text/html": [
       "<div>\n",
       "<style scoped>\n",
       "    .dataframe tbody tr th:only-of-type {\n",
       "        vertical-align: middle;\n",
       "    }\n",
       "\n",
       "    .dataframe tbody tr th {\n",
       "        vertical-align: top;\n",
       "    }\n",
       "\n",
       "    .dataframe thead th {\n",
       "        text-align: right;\n",
       "    }\n",
       "</style>\n",
       "<table border=\"1\" class=\"dataframe\">\n",
       "  <thead>\n",
       "    <tr style=\"text-align: right;\">\n",
       "      <th></th>\n",
       "      <th>Produccion</th>\n",
       "      <th>Empresa</th>\n",
       "      <th>Region</th>\n",
       "    </tr>\n",
       "  </thead>\n",
       "  <tbody>\n",
       "    <tr>\n",
       "      <th>Los Bronces</th>\n",
       "      <td>370</td>\n",
       "      <td>Anglo American PLC</td>\n",
       "      <td>Metropolitana</td>\n",
       "    </tr>\n",
       "    <tr>\n",
       "      <th>Los Pelambres</th>\n",
       "      <td>336</td>\n",
       "      <td>Antofagasta Minerals</td>\n",
       "      <td>Coquimbo</td>\n",
       "    </tr>\n",
       "    <tr>\n",
       "      <th>Radomiro Tomic</th>\n",
       "      <td>326</td>\n",
       "      <td>Codelco</td>\n",
       "      <td>Antofagasta</td>\n",
       "    </tr>\n",
       "    <tr>\n",
       "      <th>Chuquicamata</th>\n",
       "      <td>319</td>\n",
       "      <td>Codelco</td>\n",
       "      <td>Antofagasta</td>\n",
       "    </tr>\n",
       "    <tr>\n",
       "      <th>Centinela</th>\n",
       "      <td>274</td>\n",
       "      <td>Antofagasta Minerals</td>\n",
       "      <td>Antofagasta</td>\n",
       "    </tr>\n",
       "  </tbody>\n",
       "</table>\n",
       "</div>"
      ],
      "text/plain": [
       "                Produccion               Empresa         Region\n",
       "Los Bronces            370    Anglo American PLC  Metropolitana\n",
       "Los Pelambres          336  Antofagasta Minerals       Coquimbo\n",
       "Radomiro Tomic         326               Codelco    Antofagasta\n",
       "Chuquicamata           319               Codelco    Antofagasta\n",
       "Centinela              274  Antofagasta Minerals    Antofagasta"
      ]
     },
     "execution_count": 83,
     "metadata": {},
     "output_type": "execute_result"
    }
   ],
   "source": [
    "# En el slicing, si no usamos indexadores, Pandas entiende que siempre buscamos por filas.\n",
    "df[\"Los Bronces\": \"Centinela\"]"
   ]
  },
  {
   "cell_type": "markdown",
   "id": "f51baf98",
   "metadata": {},
   "source": [
    "Por lo tanto, si queremos generar un slicing en un DataFrame con respecto a las columnas, nuevamente, tendremos que hacer uso de algún indexador:"
   ]
  },
  {
   "cell_type": "code",
   "execution_count": 84,
   "id": "2409c014",
   "metadata": {},
   "outputs": [
    {
     "data": {
      "text/html": [
       "<div>\n",
       "<style scoped>\n",
       "    .dataframe tbody tr th:only-of-type {\n",
       "        vertical-align: middle;\n",
       "    }\n",
       "\n",
       "    .dataframe tbody tr th {\n",
       "        vertical-align: top;\n",
       "    }\n",
       "\n",
       "    .dataframe thead th {\n",
       "        text-align: right;\n",
       "    }\n",
       "</style>\n",
       "<table border=\"1\" class=\"dataframe\">\n",
       "  <thead>\n",
       "    <tr style=\"text-align: right;\">\n",
       "      <th></th>\n",
       "      <th>Produccion</th>\n",
       "      <th>Empresa</th>\n",
       "    </tr>\n",
       "  </thead>\n",
       "  <tbody>\n",
       "    <tr>\n",
       "      <th>Escondida</th>\n",
       "      <td>1011</td>\n",
       "      <td>BHP</td>\n",
       "    </tr>\n",
       "    <tr>\n",
       "      <th>Collahuasi</th>\n",
       "      <td>630</td>\n",
       "      <td>Anglo American PLC &amp; Glencore</td>\n",
       "    </tr>\n",
       "    <tr>\n",
       "      <th>El Teniente</th>\n",
       "      <td>460</td>\n",
       "      <td>Codelco</td>\n",
       "    </tr>\n",
       "    <tr>\n",
       "      <th>Los Bronces</th>\n",
       "      <td>370</td>\n",
       "      <td>Anglo American PLC</td>\n",
       "    </tr>\n",
       "    <tr>\n",
       "      <th>Los Pelambres</th>\n",
       "      <td>336</td>\n",
       "      <td>Antofagasta Minerals</td>\n",
       "    </tr>\n",
       "    <tr>\n",
       "      <th>Radomiro Tomic</th>\n",
       "      <td>326</td>\n",
       "      <td>Codelco</td>\n",
       "    </tr>\n",
       "    <tr>\n",
       "      <th>Chuquicamata</th>\n",
       "      <td>319</td>\n",
       "      <td>Codelco</td>\n",
       "    </tr>\n",
       "    <tr>\n",
       "      <th>Centinela</th>\n",
       "      <td>274</td>\n",
       "      <td>Antofagasta Minerals</td>\n",
       "    </tr>\n",
       "    <tr>\n",
       "      <th>Spence</th>\n",
       "      <td>203</td>\n",
       "      <td>BHP</td>\n",
       "    </tr>\n",
       "    <tr>\n",
       "      <th>Sierra Gorda</th>\n",
       "      <td>198</td>\n",
       "      <td>KGHM International</td>\n",
       "    </tr>\n",
       "    <tr>\n",
       "      <th>Ministro Hales</th>\n",
       "      <td>182</td>\n",
       "      <td>Codelco</td>\n",
       "    </tr>\n",
       "    <tr>\n",
       "      <th>Andina</th>\n",
       "      <td>177</td>\n",
       "      <td>Codelco</td>\n",
       "    </tr>\n",
       "    <tr>\n",
       "      <th>Candelaria</th>\n",
       "      <td>119</td>\n",
       "      <td>Lundin Mining</td>\n",
       "    </tr>\n",
       "    <tr>\n",
       "      <th>Caserones</th>\n",
       "      <td>110</td>\n",
       "      <td>SCM Lumina Copper Chile</td>\n",
       "    </tr>\n",
       "    <tr>\n",
       "      <th>Gabriela Mistral</th>\n",
       "      <td>101</td>\n",
       "      <td>Codelco</td>\n",
       "    </tr>\n",
       "  </tbody>\n",
       "</table>\n",
       "</div>"
      ],
      "text/plain": [
       "                  Produccion                        Empresa\n",
       "Escondida               1011                            BHP\n",
       "Collahuasi               630  Anglo American PLC & Glencore\n",
       "El Teniente              460                        Codelco\n",
       "Los Bronces              370             Anglo American PLC\n",
       "Los Pelambres            336           Antofagasta Minerals\n",
       "Radomiro Tomic           326                        Codelco\n",
       "Chuquicamata             319                        Codelco\n",
       "Centinela                274           Antofagasta Minerals\n",
       "Spence                   203                            BHP\n",
       "Sierra Gorda             198             KGHM International\n",
       "Ministro Hales           182                        Codelco\n",
       "Andina                   177                        Codelco\n",
       "Candelaria               119                  Lundin Mining\n",
       "Caserones                110        SCM Lumina Copper Chile\n",
       "Gabriela Mistral         101                        Codelco"
      ]
     },
     "execution_count": 84,
     "metadata": {},
     "output_type": "execute_result"
    }
   ],
   "source": [
    "# Para realizar un slicing en un DataFrame con referencia a sus índices de columnas, necesitamos\n",
    "# usar un indexador.\n",
    "df.loc[:, :\"Empresa\"]"
   ]
  },
  {
   "cell_type": "markdown",
   "id": "cf5debf9",
   "metadata": {},
   "source": [
    "Las convenciones anteriores para el caso de la selección y del slicing en DataFrames no llevan un nombre específico, pero sin duda son útiles para entender cómo **Pandas** trabaja por defecto sobre sus estructuras de datos si optamos por no especificar una forma de indexar al seleccionar información.\n",
    "\n",
    "### Filtrado.\n",
    "Una tarea importante al trabajar con series o DataFrames y que se desprende de cualquier análisis de datos corresponde al filtrado de información conforme algún criterio o información. En las estructuras de datos de **Pandas**, una primera forma de filtrar información es mediante el uso de masking, de la misma forma que lo haríamos en arreglos de **Numpy**. Ya hemos visto ejemplos de esto previamente, pero ahora lo explicaremos más en detalle.\n",
    "\n",
    "Partamos pues construyendo un DataFrame (para las series, las operaciones de filtrado son totalmente análogas), el cual tendrá un total de 100 filas y 3 columnas. Cada fila corresponderá a un día determinado de observaciones sobre una planta de chancado primario. La primera columna corresponderá al procesamiento de mineral en el chancador, la segunda, a la utilización efectiva promedio de la flota de transporte de la mina respectiva, y la tercera, a la fracción porcentual de mineral de tamaño grueso (+1’’) que llega a la planta. Usaremos el generador de números aleatorios de **Numpy** para construir este DataFrame:"
   ]
  },
  {
   "cell_type": "code",
   "execution_count": 85,
   "id": "30147d55",
   "metadata": {},
   "outputs": [],
   "source": [
    "# Construimos un DataFrame para comenzar a filtrar información.\n",
    "rng = np.random.default_rng(42) # Semilla aleatoria fija."
   ]
  },
  {
   "cell_type": "code",
   "execution_count": 86,
   "id": "0576f140",
   "metadata": {},
   "outputs": [],
   "source": [
    "x1 = rng.normal(loc=3200, scale=580, size=100) # Tratamiento de chancado primario.\n",
    "x2 = rng.lognormal(mean=4, sigma=0.2, size=100) # Utilización efectiva de flota CAEX.\n",
    "x3 = rng.normal(loc=30, scale=12.5, size=100) # Proporción de mineral grueso (+1\")."
   ]
  },
  {
   "cell_type": "code",
   "execution_count": 87,
   "id": "18a1fb7e",
   "metadata": {},
   "outputs": [],
   "source": [
    "ch1_df = pd.DataFrame(\n",
    "    data=np.array([x1, x2, x3]).T,\n",
    "    columns=[\"Tratamiento CH1\", \"UE CAEX\", \"% Gruesos\"]\n",
    ")"
   ]
  },
  {
   "cell_type": "markdown",
   "id": "cd2d4185",
   "metadata": {},
   "source": [
    "Debido a que el DataFrame que hemos construido tiene un total de 100 filas, sería un despropósito imprimirlo completamente en pantalla. Sin embargo, podemos usar el método `head()` para mostrar las 5 primeras columnas de nuestro DataFrame a fin de revisar su estructura:"
   ]
  },
  {
   "cell_type": "code",
   "execution_count": 88,
   "id": "e98c79ed",
   "metadata": {},
   "outputs": [
    {
     "data": {
      "text/html": [
       "<div>\n",
       "<style scoped>\n",
       "    .dataframe tbody tr th:only-of-type {\n",
       "        vertical-align: middle;\n",
       "    }\n",
       "\n",
       "    .dataframe tbody tr th {\n",
       "        vertical-align: top;\n",
       "    }\n",
       "\n",
       "    .dataframe thead th {\n",
       "        text-align: right;\n",
       "    }\n",
       "</style>\n",
       "<table border=\"1\" class=\"dataframe\">\n",
       "  <thead>\n",
       "    <tr style=\"text-align: right;\">\n",
       "      <th></th>\n",
       "      <th>Tratamiento CH1</th>\n",
       "      <th>UE CAEX</th>\n",
       "      <th>% Gruesos</th>\n",
       "    </tr>\n",
       "  </thead>\n",
       "  <tbody>\n",
       "    <tr>\n",
       "      <th>0</th>\n",
       "      <td>3376.735906</td>\n",
       "      <td>50.621050</td>\n",
       "      <td>34.219682</td>\n",
       "    </tr>\n",
       "    <tr>\n",
       "      <th>1</th>\n",
       "      <td>2596.809218</td>\n",
       "      <td>70.799055</td>\n",
       "      <td>47.593523</td>\n",
       "    </tr>\n",
       "    <tr>\n",
       "      <th>2</th>\n",
       "      <td>3635.261694</td>\n",
       "      <td>50.843242</td>\n",
       "      <td>31.132311</td>\n",
       "    </tr>\n",
       "    <tr>\n",
       "      <th>3</th>\n",
       "      <td>3745.527536</td>\n",
       "      <td>63.275810</td>\n",
       "      <td>38.049235</td>\n",
       "    </tr>\n",
       "    <tr>\n",
       "      <th>4</th>\n",
       "      <td>2068.399591</td>\n",
       "      <td>45.298615</td>\n",
       "      <td>4.372849</td>\n",
       "    </tr>\n",
       "  </tbody>\n",
       "</table>\n",
       "</div>"
      ],
      "text/plain": [
       "   Tratamiento CH1    UE CAEX  % Gruesos\n",
       "0      3376.735906  50.621050  34.219682\n",
       "1      2596.809218  70.799055  47.593523\n",
       "2      3635.261694  50.843242  31.132311\n",
       "3      3745.527536  63.275810  38.049235\n",
       "4      2068.399591  45.298615   4.372849"
      ]
     },
     "execution_count": 88,
     "metadata": {},
     "output_type": "execute_result"
    }
   ],
   "source": [
    "# Imprimimos en pantalla las primeras 5 filas de nuestro DataFrame.\n",
    "ch1_df.head()"
   ]
  },
  {
   "cell_type": "markdown",
   "id": "81ec885e",
   "metadata": {},
   "source": [
    "El método `tail()` es completamente análogo a head(), permitiendo observar las últimas 5 columnas de nuestro DataFrame:"
   ]
  },
  {
   "cell_type": "code",
   "execution_count": 89,
   "id": "fee1865d",
   "metadata": {},
   "outputs": [
    {
     "data": {
      "text/html": [
       "<div>\n",
       "<style scoped>\n",
       "    .dataframe tbody tr th:only-of-type {\n",
       "        vertical-align: middle;\n",
       "    }\n",
       "\n",
       "    .dataframe tbody tr th {\n",
       "        vertical-align: top;\n",
       "    }\n",
       "\n",
       "    .dataframe thead th {\n",
       "        text-align: right;\n",
       "    }\n",
       "</style>\n",
       "<table border=\"1\" class=\"dataframe\">\n",
       "  <thead>\n",
       "    <tr style=\"text-align: right;\">\n",
       "      <th></th>\n",
       "      <th>Tratamiento CH1</th>\n",
       "      <th>UE CAEX</th>\n",
       "      <th>% Gruesos</th>\n",
       "    </tr>\n",
       "  </thead>\n",
       "  <tbody>\n",
       "    <tr>\n",
       "      <th>95</th>\n",
       "      <td>2360.674766</td>\n",
       "      <td>45.652328</td>\n",
       "      <td>32.206405</td>\n",
       "    </tr>\n",
       "    <tr>\n",
       "      <th>96</th>\n",
       "      <td>2432.834225</td>\n",
       "      <td>62.094993</td>\n",
       "      <td>33.699925</td>\n",
       "    </tr>\n",
       "    <tr>\n",
       "      <th>97</th>\n",
       "      <td>2621.596840</td>\n",
       "      <td>50.454855</td>\n",
       "      <td>25.351068</td>\n",
       "    </tr>\n",
       "    <tr>\n",
       "      <th>98</th>\n",
       "      <td>3431.869051</td>\n",
       "      <td>54.542250</td>\n",
       "      <td>8.040978</td>\n",
       "    </tr>\n",
       "    <tr>\n",
       "      <th>99</th>\n",
       "      <td>2674.822148</td>\n",
       "      <td>52.842269</td>\n",
       "      <td>34.099944</td>\n",
       "    </tr>\n",
       "  </tbody>\n",
       "</table>\n",
       "</div>"
      ],
      "text/plain": [
       "    Tratamiento CH1    UE CAEX  % Gruesos\n",
       "95      2360.674766  45.652328  32.206405\n",
       "96      2432.834225  62.094993  33.699925\n",
       "97      2621.596840  50.454855  25.351068\n",
       "98      3431.869051  54.542250   8.040978\n",
       "99      2674.822148  52.842269  34.099944"
      ]
     },
     "execution_count": 89,
     "metadata": {},
     "output_type": "execute_result"
    }
   ],
   "source": [
    "# Imprimimos en pantalla las últimas 5 filas de nuestro DataFrame.\n",
    "ch1_df.tail()"
   ]
  },
  {
   "cell_type": "markdown",
   "id": "5c8fe8fb",
   "metadata": {},
   "source": [
    "Un primer filtro de información que podemos querer observar en nuestro DataFrame es verificar cuáles son los registros tales que el tratamiento de chancado primario fue mayor a 3700 tph. Dicho filtro es sencillo de construir, ya que sólo requiere de una simple operación de masking:"
   ]
  },
  {
   "cell_type": "code",
   "execution_count": 90,
   "id": "7a2e8ada",
   "metadata": {},
   "outputs": [
    {
     "data": {
      "text/html": [
       "<div>\n",
       "<style scoped>\n",
       "    .dataframe tbody tr th:only-of-type {\n",
       "        vertical-align: middle;\n",
       "    }\n",
       "\n",
       "    .dataframe tbody tr th {\n",
       "        vertical-align: top;\n",
       "    }\n",
       "\n",
       "    .dataframe thead th {\n",
       "        text-align: right;\n",
       "    }\n",
       "</style>\n",
       "<table border=\"1\" class=\"dataframe\">\n",
       "  <thead>\n",
       "    <tr style=\"text-align: right;\">\n",
       "      <th></th>\n",
       "      <th>Tratamiento CH1</th>\n",
       "      <th>UE CAEX</th>\n",
       "      <th>% Gruesos</th>\n",
       "    </tr>\n",
       "  </thead>\n",
       "  <tbody>\n",
       "    <tr>\n",
       "      <th>3</th>\n",
       "      <td>3745.527536</td>\n",
       "      <td>63.275810</td>\n",
       "      <td>38.049235</td>\n",
       "    </tr>\n",
       "    <tr>\n",
       "      <th>10</th>\n",
       "      <td>3710.050825</td>\n",
       "      <td>59.554075</td>\n",
       "      <td>41.448782</td>\n",
       "    </tr>\n",
       "    <tr>\n",
       "      <th>13</th>\n",
       "      <td>3853.799900</td>\n",
       "      <td>40.886030</td>\n",
       "      <td>23.947882</td>\n",
       "    </tr>\n",
       "    <tr>\n",
       "      <th>18</th>\n",
       "      <td>3709.501175</td>\n",
       "      <td>75.215384</td>\n",
       "      <td>28.068679</td>\n",
       "    </tr>\n",
       "    <tr>\n",
       "      <th>22</th>\n",
       "      <td>3909.073976</td>\n",
       "      <td>57.054066</td>\n",
       "      <td>32.207167</td>\n",
       "    </tr>\n",
       "    <tr>\n",
       "      <th>30</th>\n",
       "      <td>4442.155609</td>\n",
       "      <td>50.503268</td>\n",
       "      <td>11.706975</td>\n",
       "    </tr>\n",
       "    <tr>\n",
       "      <th>35</th>\n",
       "      <td>3854.803930</td>\n",
       "      <td>44.562121</td>\n",
       "      <td>21.823169</td>\n",
       "    </tr>\n",
       "    <tr>\n",
       "      <th>46</th>\n",
       "      <td>3705.428691</td>\n",
       "      <td>48.307201</td>\n",
       "      <td>16.290180</td>\n",
       "    </tr>\n",
       "    <tr>\n",
       "      <th>57</th>\n",
       "      <td>4067.065961</td>\n",
       "      <td>66.456520</td>\n",
       "      <td>25.298049</td>\n",
       "    </tr>\n",
       "    <tr>\n",
       "      <th>59</th>\n",
       "      <td>3761.601446</td>\n",
       "      <td>43.077949</td>\n",
       "      <td>12.813802</td>\n",
       "    </tr>\n",
       "  </tbody>\n",
       "</table>\n",
       "</div>"
      ],
      "text/plain": [
       "    Tratamiento CH1    UE CAEX  % Gruesos\n",
       "3       3745.527536  63.275810  38.049235\n",
       "10      3710.050825  59.554075  41.448782\n",
       "13      3853.799900  40.886030  23.947882\n",
       "18      3709.501175  75.215384  28.068679\n",
       "22      3909.073976  57.054066  32.207167\n",
       "30      4442.155609  50.503268  11.706975\n",
       "35      3854.803930  44.562121  21.823169\n",
       "46      3705.428691  48.307201  16.290180\n",
       "57      4067.065961  66.456520  25.298049\n",
       "59      3761.601446  43.077949  12.813802"
      ]
     },
     "execution_count": 90,
     "metadata": {},
     "output_type": "execute_result"
    }
   ],
   "source": [
    "# Tratamiento sobre 3700 tph.\n",
    "ch1_df[ch1_df[\"Tratamiento CH1\"] > 3700]"
   ]
  },
  {
   "cell_type": "markdown",
   "id": "4367644b",
   "metadata": {},
   "source": [
    "El filtro anterior entrega como resultado un DataFrame con todas filas del original, tales que el tratamiento de chancado primario (la primera columna) es mayor que 3700 tph. Por supuesto, quizás la propia columna de tratamiento puede ser innecesaria en esta consulta de información, y queramos únicamente retener los valores del % de gruesos y de utilización efectiva de la flota de transporte tales que el tratamiento es mayor a 3700 tph. Para hacer esto, bastará con combinar la operación de masking anterior con fancy indexing, listando las columnas que queremos obtener:"
   ]
  },
  {
   "cell_type": "code",
   "execution_count": 91,
   "id": "c824fb13",
   "metadata": {},
   "outputs": [
    {
     "data": {
      "text/html": [
       "<div>\n",
       "<style scoped>\n",
       "    .dataframe tbody tr th:only-of-type {\n",
       "        vertical-align: middle;\n",
       "    }\n",
       "\n",
       "    .dataframe tbody tr th {\n",
       "        vertical-align: top;\n",
       "    }\n",
       "\n",
       "    .dataframe thead th {\n",
       "        text-align: right;\n",
       "    }\n",
       "</style>\n",
       "<table border=\"1\" class=\"dataframe\">\n",
       "  <thead>\n",
       "    <tr style=\"text-align: right;\">\n",
       "      <th></th>\n",
       "      <th>UE CAEX</th>\n",
       "      <th>% Gruesos</th>\n",
       "    </tr>\n",
       "  </thead>\n",
       "  <tbody>\n",
       "    <tr>\n",
       "      <th>3</th>\n",
       "      <td>63.275810</td>\n",
       "      <td>38.049235</td>\n",
       "    </tr>\n",
       "    <tr>\n",
       "      <th>10</th>\n",
       "      <td>59.554075</td>\n",
       "      <td>41.448782</td>\n",
       "    </tr>\n",
       "    <tr>\n",
       "      <th>13</th>\n",
       "      <td>40.886030</td>\n",
       "      <td>23.947882</td>\n",
       "    </tr>\n",
       "    <tr>\n",
       "      <th>18</th>\n",
       "      <td>75.215384</td>\n",
       "      <td>28.068679</td>\n",
       "    </tr>\n",
       "    <tr>\n",
       "      <th>22</th>\n",
       "      <td>57.054066</td>\n",
       "      <td>32.207167</td>\n",
       "    </tr>\n",
       "    <tr>\n",
       "      <th>30</th>\n",
       "      <td>50.503268</td>\n",
       "      <td>11.706975</td>\n",
       "    </tr>\n",
       "    <tr>\n",
       "      <th>35</th>\n",
       "      <td>44.562121</td>\n",
       "      <td>21.823169</td>\n",
       "    </tr>\n",
       "    <tr>\n",
       "      <th>46</th>\n",
       "      <td>48.307201</td>\n",
       "      <td>16.290180</td>\n",
       "    </tr>\n",
       "    <tr>\n",
       "      <th>57</th>\n",
       "      <td>66.456520</td>\n",
       "      <td>25.298049</td>\n",
       "    </tr>\n",
       "    <tr>\n",
       "      <th>59</th>\n",
       "      <td>43.077949</td>\n",
       "      <td>12.813802</td>\n",
       "    </tr>\n",
       "  </tbody>\n",
       "</table>\n",
       "</div>"
      ],
      "text/plain": [
       "      UE CAEX  % Gruesos\n",
       "3   63.275810  38.049235\n",
       "10  59.554075  41.448782\n",
       "13  40.886030  23.947882\n",
       "18  75.215384  28.068679\n",
       "22  57.054066  32.207167\n",
       "30  50.503268  11.706975\n",
       "35  44.562121  21.823169\n",
       "46  48.307201  16.290180\n",
       "57  66.456520  25.298049\n",
       "59  43.077949  12.813802"
      ]
     },
     "execution_count": 91,
     "metadata": {},
     "output_type": "execute_result"
    }
   ],
   "source": [
    "# Tratamiento sobre 3700 tph, retornamos columnas de utilización efectiva y % de gruesos.\n",
    "ch1_df[ch1_df[\"Tratamiento CH1\"] > 3700][[\"UE CAEX\", \"% Gruesos\"]]"
   ]
  },
  {
   "cell_type": "markdown",
   "id": "197700e1",
   "metadata": {},
   "source": [
    "Si deseamos aplicar más de una condición en un filtro, y que éstas sean incluyentes, bastará con separar cada una de tales condiciones entre paréntesis mediante un operador de disyunción (`&`):"
   ]
  },
  {
   "cell_type": "code",
   "execution_count": 92,
   "id": "f472d365",
   "metadata": {},
   "outputs": [
    {
     "data": {
      "text/plain": [
       "3     38.049235\n",
       "18    28.068679\n",
       "26    61.468425\n",
       "39    23.382007\n",
       "48    66.313340\n",
       "57    25.298049\n",
       "64    35.894232\n",
       "90    26.850283\n",
       "Name: % Gruesos, dtype: float64"
      ]
     },
     "execution_count": 92,
     "metadata": {},
     "output_type": "execute_result"
    }
   ],
   "source": [
    "# Filtro conforme dos condiciones.\n",
    "# Determinamos todos los registros de % de gruesos, tales que el tratamiento de chancado\n",
    "# primario es mayor que 3500 tph, y la utilización efectiva de la flota CAEX es mayor o\n",
    "# igual a 60%.\n",
    "ch1_df[(ch1_df[\"Tratamiento CH1\"] > 3500) & (ch1_df[\"UE CAEX\"] >= 60)][\"% Gruesos\"]"
   ]
  },
  {
   "cell_type": "markdown",
   "id": "5133810c",
   "metadata": {},
   "source": [
    "Una forma muy filtrar data en DataFrames y series es mediante el uso del método `query()`, el cual permite evaluar consultas de información conforme condiciones que se evalúan como argumento de este método. Por ejemplo, para replicar el filtro anterior con `query()`:"
   ]
  },
  {
   "cell_type": "code",
   "execution_count": 93,
   "id": "a05bc9bd",
   "metadata": {},
   "outputs": [
    {
     "data": {
      "text/plain": [
       "3     38.049235\n",
       "18    28.068679\n",
       "26    61.468425\n",
       "39    23.382007\n",
       "48    66.313340\n",
       "57    25.298049\n",
       "64    35.894232\n",
       "90    26.850283\n",
       "Name: % Gruesos, dtype: float64"
      ]
     },
     "execution_count": 93,
     "metadata": {},
     "output_type": "execute_result"
    }
   ],
   "source": [
    "# Mismo filtro anterior, pero usando el método query().\n",
    "ch1_df.query(\"`Tratamiento CH1` > 3500 & `UE CAEX` >= 60\")[\"% Gruesos\"]"
   ]
  },
  {
   "cell_type": "markdown",
   "id": "81bf534a",
   "metadata": {},
   "source": [
    "Entendamos bien este código: El método `query()` funciona por medio de evaluaciones de expresiones. En este caso, la expresión a evaluar e ``\"`Tratamiento CH1` > 3500 & `UE CAEX` >= 60\"``. Usamos tildes para diferenciar los rótulos de columnas (por ejemplo, ```UE CAEX```), debido a que tales rótulos presentan espacios (whitespaces). De no existir tales espacios, la diferenciación de los rótulos de columna mediante tildes no es necesaria.\n",
    "\n",
    "El método `query()` está construido sobre otro método (de nivel superior) denominado `eval()`, que también se aplica a cualquier serie o DataFrame. El método `eval()` permite evaluar expresiones del mismo tipo que usamos en el método `query()`, retornando una serie con los mismos índices de fila que la serie o DataFrame originales, pero con valores Booleanos. Se asigna el valor `True` si dicha fila cumple con la condición evaluada previamente:"
   ]
  },
  {
   "cell_type": "code",
   "execution_count": 94,
   "id": "f67a2040",
   "metadata": {},
   "outputs": [
    {
     "data": {
      "text/plain": [
       "0     False\n",
       "1      True\n",
       "2     False\n",
       "3      True\n",
       "4     False\n",
       "      ...  \n",
       "95    False\n",
       "96     True\n",
       "97    False\n",
       "98    False\n",
       "99    False\n",
       "Length: 100, dtype: bool"
      ]
     },
     "execution_count": 94,
     "metadata": {},
     "output_type": "execute_result"
    }
   ],
   "source": [
    "# Evaluamos qué filas de nuestro DataFrame cumplen con la condición a evaluar.\n",
    "ch1_df.eval(\"`UE CAEX` >= 60\")"
   ]
  },
  {
   "cell_type": "markdown",
   "id": "cf9419eb",
   "metadata": {},
   "source": [
    "## Comentarios finales.\n",
    "\n",
    "Existen muchas otras operaciones básicas que podemos realizar sobre series y DataFrames, incluyendo por supuesto toda la operatoria que revisamos en **Numpy**, ya que **Pandas**, al estar construido sobre **Numpy**, es compatible con casi la mayoría de las operaciones que hemos aprendido para trabajar con arreglos.\n",
    "\n",
    "A medida que vayamos avanzando en la asignatura, iremos revisando operaciones más específicas de cada caso (por ejemplo, ordenamientos, uniones, remuestreos, entre otros)."
   ]
  }
 ],
 "metadata": {
  "kernelspec": {
   "display_name": "Python 3 (ipykernel)",
   "language": "python",
   "name": "python3"
  },
  "language_info": {
   "codemirror_mode": {
    "name": "ipython",
    "version": 3
   },
   "file_extension": ".py",
   "mimetype": "text/x-python",
   "name": "python",
   "nbconvert_exporter": "python",
   "pygments_lexer": "ipython3",
   "version": "3.9.16"
  }
 },
 "nbformat": 4,
 "nbformat_minor": 5
}
