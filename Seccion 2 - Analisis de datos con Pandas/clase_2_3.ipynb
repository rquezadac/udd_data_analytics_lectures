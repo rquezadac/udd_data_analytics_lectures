{
 "cells": [
  {
   "attachments": {},
   "cell_type": "markdown",
   "id": "5e5a970f",
   "metadata": {},
   "source": [
    "# CLASE 2.3: INDEXACIÓN JERÁRQUICA.\n",
    "---\n",
    "## Índices multinivel.\n",
    "Hasta este punto, nos hemos enfocado principalmente en data de tipo uni y bidimensional, almacenada en series y DataFrames de **Pandas**, respectivamente. Con frecuencia, es útil ir más allá y almacenar estructuras de datos de mayor dimensión; es decir, data indexada con más de una o más llaves. Una práctica común para la construcción de estructuras de datos de este tipo resulta en la utilización de un **esquema de indexado jerárquico** (conocido también cono **indexado multinivel**) para incorporar múltiples niveles de indexación en un único índice. De esta manera, la data en mayores dimensiones puede ser representada de forma compacta mediante objetos familiares, tales como las series y DataFrames que hemos manipulado hasta ahora.\n",
    "\n",
    "En esta sección, exploraremos la creación directa de objetos de tipo `pd.MultiIndex`, consideraciones tales como indexación, slicing y cálculo de estadígrafos sobre data indexada de esta manera, y rutinas muy útiles para la conversión entre representaciones simples y con indexación múltiple de nuestros datos.\n",
    "\n",
    "Comencemos intentando representar compactamente data de dos dimensiones mediante una serie de **Pandas**. Sin perder generalidad, consideraremos una serie de datos donde cada punto tiene asignado un carácter y una llave numérica."
   ]
  },
  {
   "cell_type": "code",
   "execution_count": 1,
   "id": "caaf440c",
   "metadata": {},
   "outputs": [],
   "source": [
    "import numpy as np\n",
    "import pandas as pd"
   ]
  },
  {
   "cell_type": "markdown",
   "id": "4363cb6d",
   "metadata": {},
   "source": [
    "### Como no debemos hacerlo.\n",
    "Supongamos que nos gustaría mantener un registro de datos de cada dos años de alimentación diaria para una planta de molienda SAG con tres líneas de procesamiento de mineral. Usando las herramientas de **Pandas** que ya hemos cubierto, podríamos vernos tentados simplemente a utilizar tuplas de Python como llaves:"
   ]
  },
  {
   "cell_type": "code",
   "execution_count": 2,
   "id": "d2ccd0ee",
   "metadata": {},
   "outputs": [],
   "source": [
    "# Un intento de índice múltiple.\n",
    "idx = [\n",
    "    (\"SAG 1\", 2019), (\"SAG 1\", 2020),\n",
    "    (\"SAG 2\", 2019), (\"SAG 2\", 2020),\n",
    "    (\"SAG 3\", 2019), (\"SAG 3\", 2020),\n",
    "]"
   ]
  },
  {
   "cell_type": "code",
   "execution_count": 3,
   "id": "79205bae",
   "metadata": {},
   "outputs": [],
   "source": [
    "# Los valores que asociaremos a este índice múltiple.\n",
    "feed = np.array([\n",
    "    150350, 156780,\n",
    "    149187, 151223,\n",
    "    159003, 157743\n",
    "])"
   ]
  },
  {
   "cell_type": "code",
   "execution_count": 4,
   "id": "a72f2b4b",
   "metadata": {},
   "outputs": [],
   "source": [
    "# Construimos nuestra serie.\n",
    "feed_ser = pd.Series(data=feed, index=idx)"
   ]
  },
  {
   "cell_type": "code",
   "execution_count": 5,
   "id": "afd65ac9",
   "metadata": {},
   "outputs": [
    {
     "data": {
      "text/plain": [
       "(SAG 1, 2019)    150350\n",
       "(SAG 1, 2020)    156780\n",
       "(SAG 2, 2019)    149187\n",
       "(SAG 2, 2020)    151223\n",
       "(SAG 3, 2019)    159003\n",
       "(SAG 3, 2020)    157743\n",
       "dtype: int64"
      ]
     },
     "execution_count": 5,
     "metadata": {},
     "output_type": "execute_result"
    }
   ],
   "source": [
    "# Mostramos nuestra serie en pantalla.\n",
    "feed_ser"
   ]
  },
  {
   "cell_type": "markdown",
   "id": "902fd485",
   "metadata": {},
   "source": [
    "Con este esquema de indexación, podemos generar seleccionar elementos o generar slices directamente:"
   ]
  },
  {
   "cell_type": "code",
   "execution_count": 6,
   "id": "3e7904c9",
   "metadata": {},
   "outputs": [
    {
     "data": {
      "text/plain": [
       "(SAG 1, 2019)    150350\n",
       "(SAG 1, 2020)    156780\n",
       "(SAG 2, 2019)    149187\n",
       "(SAG 2, 2020)    151223\n",
       "dtype: int64"
      ]
     },
     "execution_count": 6,
     "metadata": {},
     "output_type": "execute_result"
    }
   ],
   "source": [
    "feed_ser[(\"SAG 1\", 2019):(\"SAG 2\", 2020)]"
   ]
  },
  {
   "cell_type": "markdown",
   "id": "1b17a4d1",
   "metadata": {},
   "source": [
    "Pero lo útil termina ahí, ya que si necesitamos seleccionar valores únicamente del año 2019, necesitaremos realizar trabajo con código bastante aparatoso (y potencialmente de lenta ejecución), rogando para que eventualmente funcione:"
   ]
  },
  {
   "cell_type": "code",
   "execution_count": 7,
   "id": "4a9642c9",
   "metadata": {},
   "outputs": [
    {
     "data": {
      "text/plain": [
       "(SAG 1, 2019)    150350\n",
       "(SAG 2, 2019)    149187\n",
       "(SAG 3, 2019)    159003\n",
       "dtype: int64"
      ]
     },
     "execution_count": 7,
     "metadata": {},
     "output_type": "execute_result"
    }
   ],
   "source": [
    "feed_ser[[i for i in feed_ser.index if i[1] == 2019]]"
   ]
  },
  {
   "attachments": {},
   "cell_type": "markdown",
   "id": "4a3f4d06",
   "metadata": {},
   "source": [
    "### Como sí debemos hacerlo.\n",
    "Afortunadamente, **Pandas** nos provee de una mejor forma de lograr esto. Nuestro indexado múltiple basado en tuplas hecho previamente corresponde a una forma rudimentaria de generar un índice multinivel, y el objeto `pd.MultiIndex` de **Pandas** nos provee de una manera sencilla de generar indexaciones múltiples con objetos tales como series y DataFrames. Podemos crear un índice multinivel a partir de tuplas por medio de la clase `pd.MultiIndex`, aplicando inmediatamente el método `from_tuples()`:"
   ]
  },
  {
   "cell_type": "code",
   "execution_count": 8,
   "id": "7d38a808",
   "metadata": {},
   "outputs": [
    {
     "data": {
      "text/plain": [
       "MultiIndex([('SAG 1', 2019),\n",
       "            ('SAG 1', 2020),\n",
       "            ('SAG 2', 2019),\n",
       "            ('SAG 2', 2020),\n",
       "            ('SAG 3', 2019),\n",
       "            ('SAG 3', 2020)],\n",
       "           )"
      ]
     },
     "execution_count": 8,
     "metadata": {},
     "output_type": "execute_result"
    }
   ],
   "source": [
    "# Creación de un índice multinivel a partir de una colección de tuplas.\n",
    "idx = pd.MultiIndex.from_tuples(idx)\n",
    "idx"
   ]
  },
  {
   "attachments": {},
   "cell_type": "markdown",
   "id": "c3835104",
   "metadata": {},
   "source": [
    "Notemos que este objeto de tipo `pd.MultiIndex` contiene múltiples niveles de indexación. En este caso de ejemplo, los molinos y los años respectivos, así que como múltiples etiquetas que encodean tales niveles.\n",
    "\n",
    "Si reindexamos nuestra serie con este índice multinivel (mediante el método `reindex()`), veremos la representación jerárquica de nuestra data:"
   ]
  },
  {
   "cell_type": "code",
   "execution_count": 9,
   "id": "6ced0ab1",
   "metadata": {},
   "outputs": [
    {
     "data": {
      "text/plain": [
       "SAG 1  2019    150350\n",
       "       2020    156780\n",
       "SAG 2  2019    149187\n",
       "       2020    151223\n",
       "SAG 3  2019    159003\n",
       "       2020    157743\n",
       "dtype: int64"
      ]
     },
     "execution_count": 9,
     "metadata": {},
     "output_type": "execute_result"
    }
   ],
   "source": [
    "feed_ser = feed_ser.reindex(idx)\n",
    "feed_ser"
   ]
  },
  {
   "attachments": {},
   "cell_type": "markdown",
   "id": "8e68502c",
   "metadata": {},
   "source": [
    "En el ejemplo anterior, las primeras dos columnas de la serie muestran los múltiples valores que permiten la indexación respectiva, mientras que la tercera columna representan la data propiamente tal (que obtendriamos mediante el atributo `values`). Notemos además que hay registros faltantes (pero que no son `nan`) en la primera columna, lo cual es un recurso de los índices multinivel: Cualquier registro en blanco tienen el mismo valor que el inmediatamente superior.\n",
    "\n",
    "Ahora, para acceder a toda la data cuyo segundo índice sea 2020, podemos utilizar simplemente la notación de indexado de **Pandas**:"
   ]
  },
  {
   "cell_type": "code",
   "execution_count": 10,
   "id": "b50d63fe",
   "metadata": {},
   "outputs": [
    {
     "data": {
      "text/plain": [
       "SAG 1    156780\n",
       "SAG 2    151223\n",
       "SAG 3    157743\n",
       "dtype: int64"
      ]
     },
     "execution_count": 10,
     "metadata": {},
     "output_type": "execute_result"
    }
   ],
   "source": [
    "feed_ser[:, 2020]"
   ]
  },
  {
   "attachments": {},
   "cell_type": "markdown",
   "id": "4bfa1144",
   "metadata": {},
   "source": [
    "El resultado es un arreglo con índice simple, y únicamente con las llaves que son de nuestro interés. Este tipo de sintaxis es mucho más conveniente (y las operaciones resultan ser mucho más eficientes) que la sintaxis basada en tuplas construida de la forma rudimentaria presentada en un principio.\n",
    "\n",
    "## El índice multinivel como dimensión extra.\n",
    "Podríamos darnos cuenta de algo adicional en el ejemplo anterior: Podríamos haber construido un DataFrame que almacenara la misma data con las respectivas etiquetas en sus columnas. De hecho, **Pandas** está construido con esta equivalencia en consideración. El método `unstack()` (que ya habíamos visto en la sección anterior) es capaz de convertir rápidamente una serie multinivel en un DataFrame convencional:"
   ]
  },
  {
   "cell_type": "code",
   "execution_count": 11,
   "id": "8bdc1fe9",
   "metadata": {},
   "outputs": [
    {
     "data": {
      "text/html": [
       "<div>\n",
       "<style scoped>\n",
       "    .dataframe tbody tr th:only-of-type {\n",
       "        vertical-align: middle;\n",
       "    }\n",
       "\n",
       "    .dataframe tbody tr th {\n",
       "        vertical-align: top;\n",
       "    }\n",
       "\n",
       "    .dataframe thead th {\n",
       "        text-align: right;\n",
       "    }\n",
       "</style>\n",
       "<table border=\"1\" class=\"dataframe\">\n",
       "  <thead>\n",
       "    <tr style=\"text-align: right;\">\n",
       "      <th></th>\n",
       "      <th>2019</th>\n",
       "      <th>2020</th>\n",
       "    </tr>\n",
       "  </thead>\n",
       "  <tbody>\n",
       "    <tr>\n",
       "      <th>SAG 1</th>\n",
       "      <td>150350</td>\n",
       "      <td>156780</td>\n",
       "    </tr>\n",
       "    <tr>\n",
       "      <th>SAG 2</th>\n",
       "      <td>149187</td>\n",
       "      <td>151223</td>\n",
       "    </tr>\n",
       "    <tr>\n",
       "      <th>SAG 3</th>\n",
       "      <td>159003</td>\n",
       "      <td>157743</td>\n",
       "    </tr>\n",
       "  </tbody>\n",
       "</table>\n",
       "</div>"
      ],
      "text/plain": [
       "         2019    2020\n",
       "SAG 1  150350  156780\n",
       "SAG 2  149187  151223\n",
       "SAG 3  159003  157743"
      ]
     },
     "execution_count": 11,
     "metadata": {},
     "output_type": "execute_result"
    }
   ],
   "source": [
    "# Podemos desapilar una serie multinivel con el método unstack().\n",
    "feed_df = feed_ser.unstack()\n",
    "feed_df"
   ]
  },
  {
   "cell_type": "markdown",
   "id": "847bb862",
   "metadata": {},
   "source": [
    "Naturalmente, el método `stack()` nos permite lograr lo contrario: Construir una sere multinivel a partir de un DataFrame:"
   ]
  },
  {
   "cell_type": "code",
   "execution_count": 12,
   "id": "d70a877a",
   "metadata": {},
   "outputs": [
    {
     "data": {
      "text/plain": [
       "SAG 1  2019    150350\n",
       "       2020    156780\n",
       "SAG 2  2019    149187\n",
       "       2020    151223\n",
       "SAG 3  2019    159003\n",
       "       2020    157743\n",
       "dtype: int64"
      ]
     },
     "execution_count": 12,
     "metadata": {},
     "output_type": "execute_result"
    }
   ],
   "source": [
    "# Podemos apilar un DataFrame en una serie multinivel con el método stack():\n",
    "feed_df.stack()"
   ]
  },
  {
   "attachments": {},
   "cell_type": "markdown",
   "id": "51eaf2b5",
   "metadata": {},
   "source": [
    "Viendo lo anterior, cabe la posibilidad de preguntarnos.. *¿Por qué molestarnos con todo este tema del indexado jerárquico?* Y la respuesta es muy simple: De la misma forma que hemos sido capaces de utilizar índices múltiples para representar data bidimensional en una serie, podemos extender este procedimiento a dimensiones superiores (por ejemplo, data 4D en un DataFrame). Cada nivel adicional en un índice múltiple representa una dimensión extra de la data; tomar ventaja de esta propiedad nos da mucha más flexibilidad en los tipos de datos que podemos representar. Concretamente, podríamos querer adicionar una columna de data relativa a leyes de mineral y recuperación de cobre para cada uno de estos circuitos en cada año; con un índice multinivel, aquello es tan sencillo como agregar otra columna a un DataFrame:"
   ]
  },
  {
   "cell_type": "code",
   "execution_count": 13,
   "id": "0af7dde0",
   "metadata": {},
   "outputs": [],
   "source": [
    "# Construimos un DataFrame usando como base nuestra serie multinivel.\n",
    "feed_df = pd.DataFrame(\n",
    "    {\n",
    "        \"tratamiento\": feed_ser,\n",
    "        \"ley_cut\": np.array([0.56, 0.63, 0.49, 0.51, 0.55, 0.43]),\n",
    "        \"recup_cu\": np.array([90.3, 90.8, 91.4, 89.9, 90.3, 92.2])\n",
    "    }\n",
    ")"
   ]
  },
  {
   "cell_type": "code",
   "execution_count": 14,
   "id": "c18a5c43",
   "metadata": {},
   "outputs": [
    {
     "data": {
      "text/html": [
       "<div>\n",
       "<style scoped>\n",
       "    .dataframe tbody tr th:only-of-type {\n",
       "        vertical-align: middle;\n",
       "    }\n",
       "\n",
       "    .dataframe tbody tr th {\n",
       "        vertical-align: top;\n",
       "    }\n",
       "\n",
       "    .dataframe thead th {\n",
       "        text-align: right;\n",
       "    }\n",
       "</style>\n",
       "<table border=\"1\" class=\"dataframe\">\n",
       "  <thead>\n",
       "    <tr style=\"text-align: right;\">\n",
       "      <th></th>\n",
       "      <th></th>\n",
       "      <th>tratamiento</th>\n",
       "      <th>ley_cut</th>\n",
       "      <th>recup_cu</th>\n",
       "    </tr>\n",
       "  </thead>\n",
       "  <tbody>\n",
       "    <tr>\n",
       "      <th rowspan=\"2\" valign=\"top\">SAG 1</th>\n",
       "      <th>2019</th>\n",
       "      <td>150350</td>\n",
       "      <td>0.56</td>\n",
       "      <td>90.3</td>\n",
       "    </tr>\n",
       "    <tr>\n",
       "      <th>2020</th>\n",
       "      <td>156780</td>\n",
       "      <td>0.63</td>\n",
       "      <td>90.8</td>\n",
       "    </tr>\n",
       "    <tr>\n",
       "      <th rowspan=\"2\" valign=\"top\">SAG 2</th>\n",
       "      <th>2019</th>\n",
       "      <td>149187</td>\n",
       "      <td>0.49</td>\n",
       "      <td>91.4</td>\n",
       "    </tr>\n",
       "    <tr>\n",
       "      <th>2020</th>\n",
       "      <td>151223</td>\n",
       "      <td>0.51</td>\n",
       "      <td>89.9</td>\n",
       "    </tr>\n",
       "    <tr>\n",
       "      <th rowspan=\"2\" valign=\"top\">SAG 3</th>\n",
       "      <th>2019</th>\n",
       "      <td>159003</td>\n",
       "      <td>0.55</td>\n",
       "      <td>90.3</td>\n",
       "    </tr>\n",
       "    <tr>\n",
       "      <th>2020</th>\n",
       "      <td>157743</td>\n",
       "      <td>0.43</td>\n",
       "      <td>92.2</td>\n",
       "    </tr>\n",
       "  </tbody>\n",
       "</table>\n",
       "</div>"
      ],
      "text/plain": [
       "            tratamiento  ley_cut  recup_cu\n",
       "SAG 1 2019       150350     0.56      90.3\n",
       "      2020       156780     0.63      90.8\n",
       "SAG 2 2019       149187     0.49      91.4\n",
       "      2020       151223     0.51      89.9\n",
       "SAG 3 2019       159003     0.55      90.3\n",
       "      2020       157743     0.43      92.2"
      ]
     },
     "execution_count": 14,
     "metadata": {},
     "output_type": "execute_result"
    }
   ],
   "source": [
    "# Mostramos este DataFrame en pantalla.\n",
    "feed_df"
   ]
  },
  {
   "cell_type": "markdown",
   "id": "f8417a51",
   "metadata": {},
   "source": [
    "En adición a lo anterior, todas las `ufuncs` estudiadas previamente también funcionan perfectamente con objetos de **Pandas** con indexación multinivel. Por ejemplo, computemos el cobre fino extraído diario para cada uno de estos circuitos:"
   ]
  },
  {
   "cell_type": "code",
   "execution_count": 15,
   "id": "ab7ffaa7",
   "metadata": {},
   "outputs": [
    {
     "data": {
      "text/plain": [
       "SAG 1  2019    760.289880\n",
       "       2020    896.844312\n",
       "SAG 2  2019    668.148898\n",
       "       2020    693.342333\n",
       "SAG 3  2019    789.688400\n",
       "       2020    625.387898\n",
       "dtype: float64"
      ]
     },
     "execution_count": 15,
     "metadata": {},
     "output_type": "execute_result"
    }
   ],
   "source": [
    "cuf = feed_df[\"tratamiento\"] * (feed_df[\"ley_cut\"]/100) * (feed_df[\"recup_cu\"]/100)\n",
    "cuf"
   ]
  },
  {
   "cell_type": "code",
   "execution_count": 16,
   "id": "e9096689",
   "metadata": {},
   "outputs": [
    {
     "data": {
      "text/html": [
       "<div>\n",
       "<style scoped>\n",
       "    .dataframe tbody tr th:only-of-type {\n",
       "        vertical-align: middle;\n",
       "    }\n",
       "\n",
       "    .dataframe tbody tr th {\n",
       "        vertical-align: top;\n",
       "    }\n",
       "\n",
       "    .dataframe thead th {\n",
       "        text-align: right;\n",
       "    }\n",
       "</style>\n",
       "<table border=\"1\" class=\"dataframe\">\n",
       "  <thead>\n",
       "    <tr style=\"text-align: right;\">\n",
       "      <th></th>\n",
       "      <th>2019</th>\n",
       "      <th>2020</th>\n",
       "    </tr>\n",
       "  </thead>\n",
       "  <tbody>\n",
       "    <tr>\n",
       "      <th>SAG 1</th>\n",
       "      <td>760.289880</td>\n",
       "      <td>896.844312</td>\n",
       "    </tr>\n",
       "    <tr>\n",
       "      <th>SAG 2</th>\n",
       "      <td>668.148898</td>\n",
       "      <td>693.342333</td>\n",
       "    </tr>\n",
       "    <tr>\n",
       "      <th>SAG 3</th>\n",
       "      <td>789.688400</td>\n",
       "      <td>625.387898</td>\n",
       "    </tr>\n",
       "  </tbody>\n",
       "</table>\n",
       "</div>"
      ],
      "text/plain": [
       "             2019        2020\n",
       "SAG 1  760.289880  896.844312\n",
       "SAG 2  668.148898  693.342333\n",
       "SAG 3  789.688400  625.387898"
      ]
     },
     "execution_count": 16,
     "metadata": {},
     "output_type": "execute_result"
    }
   ],
   "source": [
    "cuf.unstack()"
   ]
  },
  {
   "cell_type": "markdown",
   "id": "ab76e7d2",
   "metadata": {},
   "source": [
    "## Métodos de creación de índices multinivel.\n",
    "La forma más directa de construir una serie o DataFame multinivel es simplemente pasar una lista de dos o más arreglos al constructor de índices respectivo. Por ejemplo: "
   ]
  },
  {
   "cell_type": "code",
   "execution_count": 17,
   "id": "f10b75d2",
   "metadata": {},
   "outputs": [],
   "source": [
    "df = pd.DataFrame(\n",
    "    data=np.random.rand(4, 2),\n",
    "    index=[['a', 'a', 'b', 'b'], [1, 2, 1, 2]],\n",
    "    columns=['x1', 'x2']\n",
    ")"
   ]
  },
  {
   "cell_type": "code",
   "execution_count": 18,
   "id": "ebcc68a4",
   "metadata": {},
   "outputs": [
    {
     "data": {
      "text/html": [
       "<div>\n",
       "<style scoped>\n",
       "    .dataframe tbody tr th:only-of-type {\n",
       "        vertical-align: middle;\n",
       "    }\n",
       "\n",
       "    .dataframe tbody tr th {\n",
       "        vertical-align: top;\n",
       "    }\n",
       "\n",
       "    .dataframe thead th {\n",
       "        text-align: right;\n",
       "    }\n",
       "</style>\n",
       "<table border=\"1\" class=\"dataframe\">\n",
       "  <thead>\n",
       "    <tr style=\"text-align: right;\">\n",
       "      <th></th>\n",
       "      <th></th>\n",
       "      <th>x1</th>\n",
       "      <th>x2</th>\n",
       "    </tr>\n",
       "  </thead>\n",
       "  <tbody>\n",
       "    <tr>\n",
       "      <th rowspan=\"2\" valign=\"top\">a</th>\n",
       "      <th>1</th>\n",
       "      <td>0.440159</td>\n",
       "      <td>0.362901</td>\n",
       "    </tr>\n",
       "    <tr>\n",
       "      <th>2</th>\n",
       "      <td>0.303541</td>\n",
       "      <td>0.042880</td>\n",
       "    </tr>\n",
       "    <tr>\n",
       "      <th rowspan=\"2\" valign=\"top\">b</th>\n",
       "      <th>1</th>\n",
       "      <td>0.525629</td>\n",
       "      <td>0.732826</td>\n",
       "    </tr>\n",
       "    <tr>\n",
       "      <th>2</th>\n",
       "      <td>0.895001</td>\n",
       "      <td>0.755538</td>\n",
       "    </tr>\n",
       "  </tbody>\n",
       "</table>\n",
       "</div>"
      ],
      "text/plain": [
       "           x1        x2\n",
       "a 1  0.440159  0.362901\n",
       "  2  0.303541  0.042880\n",
       "b 1  0.525629  0.732826\n",
       "  2  0.895001  0.755538"
      ]
     },
     "execution_count": 18,
     "metadata": {},
     "output_type": "execute_result"
    }
   ],
   "source": [
    "df"
   ]
  },
  {
   "attachments": {},
   "cell_type": "markdown",
   "id": "b2bd5f0c",
   "metadata": {},
   "source": [
    "Evidentemente, el trabajo de crear un objeto de tipo `pd.MultiIndex` en el ejemplo anterior es hecho *tras bambalinas*.\n",
    "\n",
    "Similarmente, si pasamos un diccionario con tuplas apropiadas como llaves, **Pandas** automáticamente reconocerá dicha estructura y creará un objeto de tipo `pd.MultiIndex` por defecto:"
   ]
  },
  {
   "cell_type": "code",
   "execution_count": 19,
   "id": "76ae6792",
   "metadata": {},
   "outputs": [],
   "source": [
    "# Construcción directa de una serie multinivel a partir de un diccionario con tuplas como llaves.\n",
    "data = {\n",
    "    (\"SAG 1\", 2019): 150350, \n",
    "    (\"SAG 1\", 2020): 156780,\n",
    "    (\"SAG 2\", 2019): 149187, \n",
    "    (\"SAG 2\", 2020): 151223,\n",
    "    (\"SAG 3\", 2019): 159003, \n",
    "    (\"SAG 3\", 2020): 157743,\n",
    "}"
   ]
  },
  {
   "cell_type": "code",
   "execution_count": 20,
   "id": "3e3e1820",
   "metadata": {},
   "outputs": [
    {
     "data": {
      "text/plain": [
       "SAG 1  2019    150350\n",
       "       2020    156780\n",
       "SAG 2  2019    149187\n",
       "       2020    151223\n",
       "SAG 3  2019    159003\n",
       "       2020    157743\n",
       "dtype: int64"
      ]
     },
     "execution_count": 20,
     "metadata": {},
     "output_type": "execute_result"
    }
   ],
   "source": [
    "pd.Series(data)"
   ]
  },
  {
   "attachments": {},
   "cell_type": "markdown",
   "id": "fead90c3",
   "metadata": {},
   "source": [
    "No obstante, a veces es útil crear explícitamente un objeto de tipo `pd.MultiIndex`; veremos algunos ejemplos de esto a continuación.\n",
    "\n",
    "### Constructores explícitos de índices multinivel.\n",
    "Para mayor flexibilidad a la hora de construir un índice multinivel, podemos utilizar los métodos constructores de clase disponibles en `pd.MultiIndex`. Por ejemplo, tal y como lo hicimos antes, podemos construir el índice multinivel a partir de una simple lista de arreglos que denotan los índices, explícitamente, en todo nivel:"
   ]
  },
  {
   "cell_type": "code",
   "execution_count": 21,
   "id": "06ceea49",
   "metadata": {},
   "outputs": [
    {
     "data": {
      "text/plain": [
       "MultiIndex([('a', 1),\n",
       "            ('a', 2),\n",
       "            ('b', 1),\n",
       "            ('b', 2)],\n",
       "           )"
      ]
     },
     "execution_count": 21,
     "metadata": {},
     "output_type": "execute_result"
    }
   ],
   "source": [
    "# Construcción de índice multinivel de forma explicita a partir de un par de arreglos.\n",
    "pd.MultiIndex.from_arrays([['a', 'a', 'b', 'b'], [1, 2, 1, 2]])"
   ]
  },
  {
   "cell_type": "markdown",
   "id": "036a1261",
   "metadata": {},
   "source": [
    "Podemos construirlo a partir de una lista de tuplas que nos dan los múltiples valores de los índices en cada punto:"
   ]
  },
  {
   "cell_type": "code",
   "execution_count": 22,
   "id": "4e20a42b",
   "metadata": {},
   "outputs": [
    {
     "data": {
      "text/plain": [
       "MultiIndex([('a', 1),\n",
       "            ('a', 2),\n",
       "            ('b', 1),\n",
       "            ('b', 2)],\n",
       "           )"
      ]
     },
     "execution_count": 22,
     "metadata": {},
     "output_type": "execute_result"
    }
   ],
   "source": [
    "pd.MultiIndex.from_tuples([('a', 1), ('a', 2), ('b', 1), ('b', 2)])"
   ]
  },
  {
   "cell_type": "markdown",
   "id": "5c7b0410",
   "metadata": {},
   "source": [
    "Y también podemos construirlo incluso a partir del producto cartesiano de dos listas, donde la primera de ellas conforma el primer nivel del índice, y así sucesivamente:"
   ]
  },
  {
   "cell_type": "code",
   "execution_count": 23,
   "id": "eaaff854",
   "metadata": {},
   "outputs": [
    {
     "data": {
      "text/plain": [
       "MultiIndex([('a', 1),\n",
       "            ('a', 2),\n",
       "            ('b', 1),\n",
       "            ('b', 2)],\n",
       "           )"
      ]
     },
     "execution_count": 23,
     "metadata": {},
     "output_type": "execute_result"
    }
   ],
   "source": [
    "pd.MultiIndex.from_product([['a', 'b'], [1, 2]])"
   ]
  },
  {
   "attachments": {},
   "cell_type": "markdown",
   "id": "373956ed",
   "metadata": {},
   "source": [
    "Cualquiera de los índices multinivel construidos previamente puede ser pasado al argumento `index` del constructor de cualquier serie o DataFrame, o ser pasado al método `reindex` para su correspondiente reindexación.\n",
    "\n",
    "### Nombres asociados a los niveles de un índice.\n",
    "A veces es conveniente cambiar los niveles de un índice múltiple. Aquello puede lograrse pasando el argumento `names` a cualquiera de los constructores previamente vistos, o bien, seteando el atributo `names` del índice a construir después de haber definido sus elementos generadores:"
   ]
  },
  {
   "cell_type": "code",
   "execution_count": 24,
   "id": "6ea5a94d",
   "metadata": {},
   "outputs": [
    {
     "data": {
      "text/html": [
       "<div>\n",
       "<style scoped>\n",
       "    .dataframe tbody tr th:only-of-type {\n",
       "        vertical-align: middle;\n",
       "    }\n",
       "\n",
       "    .dataframe tbody tr th {\n",
       "        vertical-align: top;\n",
       "    }\n",
       "\n",
       "    .dataframe thead th {\n",
       "        text-align: right;\n",
       "    }\n",
       "</style>\n",
       "<table border=\"1\" class=\"dataframe\">\n",
       "  <thead>\n",
       "    <tr style=\"text-align: right;\">\n",
       "      <th></th>\n",
       "      <th></th>\n",
       "      <th>x1</th>\n",
       "      <th>x2</th>\n",
       "    </tr>\n",
       "    <tr>\n",
       "      <th>nivel_1</th>\n",
       "      <th>nivel_2</th>\n",
       "      <th></th>\n",
       "      <th></th>\n",
       "    </tr>\n",
       "  </thead>\n",
       "  <tbody>\n",
       "    <tr>\n",
       "      <th rowspan=\"2\" valign=\"top\">a</th>\n",
       "      <th>1</th>\n",
       "      <td>0.440159</td>\n",
       "      <td>0.362901</td>\n",
       "    </tr>\n",
       "    <tr>\n",
       "      <th>2</th>\n",
       "      <td>0.303541</td>\n",
       "      <td>0.042880</td>\n",
       "    </tr>\n",
       "    <tr>\n",
       "      <th rowspan=\"2\" valign=\"top\">b</th>\n",
       "      <th>1</th>\n",
       "      <td>0.525629</td>\n",
       "      <td>0.732826</td>\n",
       "    </tr>\n",
       "    <tr>\n",
       "      <th>2</th>\n",
       "      <td>0.895001</td>\n",
       "      <td>0.755538</td>\n",
       "    </tr>\n",
       "  </tbody>\n",
       "</table>\n",
       "</div>"
      ],
      "text/plain": [
       "                       x1        x2\n",
       "nivel_1 nivel_2                    \n",
       "a       1        0.440159  0.362901\n",
       "        2        0.303541  0.042880\n",
       "b       1        0.525629  0.732826\n",
       "        2        0.895001  0.755538"
      ]
     },
     "execution_count": 24,
     "metadata": {},
     "output_type": "execute_result"
    }
   ],
   "source": [
    "# Cambio de nombres en un índice multinivel desde su atributo.\n",
    "df.index.names = [\"nivel_1\", \"nivel_2\"]\n",
    "df"
   ]
  },
  {
   "cell_type": "code",
   "execution_count": 25,
   "id": "a02e7e71",
   "metadata": {},
   "outputs": [
    {
     "data": {
      "text/plain": [
       "MultiIndex([('a', 1),\n",
       "            ('a', 2),\n",
       "            ('b', 1),\n",
       "            ('b', 2)],\n",
       "           names=['nivel_1', 'nivel_2'])"
      ]
     },
     "execution_count": 25,
     "metadata": {},
     "output_type": "execute_result"
    }
   ],
   "source": [
    "# Setting de nombres desde el constructor.\n",
    "pd.MultiIndex.from_product([['a', 'b'], [1, 2]], names=[\"nivel_1\", \"nivel_2\"])"
   ]
  },
  {
   "attachments": {},
   "cell_type": "markdown",
   "id": "15e29040",
   "metadata": {},
   "source": [
    "### Setting de índices multinivel para columnas.\n",
    "En un DataFrame, las filas y columnas son elementos conceptualmente simétricos, y de la misma forma que las filas pueden tener índices de múltiples niveles, las columnas también pueden hacerlo. Consideremos el ejemplo siguiente, el cual replica una tabla resumen relativa a los indicadores geotécnicos de un conjunto de taludes en una operación minera:"
   ]
  },
  {
   "cell_type": "code",
   "execution_count": 26,
   "id": "cfa97bfe",
   "metadata": {},
   "outputs": [],
   "source": [
    "# Índices y columnas multinivel\n",
    "idx = pd.MultiIndex.from_product([[2018, 2019], [\"sem_1\", \"sem_2\"]], names=[\"año\", \"semestre\"])\n",
    "col = pd.MultiIndex.from_product(\n",
    "    [[\"F10-B2445\", \"F10-B2680\", \"F11-B3210\"], [\"resist_corte\", \"prob_falla\"]],\n",
    "    names=[\"talud\", \"propiedad_geotecnica\"]\n",
    ")"
   ]
  },
  {
   "cell_type": "code",
   "execution_count": 27,
   "id": "3ace9232",
   "metadata": {},
   "outputs": [],
   "source": [
    "# Generamos la data.\n",
    "vals = np.array([\n",
    "    [32.3, 8.82, 29.1, 8.90, 29.2, 8.05],\n",
    "    [22.4, 10.12, 21.4, 10.20, 20.0, 10.92],\n",
    "    [20.9, 11.22, 21.2, 11.03, 11.6, 22.92],\n",
    "    [38.1, 7.56, 38.3, 7.02, 35.5, 6.78]\n",
    "])"
   ]
  },
  {
   "cell_type": "code",
   "execution_count": 28,
   "id": "8475e015",
   "metadata": {},
   "outputs": [],
   "source": [
    "# Unimos todo en un DataFrame.\n",
    "geot_data = pd.DataFrame(data=vals, index=idx, columns=col)"
   ]
  },
  {
   "cell_type": "code",
   "execution_count": 29,
   "id": "ed839928",
   "metadata": {},
   "outputs": [
    {
     "data": {
      "text/html": [
       "<div>\n",
       "<style scoped>\n",
       "    .dataframe tbody tr th:only-of-type {\n",
       "        vertical-align: middle;\n",
       "    }\n",
       "\n",
       "    .dataframe tbody tr th {\n",
       "        vertical-align: top;\n",
       "    }\n",
       "\n",
       "    .dataframe thead tr th {\n",
       "        text-align: left;\n",
       "    }\n",
       "\n",
       "    .dataframe thead tr:last-of-type th {\n",
       "        text-align: right;\n",
       "    }\n",
       "</style>\n",
       "<table border=\"1\" class=\"dataframe\">\n",
       "  <thead>\n",
       "    <tr>\n",
       "      <th></th>\n",
       "      <th>talud</th>\n",
       "      <th colspan=\"2\" halign=\"left\">F10-B2445</th>\n",
       "      <th colspan=\"2\" halign=\"left\">F10-B2680</th>\n",
       "      <th colspan=\"2\" halign=\"left\">F11-B3210</th>\n",
       "    </tr>\n",
       "    <tr>\n",
       "      <th></th>\n",
       "      <th>propiedad_geotecnica</th>\n",
       "      <th>resist_corte</th>\n",
       "      <th>prob_falla</th>\n",
       "      <th>resist_corte</th>\n",
       "      <th>prob_falla</th>\n",
       "      <th>resist_corte</th>\n",
       "      <th>prob_falla</th>\n",
       "    </tr>\n",
       "    <tr>\n",
       "      <th>año</th>\n",
       "      <th>semestre</th>\n",
       "      <th></th>\n",
       "      <th></th>\n",
       "      <th></th>\n",
       "      <th></th>\n",
       "      <th></th>\n",
       "      <th></th>\n",
       "    </tr>\n",
       "  </thead>\n",
       "  <tbody>\n",
       "    <tr>\n",
       "      <th rowspan=\"2\" valign=\"top\">2018</th>\n",
       "      <th>sem_1</th>\n",
       "      <td>32.3</td>\n",
       "      <td>8.82</td>\n",
       "      <td>29.1</td>\n",
       "      <td>8.90</td>\n",
       "      <td>29.2</td>\n",
       "      <td>8.05</td>\n",
       "    </tr>\n",
       "    <tr>\n",
       "      <th>sem_2</th>\n",
       "      <td>22.4</td>\n",
       "      <td>10.12</td>\n",
       "      <td>21.4</td>\n",
       "      <td>10.20</td>\n",
       "      <td>20.0</td>\n",
       "      <td>10.92</td>\n",
       "    </tr>\n",
       "    <tr>\n",
       "      <th rowspan=\"2\" valign=\"top\">2019</th>\n",
       "      <th>sem_1</th>\n",
       "      <td>20.9</td>\n",
       "      <td>11.22</td>\n",
       "      <td>21.2</td>\n",
       "      <td>11.03</td>\n",
       "      <td>11.6</td>\n",
       "      <td>22.92</td>\n",
       "    </tr>\n",
       "    <tr>\n",
       "      <th>sem_2</th>\n",
       "      <td>38.1</td>\n",
       "      <td>7.56</td>\n",
       "      <td>38.3</td>\n",
       "      <td>7.02</td>\n",
       "      <td>35.5</td>\n",
       "      <td>6.78</td>\n",
       "    </tr>\n",
       "  </tbody>\n",
       "</table>\n",
       "</div>"
      ],
      "text/plain": [
       "talud                   F10-B2445               F10-B2680             \\\n",
       "propiedad_geotecnica resist_corte prob_falla resist_corte prob_falla   \n",
       "año  semestre                                                          \n",
       "2018 sem_1                   32.3       8.82         29.1       8.90   \n",
       "     sem_2                   22.4      10.12         21.4      10.20   \n",
       "2019 sem_1                   20.9      11.22         21.2      11.03   \n",
       "     sem_2                   38.1       7.56         38.3       7.02   \n",
       "\n",
       "talud                   F11-B3210             \n",
       "propiedad_geotecnica resist_corte prob_falla  \n",
       "año  semestre                                 \n",
       "2018 sem_1                   29.2       8.05  \n",
       "     sem_2                   20.0      10.92  \n",
       "2019 sem_1                   11.6      22.92  \n",
       "     sem_2                   35.5       6.78  "
      ]
     },
     "execution_count": 29,
     "metadata": {},
     "output_type": "execute_result"
    }
   ],
   "source": [
    "# Mostramos nuestro DataFrame en pantalla.\n",
    "geot_data"
   ]
  },
  {
   "cell_type": "markdown",
   "id": "32562669",
   "metadata": {},
   "source": [
    "Aquí vemos que el indexado múltiple tanto para filas y columnas puede ser de extrema utilidad. La anterior es, fundamentalmente, data 4D, donde las dimensiones corresponden al talud correspondiente, la propiedad geotécnica medida, el año y el semestre en el cual se miden estos valores. Con esto en consideración, podemos, por ejemplo, indexar la columna de nivel superior conforme el nombre de cada talud y obtener un DataFrame completo que contenga sólo la información de ese talud:"
   ]
  },
  {
   "cell_type": "code",
   "execution_count": 30,
   "id": "00e680f4",
   "metadata": {},
   "outputs": [
    {
     "data": {
      "text/html": [
       "<div>\n",
       "<style scoped>\n",
       "    .dataframe tbody tr th:only-of-type {\n",
       "        vertical-align: middle;\n",
       "    }\n",
       "\n",
       "    .dataframe tbody tr th {\n",
       "        vertical-align: top;\n",
       "    }\n",
       "\n",
       "    .dataframe thead th {\n",
       "        text-align: right;\n",
       "    }\n",
       "</style>\n",
       "<table border=\"1\" class=\"dataframe\">\n",
       "  <thead>\n",
       "    <tr style=\"text-align: right;\">\n",
       "      <th></th>\n",
       "      <th>propiedad_geotecnica</th>\n",
       "      <th>resist_corte</th>\n",
       "      <th>prob_falla</th>\n",
       "    </tr>\n",
       "    <tr>\n",
       "      <th>año</th>\n",
       "      <th>semestre</th>\n",
       "      <th></th>\n",
       "      <th></th>\n",
       "    </tr>\n",
       "  </thead>\n",
       "  <tbody>\n",
       "    <tr>\n",
       "      <th rowspan=\"2\" valign=\"top\">2018</th>\n",
       "      <th>sem_1</th>\n",
       "      <td>29.1</td>\n",
       "      <td>8.90</td>\n",
       "    </tr>\n",
       "    <tr>\n",
       "      <th>sem_2</th>\n",
       "      <td>21.4</td>\n",
       "      <td>10.20</td>\n",
       "    </tr>\n",
       "    <tr>\n",
       "      <th rowspan=\"2\" valign=\"top\">2019</th>\n",
       "      <th>sem_1</th>\n",
       "      <td>21.2</td>\n",
       "      <td>11.03</td>\n",
       "    </tr>\n",
       "    <tr>\n",
       "      <th>sem_2</th>\n",
       "      <td>38.3</td>\n",
       "      <td>7.02</td>\n",
       "    </tr>\n",
       "  </tbody>\n",
       "</table>\n",
       "</div>"
      ],
      "text/plain": [
       "propiedad_geotecnica  resist_corte  prob_falla\n",
       "año  semestre                                 \n",
       "2018 sem_1                    29.1        8.90\n",
       "     sem_2                    21.4       10.20\n",
       "2019 sem_1                    21.2       11.03\n",
       "     sem_2                    38.3        7.02"
      ]
     },
     "execution_count": 30,
     "metadata": {},
     "output_type": "execute_result"
    }
   ],
   "source": [
    "geot_data[\"F10-B2680\"]"
   ]
  },
  {
   "attachments": {},
   "cell_type": "markdown",
   "id": "24cd174d",
   "metadata": {},
   "source": [
    "## Selección de datos en estructuras multinivel.\n",
    "El indexado y slicing en una estructura de **Pandas** con índices múltiples está diseñado para ser intuitivo, y es muy útil si pensamos en los índices como dimensiones agregadas. Estudiaremos primero el indexado en series múltiples, para continuar luego con los DataFrames.\n",
    "\n",
    "**a) Selección y slicing de data en series con multi-índices:** Consideremos la serie multinivel de alimentaciones a circuitos de molienda creada previamente:"
   ]
  },
  {
   "cell_type": "code",
   "execution_count": 31,
   "id": "eabc401d",
   "metadata": {},
   "outputs": [
    {
     "data": {
      "text/plain": [
       "SAG 1  2019    150350\n",
       "       2020    156780\n",
       "SAG 2  2019    149187\n",
       "       2020    151223\n",
       "SAG 3  2019    159003\n",
       "       2020    157743\n",
       "dtype: int64"
      ]
     },
     "execution_count": 31,
     "metadata": {},
     "output_type": "execute_result"
    }
   ],
   "source": [
    "# Nuestra serie multinivel.\n",
    "feed_ser"
   ]
  },
  {
   "cell_type": "markdown",
   "id": "58196fd4",
   "metadata": {},
   "source": [
    "Podemos acceder a valores únicos mediante la indexación de términos múltiples:"
   ]
  },
  {
   "cell_type": "code",
   "execution_count": 32,
   "id": "b2d92cd4",
   "metadata": {},
   "outputs": [
    {
     "data": {
      "text/plain": [
       "151223"
      ]
     },
     "execution_count": 32,
     "metadata": {},
     "output_type": "execute_result"
    }
   ],
   "source": [
    "# Selección directa de un único dato.\n",
    "feed_ser[\"SAG 2\", 2020]"
   ]
  },
  {
   "cell_type": "markdown",
   "id": "d995a67c",
   "metadata": {},
   "source": [
    "Los índices múltiples también soportan indexaciones parciales (o indexar un único nivel de la serie). El resultado de esto es otra serie con los índices de menor nivel preservados:"
   ]
  },
  {
   "cell_type": "code",
   "execution_count": 33,
   "id": "44605e23",
   "metadata": {},
   "outputs": [
    {
     "data": {
      "text/plain": [
       "2019    149187\n",
       "2020    151223\n",
       "dtype: int64"
      ]
     },
     "execution_count": 33,
     "metadata": {},
     "output_type": "execute_result"
    }
   ],
   "source": [
    "feed_ser[\"SAG 2\"]"
   ]
  },
  {
   "cell_type": "markdown",
   "id": "72ef3d8f",
   "metadata": {},
   "source": [
    "El *slicing parcial* también está disponible, siempre que el índice multinivel correspondiente esté ordenado:"
   ]
  },
  {
   "cell_type": "code",
   "execution_count": 34,
   "id": "a8cb5c74",
   "metadata": {},
   "outputs": [],
   "source": [
    "# Los índices ya están ordenados, pero igualmente aplicamos un ordenamiento.\n",
    "feed_ser.sort_index(ascending=True, inplace=True)"
   ]
  },
  {
   "cell_type": "code",
   "execution_count": 35,
   "id": "876a8523",
   "metadata": {},
   "outputs": [
    {
     "data": {
      "text/plain": [
       "SAG 1  2019    150350\n",
       "       2020    156780\n",
       "SAG 2  2019    149187\n",
       "       2020    151223\n",
       "dtype: int64"
      ]
     },
     "execution_count": 35,
     "metadata": {},
     "output_type": "execute_result"
    }
   ],
   "source": [
    "# Slicing parcial.\n",
    "feed_ser[\"SAG 1\":\"SAG 2\"]"
   ]
  },
  {
   "cell_type": "markdown",
   "id": "344dcf6e",
   "metadata": {},
   "source": [
    "Con índices ordenados, se puede realizar cualquier indexación parcial en niveles inferiores pasando un slice vacío en el primer nivel del índice:"
   ]
  },
  {
   "cell_type": "code",
   "execution_count": 36,
   "id": "5eeab88a",
   "metadata": {},
   "outputs": [
    {
     "data": {
      "text/plain": [
       "SAG 1    150350\n",
       "SAG 2    149187\n",
       "SAG 3    159003\n",
       "dtype: int64"
      ]
     },
     "execution_count": 36,
     "metadata": {},
     "output_type": "execute_result"
    }
   ],
   "source": [
    "# Selección de segundo nivel.\n",
    "feed_ser[:, 2019]"
   ]
  },
  {
   "attachments": {},
   "cell_type": "markdown",
   "id": "f9127218",
   "metadata": {},
   "source": [
    "Otros tipos de indexación y selección (como los vistos en DataFrames con índices simples) también funcionan igual de bien. Por ejemplo, para el caso de la selección basada en masking, podemos tener:"
   ]
  },
  {
   "cell_type": "code",
   "execution_count": 37,
   "id": "7e264315",
   "metadata": {},
   "outputs": [
    {
     "data": {
      "text/plain": [
       "SAG 1  2020    156780\n",
       "SAG 3  2019    159003\n",
       "       2020    157743\n",
       "dtype: int64"
      ]
     },
     "execution_count": 37,
     "metadata": {},
     "output_type": "execute_result"
    }
   ],
   "source": [
    "# Masking.\n",
    "feed_ser[feed_ser > 152000]"
   ]
  },
  {
   "cell_type": "markdown",
   "id": "ae2f92f2",
   "metadata": {},
   "source": [
    "Asimismo, también es posible seleccionar datos mediante fancy indexing:"
   ]
  },
  {
   "cell_type": "code",
   "execution_count": 38,
   "id": "a4887e0a",
   "metadata": {},
   "outputs": [
    {
     "data": {
      "text/plain": [
       "SAG 1  2019    150350\n",
       "       2020    156780\n",
       "SAG 3  2019    159003\n",
       "       2020    157743\n",
       "dtype: int64"
      ]
     },
     "execution_count": 38,
     "metadata": {},
     "output_type": "execute_result"
    }
   ],
   "source": [
    "feed_ser[[\"SAG 1\", \"SAG 3\"]]"
   ]
  },
  {
   "attachments": {},
   "cell_type": "markdown",
   "id": "977115ba",
   "metadata": {},
   "source": [
    "**b) Selección y slicing de data en DataFrames con multi-índices:** Un DataFrame con índices multinivel se comporta de la misma manera. Consideremos nuestro DataFrame `geot_data` construido previamente:"
   ]
  },
  {
   "cell_type": "code",
   "execution_count": 39,
   "id": "b1fe150a",
   "metadata": {},
   "outputs": [
    {
     "data": {
      "text/html": [
       "<div>\n",
       "<style scoped>\n",
       "    .dataframe tbody tr th:only-of-type {\n",
       "        vertical-align: middle;\n",
       "    }\n",
       "\n",
       "    .dataframe tbody tr th {\n",
       "        vertical-align: top;\n",
       "    }\n",
       "\n",
       "    .dataframe thead tr th {\n",
       "        text-align: left;\n",
       "    }\n",
       "\n",
       "    .dataframe thead tr:last-of-type th {\n",
       "        text-align: right;\n",
       "    }\n",
       "</style>\n",
       "<table border=\"1\" class=\"dataframe\">\n",
       "  <thead>\n",
       "    <tr>\n",
       "      <th></th>\n",
       "      <th>talud</th>\n",
       "      <th colspan=\"2\" halign=\"left\">F10-B2445</th>\n",
       "      <th colspan=\"2\" halign=\"left\">F10-B2680</th>\n",
       "      <th colspan=\"2\" halign=\"left\">F11-B3210</th>\n",
       "    </tr>\n",
       "    <tr>\n",
       "      <th></th>\n",
       "      <th>propiedad_geotecnica</th>\n",
       "      <th>resist_corte</th>\n",
       "      <th>prob_falla</th>\n",
       "      <th>resist_corte</th>\n",
       "      <th>prob_falla</th>\n",
       "      <th>resist_corte</th>\n",
       "      <th>prob_falla</th>\n",
       "    </tr>\n",
       "    <tr>\n",
       "      <th>año</th>\n",
       "      <th>semestre</th>\n",
       "      <th></th>\n",
       "      <th></th>\n",
       "      <th></th>\n",
       "      <th></th>\n",
       "      <th></th>\n",
       "      <th></th>\n",
       "    </tr>\n",
       "  </thead>\n",
       "  <tbody>\n",
       "    <tr>\n",
       "      <th rowspan=\"2\" valign=\"top\">2018</th>\n",
       "      <th>sem_1</th>\n",
       "      <td>32.3</td>\n",
       "      <td>8.82</td>\n",
       "      <td>29.1</td>\n",
       "      <td>8.90</td>\n",
       "      <td>29.2</td>\n",
       "      <td>8.05</td>\n",
       "    </tr>\n",
       "    <tr>\n",
       "      <th>sem_2</th>\n",
       "      <td>22.4</td>\n",
       "      <td>10.12</td>\n",
       "      <td>21.4</td>\n",
       "      <td>10.20</td>\n",
       "      <td>20.0</td>\n",
       "      <td>10.92</td>\n",
       "    </tr>\n",
       "    <tr>\n",
       "      <th rowspan=\"2\" valign=\"top\">2019</th>\n",
       "      <th>sem_1</th>\n",
       "      <td>20.9</td>\n",
       "      <td>11.22</td>\n",
       "      <td>21.2</td>\n",
       "      <td>11.03</td>\n",
       "      <td>11.6</td>\n",
       "      <td>22.92</td>\n",
       "    </tr>\n",
       "    <tr>\n",
       "      <th>sem_2</th>\n",
       "      <td>38.1</td>\n",
       "      <td>7.56</td>\n",
       "      <td>38.3</td>\n",
       "      <td>7.02</td>\n",
       "      <td>35.5</td>\n",
       "      <td>6.78</td>\n",
       "    </tr>\n",
       "  </tbody>\n",
       "</table>\n",
       "</div>"
      ],
      "text/plain": [
       "talud                   F10-B2445               F10-B2680             \\\n",
       "propiedad_geotecnica resist_corte prob_falla resist_corte prob_falla   \n",
       "año  semestre                                                          \n",
       "2018 sem_1                   32.3       8.82         29.1       8.90   \n",
       "     sem_2                   22.4      10.12         21.4      10.20   \n",
       "2019 sem_1                   20.9      11.22         21.2      11.03   \n",
       "     sem_2                   38.1       7.56         38.3       7.02   \n",
       "\n",
       "talud                   F11-B3210             \n",
       "propiedad_geotecnica resist_corte prob_falla  \n",
       "año  semestre                                 \n",
       "2018 sem_1                   29.2       8.05  \n",
       "     sem_2                   20.0      10.92  \n",
       "2019 sem_1                   11.6      22.92  \n",
       "     sem_2                   35.5       6.78  "
      ]
     },
     "execution_count": 39,
     "metadata": {},
     "output_type": "execute_result"
    }
   ],
   "source": [
    "geot_data"
   ]
  },
  {
   "attachments": {},
   "cell_type": "markdown",
   "id": "7b252421",
   "metadata": {},
   "source": [
    "Recordemos que las columnas corresponden al elemento de indexación primaria en un DataFrame, y que la sintaxis aplicada a series múltiplemente indexadas se aplica en este caso a los rótulos de columnas. Por ejemplo, podemos recuperar la data del talud `F11-B3210`, relativa a su probabilidad de falla (en %) con una operación muy sencilla:"
   ]
  },
  {
   "cell_type": "code",
   "execution_count": 40,
   "id": "15382ec3",
   "metadata": {},
   "outputs": [
    {
     "data": {
      "text/plain": [
       "año   semestre\n",
       "2018  sem_1        8.05\n",
       "      sem_2       10.92\n",
       "2019  sem_1       22.92\n",
       "      sem_2        6.78\n",
       "Name: (F11-B3210, prob_falla), dtype: float64"
      ]
     },
     "execution_count": 40,
     "metadata": {},
     "output_type": "execute_result"
    }
   ],
   "source": [
    "geot_data[\"F11-B3210\", \"prob_falla\"]"
   ]
  },
  {
   "cell_type": "markdown",
   "id": "62d38f56",
   "metadata": {},
   "source": [
    "Es posible igualmente el hacer uso de métodos indexadores como `loc[]` y `iloc[]`:"
   ]
  },
  {
   "cell_type": "code",
   "execution_count": 41,
   "id": "6fe897f9",
   "metadata": {},
   "outputs": [
    {
     "data": {
      "text/html": [
       "<div>\n",
       "<style scoped>\n",
       "    .dataframe tbody tr th:only-of-type {\n",
       "        vertical-align: middle;\n",
       "    }\n",
       "\n",
       "    .dataframe tbody tr th {\n",
       "        vertical-align: top;\n",
       "    }\n",
       "\n",
       "    .dataframe thead tr th {\n",
       "        text-align: left;\n",
       "    }\n",
       "\n",
       "    .dataframe thead tr:last-of-type th {\n",
       "        text-align: right;\n",
       "    }\n",
       "</style>\n",
       "<table border=\"1\" class=\"dataframe\">\n",
       "  <thead>\n",
       "    <tr>\n",
       "      <th></th>\n",
       "      <th>talud</th>\n",
       "      <th colspan=\"2\" halign=\"left\">F10-B2445</th>\n",
       "    </tr>\n",
       "    <tr>\n",
       "      <th></th>\n",
       "      <th>propiedad_geotecnica</th>\n",
       "      <th>resist_corte</th>\n",
       "      <th>prob_falla</th>\n",
       "    </tr>\n",
       "    <tr>\n",
       "      <th>año</th>\n",
       "      <th>semestre</th>\n",
       "      <th></th>\n",
       "      <th></th>\n",
       "    </tr>\n",
       "  </thead>\n",
       "  <tbody>\n",
       "    <tr>\n",
       "      <th rowspan=\"2\" valign=\"top\">2018</th>\n",
       "      <th>sem_1</th>\n",
       "      <td>32.3</td>\n",
       "      <td>8.82</td>\n",
       "    </tr>\n",
       "    <tr>\n",
       "      <th>sem_2</th>\n",
       "      <td>22.4</td>\n",
       "      <td>10.12</td>\n",
       "    </tr>\n",
       "  </tbody>\n",
       "</table>\n",
       "</div>"
      ],
      "text/plain": [
       "talud                   F10-B2445           \n",
       "propiedad_geotecnica resist_corte prob_falla\n",
       "año  semestre                               \n",
       "2018 sem_1                   32.3       8.82\n",
       "     sem_2                   22.4      10.12"
      ]
     },
     "execution_count": 41,
     "metadata": {},
     "output_type": "execute_result"
    }
   ],
   "source": [
    "geot_data.iloc[:2, :2]"
   ]
  },
  {
   "cell_type": "markdown",
   "id": "f4402741",
   "metadata": {},
   "source": [
    "Estos indexadores proveen una vista de tipo arreglo de la data bidimensional subyacente, pero cada índice individual en `loc[]` y `iloc[]` puede ser pasado como una tupla de índices múltiples. Por ejemplo:"
   ]
  },
  {
   "cell_type": "code",
   "execution_count": 42,
   "id": "75b2d8ec",
   "metadata": {},
   "outputs": [
    {
     "data": {
      "text/plain": [
       "año   semestre\n",
       "2018  sem_1       29.1\n",
       "      sem_2       21.4\n",
       "2019  sem_1       21.2\n",
       "      sem_2       38.3\n",
       "Name: (F10-B2680, resist_corte), dtype: float64"
      ]
     },
     "execution_count": 42,
     "metadata": {},
     "output_type": "execute_result"
    }
   ],
   "source": [
    "geot_data.loc[:, (\"F10-B2680\", \"resist_corte\")]"
   ]
  },
  {
   "attachments": {},
   "cell_type": "markdown",
   "id": "e5a72510",
   "metadata": {},
   "source": [
    "## Agregaciones en data multinivel.\n",
    "Hemos visto previamente que **Pandas** nos provee con métodos nativos de agregación de datos, tales como `mean()`, `sum()` y `max()`. Para data multinivel, es posible replicar los métodos de cálculo aprendidos en términos de agregación mediante el control del parámetro `level`. Por ejemplo, retornemos a nuestro DataFrame `geot_data`. Quizás nos gustaría obtener la media de las mediciones por año y cada talud. Podemos hacer esto simplemente nombrando el nivel del índice respectivo que deseamos explorar (que, en este caso, es el año), usando para ello el método `groupby()`:"
   ]
  },
  {
   "cell_type": "code",
   "execution_count": 43,
   "id": "920f934f",
   "metadata": {},
   "outputs": [
    {
     "data": {
      "text/html": [
       "<div>\n",
       "<style scoped>\n",
       "    .dataframe tbody tr th:only-of-type {\n",
       "        vertical-align: middle;\n",
       "    }\n",
       "\n",
       "    .dataframe tbody tr th {\n",
       "        vertical-align: top;\n",
       "    }\n",
       "\n",
       "    .dataframe thead tr th {\n",
       "        text-align: left;\n",
       "    }\n",
       "\n",
       "    .dataframe thead tr:last-of-type th {\n",
       "        text-align: right;\n",
       "    }\n",
       "</style>\n",
       "<table border=\"1\" class=\"dataframe\">\n",
       "  <thead>\n",
       "    <tr>\n",
       "      <th>talud</th>\n",
       "      <th colspan=\"2\" halign=\"left\">F10-B2445</th>\n",
       "      <th colspan=\"2\" halign=\"left\">F10-B2680</th>\n",
       "      <th colspan=\"2\" halign=\"left\">F11-B3210</th>\n",
       "    </tr>\n",
       "    <tr>\n",
       "      <th>propiedad_geotecnica</th>\n",
       "      <th>resist_corte</th>\n",
       "      <th>prob_falla</th>\n",
       "      <th>resist_corte</th>\n",
       "      <th>prob_falla</th>\n",
       "      <th>resist_corte</th>\n",
       "      <th>prob_falla</th>\n",
       "    </tr>\n",
       "    <tr>\n",
       "      <th>año</th>\n",
       "      <th></th>\n",
       "      <th></th>\n",
       "      <th></th>\n",
       "      <th></th>\n",
       "      <th></th>\n",
       "      <th></th>\n",
       "    </tr>\n",
       "  </thead>\n",
       "  <tbody>\n",
       "    <tr>\n",
       "      <th>2018</th>\n",
       "      <td>27.35</td>\n",
       "      <td>9.47</td>\n",
       "      <td>25.25</td>\n",
       "      <td>9.550</td>\n",
       "      <td>24.60</td>\n",
       "      <td>9.485</td>\n",
       "    </tr>\n",
       "    <tr>\n",
       "      <th>2019</th>\n",
       "      <td>29.50</td>\n",
       "      <td>9.39</td>\n",
       "      <td>29.75</td>\n",
       "      <td>9.025</td>\n",
       "      <td>23.55</td>\n",
       "      <td>14.850</td>\n",
       "    </tr>\n",
       "  </tbody>\n",
       "</table>\n",
       "</div>"
      ],
      "text/plain": [
       "talud                   F10-B2445               F10-B2680             \\\n",
       "propiedad_geotecnica resist_corte prob_falla resist_corte prob_falla   \n",
       "año                                                                    \n",
       "2018                        27.35       9.47        25.25      9.550   \n",
       "2019                        29.50       9.39        29.75      9.025   \n",
       "\n",
       "talud                   F11-B3210             \n",
       "propiedad_geotecnica resist_corte prob_falla  \n",
       "año                                           \n",
       "2018                        24.60      9.485  \n",
       "2019                        23.55     14.850  "
      ]
     },
     "execution_count": 43,
     "metadata": {},
     "output_type": "execute_result"
    }
   ],
   "source": [
    "data_mean = geot_data.groupby(level='año').mean()\n",
    "data_mean"
   ]
  },
  {
   "cell_type": "markdown",
   "id": "aebc388a",
   "metadata": {},
   "source": [
    "Haciendo uso del argumento `axis` en `groupby()`, podemos además calcular la media conforme de las niveles de las columnas:"
   ]
  },
  {
   "cell_type": "code",
   "execution_count": 44,
   "id": "b205529a",
   "metadata": {},
   "outputs": [
    {
     "data": {
      "text/html": [
       "<div>\n",
       "<style scoped>\n",
       "    .dataframe tbody tr th:only-of-type {\n",
       "        vertical-align: middle;\n",
       "    }\n",
       "\n",
       "    .dataframe tbody tr th {\n",
       "        vertical-align: top;\n",
       "    }\n",
       "\n",
       "    .dataframe thead th {\n",
       "        text-align: right;\n",
       "    }\n",
       "</style>\n",
       "<table border=\"1\" class=\"dataframe\">\n",
       "  <thead>\n",
       "    <tr style=\"text-align: right;\">\n",
       "      <th>talud</th>\n",
       "      <th>F10-B2445</th>\n",
       "      <th>F10-B2680</th>\n",
       "      <th>F11-B3210</th>\n",
       "    </tr>\n",
       "    <tr>\n",
       "      <th>año</th>\n",
       "      <th></th>\n",
       "      <th></th>\n",
       "      <th></th>\n",
       "    </tr>\n",
       "  </thead>\n",
       "  <tbody>\n",
       "    <tr>\n",
       "      <th>2018</th>\n",
       "      <td>18.410</td>\n",
       "      <td>17.4000</td>\n",
       "      <td>17.0425</td>\n",
       "    </tr>\n",
       "    <tr>\n",
       "      <th>2019</th>\n",
       "      <td>19.445</td>\n",
       "      <td>19.3875</td>\n",
       "      <td>19.2000</td>\n",
       "    </tr>\n",
       "  </tbody>\n",
       "</table>\n",
       "</div>"
      ],
      "text/plain": [
       "talud  F10-B2445  F10-B2680  F11-B3210\n",
       "año                                   \n",
       "2018      18.410    17.4000    17.0425\n",
       "2019      19.445    19.3875    19.2000"
      ]
     },
     "execution_count": 44,
     "metadata": {},
     "output_type": "execute_result"
    }
   ],
   "source": [
    "data_mean.groupby(level=\"talud\", axis=1).mean()"
   ]
  },
  {
   "cell_type": "markdown",
   "id": "20b41543",
   "metadata": {},
   "source": [
    "## Comentarios finales.\n",
    "La incorporación de series y DataFrames multinivel en nuestra caja de herramientas nos permite construir todo tipo de estructuras jerárquicamente indexadas en **Pandas**, preservando todos los esquemas de selección de datos que hemos aprendido para el caso de índices simples. En la próxima sección, revisaremos un tópico importante relativo al análisis de datos mediante este tipo de estructuras, y que guarda relación con la combinación de series y DataFrames. Si bien existen esquemas de combinación sencillos como los que aprendimos para la unión de arreglos de **Numpy**, **Pandas** nos ofrece opciones de ajuste de estas combinaciones que emulan mucho de lo que ocurre en la teoría de conjuntos. Puntualmente, veremos operaciones muy similares a la unión, intersección y diferencia simétrica de este tipo de objetos matemáticos, pero aplicados a series y DataFrames."
   ]
  }
 ],
 "metadata": {
  "kernelspec": {
   "display_name": "Python 3 (ipykernel)",
   "language": "python",
   "name": "python3"
  },
  "language_info": {
   "codemirror_mode": {
    "name": "ipython",
    "version": 3
   },
   "file_extension": ".py",
   "mimetype": "text/x-python",
   "name": "python",
   "nbconvert_exporter": "python",
   "pygments_lexer": "ipython3",
   "version": "3.9.7"
  }
 },
 "nbformat": 4,
 "nbformat_minor": 5
}
