{
 "cells": [
  {
   "cell_type": "markdown",
   "id": "73570dba",
   "metadata": {},
   "source": [
    "# CLASE 5.1: UNA INTRODUCCIÓN A LA LIBRERÍA <font color=\"mediumorchid\">POLARS</font>.\n",
    "---\n",
    "\n",
    "## Introducción.\n",
    "En las primeras dos secciones de la asignatura, nos embarcamos en un viaje cuyo objetivo era aprender a hacer un análisis de datos eficiente, eficaz y efectivo utilizando el lenguaje de programación Python. Para ello, nos abocamos a aprender en detalle el manejo de estructuras de datos en formato de arreglos y DataFrames mediante el uso de las librerías **<font color=\"mediumorchid\">Numpy</font>** y **<font color=\"mediumorchid\">Pandas</font>**. La combinación de estas librerías nos ha permitido construir una base sólida para la manipulación correcta de datos estructurados sin necesitar mayores ayudas de otras librerías en un especto de uso común, prescindiendo de gráficos de demasiada complejidad o análisis muy avanzados.\n",
    "\n",
    "No obstante lo anterior, en esta sección retomaremos el tema relativo al análisis de datos estructurados, aprendiendo en esta ocasión el uso de una librería más bien nueva en el mundo de Python, llamada **<font color=\"mediumorchid\">Polars</font>**, y cuyo objetivo se define en su [documentación](https://pola-rs.github.io/polars-book/user-guide/) como el *proveernos de una librería \"extremadamente rápida\" para el manejo de DataFrames*, y que cumpla con:\n",
    "\n",
    "- Aprovechar la potencia de todos los nucles de procesamiento en nuestro computador.\n",
    "- Optimizar consultas (queries) de datos a fin de reducir las localizaciones de memoria innecesarias.\n",
    "- Manipular datasets de mayor tamaño que el disponible en nuestra memoria RAM.\n",
    "- Disponer de una interfaz consistente y de fácil uso.\n",
    "- Tener un esquema estricto que requiera que conozcamos los tipos de datos antes de ejecutar consultas.\n",
    "\n",
    "**<font color=\"mediumorchid\">Polars</font>** es una librería escrita en el lenguaje de programación Rust, conocido por su alta rapidez de desempeño, comparable a lenguajes de gran poder como C y C++. Además, se trata de una librería que nos entrega control completo algunas partes críticas de un *motor de queries* relativas al desempeño de las consultas y, por consiguiente, de su tiempo de ejecución.\n",
    "\n",
    "La razón principal por la cual aprenderemos a utilizar **<font color=\"mediumorchid\">Polars</font>** es, por tanto, su fantástica capacidad de manejar DataFrames extreamdamente grandes sin tiempos de ejecución exageradamente grandes. Esto no es casual, ya que como vimos previamente, **<font color=\"mediumorchid\">Pandas</font>** tiene algunos problemas de rendimiento que escalan con el tamaño de los DataFrames que queremos manipular y, además, tiene la *mala constumbre* de llevarse pésimo con quienes deseen paralelizar su trabajo en distintos núcles de un procesador. Por esta razón, haremos el esfuerzo de aprender *casi* lo mismo que aprendimos en **<font color=\"mediumorchid\">Pandas</font>** usando **<font color=\"mediumorchid\">Polars</font>**, con las correspondientes comparaciones, aprovechando que, como en **<font color=\"mediumorchid\">Pandas</font>**, el objeto que más nos va a interesar manipular en **<font color=\"mediumorchid\">Polars</font>** es precisamente el `DataFrame`.\n",
    "\n",
    "**<font color=\"mediumorchid\">Polars</font>** puede instalarse fácilmente desde el índice de paquetes de Python usando la instrucción\n",
    "\n",
    "    pip install polars\n",
    "\n",
    "Y, en adelante, cada vez que importemos **<font color=\"mediumorchid\">Polars</font>** para su uso, lo haremos mediante el alias `pl`. También importaremos **<font color=\"mediumorchid\">Pandas</font>**, a fin de hacer algunas comparaciones en tiempos de ejecución, y **<font color=\"mediumorchid\">Numpy</font>**, para inicializar estructuras desde cero con valores aleatorizados. Finalmente, usaremos la implementación existente de Arrow en Python conocida como **<font color=\"mediumorchid\">PyArrow</font>**, y que nos permitirá hacer cambios de formato en las estructuras de datos de **<font color=\"mediumorchid\">Polars</font>** a otros más familiares, incluso series y DataFrames de **<font color=\"mediumorchid\">Pandas</font>**. Para ello, instalaremos esta librería desde el índice de paquetes de Python como sigue:\n",
    "\n",
    "    pip install pyarrow\n",
    "\n",
    "Y ya podemos comenzar a hacer las correspondientes importaciones:"
   ]
  },
  {
   "cell_type": "code",
   "execution_count": 1,
   "id": "b2256323",
   "metadata": {},
   "outputs": [],
   "source": [
    "import numpy as np\n",
    "import pandas as pd\n",
    "import polars as pl"
   ]
  },
  {
   "cell_type": "markdown",
   "id": "ea707a5f",
   "metadata": {},
   "source": [
    "## Tipos de datos en **<font color=\"mediumorchid\">Polars</font>**.\n",
    "**<font color=\"mediumorchid\">Polars</font>**, a diferencia de las versiones antiguas de **<font color=\"mediumorchid\">Pandas</font>** (anteriores a la 2.0.0), hace uso de tipos de datos que son propios de un framework conocido como **Apache Arrow**, y que corresponde a su vez a una plataforma de desarrollo para el desarrollo de procesos de analítica en la memoria de nuestro computador de forma *ultra-rápida*. Esto permite que el procesamiento de datos en **<font color=\"mediumorchid\">Polars</font>** sea extremadamente eficiente, aunque mayormente orientado a datos numéricos.\n",
    "\n",
    "La Tabla (1.1) detalla algunos de los tipos de datos propios de <font color=\"mediumorchid\">Polars</font>.\n",
    "\n",
    "</p> <p style=\"text-align: center;\">Tabla (1.1): Tipos de datos usados por <font color=\"mediumorchid\">Polars</font> (la mayoría heredados de Arrow)</p>\n",
    "\n",
    "| Grupo | Tipo | Comentarios |\n",
    "| :---- | :--- | :---------- |\n",
    "| Datos numéricos | `Int8` | Entero de precisión 8 bits. |\n",
    "| Datos numéricos | `Int16` | Entero de precisión 16 bits. |\n",
    "| Datos numéricos | `Int32` | Entero de precisión 32 bits. |\n",
    "| Datos numéricos | `Int64` | Entero de precisión 64 bits. |\n",
    "| Datos numéricos | `Float32` | Número de punto flotante de precisión 32 bits. |\n",
    "| Datos numéricos | `Float64` | Número de punto flotante de precisión 64 bits. |\n",
    "| Datos anidados  | `Struct` | Un arreglo de tipo `Struct` se representa por medio de un objetio de tipo `Vec<Series>` y es útil para empaquetar múltiples valores (en general, heterogéneos) |\n",
    "| Datos anidados  | `List` | Un arreglo de tipo `List` contiene un *arreglo hijo* que contiene los valores de la lista correspondiente. |\n",
    "| Datos de tiempo | `Date` | Representación de una fecha que, tras bambalinas, se encodea como un entero con precisión de 32 bits. Está limitada a representar días como mínima únidad de tiempo. |\n",
    "| Datos de tiempo | `Datetime` | Representación de una fecha que, tras bambalinas, se encodea como un entero con precisión de 64 bits. Es capaz de representar microsegundos como mínima únidad de tiempo. |\n",
    "| Otros | `Boolean` | Valores Booleanos, representados efectivamente como un bit. |\n",
    "| Otros | `Utf8` | Data de tipo string. |\n",
    "| Otros | `Binary` | Data almacenada como bytes. |\n",
    "| Otros | `Object` | Un tipo de dato con soporte limitado que puede representar virtualmente *cualquier cosa*. |\n",
    "| Otros | `Categorical` | Un conjunto de strings codificados como valores categóricos (comúnmente ordinales). |\n",
    "\n"
   ]
  },
  {
   "cell_type": "markdown",
   "id": "6e0b2faf",
   "metadata": {},
   "source": [
    "## Series.\n",
    "De la misma forma que ocurre en **<font color=\"mediumorchid\">Pandas</font>**, una serie de **<font color=\"mediumorchid\">Polars</font>** se define como un arreglo unidimensional que permite almacenar datos en un número arbitrario de observaciones, con ventajas más o menos similares a las que existen al comparar series de **<font color=\"mediumorchid\">Pandas</font>** con arreglos unidimensionales de **<font color=\"mediumorchid\">Numpy</font>**. Correspondientemente, una serie de **<font color=\"mediumorchid\">Polars</font>** puede crearse desde cero utilizando la clase `pl.Series`, necesitándose para ello un único parámetro obligatorio llamado `values`, y que permiter definir los valores almacenados en la serie:"
   ]
  },
  {
   "cell_type": "code",
   "execution_count": 2,
   "id": "69be0f10",
   "metadata": {},
   "outputs": [],
   "source": [
    "# Creamos una serie desde cero en Polars.\n",
    "data = pl.Series(values=[0.25, 0.50, 0.75, 1.00])"
   ]
  },
  {
   "cell_type": "code",
   "execution_count": 3,
   "id": "cafe88da",
   "metadata": {},
   "outputs": [
    {
     "data": {
      "text/html": [
       "<div><style>\n",
       ".dataframe > thead > tr > th,\n",
       ".dataframe > tbody > tr > td {\n",
       "  text-align: right;\n",
       "}\n",
       "</style>\n",
       "<small>shape: (4,)</small><table border=\"1\" class=\"dataframe\"><thead><tr><th></th></tr><tr><td>f64</td></tr></thead><tbody><tr><td>0.25</td></tr><tr><td>0.5</td></tr><tr><td>0.75</td></tr><tr><td>1.0</td></tr></tbody></table></div>"
      ],
      "text/plain": [
       "shape: (4,)\n",
       "Series: '' [f64]\n",
       "[\n",
       "\t0.25\n",
       "\t0.5\n",
       "\t0.75\n",
       "\t1.0\n",
       "]"
      ]
     },
     "execution_count": 3,
     "metadata": {},
     "output_type": "execute_result"
    }
   ],
   "source": [
    "# Mostramos la serie en pantalla.\n",
    "data"
   ]
  },
  {
   "cell_type": "markdown",
   "id": "5493b758",
   "metadata": {},
   "source": [
    "Notemos que, al imprimir una serie de **<font color=\"mediumorchid\">Polars</font>**, la primera información de despoliega en la salida de nuestro código corresponde a la geometría de la misma, y que se observa directamente en el código anterior como `shape: (4,)`. Además, la impresión en pantalla tiene exactamente el mismo formato de **<font color=\"mediumorchid\">IPython</font>** usado para mostrar DataFrames de **<font color=\"mediumorchid\">Pandas</font>**, siendo el tipo de dato asociado a esta serie `f64`, y que se infiere por Python a partir de la data almacenada en la misma. Dicho tipo de dato puede consultarse por medio del atributo `dtype`:"
   ]
  },
  {
   "cell_type": "code",
   "execution_count": 4,
   "id": "deac3f6b",
   "metadata": {},
   "outputs": [
    {
     "data": {
      "text/plain": [
       "Float64"
      ]
     },
     "execution_count": 4,
     "metadata": {},
     "output_type": "execute_result"
    }
   ],
   "source": [
    "# Tipo de dato asociado a la serie.\n",
    "data.dtype"
   ]
  },
  {
   "cell_type": "markdown",
   "id": "72ca4a2b",
   "metadata": {},
   "source": [
    "Como ocurre en las series de **<font color=\"mediumorchid\">Pandas</font>**, es posible *bautizar* una serie usando el atributo `name`:"
   ]
  },
  {
   "cell_type": "code",
   "execution_count": 5,
   "id": "aacb21b6",
   "metadata": {},
   "outputs": [],
   "source": [
    "# Nombre de la serie.\n",
    "data = pl.Series(values=[0.25, 0.50, 0.75, 1.00], name=\"series_name\")"
   ]
  },
  {
   "cell_type": "code",
   "execution_count": 6,
   "id": "29ac3b52",
   "metadata": {},
   "outputs": [
    {
     "data": {
      "text/html": [
       "<div><style>\n",
       ".dataframe > thead > tr > th,\n",
       ".dataframe > tbody > tr > td {\n",
       "  text-align: right;\n",
       "}\n",
       "</style>\n",
       "<small>shape: (4,)</small><table border=\"1\" class=\"dataframe\"><thead><tr><th>series_name</th></tr><tr><td>f64</td></tr></thead><tbody><tr><td>0.25</td></tr><tr><td>0.5</td></tr><tr><td>0.75</td></tr><tr><td>1.0</td></tr></tbody></table></div>"
      ],
      "text/plain": [
       "shape: (4,)\n",
       "Series: 'series_name' [f64]\n",
       "[\n",
       "\t0.25\n",
       "\t0.5\n",
       "\t0.75\n",
       "\t1.0\n",
       "]"
      ]
     },
     "execution_count": 6,
     "metadata": {},
     "output_type": "execute_result"
    }
   ],
   "source": [
    "# Mostramos la serie en pantalla.\n",
    "data"
   ]
  },
  {
   "cell_type": "markdown",
   "id": "b209fa72",
   "metadata": {},
   "source": [
    "Pero, a diferencia de las series de **<font color=\"mediumorchid\">Pandas</font>**, no es posible cambiar este nombre mediante una asignación directa a partir del atributo `name` de la serie de **<font color=\"mediumorchid\">Polars</font>**. De esta manera, el atributo `name` solamente nos servirá para chequear el nombre de la serie, no cambiarlo:"
   ]
  },
  {
   "cell_type": "code",
   "execution_count": 7,
   "id": "0e88153e",
   "metadata": {},
   "outputs": [
    {
     "data": {
      "text/plain": [
       "'series_name'"
      ]
     },
     "execution_count": 7,
     "metadata": {},
     "output_type": "execute_result"
    }
   ],
   "source": [
    "# Chequeamos el nombre de la serie.\n",
    "data.name"
   ]
  },
  {
   "cell_type": "code",
   "execution_count": 8,
   "id": "f719a14e",
   "metadata": {},
   "outputs": [
    {
     "name": "stdout",
     "output_type": "stream",
     "text": [
      "can't set attribute\n"
     ]
    }
   ],
   "source": [
    "# Si intentamos cambiar este nombre vía asignación, esto dará como resultado un error.\n",
    "try:\n",
    "    data.name = \"asdf\"\n",
    "except AttributeError as e:\n",
    "    print(e)"
   ]
  },
  {
   "cell_type": "markdown",
   "id": "92aafe0d",
   "metadata": {},
   "source": [
    "Para cambiar el nombre asociado a una serie, basta con usar el método `rename()`:"
   ]
  },
  {
   "cell_type": "code",
   "execution_count": 9,
   "id": "7df98a63",
   "metadata": {},
   "outputs": [
    {
     "name": "stderr",
     "output_type": "stream",
     "text": [
      "/var/folders/sn/hlgjzv2n1537dplx8bvvj1c80000gn/T/ipykernel_33204/3089101168.py:2: DeprecationWarning: the `in_place` parameter is deprecated and will be removed in a future version; note that renaming is a shallow-copy operation with essentially zero cost.\n",
      "  data.rename(\"asdf\", in_place=True)\n"
     ]
    },
    {
     "data": {
      "text/html": [
       "<div><style>\n",
       ".dataframe > thead > tr > th,\n",
       ".dataframe > tbody > tr > td {\n",
       "  text-align: right;\n",
       "}\n",
       "</style>\n",
       "<small>shape: (4,)</small><table border=\"1\" class=\"dataframe\"><thead><tr><th>asdf</th></tr><tr><td>f64</td></tr></thead><tbody><tr><td>0.25</td></tr><tr><td>0.5</td></tr><tr><td>0.75</td></tr><tr><td>1.0</td></tr></tbody></table></div>"
      ],
      "text/plain": [
       "shape: (4,)\n",
       "Series: 'asdf' [f64]\n",
       "[\n",
       "\t0.25\n",
       "\t0.5\n",
       "\t0.75\n",
       "\t1.0\n",
       "]"
      ]
     },
     "execution_count": 9,
     "metadata": {},
     "output_type": "execute_result"
    }
   ],
   "source": [
    "# Renombramos la serie.\n",
    "data.rename(\"asdf\", in_place=True)"
   ]
  },
  {
   "cell_type": "markdown",
   "id": "63d14506",
   "metadata": {},
   "source": [
    "Notemos que, al igual que en **<font color=\"mediumorchid\">Pandas</font>**, **<font color=\"mediumorchid\">Polars</font>** nos permite modificar en el acto sus estructuras de datos, haciendo uso del parámetro Booleano `in_place`. Sin embargo, dicho parámetro se encuentra *deprecado* (en desuso), debido a que la operación de asignar una serie con otro nombre a otro objeto de Python es, esencialmente, una operación cuyo costo computacional es esencialmente igual a cero. Por esa razón, es recomendable que la operación anterior (y similares) se haga por medio de una asignación directa:"
   ]
  },
  {
   "cell_type": "code",
   "execution_count": 10,
   "id": "d6fc223c",
   "metadata": {},
   "outputs": [],
   "source": [
    "# Renombramos la serie vía asignación.\n",
    "data = data.rename(\"asdf\")"
   ]
  },
  {
   "cell_type": "code",
   "execution_count": 11,
   "id": "b0afe479",
   "metadata": {},
   "outputs": [
    {
     "data": {
      "text/html": [
       "<div><style>\n",
       ".dataframe > thead > tr > th,\n",
       ".dataframe > tbody > tr > td {\n",
       "  text-align: right;\n",
       "}\n",
       "</style>\n",
       "<small>shape: (4,)</small><table border=\"1\" class=\"dataframe\"><thead><tr><th>asdf</th></tr><tr><td>f64</td></tr></thead><tbody><tr><td>0.25</td></tr><tr><td>0.5</td></tr><tr><td>0.75</td></tr><tr><td>1.0</td></tr></tbody></table></div>"
      ],
      "text/plain": [
       "shape: (4,)\n",
       "Series: 'asdf' [f64]\n",
       "[\n",
       "\t0.25\n",
       "\t0.5\n",
       "\t0.75\n",
       "\t1.0\n",
       "]"
      ]
     },
     "execution_count": 11,
     "metadata": {},
     "output_type": "execute_result"
    }
   ],
   "source": [
    "# Mostramos la serie en pantalla.\n",
    "data"
   ]
  },
  {
   "cell_type": "markdown",
   "id": "5ff4efc4",
   "metadata": {},
   "source": [
    "Otra gran diferencia entre una serie de **<font color=\"mediumorchid\">Polars</font>** y una serie de **<font color=\"mediumorchid\">Pandas</font>** que podemos observar directamente al imprimir la serie anterior en pantalla, es que no existe un índice que nos permita seleccionar data a partir de la misma de manera completamente explícita. De este modo, la selección de datos en series de **<font color=\"mediumorchid\">Polars</font>** es muy parecida a la que hacemos en arreglos unidimensionales de **<font color=\"mediumorchid\">Numpy</font>**:"
   ]
  },
  {
   "cell_type": "code",
   "execution_count": 12,
   "id": "991d20e3",
   "metadata": {},
   "outputs": [
    {
     "data": {
      "text/plain": [
       "0.5"
      ]
     },
     "execution_count": 12,
     "metadata": {},
     "output_type": "execute_result"
    }
   ],
   "source": [
    "# Seleccionamos un único dato de la serie.\n",
    "data[1]"
   ]
  },
  {
   "cell_type": "code",
   "execution_count": 13,
   "id": "9d8ecc1f",
   "metadata": {},
   "outputs": [
    {
     "data": {
      "text/html": [
       "<div><style>\n",
       ".dataframe > thead > tr > th,\n",
       ".dataframe > tbody > tr > td {\n",
       "  text-align: right;\n",
       "}\n",
       "</style>\n",
       "<small>shape: (2,)</small><table border=\"1\" class=\"dataframe\"><thead><tr><th>asdf</th></tr><tr><td>f64</td></tr></thead><tbody><tr><td>0.5</td></tr><tr><td>0.75</td></tr></tbody></table></div>"
      ],
      "text/plain": [
       "shape: (2,)\n",
       "Series: 'asdf' [f64]\n",
       "[\n",
       "\t0.5\n",
       "\t0.75\n",
       "]"
      ]
     },
     "execution_count": 13,
     "metadata": {},
     "output_type": "execute_result"
    }
   ],
   "source": [
    "# O varios mediante slicing.\n",
    "data[1:3]"
   ]
  },
  {
   "cell_type": "markdown",
   "id": "d2da1867",
   "metadata": {},
   "source": [
    "No obstante, no podremos usar recursos de selección clásicos de **<font color=\"mediumorchid\">Numpy</font>** (y, por extensión, de **<font color=\"mediumorchid\">Pandas</font>**), como masking o fancy indexing, en series de **<font color=\"mediumorchid\">Polars</font>**. Efectivamente, es posible construir máscaras en **<font color=\"mediumorchid\">Polars</font>** mediante operadores de comparación. Por ejemplo:"
   ]
  },
  {
   "cell_type": "code",
   "execution_count": 14,
   "id": "8b8f355c",
   "metadata": {},
   "outputs": [],
   "source": [
    "# Una máscara sencilla.\n",
    "mask = (data < 0.75)"
   ]
  },
  {
   "cell_type": "code",
   "execution_count": 15,
   "id": "9e9a1ab2",
   "metadata": {},
   "outputs": [
    {
     "data": {
      "text/html": [
       "<div><style>\n",
       ".dataframe > thead > tr > th,\n",
       ".dataframe > tbody > tr > td {\n",
       "  text-align: right;\n",
       "}\n",
       "</style>\n",
       "<small>shape: (4,)</small><table border=\"1\" class=\"dataframe\"><thead><tr><th>asdf</th></tr><tr><td>bool</td></tr></thead><tbody><tr><td>true</td></tr><tr><td>true</td></tr><tr><td>false</td></tr><tr><td>false</td></tr></tbody></table></div>"
      ],
      "text/plain": [
       "shape: (4,)\n",
       "Series: 'asdf' [bool]\n",
       "[\n",
       "\ttrue\n",
       "\ttrue\n",
       "\tfalse\n",
       "\tfalse\n",
       "]"
      ]
     },
     "execution_count": 15,
     "metadata": {},
     "output_type": "execute_result"
    }
   ],
   "source": [
    "# Imprimimos en pantalla la máscara anterior.\n",
    "mask"
   ]
  },
  {
   "cell_type": "markdown",
   "id": "3438be1b",
   "metadata": {},
   "source": [
    "Vemos pues que la máscara anterior permite construir una serie de **<font color=\"mediumorchid\">Polars</font>** únicamente con valores Booleanos. No obstante, no podemos hacer uso de ella para seleccionar datos a modo de filtro:"
   ]
  },
  {
   "cell_type": "code",
   "execution_count": 16,
   "id": "5ae33cd1",
   "metadata": {},
   "outputs": [
    {
     "name": "stdout",
     "output_type": "stream",
     "text": [
      "Cannot __getitem__ on Series of dtype: 'Float64' with argument: 'shape: (4,)\n",
      "Series: 'asdf' [bool]\n",
      "[\n",
      "\ttrue\n",
      "\ttrue\n",
      "\tfalse\n",
      "\tfalse\n",
      "]' of type: '<class 'polars.series.series.Series'>'.\n"
     ]
    }
   ],
   "source": [
    "try:\n",
    "    data[mask]\n",
    "except ValueError as e:\n",
    "    print(e)"
   ]
  },
  {
   "cell_type": "markdown",
   "id": "8dac6968",
   "metadata": {},
   "source": [
    "**<font color=\"mediumorchid\">Polars</font>** es claro al respecto en su mensaje de error: No es posible obtener ningún elemento de la misma a partir de la máscara anterior. La carencia de índices en una serie de **<font color=\"mediumorchid\">Polars</font>** es en parte responsable por ésto, pero no es algo de lo que debamos preocuparnos. **<font color=\"mediumorchid\">Polars</font>** nos provee de **métodos contextuales** que, entre otras transformaciones de interés, nos permiten construir filtros de datos tremendamente eficientes.\n",
    "\n",
    "Las series de **<font color=\"mediumorchid\">Polars</font>**, a diferencia de las series de **<font color=\"mediumorchid\">Pandas</font>**, no pueden construirse directamente a partir de diccionarios de Python. Esto también se debe a que las series de **<font color=\"mediumorchid\">Polars</font>** no cuentan con una correspondencia de tipo `(llave, valor)` que permita mapear los valores de la serie a un objeto explícitamente definido, precisamente por la carencia de índices. Sin embargo, como veremos más adelante, ésto tiene una razón bastante interesante de la cual podremos sacar un enorme provecho.\n",
    "\n",
    "Otra característica que diferencia a las series de **<font color=\"mediumorchid\">Polars</font>** de las de **<font color=\"mediumorchid\">Pandas</font>**, es que éstas no disponen de un método `plot()` que nos permita construir gráficos a partir de los datos almacenados en ellas de forma rápida, aprovechando algún backend determinado (como **<font color=\"mediumorchid\">Matplotlib</font>** en el caso de **<font color=\"mediumorchid\">Pandas</font>**). Dependeremos enteramente de otras librerías para crear gráficos a partir de nuestros datos.\n",
    "\n",
    "Las series de **<font color=\"mediumorchid\">Polars</font>**, en cualquier caso, sí disponen de muchos métodos que nos permiten manipular la data almacenada en ellas. Vamos a ejemplificar ésto creando una nueva serie, a partir de un arreglo de datos normalmente distribuidos creado en **<font color=\"mediumorchid\">Numpy</font>**:"
   ]
  },
  {
   "cell_type": "code",
   "execution_count": 17,
   "id": "0f6bd34b",
   "metadata": {},
   "outputs": [],
   "source": [
    "# Semilla aleatoria fija.\n",
    "rng = np.random.default_rng(42)"
   ]
  },
  {
   "cell_type": "code",
   "execution_count": 18,
   "id": "e6c11799",
   "metadata": {},
   "outputs": [],
   "source": [
    "# Creamos un arreglo unidimensional con elementos normalmente distribudos.\n",
    "arr_1 = rng.normal(loc=0, scale=1, size=5)"
   ]
  },
  {
   "cell_type": "code",
   "execution_count": 19,
   "id": "bb481da0",
   "metadata": {},
   "outputs": [],
   "source": [
    "# Construimos una serie de Polars a partir de este arreglo.\n",
    "s1 = pl.Series(values=arr_1, name=\"x1\")"
   ]
  },
  {
   "cell_type": "code",
   "execution_count": 20,
   "id": "4e24fa53",
   "metadata": {},
   "outputs": [
    {
     "data": {
      "text/html": [
       "<div><style>\n",
       ".dataframe > thead > tr > th,\n",
       ".dataframe > tbody > tr > td {\n",
       "  text-align: right;\n",
       "}\n",
       "</style>\n",
       "<small>shape: (5,)</small><table border=\"1\" class=\"dataframe\"><thead><tr><th>x1</th></tr><tr><td>f64</td></tr></thead><tbody><tr><td>0.304717</td></tr><tr><td>-1.039984</td></tr><tr><td>0.750451</td></tr><tr><td>0.940565</td></tr><tr><td>-1.951035</td></tr></tbody></table></div>"
      ],
      "text/plain": [
       "shape: (5,)\n",
       "Series: 'x1' [f64]\n",
       "[\n",
       "\t0.304717\n",
       "\t-1.039984\n",
       "\t0.750451\n",
       "\t0.940565\n",
       "\t-1.951035\n",
       "]"
      ]
     },
     "execution_count": 20,
     "metadata": {},
     "output_type": "execute_result"
    }
   ],
   "source": [
    "# Mostramos esta serie en pantalla.\n",
    "s1"
   ]
  },
  {
   "cell_type": "markdown",
   "id": "0326ec32",
   "metadata": {},
   "source": [
    "Como ocurre con las series de **<font color=\"mediumorchid\">Pandas</font>**, las series de **<font color=\"mediumorchid\">Polars</font>** también disponen de métodos que permiten operar sobre los elementos de la misma, y en la mayoría de los casos, son métodos equivalentes a los disponibles en **<font color=\"mediumorchid\">Pandas</font>**:"
   ]
  },
  {
   "cell_type": "code",
   "execution_count": 21,
   "id": "5c7ab12d",
   "metadata": {},
   "outputs": [
    {
     "name": "stdout",
     "output_type": "stream",
     "text": [
      "Media de los elementos de la serie = -0.1990572605884459\n",
      "Desviación estándar de los elementos de la serie = 1.2480662808255583\n",
      "Varianza de los elementos de la serie = 1.5576694413337413\n",
      "Mínimo de los elementos de la serie = -1.9510351886538364\n",
      "Máximo de los elementos de la serie = 0.9405647163912139\n"
     ]
    }
   ],
   "source": [
    "# Algunas operaciones básicas para la serie.\n",
    "print(f\"Media de los elementos de la serie = {s1.mean()}\")\n",
    "print(f\"Desviación estándar de los elementos de la serie = {s1.std()}\")\n",
    "print(f\"Varianza de los elementos de la serie = {s1.var()}\")\n",
    "print(f\"Mínimo de los elementos de la serie = {s1.min()}\")\n",
    "print(f\"Máximo de los elementos de la serie = {s1.max()}\")"
   ]
  },
  {
   "cell_type": "markdown",
   "id": "87200157",
   "metadata": {},
   "source": [
    "Las series de **<font color=\"mediumorchid\">Polars</font>** también nos permiten recuperar los valores almacenados en las mismas en el formato de arreglos (unidimensionales) usando para ello el método `to_numpy()`. Sin embargo, al hacerlo, obtendremos una vista cuyo formato es `SeriesView`, propio de Arrow:"
   ]
  },
  {
   "cell_type": "code",
   "execution_count": 22,
   "id": "ce68382f",
   "metadata": {},
   "outputs": [
    {
     "data": {
      "text/plain": [
       "array([ 0.30471708, -1.03998411,  0.7504512 ,  0.94056472, -1.95103519])"
      ]
     },
     "execution_count": 22,
     "metadata": {},
     "output_type": "execute_result"
    }
   ],
   "source": [
    "# Recuperamos los valores almacenados en la serie en un formato de arreglo.\n",
    "s1.to_numpy()"
   ]
  },
  {
   "cell_type": "markdown",
   "id": "034971bf",
   "metadata": {},
   "source": [
    "Incluso, podemos convertir series de **<font color=\"mediumorchid\">Polars</font>** en series de **<font color=\"mediumorchid\">Pandas</font>** usando el método `to_pandas()`. Esta transformación requiere de la instalación previa de la librería **<font color=\"mediumorchid\">PyArrow</font>**:"
   ]
  },
  {
   "cell_type": "code",
   "execution_count": 23,
   "id": "39ebda48",
   "metadata": {},
   "outputs": [
    {
     "data": {
      "text/plain": [
       "0    0.304717\n",
       "1   -1.039984\n",
       "2    0.750451\n",
       "3    0.940565\n",
       "4   -1.951035\n",
       "Name: x1, dtype: float64"
      ]
     },
     "execution_count": 23,
     "metadata": {},
     "output_type": "execute_result"
    }
   ],
   "source": [
    "# Convertimos la serie de Polars en una serie de Pandas.\n",
    "s1.to_pandas()"
   ]
  },
  {
   "cell_type": "markdown",
   "id": "35687e30",
   "metadata": {},
   "source": [
    "Es posible unir una serie a otra serie en **<font color=\"mediumorchid\">Polars</font>** usando el método `append()`:"
   ]
  },
  {
   "cell_type": "code",
   "execution_count": 24,
   "id": "486ac145",
   "metadata": {},
   "outputs": [],
   "source": [
    "# Creamos un arreglo unidimensional con elementos normalmente distribudos.\n",
    "arr_2 = rng.normal(loc=1, scale=1, size=5)"
   ]
  },
  {
   "cell_type": "code",
   "execution_count": 25,
   "id": "83efc243",
   "metadata": {},
   "outputs": [],
   "source": [
    "# Construimos una serie de Polars a partir de este arreglo.\n",
    "s2 = pl.Series(values=arr_2, name=\"x2\")"
   ]
  },
  {
   "cell_type": "code",
   "execution_count": 26,
   "id": "87baba1a",
   "metadata": {},
   "outputs": [],
   "source": [
    "# Unimos las series s1 y s2.\n",
    "s3 = s1.append(s2)"
   ]
  },
  {
   "cell_type": "code",
   "execution_count": 27,
   "id": "3a8c4017",
   "metadata": {},
   "outputs": [
    {
     "data": {
      "text/html": [
       "<div><style>\n",
       ".dataframe > thead > tr > th,\n",
       ".dataframe > tbody > tr > td {\n",
       "  text-align: right;\n",
       "}\n",
       "</style>\n",
       "<small>shape: (10,)</small><table border=\"1\" class=\"dataframe\"><thead><tr><th>x1</th></tr><tr><td>f64</td></tr></thead><tbody><tr><td>0.304717</td></tr><tr><td>-1.039984</td></tr><tr><td>0.750451</td></tr><tr><td>0.940565</td></tr><tr><td>-1.951035</td></tr><tr><td>-0.30218</td></tr><tr><td>1.12784</td></tr><tr><td>0.683757</td></tr><tr><td>0.983199</td></tr><tr><td>0.146956</td></tr></tbody></table></div>"
      ],
      "text/plain": [
       "shape: (10,)\n",
       "Series: 'x1' [f64]\n",
       "[\n",
       "\t0.304717\n",
       "\t-1.039984\n",
       "\t0.750451\n",
       "\t0.940565\n",
       "\t-1.951035\n",
       "\t-0.30218\n",
       "\t1.12784\n",
       "\t0.683757\n",
       "\t0.983199\n",
       "\t0.146956\n",
       "]"
      ]
     },
     "execution_count": 27,
     "metadata": {},
     "output_type": "execute_result"
    }
   ],
   "source": [
    "# Mostramos dicha unión.\n",
    "s3"
   ]
  },
  {
   "cell_type": "markdown",
   "id": "938213bc",
   "metadata": {},
   "source": [
    "Notemos que, al unir ambas series, se preserva el nombre asociado a la primera (sobre la cual usamos el método `append()`).\n",
    "\n",
    "Existen otros métodos que nos permiten computar varios elementos de interés en una serie. Por ejemplo:"
   ]
  },
  {
   "cell_type": "code",
   "execution_count": 28,
   "id": "61d7a180",
   "metadata": {},
   "outputs": [
    {
     "data": {
      "text/plain": [
       "4"
      ]
     },
     "execution_count": 28,
     "metadata": {},
     "output_type": "execute_result"
    }
   ],
   "source": [
    "# Obtenemos la posición del valor mínimo asociado a la serie.\n",
    "s3.arg_min()"
   ]
  },
  {
   "cell_type": "code",
   "execution_count": 29,
   "id": "5d3d3db8",
   "metadata": {},
   "outputs": [
    {
     "data": {
      "text/plain": [
       "6"
      ]
     },
     "execution_count": 29,
     "metadata": {},
     "output_type": "execute_result"
    }
   ],
   "source": [
    "# Obtenemos la posición del valor máximo asociado a la serie.\n",
    "s3.arg_max()"
   ]
  },
  {
   "cell_type": "code",
   "execution_count": 30,
   "id": "bdbd392b",
   "metadata": {},
   "outputs": [
    {
     "data": {
      "text/html": [
       "<div><style>\n",
       ".dataframe > thead > tr > th,\n",
       ".dataframe > tbody > tr > td {\n",
       "  text-align: right;\n",
       "}\n",
       "</style>\n",
       "<small>shape: (3,)</small><table border=\"1\" class=\"dataframe\"><thead><tr><th>x1</th></tr><tr><td>f64</td></tr></thead><tbody><tr><td>1.12784</td></tr><tr><td>0.983199</td></tr><tr><td>0.940565</td></tr></tbody></table></div>"
      ],
      "text/plain": [
       "shape: (3,)\n",
       "Series: 'x1' [f64]\n",
       "[\n",
       "\t1.12784\n",
       "\t0.983199\n",
       "\t0.940565\n",
       "]"
      ]
     },
     "execution_count": 30,
     "metadata": {},
     "output_type": "execute_result"
    }
   ],
   "source": [
    "# Obtenemos los k mayores elementos de la serie, ordenados de manera descendente.\n",
    "s3.top_k(k=3)"
   ]
  },
  {
   "cell_type": "code",
   "execution_count": 31,
   "id": "867f9a5a",
   "metadata": {},
   "outputs": [
    {
     "data": {
      "text/html": [
       "<div><style>\n",
       ".dataframe > thead > tr > th,\n",
       ".dataframe > tbody > tr > td {\n",
       "  text-align: right;\n",
       "}\n",
       "</style>\n",
       "<small>shape: (3,)</small><table border=\"1\" class=\"dataframe\"><thead><tr><th>x1</th></tr><tr><td>f64</td></tr></thead><tbody><tr><td>-1.951035</td></tr><tr><td>-1.039984</td></tr><tr><td>-0.30218</td></tr></tbody></table></div>"
      ],
      "text/plain": [
       "shape: (3,)\n",
       "Series: 'x1' [f64]\n",
       "[\n",
       "\t-1.951035\n",
       "\t-1.039984\n",
       "\t-0.30218\n",
       "]"
      ]
     },
     "execution_count": 31,
     "metadata": {},
     "output_type": "execute_result"
    }
   ],
   "source": [
    "# Y los k menores, en esta ocasión ordenados de manera ascendente.\n",
    "s3.bottom_k(k=3)"
   ]
  },
  {
   "cell_type": "markdown",
   "id": "fae10193",
   "metadata": {},
   "source": [
    "Por supuesto, podemos cambiar los tipos de datos asociados a una serie haciendo uso del método `cast()`:"
   ]
  },
  {
   "cell_type": "code",
   "execution_count": 32,
   "id": "8752faad",
   "metadata": {},
   "outputs": [
    {
     "data": {
      "text/html": [
       "<div><style>\n",
       ".dataframe > thead > tr > th,\n",
       ".dataframe > tbody > tr > td {\n",
       "  text-align: right;\n",
       "}\n",
       "</style>\n",
       "<small>shape: (10,)</small><table border=\"1\" class=\"dataframe\"><thead><tr><th>x1</th></tr><tr><td>f32</td></tr></thead><tbody><tr><td>0.304717</td></tr><tr><td>-1.039984</td></tr><tr><td>0.750451</td></tr><tr><td>0.940565</td></tr><tr><td>-1.951035</td></tr><tr><td>-0.30218</td></tr><tr><td>1.12784</td></tr><tr><td>0.683757</td></tr><tr><td>0.983199</td></tr><tr><td>0.146956</td></tr></tbody></table></div>"
      ],
      "text/plain": [
       "shape: (10,)\n",
       "Series: 'x1' [f32]\n",
       "[\n",
       "\t0.304717\n",
       "\t-1.039984\n",
       "\t0.750451\n",
       "\t0.940565\n",
       "\t-1.951035\n",
       "\t-0.30218\n",
       "\t1.12784\n",
       "\t0.683757\n",
       "\t0.983199\n",
       "\t0.146956\n",
       "]"
      ]
     },
     "execution_count": 32,
     "metadata": {},
     "output_type": "execute_result"
    }
   ],
   "source": [
    "# Cambiamos el tipo de dato de Float64 a Float32.\n",
    "s3.cast(pl.Float32)"
   ]
  },
  {
   "cell_type": "markdown",
   "id": "e9a59bca",
   "metadata": {},
   "source": [
    "Y también podemos truncar los valores de una serie por medio del método `clip()`, donde los parámetros `lower_bound` y `upper_bound` permiten especificar los valores mínimos y máximos, respectivamente, que definen dicho truncamiento:"
   ]
  },
  {
   "cell_type": "code",
   "execution_count": 33,
   "id": "4ba9db40",
   "metadata": {},
   "outputs": [
    {
     "data": {
      "text/html": [
       "<div><style>\n",
       ".dataframe > thead > tr > th,\n",
       ".dataframe > tbody > tr > td {\n",
       "  text-align: right;\n",
       "}\n",
       "</style>\n",
       "<small>shape: (10,)</small><table border=\"1\" class=\"dataframe\"><thead><tr><th>x1</th></tr><tr><td>f64</td></tr></thead><tbody><tr><td>0.304717</td></tr><tr><td>0.0</td></tr><tr><td>0.750451</td></tr><tr><td>0.940565</td></tr><tr><td>0.0</td></tr><tr><td>0.0</td></tr><tr><td>1.0</td></tr><tr><td>0.683757</td></tr><tr><td>0.983199</td></tr><tr><td>0.146956</td></tr></tbody></table></div>"
      ],
      "text/plain": [
       "shape: (10,)\n",
       "Series: 'x1' [f64]\n",
       "[\n",
       "\t0.304717\n",
       "\t0.0\n",
       "\t0.750451\n",
       "\t0.940565\n",
       "\t0.0\n",
       "\t0.0\n",
       "\t1.0\n",
       "\t0.683757\n",
       "\t0.983199\n",
       "\t0.146956\n",
       "]"
      ]
     },
     "execution_count": 33,
     "metadata": {},
     "output_type": "execute_result"
    }
   ],
   "source": [
    "# Truncamos los valores de la serie entre 0 y 1.\n",
    "s3.clip(0, 1)"
   ]
  },
  {
   "cell_type": "markdown",
   "id": "2c82e8af",
   "metadata": {},
   "source": [
    "Existen muchos otros métodos aplicables a las series de **<font color=\"mediumorchid\">Polars</font>**, los que iremos viendo a medida que vayamos avanzando con otros contenidos propios relativos al análisis de datos usando esta librería."
   ]
  },
  {
   "cell_type": "markdown",
   "id": "de0160d5",
   "metadata": {},
   "source": [
    "## DataFrames.\n",
    "Al igual que en **<font color=\"mediumorchid\">Pandas</font>**, en **<font color=\"mediumorchid\">Polars</font>**, los DataFrames pueden definirse como una sucesión continua de series, las que constituyen una estructura tabular bidimensional de datos. Los DataFrames de **<font color=\"mediumorchid\">Polars</font>** difieren esencialmente de los provistos por **<font color=\"mediumorchid\">Pandas</font>** en el hecho de que sí poseen una correspondencia de tipo `(llave, valor)` explícita, a diferencia de las serie, pero únicamente para referenciar a las columnas del DataFrame (en realidad, para mapear cada serie individual que constituye el DataFrame completo).\n",
    "\n",
    "Los DataFrames en **<font color=\"mediumorchid\">Polars</font>** pueden construirse mediante la clase `pl.DataFrame`, usando el parámetro `data` para definir los valores que se almacenarán en esta estructura de datos:"
   ]
  },
  {
   "cell_type": "code",
   "execution_count": 34,
   "id": "c6af417e",
   "metadata": {},
   "outputs": [],
   "source": [
    "# Creación de un DataFrame desde cero.\n",
    "df = pl.DataFrame(data=rng.normal(loc=0, scale=1, size=(4, 4)))"
   ]
  },
  {
   "cell_type": "code",
   "execution_count": 35,
   "id": "ad170224",
   "metadata": {},
   "outputs": [
    {
     "data": {
      "text/html": [
       "<div><style>\n",
       ".dataframe > thead > tr > th,\n",
       ".dataframe > tbody > tr > td {\n",
       "  text-align: right;\n",
       "}\n",
       "</style>\n",
       "<small>shape: (4, 4)</small><table border=\"1\" class=\"dataframe\"><thead><tr><th>column_0</th><th>column_1</th><th>column_2</th><th>column_3</th></tr><tr><td>f64</td><td>f64</td><td>f64</td><td>f64</td></tr></thead><tbody><tr><td>0.879398</td><td>0.777792</td><td>0.066031</td><td>1.127241</td></tr><tr><td>0.467509</td><td>-0.859292</td><td>0.368751</td><td>-0.958883</td></tr><tr><td>0.87845</td><td>-0.049926</td><td>-0.184862</td><td>-0.68093</td></tr><tr><td>1.222541</td><td>-0.154529</td><td>-0.428328</td><td>-0.352134</td></tr></tbody></table></div>"
      ],
      "text/plain": [
       "shape: (4, 4)\n",
       "┌──────────┬───────────┬───────────┬───────────┐\n",
       "│ column_0 ┆ column_1  ┆ column_2  ┆ column_3  │\n",
       "│ ---      ┆ ---       ┆ ---       ┆ ---       │\n",
       "│ f64      ┆ f64       ┆ f64       ┆ f64       │\n",
       "╞══════════╪═══════════╪═══════════╪═══════════╡\n",
       "│ 0.879398 ┆ 0.777792  ┆ 0.066031  ┆ 1.127241  │\n",
       "│ 0.467509 ┆ -0.859292 ┆ 0.368751  ┆ -0.958883 │\n",
       "│ 0.87845  ┆ -0.049926 ┆ -0.184862 ┆ -0.68093  │\n",
       "│ 1.222541 ┆ -0.154529 ┆ -0.428328 ┆ -0.352134 │\n",
       "└──────────┴───────────┴───────────┴───────────┘"
      ]
     },
     "execution_count": 35,
     "metadata": {},
     "output_type": "execute_result"
    }
   ],
   "source": [
    "# Mostramos este DataFrame en pantalla.\n",
    "df"
   ]
  },
  {
   "cell_type": "markdown",
   "id": "36c2f59b",
   "metadata": {},
   "source": [
    "Notemos que, al mostrar este DataFrame haciendo uso de la interfaz provista por **<font color=\"mediumorchid\">IPython</font>**, podemos observar que, al igual que con las series, lo primero que vemos es información relativa a su geometría, la cual es posible recuperar haciendo uso igualmente del atributo `shape`, y que nos informa que este DataFrame tiene 4 filas y 4 columnas:"
   ]
  },
  {
   "cell_type": "code",
   "execution_count": 36,
   "id": "1777fef4",
   "metadata": {},
   "outputs": [
    {
     "data": {
      "text/plain": [
       "(4, 4)"
      ]
     },
     "execution_count": 36,
     "metadata": {},
     "output_type": "execute_result"
    }
   ],
   "source": [
    "# Geometría del DataFrame.\n",
    "df.shape"
   ]
  },
  {
   "cell_type": "markdown",
   "id": "8536d965",
   "metadata": {},
   "source": [
    "Cada columna, si no tiene un nombre definido en forma explícita, será nombrada como `column_0`, `column_1`, ..., `column_k`, para un DataFrame con un total de `k+1` columnas.\n",
    "\n",
    "Si deseamos nombrar las columnas de un DataFrame explícitamente, debemos definir el **esquema** del mismo haciendo uso del parámetro `schema`. Con esquema nos referimos a la estructura inherente al DataFrame y que define la correspondencia `(nombre de la columna, tipo de dato)` propia de las estructuras de este tipo. Dada esta naturaleza, es común que los esquemas de un DataFrame se especifiquen por medio de diccionarios de Python:"
   ]
  },
  {
   "cell_type": "code",
   "execution_count": 37,
   "id": "60043d6c",
   "metadata": {},
   "outputs": [],
   "source": [
    "# Construimos un DataFrame desde cero, definiendo el nombre de sus columnas a partir de su esquema.\n",
    "df = pl.DataFrame(\n",
    "    data=rng.normal(loc=0, scale=1, size=(4, 4)),\n",
    "    schema={\n",
    "        \"col_1\": pl.Float64, \"col_2\": pl.Float64, \n",
    "        \"col_3\": pl.Float64, \"col_4\": pl.Float64\n",
    "    }\n",
    ")"
   ]
  },
  {
   "cell_type": "code",
   "execution_count": 38,
   "id": "cf71386f",
   "metadata": {},
   "outputs": [
    {
     "data": {
      "text/html": [
       "<div><style>\n",
       ".dataframe > thead > tr > th,\n",
       ".dataframe > tbody > tr > td {\n",
       "  text-align: right;\n",
       "}\n",
       "</style>\n",
       "<small>shape: (4, 4)</small><table border=\"1\" class=\"dataframe\"><thead><tr><th>col_1</th><th>col_2</th><th>col_3</th><th>col_4</th></tr><tr><td>f64</td><td>f64</td><td>f64</td><td>f64</td></tr></thead><tbody><tr><td>0.532309</td><td>2.141648</td><td>0.615979</td><td>-0.824481</td></tr><tr><td>0.365444</td><td>-0.406415</td><td>1.128972</td><td>0.650593</td></tr><tr><td>0.412733</td><td>-0.512243</td><td>-0.113947</td><td>0.743254</td></tr><tr><td>0.430821</td><td>-0.813773</td><td>-0.840156</td><td>0.543154</td></tr></tbody></table></div>"
      ],
      "text/plain": [
       "shape: (4, 4)\n",
       "┌──────────┬───────────┬───────────┬───────────┐\n",
       "│ col_1    ┆ col_2     ┆ col_3     ┆ col_4     │\n",
       "│ ---      ┆ ---       ┆ ---       ┆ ---       │\n",
       "│ f64      ┆ f64       ┆ f64       ┆ f64       │\n",
       "╞══════════╪═══════════╪═══════════╪═══════════╡\n",
       "│ 0.532309 ┆ 2.141648  ┆ 0.615979  ┆ -0.824481 │\n",
       "│ 0.365444 ┆ -0.406415 ┆ 1.128972  ┆ 0.650593  │\n",
       "│ 0.412733 ┆ -0.512243 ┆ -0.113947 ┆ 0.743254  │\n",
       "│ 0.430821 ┆ -0.813773 ┆ -0.840156 ┆ 0.543154  │\n",
       "└──────────┴───────────┴───────────┴───────────┘"
      ]
     },
     "execution_count": 38,
     "metadata": {},
     "output_type": "execute_result"
    }
   ],
   "source": [
    "# Mostramos este DataFrame en pantalla.\n",
    "df"
   ]
  },
  {
   "cell_type": "markdown",
   "id": "9b2161bd",
   "metadata": {},
   "source": [
    "**<font color=\"mediumorchid\">Polars</font>** dispone de un sistema de impresión plana, prescindiendo de **<font color=\"mediumorchid\">IPython</font>**, muy elegante, haciendo uso de la función nativa `print()`:"
   ]
  },
  {
   "cell_type": "code",
   "execution_count": 39,
   "id": "39c9f9ba",
   "metadata": {},
   "outputs": [
    {
     "name": "stdout",
     "output_type": "stream",
     "text": [
      "shape: (4, 4)\n",
      "┌──────────┬───────────┬───────────┬───────────┐\n",
      "│ col_1    ┆ col_2     ┆ col_3     ┆ col_4     │\n",
      "│ ---      ┆ ---       ┆ ---       ┆ ---       │\n",
      "│ f64      ┆ f64       ┆ f64       ┆ f64       │\n",
      "╞══════════╪═══════════╪═══════════╪═══════════╡\n",
      "│ 0.532309 ┆ 2.141648  ┆ 0.615979  ┆ -0.824481 │\n",
      "│ 0.365444 ┆ -0.406415 ┆ 1.128972  ┆ 0.650593  │\n",
      "│ 0.412733 ┆ -0.512243 ┆ -0.113947 ┆ 0.743254  │\n",
      "│ 0.430821 ┆ -0.813773 ┆ -0.840156 ┆ 0.543154  │\n",
      "└──────────┴───────────┴───────────┴───────────┘\n"
     ]
    }
   ],
   "source": [
    "# ¡La impresión sin IPython de Polars es maravillosa!\n",
    "print(df)"
   ]
  },
  {
   "cell_type": "markdown",
   "id": "d3f342af",
   "metadata": {},
   "source": [
    "También es posible construir un DataFrame de **<font color=\"mediumorchid\">Polars</font>** a partir de un esquema de tipo `(columna, valores asociados)`:"
   ]
  },
  {
   "cell_type": "code",
   "execution_count": 40,
   "id": "84fca311",
   "metadata": {},
   "outputs": [],
   "source": [
    "# Construimos un DataFrame a partir de un esquema de tipo diccionario.\n",
    "df = pl.DataFrame(\n",
    "    {\n",
    "        \"uniform\": rng.uniform(low=-4, high=4, size=10),\n",
    "        \"normal\": rng.normal(loc=0, scale=1, size=10),\n",
    "        \"poisson\": rng.poisson(lam=1.0, size=10),\n",
    "        \"binomial\": rng.binomial(n=100, p=0.4, size=10)\n",
    "    }\n",
    ")"
   ]
  },
  {
   "cell_type": "code",
   "execution_count": 41,
   "id": "4ff11dd7",
   "metadata": {},
   "outputs": [
    {
     "name": "stdout",
     "output_type": "stream",
     "text": [
      "shape: (10, 4)\n",
      "┌───────────┬───────────┬─────────┬──────────┐\n",
      "│ uniform   ┆ normal    ┆ poisson ┆ binomial │\n",
      "│ ---       ┆ ---       ┆ ---     ┆ ---      │\n",
      "│ f64       ┆ f64       ┆ i64     ┆ i64      │\n",
      "╞═══════════╪═══════════╪═════════╪══════════╡\n",
      "│ 2.658078  ┆ -1.457156 ┆ 1       ┆ 47       │\n",
      "│ 2.438115  ┆ -0.319671 ┆ 1       ┆ 40       │\n",
      "│ -0.900173 ┆ -0.470373 ┆ 0       ┆ 44       │\n",
      "│ -1.693375 ┆ -0.638878 ┆ 1       ┆ 39       │\n",
      "│ …         ┆ …         ┆ …       ┆ …        │\n",
      "│ -2.400734 ┆ -0.865831 ┆ 0       ┆ 41       │\n",
      "│ -3.941102 ┆ 0.968278  ┆ 0       ┆ 46       │\n",
      "│ 2.295395  ┆ -1.68287  ┆ 0       ┆ 35       │\n",
      "│ 1.318807  ┆ -0.334885 ┆ 2       ┆ 49       │\n",
      "└───────────┴───────────┴─────────┴──────────┘\n"
     ]
    }
   ],
   "source": [
    "# Mostramos este DataFrame en pantalla.\n",
    "print(df)"
   ]
  },
  {
   "cell_type": "markdown",
   "id": "36ace466",
   "metadata": {},
   "source": [
    "Una forma más *familiar* de construir DataFrames desde cero con respecto a lo que solemos hacer en **<font color=\"mediumorchid\">Pandas</font>**, corresponde al uso de arreglos bidimensionales como input bajo el argumento `data`, y definir los nombres de las columnas por medio de listas bajo el argumento `schema`:"
   ]
  },
  {
   "cell_type": "code",
   "execution_count": 42,
   "id": "9cfa8e42",
   "metadata": {},
   "outputs": [],
   "source": [
    "# Construimos un DataFrame definiendo los nombres de las columnas por medio de listas.\n",
    "df = pl.DataFrame(\n",
    "    data=rng.uniform(low=-1.0, high=1.0, size=(10, 10)),\n",
    "    schema=[f\"col_{j}\" for j in range(0, 10)]\n",
    ")"
   ]
  },
  {
   "cell_type": "code",
   "execution_count": 43,
   "id": "fa4d9cf1",
   "metadata": {},
   "outputs": [
    {
     "name": "stdout",
     "output_type": "stream",
     "text": [
      "shape: (10, 10)\n",
      "┌───────────┬───────────┬───────────┬───────────┬───┬───────────┬───────────┬───────────┬──────────┐\n",
      "│ col_0     ┆ col_1     ┆ col_2     ┆ col_3     ┆ … ┆ col_6     ┆ col_7     ┆ col_8     ┆ col_9    │\n",
      "│ ---       ┆ ---       ┆ ---       ┆ ---       ┆   ┆ ---       ┆ ---       ┆ ---       ┆ ---      │\n",
      "│ f64       ┆ f64       ┆ f64       ┆ f64       ┆   ┆ f64       ┆ f64       ┆ f64       ┆ f64      │\n",
      "╞═══════════╪═══════════╪═══════════╪═══════════╪═══╪═══════════╪═══════════╪═══════════╪══════════╡\n",
      "│ -0.46826  ┆ -0.388087 ┆ -0.831111 ┆ 0.162122  ┆ … ┆ -0.539572 ┆ -0.48807  ┆ 0.037717  ┆ -0.75448 │\n",
      "│           ┆           ┆           ┆           ┆   ┆           ┆           ┆           ┆ 4        │\n",
      "│ 0.938353  ┆ 0.158439  ┆ -0.168385 ┆ -0.30626  ┆ … ┆ -0.925175 ┆ 0.872087  ┆ -0.368142 ┆ 0.662225 │\n",
      "│ 0.557502  ┆ -0.646454 ┆ -0.916772 ┆ 0.181831  ┆ … ┆ 0.109705  ┆ -0.670784 ┆ 0.544025  ┆ -0.69343 │\n",
      "│           ┆           ┆           ┆           ┆   ┆           ┆           ┆           ┆ 1        │\n",
      "│ 0.43378   ┆ 0.713229  ┆ -0.012018 ┆ -0.954392 ┆ … ┆ -0.258155 ┆ -0.910179 ┆ 0.323323  ┆ -0.64146 │\n",
      "│           ┆           ┆           ┆           ┆   ┆           ┆           ┆           ┆ 3        │\n",
      "│ …         ┆ …         ┆ …         ┆ …         ┆ … ┆ …         ┆ …         ┆ …         ┆ …        │\n",
      "│ -0.807218 ┆ -0.135814 ┆ -0.793194 ┆ 0.56547   ┆ … ┆ -0.365722 ┆ 0.783355  ┆ 0.493579  ┆ -0.60713 │\n",
      "│           ┆           ┆           ┆           ┆   ┆           ┆           ┆           ┆ 1        │\n",
      "│ 0.805205  ┆ 0.254618  ┆ 0.175289  ┆ -0.83454  ┆ … ┆ 0.905799  ┆ 0.497216  ┆ -0.475079 ┆ -0.37935 │\n",
      "│           ┆           ┆           ┆           ┆   ┆           ┆           ┆           ┆ 3        │\n",
      "│ -0.088447 ┆ 0.168196  ┆ -0.658814 ┆ -0.026683 ┆ … ┆ -0.418164 ┆ 0.781585  ┆ 0.873626  ┆ 0.55481  │\n",
      "│ -0.595273 ┆ 0.299693  ┆ 0.85024   ┆ -0.018586 ┆ … ┆ 0.030114  ┆ 0.786893  ┆ -0.518059 ┆ 0.943653 │\n",
      "└───────────┴───────────┴───────────┴───────────┴───┴───────────┴───────────┴───────────┴──────────┘\n"
     ]
    }
   ],
   "source": [
    "# Mostramos este DataFrame en pantalla.\n",
    "print(df)"
   ]
  },
  {
   "cell_type": "markdown",
   "id": "1f791619",
   "metadata": {},
   "source": [
    "Los DataFrames de **<font color=\"mediumorchid\">Polars</font>** cuentan con métodos de inspección similares a los existentes en **<font color=\"mediumorchid\">Pandas</font>**. Por ejemplo, los métodos `head()` y `tail()` permiten revisar, respectivamente, las primeras y últimas 5 columnas del DataFrame de interés:"
   ]
  },
  {
   "cell_type": "code",
   "execution_count": 44,
   "id": "97eea169",
   "metadata": {},
   "outputs": [
    {
     "data": {
      "text/html": [
       "<div><style>\n",
       ".dataframe > thead > tr > th,\n",
       ".dataframe > tbody > tr > td {\n",
       "  text-align: right;\n",
       "}\n",
       "</style>\n",
       "<small>shape: (5, 10)</small><table border=\"1\" class=\"dataframe\"><thead><tr><th>col_0</th><th>col_1</th><th>col_2</th><th>col_3</th><th>col_4</th><th>col_5</th><th>col_6</th><th>col_7</th><th>col_8</th><th>col_9</th></tr><tr><td>f64</td><td>f64</td><td>f64</td><td>f64</td><td>f64</td><td>f64</td><td>f64</td><td>f64</td><td>f64</td><td>f64</td></tr></thead><tbody><tr><td>-0.46826</td><td>-0.388087</td><td>-0.831111</td><td>0.162122</td><td>0.875653</td><td>-0.719502</td><td>-0.539572</td><td>-0.48807</td><td>0.037717</td><td>-0.754484</td></tr><tr><td>0.938353</td><td>0.158439</td><td>-0.168385</td><td>-0.30626</td><td>0.143456</td><td>0.108072</td><td>-0.925175</td><td>0.872087</td><td>-0.368142</td><td>0.662225</td></tr><tr><td>0.557502</td><td>-0.646454</td><td>-0.916772</td><td>0.181831</td><td>-0.053021</td><td>-0.782849</td><td>0.109705</td><td>-0.670784</td><td>0.544025</td><td>-0.693431</td></tr><tr><td>0.43378</td><td>0.713229</td><td>-0.012018</td><td>-0.954392</td><td>-0.466049</td><td>0.34448</td><td>-0.258155</td><td>-0.910179</td><td>0.323323</td><td>-0.641463</td></tr><tr><td>-0.101277</td><td>0.517039</td><td>-0.340278</td><td>0.917118</td><td>-0.336862</td><td>-0.437532</td><td>0.659579</td><td>-0.129806</td><td>-0.252685</td><td>0.198766</td></tr></tbody></table></div>"
      ],
      "text/plain": [
       "shape: (5, 10)\n",
       "┌───────────┬───────────┬───────────┬───────────┬───┬───────────┬───────────┬───────────┬──────────┐\n",
       "│ col_0     ┆ col_1     ┆ col_2     ┆ col_3     ┆ … ┆ col_6     ┆ col_7     ┆ col_8     ┆ col_9    │\n",
       "│ ---       ┆ ---       ┆ ---       ┆ ---       ┆   ┆ ---       ┆ ---       ┆ ---       ┆ ---      │\n",
       "│ f64       ┆ f64       ┆ f64       ┆ f64       ┆   ┆ f64       ┆ f64       ┆ f64       ┆ f64      │\n",
       "╞═══════════╪═══════════╪═══════════╪═══════════╪═══╪═══════════╪═══════════╪═══════════╪══════════╡\n",
       "│ -0.46826  ┆ -0.388087 ┆ -0.831111 ┆ 0.162122  ┆ … ┆ -0.539572 ┆ -0.48807  ┆ 0.037717  ┆ -0.75448 │\n",
       "│           ┆           ┆           ┆           ┆   ┆           ┆           ┆           ┆ 4        │\n",
       "│ 0.938353  ┆ 0.158439  ┆ -0.168385 ┆ -0.30626  ┆ … ┆ -0.925175 ┆ 0.872087  ┆ -0.368142 ┆ 0.662225 │\n",
       "│ 0.557502  ┆ -0.646454 ┆ -0.916772 ┆ 0.181831  ┆ … ┆ 0.109705  ┆ -0.670784 ┆ 0.544025  ┆ -0.69343 │\n",
       "│           ┆           ┆           ┆           ┆   ┆           ┆           ┆           ┆ 1        │\n",
       "│ 0.43378   ┆ 0.713229  ┆ -0.012018 ┆ -0.954392 ┆ … ┆ -0.258155 ┆ -0.910179 ┆ 0.323323  ┆ -0.64146 │\n",
       "│           ┆           ┆           ┆           ┆   ┆           ┆           ┆           ┆ 3        │\n",
       "│ -0.101277 ┆ 0.517039  ┆ -0.340278 ┆ 0.917118  ┆ … ┆ 0.659579  ┆ -0.129806 ┆ -0.252685 ┆ 0.198766 │\n",
       "└───────────┴───────────┴───────────┴───────────┴───┴───────────┴───────────┴───────────┴──────────┘"
      ]
     },
     "execution_count": 44,
     "metadata": {},
     "output_type": "execute_result"
    }
   ],
   "source": [
    "# Mostramos las primeras 5 filas del DataFrame.\n",
    "df.head()"
   ]
  },
  {
   "cell_type": "code",
   "execution_count": 45,
   "id": "780c8304",
   "metadata": {},
   "outputs": [
    {
     "data": {
      "text/html": [
       "<div><style>\n",
       ".dataframe > thead > tr > th,\n",
       ".dataframe > tbody > tr > td {\n",
       "  text-align: right;\n",
       "}\n",
       "</style>\n",
       "<small>shape: (5, 10)</small><table border=\"1\" class=\"dataframe\"><thead><tr><th>col_0</th><th>col_1</th><th>col_2</th><th>col_3</th><th>col_4</th><th>col_5</th><th>col_6</th><th>col_7</th><th>col_8</th><th>col_9</th></tr><tr><td>f64</td><td>f64</td><td>f64</td><td>f64</td><td>f64</td><td>f64</td><td>f64</td><td>f64</td><td>f64</td><td>f64</td></tr></thead><tbody><tr><td>-0.455517</td><td>0.438926</td><td>-0.710952</td><td>-0.035393</td><td>0.041345</td><td>0.318845</td><td>0.616503</td><td>0.984751</td><td>-0.811067</td><td>0.749124</td></tr><tr><td>-0.807218</td><td>-0.135814</td><td>-0.793194</td><td>0.56547</td><td>-0.122177</td><td>0.453989</td><td>-0.365722</td><td>0.783355</td><td>0.493579</td><td>-0.607131</td></tr><tr><td>0.805205</td><td>0.254618</td><td>0.175289</td><td>-0.83454</td><td>-0.956776</td><td>0.537295</td><td>0.905799</td><td>0.497216</td><td>-0.475079</td><td>-0.379353</td></tr><tr><td>-0.088447</td><td>0.168196</td><td>-0.658814</td><td>-0.026683</td><td>0.652584</td><td>-0.784518</td><td>-0.418164</td><td>0.781585</td><td>0.873626</td><td>0.55481</td></tr><tr><td>-0.595273</td><td>0.299693</td><td>0.85024</td><td>-0.018586</td><td>0.792322</td><td>0.832024</td><td>0.030114</td><td>0.786893</td><td>-0.518059</td><td>0.943653</td></tr></tbody></table></div>"
      ],
      "text/plain": [
       "shape: (5, 10)\n",
       "┌───────────┬───────────┬───────────┬───────────┬───┬───────────┬──────────┬───────────┬───────────┐\n",
       "│ col_0     ┆ col_1     ┆ col_2     ┆ col_3     ┆ … ┆ col_6     ┆ col_7    ┆ col_8     ┆ col_9     │\n",
       "│ ---       ┆ ---       ┆ ---       ┆ ---       ┆   ┆ ---       ┆ ---      ┆ ---       ┆ ---       │\n",
       "│ f64       ┆ f64       ┆ f64       ┆ f64       ┆   ┆ f64       ┆ f64      ┆ f64       ┆ f64       │\n",
       "╞═══════════╪═══════════╪═══════════╪═══════════╪═══╪═══════════╪══════════╪═══════════╪═══════════╡\n",
       "│ -0.455517 ┆ 0.438926  ┆ -0.710952 ┆ -0.035393 ┆ … ┆ 0.616503  ┆ 0.984751 ┆ -0.811067 ┆ 0.749124  │\n",
       "│ -0.807218 ┆ -0.135814 ┆ -0.793194 ┆ 0.56547   ┆ … ┆ -0.365722 ┆ 0.783355 ┆ 0.493579  ┆ -0.607131 │\n",
       "│ 0.805205  ┆ 0.254618  ┆ 0.175289  ┆ -0.83454  ┆ … ┆ 0.905799  ┆ 0.497216 ┆ -0.475079 ┆ -0.379353 │\n",
       "│ -0.088447 ┆ 0.168196  ┆ -0.658814 ┆ -0.026683 ┆ … ┆ -0.418164 ┆ 0.781585 ┆ 0.873626  ┆ 0.55481   │\n",
       "│ -0.595273 ┆ 0.299693  ┆ 0.85024   ┆ -0.018586 ┆ … ┆ 0.030114  ┆ 0.786893 ┆ -0.518059 ┆ 0.943653  │\n",
       "└───────────┴───────────┴───────────┴───────────┴───┴───────────┴──────────┴───────────┴───────────┘"
      ]
     },
     "execution_count": 45,
     "metadata": {},
     "output_type": "execute_result"
    }
   ],
   "source": [
    "# Mostramos las últimas 5 filas del DataFrame.\n",
    "df.tail()"
   ]
  },
  {
   "cell_type": "markdown",
   "id": "071faca2",
   "metadata": {},
   "source": [
    "También es posible recuperar algunas filas al azar de un DataFrame de **<font color=\"mediumorchid\">Polars</font>** por medio del método `sample()`:"
   ]
  },
  {
   "cell_type": "code",
   "execution_count": 46,
   "id": "27d2b32b",
   "metadata": {},
   "outputs": [
    {
     "data": {
      "text/html": [
       "<div><style>\n",
       ".dataframe > thead > tr > th,\n",
       ".dataframe > tbody > tr > td {\n",
       "  text-align: right;\n",
       "}\n",
       "</style>\n",
       "<small>shape: (2, 10)</small><table border=\"1\" class=\"dataframe\"><thead><tr><th>col_0</th><th>col_1</th><th>col_2</th><th>col_3</th><th>col_4</th><th>col_5</th><th>col_6</th><th>col_7</th><th>col_8</th><th>col_9</th></tr><tr><td>f64</td><td>f64</td><td>f64</td><td>f64</td><td>f64</td><td>f64</td><td>f64</td><td>f64</td><td>f64</td><td>f64</td></tr></thead><tbody><tr><td>0.805205</td><td>0.254618</td><td>0.175289</td><td>-0.83454</td><td>-0.956776</td><td>0.537295</td><td>0.905799</td><td>0.497216</td><td>-0.475079</td><td>-0.379353</td></tr><tr><td>0.938353</td><td>0.158439</td><td>-0.168385</td><td>-0.30626</td><td>0.143456</td><td>0.108072</td><td>-0.925175</td><td>0.872087</td><td>-0.368142</td><td>0.662225</td></tr></tbody></table></div>"
      ],
      "text/plain": [
       "shape: (2, 10)\n",
       "┌──────────┬──────────┬───────────┬──────────┬───┬───────────┬──────────┬───────────┬───────────┐\n",
       "│ col_0    ┆ col_1    ┆ col_2     ┆ col_3    ┆ … ┆ col_6     ┆ col_7    ┆ col_8     ┆ col_9     │\n",
       "│ ---      ┆ ---      ┆ ---       ┆ ---      ┆   ┆ ---       ┆ ---      ┆ ---       ┆ ---       │\n",
       "│ f64      ┆ f64      ┆ f64       ┆ f64      ┆   ┆ f64       ┆ f64      ┆ f64       ┆ f64       │\n",
       "╞══════════╪══════════╪═══════════╪══════════╪═══╪═══════════╪══════════╪═══════════╪═══════════╡\n",
       "│ 0.805205 ┆ 0.254618 ┆ 0.175289  ┆ -0.83454 ┆ … ┆ 0.905799  ┆ 0.497216 ┆ -0.475079 ┆ -0.379353 │\n",
       "│ 0.938353 ┆ 0.158439 ┆ -0.168385 ┆ -0.30626 ┆ … ┆ -0.925175 ┆ 0.872087 ┆ -0.368142 ┆ 0.662225  │\n",
       "└──────────┴──────────┴───────────┴──────────┴───┴───────────┴──────────┴───────────┴───────────┘"
      ]
     },
     "execution_count": 46,
     "metadata": {},
     "output_type": "execute_result"
    }
   ],
   "source": [
    "# Extraemos dos filas al azar de nuestro DataFrame.\n",
    "df.sample(n=2)"
   ]
  },
  {
   "cell_type": "markdown",
   "id": "92c9335a",
   "metadata": {},
   "source": [
    "Siempre podemos mantener la reproducibilidad de los muestreos de filas en un DataFrame por medio del parámetro `seed`:"
   ]
  },
  {
   "cell_type": "code",
   "execution_count": 47,
   "id": "fe9ba7b8",
   "metadata": {},
   "outputs": [
    {
     "data": {
      "text/html": [
       "<div><style>\n",
       ".dataframe > thead > tr > th,\n",
       ".dataframe > tbody > tr > td {\n",
       "  text-align: right;\n",
       "}\n",
       "</style>\n",
       "<small>shape: (2, 10)</small><table border=\"1\" class=\"dataframe\"><thead><tr><th>col_0</th><th>col_1</th><th>col_2</th><th>col_3</th><th>col_4</th><th>col_5</th><th>col_6</th><th>col_7</th><th>col_8</th><th>col_9</th></tr><tr><td>f64</td><td>f64</td><td>f64</td><td>f64</td><td>f64</td><td>f64</td><td>f64</td><td>f64</td><td>f64</td><td>f64</td></tr></thead><tbody><tr><td>-0.595273</td><td>0.299693</td><td>0.85024</td><td>-0.018586</td><td>0.792322</td><td>0.832024</td><td>0.030114</td><td>0.786893</td><td>-0.518059</td><td>0.943653</td></tr><tr><td>0.805205</td><td>0.254618</td><td>0.175289</td><td>-0.83454</td><td>-0.956776</td><td>0.537295</td><td>0.905799</td><td>0.497216</td><td>-0.475079</td><td>-0.379353</td></tr></tbody></table></div>"
      ],
      "text/plain": [
       "shape: (2, 10)\n",
       "┌───────────┬──────────┬──────────┬───────────┬───┬──────────┬──────────┬───────────┬───────────┐\n",
       "│ col_0     ┆ col_1    ┆ col_2    ┆ col_3     ┆ … ┆ col_6    ┆ col_7    ┆ col_8     ┆ col_9     │\n",
       "│ ---       ┆ ---      ┆ ---      ┆ ---       ┆   ┆ ---      ┆ ---      ┆ ---       ┆ ---       │\n",
       "│ f64       ┆ f64      ┆ f64      ┆ f64       ┆   ┆ f64      ┆ f64      ┆ f64       ┆ f64       │\n",
       "╞═══════════╪══════════╪══════════╪═══════════╪═══╪══════════╪══════════╪═══════════╪═══════════╡\n",
       "│ -0.595273 ┆ 0.299693 ┆ 0.85024  ┆ -0.018586 ┆ … ┆ 0.030114 ┆ 0.786893 ┆ -0.518059 ┆ 0.943653  │\n",
       "│ 0.805205  ┆ 0.254618 ┆ 0.175289 ┆ -0.83454  ┆ … ┆ 0.905799 ┆ 0.497216 ┆ -0.475079 ┆ -0.379353 │\n",
       "└───────────┴──────────┴──────────┴───────────┴───┴──────────┴──────────┴───────────┴───────────┘"
      ]
     },
     "execution_count": 47,
     "metadata": {},
     "output_type": "execute_result"
    }
   ],
   "source": [
    "# Extraemos dos filas al azar de nuestro DataFrame, con una semilla aleatoria fija.\n",
    "df.sample(n=2, seed=42)"
   ]
  },
  {
   "cell_type": "markdown",
   "id": "bbd57597",
   "metadata": {},
   "source": [
    "Podemos seleccionar cualquier columna en un DataFrame de **<font color=\"mediumorchid\">Polars</font>** haciendo uso del mismo esquema de indexación sencillo usado en **<font color=\"mediumorchid\">Pandas</font>**, nombrando la columna de interés por medio de corchetes, o bien, listas anidadas (fancy indexing):"
   ]
  },
  {
   "cell_type": "code",
   "execution_count": 48,
   "id": "352de3d6",
   "metadata": {},
   "outputs": [
    {
     "data": {
      "text/html": [
       "<div><style>\n",
       ".dataframe > thead > tr > th,\n",
       ".dataframe > tbody > tr > td {\n",
       "  text-align: right;\n",
       "}\n",
       "</style>\n",
       "<small>shape: (10,)</small><table border=\"1\" class=\"dataframe\"><thead><tr><th>col_3</th></tr><tr><td>f64</td></tr></thead><tbody><tr><td>0.162122</td></tr><tr><td>-0.30626</td></tr><tr><td>0.181831</td></tr><tr><td>-0.954392</td></tr><tr><td>0.917118</td></tr><tr><td>-0.035393</td></tr><tr><td>0.56547</td></tr><tr><td>-0.83454</td></tr><tr><td>-0.026683</td></tr><tr><td>-0.018586</td></tr></tbody></table></div>"
      ],
      "text/plain": [
       "shape: (10,)\n",
       "Series: 'col_3' [f64]\n",
       "[\n",
       "\t0.162122\n",
       "\t-0.30626\n",
       "\t0.181831\n",
       "\t-0.954392\n",
       "\t0.917118\n",
       "\t-0.035393\n",
       "\t0.56547\n",
       "\t-0.83454\n",
       "\t-0.026683\n",
       "\t-0.018586\n",
       "]"
      ]
     },
     "execution_count": 48,
     "metadata": {},
     "output_type": "execute_result"
    }
   ],
   "source": [
    "# Seleccionamos una columna del DataFrame.\n",
    "df[\"col_3\"]"
   ]
  },
  {
   "cell_type": "code",
   "execution_count": 49,
   "id": "00624289",
   "metadata": {},
   "outputs": [
    {
     "data": {
      "text/html": [
       "<div><style>\n",
       ".dataframe > thead > tr > th,\n",
       ".dataframe > tbody > tr > td {\n",
       "  text-align: right;\n",
       "}\n",
       "</style>\n",
       "<small>shape: (10, 3)</small><table border=\"1\" class=\"dataframe\"><thead><tr><th>col_1</th><th>col_4</th><th>col_7</th></tr><tr><td>f64</td><td>f64</td><td>f64</td></tr></thead><tbody><tr><td>-0.388087</td><td>0.875653</td><td>-0.48807</td></tr><tr><td>0.158439</td><td>0.143456</td><td>0.872087</td></tr><tr><td>-0.646454</td><td>-0.053021</td><td>-0.670784</td></tr><tr><td>0.713229</td><td>-0.466049</td><td>-0.910179</td></tr><tr><td>0.517039</td><td>-0.336862</td><td>-0.129806</td></tr><tr><td>0.438926</td><td>0.041345</td><td>0.984751</td></tr><tr><td>-0.135814</td><td>-0.122177</td><td>0.783355</td></tr><tr><td>0.254618</td><td>-0.956776</td><td>0.497216</td></tr><tr><td>0.168196</td><td>0.652584</td><td>0.781585</td></tr><tr><td>0.299693</td><td>0.792322</td><td>0.786893</td></tr></tbody></table></div>"
      ],
      "text/plain": [
       "shape: (10, 3)\n",
       "┌───────────┬───────────┬───────────┐\n",
       "│ col_1     ┆ col_4     ┆ col_7     │\n",
       "│ ---       ┆ ---       ┆ ---       │\n",
       "│ f64       ┆ f64       ┆ f64       │\n",
       "╞═══════════╪═══════════╪═══════════╡\n",
       "│ -0.388087 ┆ 0.875653  ┆ -0.48807  │\n",
       "│ 0.158439  ┆ 0.143456  ┆ 0.872087  │\n",
       "│ -0.646454 ┆ -0.053021 ┆ -0.670784 │\n",
       "│ 0.713229  ┆ -0.466049 ┆ -0.910179 │\n",
       "│ …         ┆ …         ┆ …         │\n",
       "│ -0.135814 ┆ -0.122177 ┆ 0.783355  │\n",
       "│ 0.254618  ┆ -0.956776 ┆ 0.497216  │\n",
       "│ 0.168196  ┆ 0.652584  ┆ 0.781585  │\n",
       "│ 0.299693  ┆ 0.792322  ┆ 0.786893  │\n",
       "└───────────┴───────────┴───────────┘"
      ]
     },
     "execution_count": 49,
     "metadata": {},
     "output_type": "execute_result"
    }
   ],
   "source": [
    "# Seleccionamos más de una columna mediante fancy indexing.\n",
    "df[[\"col_1\", \"col_4\", \"col_7\"]]"
   ]
  },
  {
   "cell_type": "markdown",
   "id": "ea7ad669",
   "metadata": {},
   "source": [
    "También, al igual que en **<font color=\"mediumorchid\">Pandas</font>**, en **<font color=\"mediumorchid\">Polars</font>** disponemos de un método `describe()` para obtener un resumen estadístico de las columnas que constituyen el DataFrame:"
   ]
  },
  {
   "cell_type": "code",
   "execution_count": 50,
   "id": "3a46bc6b",
   "metadata": {},
   "outputs": [
    {
     "data": {
      "text/html": [
       "<div><style>\n",
       ".dataframe > thead > tr > th,\n",
       ".dataframe > tbody > tr > td {\n",
       "  text-align: right;\n",
       "}\n",
       "</style>\n",
       "<small>shape: (9, 11)</small><table border=\"1\" class=\"dataframe\"><thead><tr><th>describe</th><th>col_0</th><th>col_1</th><th>col_2</th><th>col_3</th><th>col_4</th><th>col_5</th><th>col_6</th><th>col_7</th><th>col_8</th><th>col_9</th></tr><tr><td>str</td><td>f64</td><td>f64</td><td>f64</td><td>f64</td><td>f64</td><td>f64</td><td>f64</td><td>f64</td><td>f64</td><td>f64</td></tr></thead><tbody><tr><td>&quot;count&quot;</td><td>10.0</td><td>10.0</td><td>10.0</td><td>10.0</td><td>10.0</td><td>10.0</td><td>10.0</td><td>10.0</td><td>10.0</td><td>10.0</td></tr><tr><td>&quot;null_count&quot;</td><td>0.0</td><td>0.0</td><td>0.0</td><td>0.0</td><td>0.0</td><td>0.0</td><td>0.0</td><td>0.0</td><td>0.0</td><td>0.0</td></tr><tr><td>&quot;mean&quot;</td><td>0.021885</td><td>0.137978</td><td>-0.340599</td><td>-0.034931</td><td>0.057047</td><td>-0.01297</td><td>-0.018509</td><td>0.250705</td><td>-0.015276</td><td>0.003272</td></tr><tr><td>&quot;std&quot;</td><td>0.621275</td><td>0.418104</td><td>0.561516</td><td>0.568764</td><td>0.584426</td><td>0.610539</td><td>0.593245</td><td>0.724655</td><td>0.553547</td><td>0.684065</td></tr><tr><td>&quot;min&quot;</td><td>-0.807218</td><td>-0.646454</td><td>-0.916772</td><td>-0.954392</td><td>-0.956776</td><td>-0.784518</td><td>-0.925175</td><td>-0.910179</td><td>-0.811067</td><td>-0.754484</td></tr><tr><td>&quot;max&quot;</td><td>0.938353</td><td>0.713229</td><td>0.85024</td><td>0.917118</td><td>0.875653</td><td>0.832024</td><td>0.905799</td><td>0.984751</td><td>0.873626</td><td>0.943653</td></tr><tr><td>&quot;median&quot;</td><td>-0.094862</td><td>0.211407</td><td>-0.499546</td><td>-0.022635</td><td>-0.005838</td><td>0.213459</td><td>-0.114021</td><td>0.639401</td><td>-0.107484</td><td>-0.090294</td></tr><tr><td>&quot;25%&quot;</td><td>-0.46826</td><td>-0.135814</td><td>-0.793194</td><td>-0.30626</td><td>-0.336862</td><td>-0.719502</td><td>-0.418164</td><td>-0.48807</td><td>-0.475079</td><td>-0.641463</td></tr><tr><td>&quot;75%&quot;</td><td>0.557502</td><td>0.438926</td><td>-0.012018</td><td>0.181831</td><td>0.652584</td><td>0.453989</td><td>0.616503</td><td>0.786893</td><td>0.493579</td><td>0.662225</td></tr></tbody></table></div>"
      ],
      "text/plain": [
       "shape: (9, 11)\n",
       "┌───────────┬───────────┬───────────┬───────────┬───┬───────────┬───────────┬───────────┬──────────┐\n",
       "│ describe  ┆ col_0     ┆ col_1     ┆ col_2     ┆ … ┆ col_6     ┆ col_7     ┆ col_8     ┆ col_9    │\n",
       "│ ---       ┆ ---       ┆ ---       ┆ ---       ┆   ┆ ---       ┆ ---       ┆ ---       ┆ ---      │\n",
       "│ str       ┆ f64       ┆ f64       ┆ f64       ┆   ┆ f64       ┆ f64       ┆ f64       ┆ f64      │\n",
       "╞═══════════╪═══════════╪═══════════╪═══════════╪═══╪═══════════╪═══════════╪═══════════╪══════════╡\n",
       "│ count     ┆ 10.0      ┆ 10.0      ┆ 10.0      ┆ … ┆ 10.0      ┆ 10.0      ┆ 10.0      ┆ 10.0     │\n",
       "│ null_coun ┆ 0.0       ┆ 0.0       ┆ 0.0       ┆ … ┆ 0.0       ┆ 0.0       ┆ 0.0       ┆ 0.0      │\n",
       "│ t         ┆           ┆           ┆           ┆   ┆           ┆           ┆           ┆          │\n",
       "│ mean      ┆ 0.021885  ┆ 0.137978  ┆ -0.340599 ┆ … ┆ -0.018509 ┆ 0.250705  ┆ -0.015276 ┆ 0.003272 │\n",
       "│ std       ┆ 0.621275  ┆ 0.418104  ┆ 0.561516  ┆ … ┆ 0.593245  ┆ 0.724655  ┆ 0.553547  ┆ 0.684065 │\n",
       "│ min       ┆ -0.807218 ┆ -0.646454 ┆ -0.916772 ┆ … ┆ -0.925175 ┆ -0.910179 ┆ -0.811067 ┆ -0.75448 │\n",
       "│           ┆           ┆           ┆           ┆   ┆           ┆           ┆           ┆ 4        │\n",
       "│ max       ┆ 0.938353  ┆ 0.713229  ┆ 0.85024   ┆ … ┆ 0.905799  ┆ 0.984751  ┆ 0.873626  ┆ 0.943653 │\n",
       "│ median    ┆ -0.094862 ┆ 0.211407  ┆ -0.499546 ┆ … ┆ -0.114021 ┆ 0.639401  ┆ -0.107484 ┆ -0.09029 │\n",
       "│           ┆           ┆           ┆           ┆   ┆           ┆           ┆           ┆ 4        │\n",
       "│ 25%       ┆ -0.46826  ┆ -0.135814 ┆ -0.793194 ┆ … ┆ -0.418164 ┆ -0.48807  ┆ -0.475079 ┆ -0.64146 │\n",
       "│           ┆           ┆           ┆           ┆   ┆           ┆           ┆           ┆ 3        │\n",
       "│ 75%       ┆ 0.557502  ┆ 0.438926  ┆ -0.012018 ┆ … ┆ 0.616503  ┆ 0.786893  ┆ 0.493579  ┆ 0.662225 │\n",
       "└───────────┴───────────┴───────────┴───────────┴───┴───────────┴───────────┴───────────┴──────────┘"
      ]
     },
     "execution_count": 50,
     "metadata": {},
     "output_type": "execute_result"
    }
   ],
   "source": [
    "# Resumen estadístico sencillo del DataFrame.\n",
    "df.describe()"
   ]
  },
  {
   "cell_type": "markdown",
   "id": "45da5f09",
   "metadata": {},
   "source": [
    "Como en el caso de los DataFrames de **<font color=\"mediumorchid\">Pandas</font>**, podemos igualmente obtener los nombres asociados a las columnas de un DataFrame de **<font color=\"mediumorchid\">Polars</font>** mediante el atributo `columns`. La gran diferencia es que estos nombres se recuperan en un formato de lista de Python, ya que, insistimos, en **<font color=\"mediumorchid\">Polars</font>** no existe un objeto especializado que explicite *demasiado* la selección de datos en un DataFrame:"
   ]
  },
  {
   "cell_type": "code",
   "execution_count": 51,
   "id": "94cf21af",
   "metadata": {},
   "outputs": [
    {
     "data": {
      "text/plain": [
       "['col_0',\n",
       " 'col_1',\n",
       " 'col_2',\n",
       " 'col_3',\n",
       " 'col_4',\n",
       " 'col_5',\n",
       " 'col_6',\n",
       " 'col_7',\n",
       " 'col_8',\n",
       " 'col_9']"
      ]
     },
     "execution_count": 51,
     "metadata": {},
     "output_type": "execute_result"
    }
   ],
   "source": [
    "# Recuperamos los nombres de las columnas del DataFrame.\n",
    "df.columns"
   ]
  },
  {
   "cell_type": "markdown",
   "id": "8f082c2c",
   "metadata": {},
   "source": [
    "Es posible cambiar los nombres de las columnas de un DataFrame por simple asignación, usando una lista que explicite los nuevos nombres que tenga la misma cantidad de elementos como columnas tenga el DataFrame que deseamos modificar:"
   ]
  },
  {
   "cell_type": "code",
   "execution_count": 52,
   "id": "f2b38390",
   "metadata": {},
   "outputs": [],
   "source": [
    "# Renombramos las columnas del DataFrame.\n",
    "df.columns = [f\"columna_{j}\" for j in range(10)]"
   ]
  },
  {
   "cell_type": "code",
   "execution_count": 53,
   "id": "543501b0",
   "metadata": {},
   "outputs": [
    {
     "data": {
      "text/html": [
       "<div><style>\n",
       ".dataframe > thead > tr > th,\n",
       ".dataframe > tbody > tr > td {\n",
       "  text-align: right;\n",
       "}\n",
       "</style>\n",
       "<small>shape: (10, 10)</small><table border=\"1\" class=\"dataframe\"><thead><tr><th>columna_0</th><th>columna_1</th><th>columna_2</th><th>columna_3</th><th>columna_4</th><th>columna_5</th><th>columna_6</th><th>columna_7</th><th>columna_8</th><th>columna_9</th></tr><tr><td>f64</td><td>f64</td><td>f64</td><td>f64</td><td>f64</td><td>f64</td><td>f64</td><td>f64</td><td>f64</td><td>f64</td></tr></thead><tbody><tr><td>-0.46826</td><td>-0.388087</td><td>-0.831111</td><td>0.162122</td><td>0.875653</td><td>-0.719502</td><td>-0.539572</td><td>-0.48807</td><td>0.037717</td><td>-0.754484</td></tr><tr><td>0.938353</td><td>0.158439</td><td>-0.168385</td><td>-0.30626</td><td>0.143456</td><td>0.108072</td><td>-0.925175</td><td>0.872087</td><td>-0.368142</td><td>0.662225</td></tr><tr><td>0.557502</td><td>-0.646454</td><td>-0.916772</td><td>0.181831</td><td>-0.053021</td><td>-0.782849</td><td>0.109705</td><td>-0.670784</td><td>0.544025</td><td>-0.693431</td></tr><tr><td>0.43378</td><td>0.713229</td><td>-0.012018</td><td>-0.954392</td><td>-0.466049</td><td>0.34448</td><td>-0.258155</td><td>-0.910179</td><td>0.323323</td><td>-0.641463</td></tr><tr><td>-0.101277</td><td>0.517039</td><td>-0.340278</td><td>0.917118</td><td>-0.336862</td><td>-0.437532</td><td>0.659579</td><td>-0.129806</td><td>-0.252685</td><td>0.198766</td></tr><tr><td>-0.455517</td><td>0.438926</td><td>-0.710952</td><td>-0.035393</td><td>0.041345</td><td>0.318845</td><td>0.616503</td><td>0.984751</td><td>-0.811067</td><td>0.749124</td></tr><tr><td>-0.807218</td><td>-0.135814</td><td>-0.793194</td><td>0.56547</td><td>-0.122177</td><td>0.453989</td><td>-0.365722</td><td>0.783355</td><td>0.493579</td><td>-0.607131</td></tr><tr><td>0.805205</td><td>0.254618</td><td>0.175289</td><td>-0.83454</td><td>-0.956776</td><td>0.537295</td><td>0.905799</td><td>0.497216</td><td>-0.475079</td><td>-0.379353</td></tr><tr><td>-0.088447</td><td>0.168196</td><td>-0.658814</td><td>-0.026683</td><td>0.652584</td><td>-0.784518</td><td>-0.418164</td><td>0.781585</td><td>0.873626</td><td>0.55481</td></tr><tr><td>-0.595273</td><td>0.299693</td><td>0.85024</td><td>-0.018586</td><td>0.792322</td><td>0.832024</td><td>0.030114</td><td>0.786893</td><td>-0.518059</td><td>0.943653</td></tr></tbody></table></div>"
      ],
      "text/plain": [
       "shape: (10, 10)\n",
       "┌─────────┬────────────┬───────────┬───────────┬───┬───────────┬───────────┬───────────┬───────────┐\n",
       "│ columna ┆ columna_1  ┆ columna_2 ┆ columna_3 ┆ … ┆ columna_6 ┆ columna_7 ┆ columna_8 ┆ columna_9 │\n",
       "│ _0      ┆ ---        ┆ ---       ┆ ---       ┆   ┆ ---       ┆ ---       ┆ ---       ┆ ---       │\n",
       "│ ---     ┆ f64        ┆ f64       ┆ f64       ┆   ┆ f64       ┆ f64       ┆ f64       ┆ f64       │\n",
       "│ f64     ┆            ┆           ┆           ┆   ┆           ┆           ┆           ┆           │\n",
       "╞═════════╪════════════╪═══════════╪═══════════╪═══╪═══════════╪═══════════╪═══════════╪═══════════╡\n",
       "│ -0.4682 ┆ -0.388087  ┆ -0.831111 ┆ 0.162122  ┆ … ┆ -0.539572 ┆ -0.48807  ┆ 0.037717  ┆ -0.754484 │\n",
       "│ 6       ┆            ┆           ┆           ┆   ┆           ┆           ┆           ┆           │\n",
       "│ 0.93835 ┆ 0.158439   ┆ -0.168385 ┆ -0.30626  ┆ … ┆ -0.925175 ┆ 0.872087  ┆ -0.368142 ┆ 0.662225  │\n",
       "│ 3       ┆            ┆           ┆           ┆   ┆           ┆           ┆           ┆           │\n",
       "│ 0.55750 ┆ -0.646454  ┆ -0.916772 ┆ 0.181831  ┆ … ┆ 0.109705  ┆ -0.670784 ┆ 0.544025  ┆ -0.693431 │\n",
       "│ 2       ┆            ┆           ┆           ┆   ┆           ┆           ┆           ┆           │\n",
       "│ 0.43378 ┆ 0.713229   ┆ -0.012018 ┆ -0.954392 ┆ … ┆ -0.258155 ┆ -0.910179 ┆ 0.323323  ┆ -0.641463 │\n",
       "│ …       ┆ …          ┆ …         ┆ …         ┆ … ┆ …         ┆ …         ┆ …         ┆ …         │\n",
       "│ -0.8072 ┆ -0.135814  ┆ -0.793194 ┆ 0.56547   ┆ … ┆ -0.365722 ┆ 0.783355  ┆ 0.493579  ┆ -0.607131 │\n",
       "│ 18      ┆            ┆           ┆           ┆   ┆           ┆           ┆           ┆           │\n",
       "│ 0.80520 ┆ 0.254618   ┆ 0.175289  ┆ -0.83454  ┆ … ┆ 0.905799  ┆ 0.497216  ┆ -0.475079 ┆ -0.379353 │\n",
       "│ 5       ┆            ┆           ┆           ┆   ┆           ┆           ┆           ┆           │\n",
       "│ -0.0884 ┆ 0.168196   ┆ -0.658814 ┆ -0.026683 ┆ … ┆ -0.418164 ┆ 0.781585  ┆ 0.873626  ┆ 0.55481   │\n",
       "│ 47      ┆            ┆           ┆           ┆   ┆           ┆           ┆           ┆           │\n",
       "│ -0.5952 ┆ 0.299693   ┆ 0.85024   ┆ -0.018586 ┆ … ┆ 0.030114  ┆ 0.786893  ┆ -0.518059 ┆ 0.943653  │\n",
       "│ 73      ┆            ┆           ┆           ┆   ┆           ┆           ┆           ┆           │\n",
       "└─────────┴────────────┴───────────┴───────────┴───┴───────────┴───────────┴───────────┴───────────┘"
      ]
     },
     "execution_count": 53,
     "metadata": {},
     "output_type": "execute_result"
    }
   ],
   "source": [
    "# Mostramos el DataFrame en pantalla.\n",
    "df"
   ]
  },
  {
   "cell_type": "markdown",
   "id": "dbd6320a",
   "metadata": {},
   "source": [
    "Evidentemente, no podemos cambiar únicamente el nombre de una columna con el método anterior, salvo que repliquemos los nombres anteriores en una nueva lista, y sólo cambiemos los que deseemos. No obstante, **<font color=\"mediumorchid\">Polars</font>** nos provee del método `rename()`, el cual permite renombrar cualquier columna de un DataFrame, usando un esquema de tipo diccionario que mapee el nombre antiguo con el nombre nuevo:"
   ]
  },
  {
   "cell_type": "code",
   "execution_count": 54,
   "id": "2b7bca06",
   "metadata": {},
   "outputs": [
    {
     "data": {
      "text/html": [
       "<div><style>\n",
       ".dataframe > thead > tr > th,\n",
       ".dataframe > tbody > tr > td {\n",
       "  text-align: right;\n",
       "}\n",
       "</style>\n",
       "<small>shape: (10, 10)</small><table border=\"1\" class=\"dataframe\"><thead><tr><th>asdf</th><th>columna_1</th><th>columna_2</th><th>columna_3</th><th>columna_4</th><th>columna_5</th><th>columna_6</th><th>columna_7</th><th>columna_8</th><th>qwerty</th></tr><tr><td>f64</td><td>f64</td><td>f64</td><td>f64</td><td>f64</td><td>f64</td><td>f64</td><td>f64</td><td>f64</td><td>f64</td></tr></thead><tbody><tr><td>-0.46826</td><td>-0.388087</td><td>-0.831111</td><td>0.162122</td><td>0.875653</td><td>-0.719502</td><td>-0.539572</td><td>-0.48807</td><td>0.037717</td><td>-0.754484</td></tr><tr><td>0.938353</td><td>0.158439</td><td>-0.168385</td><td>-0.30626</td><td>0.143456</td><td>0.108072</td><td>-0.925175</td><td>0.872087</td><td>-0.368142</td><td>0.662225</td></tr><tr><td>0.557502</td><td>-0.646454</td><td>-0.916772</td><td>0.181831</td><td>-0.053021</td><td>-0.782849</td><td>0.109705</td><td>-0.670784</td><td>0.544025</td><td>-0.693431</td></tr><tr><td>0.43378</td><td>0.713229</td><td>-0.012018</td><td>-0.954392</td><td>-0.466049</td><td>0.34448</td><td>-0.258155</td><td>-0.910179</td><td>0.323323</td><td>-0.641463</td></tr><tr><td>-0.101277</td><td>0.517039</td><td>-0.340278</td><td>0.917118</td><td>-0.336862</td><td>-0.437532</td><td>0.659579</td><td>-0.129806</td><td>-0.252685</td><td>0.198766</td></tr><tr><td>-0.455517</td><td>0.438926</td><td>-0.710952</td><td>-0.035393</td><td>0.041345</td><td>0.318845</td><td>0.616503</td><td>0.984751</td><td>-0.811067</td><td>0.749124</td></tr><tr><td>-0.807218</td><td>-0.135814</td><td>-0.793194</td><td>0.56547</td><td>-0.122177</td><td>0.453989</td><td>-0.365722</td><td>0.783355</td><td>0.493579</td><td>-0.607131</td></tr><tr><td>0.805205</td><td>0.254618</td><td>0.175289</td><td>-0.83454</td><td>-0.956776</td><td>0.537295</td><td>0.905799</td><td>0.497216</td><td>-0.475079</td><td>-0.379353</td></tr><tr><td>-0.088447</td><td>0.168196</td><td>-0.658814</td><td>-0.026683</td><td>0.652584</td><td>-0.784518</td><td>-0.418164</td><td>0.781585</td><td>0.873626</td><td>0.55481</td></tr><tr><td>-0.595273</td><td>0.299693</td><td>0.85024</td><td>-0.018586</td><td>0.792322</td><td>0.832024</td><td>0.030114</td><td>0.786893</td><td>-0.518059</td><td>0.943653</td></tr></tbody></table></div>"
      ],
      "text/plain": [
       "shape: (10, 10)\n",
       "┌────────────┬─────────┬───────────┬───────────┬───┬───────────┬───────────┬───────────┬───────────┐\n",
       "│ asdf       ┆ columna ┆ columna_2 ┆ columna_3 ┆ … ┆ columna_6 ┆ columna_7 ┆ columna_8 ┆ qwerty    │\n",
       "│ ---        ┆ _1      ┆ ---       ┆ ---       ┆   ┆ ---       ┆ ---       ┆ ---       ┆ ---       │\n",
       "│ f64        ┆ ---     ┆ f64       ┆ f64       ┆   ┆ f64       ┆ f64       ┆ f64       ┆ f64       │\n",
       "│            ┆ f64     ┆           ┆           ┆   ┆           ┆           ┆           ┆           │\n",
       "╞════════════╪═════════╪═══════════╪═══════════╪═══╪═══════════╪═══════════╪═══════════╪═══════════╡\n",
       "│ -0.46826   ┆ -0.3880 ┆ -0.831111 ┆ 0.162122  ┆ … ┆ -0.539572 ┆ -0.48807  ┆ 0.037717  ┆ -0.754484 │\n",
       "│            ┆ 87      ┆           ┆           ┆   ┆           ┆           ┆           ┆           │\n",
       "│ 0.938353   ┆ 0.15843 ┆ -0.168385 ┆ -0.30626  ┆ … ┆ -0.925175 ┆ 0.872087  ┆ -0.368142 ┆ 0.662225  │\n",
       "│            ┆ 9       ┆           ┆           ┆   ┆           ┆           ┆           ┆           │\n",
       "│ 0.557502   ┆ -0.6464 ┆ -0.916772 ┆ 0.181831  ┆ … ┆ 0.109705  ┆ -0.670784 ┆ 0.544025  ┆ -0.693431 │\n",
       "│            ┆ 54      ┆           ┆           ┆   ┆           ┆           ┆           ┆           │\n",
       "│ 0.43378    ┆ 0.71322 ┆ -0.012018 ┆ -0.954392 ┆ … ┆ -0.258155 ┆ -0.910179 ┆ 0.323323  ┆ -0.641463 │\n",
       "│            ┆ 9       ┆           ┆           ┆   ┆           ┆           ┆           ┆           │\n",
       "│ …          ┆ …       ┆ …         ┆ …         ┆ … ┆ …         ┆ …         ┆ …         ┆ …         │\n",
       "│ -0.807218  ┆ -0.1358 ┆ -0.793194 ┆ 0.56547   ┆ … ┆ -0.365722 ┆ 0.783355  ┆ 0.493579  ┆ -0.607131 │\n",
       "│            ┆ 14      ┆           ┆           ┆   ┆           ┆           ┆           ┆           │\n",
       "│ 0.805205   ┆ 0.25461 ┆ 0.175289  ┆ -0.83454  ┆ … ┆ 0.905799  ┆ 0.497216  ┆ -0.475079 ┆ -0.379353 │\n",
       "│            ┆ 8       ┆           ┆           ┆   ┆           ┆           ┆           ┆           │\n",
       "│ -0.088447  ┆ 0.16819 ┆ -0.658814 ┆ -0.026683 ┆ … ┆ -0.418164 ┆ 0.781585  ┆ 0.873626  ┆ 0.55481   │\n",
       "│            ┆ 6       ┆           ┆           ┆   ┆           ┆           ┆           ┆           │\n",
       "│ -0.595273  ┆ 0.29969 ┆ 0.85024   ┆ -0.018586 ┆ … ┆ 0.030114  ┆ 0.786893  ┆ -0.518059 ┆ 0.943653  │\n",
       "│            ┆ 3       ┆           ┆           ┆   ┆           ┆           ┆           ┆           │\n",
       "└────────────┴─────────┴───────────┴───────────┴───┴───────────┴───────────┴───────────┴───────────┘"
      ]
     },
     "execution_count": 54,
     "metadata": {},
     "output_type": "execute_result"
    }
   ],
   "source": [
    "# Renombramos dos columnas del DataFrame anterior.\n",
    "df.rename({\"columna_0\": \"asdf\", \"columna_9\": \"qwerty\"})"
   ]
  },
  {
   "cell_type": "markdown",
   "id": "0fa4157c",
   "metadata": {},
   "source": [
    "Finalmente, un último comentario que haremos, por ahora, en relación a los aspectos más básicos de los DataFrames de **<font color=\"mediumorchid\">Polars</font>** es, sin duda, que podemos transformarlos en estructuras compatibles con otras librerías sin ningún problema, de la misma forma en que lo hicimos con las series. Por ejemplo, podemos usar el método `to_numpy()` para convertir un DataFrame de **<font color=\"mediumorchid\">Polars</font>** en un arreglo bidimensional de **<font color=\"mediumorchid\">Numpy</font>**:"
   ]
  },
  {
   "cell_type": "code",
   "execution_count": 55,
   "id": "79409e72",
   "metadata": {},
   "outputs": [
    {
     "data": {
      "text/plain": [
       "array([[-0.46826008, -0.38808675, -0.83111136,  0.16212228,  0.87565291,\n",
       "        -0.71950182, -0.53957202, -0.48806982,  0.03771672, -0.75448414],\n",
       "       [ 0.93835275,  0.15843914, -0.1683852 , -0.30626039,  0.1434561 ,\n",
       "         0.10807229, -0.92517489,  0.87208714, -0.3681419 ,  0.66222534],\n",
       "       [ 0.55750181, -0.64645443, -0.91677165,  0.18183098, -0.0530212 ,\n",
       "        -0.78284852,  0.10970494, -0.67078436,  0.54402486, -0.69343137],\n",
       "       [ 0.43378038,  0.71322857, -0.01201836, -0.95439226, -0.46604867,\n",
       "         0.34448019, -0.25815543, -0.91017876,  0.32332253, -0.64146338],\n",
       "       [-0.101277  ,  0.51703906, -0.34027758,  0.91711843, -0.33686201,\n",
       "        -0.43753243,  0.65957949, -0.12980588, -0.25268454,  0.19876558],\n",
       "       [-0.45551688,  0.43892591, -0.71095162, -0.03539313,  0.0413448 ,\n",
       "         0.31884527,  0.61650294,  0.98475113, -0.81106666,  0.74912408],\n",
       "       [-0.80721808, -0.13581392, -0.79319406,  0.56547045, -0.12217708,\n",
       "         0.45398923, -0.36572221,  0.78335453,  0.49357922, -0.60713067],\n",
       "       [ 0.80520479,  0.25461768,  0.17528914, -0.83454   , -0.95677584,\n",
       "         0.53729498,  0.90579879,  0.49721604, -0.47507897, -0.37935265],\n",
       "       [-0.08844742,  0.16819594, -0.65881406, -0.02668334,  0.65258385,\n",
       "        -0.78451811, -0.41816432,  0.78158498,  0.8736263 ,  0.55480968],\n",
       "       [-0.59527327,  0.2996932 ,  0.85024024, -0.01858601,  0.79232154,\n",
       "         0.83202369,  0.03011426,  0.78689328, -0.51805885,  0.94365285]])"
      ]
     },
     "execution_count": 55,
     "metadata": {},
     "output_type": "execute_result"
    }
   ],
   "source": [
    "# Transformación de nuestro DataFrame en un arreglo 2D de Numpy.\n",
    "df.to_numpy()"
   ]
  },
  {
   "cell_type": "markdown",
   "id": "b28d7a1d",
   "metadata": {},
   "source": [
    "Y, además, podemos utilizar el método `to_pandas()` para transformar nuestro DataFrame de **<font color=\"mediumorchid\">Polars</font>** en un DataFrame de **<font color=\"mediumorchid\">Pandas</font>**:"
   ]
  },
  {
   "cell_type": "code",
   "execution_count": 56,
   "id": "78f3797f",
   "metadata": {},
   "outputs": [
    {
     "data": {
      "text/html": [
       "<div>\n",
       "<style scoped>\n",
       "    .dataframe tbody tr th:only-of-type {\n",
       "        vertical-align: middle;\n",
       "    }\n",
       "\n",
       "    .dataframe tbody tr th {\n",
       "        vertical-align: top;\n",
       "    }\n",
       "\n",
       "    .dataframe thead th {\n",
       "        text-align: right;\n",
       "    }\n",
       "</style>\n",
       "<table border=\"1\" class=\"dataframe\">\n",
       "  <thead>\n",
       "    <tr style=\"text-align: right;\">\n",
       "      <th></th>\n",
       "      <th>columna_0</th>\n",
       "      <th>columna_1</th>\n",
       "      <th>columna_2</th>\n",
       "      <th>columna_3</th>\n",
       "      <th>columna_4</th>\n",
       "      <th>columna_5</th>\n",
       "      <th>columna_6</th>\n",
       "      <th>columna_7</th>\n",
       "      <th>columna_8</th>\n",
       "      <th>columna_9</th>\n",
       "    </tr>\n",
       "  </thead>\n",
       "  <tbody>\n",
       "    <tr>\n",
       "      <th>0</th>\n",
       "      <td>-0.468260</td>\n",
       "      <td>-0.388087</td>\n",
       "      <td>-0.831111</td>\n",
       "      <td>0.162122</td>\n",
       "      <td>0.875653</td>\n",
       "      <td>-0.719502</td>\n",
       "      <td>-0.539572</td>\n",
       "      <td>-0.488070</td>\n",
       "      <td>0.037717</td>\n",
       "      <td>-0.754484</td>\n",
       "    </tr>\n",
       "    <tr>\n",
       "      <th>1</th>\n",
       "      <td>0.938353</td>\n",
       "      <td>0.158439</td>\n",
       "      <td>-0.168385</td>\n",
       "      <td>-0.306260</td>\n",
       "      <td>0.143456</td>\n",
       "      <td>0.108072</td>\n",
       "      <td>-0.925175</td>\n",
       "      <td>0.872087</td>\n",
       "      <td>-0.368142</td>\n",
       "      <td>0.662225</td>\n",
       "    </tr>\n",
       "    <tr>\n",
       "      <th>2</th>\n",
       "      <td>0.557502</td>\n",
       "      <td>-0.646454</td>\n",
       "      <td>-0.916772</td>\n",
       "      <td>0.181831</td>\n",
       "      <td>-0.053021</td>\n",
       "      <td>-0.782849</td>\n",
       "      <td>0.109705</td>\n",
       "      <td>-0.670784</td>\n",
       "      <td>0.544025</td>\n",
       "      <td>-0.693431</td>\n",
       "    </tr>\n",
       "    <tr>\n",
       "      <th>3</th>\n",
       "      <td>0.433780</td>\n",
       "      <td>0.713229</td>\n",
       "      <td>-0.012018</td>\n",
       "      <td>-0.954392</td>\n",
       "      <td>-0.466049</td>\n",
       "      <td>0.344480</td>\n",
       "      <td>-0.258155</td>\n",
       "      <td>-0.910179</td>\n",
       "      <td>0.323323</td>\n",
       "      <td>-0.641463</td>\n",
       "    </tr>\n",
       "    <tr>\n",
       "      <th>4</th>\n",
       "      <td>-0.101277</td>\n",
       "      <td>0.517039</td>\n",
       "      <td>-0.340278</td>\n",
       "      <td>0.917118</td>\n",
       "      <td>-0.336862</td>\n",
       "      <td>-0.437532</td>\n",
       "      <td>0.659579</td>\n",
       "      <td>-0.129806</td>\n",
       "      <td>-0.252685</td>\n",
       "      <td>0.198766</td>\n",
       "    </tr>\n",
       "    <tr>\n",
       "      <th>5</th>\n",
       "      <td>-0.455517</td>\n",
       "      <td>0.438926</td>\n",
       "      <td>-0.710952</td>\n",
       "      <td>-0.035393</td>\n",
       "      <td>0.041345</td>\n",
       "      <td>0.318845</td>\n",
       "      <td>0.616503</td>\n",
       "      <td>0.984751</td>\n",
       "      <td>-0.811067</td>\n",
       "      <td>0.749124</td>\n",
       "    </tr>\n",
       "    <tr>\n",
       "      <th>6</th>\n",
       "      <td>-0.807218</td>\n",
       "      <td>-0.135814</td>\n",
       "      <td>-0.793194</td>\n",
       "      <td>0.565470</td>\n",
       "      <td>-0.122177</td>\n",
       "      <td>0.453989</td>\n",
       "      <td>-0.365722</td>\n",
       "      <td>0.783355</td>\n",
       "      <td>0.493579</td>\n",
       "      <td>-0.607131</td>\n",
       "    </tr>\n",
       "    <tr>\n",
       "      <th>7</th>\n",
       "      <td>0.805205</td>\n",
       "      <td>0.254618</td>\n",
       "      <td>0.175289</td>\n",
       "      <td>-0.834540</td>\n",
       "      <td>-0.956776</td>\n",
       "      <td>0.537295</td>\n",
       "      <td>0.905799</td>\n",
       "      <td>0.497216</td>\n",
       "      <td>-0.475079</td>\n",
       "      <td>-0.379353</td>\n",
       "    </tr>\n",
       "    <tr>\n",
       "      <th>8</th>\n",
       "      <td>-0.088447</td>\n",
       "      <td>0.168196</td>\n",
       "      <td>-0.658814</td>\n",
       "      <td>-0.026683</td>\n",
       "      <td>0.652584</td>\n",
       "      <td>-0.784518</td>\n",
       "      <td>-0.418164</td>\n",
       "      <td>0.781585</td>\n",
       "      <td>0.873626</td>\n",
       "      <td>0.554810</td>\n",
       "    </tr>\n",
       "    <tr>\n",
       "      <th>9</th>\n",
       "      <td>-0.595273</td>\n",
       "      <td>0.299693</td>\n",
       "      <td>0.850240</td>\n",
       "      <td>-0.018586</td>\n",
       "      <td>0.792322</td>\n",
       "      <td>0.832024</td>\n",
       "      <td>0.030114</td>\n",
       "      <td>0.786893</td>\n",
       "      <td>-0.518059</td>\n",
       "      <td>0.943653</td>\n",
       "    </tr>\n",
       "  </tbody>\n",
       "</table>\n",
       "</div>"
      ],
      "text/plain": [
       "   columna_0  columna_1  columna_2  columna_3  columna_4  columna_5  \\\n",
       "0  -0.468260  -0.388087  -0.831111   0.162122   0.875653  -0.719502   \n",
       "1   0.938353   0.158439  -0.168385  -0.306260   0.143456   0.108072   \n",
       "2   0.557502  -0.646454  -0.916772   0.181831  -0.053021  -0.782849   \n",
       "3   0.433780   0.713229  -0.012018  -0.954392  -0.466049   0.344480   \n",
       "4  -0.101277   0.517039  -0.340278   0.917118  -0.336862  -0.437532   \n",
       "5  -0.455517   0.438926  -0.710952  -0.035393   0.041345   0.318845   \n",
       "6  -0.807218  -0.135814  -0.793194   0.565470  -0.122177   0.453989   \n",
       "7   0.805205   0.254618   0.175289  -0.834540  -0.956776   0.537295   \n",
       "8  -0.088447   0.168196  -0.658814  -0.026683   0.652584  -0.784518   \n",
       "9  -0.595273   0.299693   0.850240  -0.018586   0.792322   0.832024   \n",
       "\n",
       "   columna_6  columna_7  columna_8  columna_9  \n",
       "0  -0.539572  -0.488070   0.037717  -0.754484  \n",
       "1  -0.925175   0.872087  -0.368142   0.662225  \n",
       "2   0.109705  -0.670784   0.544025  -0.693431  \n",
       "3  -0.258155  -0.910179   0.323323  -0.641463  \n",
       "4   0.659579  -0.129806  -0.252685   0.198766  \n",
       "5   0.616503   0.984751  -0.811067   0.749124  \n",
       "6  -0.365722   0.783355   0.493579  -0.607131  \n",
       "7   0.905799   0.497216  -0.475079  -0.379353  \n",
       "8  -0.418164   0.781585   0.873626   0.554810  \n",
       "9   0.030114   0.786893  -0.518059   0.943653  "
      ]
     },
     "execution_count": 56,
     "metadata": {},
     "output_type": "execute_result"
    }
   ],
   "source": [
    "# Transformación de un DataFrame de Polars en un DataFrame de Pandas.\n",
    "df.to_pandas()"
   ]
  },
  {
   "cell_type": "markdown",
   "id": "704dfa25",
   "metadata": {},
   "source": [
    "## Contextos.\n",
    "**<font color=\"mediumorchid\">Polars</font>** es una librería que cuenta con su propio lenguaje específico de dominio (DSL) para las transformaciones de datos almacenados en series y DataFrames, siendo su principal característica su simplicidad en sintaxis y legibilidad. Las componentes principales de este lenguaje se denominan **contextos** y **expresiones**, siendo las primeras referidas al contexto respecto del cual se evalúa una expresión determinada, pudiendo ser ésta última una simple operación aritmética, la extracción de una columna, el formateo de una columna de tipo `Datetime`, la conversión de los strings que conforman una columna por medio de operaciones propias de estos tipos de datos en base a búsquedas de patrones, entre muchas otras. En este sentido, existen tres principales contextos que son parte de la manipulación de datos en **<font color=\"mediumorchid\">Polars</font>**:\n",
    "\n",
    "1. Selección de datos.\n",
    "2. Filtrado de datos.\n",
    "3. Agrupamientos y agregaciones.\n",
    "\n",
    "Vamos a ejemplificar el uso de estos contextos mediante un DataFrame que simulará la información relativa a la alimentación de mineral y leyes relativas a un proceso de flotación propio de una planta concentradora de cobre, para un total de 100 horas (una hora por fila):"
   ]
  },
  {
   "cell_type": "code",
   "execution_count": 57,
   "id": "074c4fc0",
   "metadata": {},
   "outputs": [],
   "source": [
    "# Definimos la data que almacenaremos en nuestro DataFrame mediante arreglos de Numpy.\n",
    "feed_cu = rng.normal(loc=0.8, scale=0.25, size=100)\n",
    "conc_cu = rng.uniform(low=28.5, high=31.5, size=100)\n",
    "tails_cu = rng.uniform(low=0.01, high=0.05, size=100)\n",
    "prod = rng.normal(loc=2200, scale=250, size=100)"
   ]
  },
  {
   "cell_type": "code",
   "execution_count": 58,
   "id": "d173fdf1",
   "metadata": {},
   "outputs": [],
   "source": [
    "# Construimos nuestro DataFrame.\n",
    "data = pl.DataFrame({\n",
    "    \"alimentacion\": prod,\n",
    "    \"ley_alim_cu\": feed_cu,\n",
    "    \"ley_conc_cu\": conc_cu,\n",
    "    \"ley_cola_cu\": tails_cu,   \n",
    "})"
   ]
  },
  {
   "cell_type": "code",
   "execution_count": 59,
   "id": "593f3e5b",
   "metadata": {},
   "outputs": [
    {
     "name": "stdout",
     "output_type": "stream",
     "text": [
      "shape: (5, 4)\n",
      "┌──────────────┬─────────────┬─────────────┬─────────────┐\n",
      "│ alimentacion ┆ ley_alim_cu ┆ ley_conc_cu ┆ ley_cola_cu │\n",
      "│ ---          ┆ ---         ┆ ---         ┆ ---         │\n",
      "│ f64          ┆ f64         ┆ f64         ┆ f64         │\n",
      "╞══════════════╪═════════════╪═════════════╪═════════════╡\n",
      "│ 2366.396309  ┆ 0.79872     ┆ 29.933632   ┆ 0.036627    │\n",
      "│ 2471.321751  ┆ 0.759139    ┆ 29.750668   ┆ 0.036005    │\n",
      "│ 2291.632852  ┆ 0.884394    ┆ 29.19771    ┆ 0.013618    │\n",
      "│ 2128.437817  ┆ 1.15187     ┆ 29.602535   ┆ 0.045881    │\n",
      "│ 2313.491395  ┆ 0.822646    ┆ 29.599177   ┆ 0.01116     │\n",
      "└──────────────┴─────────────┴─────────────┴─────────────┘\n"
     ]
    }
   ],
   "source": [
    "# Mostramos las primeras filas de nuestro DataFrame en pantalla.\n",
    "print(data.head())"
   ]
  },
  {
   "cell_type": "markdown",
   "id": "14a0206e",
   "metadata": {},
   "source": [
    "### Selección de datos vía contextos.\n",
    "En el contexto de selección, la misma aplica determinadas expresiones sobre las columnas de un DataFrame. Las expresiones propias de este contexto deben producir series con la misma cantidad de filas del DataFrame original (o bien, con una longitud igual a 1 en algunos casos). Para su implementación, usamos el método `select()`:"
   ]
  },
  {
   "cell_type": "code",
   "execution_count": 60,
   "id": "a8137b98",
   "metadata": {},
   "outputs": [],
   "source": [
    "# Creación de otro DataFrame a partir de una selección.\n",
    "df = data.select([\n",
    "    # Calculamos la recuperación en peso.\n",
    "    (\n",
    "        100 * (data[\"ley_alim_cu\"] - data[\"ley_cola_cu\"]) / (data[\"ley_conc_cu\"] - data[\"ley_cola_cu\"])\n",
    "    ).alias(\"recup_peso\"),\n",
    "    # Calculamos la recuperación metalúrgica.\n",
    "    (100 * (\n",
    "        data[\"ley_conc_cu\"] * (data[\"ley_alim_cu\"] - data[\"ley_cola_cu\"])\n",
    "        ) / (\n",
    "        data[\"ley_alim_cu\"] * (data[\"ley_conc_cu\"] - data[\"ley_cola_cu\"])\n",
    "        )\n",
    "    ).alias(\"recup_cu\"),\n",
    "    # Calculamos el cobre fino por hora.\n",
    "    ((\n",
    "        (data[\"ley_conc_cu\"] * (data[\"ley_alim_cu\"] - data[\"ley_cola_cu\"])\n",
    "    ) / (\n",
    "            data[\"ley_alim_cu\"] * (data[\"ley_conc_cu\"] - data[\"ley_cola_cu\"])\n",
    "        )\n",
    "    ) * data[\"ley_alim_cu\"] * data[\"alimentacion\"] / 100).alias(\"cu_fino_prod\")\n",
    "])"
   ]
  },
  {
   "cell_type": "code",
   "execution_count": 61,
   "id": "b0f79c97",
   "metadata": {},
   "outputs": [
    {
     "name": "stdout",
     "output_type": "stream",
     "text": [
      "shape: (5, 3)\n",
      "┌────────────┬───────────┬──────────────┐\n",
      "│ recup_peso ┆ recup_cu  ┆ cu_fino_prod │\n",
      "│ ---        ┆ ---       ┆ ---          │\n",
      "│ f64        ┆ f64       ┆ f64          │\n",
      "╞════════════╪═══════════╪══════════════╡\n",
      "│ 2.549059   ┆ 95.53113  ┆ 18.056214    │\n",
      "│ 2.433594   ┆ 95.372551 ┆ 17.892629    │\n",
      "│ 2.983735   ┆ 98.506173 ┆ 19.9643      │\n",
      "│ 3.741929   ┆ 96.165846 ┆ 23.576833    │\n",
      "│ 2.742618   ┆ 98.680611 ┆ 18.780746    │\n",
      "└────────────┴───────────┴──────────────┘\n"
     ]
    }
   ],
   "source": [
    "# Mostramos la selección en pantalla.\n",
    "print(df.head())"
   ]
  },
  {
   "cell_type": "markdown",
   "id": "613ebfa9",
   "metadata": {},
   "source": [
    "Las columnas anteriores corresponden a atributos propios que se calculan a partir de los dados en el DataFrame `data`. Tales atributos son la recuperación en peso ($R_{P}$), la recuperación metalúrgica ($R_{Cu}$) y el cobre fino producido ($\\mathrm{CuF}$), que se calculan conforme las fórmulas:\n",
    "\n",
    "$$R_{P}=\\frac{g_{c}-g_{r}}{g_{a}-g_{r}} \\  ;\\  R_{Cu}=\\frac{g_{a}\\left( g_{c}-g_{r}\\right)  }{g_{c}\\left( g_{a}-g_{r}\\right)  } =\\frac{g_{a}}{g_{c}} R_{P}\\  ;\\  \\mathrm{CuF} =g_{a}P_{a}$$\n",
    "\n",
    "Donde,\n",
    "\n",
    "- $g_{a},g_{c},g_{r}$ son las leyes de alimentación, concentrado y cola de la planta.\n",
    "- $P_{a}$ es el tonelaje de entrada a la planta.\n",
    "\n",
    "La selección que realizamos desde `data` por medio del método `select()` se hizo por medio de una lista de Python, donde cada uno de los elementos de la misma es una serie que construimos a partir de alguna columna del DataFrame original. Como cada nueva serie contiene información nueva (calculada a partir de algunas de las columnas del DataFrame `data`), la *bautizamos* con un nuevo nombre usando el método `alias()`. Esta selección preserva únicamente las series explicitadas en la misma, por lo que las hemos asignado a un nuevo objeto, que hemos llamado `df`. Además, en términos de ejecución, **cada una de las tres selecciones hechas en el bloque de código anterior se realiza en paralelo**.\n",
    "\n",
    "El otro método propio del contexto de selección de **<font color=\"mediumorchid\">Polars</font>** corresponde a `with_columns()`, y que esencialmente es muy parecido a `select()`. La gran diferencia es que `select()` elimina todas las columnas que no han sido especificadas en forma explícita en las expresiones que establecen las selecciones de interés, mientras que `with_columns()` las preserva, lo que hace a este método ideal para crear columnas nuevas. Sin embargo, tales cambios retornarán una copia del DataFrame modificado, razón por la cual asignamos el resultado del contexto anterior a un nuevo objeto (también llamado `df`):"
   ]
  },
  {
   "cell_type": "code",
   "execution_count": 62,
   "id": "53f610dc",
   "metadata": {},
   "outputs": [],
   "source": [
    "# Creamos la columna \"producción acumulada\" aprovechando el contexto de selección.\n",
    "df = data.with_columns([\n",
    "    # Calculamos la recuperación en peso.\n",
    "    (\n",
    "        100 * (data[\"ley_alim_cu\"] - data[\"ley_cola_cu\"]) / (data[\"ley_conc_cu\"] - data[\"ley_cola_cu\"])\n",
    "    ).alias(\"recup_peso\"),\n",
    "    # Calculamos la recuperación metalúrgica.\n",
    "    (100 * (\n",
    "        data[\"ley_conc_cu\"] * (data[\"ley_alim_cu\"] - data[\"ley_cola_cu\"])\n",
    "        ) / (\n",
    "        data[\"ley_alim_cu\"] * (data[\"ley_conc_cu\"] - data[\"ley_cola_cu\"])\n",
    "        )\n",
    "    ).alias(\"recup_cu\"),\n",
    "    # Calculamos el cobre fino por hora.\n",
    "    ((\n",
    "        (data[\"ley_conc_cu\"] * (data[\"ley_alim_cu\"] - data[\"ley_cola_cu\"])\n",
    "    ) / (\n",
    "            data[\"ley_alim_cu\"] * (data[\"ley_conc_cu\"] - data[\"ley_cola_cu\"])\n",
    "        )\n",
    "    ) * data[\"ley_alim_cu\"] * data[\"alimentacion\"] / 100).alias(\"cu_fino_prod\")\n",
    "])"
   ]
  },
  {
   "cell_type": "code",
   "execution_count": 63,
   "id": "6c0116ea",
   "metadata": {},
   "outputs": [
    {
     "name": "stdout",
     "output_type": "stream",
     "text": [
      "shape: (5, 7)\n",
      "┌──────────────┬─────────────┬─────────────┬─────────────┬────────────┬───────────┬──────────────┐\n",
      "│ alimentacion ┆ ley_alim_cu ┆ ley_conc_cu ┆ ley_cola_cu ┆ recup_peso ┆ recup_cu  ┆ cu_fino_prod │\n",
      "│ ---          ┆ ---         ┆ ---         ┆ ---         ┆ ---        ┆ ---       ┆ ---          │\n",
      "│ f64          ┆ f64         ┆ f64         ┆ f64         ┆ f64        ┆ f64       ┆ f64          │\n",
      "╞══════════════╪═════════════╪═════════════╪═════════════╪════════════╪═══════════╪══════════════╡\n",
      "│ 2366.396309  ┆ 0.79872     ┆ 29.933632   ┆ 0.036627    ┆ 2.549059   ┆ 95.53113  ┆ 18.056214    │\n",
      "│ 2471.321751  ┆ 0.759139    ┆ 29.750668   ┆ 0.036005    ┆ 2.433594   ┆ 95.372551 ┆ 17.892629    │\n",
      "│ 2291.632852  ┆ 0.884394    ┆ 29.19771    ┆ 0.013618    ┆ 2.983735   ┆ 98.506173 ┆ 19.9643      │\n",
      "│ 2128.437817  ┆ 1.15187     ┆ 29.602535   ┆ 0.045881    ┆ 3.741929   ┆ 96.165846 ┆ 23.576833    │\n",
      "│ 2313.491395  ┆ 0.822646    ┆ 29.599177   ┆ 0.01116     ┆ 2.742618   ┆ 98.680611 ┆ 18.780746    │\n",
      "└──────────────┴─────────────┴─────────────┴─────────────┴────────────┴───────────┴──────────────┘\n"
     ]
    }
   ],
   "source": [
    "# Mostramos el resultado en pantalla.\n",
    "print(df.head())"
   ]
  },
  {
   "cell_type": "markdown",
   "id": "a2eaecb1",
   "metadata": {},
   "source": [
    "La creación de nuevas columnas y posterior asignación de ellas en un DataFrame de **<font color=\"mediumorchid\">Polars</font>** se puede realizar **estrictamente** por medio del uso del método `with_columns()`. **No está permitida la creación de nuevas columnas por simple asignación** como en **<font color=\"mediumorchid\">Pandas</font>**:"
   ]
  },
  {
   "cell_type": "code",
   "execution_count": 64,
   "id": "73348de0",
   "metadata": {},
   "outputs": [
    {
     "name": "stdout",
     "output_type": "stream",
     "text": [
      "'DataFrame' object does not support 'Series' assignment by index. Use 'DataFrame.with_columns'\n"
     ]
    }
   ],
   "source": [
    "# No está permitida la creación de columnas por asignación directa.\n",
    "try:\n",
    "    data[\"recup_peso\"] = 100 * (\n",
    "        data[\"ley_alim_cu\"] - data[\"ley_cola_cu\"]\n",
    "    ) / (data[\"ley_conc_cu\"] - data[\"ley_cola_cu\"])\n",
    "except TypeError as e:\n",
    "    print(e)"
   ]
  },
  {
   "cell_type": "markdown",
   "id": "b8e236ba",
   "metadata": {},
   "source": [
    "### Selección de datos conforme filas.\n",
    "Hasta ahora, únicamente nos hemos enfocado en la selección de datos conforme columnas aplicando los métodos contextuales `select()` y `with_columns()`. Lo anterior es propio del uso de las estructuras de datos de **<font color=\"mediumorchid\">Polars</font>**, ya que éstas prescinden de usar índices de filas como ocurre en **<font color=\"mediumorchid\">Pandas</font>**. Sin embargo, sí es posible seleccionar datos de series y DataFrames en **<font color=\"mediumorchid\">Polars</font>** referenciados por filas. Uno de los métodos utilizados para ello es `rows()`:"
   ]
  },
  {
   "cell_type": "code",
   "execution_count": 65,
   "id": "a4056c2a",
   "metadata": {},
   "outputs": [
    {
     "data": {
      "text/plain": [
       "(2128.437816611077,\n",
       " 1.1518704653284293,\n",
       " 29.602535430345384,\n",
       " 0.045881335955865014,\n",
       " 3.7419294005355788,\n",
       " 96.16584589276873,\n",
       " 23.576832902220666)"
      ]
     },
     "execution_count": 65,
     "metadata": {},
     "output_type": "execute_result"
    }
   ],
   "source": [
    "# Seleccionamos todo lo relativo a la fila en la posición 3.\n",
    "df.row(index=3)"
   ]
  },
  {
   "cell_type": "markdown",
   "id": "cb0865c5",
   "metadata": {},
   "source": [
    "Notemos que el resultado de la selección anterior, usando el parámetro `index` para especificar la posición de la fila de interés, es únicamente una **tupla de Python**. Esto es una enorme diferencia con respecto a la selección ordinaria de datos conforme filas en **<font color=\"mediumorchid\">Pandas</font>**, ya que en el caso de dicha librería, la selección de filas en DataFrames retorna series. La razón de ésto, como cabría esperar, es el que al retornar únicamente los valores almacenados en un DataFrame con respecto a la fila seleccionada, ahorramos una gran cantidad de memoria.\n",
    "\n",
    "Por supuesto, es posible retornar una estructura mapeada como resultado de la selección de una fila. Si usamos el parámetro Booleano `named`, la selección de la correspondiente fila retornará un **diccionario de Python**:"
   ]
  },
  {
   "cell_type": "code",
   "execution_count": 66,
   "id": "c8e3a4d1",
   "metadata": {},
   "outputs": [
    {
     "data": {
      "text/plain": [
       "{'alimentacion': 2128.437816611077,\n",
       " 'ley_alim_cu': 1.1518704653284293,\n",
       " 'ley_conc_cu': 29.602535430345384,\n",
       " 'ley_cola_cu': 0.045881335955865014,\n",
       " 'recup_peso': 3.7419294005355788,\n",
       " 'recup_cu': 96.16584589276873,\n",
       " 'cu_fino_prod': 23.576832902220666}"
      ]
     },
     "execution_count": 66,
     "metadata": {},
     "output_type": "execute_result"
    }
   ],
   "source": [
    "# Seleccionamos todo lo relativo a la fila en la posición 3.\n",
    "# Retornamos un diccionario como resultado de la selección.\n",
    "df.row(index=3, named=True)"
   ]
  },
  {
   "cell_type": "markdown",
   "id": "da77c806",
   "metadata": {},
   "source": [
    "También es posible seleccionar información respecto de filas haciendo uso de expresiones seteadas conforme el parámetro `by_predicate`:"
   ]
  },
  {
   "cell_type": "code",
   "execution_count": 67,
   "id": "270b7535",
   "metadata": {},
   "outputs": [
    {
     "data": {
      "text/plain": [
       "{'alimentacion': 2128.437816611077,\n",
       " 'ley_alim_cu': 1.1518704653284293,\n",
       " 'ley_conc_cu': 29.602535430345384,\n",
       " 'ley_cola_cu': 0.045881335955865014,\n",
       " 'recup_peso': 3.7419294005355788,\n",
       " 'recup_cu': 96.16584589276873,\n",
       " 'cu_fino_prod': 23.576832902220666}"
      ]
     },
     "execution_count": 67,
     "metadata": {},
     "output_type": "execute_result"
    }
   ],
   "source": [
    "# Selección de una fila conforme una expresión.\n",
    "df.row(by_predicate=(pl.col(\"recup_cu\") == 96.16584589276873), named=True)"
   ]
  },
  {
   "cell_type": "markdown",
   "id": "486428f9",
   "metadata": {},
   "source": [
    "Notemos que la condición establecida mediante el argumento `by_predicate` es `pl.col(\"recup_cu\") == 96.16584589276873`, y se especifica por medio de un paréntesis. La condición debe retornar exactamente una única fila (por eso establecimos como condición que la recuperación fuera exactamente igual a un valor), sino, **<font color=\"mediumorchid\">Polars</font>** levantará un error:"
   ]
  },
  {
   "cell_type": "code",
   "execution_count": 68,
   "id": "a16f49b8",
   "metadata": {},
   "outputs": [
    {
     "name": "stdout",
     "output_type": "stream",
     "text": [
      "Predicate <[(col(\"recup_cu\")) >= (85.0)]> returned 99 rows\n"
     ]
    }
   ],
   "source": [
    "try:\n",
    "    df.row(by_predicate=(pl.col(\"recup_cu\") >= 85.0), named=True)\n",
    "except pl.exceptions.TooManyRowsReturnedError as e:\n",
    "    print(e)"
   ]
  },
  {
   "cell_type": "markdown",
   "id": "f12fb96c",
   "metadata": {},
   "source": [
    "**No debemos NUNCA usar este método para iterar sobre las filas de un DataFrame**. Para tales efectos, debemos hacer uso del método `iter_rows()`, como veremos más adelante.\n",
    "\n",
    "Si lo que deseamos es retornar más de una fila, debemos hacerlo especificando ciertas condiciones por medio de un **filtro de datos**, lo que aprenderemos a continuación."
   ]
  },
  {
   "cell_type": "markdown",
   "id": "1e3a4f02",
   "metadata": {},
   "source": [
    "### Filtrado de datos.\n",
    "El contexto provisto por el método `filter()`, aplicable sobre cualquier DataFrame o serie de **<font color=\"mediumorchid\">Polars</font>**, permite construir selecciones personalizadas de un datos en cualquiera de estas estructuras por medio de expresiones que reflejan ciertas **condiciones** que los datos de interés deben cumplir. Para ello, definimos estas expresiones usando el parámetro `predicate`:"
   ]
  },
  {
   "cell_type": "code",
   "execution_count": 69,
   "id": "5d81b4b0",
   "metadata": {},
   "outputs": [],
   "source": [
    "# Filtramos todos los datos tales que la recuperación en peso es menor o igual que un 3%.\n",
    "df_filtered = df.filter(pl.col(\"recup_peso\") <= 3.0)"
   ]
  },
  {
   "cell_type": "code",
   "execution_count": 70,
   "id": "d9c8e91a",
   "metadata": {},
   "outputs": [
    {
     "data": {
      "text/plain": [
       "(78, 7)"
      ]
     },
     "execution_count": 70,
     "metadata": {},
     "output_type": "execute_result"
    }
   ],
   "source": [
    "# Chequeamos la geometría del DataFrame resultante del filtro.\n",
    "df_filtered.shape"
   ]
  },
  {
   "cell_type": "code",
   "execution_count": 71,
   "id": "84a62aec",
   "metadata": {},
   "outputs": [
    {
     "name": "stdout",
     "output_type": "stream",
     "text": [
      "shape: (5, 7)\n",
      "┌──────────────┬─────────────┬─────────────┬─────────────┬────────────┬───────────┬──────────────┐\n",
      "│ alimentacion ┆ ley_alim_cu ┆ ley_conc_cu ┆ ley_cola_cu ┆ recup_peso ┆ recup_cu  ┆ cu_fino_prod │\n",
      "│ ---          ┆ ---         ┆ ---         ┆ ---         ┆ ---        ┆ ---       ┆ ---          │\n",
      "│ f64          ┆ f64         ┆ f64         ┆ f64         ┆ f64        ┆ f64       ┆ f64          │\n",
      "╞══════════════╪═════════════╪═════════════╪═════════════╪════════════╪═══════════╪══════════════╡\n",
      "│ 2366.396309  ┆ 0.79872     ┆ 29.933632   ┆ 0.036627    ┆ 2.549059   ┆ 95.53113  ┆ 18.056214    │\n",
      "│ 2471.321751  ┆ 0.759139    ┆ 29.750668   ┆ 0.036005    ┆ 2.433594   ┆ 95.372551 ┆ 17.892629    │\n",
      "│ 2291.632852  ┆ 0.884394    ┆ 29.19771    ┆ 0.013618    ┆ 2.983735   ┆ 98.506173 ┆ 19.9643      │\n",
      "│ 2313.491395  ┆ 0.822646    ┆ 29.599177   ┆ 0.01116     ┆ 2.742618   ┆ 98.680611 ┆ 18.780746    │\n",
      "│ 2433.886781  ┆ 0.287457    ┆ 29.638392   ┆ 0.015721    ┆ 0.917325   ┆ 94.581219 ┆ 6.617259     │\n",
      "└──────────────┴─────────────┴─────────────┴─────────────┴────────────┴───────────┴──────────────┘\n"
     ]
    }
   ],
   "source": [
    "# Mostramos las primeras 5 filas del nuevo DataFrame con el filtro aplicado.\n",
    "print(df_filtered.head())"
   ]
  },
  {
   "cell_type": "markdown",
   "id": "0b89760b",
   "metadata": {},
   "source": [
    "Las condiciones especificadas en los filtros no tienen por qué ser únicas, y pueden encadenarse por medio de operadores lógicos (como `&`, `|`, `~`, etc.). Por ejemplo, en el siguiente bloque de código, filtraremos todos los datos tales que la recuperación en peso en nuestro DataFrame sea menor o igual que un 3%, y con una ley de alimentación mayor o igual que 0.9% Cu:"
   ]
  },
  {
   "cell_type": "code",
   "execution_count": 72,
   "id": "7a2d3815",
   "metadata": {},
   "outputs": [],
   "source": [
    "# Aplicamos el filtro deseado.\n",
    "df_filtered = df.filter((pl.col(\"recup_peso\") <= 3.0) & (pl.col(\"ley_alim_cu\") >= 0.85))"
   ]
  },
  {
   "cell_type": "code",
   "execution_count": 73,
   "id": "3353f831",
   "metadata": {},
   "outputs": [
    {
     "data": {
      "text/plain": [
       "(14, 7)"
      ]
     },
     "execution_count": 73,
     "metadata": {},
     "output_type": "execute_result"
    }
   ],
   "source": [
    "# Chequeamos la geometría del DataFrame resultante del filtro.\n",
    "df_filtered.shape"
   ]
  },
  {
   "cell_type": "code",
   "execution_count": 74,
   "id": "7d5d296b",
   "metadata": {},
   "outputs": [
    {
     "name": "stdout",
     "output_type": "stream",
     "text": [
      "shape: (5, 7)\n",
      "┌──────────────┬─────────────┬─────────────┬─────────────┬────────────┬───────────┬──────────────┐\n",
      "│ alimentacion ┆ ley_alim_cu ┆ ley_conc_cu ┆ ley_cola_cu ┆ recup_peso ┆ recup_cu  ┆ cu_fino_prod │\n",
      "│ ---          ┆ ---         ┆ ---         ┆ ---         ┆ ---        ┆ ---       ┆ ---          │\n",
      "│ f64          ┆ f64         ┆ f64         ┆ f64         ┆ f64        ┆ f64       ┆ f64          │\n",
      "╞══════════════╪═════════════╪═════════════╪═════════════╪════════════╪═══════════╪══════════════╡\n",
      "│ 2291.632852  ┆ 0.884394    ┆ 29.19771    ┆ 0.013618    ┆ 2.983735   ┆ 98.506173 ┆ 19.9643      │\n",
      "│ 2224.869368  ┆ 0.860624    ┆ 31.082157   ┆ 0.043519    ┆ 2.632541   ┆ 95.076417 ┆ 18.205008    │\n",
      "│ 2367.081505  ┆ 0.857057    ┆ 30.677147   ┆ 0.030181    ┆ 2.698068   ┆ 96.573515 ┆ 19.592101    │\n",
      "│ 2152.164003  ┆ 0.878901    ┆ 30.847872   ┆ 0.02083     ┆ 2.783501   ┆ 97.695926 ┆ 18.479572    │\n",
      "│ 2708.768326  ┆ 0.858042    ┆ 28.972835   ┆ 0.021123    ┆ 2.890743   ┆ 97.609395 ┆ 22.686749    │\n",
      "└──────────────┴─────────────┴─────────────┴─────────────┴────────────┴───────────┴──────────────┘\n"
     ]
    }
   ],
   "source": [
    "# Mostramos las primeras 5 filas del nuevo DataFrame con el filtro aplicado.\n",
    "print(df_filtered.head())"
   ]
  },
  {
   "cell_type": "markdown",
   "id": "38010366",
   "metadata": {},
   "source": [
    "Notemos que, para especificar los nombres de las columnas de interés en el filtro, usamos la función `pl.col()`.\n",
    "\n",
    "Otro método contextual que revisaremos será `groupby()`, en conjunción con `agg()`, a fin de construir agregaciones. Sin embargo, para mantener la misma estructura de contenidos para **<font color=\"mediumorchid\">Polars</font>** que la revisada para el caso de **<font color=\"mediumorchid\">Pandas</font>**, mostraremos como hacer agregaciones en la siguiente sección."
   ]
  },
  {
   "cell_type": "markdown",
   "id": "a24d0c09",
   "metadata": {},
   "source": [
    "## Comentarios finales.\n",
    "En esta primera sección nos hemos dedicado a definir las estructuras de datos fundamentales de **<font color=\"mediumorchid\">Polars</font>**, especificando algunos métodos propios de selección y filtrado de datos almacenados en tales estructuras. En la próxima sección nos abocaremos a estudiar algunos aspectos relativos a la operatoria y aritmética de series y DataFrames, tiempos de ejecución, entre otros, a fin de profundizar en la manipulación de estas estructuras a fin de, poco a poco, construir la misma destreza en el análisis de datos en **<font color=\"mediumorchid\">Polars</font>** que la desarrollada para **<font color=\"mediumorchid\">Pandas</font>**."
   ]
  }
 ],
 "metadata": {
  "kernelspec": {
   "display_name": "Python 3 (ipykernel)",
   "language": "python",
   "name": "python3"
  },
  "language_info": {
   "codemirror_mode": {
    "name": "ipython",
    "version": 3
   },
   "file_extension": ".py",
   "mimetype": "text/x-python",
   "name": "python",
   "nbconvert_exporter": "python",
   "pygments_lexer": "ipython3",
   "version": "3.9.16"
  }
 },
 "nbformat": 4,
 "nbformat_minor": 5
}
