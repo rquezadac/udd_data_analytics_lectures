{
 "cells": [
  {
   "cell_type": "markdown",
   "id": "805b0384",
   "metadata": {},
   "source": [
    "# CLASE 1.3: OPERACIONES DE AGREGACIÓN\n",
    "---\n",
    "## El concepto de broadcasting.\n",
    "El término broadcasting hace referencia a la forma en la cual **Numpy** opera con arreglos cuyas dimensiones no empatan, siempre que tales operaciones sean componente a componente, como es el caso de las operaciones algebraicas vistas en la subsección anterior. En términos sencillos, cuando se realiza una operación algebraica entre dos arreglos, si éstos no tienen las mismas dimensiones, **Numpy** intentará hacerlas calzar estirando y/o modificando tras bambalinas la geometría del arreglo más pequeño, a fin de que la operación tenga sentido. Estas modificaciones estructurales son hechas por **Numpy** sin que nosotros intervengamos en las mismas, y siguen un conjunto sencillo de pautas que colectivamente se conocen como **reglas de broadcasting**.\n",
    "\n",
    "En términos un poco más rigurosos, el **proceso de broadcasting** provee a **Numpy** de un medio para vectorizar las operaciones que se realizan sobre los arreglos de manera tal que cualquier cálculo que requiera algún loop se haga en C en vez de Python, aprovechando de ese modo la velocidad de C y, de esa manera, dándonos la opción de implementar rutinas de gran eficiencia.\n",
    "\n",
    "Como mencionamos previamente, las operaciones algebraicas sobre **Numpy** siempre siguen la lógica de trabajar componente a componente. Por lo tanto, como regla general, podemos establecer que, para que una operación de este tipo tenga sentido, los arreglos involucrados deben tener la misma geometría. El proceso de broadcasting flexibiliza este requerimiento cuando las geometrías de los arreglos involucrados no son las mismas, siempre que dichas geometrías igualmente cumplan con ciertas condiciones. El caso más simple de broadcasting ocurre cuando sumamos, en **Numpy**, un arreglo y un escalar:"
   ]
  },
  {
   "cell_type": "code",
   "execution_count": 1,
   "id": "23ef13a2",
   "metadata": {},
   "outputs": [],
   "source": [
    "import numpy as np"
   ]
  },
  {
   "cell_type": "code",
   "execution_count": 2,
   "id": "9f379fff",
   "metadata": {},
   "outputs": [],
   "source": [
    "# Definimos el arreglo a y el escalar b.\n",
    "a = np.array([1.0, 3.0, 5.0, 7.0])\n",
    "b = 2.0"
   ]
  },
  {
   "cell_type": "code",
   "execution_count": 3,
   "id": "9893b873",
   "metadata": {},
   "outputs": [
    {
     "data": {
      "text/plain": [
       "array([3., 5., 7., 9.])"
      ]
     },
     "execution_count": 3,
     "metadata": {},
     "output_type": "execute_result"
    }
   ],
   "source": [
    "# Sumamos a + b.\n",
    "a + b"
   ]
  },
  {
   "cell_type": "markdown",
   "id": "67d485c5",
   "metadata": {},
   "source": [
    "Notemos que si, en vez de escribir `b = 2.0`, ponemos `b = np.array([2.0, 2.0, 2.0, 2.0])`, la suma `a + b` entrega exactamente el mismo resultado:"
   ]
  },
  {
   "cell_type": "code",
   "execution_count": 4,
   "id": "43c66cf4",
   "metadata": {},
   "outputs": [],
   "source": [
    "# Redefinimos b.\n",
    "b = np.array([2.0, 2.0, 2.0, 2.0])"
   ]
  },
  {
   "cell_type": "code",
   "execution_count": 5,
   "id": "14588b89",
   "metadata": {},
   "outputs": [
    {
     "data": {
      "text/plain": [
       "array([3., 5., 7., 9.])"
      ]
     },
     "execution_count": 5,
     "metadata": {},
     "output_type": "execute_result"
    }
   ],
   "source": [
    "# Sumamos a + b.\n",
    "a + b"
   ]
  },
  {
   "cell_type": "markdown",
   "id": "dc463af6",
   "metadata": {},
   "source": [
    "Podemos pensar entonces que el escalar `b = 2.0`, en el primero de los dos bloques de código anteriores, se *estira* en la dirección del eje 0, durante la operación `a + b`, para empatar su geometría (o dimensión) con la del arreglo `a`. Los nuevos elementos en `b`, como se ilustra en la Fig (3.1), son simplemente copias del escalar original. Naturalmente, este estiramiento no es más que una analogía, porque **Numpy** es lo suficientemente *listo* para usar el valor escalar original sin la necesidad de tener que hacer copias compatibles de los arreglos involucrados, que permitan que la operación se lleve a cabo. De esta manera, las operaciones algebraicas como la del ejemplo anterior pueden llevarse a cabo con la mayor eficiencia posible en sus cómputos.\n",
    "\n",
    "![alt text](https://github.com/rquezadac/udd_data_analytics_lectures/blob/main/seccion_01_numpy/figures/fig_3_1.png?raw=true \"Logo Title Text 1\")\n",
    "<p style=\"text-align: center;\">Fig. (3.1): Esquema de broadcasting entre un arreglo 1D y un escalar</p>\n",
    "\n",
    "El caso anterior es muy sencillo. Sin embargo, el broadcasting ocurre siempre que operamos con arreglos en cualquier dimensión. Consideremos en esta oportunidad un arreglo `M` de estructura bidimensional:"
   ]
  },
  {
   "cell_type": "code",
   "execution_count": 6,
   "id": "0ded1ee9",
   "metadata": {},
   "outputs": [
    {
     "data": {
      "text/plain": [
       "array([[1., 0., 0., 0.],\n",
       "       [0., 1., 0., 0.],\n",
       "       [0., 0., 1., 0.],\n",
       "       [0., 0., 0., 1.]])"
      ]
     },
     "execution_count": 6,
     "metadata": {},
     "output_type": "execute_result"
    }
   ],
   "source": [
    "# Arreglo diagonal reducido M, de geometría (4, 4), indexado en la posición 0.\n",
    "M = np.eye(N=4, M=4, k=0)\n",
    "M"
   ]
  },
  {
   "cell_type": "markdown",
   "id": "85155825",
   "metadata": {},
   "source": [
    "Observemos los resultados de operar con el arreglo `M` y el arreglo `a`:"
   ]
  },
  {
   "cell_type": "code",
   "execution_count": 7,
   "id": "c281412a",
   "metadata": {},
   "outputs": [
    {
     "data": {
      "text/plain": [
       "array([[2., 3., 5., 7.],\n",
       "       [1., 4., 5., 7.],\n",
       "       [1., 3., 6., 7.],\n",
       "       [1., 3., 5., 8.]])"
      ]
     },
     "execution_count": 7,
     "metadata": {},
     "output_type": "execute_result"
    }
   ],
   "source": [
    "# Suma de un arreglo bidimensional con uno unidimensional.\n",
    "M + a"
   ]
  },
  {
   "cell_type": "markdown",
   "id": "1fa0bb6b",
   "metadata": {},
   "source": [
    "Vemos pues que el arreglo unidimensional a se estira a lo largo del eje 0, a fin de poder generar un match con la geometría de `M `y que la operación `M + a` tenga sentido y pueda ser ejecutada sin ningún problema, como se ilustra en la Fig. (3.2). Nuevamente, esto es una mera analogía que nunca ocurre en la realidad, y que sólo se establece para entender cómo opera el proceso de broadcasting.\n",
    "\n",
    "![alt text](https://github.com/rquezadac/udd_data_analytics_lectures/blob/main/seccion_01_numpy/figures/fig_3_2.png?raw=true \"Logo Title Text 1\")\n",
    "<p style=\"text-align: center;\">Fig. (3.2): Esquema de broadcasting entre un arreglo 2D y un arreglo 1D</p>\n",
    "\n",
    "Los casos presentados previamente son sencillos de entender. Sin embargo, en la práctica, el broadcasting de arreglos puede dar lugar a situaciones bastante más complicadas. Consideremos, por ejemplo, el siguiente caso:"
   ]
  },
  {
   "cell_type": "code",
   "execution_count": 8,
   "id": "26a035f1",
   "metadata": {},
   "outputs": [],
   "source": [
    "# Definimos dos arreglos que representan una matriz fila y una matriz columna.\n",
    "u = np.ones(shape=(1, 3))\n",
    "v = np.ones(shape=(3, 1))"
   ]
  },
  {
   "cell_type": "code",
   "execution_count": 9,
   "id": "ecf1f8e4",
   "metadata": {},
   "outputs": [
    {
     "name": "stdout",
     "output_type": "stream",
     "text": [
      "[[1. 1. 1.]]\n",
      "[[1.]\n",
      " [1.]\n",
      " [1.]]\n"
     ]
    }
   ],
   "source": [
    "# Mostramos estos arreglos en pantalla.\n",
    "print(u)\n",
    "print(v)"
   ]
  },
  {
   "cell_type": "code",
   "execution_count": 10,
   "id": "7cff0bb4",
   "metadata": {},
   "outputs": [
    {
     "data": {
      "text/plain": [
       "array([[2., 2., 2.],\n",
       "       [2., 2., 2.],\n",
       "       [2., 2., 2.]])"
      ]
     },
     "execution_count": 10,
     "metadata": {},
     "output_type": "execute_result"
    }
   ],
   "source": [
    "# Calculamos la suma u + v.\n",
    "u + v"
   ]
  },
  {
   "cell_type": "markdown",
   "id": "efa11fdd",
   "metadata": {},
   "source": [
    "Tal y como ocurrió en los ejemplos anteriores, donde habíamos estirado un valor para generar un match entre las geometrías de cada arreglo, aquí hemos estirado ambos, `u` y `v`, para generar un match respecto a una geometría común para ambos arreglos, y el resultado es un arreglo de geometría `(3, 3)`. La representación el broadcasting subyacente a esta operación se representa en la Fig. (3.3).\n",
    "\n",
    "![alt text](https://github.com/rquezadac/udd_data_analytics_lectures/blob/main/seccion_01_numpy/figures/fig_3_3.png?raw=true \"Logo Title Text 1\")\n",
    "<p style=\"text-align: center;\">Fig. (3.3): Esquema de broadcasting entre dos arreglos en ejes distintos</p>\n",
    "\n",
    "## Reglas de broadcasting.\n",
    "Cuando operamos sobre dos arreglos, **Numpy** compara sus geometrías dimensión a dimensión, partiendo siempre desde la que está más a la derecha y avanzando hacia la izquierda (por ejemplo, en el caso de dos arreglos bidimensionales, esto significa que primero se compara el número de columnas de ambos, y luego el número de filas). Diremos que, en esta comparación, dos dimensiones son compatibles para una operación si:\n",
    "\n",
    "1. Tales dimensiones son iguales, o\n",
    "2. Una de ellas es igual a 1.\n",
    "\n",
    "Si estas condiciones no se dan, al intentar una operación entre estos arreglos, **Numpy** levantará un error de valor, indicando que éstos tienen geometrías incompatibles. De este modo, se desprenden varias reglas de broadcasting que nos permiten entender cómo operar con nuestros arreglos.\n",
    "\n",
    "- Regla 1: Si los dos arreglos difieren en su número de dimensiones, la geometría de aquel de menor dimensión es ajustada respecto de aquellas emplazados hacia el lado izquierdo en su propia geometría (definida, recordemos, por el atributo `shape`).\n",
    "- Regla 2: Si la geometría de ambos arreglos no coincide en ninguna dimensión, el arreglo con dimensión igual a 1 en un determinado eje se estira para hacer el match entre las dimensiones de ambos arreglos.\n",
    "- Regla 3: Si los arreglos no empatan en ninguna dimensión, y ninguna de ellas es igual a 1, la operación binaria que apliquemos sobre ellos, cualquiera sea ésta, levantará un error de valor.\n",
    "\n",
    "Para clarificar las reglas anteriores, consideremos algunos ejemplos.\n",
    "\n",
    "**Ejemplo 3.1:** Definamos dos arreglos, uno bidimensional y otro unidimensional:"
   ]
  },
  {
   "cell_type": "code",
   "execution_count": 11,
   "id": "ff21876b",
   "metadata": {},
   "outputs": [],
   "source": [
    "M = np.ones((2, 3))\n",
    "a = np.arange(3)"
   ]
  },
  {
   "cell_type": "markdown",
   "id": "e97b1070",
   "metadata": {},
   "source": [
    "Ahora consideremos una operación sobre estos arreglos. Las geometrías de éstos son:"
   ]
  },
  {
   "cell_type": "code",
   "execution_count": 12,
   "id": "9a6862a6",
   "metadata": {},
   "outputs": [
    {
     "data": {
      "text/plain": [
       "(2, 3)"
      ]
     },
     "execution_count": 12,
     "metadata": {},
     "output_type": "execute_result"
    }
   ],
   "source": [
    "M.shape"
   ]
  },
  {
   "cell_type": "code",
   "execution_count": 13,
   "id": "a40800c3",
   "metadata": {},
   "outputs": [
    {
     "data": {
      "text/plain": [
       "(3,)"
      ]
     },
     "execution_count": 13,
     "metadata": {},
     "output_type": "execute_result"
    }
   ],
   "source": [
    "a.shape"
   ]
  },
  {
   "cell_type": "markdown",
   "id": "4f3ab390",
   "metadata": {},
   "source": [
    "Vemos, por la regla 1, que el arreglo a tiene menos dimensiones, por lo que ajustamos su primera dimensión (a la izquierda) a 1:\n",
    "\n",
    "- `M.shape -> (2, 3)`\n",
    "- `a.shape -> (1, 3)`\n",
    "\n",
    "Por la regla 2, ahora vemos que la primera dimensión de a no coincide con la primera dimensión de `M`, por lo que estiramos dicha dimensión para hacer el match con `M`:\n",
    "\n",
    "- `M.shape -> (2, 3)`\n",
    "- `a.shape -> (2, 3)`\n",
    "\n",
    "Ahora las dimensiones tienen el mismo tamaño, así que el arreglo resultante de cualquier operación binaria tendrá una geometría igual a `(2, 3)`:"
   ]
  },
  {
   "cell_type": "code",
   "execution_count": 14,
   "id": "ea94037e",
   "metadata": {},
   "outputs": [
    {
     "data": {
      "text/plain": [
       "array([[1., 2., 3.],\n",
       "       [1., 2., 3.]])"
      ]
     },
     "execution_count": 14,
     "metadata": {},
     "output_type": "execute_result"
    }
   ],
   "source": [
    "M + a"
   ]
  },
  {
   "cell_type": "markdown",
   "id": "3b1a81e8",
   "metadata": {},
   "source": [
    "◼︎\n",
    "\n",
    "**Ejemplo 3.2:** Consideremos ahora un ejemplo donde ambos arreglos deben pasar por broadcasting:"
   ]
  },
  {
   "cell_type": "code",
   "execution_count": 15,
   "id": "6844ade1",
   "metadata": {},
   "outputs": [],
   "source": [
    "a = np.arange(3).reshape((3, 1))\n",
    "b = np.arange(3)"
   ]
  },
  {
   "cell_type": "markdown",
   "id": "57179a74",
   "metadata": {},
   "source": [
    "De nuevo, partimos escribiendo la forma de estos arreglos:\n",
    "\n",
    "- `a.shape = (3, 1)`\n",
    "- `b.shape = (3,)`\n",
    "\n",
    "La regla 1 dice que debemos ajustar la geometría de b con un 1 en su lado izquierdo:\n",
    "\n",
    "- `a.shape = (3, 1)`\n",
    "- `b.shape = (1, 3)`\n",
    "\n",
    "Y la regla 2 nos dice que debemos estirar las dimensiones que no coinciden para realizar el match entre ambos arreglos:\n",
    "\n",
    "- `a.shape -> (3, 3)`\n",
    "- `b.shape -> (3, 3)`\n",
    "\n",
    "Ya que ambas geometrías convergen, son compatibles y el resultado de cualquier operación binaria aplicada sobre ambos tendrá una geometría igual a `(3, 3)`:"
   ]
  },
  {
   "cell_type": "code",
   "execution_count": 16,
   "id": "c00a8310",
   "metadata": {},
   "outputs": [
    {
     "data": {
      "text/plain": [
       "array([[0, 1, 2],\n",
       "       [1, 2, 3],\n",
       "       [2, 3, 4]])"
      ]
     },
     "execution_count": 16,
     "metadata": {},
     "output_type": "execute_result"
    }
   ],
   "source": [
    "a + b"
   ]
  },
  {
   "cell_type": "markdown",
   "id": "e9220dfd",
   "metadata": {},
   "source": [
    "◼︎\n",
    "\n",
    "**Ejemplo 3.3:** Ahora consideraremos un caso en que ambos arreglos son incompatibles:"
   ]
  },
  {
   "cell_type": "code",
   "execution_count": 17,
   "id": "8fa544d1",
   "metadata": {},
   "outputs": [],
   "source": [
    "M = np.ones((3, 2))\n",
    "a = np.arange(3)"
   ]
  },
  {
   "cell_type": "markdown",
   "id": "f3ad912d",
   "metadata": {},
   "source": [
    "Las geometrías de los arreglos son las siguientes:\n",
    "\n",
    "- `M.shape = (3, 2)`\n",
    "- `a.shape = (3,)`\n",
    "\n",
    "Por la regla 1:\n",
    "\n",
    "- `M.shape = (3, 2)`\n",
    "- `a.shape = (1, 3)`\n",
    "\n",
    "Por la regla 2, estiramos la primera dimensión para hacer el match:\n",
    "\n",
    "- `M.shape = (3, 2)`\n",
    "- `a.shape = (3, 3)`\n",
    "\n",
    "Por tanto, entramos en conflicto con la regla 3, ya que las formas no coinciden. Por lo tanto, si operamos sobre estos arreglos, obtendremos como resultado un error de valor:"
   ]
  },
  {
   "cell_type": "code",
   "execution_count": 18,
   "id": "fe04772e",
   "metadata": {},
   "outputs": [
    {
     "name": "stdout",
     "output_type": "stream",
     "text": [
      "operands could not be broadcast together with shapes (3,2) (3,) \n"
     ]
    }
   ],
   "source": [
    "try:\n",
    "    M + a\n",
    "except ValueError as e:\n",
    "    print(e)"
   ]
  },
  {
   "cell_type": "markdown",
   "id": "d799dda6",
   "metadata": {},
   "source": [
    "Las operaciones de broadcasting conforman el eje central de muchos ejemplos que veremos en esta asignatura. Veremos algunos ejemplos que podrían ser útiles para entender cómo trabaja esta funcionalidad en la práctica. ◼︎\n",
    "\n",
    "**Ejemplo 3.4 – Visualización de una función de dos variables:** Vamos a graficar la función $f$ definida como\n",
    "\n",
    "<p style=\"text-align: center;\">$f\\left( x,y\\right)  =\\mathrm{a} \\mathrm{r} \\mathrm{c} \\mathrm{s} \\mathrm{e} \\mathrm{n} \\mathrm{h} \\left( x^{2}+y^{2}\\right)  $</p>\n",
    "\n",
    "en el conjunto $\\Omega =\\left\\{ \\left( x,y\\right)  \\in \\mathbb{R}^{2} :-1\\leq x\\leq 1\\  ;-1\\leq y\\leq 1\\right\\}$. Para ello, definiremos dos arreglos que representarán los bordes del conjunto $\\Omega$, los que llamaremos `X` e `Y`:"
   ]
  },
  {
   "cell_type": "code",
   "execution_count": 19,
   "id": "70008b1e",
   "metadata": {},
   "outputs": [],
   "source": [
    "# Definimos los arreglos x e y.\n",
    "X = np.linspace(-1, 1, 100).reshape(-1, 1)\n",
    "Y = np.linspace(-1, 1, 100).reshape(1, -1)"
   ]
  },
  {
   "cell_type": "markdown",
   "id": "067fa7ca",
   "metadata": {},
   "source": [
    "Aprovechando las reglas de broadcasting, podemos calcular los valores de la función $f$ en el interior de la grilla rectangular $\\Omega$ de manera sencilla:"
   ]
  },
  {
   "cell_type": "code",
   "execution_count": 20,
   "id": "8acee740",
   "metadata": {},
   "outputs": [
    {
     "data": {
      "text/plain": [
       "(100, 100)"
      ]
     },
     "execution_count": 20,
     "metadata": {},
     "output_type": "execute_result"
    }
   ],
   "source": [
    "# Calculamos los la función f(x, y) en toda la grilla S.\n",
    "Z = np.arcsinh(X**2 + Y**2)\n",
    "\n",
    "# Vemos que el arreglo Z es bidimensional gracias al broadcasting.\n",
    "Z.shape"
   ]
  },
  {
   "cell_type": "markdown",
   "id": "9d706d1a",
   "metadata": {},
   "source": [
    "Para graficar, usaremos la librería **Matplotlib**. No es necesario, por el momento, ahondar en los detalles del siguiente código para generar el gráfico, pero es bueno tener en consideración su estructura cuando, más adelante, discutamos en profundidad todo lo relativo a graficación. El gráfico que construiremos será un mapa de color que muestra las variaciones de $f$ en un espectro bidimensional:"
   ]
  },
  {
   "cell_type": "code",
   "execution_count": 21,
   "id": "b395a01d",
   "metadata": {},
   "outputs": [],
   "source": [
    "import matplotlib.pyplot as plt"
   ]
  },
  {
   "cell_type": "code",
   "execution_count": 22,
   "id": "68558928",
   "metadata": {},
   "outputs": [],
   "source": [
    "%matplotlib notebook"
   ]
  },
  {
   "cell_type": "code",
   "execution_count": 23,
   "id": "ba75dd24",
   "metadata": {},
   "outputs": [],
   "source": [
    "plt.rcParams[\"figure.dpi\"] = 100\n",
    "plt.style.use(\"bmh\")"
   ]
  },
  {
   "cell_type": "code",
   "execution_count": 24,
   "id": "43d3c4e2",
   "metadata": {},
   "outputs": [
    {
     "data": {
      "application/javascript": [
       "/* Put everything inside the global mpl namespace */\n",
       "/* global mpl */\n",
       "window.mpl = {};\n",
       "\n",
       "mpl.get_websocket_type = function () {\n",
       "    if (typeof WebSocket !== 'undefined') {\n",
       "        return WebSocket;\n",
       "    } else if (typeof MozWebSocket !== 'undefined') {\n",
       "        return MozWebSocket;\n",
       "    } else {\n",
       "        alert(\n",
       "            'Your browser does not have WebSocket support. ' +\n",
       "                'Please try Chrome, Safari or Firefox ≥ 6. ' +\n",
       "                'Firefox 4 and 5 are also supported but you ' +\n",
       "                'have to enable WebSockets in about:config.'\n",
       "        );\n",
       "    }\n",
       "};\n",
       "\n",
       "mpl.figure = function (figure_id, websocket, ondownload, parent_element) {\n",
       "    this.id = figure_id;\n",
       "\n",
       "    this.ws = websocket;\n",
       "\n",
       "    this.supports_binary = this.ws.binaryType !== undefined;\n",
       "\n",
       "    if (!this.supports_binary) {\n",
       "        var warnings = document.getElementById('mpl-warnings');\n",
       "        if (warnings) {\n",
       "            warnings.style.display = 'block';\n",
       "            warnings.textContent =\n",
       "                'This browser does not support binary websocket messages. ' +\n",
       "                'Performance may be slow.';\n",
       "        }\n",
       "    }\n",
       "\n",
       "    this.imageObj = new Image();\n",
       "\n",
       "    this.context = undefined;\n",
       "    this.message = undefined;\n",
       "    this.canvas = undefined;\n",
       "    this.rubberband_canvas = undefined;\n",
       "    this.rubberband_context = undefined;\n",
       "    this.format_dropdown = undefined;\n",
       "\n",
       "    this.image_mode = 'full';\n",
       "\n",
       "    this.root = document.createElement('div');\n",
       "    this.root.setAttribute('style', 'display: inline-block');\n",
       "    this._root_extra_style(this.root);\n",
       "\n",
       "    parent_element.appendChild(this.root);\n",
       "\n",
       "    this._init_header(this);\n",
       "    this._init_canvas(this);\n",
       "    this._init_toolbar(this);\n",
       "\n",
       "    var fig = this;\n",
       "\n",
       "    this.waiting = false;\n",
       "\n",
       "    this.ws.onopen = function () {\n",
       "        fig.send_message('supports_binary', { value: fig.supports_binary });\n",
       "        fig.send_message('send_image_mode', {});\n",
       "        if (fig.ratio !== 1) {\n",
       "            fig.send_message('set_device_pixel_ratio', {\n",
       "                device_pixel_ratio: fig.ratio,\n",
       "            });\n",
       "        }\n",
       "        fig.send_message('refresh', {});\n",
       "    };\n",
       "\n",
       "    this.imageObj.onload = function () {\n",
       "        if (fig.image_mode === 'full') {\n",
       "            // Full images could contain transparency (where diff images\n",
       "            // almost always do), so we need to clear the canvas so that\n",
       "            // there is no ghosting.\n",
       "            fig.context.clearRect(0, 0, fig.canvas.width, fig.canvas.height);\n",
       "        }\n",
       "        fig.context.drawImage(fig.imageObj, 0, 0);\n",
       "    };\n",
       "\n",
       "    this.imageObj.onunload = function () {\n",
       "        fig.ws.close();\n",
       "    };\n",
       "\n",
       "    this.ws.onmessage = this._make_on_message_function(this);\n",
       "\n",
       "    this.ondownload = ondownload;\n",
       "};\n",
       "\n",
       "mpl.figure.prototype._init_header = function () {\n",
       "    var titlebar = document.createElement('div');\n",
       "    titlebar.classList =\n",
       "        'ui-dialog-titlebar ui-widget-header ui-corner-all ui-helper-clearfix';\n",
       "    var titletext = document.createElement('div');\n",
       "    titletext.classList = 'ui-dialog-title';\n",
       "    titletext.setAttribute(\n",
       "        'style',\n",
       "        'width: 100%; text-align: center; padding: 3px;'\n",
       "    );\n",
       "    titlebar.appendChild(titletext);\n",
       "    this.root.appendChild(titlebar);\n",
       "    this.header = titletext;\n",
       "};\n",
       "\n",
       "mpl.figure.prototype._canvas_extra_style = function (_canvas_div) {};\n",
       "\n",
       "mpl.figure.prototype._root_extra_style = function (_canvas_div) {};\n",
       "\n",
       "mpl.figure.prototype._init_canvas = function () {\n",
       "    var fig = this;\n",
       "\n",
       "    var canvas_div = (this.canvas_div = document.createElement('div'));\n",
       "    canvas_div.setAttribute('tabindex', '0');\n",
       "    canvas_div.setAttribute(\n",
       "        'style',\n",
       "        'border: 1px solid #ddd;' +\n",
       "            'box-sizing: content-box;' +\n",
       "            'clear: both;' +\n",
       "            'min-height: 1px;' +\n",
       "            'min-width: 1px;' +\n",
       "            'outline: 0;' +\n",
       "            'overflow: hidden;' +\n",
       "            'position: relative;' +\n",
       "            'resize: both;' +\n",
       "            'z-index: 2;'\n",
       "    );\n",
       "\n",
       "    function on_keyboard_event_closure(name) {\n",
       "        return function (event) {\n",
       "            return fig.key_event(event, name);\n",
       "        };\n",
       "    }\n",
       "\n",
       "    canvas_div.addEventListener(\n",
       "        'keydown',\n",
       "        on_keyboard_event_closure('key_press')\n",
       "    );\n",
       "    canvas_div.addEventListener(\n",
       "        'keyup',\n",
       "        on_keyboard_event_closure('key_release')\n",
       "    );\n",
       "\n",
       "    this._canvas_extra_style(canvas_div);\n",
       "    this.root.appendChild(canvas_div);\n",
       "\n",
       "    var canvas = (this.canvas = document.createElement('canvas'));\n",
       "    canvas.classList.add('mpl-canvas');\n",
       "    canvas.setAttribute(\n",
       "        'style',\n",
       "        'box-sizing: content-box;' +\n",
       "            'pointer-events: none;' +\n",
       "            'position: relative;' +\n",
       "            'z-index: 0;'\n",
       "    );\n",
       "\n",
       "    this.context = canvas.getContext('2d');\n",
       "\n",
       "    var backingStore =\n",
       "        this.context.backingStorePixelRatio ||\n",
       "        this.context.webkitBackingStorePixelRatio ||\n",
       "        this.context.mozBackingStorePixelRatio ||\n",
       "        this.context.msBackingStorePixelRatio ||\n",
       "        this.context.oBackingStorePixelRatio ||\n",
       "        this.context.backingStorePixelRatio ||\n",
       "        1;\n",
       "\n",
       "    this.ratio = (window.devicePixelRatio || 1) / backingStore;\n",
       "\n",
       "    var rubberband_canvas = (this.rubberband_canvas = document.createElement(\n",
       "        'canvas'\n",
       "    ));\n",
       "    rubberband_canvas.setAttribute(\n",
       "        'style',\n",
       "        'box-sizing: content-box;' +\n",
       "            'left: 0;' +\n",
       "            'pointer-events: none;' +\n",
       "            'position: absolute;' +\n",
       "            'top: 0;' +\n",
       "            'z-index: 1;'\n",
       "    );\n",
       "\n",
       "    // Apply a ponyfill if ResizeObserver is not implemented by browser.\n",
       "    if (this.ResizeObserver === undefined) {\n",
       "        if (window.ResizeObserver !== undefined) {\n",
       "            this.ResizeObserver = window.ResizeObserver;\n",
       "        } else {\n",
       "            var obs = _JSXTOOLS_RESIZE_OBSERVER({});\n",
       "            this.ResizeObserver = obs.ResizeObserver;\n",
       "        }\n",
       "    }\n",
       "\n",
       "    this.resizeObserverInstance = new this.ResizeObserver(function (entries) {\n",
       "        var nentries = entries.length;\n",
       "        for (var i = 0; i < nentries; i++) {\n",
       "            var entry = entries[i];\n",
       "            var width, height;\n",
       "            if (entry.contentBoxSize) {\n",
       "                if (entry.contentBoxSize instanceof Array) {\n",
       "                    // Chrome 84 implements new version of spec.\n",
       "                    width = entry.contentBoxSize[0].inlineSize;\n",
       "                    height = entry.contentBoxSize[0].blockSize;\n",
       "                } else {\n",
       "                    // Firefox implements old version of spec.\n",
       "                    width = entry.contentBoxSize.inlineSize;\n",
       "                    height = entry.contentBoxSize.blockSize;\n",
       "                }\n",
       "            } else {\n",
       "                // Chrome <84 implements even older version of spec.\n",
       "                width = entry.contentRect.width;\n",
       "                height = entry.contentRect.height;\n",
       "            }\n",
       "\n",
       "            // Keep the size of the canvas and rubber band canvas in sync with\n",
       "            // the canvas container.\n",
       "            if (entry.devicePixelContentBoxSize) {\n",
       "                // Chrome 84 implements new version of spec.\n",
       "                canvas.setAttribute(\n",
       "                    'width',\n",
       "                    entry.devicePixelContentBoxSize[0].inlineSize\n",
       "                );\n",
       "                canvas.setAttribute(\n",
       "                    'height',\n",
       "                    entry.devicePixelContentBoxSize[0].blockSize\n",
       "                );\n",
       "            } else {\n",
       "                canvas.setAttribute('width', width * fig.ratio);\n",
       "                canvas.setAttribute('height', height * fig.ratio);\n",
       "            }\n",
       "            /* This rescales the canvas back to display pixels, so that it\n",
       "             * appears correct on HiDPI screens. */\n",
       "            canvas.style.width = width + 'px';\n",
       "            canvas.style.height = height + 'px';\n",
       "\n",
       "            rubberband_canvas.setAttribute('width', width);\n",
       "            rubberband_canvas.setAttribute('height', height);\n",
       "\n",
       "            // And update the size in Python. We ignore the initial 0/0 size\n",
       "            // that occurs as the element is placed into the DOM, which should\n",
       "            // otherwise not happen due to the minimum size styling.\n",
       "            if (fig.ws.readyState == 1 && width != 0 && height != 0) {\n",
       "                fig.request_resize(width, height);\n",
       "            }\n",
       "        }\n",
       "    });\n",
       "    this.resizeObserverInstance.observe(canvas_div);\n",
       "\n",
       "    function on_mouse_event_closure(name) {\n",
       "        /* User Agent sniffing is bad, but WebKit is busted:\n",
       "         * https://bugs.webkit.org/show_bug.cgi?id=144526\n",
       "         * https://bugs.webkit.org/show_bug.cgi?id=181818\n",
       "         * The worst that happens here is that they get an extra browser\n",
       "         * selection when dragging, if this check fails to catch them.\n",
       "         */\n",
       "        var UA = navigator.userAgent;\n",
       "        var isWebKit = /AppleWebKit/.test(UA) && !/Chrome/.test(UA);\n",
       "        if(isWebKit) {\n",
       "            return function (event) {\n",
       "                /* This prevents the web browser from automatically changing to\n",
       "                 * the text insertion cursor when the button is pressed. We\n",
       "                 * want to control all of the cursor setting manually through\n",
       "                 * the 'cursor' event from matplotlib */\n",
       "                event.preventDefault()\n",
       "                return fig.mouse_event(event, name);\n",
       "            };\n",
       "        } else {\n",
       "            return function (event) {\n",
       "                return fig.mouse_event(event, name);\n",
       "            };\n",
       "        }\n",
       "    }\n",
       "\n",
       "    canvas_div.addEventListener(\n",
       "        'mousedown',\n",
       "        on_mouse_event_closure('button_press')\n",
       "    );\n",
       "    canvas_div.addEventListener(\n",
       "        'mouseup',\n",
       "        on_mouse_event_closure('button_release')\n",
       "    );\n",
       "    canvas_div.addEventListener(\n",
       "        'dblclick',\n",
       "        on_mouse_event_closure('dblclick')\n",
       "    );\n",
       "    // Throttle sequential mouse events to 1 every 20ms.\n",
       "    canvas_div.addEventListener(\n",
       "        'mousemove',\n",
       "        on_mouse_event_closure('motion_notify')\n",
       "    );\n",
       "\n",
       "    canvas_div.addEventListener(\n",
       "        'mouseenter',\n",
       "        on_mouse_event_closure('figure_enter')\n",
       "    );\n",
       "    canvas_div.addEventListener(\n",
       "        'mouseleave',\n",
       "        on_mouse_event_closure('figure_leave')\n",
       "    );\n",
       "\n",
       "    canvas_div.addEventListener('wheel', function (event) {\n",
       "        if (event.deltaY < 0) {\n",
       "            event.step = 1;\n",
       "        } else {\n",
       "            event.step = -1;\n",
       "        }\n",
       "        on_mouse_event_closure('scroll')(event);\n",
       "    });\n",
       "\n",
       "    canvas_div.appendChild(canvas);\n",
       "    canvas_div.appendChild(rubberband_canvas);\n",
       "\n",
       "    this.rubberband_context = rubberband_canvas.getContext('2d');\n",
       "    this.rubberband_context.strokeStyle = '#000000';\n",
       "\n",
       "    this._resize_canvas = function (width, height, forward) {\n",
       "        if (forward) {\n",
       "            canvas_div.style.width = width + 'px';\n",
       "            canvas_div.style.height = height + 'px';\n",
       "        }\n",
       "    };\n",
       "\n",
       "    // Disable right mouse context menu.\n",
       "    canvas_div.addEventListener('contextmenu', function (_e) {\n",
       "        event.preventDefault();\n",
       "        return false;\n",
       "    });\n",
       "\n",
       "    function set_focus() {\n",
       "        canvas.focus();\n",
       "        canvas_div.focus();\n",
       "    }\n",
       "\n",
       "    window.setTimeout(set_focus, 100);\n",
       "};\n",
       "\n",
       "mpl.figure.prototype._init_toolbar = function () {\n",
       "    var fig = this;\n",
       "\n",
       "    var toolbar = document.createElement('div');\n",
       "    toolbar.classList = 'mpl-toolbar';\n",
       "    this.root.appendChild(toolbar);\n",
       "\n",
       "    function on_click_closure(name) {\n",
       "        return function (_event) {\n",
       "            return fig.toolbar_button_onclick(name);\n",
       "        };\n",
       "    }\n",
       "\n",
       "    function on_mouseover_closure(tooltip) {\n",
       "        return function (event) {\n",
       "            if (!event.currentTarget.disabled) {\n",
       "                return fig.toolbar_button_onmouseover(tooltip);\n",
       "            }\n",
       "        };\n",
       "    }\n",
       "\n",
       "    fig.buttons = {};\n",
       "    var buttonGroup = document.createElement('div');\n",
       "    buttonGroup.classList = 'mpl-button-group';\n",
       "    for (var toolbar_ind in mpl.toolbar_items) {\n",
       "        var name = mpl.toolbar_items[toolbar_ind][0];\n",
       "        var tooltip = mpl.toolbar_items[toolbar_ind][1];\n",
       "        var image = mpl.toolbar_items[toolbar_ind][2];\n",
       "        var method_name = mpl.toolbar_items[toolbar_ind][3];\n",
       "\n",
       "        if (!name) {\n",
       "            /* Instead of a spacer, we start a new button group. */\n",
       "            if (buttonGroup.hasChildNodes()) {\n",
       "                toolbar.appendChild(buttonGroup);\n",
       "            }\n",
       "            buttonGroup = document.createElement('div');\n",
       "            buttonGroup.classList = 'mpl-button-group';\n",
       "            continue;\n",
       "        }\n",
       "\n",
       "        var button = (fig.buttons[name] = document.createElement('button'));\n",
       "        button.classList = 'mpl-widget';\n",
       "        button.setAttribute('role', 'button');\n",
       "        button.setAttribute('aria-disabled', 'false');\n",
       "        button.addEventListener('click', on_click_closure(method_name));\n",
       "        button.addEventListener('mouseover', on_mouseover_closure(tooltip));\n",
       "\n",
       "        var icon_img = document.createElement('img');\n",
       "        icon_img.src = '_images/' + image + '.png';\n",
       "        icon_img.srcset = '_images/' + image + '_large.png 2x';\n",
       "        icon_img.alt = tooltip;\n",
       "        button.appendChild(icon_img);\n",
       "\n",
       "        buttonGroup.appendChild(button);\n",
       "    }\n",
       "\n",
       "    if (buttonGroup.hasChildNodes()) {\n",
       "        toolbar.appendChild(buttonGroup);\n",
       "    }\n",
       "\n",
       "    var fmt_picker = document.createElement('select');\n",
       "    fmt_picker.classList = 'mpl-widget';\n",
       "    toolbar.appendChild(fmt_picker);\n",
       "    this.format_dropdown = fmt_picker;\n",
       "\n",
       "    for (var ind in mpl.extensions) {\n",
       "        var fmt = mpl.extensions[ind];\n",
       "        var option = document.createElement('option');\n",
       "        option.selected = fmt === mpl.default_extension;\n",
       "        option.innerHTML = fmt;\n",
       "        fmt_picker.appendChild(option);\n",
       "    }\n",
       "\n",
       "    var status_bar = document.createElement('span');\n",
       "    status_bar.classList = 'mpl-message';\n",
       "    toolbar.appendChild(status_bar);\n",
       "    this.message = status_bar;\n",
       "};\n",
       "\n",
       "mpl.figure.prototype.request_resize = function (x_pixels, y_pixels) {\n",
       "    // Request matplotlib to resize the figure. Matplotlib will then trigger a resize in the client,\n",
       "    // which will in turn request a refresh of the image.\n",
       "    this.send_message('resize', { width: x_pixels, height: y_pixels });\n",
       "};\n",
       "\n",
       "mpl.figure.prototype.send_message = function (type, properties) {\n",
       "    properties['type'] = type;\n",
       "    properties['figure_id'] = this.id;\n",
       "    this.ws.send(JSON.stringify(properties));\n",
       "};\n",
       "\n",
       "mpl.figure.prototype.send_draw_message = function () {\n",
       "    if (!this.waiting) {\n",
       "        this.waiting = true;\n",
       "        this.ws.send(JSON.stringify({ type: 'draw', figure_id: this.id }));\n",
       "    }\n",
       "};\n",
       "\n",
       "mpl.figure.prototype.handle_save = function (fig, _msg) {\n",
       "    var format_dropdown = fig.format_dropdown;\n",
       "    var format = format_dropdown.options[format_dropdown.selectedIndex].value;\n",
       "    fig.ondownload(fig, format);\n",
       "};\n",
       "\n",
       "mpl.figure.prototype.handle_resize = function (fig, msg) {\n",
       "    var size = msg['size'];\n",
       "    if (size[0] !== fig.canvas.width || size[1] !== fig.canvas.height) {\n",
       "        fig._resize_canvas(size[0], size[1], msg['forward']);\n",
       "        fig.send_message('refresh', {});\n",
       "    }\n",
       "};\n",
       "\n",
       "mpl.figure.prototype.handle_rubberband = function (fig, msg) {\n",
       "    var x0 = msg['x0'] / fig.ratio;\n",
       "    var y0 = (fig.canvas.height - msg['y0']) / fig.ratio;\n",
       "    var x1 = msg['x1'] / fig.ratio;\n",
       "    var y1 = (fig.canvas.height - msg['y1']) / fig.ratio;\n",
       "    x0 = Math.floor(x0) + 0.5;\n",
       "    y0 = Math.floor(y0) + 0.5;\n",
       "    x1 = Math.floor(x1) + 0.5;\n",
       "    y1 = Math.floor(y1) + 0.5;\n",
       "    var min_x = Math.min(x0, x1);\n",
       "    var min_y = Math.min(y0, y1);\n",
       "    var width = Math.abs(x1 - x0);\n",
       "    var height = Math.abs(y1 - y0);\n",
       "\n",
       "    fig.rubberband_context.clearRect(\n",
       "        0,\n",
       "        0,\n",
       "        fig.canvas.width / fig.ratio,\n",
       "        fig.canvas.height / fig.ratio\n",
       "    );\n",
       "\n",
       "    fig.rubberband_context.strokeRect(min_x, min_y, width, height);\n",
       "};\n",
       "\n",
       "mpl.figure.prototype.handle_figure_label = function (fig, msg) {\n",
       "    // Updates the figure title.\n",
       "    fig.header.textContent = msg['label'];\n",
       "};\n",
       "\n",
       "mpl.figure.prototype.handle_cursor = function (fig, msg) {\n",
       "    fig.canvas_div.style.cursor = msg['cursor'];\n",
       "};\n",
       "\n",
       "mpl.figure.prototype.handle_message = function (fig, msg) {\n",
       "    fig.message.textContent = msg['message'];\n",
       "};\n",
       "\n",
       "mpl.figure.prototype.handle_draw = function (fig, _msg) {\n",
       "    // Request the server to send over a new figure.\n",
       "    fig.send_draw_message();\n",
       "};\n",
       "\n",
       "mpl.figure.prototype.handle_image_mode = function (fig, msg) {\n",
       "    fig.image_mode = msg['mode'];\n",
       "};\n",
       "\n",
       "mpl.figure.prototype.handle_history_buttons = function (fig, msg) {\n",
       "    for (var key in msg) {\n",
       "        if (!(key in fig.buttons)) {\n",
       "            continue;\n",
       "        }\n",
       "        fig.buttons[key].disabled = !msg[key];\n",
       "        fig.buttons[key].setAttribute('aria-disabled', !msg[key]);\n",
       "    }\n",
       "};\n",
       "\n",
       "mpl.figure.prototype.handle_navigate_mode = function (fig, msg) {\n",
       "    if (msg['mode'] === 'PAN') {\n",
       "        fig.buttons['Pan'].classList.add('active');\n",
       "        fig.buttons['Zoom'].classList.remove('active');\n",
       "    } else if (msg['mode'] === 'ZOOM') {\n",
       "        fig.buttons['Pan'].classList.remove('active');\n",
       "        fig.buttons['Zoom'].classList.add('active');\n",
       "    } else {\n",
       "        fig.buttons['Pan'].classList.remove('active');\n",
       "        fig.buttons['Zoom'].classList.remove('active');\n",
       "    }\n",
       "};\n",
       "\n",
       "mpl.figure.prototype.updated_canvas_event = function () {\n",
       "    // Called whenever the canvas gets updated.\n",
       "    this.send_message('ack', {});\n",
       "};\n",
       "\n",
       "// A function to construct a web socket function for onmessage handling.\n",
       "// Called in the figure constructor.\n",
       "mpl.figure.prototype._make_on_message_function = function (fig) {\n",
       "    return function socket_on_message(evt) {\n",
       "        if (evt.data instanceof Blob) {\n",
       "            var img = evt.data;\n",
       "            if (img.type !== 'image/png') {\n",
       "                /* FIXME: We get \"Resource interpreted as Image but\n",
       "                 * transferred with MIME type text/plain:\" errors on\n",
       "                 * Chrome.  But how to set the MIME type?  It doesn't seem\n",
       "                 * to be part of the websocket stream */\n",
       "                img.type = 'image/png';\n",
       "            }\n",
       "\n",
       "            /* Free the memory for the previous frames */\n",
       "            if (fig.imageObj.src) {\n",
       "                (window.URL || window.webkitURL).revokeObjectURL(\n",
       "                    fig.imageObj.src\n",
       "                );\n",
       "            }\n",
       "\n",
       "            fig.imageObj.src = (window.URL || window.webkitURL).createObjectURL(\n",
       "                img\n",
       "            );\n",
       "            fig.updated_canvas_event();\n",
       "            fig.waiting = false;\n",
       "            return;\n",
       "        } else if (\n",
       "            typeof evt.data === 'string' &&\n",
       "            evt.data.slice(0, 21) === 'data:image/png;base64'\n",
       "        ) {\n",
       "            fig.imageObj.src = evt.data;\n",
       "            fig.updated_canvas_event();\n",
       "            fig.waiting = false;\n",
       "            return;\n",
       "        }\n",
       "\n",
       "        var msg = JSON.parse(evt.data);\n",
       "        var msg_type = msg['type'];\n",
       "\n",
       "        // Call the  \"handle_{type}\" callback, which takes\n",
       "        // the figure and JSON message as its only arguments.\n",
       "        try {\n",
       "            var callback = fig['handle_' + msg_type];\n",
       "        } catch (e) {\n",
       "            console.log(\n",
       "                \"No handler for the '\" + msg_type + \"' message type: \",\n",
       "                msg\n",
       "            );\n",
       "            return;\n",
       "        }\n",
       "\n",
       "        if (callback) {\n",
       "            try {\n",
       "                // console.log(\"Handling '\" + msg_type + \"' message: \", msg);\n",
       "                callback(fig, msg);\n",
       "            } catch (e) {\n",
       "                console.log(\n",
       "                    \"Exception inside the 'handler_\" + msg_type + \"' callback:\",\n",
       "                    e,\n",
       "                    e.stack,\n",
       "                    msg\n",
       "                );\n",
       "            }\n",
       "        }\n",
       "    };\n",
       "};\n",
       "\n",
       "\n",
       "/*\n",
       " * return a copy of an object with only non-object keys\n",
       " * we need this to avoid circular references\n",
       " * https://stackoverflow.com/a/24161582/3208463\n",
       " */\n",
       "function simpleKeys(original) {\n",
       "    return Object.keys(original).reduce(function (obj, key) {\n",
       "        if (typeof original[key] !== 'object') {\n",
       "            obj[key] = original[key];\n",
       "        }\n",
       "        return obj;\n",
       "    }, {});\n",
       "}\n",
       "\n",
       "mpl.figure.prototype.mouse_event = function (event, name) {\n",
       "    if (name === 'button_press') {\n",
       "        this.canvas.focus();\n",
       "        this.canvas_div.focus();\n",
       "    }\n",
       "\n",
       "    // from https://stackoverflow.com/q/1114465\n",
       "    var boundingRect = this.canvas.getBoundingClientRect();\n",
       "    var x = (event.clientX - boundingRect.left) * this.ratio;\n",
       "    var y = (event.clientY - boundingRect.top) * this.ratio;\n",
       "\n",
       "    this.send_message(name, {\n",
       "        x: x,\n",
       "        y: y,\n",
       "        button: event.button,\n",
       "        step: event.step,\n",
       "        guiEvent: simpleKeys(event),\n",
       "    });\n",
       "\n",
       "    return false;\n",
       "};\n",
       "\n",
       "mpl.figure.prototype._key_event_extra = function (_event, _name) {\n",
       "    // Handle any extra behaviour associated with a key event\n",
       "};\n",
       "\n",
       "mpl.figure.prototype.key_event = function (event, name) {\n",
       "    // Prevent repeat events\n",
       "    if (name === 'key_press') {\n",
       "        if (event.key === this._key) {\n",
       "            return;\n",
       "        } else {\n",
       "            this._key = event.key;\n",
       "        }\n",
       "    }\n",
       "    if (name === 'key_release') {\n",
       "        this._key = null;\n",
       "    }\n",
       "\n",
       "    var value = '';\n",
       "    if (event.ctrlKey && event.key !== 'Control') {\n",
       "        value += 'ctrl+';\n",
       "    }\n",
       "    else if (event.altKey && event.key !== 'Alt') {\n",
       "        value += 'alt+';\n",
       "    }\n",
       "    else if (event.shiftKey && event.key !== 'Shift') {\n",
       "        value += 'shift+';\n",
       "    }\n",
       "\n",
       "    value += 'k' + event.key;\n",
       "\n",
       "    this._key_event_extra(event, name);\n",
       "\n",
       "    this.send_message(name, { key: value, guiEvent: simpleKeys(event) });\n",
       "    return false;\n",
       "};\n",
       "\n",
       "mpl.figure.prototype.toolbar_button_onclick = function (name) {\n",
       "    if (name === 'download') {\n",
       "        this.handle_save(this, null);\n",
       "    } else {\n",
       "        this.send_message('toolbar_button', { name: name });\n",
       "    }\n",
       "};\n",
       "\n",
       "mpl.figure.prototype.toolbar_button_onmouseover = function (tooltip) {\n",
       "    this.message.textContent = tooltip;\n",
       "};\n",
       "\n",
       "///////////////// REMAINING CONTENT GENERATED BY embed_js.py /////////////////\n",
       "// prettier-ignore\n",
       "var _JSXTOOLS_RESIZE_OBSERVER=function(A){var t,i=new WeakMap,n=new WeakMap,a=new WeakMap,r=new WeakMap,o=new Set;function s(e){if(!(this instanceof s))throw new TypeError(\"Constructor requires 'new' operator\");i.set(this,e)}function h(){throw new TypeError(\"Function is not a constructor\")}function c(e,t,i,n){e=0 in arguments?Number(arguments[0]):0,t=1 in arguments?Number(arguments[1]):0,i=2 in arguments?Number(arguments[2]):0,n=3 in arguments?Number(arguments[3]):0,this.right=(this.x=this.left=e)+(this.width=i),this.bottom=(this.y=this.top=t)+(this.height=n),Object.freeze(this)}function d(){t=requestAnimationFrame(d);var s=new WeakMap,p=new Set;o.forEach((function(t){r.get(t).forEach((function(i){var r=t instanceof window.SVGElement,o=a.get(t),d=r?0:parseFloat(o.paddingTop),f=r?0:parseFloat(o.paddingRight),l=r?0:parseFloat(o.paddingBottom),u=r?0:parseFloat(o.paddingLeft),g=r?0:parseFloat(o.borderTopWidth),m=r?0:parseFloat(o.borderRightWidth),w=r?0:parseFloat(o.borderBottomWidth),b=u+f,F=d+l,v=(r?0:parseFloat(o.borderLeftWidth))+m,W=g+w,y=r?0:t.offsetHeight-W-t.clientHeight,E=r?0:t.offsetWidth-v-t.clientWidth,R=b+v,z=F+W,M=r?t.width:parseFloat(o.width)-R-E,O=r?t.height:parseFloat(o.height)-z-y;if(n.has(t)){var k=n.get(t);if(k[0]===M&&k[1]===O)return}n.set(t,[M,O]);var S=Object.create(h.prototype);S.target=t,S.contentRect=new c(u,d,M,O),s.has(i)||(s.set(i,[]),p.add(i)),s.get(i).push(S)}))})),p.forEach((function(e){i.get(e).call(e,s.get(e),e)}))}return s.prototype.observe=function(i){if(i instanceof window.Element){r.has(i)||(r.set(i,new Set),o.add(i),a.set(i,window.getComputedStyle(i)));var n=r.get(i);n.has(this)||n.add(this),cancelAnimationFrame(t),t=requestAnimationFrame(d)}},s.prototype.unobserve=function(i){if(i instanceof window.Element&&r.has(i)){var n=r.get(i);n.has(this)&&(n.delete(this),n.size||(r.delete(i),o.delete(i))),n.size||r.delete(i),o.size||cancelAnimationFrame(t)}},A.DOMRectReadOnly=c,A.ResizeObserver=s,A.ResizeObserverEntry=h,A}; // eslint-disable-line\n",
       "mpl.toolbar_items = [[\"Home\", \"Reset original view\", \"fa fa-home\", \"home\"], [\"Back\", \"Back to previous view\", \"fa fa-arrow-left\", \"back\"], [\"Forward\", \"Forward to next view\", \"fa fa-arrow-right\", \"forward\"], [\"\", \"\", \"\", \"\"], [\"Pan\", \"Left button pans, Right button zooms\\nx/y fixes axis, CTRL fixes aspect\", \"fa fa-arrows\", \"pan\"], [\"Zoom\", \"Zoom to rectangle\\nx/y fixes axis\", \"fa fa-square-o\", \"zoom\"], [\"\", \"\", \"\", \"\"], [\"Download\", \"Download plot\", \"fa fa-floppy-o\", \"download\"]];\n",
       "\n",
       "mpl.extensions = [\"eps\", \"jpeg\", \"pgf\", \"pdf\", \"png\", \"ps\", \"raw\", \"svg\", \"tif\", \"webp\"];\n",
       "\n",
       "mpl.default_extension = \"png\";/* global mpl */\n",
       "\n",
       "var comm_websocket_adapter = function (comm) {\n",
       "    // Create a \"websocket\"-like object which calls the given IPython comm\n",
       "    // object with the appropriate methods. Currently this is a non binary\n",
       "    // socket, so there is still some room for performance tuning.\n",
       "    var ws = {};\n",
       "\n",
       "    ws.binaryType = comm.kernel.ws.binaryType;\n",
       "    ws.readyState = comm.kernel.ws.readyState;\n",
       "    function updateReadyState(_event) {\n",
       "        if (comm.kernel.ws) {\n",
       "            ws.readyState = comm.kernel.ws.readyState;\n",
       "        } else {\n",
       "            ws.readyState = 3; // Closed state.\n",
       "        }\n",
       "    }\n",
       "    comm.kernel.ws.addEventListener('open', updateReadyState);\n",
       "    comm.kernel.ws.addEventListener('close', updateReadyState);\n",
       "    comm.kernel.ws.addEventListener('error', updateReadyState);\n",
       "\n",
       "    ws.close = function () {\n",
       "        comm.close();\n",
       "    };\n",
       "    ws.send = function (m) {\n",
       "        //console.log('sending', m);\n",
       "        comm.send(m);\n",
       "    };\n",
       "    // Register the callback with on_msg.\n",
       "    comm.on_msg(function (msg) {\n",
       "        //console.log('receiving', msg['content']['data'], msg);\n",
       "        var data = msg['content']['data'];\n",
       "        if (data['blob'] !== undefined) {\n",
       "            data = {\n",
       "                data: new Blob(msg['buffers'], { type: data['blob'] }),\n",
       "            };\n",
       "        }\n",
       "        // Pass the mpl event to the overridden (by mpl) onmessage function.\n",
       "        ws.onmessage(data);\n",
       "    });\n",
       "    return ws;\n",
       "};\n",
       "\n",
       "mpl.mpl_figure_comm = function (comm, msg) {\n",
       "    // This is the function which gets called when the mpl process\n",
       "    // starts-up an IPython Comm through the \"matplotlib\" channel.\n",
       "\n",
       "    var id = msg.content.data.id;\n",
       "    // Get hold of the div created by the display call when the Comm\n",
       "    // socket was opened in Python.\n",
       "    var element = document.getElementById(id);\n",
       "    var ws_proxy = comm_websocket_adapter(comm);\n",
       "\n",
       "    function ondownload(figure, _format) {\n",
       "        window.open(figure.canvas.toDataURL());\n",
       "    }\n",
       "\n",
       "    var fig = new mpl.figure(id, ws_proxy, ondownload, element);\n",
       "\n",
       "    // Call onopen now - mpl needs it, as it is assuming we've passed it a real\n",
       "    // web socket which is closed, not our websocket->open comm proxy.\n",
       "    ws_proxy.onopen();\n",
       "\n",
       "    fig.parent_element = element;\n",
       "    fig.cell_info = mpl.find_output_cell(\"<div id='\" + id + \"'></div>\");\n",
       "    if (!fig.cell_info) {\n",
       "        console.error('Failed to find cell for figure', id, fig);\n",
       "        return;\n",
       "    }\n",
       "    fig.cell_info[0].output_area.element.on(\n",
       "        'cleared',\n",
       "        { fig: fig },\n",
       "        fig._remove_fig_handler\n",
       "    );\n",
       "};\n",
       "\n",
       "mpl.figure.prototype.handle_close = function (fig, msg) {\n",
       "    var width = fig.canvas.width / fig.ratio;\n",
       "    fig.cell_info[0].output_area.element.off(\n",
       "        'cleared',\n",
       "        fig._remove_fig_handler\n",
       "    );\n",
       "    fig.resizeObserverInstance.unobserve(fig.canvas_div);\n",
       "\n",
       "    // Update the output cell to use the data from the current canvas.\n",
       "    fig.push_to_output();\n",
       "    var dataURL = fig.canvas.toDataURL();\n",
       "    // Re-enable the keyboard manager in IPython - without this line, in FF,\n",
       "    // the notebook keyboard shortcuts fail.\n",
       "    IPython.keyboard_manager.enable();\n",
       "    fig.parent_element.innerHTML =\n",
       "        '<img src=\"' + dataURL + '\" width=\"' + width + '\">';\n",
       "    fig.close_ws(fig, msg);\n",
       "};\n",
       "\n",
       "mpl.figure.prototype.close_ws = function (fig, msg) {\n",
       "    fig.send_message('closing', msg);\n",
       "    // fig.ws.close()\n",
       "};\n",
       "\n",
       "mpl.figure.prototype.push_to_output = function (_remove_interactive) {\n",
       "    // Turn the data on the canvas into data in the output cell.\n",
       "    var width = this.canvas.width / this.ratio;\n",
       "    var dataURL = this.canvas.toDataURL();\n",
       "    this.cell_info[1]['text/html'] =\n",
       "        '<img src=\"' + dataURL + '\" width=\"' + width + '\">';\n",
       "};\n",
       "\n",
       "mpl.figure.prototype.updated_canvas_event = function () {\n",
       "    // Tell IPython that the notebook contents must change.\n",
       "    IPython.notebook.set_dirty(true);\n",
       "    this.send_message('ack', {});\n",
       "    var fig = this;\n",
       "    // Wait a second, then push the new image to the DOM so\n",
       "    // that it is saved nicely (might be nice to debounce this).\n",
       "    setTimeout(function () {\n",
       "        fig.push_to_output();\n",
       "    }, 1000);\n",
       "};\n",
       "\n",
       "mpl.figure.prototype._init_toolbar = function () {\n",
       "    var fig = this;\n",
       "\n",
       "    var toolbar = document.createElement('div');\n",
       "    toolbar.classList = 'btn-toolbar';\n",
       "    this.root.appendChild(toolbar);\n",
       "\n",
       "    function on_click_closure(name) {\n",
       "        return function (_event) {\n",
       "            return fig.toolbar_button_onclick(name);\n",
       "        };\n",
       "    }\n",
       "\n",
       "    function on_mouseover_closure(tooltip) {\n",
       "        return function (event) {\n",
       "            if (!event.currentTarget.disabled) {\n",
       "                return fig.toolbar_button_onmouseover(tooltip);\n",
       "            }\n",
       "        };\n",
       "    }\n",
       "\n",
       "    fig.buttons = {};\n",
       "    var buttonGroup = document.createElement('div');\n",
       "    buttonGroup.classList = 'btn-group';\n",
       "    var button;\n",
       "    for (var toolbar_ind in mpl.toolbar_items) {\n",
       "        var name = mpl.toolbar_items[toolbar_ind][0];\n",
       "        var tooltip = mpl.toolbar_items[toolbar_ind][1];\n",
       "        var image = mpl.toolbar_items[toolbar_ind][2];\n",
       "        var method_name = mpl.toolbar_items[toolbar_ind][3];\n",
       "\n",
       "        if (!name) {\n",
       "            /* Instead of a spacer, we start a new button group. */\n",
       "            if (buttonGroup.hasChildNodes()) {\n",
       "                toolbar.appendChild(buttonGroup);\n",
       "            }\n",
       "            buttonGroup = document.createElement('div');\n",
       "            buttonGroup.classList = 'btn-group';\n",
       "            continue;\n",
       "        }\n",
       "\n",
       "        button = fig.buttons[name] = document.createElement('button');\n",
       "        button.classList = 'btn btn-default';\n",
       "        button.href = '#';\n",
       "        button.title = name;\n",
       "        button.innerHTML = '<i class=\"fa ' + image + ' fa-lg\"></i>';\n",
       "        button.addEventListener('click', on_click_closure(method_name));\n",
       "        button.addEventListener('mouseover', on_mouseover_closure(tooltip));\n",
       "        buttonGroup.appendChild(button);\n",
       "    }\n",
       "\n",
       "    if (buttonGroup.hasChildNodes()) {\n",
       "        toolbar.appendChild(buttonGroup);\n",
       "    }\n",
       "\n",
       "    // Add the status bar.\n",
       "    var status_bar = document.createElement('span');\n",
       "    status_bar.classList = 'mpl-message pull-right';\n",
       "    toolbar.appendChild(status_bar);\n",
       "    this.message = status_bar;\n",
       "\n",
       "    // Add the close button to the window.\n",
       "    var buttongrp = document.createElement('div');\n",
       "    buttongrp.classList = 'btn-group inline pull-right';\n",
       "    button = document.createElement('button');\n",
       "    button.classList = 'btn btn-mini btn-primary';\n",
       "    button.href = '#';\n",
       "    button.title = 'Stop Interaction';\n",
       "    button.innerHTML = '<i class=\"fa fa-power-off icon-remove icon-large\"></i>';\n",
       "    button.addEventListener('click', function (_evt) {\n",
       "        fig.handle_close(fig, {});\n",
       "    });\n",
       "    button.addEventListener(\n",
       "        'mouseover',\n",
       "        on_mouseover_closure('Stop Interaction')\n",
       "    );\n",
       "    buttongrp.appendChild(button);\n",
       "    var titlebar = this.root.querySelector('.ui-dialog-titlebar');\n",
       "    titlebar.insertBefore(buttongrp, titlebar.firstChild);\n",
       "};\n",
       "\n",
       "mpl.figure.prototype._remove_fig_handler = function (event) {\n",
       "    var fig = event.data.fig;\n",
       "    if (event.target !== this) {\n",
       "        // Ignore bubbled events from children.\n",
       "        return;\n",
       "    }\n",
       "    fig.close_ws(fig, {});\n",
       "};\n",
       "\n",
       "mpl.figure.prototype._root_extra_style = function (el) {\n",
       "    el.style.boxSizing = 'content-box'; // override notebook setting of border-box.\n",
       "};\n",
       "\n",
       "mpl.figure.prototype._canvas_extra_style = function (el) {\n",
       "    // this is important to make the div 'focusable\n",
       "    el.setAttribute('tabindex', 0);\n",
       "    // reach out to IPython and tell the keyboard manager to turn it's self\n",
       "    // off when our div gets focus\n",
       "\n",
       "    // location in version 3\n",
       "    if (IPython.notebook.keyboard_manager) {\n",
       "        IPython.notebook.keyboard_manager.register_events(el);\n",
       "    } else {\n",
       "        // location in version 2\n",
       "        IPython.keyboard_manager.register_events(el);\n",
       "    }\n",
       "};\n",
       "\n",
       "mpl.figure.prototype._key_event_extra = function (event, _name) {\n",
       "    // Check for shift+enter\n",
       "    if (event.shiftKey && event.which === 13) {\n",
       "        this.canvas_div.blur();\n",
       "        // select the cell after this one\n",
       "        var index = IPython.notebook.find_cell_index(this.cell_info[0]);\n",
       "        IPython.notebook.select(index + 1);\n",
       "    }\n",
       "};\n",
       "\n",
       "mpl.figure.prototype.handle_save = function (fig, _msg) {\n",
       "    fig.ondownload(fig, null);\n",
       "};\n",
       "\n",
       "mpl.find_output_cell = function (html_output) {\n",
       "    // Return the cell and output element which can be found *uniquely* in the notebook.\n",
       "    // Note - this is a bit hacky, but it is done because the \"notebook_saving.Notebook\"\n",
       "    // IPython event is triggered only after the cells have been serialised, which for\n",
       "    // our purposes (turning an active figure into a static one), is too late.\n",
       "    var cells = IPython.notebook.get_cells();\n",
       "    var ncells = cells.length;\n",
       "    for (var i = 0; i < ncells; i++) {\n",
       "        var cell = cells[i];\n",
       "        if (cell.cell_type === 'code') {\n",
       "            for (var j = 0; j < cell.output_area.outputs.length; j++) {\n",
       "                var data = cell.output_area.outputs[j];\n",
       "                if (data.data) {\n",
       "                    // IPython >= 3 moved mimebundle to data attribute of output\n",
       "                    data = data.data;\n",
       "                }\n",
       "                if (data['text/html'] === html_output) {\n",
       "                    return [cell, data, j];\n",
       "                }\n",
       "            }\n",
       "        }\n",
       "    }\n",
       "};\n",
       "\n",
       "// Register the function which deals with the matplotlib target/channel.\n",
       "// The kernel may be null if the page has been refreshed.\n",
       "if (IPython.notebook.kernel !== null) {\n",
       "    IPython.notebook.kernel.comm_manager.register_target(\n",
       "        'matplotlib',\n",
       "        mpl.mpl_figure_comm\n",
       "    );\n",
       "}\n"
      ],
      "text/plain": [
       "<IPython.core.display.Javascript object>"
      ]
     },
     "metadata": {},
     "output_type": "display_data"
    },
    {
     "data": {
      "text/html": [
       "<img src=\"data:image/png;base64,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\" width=\"999.9\">"
      ],
      "text/plain": [
       "<IPython.core.display.HTML object>"
      ]
     },
     "metadata": {},
     "output_type": "display_data"
    }
   ],
   "source": [
    "# Gráfico de nuestra función.\n",
    "plt.figure(figsize=(10, 6))\n",
    "plt.imshow(Z, origin=\"lower\", cmap=\"cividis\")\n",
    "plt.title(r\"Gráfico de la función $f(x, y)$\", fontsize=13, pad=10)\n",
    "plt.xlabel(r\"$x$\", labelpad=10, fontsize=16)\n",
    "plt.ylabel(r\"$y$\", labelpad=15, fontsize=16, rotation=0)\n",
    "plt.grid(False)\n",
    "plt.colorbar()\n",
    "plt.tight_layout();"
   ]
  },
  {
   "cell_type": "markdown",
   "id": "ec951bc6",
   "metadata": {},
   "source": [
    "◼︎\n",
    "\n",
    "**Ejemplo 3.5 – Escalamiento de un conjunto de datos:** Un error muy común en la construcción de modelos de regresión lineal clásicos guarda relación con la no consideración de las unidades de medición inherentes a los atributos que son representados por la data. Por ejemplo, es común que, en una planta concentradora, se construyan modelos descriptivos de las relaciones existentes entre tratamiento de molienda, presión de alimentación a la batería de hidrociclones y tamaño de producto en la salida del circuito de molienda, ya que es importante controlar este último parámetro, siendo esencial en el entendimiento de la calidad del producto de este proceso.\n",
    "\n",
    "En general, el tratamiento de molienda suele expresarse como la capacidad de procesamiento de mineral de un molino SAG. De este modo, un circuito cuyo tratamiento es igual a 1500 tph es capaz de procesar 36.000 toneladas por día de mineral (en promedio). Este es un número muy grande si lo comparamos con la presión con la cual trabaja una batería de hidrociclones, que suele moverse entre 5 y 9 psi. Y más grande aún cuando lo comparamos con el tamaño de producto de molienda. En una planta típica, dicho tamaño suele expresarse como un porcentaje de mineral retenido por la malla #100 (con referencia a la serie de Tyler), y que puede variar entre 14% a 28%.\n",
    "\n",
    "Por esa razón, al construir un modelo de regresión, es importante considerar estas magnitudes, ya que cambios muy pequeños en el tratamiento de molienda pueden inducir cambios enormes en la calidad del producto que sale del circuito.\n",
    "\n",
    "Una forma de reducir el efecto de estos cambios enormes en la variabilidad entre atributos de un conjunto de datos corresponde al proceso de escalamiento. Tal proceso permite estandarizar cada una de las columnas que pueblan el dataset, de tal forma que dispongamos de información cuyas magnitudes sean similares entre sí antes de aplicar cualquier estimador. \n",
    "\n",
    "Un proceso de escalamiento común corresponde a la normalización. Consiste en transformar cada columna asociada a una variable en un dataset de tal forma que la distribución observada de estos datos, una vez realizada dicha transformación, tenga media nula y sea aproximadamente normal. Es decir, si un conjunto de datos tiene un total de $N$ observaciones (filas) y $D$ atributos o variables (columnas), entonces cada variable $X_{j}$ (para $1\\leq j\\leq D$) se somete a la transformación\n",
    "\n",
    "<p style=\"text-align: center;\">$Z_{j}={\\displaystyle \\frac{X_{j}-\\bar{X}_{j} }{s_{j}}}$</p>\n",
    "\n",
    "Donde $\\bar{X}_{j}$ es la media de todas las observaciones relativas a la variable $X_{j}$ y $s_{j}$ su desviación estándar ($j=1,...,D$). Las variables $Z_{1},...,Z_{D}$ así definidas tendrán todas una distribución normal con media aproximadamente nula y desviación estándar igual a 1.\n",
    "\n",
    "En **Numpy**, normalizar un conjunto de datos representado por un arreglo es sencillo gracias a las reglas de broadcasting. Supongamos que el arreglo `T` contiene información de una prueba de laboratorio que se realizó sobre 10 muestras de mineral en un circuito de molienda, de manera tal que la primera columna representa el tratamiento de molienda, la segunda columna representa la presión de alimentación de la batería de hidrociclones del circuito, y la tercera columna representa el porcentaje de mineral retenido con respecto a la malla #100:"
   ]
  },
  {
   "cell_type": "code",
   "execution_count": 25,
   "id": "d6c92638",
   "metadata": {},
   "outputs": [],
   "source": [
    "# Definimos las variables que poblarán nuestro arreglo por separado.\n",
    "t = np.array([1280.98, 1871.11, 1556.39, 1291.01, 1335.52, 1610.04, 1892.44, 1042.19, 1123.21, 1902.11]) # Tratamiento.\n",
    "p = np.array([6.5, 5.6, 8.6, 8.8, 9.0, 5.8, 7.7, 7.0, 6.5, 6.4]) # Presiones.\n",
    "g = np.array([24.1, 21.3, 20.6, 22.3, 18.9, 19.9, 21.2, 19.0, 20.9, 24.5]) # Tamaños de producto."
   ]
  },
  {
   "cell_type": "code",
   "execution_count": 26,
   "id": "cf66dfb5",
   "metadata": {},
   "outputs": [
    {
     "name": "stdout",
     "output_type": "stream",
     "text": [
      "[[1280.98    6.5    24.1 ]\n",
      " [1871.11    5.6    21.3 ]\n",
      " [1556.39    8.6    20.6 ]\n",
      " [1291.01    8.8    22.3 ]\n",
      " [1335.52    9.     18.9 ]\n",
      " [1610.04    5.8    19.9 ]\n",
      " [1892.44    7.7    21.2 ]\n",
      " [1042.19    7.     19.  ]\n",
      " [1123.21    6.5    20.9 ]\n",
      " [1902.11    6.4    24.5 ]]\n"
     ]
    }
   ],
   "source": [
    "# Concatenamos toda esta información en un único arreglo.\n",
    "T = np.vstack([t, p, g]).T # Transponemos para ordenar todo conforme el par (t, p, g).\n",
    "print(T)"
   ]
  },
  {
   "cell_type": "markdown",
   "id": "c02b8d3d",
   "metadata": {},
   "source": [
    "Para aplicar el escalamiento previamente definido, podemos calcular la media y la desviación estándar aplicando los métodos `mean()` y `std()`, respectivamente, sobre el arreglo `T`. Estas operaciones son ejemplos de lo que, en **Numpy**, se conoce como operaciones de agregación, ya que permiten obtener resultados agregados conforme la operación se realice a lo largo del eje 0, 1, 2, etc., mediante el uso del argumento `axis`. Por lo tanto, debido a que la normalización previamente definida se realiza por columna, los cálculos de la media y desviación estándar se hacen por columnas; es decir, conforme el eje 0. De esta manera, tenemos:"
   ]
  },
  {
   "cell_type": "code",
   "execution_count": 27,
   "id": "9b2dd3bc",
   "metadata": {},
   "outputs": [
    {
     "name": "stdout",
     "output_type": "stream",
     "text": [
      "[[-0.68408104 -0.57925954  1.56401339]\n",
      " [ 1.24268846 -1.33481547  0.01657965]\n",
      " [ 0.2151303   1.18370428 -0.37027879]\n",
      " [-0.65133318  1.3516056   0.56923455]\n",
      " [-0.5060084   1.51950691 -1.30979213]\n",
      " [ 0.3902971  -1.16691415 -0.75713722]\n",
      " [ 1.31233073  0.42814836 -0.03868584]\n",
      " [-1.46372839 -0.15950625 -1.25452664]\n",
      " [-1.19919877 -0.57925954 -0.20448232]\n",
      " [ 1.3439032  -0.6632102   1.78507535]]\n"
     ]
    }
   ],
   "source": [
    "# Normalización.\n",
    "Z = (T - T.mean(axis=0)) / T.std(axis=0)\n",
    "print(Z)"
   ]
  },
  {
   "cell_type": "markdown",
   "id": "6bbe1f4b",
   "metadata": {},
   "source": [
    "Nuestro arreglo `Z` normalizado tiene media aproximadamente nula y desviación estándar unitaria. En efecto,"
   ]
  },
  {
   "cell_type": "code",
   "execution_count": 28,
   "id": "a2b88714",
   "metadata": {},
   "outputs": [
    {
     "data": {
      "text/plain": [
       "array([ 0.00000000e+00, -2.77555756e-16, -1.73194792e-15])"
      ]
     },
     "execution_count": 28,
     "metadata": {},
     "output_type": "execute_result"
    }
   ],
   "source": [
    "# Media del arreglo Z es aproximadamente nula.\n",
    "Z.mean(axis=0)"
   ]
  },
  {
   "cell_type": "code",
   "execution_count": 29,
   "id": "0121eba2",
   "metadata": {},
   "outputs": [
    {
     "data": {
      "text/plain": [
       "array([1., 1., 1.])"
      ]
     },
     "execution_count": 29,
     "metadata": {},
     "output_type": "execute_result"
    }
   ],
   "source": [
    "# La desviación estándar es unitaria.\n",
    "Z.std(axis=0)"
   ]
  },
  {
   "cell_type": "markdown",
   "id": "9cc915e2",
   "metadata": {},
   "source": [
    "◼︎\n",
    "\n",
    "## Operaciones de agregación\n",
    "Los ejemplos que hemos visto hasta ahora han involucrado la manipulación de arreglos muy pequeños. Las operaciones que hemos aprendido aplican para arreglos del tamaño que deseemos, pero es bueno establecer que la mayoría de las operaciones en **Numpy** pueden realizarse conforme un cierto eje de un arreglo respectivo, mediante el uso del argumento `axis`, obteniendo resultados agregados por filas, columnas, sub-arreglos, etc. Toda operación que permita su ejecución conforme un eje de un arreglo se denomina operación de agregación.\n",
    "Veremos algunos ejemplos de este tipo de operaciones.\n",
    "\n",
    "**Ejemplo 3.6 – Sumas y productos agregados:** Los métodos `sum()` y `prod()` permiten sumar o multiplicar elementos de un arreglo. Cuando las aplicamos sin ningún argumento, el resultado es conforme absolutamente todos los elementos que pueblan el arreglo respectivo. Sin embargo, podemos utilizar estos métodos para obtener las sumas o productos de los elementos de un arreglo conforme un determinado eje del mismo:"
   ]
  },
  {
   "cell_type": "code",
   "execution_count": 30,
   "id": "ea3bbb4a",
   "metadata": {},
   "outputs": [
    {
     "name": "stdout",
     "output_type": "stream",
     "text": [
      "[[7 3 3 9 2 3 6 8 6 8]\n",
      " [1 4 6 4 4 4 1 1 5 5]\n",
      " [9 3 8 3 2 2 4 2 9 8]\n",
      " [8 4 1 3 5 6 5 6 4 6]\n",
      " [1 9 5 2 8 4 8 3 9 1]]\n"
     ]
    }
   ],
   "source": [
    "# Definición de un arreglo bidimensional A.\n",
    "rng = np.random.default_rng(8)\n",
    "A = rng.integers(low=1, high=10, size=(5, 10))\n",
    "print(A)"
   ]
  },
  {
   "cell_type": "code",
   "execution_count": 31,
   "id": "969b8df0",
   "metadata": {},
   "outputs": [
    {
     "data": {
      "text/plain": [
       "array([55, 35, 50, 48, 50])"
      ]
     },
     "execution_count": 31,
     "metadata": {},
     "output_type": "execute_result"
    }
   ],
   "source": [
    "# Suma por filas.\n",
    "A.sum(axis=1)"
   ]
  },
  {
   "cell_type": "code",
   "execution_count": 32,
   "id": "9dd81ebc",
   "metadata": {},
   "outputs": [
    {
     "data": {
      "text/plain": [
       "array([26, 23, 23, 21, 21, 19, 24, 20, 33, 28])"
      ]
     },
     "execution_count": 32,
     "metadata": {},
     "output_type": "execute_result"
    }
   ],
   "source": [
    "# Suma por columnas.\n",
    "A.sum(axis=0)"
   ]
  },
  {
   "cell_type": "code",
   "execution_count": 33,
   "id": "7f16a662",
   "metadata": {},
   "outputs": [
    {
     "data": {
      "text/plain": [
       "array([7838208,   38400, 1492992, 2073600,  622080])"
      ]
     },
     "execution_count": 33,
     "metadata": {},
     "output_type": "execute_result"
    }
   ],
   "source": [
    "# Multiplicación por filas.\n",
    "A.prod(axis=1)"
   ]
  },
  {
   "cell_type": "code",
   "execution_count": 34,
   "id": "5f07bd62",
   "metadata": {},
   "outputs": [
    {
     "data": {
      "text/plain": [
       "array([ 504, 1296,  720,  648,  640,  576,  960,  288, 9720, 1920])"
      ]
     },
     "execution_count": 34,
     "metadata": {},
     "output_type": "execute_result"
    }
   ],
   "source": [
    "# Multiplicación por columnas.\n",
    "A.prod(axis=0)"
   ]
  },
  {
   "cell_type": "markdown",
   "id": "2bd5ec26",
   "metadata": {},
   "source": [
    "◼︎\n",
    "\n",
    "**Ejemplo 3.7 – Sumas acumuladas en arreglos:** Una operación que es utilizada con frecuencia en el análisis de datos corresponde a la suma acumulada de valores conforme una secuencia de los mismos. Esto es común en la construcción (manual) de histogramas, a fin de verificar las correspondientes frecuencias absolutas o relativas acumuladas. En **Numpy**, esto puede conseguirse fácilmente mediante el uso del método `cumsum()`, el cual se aplica sobre el arreglo de interés. La suma acumulada también es una operación agregada:"
   ]
  },
  {
   "cell_type": "code",
   "execution_count": 35,
   "id": "8f4a67d1",
   "metadata": {},
   "outputs": [
    {
     "data": {
      "text/plain": [
       "array([[ 7, 10, 13, 22, 24, 27, 33, 41, 47, 55],\n",
       "       [ 1,  5, 11, 15, 19, 23, 24, 25, 30, 35],\n",
       "       [ 9, 12, 20, 23, 25, 27, 31, 33, 42, 50],\n",
       "       [ 8, 12, 13, 16, 21, 27, 32, 38, 42, 48],\n",
       "       [ 1, 10, 15, 17, 25, 29, 37, 40, 49, 50]])"
      ]
     },
     "execution_count": 35,
     "metadata": {},
     "output_type": "execute_result"
    }
   ],
   "source": [
    "# Suma acumulada en la dirección de las filas (eje 1).\n",
    "A.cumsum(axis=1)"
   ]
  },
  {
   "cell_type": "code",
   "execution_count": 36,
   "id": "85770d62",
   "metadata": {},
   "outputs": [
    {
     "data": {
      "text/plain": [
       "array([[ 7,  3,  3,  9,  2,  3,  6,  8,  6,  8],\n",
       "       [ 8,  7,  9, 13,  6,  7,  7,  9, 11, 13],\n",
       "       [17, 10, 17, 16,  8,  9, 11, 11, 20, 21],\n",
       "       [25, 14, 18, 19, 13, 15, 16, 17, 24, 27],\n",
       "       [26, 23, 23, 21, 21, 19, 24, 20, 33, 28]])"
      ]
     },
     "execution_count": 36,
     "metadata": {},
     "output_type": "execute_result"
    }
   ],
   "source": [
    "# Suma acumulada en la dirección de las columnas (eje 0).\n",
    "A.cumsum(axis=0)"
   ]
  },
  {
   "cell_type": "markdown",
   "id": "25f237a7",
   "metadata": {},
   "source": [
    "**Ejemplo 3.8 – Media y desviación estándar:** En el **Ejemplo 3.5** ya revisamos como calcular medias y desviaciones estándar en forma agregada sobre arreglos de **Numpy**, pero no está demás explicitarlo nuevamente:"
   ]
  },
  {
   "cell_type": "code",
   "execution_count": 37,
   "id": "7577a976",
   "metadata": {},
   "outputs": [
    {
     "data": {
      "text/plain": [
       "array([5.5, 3.5, 5. , 4.8, 5. ])"
      ]
     },
     "execution_count": 37,
     "metadata": {},
     "output_type": "execute_result"
    }
   ],
   "source": [
    "# Media por filas.\n",
    "A.mean(axis=1)"
   ]
  },
  {
   "cell_type": "code",
   "execution_count": 38,
   "id": "2aab7850",
   "metadata": {},
   "outputs": [
    {
     "data": {
      "text/plain": [
       "array([3.48711915, 2.24499443, 2.41660919, 2.48193473, 2.22710575,\n",
       "       1.32664992, 2.31516738, 2.60768096, 2.05912603, 2.57681975])"
      ]
     },
     "execution_count": 38,
     "metadata": {},
     "output_type": "execute_result"
    }
   ],
   "source": [
    "# Desviación estándar por columnas.\n",
    "A.std(axis=0)"
   ]
  },
  {
   "cell_type": "code",
   "execution_count": 39,
   "id": "eaa616fc",
   "metadata": {},
   "outputs": [
    {
     "data": {
      "text/plain": [
       "array([0.67059984, 0.48804227, 0.52534982, 0.59093684, 0.53026327,\n",
       "       0.3491184 , 0.48232654, 0.65192024, 0.31198879, 0.46014638])"
      ]
     },
     "execution_count": 39,
     "metadata": {},
     "output_type": "execute_result"
    }
   ],
   "source": [
    "# Coeficiente de variación por columnas.\n",
    "A.std(axis=0) / A.mean(axis=0)"
   ]
  },
  {
   "cell_type": "markdown",
   "id": "61e2a009",
   "metadata": {},
   "source": [
    "◼︎\n",
    "\n",
    "**Ejemplo 3.9 – Valores máximos y mínimos:** Otra operación que es muy utilizada en el análisis de datos corresponde a la determinación de los valores máximos y mínimos en un arreglo, ya sea en el arreglo completo (sin la especificación, por tanto, del eje respecto del cual realizamos la búsqueda), o bien, conforme una de sus direcciones (por ejemplo, por filas y/o columnas en un arreglo bidimensional). Las funciones que permiten determinar estos valores son `np.max()` y `np.min()`, respectivamente, siendo también funciones de agregación:"
   ]
  },
  {
   "cell_type": "code",
   "execution_count": 40,
   "id": "febc97d4",
   "metadata": {},
   "outputs": [
    {
     "data": {
      "text/plain": [
       "array([9, 9, 8, 9, 8, 6, 8, 8, 9, 8])"
      ]
     },
     "execution_count": 40,
     "metadata": {},
     "output_type": "execute_result"
    }
   ],
   "source": [
    "# Valor máximo por filas.\n",
    "A.max(axis=0)"
   ]
  },
  {
   "cell_type": "code",
   "execution_count": 41,
   "id": "05b7ca9d",
   "metadata": {},
   "outputs": [
    {
     "data": {
      "text/plain": [
       "array([2, 1, 2, 1, 1])"
      ]
     },
     "execution_count": 41,
     "metadata": {},
     "output_type": "execute_result"
    }
   ],
   "source": [
    "# Valor mínimo por columnas.\n",
    "A.min(axis=1)"
   ]
  },
  {
   "cell_type": "markdown",
   "id": "05d37fc8",
   "metadata": {},
   "source": [
    "Con frecuencia, nos interesa conocer las posiciones relativas de los valores máximos y mínimos en ciertos ejes de un arreglo. Para ello, podemos usar las funciones `np.argmax()` y `np.argmin()`, que también permiten obtener resultados agregados:"
   ]
  },
  {
   "cell_type": "code",
   "execution_count": 42,
   "id": "0f3cbe7b",
   "metadata": {},
   "outputs": [
    {
     "data": {
      "text/plain": [
       "array([2, 4, 2, 0, 4, 3, 4, 0, 2, 0])"
      ]
     },
     "execution_count": 42,
     "metadata": {},
     "output_type": "execute_result"
    }
   ],
   "source": [
    "# Posiciones asociada al elemento que es el máximo valor por filas de A.\n",
    "A.argmax(axis=0)"
   ]
  },
  {
   "cell_type": "code",
   "execution_count": 43,
   "id": "5d79f8d0",
   "metadata": {},
   "outputs": [
    {
     "data": {
      "text/plain": [
       "array([4, 0, 4, 2, 0])"
      ]
     },
     "execution_count": 43,
     "metadata": {},
     "output_type": "execute_result"
    }
   ],
   "source": [
    "# Posiciones asociada al elemento que es el mínimo valor por columnas de A.\n",
    "A.argmin(axis=1)"
   ]
  },
  {
   "cell_type": "markdown",
   "id": "92e06b85",
   "metadata": {},
   "source": [
    "**Numpy** nos provee de muchas otras funciones de agregación, pero no las discutiremos en detalle aquí. Adicionalmente, la mayoría de estas funciones tienen versiones que permiten operar en arreglos que contengan NaNs (recordemos que NaN –o `np.nan`– en la terminología de **Numpy**, es un valor que no es numérico), debido a que NaN es un elemento que podemos denominar como absorbente, debido a que cualquier operación aritmética que involucre NaNs dará como resultado, en general, otro NaN.\n",
    "\n",
    "Además, los métodos que hemos revisado en esta sección tienen todos su versión en formato de `ufunc`. Estos se observan en la Tabla (3.1).\n",
    "\n",
    "<p style=\"text-align: center;\">Tabla (3.1): Algunas funciones de agregación en Numpy</p>\n",
    "\n",
    "| Función         | Versión a prueba de `nan` | Descripción                                                  |\n",
    "| --------------- | ------------------------- | ------------------------------------------------------------ |\n",
    "| `np.sum()`      | `np.nansum()`             | Calcula la suma de los elementos respectivos.                |\n",
    "| `np.prod()`     | `np.nanprod()`            | Calcula el producto de los elementos respectivos.            |\n",
    "| `np.mean()`     | `np.nanmean()`            | Calcula la media de los elementos respectivos.               |\n",
    "| `np.std()`      | `np.nanstd()`             | Calcula la desviación estándar de los elementos respectivos. |\n",
    "| `np.var()`      | `np.nanvar()`             | Calcula la varianza de los elementos respectivos             |\n",
    "| `np.min()`      | `np.nanmin()`             | Halla el valor mínimo.                                       |\n",
    "| `np.max()`      | `np.nanmax()`             | Halla el valor máximo.                                       |\n",
    "| `np.argmin()`   | `np.nanargmin()`          | Halla la posición del valor mínimo.                          |\n",
    "| `np.argmax()`   | `np.nanargmax()`          | Halla la posición del valor máximo.                          |\n",
    "| `np.median()`   | `np.nanmedian()`          | Calcula la mediana de los elementos respectivos.             |\n",
    "\n",
    "## Comentarios finales.\n",
    "Las herramientas que hemos desarrollado en esta sección nos permiten generar cálculos de toda índole mediante el uso de funciones de agregación, tomando como referencia los ejes estructurales de un arreglo en cada caso. De esta manera, ya disponemos de una robusta caja de herramientas con la cual podemos trabajar eficientemente usando como base arreglos de **Numpy**.\n",
    "\n",
    "En la siguiente sección, abordaremos las últimas herramientas fundamentales que veremos para esta librería en la asignatura, y que son relativas a la operación con datos de tipo Booleano, además del uso de `ufuncs` que dan como resultado arreglos con este tipo de elementos, las que nos permitirán establecer comparaciones y ordenamientos específicos de datos en un arreglo."
   ]
  }
 ],
 "metadata": {
  "kernelspec": {
   "display_name": "Python 3 (ipykernel)",
   "language": "python",
   "name": "python3"
  },
  "language_info": {
   "codemirror_mode": {
    "name": "ipython",
    "version": 3
   },
   "file_extension": ".py",
   "mimetype": "text/x-python",
   "name": "python",
   "nbconvert_exporter": "python",
   "pygments_lexer": "ipython3",
   "version": "3.9.16"
  }
 },
 "nbformat": 4,
 "nbformat_minor": 5
}
