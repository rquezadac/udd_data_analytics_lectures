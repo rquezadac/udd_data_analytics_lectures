{
 "cells": [
  {
   "attachments": {},
   "cell_type": "markdown",
   "id": "805b0384",
   "metadata": {},
   "source": [
    "# CLASE 1.3: OPERACIONES DE AGREGACIÓN\n",
    "---\n",
    "## El concepto de broadcasting.\n",
    "El término broadcasting hace referencia a la forma en la cual **Numpy** opera con arreglos cuyas dimensiones no empatan, siempre que tales operaciones sean componente a componente, como es el caso de las operaciones algebraicas vistas en la subsección anterior. En términos sencillos, cuando se realiza una operación algebraica entre dos arreglos, si éstos no tienen las mismas dimensiones, **Numpy** intentará hacerlas calzar estirando y/o modificando tras bambalinas la geometría del arreglo más pequeño, a fin de que la operación tenga sentido. Estas modificaciones estructurales son hechas por **Numpy** sin que nosotros intervengamos en las mismas, y siguen un conjunto sencillo de pautas que colectivamente se conocen como **reglas de broadcasting**.\n",
    "\n",
    "En términos un poco más rigurosos, el **proceso de broadcasting** provee a **Numpy** de un medio para vectorizar las operaciones que se realizan sobre los arreglos de manera tal que cualquier cálculo que requiera algún loop se haga en C en vez de Python, aprovechando de ese modo la velocidad de C y, de esa manera, dándonos la opción de implementar rutinas de gran eficiencia.\n",
    "\n",
    "Como mencionamos previamente, las operaciones algebraicas sobre **Numpy** siempre siguen la lógica de trabajar componente a componente. Por lo tanto, como regla general, podemos establecer que, para que una operación de este tipo tenga sentido, los arreglos involucrados deben tener la misma geometría. El proceso de broadcasting flexibiliza este requerimiento cuando las geometrías de los arreglos involucrados no son las mismas, siempre que dichas geometrías igualmente cumplan con ciertas condiciones. El caso más simple de broadcasting ocurre cuando sumamos, en **Numpy**, un arreglo y un escalar:"
   ]
  },
  {
   "cell_type": "code",
   "execution_count": 2,
   "id": "23ef13a2",
   "metadata": {},
   "outputs": [],
   "source": [
    "import numpy as np"
   ]
  },
  {
   "cell_type": "code",
   "execution_count": 3,
   "id": "9f379fff",
   "metadata": {},
   "outputs": [],
   "source": [
    "# Definimos el arreglo a y el escalar b.\n",
    "a = np.array([1.0, 3.0, 5.0, 7.0])\n",
    "b = 2.0"
   ]
  },
  {
   "cell_type": "code",
   "execution_count": 4,
   "id": "9893b873",
   "metadata": {},
   "outputs": [
    {
     "data": {
      "text/plain": [
       "array([3., 5., 7., 9.])"
      ]
     },
     "execution_count": 4,
     "metadata": {},
     "output_type": "execute_result"
    }
   ],
   "source": [
    "# Sumamos a + b.\n",
    "a + b"
   ]
  },
  {
   "cell_type": "markdown",
   "id": "67d485c5",
   "metadata": {},
   "source": [
    "Notemos que si, en vez de escribir `b = 2.0`, ponemos `b = np.array([2.0, 2.0, 2.0, 2.0])`, la suma `a + b` entrega exactamente el mismo resultado:"
   ]
  },
  {
   "cell_type": "code",
   "execution_count": 5,
   "id": "43c66cf4",
   "metadata": {},
   "outputs": [],
   "source": [
    "# Redefinimos b.\n",
    "b = np.array([2.0, 2.0, 2.0, 2.0])"
   ]
  },
  {
   "cell_type": "code",
   "execution_count": 6,
   "id": "14588b89",
   "metadata": {},
   "outputs": [
    {
     "data": {
      "text/plain": [
       "array([3., 5., 7., 9.])"
      ]
     },
     "execution_count": 6,
     "metadata": {},
     "output_type": "execute_result"
    }
   ],
   "source": [
    "# Sumamos a + b.\n",
    "a + b"
   ]
  },
  {
   "cell_type": "markdown",
   "id": "dc463af6",
   "metadata": {},
   "source": [
    "Podemos pensar entonces que el escalar `b = 2.0`, en el primero de los dos bloques de código anteriores, se *estira* en la dirección del eje 0, durante la operación `a + b`, para empatar su geometría (o dimensión) con la del arreglo `a`. Los nuevos elementos en `b`, como se ilustra en la Fig (3.1), son simplemente copias del escalar original. Naturalmente, este estiramiento no es más que una analogía, porque **Numpy** es lo suficientemente *listo* para usar el valor escalar original sin la necesidad de tener que hacer copias compatibles de los arreglos involucrados, que permitan que la operación se lleve a cabo. De esta manera, las operaciones algebraicas como la del ejemplo anterior pueden llevarse a cabo con la mayor eficiencia posible en sus cómputos.\n",
    "\n",
    "![alt text](https://github.com/rquezadac/udd_data_analytics_lectures/blob/main/seccion_01_numpy/figures/fig_3_1.png?raw=true \"Logo Title Text 1\")\n",
    "<p style=\"text-align: center;\">Fig. (3.1): Esquema de broadcasting entre un arreglo 1D y un escalar</p>\n",
    "\n",
    "El caso anterior es muy sencillo. Sin embargo, el broadcasting ocurre siempre que operamos con arreglos en cualquier dimensión. Consideremos en esta oportunidad un arreglo `M` de estructura bidimensional:"
   ]
  },
  {
   "cell_type": "code",
   "execution_count": 7,
   "id": "0ded1ee9",
   "metadata": {},
   "outputs": [
    {
     "data": {
      "text/plain": [
       "array([[1., 0., 0., 0.],\n",
       "       [0., 1., 0., 0.],\n",
       "       [0., 0., 1., 0.],\n",
       "       [0., 0., 0., 1.]])"
      ]
     },
     "execution_count": 7,
     "metadata": {},
     "output_type": "execute_result"
    }
   ],
   "source": [
    "# Arreglo diagonal reducido M, de geometría (4, 4), indexado en la posición 0.\n",
    "M = np.eye(N=4, M=4, k=0)\n",
    "M"
   ]
  },
  {
   "attachments": {},
   "cell_type": "markdown",
   "id": "85155825",
   "metadata": {},
   "source": [
    "Observemos los resultados de operar con el arreglo `M` y el arreglo `a`:"
   ]
  },
  {
   "cell_type": "code",
   "execution_count": 8,
   "id": "c281412a",
   "metadata": {},
   "outputs": [
    {
     "data": {
      "text/plain": [
       "array([[2., 3., 5., 7.],\n",
       "       [1., 4., 5., 7.],\n",
       "       [1., 3., 6., 7.],\n",
       "       [1., 3., 5., 8.]])"
      ]
     },
     "execution_count": 8,
     "metadata": {},
     "output_type": "execute_result"
    }
   ],
   "source": [
    "# Suma de un arreglo bidimensional con uno unidimensional.\n",
    "M + a"
   ]
  },
  {
   "attachments": {},
   "cell_type": "markdown",
   "id": "1fa0bb6b",
   "metadata": {},
   "source": [
    "Vemos pues que el arreglo unidimensional a se estira a lo largo del eje 0, a fin de poder generar un match con la geometría de `M `y que la operación `M + a` tenga sentido y pueda ser ejecutada sin ningún problema, como se ilustra en la Fig. (3.2). Nuevamente, esto es una mera analogía que nunca ocurre en la realidad, y que sólo se establece para entender cómo opera el proceso de broadcasting.\n",
    "\n",
    "![alt text](https://github.com/rquezadac/udd_data_analytics_lectures/blob/main/seccion_01_numpy/figures/fig_3_2.png?raw=true \"Logo Title Text 1\")\n",
    "<p style=\"text-align: center;\">Fig. (3.2): Esquema de broadcasting entre un arreglo 2D y un arreglo 1D</p>\n",
    "\n",
    "Los casos presentados previamente son sencillos de entender. Sin embargo, en la práctica, el broadcasting de arreglos puede dar lugar a situaciones bastante más complicadas. Consideremos, por ejemplo, el siguiente caso:"
   ]
  },
  {
   "cell_type": "code",
   "execution_count": 9,
   "id": "26a035f1",
   "metadata": {},
   "outputs": [],
   "source": [
    "# Definimos dos arreglos que representan una matriz fila y una matriz columna.\n",
    "u = np.ones(shape=(1, 3))\n",
    "v = np.ones(shape=(3, 1))"
   ]
  },
  {
   "cell_type": "code",
   "execution_count": 10,
   "id": "ecf1f8e4",
   "metadata": {},
   "outputs": [
    {
     "name": "stdout",
     "output_type": "stream",
     "text": [
      "[[1. 1. 1.]]\n",
      "[[1.]\n",
      " [1.]\n",
      " [1.]]\n"
     ]
    }
   ],
   "source": [
    "# Mostramos estos arreglos en pantalla.\n",
    "print(u)\n",
    "print(v)"
   ]
  },
  {
   "cell_type": "code",
   "execution_count": 11,
   "id": "7cff0bb4",
   "metadata": {},
   "outputs": [
    {
     "data": {
      "text/plain": [
       "array([[2., 2., 2.],\n",
       "       [2., 2., 2.],\n",
       "       [2., 2., 2.]])"
      ]
     },
     "execution_count": 11,
     "metadata": {},
     "output_type": "execute_result"
    }
   ],
   "source": [
    "# Calculamos la suma u + v.\n",
    "u + v"
   ]
  },
  {
   "attachments": {},
   "cell_type": "markdown",
   "id": "efa11fdd",
   "metadata": {},
   "source": [
    "Tal y como ocurrió en los ejemplos anteriores, donde habíamos estirado un valor para generar un match entre las geometrías de cada arreglo, aquí hemos estirado ambos, `u` y `v`, para generar un match respecto a una geometría común para ambos arreglos, y el resultado es un arreglo de geometría `(3, 3)`. La representación el broadcasting subyacente a esta operación se representa en la Fig. (3.3).\n",
    "\n",
    "![alt text](https://github.com/rquezadac/udd_data_analytics_lectures/blob/main/seccion_01_numpy/figures/fig_3_3.png?raw=true \"Logo Title Text 1\")\n",
    "<p style=\"text-align: center;\">Fig. (3.3): Esquema de broadcasting entre dos arreglos en ejes distintos</p>\n",
    "\n",
    "## Reglas de broadcasting.\n",
    "Cuando operamos sobre dos arreglos, **Numpy** compara sus geometrías dimensión a dimensión, partiendo siempre desde la que está más a la derecha y avanzando hacia la izquierda (por ejemplo, en el caso de dos arreglos bidimensionales, esto significa que primero se compara el número de columnas de ambos, y luego el número de filas). Diremos que, en esta comparación, dos dimensiones son compatibles para una operación si:\n",
    "\n",
    "1. Tales dimensiones son iguales, o\n",
    "2. Una de ellas es igual a 1.\n",
    "\n",
    "Si estas condiciones no se dan, al intentar una operación entre estos arreglos, **Numpy** levantará un error de valor, indicando que éstos tienen geometrías incompatibles. De este modo, se desprenden varias reglas de broadcasting que nos permiten entender cómo operar con nuestros arreglos.\n",
    "\n",
    "- Regla 1: Si los dos arreglos difieren en su número de dimensiones, la geometría de aquel de menor dimensión es ajustada respecto de aquellas emplazados hacia el lado izquierdo en su propia geometría (definida, recordemos, por el atributo `shape`).\n",
    "- Regla 2: Si la geometría de ambos arreglos no coincide en ninguna dimensión, el arreglo con dimensión igual a 1 en un determinado eje se estira para hacer el match entre las dimensiones de ambos arreglos.\n",
    "- Regla 3: Si los arreglos no empatan en ninguna dimensión, y ninguna de ellas es igual a 1, la operación binaria que apliquemos sobre ellos, cualquiera sea ésta, levantará un error de valor.\n",
    "\n",
    "Para clarificar las reglas anteriores, consideremos algunos ejemplos.\n",
    "\n",
    "**Ejemplo 3.1:** Definamos dos arreglos, uno bidimensional y otro unidimensional:"
   ]
  },
  {
   "cell_type": "code",
   "execution_count": 12,
   "id": "ff21876b",
   "metadata": {},
   "outputs": [],
   "source": [
    "M = np.ones((2, 3))\n",
    "a = np.arange(3)"
   ]
  },
  {
   "cell_type": "markdown",
   "id": "e97b1070",
   "metadata": {},
   "source": [
    "Ahora consideremos una operación sobre estos arreglos. Las geometrías de éstos son:"
   ]
  },
  {
   "cell_type": "code",
   "execution_count": 15,
   "id": "9a6862a6",
   "metadata": {},
   "outputs": [
    {
     "data": {
      "text/plain": [
       "(2, 3)"
      ]
     },
     "execution_count": 15,
     "metadata": {},
     "output_type": "execute_result"
    }
   ],
   "source": [
    "M.shape"
   ]
  },
  {
   "cell_type": "code",
   "execution_count": 16,
   "id": "a40800c3",
   "metadata": {},
   "outputs": [
    {
     "data": {
      "text/plain": [
       "(3,)"
      ]
     },
     "execution_count": 16,
     "metadata": {},
     "output_type": "execute_result"
    }
   ],
   "source": [
    "a.shape"
   ]
  },
  {
   "attachments": {},
   "cell_type": "markdown",
   "id": "4f3ab390",
   "metadata": {},
   "source": [
    "Vemos, por la regla 1, que el arreglo a tiene menos dimensiones, por lo que ajustamos su primera dimensión (a la izquierda) a 1:\n",
    "\n",
    "- `M.shape -> (2, 3)`\n",
    "- `a.shape -> (1, 3)`\n",
    "\n",
    "Por la regla 2, ahora vemos que la primera dimensión de a no coincide con la primera dimensión de `M`, por lo que estiramos dicha dimensión para hacer el match con `M`:\n",
    "\n",
    "- `M.shape -> (2, 3)`\n",
    "- `a.shape -> (2, 3)`\n",
    "\n",
    "Ahora las dimensiones tienen el mismo tamaño, así que el arreglo resultante de cualquier operación binaria tendrá una geometría igual a `(2, 3)`:"
   ]
  },
  {
   "cell_type": "code",
   "execution_count": 17,
   "id": "ea94037e",
   "metadata": {},
   "outputs": [
    {
     "data": {
      "text/plain": [
       "array([[1., 2., 3.],\n",
       "       [1., 2., 3.]])"
      ]
     },
     "execution_count": 17,
     "metadata": {},
     "output_type": "execute_result"
    }
   ],
   "source": [
    "M + a"
   ]
  },
  {
   "attachments": {},
   "cell_type": "markdown",
   "id": "3b1a81e8",
   "metadata": {},
   "source": [
    "◼︎\n",
    "\n",
    "**Ejemplo 3.2:** Consideremos ahora un ejemplo donde ambos arreglos deben pasar por broadcasting:"
   ]
  },
  {
   "cell_type": "code",
   "execution_count": 18,
   "id": "6844ade1",
   "metadata": {},
   "outputs": [],
   "source": [
    "a = np.arange(3).reshape((3, 1))\n",
    "b = np.arange(3)"
   ]
  },
  {
   "attachments": {},
   "cell_type": "markdown",
   "id": "57179a74",
   "metadata": {},
   "source": [
    "De nuevo, partimos escribiendo la forma de estos arreglos:\n",
    "\n",
    "- `a.shape = (3, 1)`\n",
    "- `b.shape = (3,)`\n",
    "\n",
    "La regla 1 dice que debemos ajustar la geometría de b con un 1 en su lado izquierdo:\n",
    "\n",
    "- `a.shape = (3, 1)`\n",
    "- `b.shape = (1, 3)`\n",
    "\n",
    "Y la regla 2 nos dice que debemos estirar las dimensiones que no coinciden para realizar el match entre ambos arreglos:\n",
    "\n",
    "- `a.shape -> (3, 3)`\n",
    "- `b.shape -> (3, 3)`\n",
    "\n",
    "Ya que ambas geometrías convergen, son compatibles y el resultado de cualquier operación binaria aplicada sobre ambos tendrá una geometría igual a `(3, 3)`:"
   ]
  },
  {
   "cell_type": "code",
   "execution_count": 19,
   "id": "c00a8310",
   "metadata": {},
   "outputs": [
    {
     "data": {
      "text/plain": [
       "array([[0, 1, 2],\n",
       "       [1, 2, 3],\n",
       "       [2, 3, 4]])"
      ]
     },
     "execution_count": 19,
     "metadata": {},
     "output_type": "execute_result"
    }
   ],
   "source": [
    "a + b"
   ]
  },
  {
   "attachments": {},
   "cell_type": "markdown",
   "id": "e9220dfd",
   "metadata": {},
   "source": [
    "◼︎\n",
    "\n",
    "**Ejemplo 3.3:** Ahora consideraremos un caso en que ambos arreglos son incompatibles:"
   ]
  },
  {
   "cell_type": "code",
   "execution_count": 20,
   "id": "8fa544d1",
   "metadata": {},
   "outputs": [],
   "source": [
    "M = np.ones((3, 2))\n",
    "a = np.arange(3)"
   ]
  },
  {
   "attachments": {},
   "cell_type": "markdown",
   "id": "f3ad912d",
   "metadata": {},
   "source": [
    "Las geometrías de los arreglos son las siguientes:\n",
    "\n",
    "- `M.shape = (3, 2)`\n",
    "- `a.shape = (3,)`\n",
    "\n",
    "Por la regla 1:\n",
    "\n",
    "- `M.shape = (3, 2)`\n",
    "- `a.shape = (1, 3)`\n",
    "\n",
    "Por la regla 2, estiramos la primera dimensión para hacer el match:\n",
    "\n",
    "- `M.shape = (3, 2)`\n",
    "- `a.shape = (3, 3)`\n",
    "\n",
    "Por tanto, entramos en conflicto con la regla 3, ya que las formas no coinciden. Por lo tanto, si operamos sobre estos arreglos, obtendremos como resultado un error de valor:"
   ]
  },
  {
   "cell_type": "code",
   "execution_count": 22,
   "id": "fe04772e",
   "metadata": {},
   "outputs": [
    {
     "name": "stdout",
     "output_type": "stream",
     "text": [
      "operands could not be broadcast together with shapes (3,2) (3,) \n"
     ]
    }
   ],
   "source": [
    "try:\n",
    "    M + a\n",
    "except ValueError as e:\n",
    "    print(e)"
   ]
  },
  {
   "attachments": {},
   "cell_type": "markdown",
   "id": "d799dda6",
   "metadata": {},
   "source": [
    "Las operaciones de broadcasting conforman el eje central de muchos ejemplos que veremos en esta asignatura. Veremos algunos ejemplos que podrían ser útiles para entender cómo trabaja esta funcionalidad en la práctica. ◼︎\n",
    "\n",
    "**Ejemplo 3.4 – Visualización de una función de dos variables:** Vamos a graficar la función $f$ definida como\n",
    "\n",
    "<p style=\"text-align: center;\">$f\\left( x,y\\right)  =\\mathrm{a} \\mathrm{r} \\mathrm{c} \\mathrm{s} \\mathrm{e} \\mathrm{n} \\mathrm{h} \\left( x^{2}+y^{2}\\right)  $</p>\n",
    "\n",
    "en el conjunto $\\Omega =\\left\\{ \\left( x,y\\right)  \\in \\mathbb{R}^{2} :-1\\leq x\\leq 1\\  ;-1\\leq y\\leq 1\\right\\}$. Para ello, definiremos dos arreglos que representarán los bordes del conjunto $\\Omega$, los que llamaremos `X` e `Y`:"
   ]
  },
  {
   "cell_type": "code",
   "execution_count": 23,
   "id": "70008b1e",
   "metadata": {},
   "outputs": [],
   "source": [
    "# Definimos los arreglos x e y.\n",
    "X = np.linspace(-1, 1, 100).reshape(-1, 1)\n",
    "Y = np.linspace(-1, 1, 100).reshape(1, -1)"
   ]
  },
  {
   "attachments": {},
   "cell_type": "markdown",
   "id": "067fa7ca",
   "metadata": {},
   "source": [
    "Aprovechando las reglas de broadcasting, podemos calcular los valores de la función $f$ en el interior de la grilla rectangular $\\Omega$ de manera sencilla:"
   ]
  },
  {
   "cell_type": "code",
   "execution_count": 24,
   "id": "8acee740",
   "metadata": {},
   "outputs": [
    {
     "data": {
      "text/plain": [
       "(100, 100)"
      ]
     },
     "execution_count": 24,
     "metadata": {},
     "output_type": "execute_result"
    }
   ],
   "source": [
    "# Calculamos los la función f(x, y) en toda la grilla S.\n",
    "Z = np.arcsinh(X**2 + Y**2)\n",
    "\n",
    "# Vemos que el arreglo Z es bidimensional gracias al broadcasting.\n",
    "Z.shape"
   ]
  },
  {
   "cell_type": "markdown",
   "id": "9d706d1a",
   "metadata": {},
   "source": [
    "Para graficar, usaremos la librería **Matplotlib**. No es necesario, por el momento, ahondar en los detalles del siguiente código para generar el gráfico, pero es bueno tener en consideración su estructura cuando, más adelante, discutamos en profundidad todo lo relativo a graficación. El gráfico que construiremos será un mapa de color que muestra las variaciones de $f$ en un espectro bidimensional:"
   ]
  },
  {
   "cell_type": "code",
   "execution_count": 25,
   "id": "b395a01d",
   "metadata": {},
   "outputs": [],
   "source": [
    "import matplotlib.pyplot as plt"
   ]
  },
  {
   "cell_type": "code",
   "execution_count": 26,
   "id": "ba75dd24",
   "metadata": {},
   "outputs": [],
   "source": [
    "plt.rcParams[\"figure.dpi\"] = 200\n",
    "plt.style.use(\"seaborn-white\")"
   ]
  },
  {
   "cell_type": "code",
   "execution_count": 27,
   "id": "43d3c4e2",
   "metadata": {},
   "outputs": [
    {
     "data": {
      "image/png": "[encoded data removed]",
      "text/plain": [
       "<Figure size 1600x1400 with 2 Axes>"
      ]
     },
     "metadata": {},
     "output_type": "display_data"
    }
   ],
   "source": [
    "# Gráfico de nuestra función.\n",
    "plt.figure(figsize=(8, 7))\n",
    "plt.imshow(Z, origin=\"lower\", cmap=\"RdGy\")\n",
    "plt.title(r\"Gráfico de la función $f(x, y)$\", fontsize=13, pad=10)\n",
    "plt.xlabel(r\"$X$\", labelpad=10, fontsize=11)\n",
    "plt.ylabel(r\"$Y$\", labelpad=15, fontsize=11, rotation=0)\n",
    "plt.colorbar()\n",
    "plt.tight_layout();"
   ]
  },
  {
   "attachments": {},
   "cell_type": "markdown",
   "id": "ec951bc6",
   "metadata": {},
   "source": [
    "◼︎\n",
    "\n",
    "**Ejemplo 3.5 – Escalamiento de un conjunto de datos:** Un error muy común en la construcción de modelos de regresión lineal clásicos guarda relación con la no consideración de las unidades de medición inherentes a los atributos que son representados por la data. Por ejemplo, es común que, en una planta concentradora, se construyan modelos descriptivos de las relaciones existentes entre tratamiento de molienda, presión de alimentación a la batería de hidrociclones y tamaño de producto en la salida del circuito de molienda, ya que es importante controlar este último parámetro, siendo esencial en el entendimiento de la calidad del producto de este proceso.\n",
    "\n",
    "En general, el tratamiento de molienda suele expresarse como la capacidad de procesamiento de mineral de un molino SAG. De este modo, un circuito cuyo tratamiento es igual a 1500 tph es capaz de procesar 36.000 toneladas por día de mineral (en promedio). Este es un número muy grande si lo comparamos con la presión con la cual trabaja una batería de hidrociclones, que suele moverse entre 5 y 9 psi. Y más grande aún cuando lo comparamos con el tamaño de producto de molienda. En una planta típica, dicho tamaño suele expresarse como un porcentaje de mineral retenido por la malla #100 (con referencia a la serie de Tyler), y que puede variar entre 14% a 28%.\n",
    "\n",
    "Por esa razón, al construir un modelo de regresión, es importante considerar estas magnitudes, ya que cambios muy pequeños en el tratamiento de molienda pueden inducir cambios enormes en la calidad del producto que sale del circuito.\n",
    "\n",
    "Una forma de reducir el efecto de estos cambios enormes en la variabilidad entre atributos de un conjunto de datos corresponde al proceso de escalamiento. Tal proceso permite estandarizar cada una de las columnas que pueblan el dataset, de tal forma que dispongamos de información cuyas magnitudes sean similares entre sí antes de aplicar cualquier estimador. \n",
    "\n",
    "Un proceso de escalamiento común corresponde a la normalización. Consiste en transformar cada columna asociada a una variable en un dataset de tal forma que la distribución observada de estos datos, una vez realizada dicha transformación, tenga media nula y sea aproximadamente normal. Es decir, si un conjunto de datos tiene un total de $N$ observaciones (filas) y $D$ atributos o variables (columnas), entonces cada variable $X_{j}$ (para $1\\leq j\\leq D$) se somete a la transformación\n",
    "\n",
    "<p style=\"text-align: center;\">$Z_{j}={\\displaystyle \\frac{X_{j}-\\bar{X}_{j} }{s_{j}}}$</p>\n",
    "\n",
    "Donde $\\bar{X}_{j}$ es la media de todas las observaciones relativas a la variable $X_{j}$ y $s_{j}$ su desviación estándar ($j=1,...,D$). Las variables $Z_{1},...,Z_{D}$ así definidas tendrán todas una distribución normal con media aproximadamente nula y desviación estándar igual a 1.\n",
    "\n",
    "En **Numpy**, normalizar un conjunto de datos representado por un arreglo es sencillo gracias a las reglas de broadcasting. Supongamos que el arreglo `T` contiene información de una prueba de laboratorio que se realizó sobre 10 muestras de mineral en un circuito de molienda, de manera tal que la primera columna representa el tratamiento de molienda, la segunda columna representa la presión de alimentación de la batería de hidrociclones del circuito, y la tercera columna representa el porcentaje de mineral retenido con respecto a la malla #100:"
   ]
  },
  {
   "cell_type": "code",
   "execution_count": 28,
   "id": "d6c92638",
   "metadata": {},
   "outputs": [],
   "source": [
    "# Definimos las variables que poblarán nuestro arreglo por separado.\n",
    "t = np.array([1280.98, 1871.11, 1556.39, 1291.01, 1335.52, 1610.04, 1892.44, 1042.19, 1123.21, 1902.11]) # Tratamiento.\n",
    "p = np.array([6.5, 5.6, 8.6, 8.8, 9.0, 5.8, 7.7, 7.0, 6.5, 6.4]) # Presiones.\n",
    "g = np.array([24.1, 21.3, 20.6, 22.3, 18.9, 19.9, 21.2, 19.0, 20.9, 24.5]) # Tamaños de producto."
   ]
  },
  {
   "cell_type": "code",
   "execution_count": 29,
   "id": "cf66dfb5",
   "metadata": {},
   "outputs": [
    {
     "name": "stdout",
     "output_type": "stream",
     "text": [
      "[[1280.98    6.5    24.1 ]\n",
      " [1871.11    5.6    21.3 ]\n",
      " [1556.39    8.6    20.6 ]\n",
      " [1291.01    8.8    22.3 ]\n",
      " [1335.52    9.     18.9 ]\n",
      " [1610.04    5.8    19.9 ]\n",
      " [1892.44    7.7    21.2 ]\n",
      " [1042.19    7.     19.  ]\n",
      " [1123.21    6.5    20.9 ]\n",
      " [1902.11    6.4    24.5 ]]\n"
     ]
    }
   ],
   "source": [
    "# Concatenamos toda esta información en un único arreglo.\n",
    "T = np.vstack([t, p, g]).T # Transponemos para ordenar todo conforme el par (t, p, g).\n",
    "print(T)"
   ]
  },
  {
   "cell_type": "markdown",
   "id": "c02b8d3d",
   "metadata": {},
   "source": [
    "Para aplicar el escalamiento previamente definido, podemos calcular la media y la desviación estándar aplicando los métodos `mean()` y `std()`, respectivamente, sobre el arreglo `T`. Estas operaciones son ejemplos de lo que, en **Numpy**, se conoce como operaciones de agregación, ya que permiten obtener resultados agregados conforme la operación se realice a lo largo del eje 0, 1, 2, etc., mediante el uso del argumento `axis`. Por lo tanto, debido a que la normalización previamente definida se realiza por columna, los cálculos de la media y desviación estándar se hacen por columnas; es decir, conforme el eje 0. De esta manera, tenemos:"
   ]
  },
  {
   "cell_type": "code",
   "execution_count": 30,
   "id": "9b2dd3bc",
   "metadata": {},
   "outputs": [
    {
     "name": "stdout",
     "output_type": "stream",
     "text": [
      "[[-0.68408104 -0.57925954  1.56401339]\n",
      " [ 1.24268846 -1.33481547  0.01657965]\n",
      " [ 0.2151303   1.18370428 -0.37027879]\n",
      " [-0.65133318  1.3516056   0.56923455]\n",
      " [-0.5060084   1.51950691 -1.30979213]\n",
      " [ 0.3902971  -1.16691415 -0.75713722]\n",
      " [ 1.31233073  0.42814836 -0.03868584]\n",
      " [-1.46372839 -0.15950625 -1.25452664]\n",
      " [-1.19919877 -0.57925954 -0.20448232]\n",
      " [ 1.3439032  -0.6632102   1.78507535]]\n"
     ]
    }
   ],
   "source": [
    "# Normalización.\n",
    "Z = (T - T.mean(axis=0)) / T.std(axis=0)\n",
    "print(Z)"
   ]
  },
  {
   "attachments": {},
   "cell_type": "markdown",
   "id": "6bbe1f4b",
   "metadata": {},
   "source": [
    "Nuestro arreglo `Z` normalizado tiene media aproximadamente nula y desviación estándar unitaria. En efecto,"
   ]
  },
  {
   "cell_type": "code",
   "execution_count": 32,
   "id": "a2b88714",
   "metadata": {},
   "outputs": [
    {
     "data": {
      "text/plain": [
       "array([ 0.00000000e+00, -2.77555756e-16, -1.73194792e-15])"
      ]
     },
     "execution_count": 32,
     "metadata": {},
     "output_type": "execute_result"
    }
   ],
   "source": [
    "# Media del arreglo Z es aproximadamente nula.\n",
    "Z.mean(axis=0)"
   ]
  },
  {
   "cell_type": "code",
   "execution_count": 33,
   "id": "0121eba2",
   "metadata": {},
   "outputs": [
    {
     "data": {
      "text/plain": [
       "array([1., 1., 1.])"
      ]
     },
     "execution_count": 33,
     "metadata": {},
     "output_type": "execute_result"
    }
   ],
   "source": [
    "# La desviación estándar es unitaria.\n",
    "Z.std(axis=0)"
   ]
  },
  {
   "attachments": {},
   "cell_type": "markdown",
   "id": "9cc915e2",
   "metadata": {},
   "source": [
    "◼︎\n",
    "\n",
    "## Operaciones de agregación\n",
    "Los ejemplos que hemos visto hasta ahora han involucrado la manipulación de arreglos muy pequeños. Las operaciones que hemos aprendido aplican para arreglos del tamaño que deseemos, pero es bueno establecer que la mayoría de las operaciones en **Numpy** pueden realizarse conforme un cierto eje de un arreglo respectivo, mediante el uso del argumento `axis`, obteniendo resultados agregados por filas, columnas, sub-arreglos, etc. Toda operación que permita su ejecución conforme un eje de un arreglo se denomina operación de agregación.\n",
    "Veremos algunos ejemplos de este tipo de operaciones.\n",
    "\n",
    "**Ejemplo 3.6 – Sumas y productos agregados:** Los métodos `sum()` y `prod()` permiten sumar o multiplicar elementos de un arreglo. Cuando las aplicamos sin ningún argumento, el resultado es conforme absolutamente todos los elementos que pueblan el arreglo respectivo. Sin embargo, podemos utilizar estos métodos para obtener las sumas o productos de los elementos de un arreglo conforme un determinado eje del mismo:"
   ]
  },
  {
   "cell_type": "code",
   "execution_count": 34,
   "id": "ea3bbb4a",
   "metadata": {},
   "outputs": [
    {
     "name": "stdout",
     "output_type": "stream",
     "text": [
      "[[7 3 3 9 2 3 6 8 6 8]\n",
      " [1 4 6 4 4 4 1 1 5 5]\n",
      " [9 3 8 3 2 2 4 2 9 8]\n",
      " [8 4 1 3 5 6 5 6 4 6]\n",
      " [1 9 5 2 8 4 8 3 9 1]]\n"
     ]
    }
   ],
   "source": [
    "# Definición de un arreglo bidimensional A.\n",
    "rng = np.random.default_rng(8)\n",
    "A = rng.integers(low=1, high=10, size=(5, 10))\n",
    "print(A)"
   ]
  },
  {
   "cell_type": "code",
   "execution_count": 35,
   "id": "969b8df0",
   "metadata": {},
   "outputs": [
    {
     "data": {
      "text/plain": [
       "array([55, 35, 50, 48, 50])"
      ]
     },
     "execution_count": 35,
     "metadata": {},
     "output_type": "execute_result"
    }
   ],
   "source": [
    "# Suma por filas.\n",
    "A.sum(axis=1)"
   ]
  },
  {
   "cell_type": "code",
   "execution_count": 36,
   "id": "9dd81ebc",
   "metadata": {},
   "outputs": [
    {
     "data": {
      "text/plain": [
       "array([26, 23, 23, 21, 21, 19, 24, 20, 33, 28])"
      ]
     },
     "execution_count": 36,
     "metadata": {},
     "output_type": "execute_result"
    }
   ],
   "source": [
    "# Suma por columnas.\n",
    "A.sum(axis=0)"
   ]
  },
  {
   "cell_type": "code",
   "execution_count": 37,
   "id": "7f16a662",
   "metadata": {},
   "outputs": [
    {
     "data": {
      "text/plain": [
       "array([7838208,   38400, 1492992, 2073600,  622080])"
      ]
     },
     "execution_count": 37,
     "metadata": {},
     "output_type": "execute_result"
    }
   ],
   "source": [
    "# Multiplicación por filas.\n",
    "A.prod(axis=1)"
   ]
  },
  {
   "cell_type": "code",
   "execution_count": 38,
   "id": "5f07bd62",
   "metadata": {},
   "outputs": [
    {
     "data": {
      "text/plain": [
       "array([ 504, 1296,  720,  648,  640,  576,  960,  288, 9720, 1920])"
      ]
     },
     "execution_count": 38,
     "metadata": {},
     "output_type": "execute_result"
    }
   ],
   "source": [
    "# Multiplicación por columnas.\n",
    "A.prod(axis=0)"
   ]
  },
  {
   "cell_type": "markdown",
   "id": "2bd5ec26",
   "metadata": {},
   "source": [
    "◼︎\n",
    "\n",
    "**Ejemplo 3.7 – Sumas acumuladas en arreglos:** Una operación que es utilizada con frecuencia en el análisis de datos corresponde a la suma acumulada de valores conforme una secuencia de los mismos. Esto es común en la construcción (manual) de histogramas, a fin de verificar las correspondientes frecuencias absolutas o relativas acumuladas. En **Numpy**, esto puede conseguirse fácilmente mediante el uso del método `cumsum()`, el cual se aplica sobre el arreglo de interés. La suma acumulada también es una operación agregada:"
   ]
  },
  {
   "cell_type": "code",
   "execution_count": 39,
   "id": "8f4a67d1",
   "metadata": {},
   "outputs": [
    {
     "data": {
      "text/plain": [
       "array([[ 7, 10, 13, 22, 24, 27, 33, 41, 47, 55],\n",
       "       [ 1,  5, 11, 15, 19, 23, 24, 25, 30, 35],\n",
       "       [ 9, 12, 20, 23, 25, 27, 31, 33, 42, 50],\n",
       "       [ 8, 12, 13, 16, 21, 27, 32, 38, 42, 48],\n",
       "       [ 1, 10, 15, 17, 25, 29, 37, 40, 49, 50]])"
      ]
     },
     "execution_count": 39,
     "metadata": {},
     "output_type": "execute_result"
    }
   ],
   "source": [
    "# Suma acumulada en la dirección de las filas (eje 1).\n",
    "A.cumsum(axis=1)"
   ]
  },
  {
   "cell_type": "code",
   "execution_count": 40,
   "id": "85770d62",
   "metadata": {},
   "outputs": [
    {
     "data": {
      "text/plain": [
       "array([[ 7,  3,  3,  9,  2,  3,  6,  8,  6,  8],\n",
       "       [ 8,  7,  9, 13,  6,  7,  7,  9, 11, 13],\n",
       "       [17, 10, 17, 16,  8,  9, 11, 11, 20, 21],\n",
       "       [25, 14, 18, 19, 13, 15, 16, 17, 24, 27],\n",
       "       [26, 23, 23, 21, 21, 19, 24, 20, 33, 28]])"
      ]
     },
     "execution_count": 40,
     "metadata": {},
     "output_type": "execute_result"
    }
   ],
   "source": [
    "# Suma acumulada en la dirección de las columnas (eje 0).\n",
    "A.cumsum(axis=0)"
   ]
  },
  {
   "cell_type": "markdown",
   "id": "25f237a7",
   "metadata": {},
   "source": [
    "**Ejemplo 3.8 – Media y desviación estándar:** En el **Ejemplo 3.5** ya revisamos como calcular medias y desviaciones estándar en forma agregada sobre arreglos de **Numpy**, pero no está demás explicitarlo nuevamente:"
   ]
  },
  {
   "cell_type": "code",
   "execution_count": 41,
   "id": "7577a976",
   "metadata": {},
   "outputs": [
    {
     "data": {
      "text/plain": [
       "array([5.5, 3.5, 5. , 4.8, 5. ])"
      ]
     },
     "execution_count": 41,
     "metadata": {},
     "output_type": "execute_result"
    }
   ],
   "source": [
    "# Media por filas.\n",
    "A.mean(axis=1)"
   ]
  },
  {
   "cell_type": "code",
   "execution_count": 42,
   "id": "2aab7850",
   "metadata": {},
   "outputs": [
    {
     "data": {
      "text/plain": [
       "array([3.48711915, 2.24499443, 2.41660919, 2.48193473, 2.22710575,\n",
       "       1.32664992, 2.31516738, 2.60768096, 2.05912603, 2.57681975])"
      ]
     },
     "execution_count": 42,
     "metadata": {},
     "output_type": "execute_result"
    }
   ],
   "source": [
    "# Desviación estándar por columnas.\n",
    "A.std(axis=0)"
   ]
  },
  {
   "cell_type": "code",
   "execution_count": 43,
   "id": "eaa616fc",
   "metadata": {},
   "outputs": [
    {
     "data": {
      "text/plain": [
       "array([0.67059984, 0.48804227, 0.52534982, 0.59093684, 0.53026327,\n",
       "       0.3491184 , 0.48232654, 0.65192024, 0.31198879, 0.46014638])"
      ]
     },
     "execution_count": 43,
     "metadata": {},
     "output_type": "execute_result"
    }
   ],
   "source": [
    "# Coeficiente de variación por columnas.\n",
    "A.std(axis=0) / A.mean(axis=0)"
   ]
  },
  {
   "cell_type": "markdown",
   "id": "61e2a009",
   "metadata": {},
   "source": [
    "◼︎\n",
    "\n",
    "**Ejemplo 3.9 – Valores máximos y mínimos:** Otra operación que es muy utilizada en el análisis de datos corresponde a la determinación de los valores máximos y mínimos en un arreglo, ya sea en el arreglo completo (sin la especificación, por tanto, del eje respecto del cual realizamos la búsqueda), o bien, conforme una de sus direcciones (por ejemplo, por filas y/o columnas en un arreglo bidimensional). Las funciones que permiten determinar estos valores son `np.max()` y `np.min()`, respectivamente, siendo también funciones de agregación:"
   ]
  },
  {
   "cell_type": "code",
   "execution_count": 44,
   "id": "febc97d4",
   "metadata": {},
   "outputs": [
    {
     "data": {
      "text/plain": [
       "array([9, 9, 8, 9, 8, 6, 8, 8, 9, 8])"
      ]
     },
     "execution_count": 44,
     "metadata": {},
     "output_type": "execute_result"
    }
   ],
   "source": [
    "# Valor máximo por filas.\n",
    "A.max(axis=0)"
   ]
  },
  {
   "cell_type": "code",
   "execution_count": 45,
   "id": "05b7ca9d",
   "metadata": {},
   "outputs": [
    {
     "data": {
      "text/plain": [
       "array([2, 1, 2, 1, 1])"
      ]
     },
     "execution_count": 45,
     "metadata": {},
     "output_type": "execute_result"
    }
   ],
   "source": [
    "# Valor mínimo por columnas.\n",
    "A.min(axis=1)"
   ]
  },
  {
   "attachments": {},
   "cell_type": "markdown",
   "id": "05d37fc8",
   "metadata": {},
   "source": [
    "Con frecuencia, nos interesa conocer las posiciones relativas de los valores máximos y mínimos en ciertos ejes de un arreglo. Para ello, podemos usar las funciones `np.argmax()` y `np.argmin()`, que también permiten obtener resultados agregados:"
   ]
  },
  {
   "cell_type": "code",
   "execution_count": 46,
   "id": "0f3cbe7b",
   "metadata": {},
   "outputs": [
    {
     "data": {
      "text/plain": [
       "array([2, 4, 2, 0, 4, 3, 4, 0, 2, 0])"
      ]
     },
     "execution_count": 46,
     "metadata": {},
     "output_type": "execute_result"
    }
   ],
   "source": [
    "# Posiciones asociada al elemento que es el máximo valor por filas de A.\n",
    "A.argmax(axis=0)"
   ]
  },
  {
   "cell_type": "code",
   "execution_count": 47,
   "id": "5d79f8d0",
   "metadata": {},
   "outputs": [
    {
     "data": {
      "text/plain": [
       "array([4, 0, 4, 2, 0])"
      ]
     },
     "execution_count": 47,
     "metadata": {},
     "output_type": "execute_result"
    }
   ],
   "source": [
    "# Posiciones asociada al elemento que es el mínimo valor por columnas de A.\n",
    "A.argmin(axis=1)"
   ]
  },
  {
   "attachments": {},
   "cell_type": "markdown",
   "id": "92e06b85",
   "metadata": {},
   "source": [
    "**Numpy** nos provee de muchas otras funciones de agregación, pero no las discutiremos en detalle aquí. Adicionalmente, la mayoría de estas funciones tienen versiones que permiten operar en arreglos que contengan NaNs (recordemos que NaN –o `np.nan`– en la terminología de **Numpy**, es un valor que no es numérico), debido a que NaN es un elemento que podemos denominar como absorbente, debido a que cualquier operación aritmética que involucre NaNs dará como resultado, en general, otro NaN.\n",
    "\n",
    "Además, los métodos que hemos revisado en esta sección tienen todos su versión en formato de `ufunc`. Estos se observan en la Tabla (3.1).\n",
    "\n",
    "<p style=\"text-align: center;\">Tabla (3.1): Algunas funciones de agregación en Numpy</p>\n",
    "\n",
    "| Función         | Versión a prueba de `nan` | Descripción                                                  |\n",
    "| --------------- | ------------------------- | ------------------------------------------------------------ |\n",
    "| `np.sum()`      | `np.nansum()`             | Calcula la suma de los elementos respectivos.                |\n",
    "| `np.prod()`     | `np.nanprod()`            | Calcula el producto de los elementos respectivos.            |\n",
    "| `np.mean()`     | `np.nanmean()`            | Calcula la media de los elementos respectivos.               |\n",
    "| `np.std()`      | `np.nanstd()`             | Calcula la desviación estándar de los elementos respectivos. |\n",
    "| `np.var()`      | `np.nanvar()`             | Calcula la varianza de los elementos respectivos             |\n",
    "| `np.min()`      | `np.nanmin()`             | Halla el valor mínimo.                                       |\n",
    "| `np.max()`      | `np.nanmax()`             | Halla el valor máximo.                                       |\n",
    "| `np.argmin()`   | `np.nanargmin()`          | Halla la posición del valor mínimo.                          |\n",
    "| `np.argmax()`   | `np.nanargmax()`          | Halla la posición del valor máximo.                          |\n",
    "| `np.median()`   | `np.nanmedian()`          | Calcula la mediana de los elementos respectivos.             |\n",
    "\n",
    "## Comentarios finales.\n",
    "Las herramientas que hemos desarrollado en esta sección nos permiten generar cálculos de toda índole mediante el uso de funciones de agregación, tomando como referencia los ejes estructurales de un arreglo en cada caso. De esta manera, ya disponemos de una robusta caja de herramientas con la cual podemos trabajar eficientemente usando como base arreglos de **Numpy**.\n",
    "\n",
    "En la siguiente sección, abordaremos las últimas herramientas fundamentales que veremos para esta librería en la asignatura, y que son relativas a la operación con datos de tipo Booleano, además del uso de `ufuncs` que dan como resultado arreglos con este tipo de elementos, las que nos permitirán establecer comparaciones y ordenamientos específicos de datos en un arreglo."
   ]
  }
 ],
 "metadata": {
  "kernelspec": {
   "display_name": "Python 3 (ipykernel)",
   "language": "python",
   "name": "python3"
  },
  "language_info": {
   "codemirror_mode": {
    "name": "ipython",
    "version": 3
   },
   "file_extension": ".py",
   "mimetype": "text/x-python",
   "name": "python",
   "nbconvert_exporter": "python",
   "pygments_lexer": "ipython3",
   "version": "3.9.7"
  }
 },
 "nbformat": 4,
 "nbformat_minor": 5
}
