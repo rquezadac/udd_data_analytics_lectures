{
 "cells": [
  {
   "cell_type": "markdown",
   "id": "14e20227",
   "metadata": {},
   "source": [
    "# CLASE 1.1: INTRODUCCIÓN A NUMPY.\n",
    "---\n",
    "## ¿Qué es Numpy?\n",
    "**Numpy** (acrónimo de Numerical Python) es una librería de código abierto desarrollada en Python y que es comúnmente utilizada en prácticamente todos los campos de la computación científica y la ingeniería, siendo el estándar casi universal para el análisis eficiente de datos numéricos en Python y el pilar fundamental de un montón de otras librerías científicas de gran poder, aptas para tareas tan diversas que todo ser humano que desee realizar análisis de datos mediante el uso del lenguaje Python debe, como paso cero, tener esta librería como primera opción dentro de su caja de herramientas.\n",
    "\n",
    "La librería **Numpy** es utilizada extensivamente como base para otras librerías famosas y de uso masivo en Python, tales como **Pandas** (especializada en el análisis de datos estructurados), **Matplotlib** (especializada en la graficación y reportabilidad mediante una API de bajo nivel, pero sencilla y muy robusta), **Scipy** (la librería científica de Python, especializada en el modelamiento analítico de fenómenos, procesos y sistemas de gran complejidad), **Scikit-Learn** (la librería clásica de Machine Learning de Python) o **Tensorflow** (una de las librerías de Deep Learning más utilizadas en el mercado). Por esta razón, **Numpy** suele representar el primer acercamiento de los usuarios interesados en aprender tópicos de ciencia de datos desde una perspectiva práctica y es esencial en cualquier asignatura relativa a la toma de decisiones basadas en datos usando el lenguaje de programación Python.\n",
    "\n",
    "El elemento central de **Numpy** es una estructura de datos conocida como arreglo y que, en términos *pythonicos*, corresponde a un objeto conocido como `ndarray`. Dicho nombre hace referencia a un arreglo de valores (comúnmente numéricos) de dimensión ${n\\times d}$, que suele ser imaginado como una estructura de datos de tipo matricial, que idealmente vive en el conjunto $\\mathbb{R}^{n\\times d}$ (que representa al conjunto de todas las matrices con ${n}$ filas y ${d}$ columnas). Sin embargo, **Numpy** no suele limitarse a arreglos matriciales, sino que a cualquier conjunto de elementos que puedan ser utilizados para operaciones vectorizadas, lo que incluye por supuesto a objetos de mayor dimensión, como tensores, y a otros de menor dimensión, como vectores. Todas estas estructuras de datos se representan en **Numpy** mediante el objeto `ndarray`.\n",
    "\n",
    "Dado lo anterior, **Numpy** provee soporte para todo tipo de operaciones vectorizadas que son típicas en el álgebra matricial y tensorial, desde sumas y productos de matrices, hasta descomposiciones en valores singulares, factorizaciones de tipo QR e incluso ortogonalización de arreglos matriciales. Lo mejor de todo esto, es que tales operaciones se realizan en **Numpy** con un alto grado de eficiencia en lo que respecta al tiempo de ejecución.\n",
    "\n",
    "## Instalación de Numpy.\n",
    "**Numpy** se incluye siempre como librería base en el framework de Anaconda Python. Sin embargo, siempre es posible instalar esta librería de manera separada mediante el gestor de paquetes de conda usando una terminal de Anaconda como sigue:\n",
    "\n",
    "`conda install numpy`\n",
    "\n",
    "También es posible usar el índice de paquetes de Python (PyPI) mediante el gestor `pip` para la instalación de **Numpy**:\n",
    "\n",
    "`pip install numpy`\n",
    "\n",
    "La importación de la librería **Numpy** en Python suele seguir una especie de estándar en términos de su prefijo. De esta manera, **Numpy** suele importarse mediante el alias `np`, por lo que, una vez instalado, accederemos a todas funciones como sigue:"
   ]
  },
  {
   "cell_type": "code",
   "execution_count": 1,
   "id": "fe15a1b0",
   "metadata": {},
   "outputs": [],
   "source": [
    "import numpy as np"
   ]
  },
  {
   "cell_type": "markdown",
   "id": "df393d06",
   "metadata": {},
   "source": [
    "## El Concepto de Arreglo.\n",
    "Ya habíamos comentado que los arreglos son estructuras de datos que permiten la realización de operaciones vectorizadas sobre ellos, pero es justo que ahondemos un poco más en estos objetos y los conozcamos a fondo, simbólicamente, antes de comenzar a hacer operaciones con ellos.\n",
    "\n",
    "Como ya dijimos, el arreglo es el elemento central de **Numpy**. Corresponde a una grilla de valores que viene provista con la correspondiente información relativa a la data almacenada en dicha grilla, y formas que permiten localizar dicha información en la grilla y cómo interpretar tal información. La única restricción es que dicha grilla **sólo puede contener información de un único tipo**.\n",
    "\n",
    "Un ejemplo de arreglo es el *vector*. En términos más bien rigurosos, un vector es un arreglo unidimensional, en el sentido de que, si bien un vector es un objeto cuya dimensión, matemáticamente, es equivalente al número de elementos que lo constituyen, en términos geométricos, tales elementos se ordenan en una única fila o columna, razón por la cual, en la terminología computacional, los vectores constituyen arreglos de una sola dimensión.\n",
    "\n",
    "Vamos a ejemplificar esto e ilustrarlo para que podamos entenderlo mejor. En Numpy, la creación de un arreglo puede hacerse siempre mediante la función `np.array()` (o simplemente `array()`, si nos abstraemos de usar el correspondiente alias `np`). Si queremos escribir el vector $\\mathbf{x} =( -1,1,5,-8,2)  \\in \\mathbb{R}^{5} $, es posible considerar una representación mediante una matriz fila o una matriz columna, ya que, equivalentemente, podemos escribir $\\mathbf{x}$ simbólicamente como\n",
    "\n",
    "<p style=\"text-align: center;\">$\\mathbf{x} =\\left( \\begin{matrix}-1&1&5&-8&2\\end{matrix} \\right)  \\in \\mathbb{R}^{1\\times 5} \\  \\vee \\  \\mathbf{x} =\\left( \\begin{array}{r}-1\\\\ 1\\\\ 5\\\\ -8\\\\ 2\\end{array} \\right)  \\in \\mathbb{R}^{5\\times 1}$</p>\n",
    "\n",
    "En **Numpy**, todo arreglo puede escribirse considerando que, en términos matriciales, las filas se definen como listas de Python. Si queremos escribir una matriz con ${n}$ filas, bastará siempre con especificar un total de ${n}$ listas separadas por comas, donde el número de elementos dentro de cada lista (que es el mismo, por supuesto, para todas ellas) define el número de columnas de la matriz, usando la función `np.array()`.\n",
    "\n",
    "Como queremos representar, en este caso, al vector 𝐱 definido previamente, debemos considerar el tipo de representación: Si $\\mathbf{x}$ se representa por medio de una matriz fila (es decir, $\\mathbf{x} \\in \\mathbb{R}^{1\\times 5}$), bastará con escribir, conforme el esquema anteriormente descrito:"
   ]
  },
  {
   "cell_type": "code",
   "execution_count": 2,
   "id": "d69b32ca",
   "metadata": {},
   "outputs": [
    {
     "name": "stdout",
     "output_type": "stream",
     "text": [
      "[-1  1  5 -8  2]\n"
     ]
    }
   ],
   "source": [
    "x = np.array([-1, 1, 5, -8, 2]) # Definimos el arreglo x.\n",
    "print(x) # Imprimimos en pantalla el valor de x."
   ]
  },
  {
   "cell_type": "markdown",
   "id": "c8f6fdfa",
   "metadata": {},
   "source": [
    "Por otro lado, si queremos escribir $\\mathbf{x}$ como un vector columna, entonces cada una de las entradas de $\\mathbf{x}$ debe ser una lista por sí sola, ya que, como dijimos, cada fila de un arreglo se especifica mediante listas, separadas por comas. Por lo tanto, si $\\mathbf{x} \\in \\mathbb{R}^{5\\times 1}$, entonces imputaremos 5 listas separadas por comas. De este modo, debemos tener:"
   ]
  },
  {
   "cell_type": "code",
   "execution_count": 3,
   "id": "8f3eabb6",
   "metadata": {},
   "outputs": [
    {
     "name": "stdout",
     "output_type": "stream",
     "text": [
      "[[-1]\n",
      " [ 1]\n",
      " [ 5]\n",
      " [-8]\n",
      " [ 2]]\n"
     ]
    }
   ],
   "source": [
    "x = np.array([[-1], [1], [5], [-8], [2]]) # Definimos el arreglo x.\n",
    "print(x) # Imprimimos en pantalla el valor de x."
   ]
  },
  {
   "cell_type": "markdown",
   "id": "4e145c16",
   "metadata": {},
   "source": [
    "Extender esta idea a matrices resulta, por supuesto, natural. Consideremos entonces la matriz $\\mathbf{A} \\in \\mathbb{R}^{4\\times 4} $, definida como\n",
    "\n",
    "<p style=\"text-align: center;\">$\\mathbf{A} =\\left( \\begin{array}{rrrr}-2&1&-7&6\\\\ 1&3&1&-4\\\\ -5&-5&0&4\\\\ -9&2&-8&9\\end{array} \\right)  \\in \\mathbb{R}^{4\\times 4} $</p>\n",
    "\n",
    "Construir una estructura de este tipo en **Numpy** resulta muy sencillo. Como dijimos previamente, usamos la función `np.array()` para la generación de este arreglo, definiendo cada una de las filas mediante listas y separándolas mediante comas. Por lo tanto, para el caso de la matriz $\\mathbf{A}$, bastará con escribir:"
   ]
  },
  {
   "cell_type": "code",
   "execution_count": 4,
   "id": "27bc72d6",
   "metadata": {},
   "outputs": [
    {
     "name": "stdout",
     "output_type": "stream",
     "text": [
      "[[-2  1  7  6]\n",
      " [ 1  3  1 -4]\n",
      " [-5 -5  0  4]\n",
      " [-9  2 -8  9]]\n"
     ]
    }
   ],
   "source": [
    "# Definimos la matriz A.\n",
    "A = np.array([\n",
    "    [-2, 1, 7, 6],\n",
    "    [1, 3, 1, -4],\n",
    "    [-5, -5, 0, 4],\n",
    "    [-9, 2, -8, 9]\n",
    "])\n",
    "print(A) # Imprimimos en pantalla el valor de A."
   ]
  },
  {
   "cell_type": "markdown",
   "id": "c2a06544",
   "metadata": {},
   "source": [
    "Como vemos, construir matrices con **Numpy** resulta sencillo y, sobretodo, natural, debido principalmente al estándar de imputación de los elementos que componen un arreglo conforme la función `np.array()`. Las matrices, desde una perspectiva geométrica, corresponden a arreglos bidimensionales, en el sentido de que su morfología queda completamente determinada por dos parámetros, que son, correspondientemente, el número de filas y columnas que caracterizan al arreglo. Por lo tanto, la matriz `A` que construimos previamente, es un arreglo bidimensional con geometría o forma `(4, 4)`, debido a que ésta posee 4 filas y 4 columnas.\n",
    "\n",
    "**Numpy**, como ya comentamos en un principio, no se limita a vectores y matrices. También es posible construir estructuras más generales, como es el caso de los tensores. Al igual que las matrices, los tensores son objetos algebraicos que describen relaciones lineales entre otros objetos que, a su vez, son elementos de determinados espacios vectoriales. Tales elementos pueden ser vectores, matrices e incluso otros tensores. En términos geométricos, los tensores suelen representarse en **Numpy** como arreglos tridimensionales, debido a que un tensor puede imaginarse como un conjunto de matrices de la misma dimensión apiladas unas encimas de las otras. De este modo, los tres parámetros que definen la geometría del tensor corresponden al número de filas, número de columnas y número de apilamientos, respectivamente.\n",
    "\n",
    "Un ejemplo de tensor es el siguiente:"
   ]
  },
  {
   "cell_type": "code",
   "execution_count": 5,
   "id": "43478755",
   "metadata": {},
   "outputs": [
    {
     "name": "stdout",
     "output_type": "stream",
     "text": [
      "[[[ 2 -1 -1  4 -5]\n",
      "  [ 0 -3  3 -2 -7]\n",
      "  [-1  1  6 -9  1]\n",
      "  [-8 -8  1 -1  6]]\n",
      "\n",
      " [[ 5 -5  1 -1  3]\n",
      "  [-4  9  8  1  0]\n",
      "  [ 0 -1 -5 -7  2]\n",
      "  [ 5 -7 -6 -8  1]]\n",
      "\n",
      " [[ 2 -2  5  1  0]\n",
      "  [ 3 -3 -4  1  0]\n",
      "  [-2 -8 -1  0  5]\n",
      "  [-8  1 -5  0  6]]]\n"
     ]
    }
   ],
   "source": [
    "# Definimos el tensor T.\n",
    "T = np.array([\n",
    "    [\n",
    "        [2, -1, -1, 4, -5],\n",
    "        [0, -3, 3, -2, -7],\n",
    "        [-1, 1, 6, -9, 1],\n",
    "        [-8, -8, 1, -1, 6],\n",
    "    ],\n",
    "    [\n",
    "        [5, -5, 1, -1, 3],\n",
    "        [-4, 9, 8, 1, 0],\n",
    "        [0, -1, -5, -7, 2],\n",
    "        [5, -7, -6, -8, 1],\n",
    "    ],\n",
    "    [\n",
    "        [2, -2, 5, 1, 0],\n",
    "        [3, -3, -4, 1, 0],\n",
    "        [-2, -8, -1, 0, 5],\n",
    "        [-8, 1, -5, 0, 6],\n",
    "    ]\n",
    "])\n",
    "print(T) # Imprimimos en pantalla el valor de T."
   ]
  },
  {
   "cell_type": "markdown",
   "id": "09d95c46",
   "metadata": {},
   "source": [
    "Vemos pues que el tensor `T` tiene un total de tres dimensiones morfológicas (tensor de orden 3). La primera especifica el sub-arreglo de interés; la segunda, la fila de dicho sub-arreglo; y la tercera, la columna de dicho sub-arreglo. Ya ahondaremos más en la selección de elementos en un arreglo de **Numpy**. Pero vale la pena mencionar que, bajo esta convención, el elemento en la posición `[2, 1, 2]` del tensor `T` sería el número -4. Considerando que Python siempre cuenta a partir de la posición 0, vemos que el sub-arreglo en la posición 2 (el último) tiene, en la posición `[1, 2]`, al elemento -4. En un lenguaje más algebraico, este tensor podría especificarse como $\\mathbf{T} =\\left\\{ t_{ijk}\\right\\}  \\in \\mathbb{R}^{4\\times 5\\times 3}$, y el elemento previamente señalado sería $t_{212}=-4$.\n",
    "\n",
    "La Fig. (1.1) esquematiza el concepto de arreglo en términos geométricos, conforme lo que hemos revisado hasta ahora.\n",
    "\n",
    "![alt text](https://github.com/rquezadac/udd_data_analytics_lectures/blob/main/seccion_01_numpy/figures/fig_1_1.png?raw=true \"Logo Title Text 1\")\n",
    "<p style=\"text-align: center;\">Fig. (1.1): Geometrías asociadas a arreglos de Numpy de diferentes dimensiones</p>\n",
    "\n",
    "## Geometría de un arreglo.\n",
    "Observemos que, en el esquema de la Fig. (1.1), hemos dibujado flechas a modo de ejes geométricos que definen las posiciones en los distintos tipos de arreglos según su dimensión. Tales ejes corresponden a una referencia universal utilizada por **Numpy** para especificar la posición de un elemento dentro de un arreglo, y en primera instancia suele ser un tanto confusa, por lo que vale la pena discutirla brevemente.\n",
    "\n",
    "Partamos siendo honestos: Los ejes referenciales de los arreglos de **Numpy** pueden ser difíciles de entender. De hecho, su conocimiento adecuado puede volverse un verdadero dolor de cabeza para cualquier entusiasta novato en análisis o ciencia de datos. Sin embargo, son importantes para poder caracterizar cualquier estructura de datos en **Numpy**. Así que, para familiarizarnos con ellos, comenzaremos ejemplificando su uso en un arreglo bidimensional, que suele ser el caso más sencillo de entender.\n",
    "\n",
    "En un arreglo bidimensional, que es el símil de una matriz, digamos de 𝑛 filas y 𝑑 columnas, los ejes corresponden a las direcciones que definen las filas y columnas del arreglo. Conforme la Fig. (1.1), el eje 0 (que, en **Numpy** se especifica como `axis=0`) corresponde a la dirección a lo largo de las filas del arreglo, y a su vez es el primer eje en este sistema de referencia. Por otro lado, el eje 1 (que, en **Numpy** se especifica como `axis=1`) corresponde a la dirección a lo largo de las columnas de un arreglo. Estos ejes permiten especificar cómo operar con los elementos del arreglo cuando estamos interesados en construir agregaciones. Veremos esto en detalle más adelante, pero las agregaciones son operaciones que involucran el uso de los elementos a lo largo de estos ejes, como podrían ser sumas de los elementos situados en una determinada fila o columna. Tomemos, por ejemplo, el arreglo `A`, que construimos unas líneas más atrás. La operación `A.sum(axis=1)` nos permite obtener la suma de todos los elementos de cada fila del arreglo `A`, ya que el argumento `axis=1` utilizado para el método `sum()` indica a **Numpy** que la suma se realice a lo largo (o en la dirección) del eje 1. Y, si bien el eje 1 recorre todas las columnas de un arreglo 2D (y permite identificar cuantas columnas tiene nuestro arreglo), ello implica que, al mismo tiempo, dicho recorrido se hace por las filas del mismo. De esta manera, al escribir"
   ]
  },
  {
   "cell_type": "code",
   "execution_count": 6,
   "id": "90aa38d3",
   "metadata": {},
   "outputs": [
    {
     "data": {
      "text/plain": [
       "array([12,  1, -6, -6])"
      ]
     },
     "execution_count": 6,
     "metadata": {},
     "output_type": "execute_result"
    }
   ],
   "source": [
    "# Suma a lo largo del eje 1 (es decir, por filas).\n",
    "A.sum(axis=1)"
   ]
  },
  {
   "cell_type": "markdown",
   "id": "1291b173",
   "metadata": {},
   "source": [
    "obtenemos, en efecto, la suma de todas las filas de todo el arreglo `A`. Notemos que el resultado de esta operación es otro arreglo que contiene las sumas respectivas de cada fila. Esto es algo típico de **Numpy**: *Toda operación con arreglos devuelve, como resultado, otro arreglo.*\n",
    "\n",
    "Podemos obtener la suma de todas las columnas del arreglo `A` si usamos como argumento del método `sum()` la instrucción `axis=0`. De esta manera, le estamos diciendo a **Numpy**: *“Suma todos los elementos conforme la dirección del eje 0”* (es decir, en la dirección de las columnas de `A`). Por lo tanto, tendremos que"
   ]
  },
  {
   "cell_type": "code",
   "execution_count": 7,
   "id": "492e2c0d",
   "metadata": {},
   "outputs": [
    {
     "data": {
      "text/plain": [
       "array([-15,   1,   0,  15])"
      ]
     },
     "execution_count": 7,
     "metadata": {},
     "output_type": "execute_result"
    }
   ],
   "source": [
    "# Suma a lo largo del eje 0 (es decir, por columnas).\n",
    "A.sum(axis=0)"
   ]
  },
  {
   "cell_type": "markdown",
   "id": "ea473810",
   "metadata": {},
   "source": [
    "La lógica previa se preserva para cualquier operación de agregación en **Numpy**. Veremos más adelante otro tipo de operaciones de este tipo. Sin embargo, es bueno tener en consideración que estas operaciones toman, literalmente, al argumento `axis` en su sentido geométrico. De este modo, podemos imaginar que la operación `A.sum(axis=0)` es pensada en **Numpy** como: *“Sumar todos los elementos de `A`, como si hubiéramos apretado o colapsado el arreglo en la dirección del eje 0”*. No es la forma más didáctica de explicarlo, pero es como está pensado el funcionamiento de este tipo de operaciones en **Numpy**.\n",
    "\n",
    "No obstante lo anterior, las operaciones de agregación no son las únicas que podemos hacer en **Numpy**. Existen otras operaciones que no son de este tipo y que también usan como argumento a axis. Un ejemplo típico es la unión (o concatenación) de arreglos, la cual se realiza mediante la función `np.concatenate()` (en verdad, también es posible generar uniones más eficientes mediante otro tipo de funciones, pero eso lo veremos más adelante). Para ejemplificar como funciona, definamos un nuevo arreglo `B` como sigue:"
   ]
  },
  {
   "cell_type": "code",
   "execution_count": 8,
   "id": "33049942",
   "metadata": {},
   "outputs": [
    {
     "name": "stdout",
     "output_type": "stream",
     "text": [
      "[[-1  4  5 -8]\n",
      " [ 0 -5  6 -9]]\n"
     ]
    }
   ],
   "source": [
    "# Construimos un arreglo B, de 2 filas y 4 columnas.\n",
    "B = np.array([\n",
    "    [-1, 4, 5, -8],\n",
    "    [0, -5, 6, -9]\n",
    "])\n",
    "print(B)"
   ]
  },
  {
   "cell_type": "markdown",
   "id": "07c12eac",
   "metadata": {},
   "source": [
    "Definido entonces `B`, podemos querer unir este arreglo con otro, digamos `A`. Para ello, debemos chequear primeramente la compatibilidad que tienen estos arreglos para poder construir dicha unión. Vemos pues que `A` es un arreglo con geometría `(4, 4)`, mientras que `B` tiene geometría `(2, 4)`. Por lo tanto, `A` y `B` tienen el mismo número de columnas y, de este modo, la única unión que podemos hacer entre ellos es conforme las columnas de ambos. Conforme el esquema de la Fig. (1.1), tal unión se debe realizar conforme el eje 0. De esta manera, tenemos que"
   ]
  },
  {
   "cell_type": "code",
   "execution_count": 9,
   "id": "0762821d",
   "metadata": {},
   "outputs": [
    {
     "data": {
      "text/plain": [
       "array([[-2,  1,  7,  6],\n",
       "       [ 1,  3,  1, -4],\n",
       "       [-5, -5,  0,  4],\n",
       "       [-9,  2, -8,  9],\n",
       "       [-1,  4,  5, -8],\n",
       "       [ 0, -5,  6, -9]])"
      ]
     },
     "execution_count": 9,
     "metadata": {},
     "output_type": "execute_result"
    }
   ],
   "source": [
    "np.concatenate([A, B], axis=0)"
   ]
  },
  {
   "cell_type": "markdown",
   "id": "eff300cc",
   "metadata": {},
   "source": [
    "Naturalmente, si quisiéramos unir arreglos en la dirección que toman las filas (es decir, conforme el eje 1), bastaría con escribir `np.concatenate([A, B], axis=0)`. Para ello, hace falta que los arreglos `A` y `B` tengan el mismo número de filas. Como este no es el caso, realizar esta operación generará que **Numpy** levante un error de valor:"
   ]
  },
  {
   "cell_type": "code",
   "execution_count": 10,
   "id": "44e57c3b",
   "metadata": {},
   "outputs": [
    {
     "name": "stdout",
     "output_type": "stream",
     "text": [
      "all the input array dimensions for the concatenation axis must match exactly, but along dimension 0, the array at index 0 has size 4 and the array at index 1 has size 2\n"
     ]
    }
   ],
   "source": [
    "try:\n",
    "    np.concatenate([A, B], axis=1)\n",
    "except ValueError as e:\n",
    "    print(e)"
   ]
  },
  {
   "cell_type": "markdown",
   "id": "15e1a638",
   "metadata": {},
   "source": [
    "El mensaje de error es claro: Las dimensiones de ambos arreglos deben empatar de manera exacta para esta operación. Pero esto no se cumple para el caso de la unión, conforme el eje 1, en los arreglos `A` y `B`.\n",
    "\n",
    "En la Fig. (1.2), se ilustra la operación de concatenación para el caso de arreglos bidimensionales totalmente compatibles. \n",
    "\n",
    "![alt text](https://github.com/rquezadac/udd_data_analytics_lectures/blob/main/seccion_01_numpy/figures/fig_1_2.png?raw=true \"Logo Title Text 1\")\n",
    "<p style=\"text-align: center;\">Fig. (1.2): Posibles resultados en la concatenación de arreglos bidimensionales</p>\n",
    "\n",
    "El asunto es un tanto diferente para el caso de arreglos unidimensionales. En el caso de arreglos 1D, existe únicamente un eje de referencia, que siempre es el eje 0. Sin embargo, la geometría de estos arreglos puede variar dependiendo de nuestras necesidades. Por ejemplo, consideremos el arreglo unidimensional `v`, definido como"
   ]
  },
  {
   "cell_type": "code",
   "execution_count": 11,
   "id": "af882b93",
   "metadata": {},
   "outputs": [
    {
     "name": "stdout",
     "output_type": "stream",
     "text": [
      "[ 1 -1  3  6 -8]\n"
     ]
    }
   ],
   "source": [
    "v = np.array([1, -1, 3, 6, -8])\n",
    "print(v)"
   ]
  },
  {
   "cell_type": "markdown",
   "id": "f1ee4680",
   "metadata": {},
   "source": [
    "Todos los arreglos en **Numpy** cuentan con ciertos atributos, que ya veremos en detalle un poco más adelante. Uno de ellos es `shape`, que permite imprimir en pantalla la geometría de un arreglo determinado. Por ejemplo, si introducimos el código `A.shape`, el resultado será `(4, 4)`, que es sin duda la geometría del arreglo `A`. Sin embargo, si tratamos de hacer lo mismo con `v`:"
   ]
  },
  {
   "cell_type": "code",
   "execution_count": 12,
   "id": "3ff9ebe0",
   "metadata": {},
   "outputs": [
    {
     "data": {
      "text/plain": [
       "(5,)"
      ]
     },
     "execution_count": 12,
     "metadata": {},
     "output_type": "execute_result"
    }
   ],
   "source": [
    "v.shape"
   ]
  },
  {
   "cell_type": "markdown",
   "id": "af280d96",
   "metadata": {},
   "source": [
    "Vemos pues que la geometría del arreglo `v` es `(5,)`. Es decir, fiel a su representación gráfica, un arreglo 1D tiene una única dimensión. Sin embargo, pareciera que esto es cierto únicamente para los arreglos que representan una única fila. Si construimos una matriz columna, digamos"
   ]
  },
  {
   "cell_type": "code",
   "execution_count": 13,
   "id": "50b58341",
   "metadata": {},
   "outputs": [
    {
     "name": "stdout",
     "output_type": "stream",
     "text": [
      "[[ 1]\n",
      " [-1]\n",
      " [ 3]\n",
      " [ 6]\n",
      " [-8]]\n"
     ]
    }
   ],
   "source": [
    "w = np.array([\n",
    "    [1],\n",
    "    [-1],\n",
    "    [3],\n",
    "    [6],\n",
    "    [-8]\n",
    "])\n",
    "print(w)"
   ]
  },
  {
   "cell_type": "markdown",
   "id": "c72b2fbb",
   "metadata": {},
   "source": [
    "Entonces notaremos que este arreglo no es realmente unidimensional, ya que al consultar su atributo `shape`, obtenemos"
   ]
  },
  {
   "cell_type": "code",
   "execution_count": 14,
   "id": "c72b0a3a",
   "metadata": {},
   "outputs": [
    {
     "data": {
      "text/plain": [
       "(5, 1)"
      ]
     },
     "execution_count": 14,
     "metadata": {},
     "output_type": "execute_result"
    }
   ],
   "source": [
    "w.shape"
   ]
  },
  {
   "cell_type": "markdown",
   "id": "d1beca1a",
   "metadata": {},
   "source": [
    "¿Por qué ocurre esto? Bueno, si consultamos nuevamente el esquema de la Fig. (1.1), nos daremos cuenta que todo arreglo que tenga al menos una columna con más de un valor, será tal que el eje 0 se trazará en la dirección de dicha columna. Por lo tanto, una matriz columna en **Numpy** es, de hecho, un arreglo bidimensional. En el caso de `w`, la geometría de este arreglo es `(5, 1)`, y no únicamente `(5,)` (o `(, 5)`, como podríamos llegar a concluir a partir de simple lógica), lo que reafirma este hecho.\n",
    "\n",
    "Un arreglo unidimensional, por tanto, no tiene filas ni columnas. Simplemente es una secuencia de elementos, uno tras otro, conforme el eje 0. Lo curioso de esto es que un arreglo unidimensional, en realidad, no es en realidad una matriz fila… Una matriz fila debiera tener una única fila y tantas columnas como elementos en dicha fila. Por tanto, también debiera ser un arreglo bidimensional. Si definimos"
   ]
  },
  {
   "cell_type": "code",
   "execution_count": 15,
   "id": "079958ff",
   "metadata": {},
   "outputs": [
    {
     "name": "stdout",
     "output_type": "stream",
     "text": [
      "[[ 1 -1  3  6 -8]]\n"
     ]
    }
   ],
   "source": [
    "u = np.array([[1, -1, 3, 6, -8]])\n",
    "print(u)"
   ]
  },
  {
   "cell_type": "markdown",
   "id": "bf6acd85",
   "metadata": {},
   "source": [
    "Si consultamos por la geometría de `u`, obtendremos"
   ]
  },
  {
   "cell_type": "code",
   "execution_count": 16,
   "id": "b0d5ff0e",
   "metadata": {},
   "outputs": [
    {
     "data": {
      "text/plain": [
       "(1, 5)"
      ]
     },
     "execution_count": 16,
     "metadata": {},
     "output_type": "execute_result"
    }
   ],
   "source": [
    "u.shape"
   ]
  },
  {
   "cell_type": "markdown",
   "id": "724a4bd2",
   "metadata": {},
   "source": [
    "Es decir, `u` es también bidimensional. A nivel de sintaxis, hay claras diferencias entre como construimos estos arreglos. En el siguiente bloque de código, dejaremos escritas las imputaciones de cada uno de estos arreglos a fin de entender cómo se diferencian. No obstante, es importante recordar que los arreglos unidimensionales no son matrices fila ni matrices columna. Son simplemente eso, arreglos unidimensionales. Con sus propias reglas, ventajas y limitaciones."
   ]
  },
  {
   "cell_type": "code",
   "execution_count": 17,
   "id": "e42505e9",
   "metadata": {},
   "outputs": [],
   "source": [
    "x = np.array([-1, 1, 5, -8, 2]) # Un arreglo unidimensional.\n",
    "w = np.array([[1], [-1], [3], [6], [-8]]) # Una arreglo bidimensional (matriz columna).\n",
    "u = np.array([[1, -1, 3, 6, -8]]) # Una arreglo bidimensional (matriz fila)."
   ]
  },
  {
   "cell_type": "markdown",
   "id": "b8714d3f",
   "metadata": {},
   "source": [
    "## Rutinas de creación de arreglos.\n",
    "Ya sabemos que, para crear un arreglo desde cero, basta con utilizar la función `np.array()`. Conocemos también la geometría intrínseca a los arreglos y cómo estos pueden almacenar información en términos de una estructura de datos que puede ser de una, dos o tres dimensiones, las que son homologables a objetos matemáticos tales como vectores, matrices y tensores. Sin embargo, la creación de arreglos no es una propiedad exclusiva de la función `np.array()`, ya que existen muchas estructuras, tanto vectoriales como matriciales y tensoriales, que es posible construir desde cero. Tales estructuras se engloban en las llamadas *rutinas de creación de arreglos*.\n",
    "\n",
    "Estas rutinas permiten construir estructuras prefabricadas, que se acoplarán a la geometría que deseemos. Ejemplos de ello son arreglos con todos sus elementos nulos; arreglos con todos sus elementos iguales a uno; vectores, matrices o tensores identidad; arreglos con diagonales unitarias (que, en álgebra lineal, se asemejan a matrices triangulares o escalonadas).\n",
    "\n",
    "En los siguientes ejemplos, revisaremos estas rutinas.\n",
    "\n",
    "**Ejemplo 1.1 – Creación de arreglos con entradas nulas:** Para crear un arreglo con todas sus entradas nulas, podemos utilizar la función `np.zeros()`. Esta función requiere de, al menos, un argumento, y que corresponde a la geometría del arreglo que queremos construir. Si imputamos únicamente un número entero, **Numpy** asumirá que deseamos construir un arreglo bidimensional con tantos elementos como valor tenga dicha entrada:"
   ]
  },
  {
   "cell_type": "code",
   "execution_count": 18,
   "id": "34893c93",
   "metadata": {},
   "outputs": [
    {
     "data": {
      "text/plain": [
       "array([0., 0., 0., 0., 0., 0., 0., 0.])"
      ]
     },
     "execution_count": 18,
     "metadata": {},
     "output_type": "execute_result"
    }
   ],
   "source": [
    "# Creación de un arreglo unidimensional con 8 elementos iguales a cero.\n",
    "np.zeros(8)"
   ]
  },
  {
   "cell_type": "markdown",
   "id": "242851dc",
   "metadata": {},
   "source": [
    "Si, en vez de un único número entero, imputamos una tupla con dos o más enteros (digamos `(i, j, k, …)`) como argumento en la función `np.zeros()`, lo que obtendremos como resultado será un arreglo multidimensional (de dimensión `(i, j, k, …)`). Luego tendremos,"
   ]
  },
  {
   "cell_type": "code",
   "execution_count": 19,
   "id": "18854ee5",
   "metadata": {},
   "outputs": [
    {
     "data": {
      "text/plain": [
       "array([[0., 0., 0., 0.],\n",
       "       [0., 0., 0., 0.],\n",
       "       [0., 0., 0., 0.],\n",
       "       [0., 0., 0., 0.],\n",
       "       [0., 0., 0., 0.]])"
      ]
     },
     "execution_count": 19,
     "metadata": {},
     "output_type": "execute_result"
    }
   ],
   "source": [
    "# Creación de un arreglo de 5 filas y 4 columnas (matriz), con todos sus elementos iguales a cero.\n",
    "np.zeros((5, 4))"
   ]
  },
  {
   "cell_type": "code",
   "execution_count": 20,
   "id": "d99fc671",
   "metadata": {},
   "outputs": [
    {
     "data": {
      "text/plain": [
       "array([[[0., 0., 0., 0.],\n",
       "        [0., 0., 0., 0.],\n",
       "        [0., 0., 0., 0.],\n",
       "        [0., 0., 0., 0.],\n",
       "        [0., 0., 0., 0.]],\n",
       "\n",
       "       [[0., 0., 0., 0.],\n",
       "        [0., 0., 0., 0.],\n",
       "        [0., 0., 0., 0.],\n",
       "        [0., 0., 0., 0.],\n",
       "        [0., 0., 0., 0.]]])"
      ]
     },
     "execution_count": 20,
     "metadata": {},
     "output_type": "execute_result"
    }
   ],
   "source": [
    "# Creación de un arreglo de 2 apilamientos, 5 filas y 4 columnas (tensor de rango 3), con todos \n",
    "# sus elementos iguales a cero.\n",
    "np.zeros((2, 5, 4))"
   ]
  },
  {
   "cell_type": "markdown",
   "id": "e3629898",
   "metadata": {},
   "source": [
    "Toda rutina de creación de arreglos permite especificar el tipo de dato que caracteriza a sus entradas. Los arreglos de **Numpy** siempre tienen el mismo tipo de dato, y podemos especificarlo siempre mediante el argumento `dtype` en este tipo de rutinas:"
   ]
  },
  {
   "cell_type": "code",
   "execution_count": 21,
   "id": "469ab0ab",
   "metadata": {},
   "outputs": [
    {
     "data": {
      "text/plain": [
       "array([[0, 0, 0, 0],\n",
       "       [0, 0, 0, 0],\n",
       "       [0, 0, 0, 0],\n",
       "       [0, 0, 0, 0],\n",
       "       [0, 0, 0, 0]])"
      ]
     },
     "execution_count": 21,
     "metadata": {},
     "output_type": "execute_result"
    }
   ],
   "source": [
    "# Creación de un arreglo de geometría (5, 4) con entradas nulas, todas del tipo entero (int).\n",
    "np.zeros((5, 4), dtype=int)"
   ]
  },
  {
   "cell_type": "markdown",
   "id": "2b91ee75",
   "metadata": {},
   "source": [
    "Vemos pues que lo que hemos obtenido mediante la imputación del argumento `dtype=int` es un arreglo cuyos elementos son del tipo entero, el cual es un tipo de dato nativo de Python. **Numpy** maneja sus propios tipos de datos, los que veremos más adelante. Dentro de tales tipos, incluso podemos construir arreglos con entradas cuyos valores sean números complejos, siendo este tipo de dato especificable mediante la variable `np.complex128` (que hace referencia a números complejos compuestos por dos números de punto flotante, cada uno de 64 bits):"
   ]
  },
  {
   "cell_type": "code",
   "execution_count": 22,
   "id": "c657db9c",
   "metadata": {},
   "outputs": [
    {
     "data": {
      "text/plain": [
       "array([[0.+0.j, 0.+0.j, 0.+0.j, 0.+0.j],\n",
       "       [0.+0.j, 0.+0.j, 0.+0.j, 0.+0.j],\n",
       "       [0.+0.j, 0.+0.j, 0.+0.j, 0.+0.j],\n",
       "       [0.+0.j, 0.+0.j, 0.+0.j, 0.+0.j],\n",
       "       [0.+0.j, 0.+0.j, 0.+0.j, 0.+0.j]])"
      ]
     },
     "execution_count": 22,
     "metadata": {},
     "output_type": "execute_result"
    }
   ],
   "source": [
    "# Creación de un arreglo de geometría (5, 4) con entradas nulas, todas del tipo complejo (np.complex128).\n",
    "np.zeros((5, 4), dtype=np.complex128)"
   ]
  },
  {
   "cell_type": "markdown",
   "id": "006e1f3e",
   "metadata": {},
   "source": [
    "En el bloque anterior, el valor `0.+0.j` equivale, matemáticamente, al número complejo $(0,0)=0+0i\\in\\mathbb{C}$, que por supuesto es el elemento nulo del cuerpo $\\mathbb{C}$ de los números complejos. El uso de la letra `j`, en vez de la `i`, para especificar la componente imaginaria de un número complejo en **Numpy** es heredada de la Física, donde se usa la `j` fundamentalmente porque la `i` es utilizada para denotar la intensidad de corriente eléctrica. ◼︎\n",
    "\n",
    "**Ejemplo 1.2 – Creación de un arreglo con todas sus entradas iguales a 1:** Para crear arreglos cuyas entradas sean todas iguales a 1, podemos usar la función `np.ones()`. Los argumentos de esta función son exactamente los mismos que los usados para el caso de la función `np.zeros()`, por lo que su uso es completamente análogo:"
   ]
  },
  {
   "cell_type": "code",
   "execution_count": 23,
   "id": "aaed69a3",
   "metadata": {},
   "outputs": [
    {
     "data": {
      "text/plain": [
       "array([[1, 1, 1, 1, 1, 1],\n",
       "       [1, 1, 1, 1, 1, 1],\n",
       "       [1, 1, 1, 1, 1, 1],\n",
       "       [1, 1, 1, 1, 1, 1]])"
      ]
     },
     "execution_count": 23,
     "metadata": {},
     "output_type": "execute_result"
    }
   ],
   "source": [
    "# Creación de un arreglo de geometría (4, 6) con entradas enteras iguales a 1.\n",
    "np.ones((4, 6), dtype=int)"
   ]
  },
  {
   "cell_type": "markdown",
   "id": "b5c541f3",
   "metadata": {},
   "source": [
    "◼︎\n",
    "\n",
    "**Ejemplo 1.3 – Creación de un arreglo con elementos iguales a un determinado valor:** No solamente podemos construir arreglos llenos de 0s y de 1s. También podemos construir arreglos cuyos elementos sean iguales al valor que nosotros queramos. Para ello, podemos utilizar la función `np.full()`, la cual trabaja de la misma forma que las funciones `np.zeros()` y `np.ones()`, con la diferencia de que, además de la geometría del arreglo de interés, también debemos imputar el valor que se repetirá en las entradas de nuestro arreglo mediante el argumento `fill_value`. Luego tenemos"
   ]
  },
  {
   "cell_type": "code",
   "execution_count": 24,
   "id": "f0ba929b",
   "metadata": {},
   "outputs": [
    {
     "data": {
      "text/plain": [
       "array([[9, 9, 9, 9, 9],\n",
       "       [9, 9, 9, 9, 9],\n",
       "       [9, 9, 9, 9, 9],\n",
       "       [9, 9, 9, 9, 9],\n",
       "       [9, 9, 9, 9, 9]])"
      ]
     },
     "execution_count": 24,
     "metadata": {},
     "output_type": "execute_result"
    }
   ],
   "source": [
    "# Creación de un arreglo de geometría (5, 5) con entradas enteras iguales a 9.\n",
    "np.full((5, 5), fill_value=9)"
   ]
  },
  {
   "cell_type": "markdown",
   "id": "1a4f5393",
   "metadata": {},
   "source": [
    "◼︎\n",
    "\n",
    "**Ejemplo 1.4 – Creación de matrices diagonales:** En el campo del álgebra lineal, una matriz diagonal es una matriz que tiene únicamente valores no nulos a lo largo de una dirección diagonal. Tales valores no nulos pueden ser arbitrarios, pero en general, estaremos interesados en matrices diagonales reducidas. Tales matrices tienen elementos iguales a 1 en la diagonal no nula. Por ejemplo, para una matriz $\\mathbf{D}={ d_{ij}}\\in\\mathbb{R}^{4\\times 6} $:\n",
    "\n",
    "<p style=\"text-align: center;\">$\\mathbf{D} =\\left( \\begin{matrix}0&1&0&0&0&0\\\\ 0&0&1&0&0&0\\\\ 0&0&0&1&0&0\\\\ 0&0&0&0&1&0\\end{matrix} \\right)  \\in \\mathbb{R}^{4\\times 6} $</p>\n",
    "\n",
    "La matriz $\\mathbf{D}$ anteriormente definida tiene elementos diagonales no nulos a partir de la segunda posición en la primera fila. Tal posición se denota como $k$. Luego, podemos definir una matriz diagonal reducida, indexada desde $k$, como\n",
    "\n",
    "<p style=\"text-align: center;\">$\\mathbf{D} =\\left\\{ d_{ij}\\right\\}  \\in \\mathbb{R}^{n\\times m} \\  ;\\  \\mathrm{d} \\mathrm{o} \\mathrm{n} \\mathrm{d} \\mathrm{e} \\  d_{ij}=\\begin{cases}1&;\\  \\forall i=j+k\\\\ 0&;\\  \\forall i\\neq j+k\\end{cases}$</p>\n",
    "\n",
    "Un caso particular es aquel para el cual $n=m$ y $k=0$, el cual se denomina como matriz identidad, y que es una matriz $\\mathbf{I}_{n} =\\left\\{ r_{ij}\\right\\}  \\in \\mathbb{R}^{n\\times n}$, tal que $r_{ij}=1$ para todo $i=j$ y $r_{ij}=0$ para todo $i\\neq j$. Es decir, es una matriz con únicamente 1s en su diagonal principal, y ceros en el resto de las posiciones:\n",
    "\n",
    "<p style=\"text-align: center;\">$\\mathbf{I}_{n} =\\left( \\begin{matrix}1&0&\\cdots &0\\\\ 0&1&\\cdots &0\\\\ \\vdots &\\vdots &\\ddots &\\vdots \\\\ 0&0&\\cdots &1\\end{matrix} \\right)  \\in \\mathbb{R}^{n\\times n} $</p>\n",
    "\n",
    "Construir una matriz diagonal reducida en **Numpy** es sencillo. Basta con utilizar la función `np.eye()`. Esta función, a diferencia de las anteriores, requiere especificar el número de filas y columnas de nuestro arreglo de manera explícita, mediante los argumentos `N` y `M`, respectivamente. Además, podemos imputar el argumento `k` para especificar la posición a partir de la cual los elementos diagonales serán no nulos:"
   ]
  },
  {
   "cell_type": "code",
   "execution_count": 25,
   "id": "72d9dad9",
   "metadata": {},
   "outputs": [
    {
     "data": {
      "text/plain": [
       "array([[1., 0., 0., 0., 0., 0.],\n",
       "       [0., 1., 0., 0., 0., 0.],\n",
       "       [0., 0., 1., 0., 0., 0.],\n",
       "       [0., 0., 0., 1., 0., 0.],\n",
       "       [0., 0., 0., 0., 1., 0.]])"
      ]
     },
     "execution_count": 25,
     "metadata": {},
     "output_type": "execute_result"
    }
   ],
   "source": [
    "# Arreglo diagonal reducido de geometría (5, 6), indexado en la posición 0.\n",
    "np.eye(N=5, M=6, k=0)"
   ]
  },
  {
   "cell_type": "code",
   "execution_count": 26,
   "id": "76ed0d6b",
   "metadata": {},
   "outputs": [
    {
     "data": {
      "text/plain": [
       "array([[0., 1., 0., 0., 0., 0., 0., 0.],\n",
       "       [0., 0., 1., 0., 0., 0., 0., 0.],\n",
       "       [0., 0., 0., 1., 0., 0., 0., 0.],\n",
       "       [0., 0., 0., 0., 1., 0., 0., 0.]])"
      ]
     },
     "execution_count": 26,
     "metadata": {},
     "output_type": "execute_result"
    }
   ],
   "source": [
    "# Arreglo diagonal reducido de geometría (4, 8), indexado en la posición 1. \n",
    "np.eye(N=4, M=8, k=1)"
   ]
  },
  {
   "cell_type": "markdown",
   "id": "f03b7e01",
   "metadata": {},
   "source": [
    "Por otro lado, la construcción de arreglos que emulan una matriz identidad también es sencilla. Para ello, bastará con utilizar la función `np.identity()`, la cual tiene un único argumento obligatorio, que corresponde a `n`, y que representa el número de filas y columnas que tendrá este arreglo (recordemos que la matriz identidad es cuadrada, tiene el mismo número de filas y columnas):"
   ]
  },
  {
   "cell_type": "code",
   "execution_count": 27,
   "id": "9363214d",
   "metadata": {},
   "outputs": [
    {
     "data": {
      "text/plain": [
       "array([[1., 0., 0., 0., 0., 0.],\n",
       "       [0., 1., 0., 0., 0., 0.],\n",
       "       [0., 0., 1., 0., 0., 0.],\n",
       "       [0., 0., 0., 1., 0., 0.],\n",
       "       [0., 0., 0., 0., 1., 0.],\n",
       "       [0., 0., 0., 0., 0., 1.]])"
      ]
     },
     "execution_count": 27,
     "metadata": {},
     "output_type": "execute_result"
    }
   ],
   "source": [
    "np.identity(n=6)"
   ]
  },
  {
   "cell_type": "markdown",
   "id": "6840e89c",
   "metadata": {},
   "source": [
    "Como en los ejemplos anteriores, las funciones `np.eye()` y `np.identity()` también permiten especificar el tipo de dato que poblará nuestro arreglo mediante el argumento dtype. Ya veremos en detalle los tipos de datos que se permiten en **Numpy**. ◼︎\n",
    "\n",
    "**Ejemplo 1.5 – Arreglos definidos mediante rangos o intervalos:** Es posible construir arreglos unidimensionales en **Numpy** mediante la especificación de un valor inicial y un valor final, a modo de rango o intervalo. Tales construcciones son muy similares a las que podemos replicar mediante la función nativa `range()` de Python, pero con un alcance menos limitado y que también dan como resultado iterables.\n",
    "\n",
    "Un primer ejemplo de función de este tipo es `np.arange()`, la cual permite construir un arreglo unidimensional de valores equiespaciados que parten de un determinado valor, terminan en otro, y están separados mediante un determinado paso. Tales parámetros se especifican mediante los argumentos `start`, `stop` y `step`, respectivamente:"
   ]
  },
  {
   "cell_type": "code",
   "execution_count": 28,
   "id": "1058cf3d",
   "metadata": {},
   "outputs": [
    {
     "data": {
      "text/plain": [
       "array([ 1,  3,  5,  7,  9, 11, 13, 15, 17, 19])"
      ]
     },
     "execution_count": 28,
     "metadata": {},
     "output_type": "execute_result"
    }
   ],
   "source": [
    "# Rango de valores desde 1 a 20, con un paso de 2.\n",
    "np.arange(start=1, stop=20, step=2)"
   ]
  },
  {
   "cell_type": "markdown",
   "id": "7a670506",
   "metadata": {},
   "source": [
    "La función `np.arange()`, por cierto, sólo crea arreglos con números enteros.\n",
    "\n",
    "No estamos limitados a construir arreglos crecientes (es decir, no necesariamente `start` < `stop`). Construir rangos decrecientes con `np.arange()` también es posible, siempre que el valor del paso (`step`) sea negativo:"
   ]
  },
  {
   "cell_type": "code",
   "execution_count": 29,
   "id": "67a908d6",
   "metadata": {},
   "outputs": [
    {
     "data": {
      "text/plain": [
       "array([100,  90,  80,  70,  60,  50,  40,  30,  20,  10])"
      ]
     },
     "execution_count": 29,
     "metadata": {},
     "output_type": "execute_result"
    }
   ],
   "source": [
    "# Rango decreciente de valores desde 100 a 0, con un paso de -10.\n",
    "np.arange(start=100, stop=0, step=-10)"
   ]
  },
  {
   "cell_type": "markdown",
   "id": "a4399b94",
   "metadata": {},
   "source": [
    "Notemos que `np.arange()` debe leerse de la siguiente manera: *“Construir un rango desde start hasta antes de stop, de paso* `step`”. Por esa razón es que los arreglos resultantes del uso de esta función no contemplan la inclusión del valor `stop`, sino que el valor anterior anterior a él, conforme el paso que hemos definido previamente:"
   ]
  },
  {
   "cell_type": "code",
   "execution_count": 30,
   "id": "a10483ec",
   "metadata": {},
   "outputs": [
    {
     "data": {
      "text/plain": [
       "array([0, 1, 2, 3, 4, 5, 6, 7, 8, 9])"
      ]
     },
     "execution_count": 30,
     "metadata": {},
     "output_type": "execute_result"
    }
   ],
   "source": [
    "# Creación de rango creciente desde 0 a 10 (notemos que esto no contempla al número 10).\n",
    "np.arange(start=0, stop=10, step=1)"
   ]
  },
  {
   "cell_type": "markdown",
   "id": "5815fc9a",
   "metadata": {},
   "source": [
    "Otra función útil para la construcción de arreglos es `np.linspace()`. Esta función es similar a `np.arange()`, pero además de los valores inicial y final del rango a construir, requiere como argumento el número de valores dentro del arreglo en vez del paso entre cada uno de los elementos del arreglo, el cual se define mediante el argumento `num`:"
   ]
  },
  {
   "cell_type": "code",
   "execution_count": 31,
   "id": "0642970e",
   "metadata": {},
   "outputs": [
    {
     "data": {
      "text/plain": [
       "array([0.  , 0.25, 0.5 , 0.75, 1.  ])"
      ]
     },
     "execution_count": 31,
     "metadata": {},
     "output_type": "execute_result"
    }
   ],
   "source": [
    "# Creación de rango creciente desde 0 a 1, con 5 elementos.\n",
    "np.linspace(start=0, stop=1, num=5)"
   ]
  },
  {
   "cell_type": "markdown",
   "id": "d1c2049e",
   "metadata": {},
   "source": [
    "Notemos que, en el caso de `np.linspace()`, sí se incluye el valor de `stop` dentro del arreglo resultante. La construcción de rangos decrecientes es igualmente sencilla:"
   ]
  },
  {
   "cell_type": "code",
   "execution_count": 32,
   "id": "568ec59b",
   "metadata": {},
   "outputs": [
    {
     "data": {
      "text/plain": [
       "array([1.   , 0.875, 0.75 , 0.625, 0.5  , 0.375, 0.25 , 0.125, 0.   ])"
      ]
     },
     "execution_count": 32,
     "metadata": {},
     "output_type": "execute_result"
    }
   ],
   "source": [
    "# Creación de rango creciente desde 1 a 0, con 9 elementos.\n",
    "np.linspace(start=1, stop=0, num=9)"
   ]
  },
  {
   "cell_type": "markdown",
   "id": "73571b12",
   "metadata": {},
   "source": [
    "◼︎\n",
    "\n",
    "**Ejemplo 1.6 – Creación de grillas:** Los intervalos son ejemplos de subconjunto de la recta real. Para casos de mayor dimensión, es posible considerar el producto cartesiano de dos intervalos lo que da como resultado una grilla o rectángulo. Esta idea es replicable para cualquier número de dimensiones, lo que da como resultado lo que en matemáticas se conoce como hiper-celda o hiper-intervalo: El producto cartesiano de $n$ intervalos $\\left[ a_{1},b_{1}\\right]  \\times \\left[ a_{2},b_{2}\\right]  \\times \\cdots \\times \\left[ a_{n},b_{n}\\right]$. En **Numpy**, podemos construir grillas de cualquier dimensión mediante el uso de la función `np.meshgrid()`, la cual requiere como entrada dos arreglos undimensionales que representen rangos o intervalos (por ejemplo, construidos ya sea mediante `np.arange()` o `np.linspace()`). El resultado de la función `np.meshgrid()` es una lista con dos arreglos, cada uno de los cuales replica el arreglo original respectivo tantas veces como elementos tenga dicho arreglo. Esto se ilustra en la Fig. (1.3).\n",
    "\n",
    "![alt text](https://github.com/rquezadac/udd_data_analytics_lectures/blob/main/seccion_01_numpy/figures/fig_1_3.png?raw=true \"Logo Title Text 1\")\n",
    "<p style=\"text-align: center;\">Fig. (1.3): Esquema de la construcción de grillas bidimensionales</p>\n",
    "\n",
    "A nivel de código, podemos escribir:"
   ]
  },
  {
   "cell_type": "code",
   "execution_count": 33,
   "id": "4fefc1f7",
   "metadata": {},
   "outputs": [],
   "source": [
    "# Definición de los límites de la gilla.\n",
    "x = np.linspace(start=-3, stop=3, num=100)\n",
    "y = np.linspace(start=-3, stop=3, num=100)\n",
    "\n",
    "# Creación de la grilla.\n",
    "X, Y = np.meshgrid(x, y, indexing=\"ij\")"
   ]
  },
  {
   "cell_type": "markdown",
   "id": "a63d2580",
   "metadata": {},
   "source": [
    "Repasemos el bloque de código anterior, a fin de entender lo que acabamos de hacer:\n",
    "\n",
    "- Primero, construimos los límites de nuestra grilla, que serán los arreglos `x` e `y`, y que son rangos que van de -3 a 3, con 100 elementos cada uno. Cada uno de ellos fue construido mediante la función `np.linspace()`.\n",
    "\n",
    "- La salida de la función `np.meshgrid()` es una lista con dos arreglos, cada uno de los cuales se asigna a las variables `X` e `Y`. Estos arreglos corresponden a los arreglos originales, replicados conforme un determinado eje (0 o 1), respetando la indexación especificada mediante el argumento `indexing`. En el código anterior, hemos puesto `indexing=\"ij\"`, lo que significa que el primer arreglo que compone la grilla se replica conforme la dirección del eje 0, y el segundo se replica conforme la dirección del eje 1. Aquello se ilustra en la Fig. (1.3).\n",
    "\n",
    "La función `np.meshgrid()` es ampliamente utilizada para evaluar funciones de varias variables para luego obtener visualizaciones adecuadas. Ya profundizaremos más en las funciones numéricas que podemos evaluar mediante **Numpy** (las que son llamadas funciones universales o ufuncs). Pero, por ahora, es bueno que sepamos que podemos utilizar el resultado de la función `np.meshgrid()` para obtener un arreglo que contenga los resultados de cualquier operación sobre tal resultado. Por ejemplo, dado que la grilla que construimos es resultado del producto cartesiano $\\left[ -3,3\\right]  \\times \\left[ -3,3\\right]$, entonces podemos perfectamente obtener el resultado de la función $f(x,y)=e^{-( x^{2}+y^{2})}$:"
   ]
  },
  {
   "cell_type": "code",
   "execution_count": 34,
   "id": "5b36a2d5",
   "metadata": {},
   "outputs": [],
   "source": [
    "# Evaluación de una función sobre la grilla X, Y.\n",
    "Z = np.exp(-(X**2 + Y**2))"
   ]
  },
  {
   "cell_type": "markdown",
   "id": "3eda6e0d",
   "metadata": {},
   "source": [
    "En el siguiente bloque de código se construye una gráfica de la función anterior mediante funciones de la librería **Matplotlib**. Abordaremos lo relativo a la graficación en Python más adelante, pero es bueno que sepamos que ésta es una de las tantas cosas que podremos ser capaces de hacer en términos de visualización de información (en conjunción, en este caso, con **Numpy**)."
   ]
  },
  {
   "cell_type": "code",
   "execution_count": 35,
   "id": "502b1bb6",
   "metadata": {},
   "outputs": [],
   "source": [
    "# La librería Matplotlib permite construir gráficos en Python.\n",
    "import matplotlib.pyplot as plt\n",
    "\n",
    "# Algunos ajustes para que nuestras figuras queden bien bonitas.\n",
    "plt.rcParams[\"figure.dpi\"] = 150\n",
    "plt.style.use(\"seaborn-white\")"
   ]
  },
  {
   "cell_type": "code",
   "execution_count": 36,
   "id": "28f62034",
   "metadata": {},
   "outputs": [
    {
     "data": {
      "image/png": "[encoded data removed]",
      "text/plain": [
       "<Figure size 1500x1200 with 1 Axes>"
      ]
     },
     "metadata": {},
     "output_type": "display_data"
    }
   ],
   "source": [
    "# Gráfico de nuestra función de dos variables.\n",
    "fig = plt.figure(figsize=(10, 8))\n",
    "ax = fig.add_subplot(projection=\"3d\")\n",
    "ax.plot_surface(X, Y, Z, cmap=\"RdGy\")\n",
    "ax.set_xlabel(r\"$x$\", fontsize=14)\n",
    "ax.set_ylabel(r\"$y$\", fontsize=14)\n",
    "ax.set_zlabel(r\"$z$\", fontsize=14)\n",
    "ax.set_title(r\"Gráfico de la función $f(x,y)=e^{-(x^{2}+y^{2})}$\", fontsize=14);"
   ]
  },
  {
   "cell_type": "markdown",
   "id": "a0ada6b8",
   "metadata": {},
   "source": [
    "◼︎\n",
    "\n",
    "**Ejemplo 1.7 – Acceso a información en formato** `ndarray`**:** Una actividad importante que haremos una y otra vez cuando ya estemos ejerciendo, es acceder a nueva información. Dada su estructura, una primera aproximación es representar esa información por medio de arreglos de **Numpy**.\n",
    "\n",
    "La función `np.genfromtxt()` permite acceder a información guardada en nuestro computador, tales como archivo de texto (`.txt`) o separados por comas (`.csv`), aunque con ciertas limitaciones. Dicha información debe estar codificada en un formato de tipo Unicode de 8 bits (`UTF-8`). Desde Microsoft Excel®, los libros de cálculo, al guardarse como `.csv`, quedan separados por puntos y comas (`;`) en vez de por comas, por lo cual, si abrimos un archivo `.csv` guardado desde Excel® (digamos, `sag_record_01_2020.csv`), deberíamos escribir:"
   ]
  },
  {
   "cell_type": "code",
   "execution_count": 37,
   "id": "1000d81a",
   "metadata": {},
   "outputs": [
    {
     "data": {
      "text/plain": [
       "array([[        nan,         nan,         nan],\n",
       "       [        nan, 2822.040527, 2035.64563 ],\n",
       "       [        nan, 2788.006348, 2092.776367],\n",
       "       ...,\n",
       "       [        nan, 2949.046387, 1720.419922],\n",
       "       [        nan, 2893.948242, 1929.532715],\n",
       "       [        nan, 2946.970947, 1975.310547]])"
      ]
     },
     "execution_count": 37,
     "metadata": {},
     "output_type": "execute_result"
    }
   ],
   "source": [
    "# Apertura de archivo .csv.\n",
    "np.genfromtxt(\"datasets/sag_record_01_2020.csv\", delimiter=\";\")"
   ]
  },
  {
   "cell_type": "markdown",
   "id": "b36f7b85",
   "metadata": {},
   "source": [
    "El archivo `sag_record_01_2020.csv` contiene información relativa a un mes de procesamiento de mineral en dos molinos SAG de una planta concentradora, siendo cada observación (fila) una hora de data. La primera fila del arreglo resultante corresponde a los rótulos de cada columna, los cuales no son legibles desde **Numpy**. La primera columna tampoco es legible, ya que contiene información de cada una de las estampas de tiempo (timestamps) horarias asignadas a cada observación. **Numpy** es capaz de manejar datos de tiempo, pero debido a que la opción por defecto al abrir archivos mediante la función `np.genfromtxt()` es transformar toda la data a números de punto flotante, solamente los tratamientos horarios son legibles en el arreglo resultante. Notemos además que toda la data no legible se pasa a un valor denominado `nan`, que significa **”not a number”** (literalmente, no es un número). Esta es una convención usada en varias librerías de Python para especificar que la data asociada a alguna observación no es legible de alguna manera, o simplemente no existe o no está definida.\n",
    "\n",
    "No ahondaremos mucho más en la lectura de archivos externos desde **Numpy**, ya que, más adelante, veremos otra librería que es más idónea para acceder a información de este tipo, cuyo nombre es **Pandas**, y permite la manipulación de arreglos rectangulares de datos mediante objetos más especializados que los que podemos encontrar en **Numpy**, conocidos como Series y DataFrames. ◼︎\n",
    "\n",
    "## Tipos de datos en Numpy.\n",
    "Como comentamos previamente, uno de los aspectos más importantes de los arreglos de **Numpy** es que sólo pueden contener elementos de un único tipo, por lo que es importante tener un conocimiento adecuado de tales tipos y sus limitaciones.\n",
    "\n",
    "Debido a que **Numpy** fue originalmente construido en C, los tipos de datos de **Numpy** resultan familiares para los usuarios de ese lenguaje (o FORTRAN, entre otros). Tales tipos son también muy símiles a los que podemos encontrar, parcialmente, en el backend nativo de Python, y se detallan en la Tabla (1.1).\n",
    "\n",
    "<p style=\"text-align: center;\">Tabla (1.1): Tipos de datos propios de Numpy</p>\n",
    "\n",
    "| Tipo         | Descripción |\n",
    "| :----------- | :---------- |\n",
    "| `bool`       | Booleano (True o False), almacenado como un bit |\n",
    "| `int8`       | Bit (-128 a 127) |\n",
    "| `int16`      | Entero (-32768 a 32767) |\n",
    "| `int32`      | Entero (-2147483648 a 2147483647) |\n",
    "| `int64`      | Entero (-9223372036854775808 a 9223372036854775807) |\n",
    "| `uint8`      | Entero no negativo (0 a 255) |\n",
    "| `uint16`     | Entero no negativo (0 a 65535) |\n",
    "| `uint32`     | Entero no negativo (0 a 4294967295) |\n",
    "| `uint64`     | Entero no negativo (0 a 18446744073709551615) |\n",
    "| `float16`    | Número flotante de precisión media |\n",
    "| `float32`    | Número flotante de precisión única |\n",
    "| `float64`    | Número flotante de precisión doble |\n",
    "| `complex64`  | Número complejo, representado por dos números flotantes de 32 bits |\n",
    "| `complex128` | Número complejo, representado por dos números flotantes de 64 bits |\n",
    "\n",
    "\n",
    "En general, salvo ciertas excepciones, la mayor parte de los arreglos que podemos construir desde cero en **Numpy** están seteados de manera tal que, por defecto, el tipo de dato asociado a sus elementos es del tipo flotante (y que, en **Numpy**, se puede escribir como `np.float32` o `np.float64`, dependiendo del nivel de precisión que deseemos en nuestros cálculos)."
   ]
  },
  {
   "cell_type": "markdown",
   "id": "91763d30",
   "metadata": {},
   "source": [
    "## Generación de números pseudo-aleatorios.\n",
    "Numpy cuenta con algunas rutinas que permiten construir arreglos cuyos elementos sean números pseudo-aleatorios. Decimos *“pseudo-aleatorios”*, y no *“aleatorios”*, por cuanto el generador de tales números igualmente está controlado por ciertos parámetros que permiten asegurar la reproducibilidad de los resultados que dependan del arreglo en cuestión, mediante la fijación de la semilla generadora de estos números.\n",
    "\n",
    "En **Numpy**, la generación de arreglos pseudo-aleatorios es controlada mediante el submódulo `numpy.random`. El primer elemento importante a revisar de este submódulo corresponde a **semilla generadora** de los elementos respectivos de un arreglo de este tipo. Dicha semilla puede fijarse mediante el uso de la función `np.random.default_rng()`, cuyo único argumento es un número entero positivo, denominado `seed`, que se corresponde con esa semilla:"
   ]
  },
  {
   "cell_type": "code",
   "execution_count": 38,
   "id": "c1a2cd50",
   "metadata": {},
   "outputs": [
    {
     "data": {
      "text/plain": [
       "Generator(PCG64) at 0x7FE18866A9E0"
      ]
     },
     "execution_count": 38,
     "metadata": {},
     "output_type": "execute_result"
    }
   ],
   "source": [
    "# Semilla fija, generadora de números aleatorios.\n",
    "rng = np.random.default_rng(seed=42)\n",
    "rng"
   ]
  },
  {
   "cell_type": "markdown",
   "id": "e88772ac",
   "metadata": {},
   "source": [
    "Vemos que la semilla así definida es un objeto de tipo `numpy.random.Generator`. Como su nombre lo indica, cualquier generación de números aleatorios se realizará tomando este valor de semilla (42, en nuestro ejemplo) como hiperparámetro inicial (es decir, controlado por nosotros).\n",
    "\n",
    "**Ejemplo 1.8 – Muestreo desde distribuciones de probabilidad:** Ya definido un valor de semilla, es posible construir un arreglo, de las dimensiones que queramos, cuyos elementos sean todos muestreados a partir de una distribución uniforme, en el rango $[0,  1]$. Para ello, podemos utilizar el método `random()`, donde el argumento a utilizar será la geometría del arreglo que queremos construir:"
   ]
  },
  {
   "cell_type": "code",
   "execution_count": 39,
   "id": "664ea820",
   "metadata": {},
   "outputs": [
    {
     "data": {
      "text/plain": [
       "array([[0.77395605, 0.43887844, 0.85859792],\n",
       "       [0.69736803, 0.09417735, 0.97562235],\n",
       "       [0.7611397 , 0.78606431, 0.12811363]])"
      ]
     },
     "execution_count": 39,
     "metadata": {},
     "output_type": "execute_result"
    }
   ],
   "source": [
    "# Creación de un arreglo de 3x3 con elementos aleatorios uniformemente distribuidos entre 0 y 1.\n",
    "rng.random(size=(3, 3))"
   ]
  },
  {
   "cell_type": "markdown",
   "id": "eb4ca1bd",
   "metadata": {},
   "source": [
    "También podemos obtener muestreos de datos a partir de una distribución normal, con media y desviación estándar definida. En **Numpy**, podemos lograr aquello mediante el uso del método `normal()` sobre nuestro generador `rng`, donde la media y la desviación se definen por medio de los argumentos `loc` y `scale`, respectivamente:"
   ]
  },
  {
   "cell_type": "code",
   "execution_count": 40,
   "id": "66e48266",
   "metadata": {},
   "outputs": [
    {
     "data": {
      "text/plain": [
       "array([[-0.85304393,  0.87939797,  0.77779194],\n",
       "       [ 0.0660307 ,  1.12724121,  0.46750934],\n",
       "       [-0.85929246,  0.36875078, -0.9588826 ]])"
      ]
     },
     "execution_count": 40,
     "metadata": {},
     "output_type": "execute_result"
    }
   ],
   "source": [
    "# Creación de un arreglo de 3x3 con elementos aleatorios normalmente distribuidos, con \n",
    "# media 0 y desviación estándar 1.\n",
    "rng.normal(size=(3, 3), loc=0, scale=1)"
   ]
  },
  {
   "cell_type": "markdown",
   "id": "6db113eb",
   "metadata": {},
   "source": [
    "**Numpy** cuenta con muchísimas alternativas de distribuciones para poder muestrear data de manera aleatoria. Un ejemplo común de distribución discreta que podemos encontrar en varios procesos y fenómenos corresponde a la **distribución de Poisson**, la que se define como sigue: Sea $X$ una variable aleatoria con realización $x\\in \\mathbb{N}$. Decimos que $X$ es una variable aleatoria de Poisson si su distribución de probabilidad puede expresarse como\n",
    "\n",
    "<p style=\"text-align: center;\">$f(x|\\lambda)  =\\frac{\\displaystyle \\lambda^{k}e^{-\\lambda }}{\\displaystyle k!}$</p>\n",
    "\n",
    "La distribución de Poisson se utiliza para representar ciertos eventos con una separación entre sus respectivas ocurrencias aproximadamente igual a $\\lambda \\in \\mathbb{R}$ (parámetro que se denomina tasa de ocurrencia de eventos), donde $f(x|\\lambda)$ describe la probabilidad de que un total de $x$ eventos ocurran dentro del intervalo observado $\\lambda$. En **Numpy**, podemos muestrear data pseudo-aleatoria que sigue una distribución de Poisson mediante el método `poisson()` aplicado sobre nuestro generador `rng`, siendo `lam` la tasa de ocurrencia respectiva:"
   ]
  },
  {
   "cell_type": "code",
   "execution_count": 41,
   "id": "d00de7df",
   "metadata": {},
   "outputs": [
    {
     "data": {
      "text/plain": [
       "array([[3, 3, 1, 0],\n",
       "       [3, 1, 0, 0],\n",
       "       [1, 1, 2, 2],\n",
       "       [0, 1, 0, 0]])"
      ]
     },
     "execution_count": 41,
     "metadata": {},
     "output_type": "execute_result"
    }
   ],
   "source": [
    "# Creación de un arreglo de 4x4 con elementos aleatorios con distribución de Poisson, con tasa de ocurrencia igual a 1.\n",
    "rng.poisson(lam=1.0, size=(4, 4))"
   ]
  },
  {
   "cell_type": "markdown",
   "id": "da1ba473",
   "metadata": {},
   "source": [
    "Vemos que el muestreo anterior devuelve un arreglo compuesto únicamente por números enteros. Esto es un resultado esperado, ya que, como comentamos previamente, la distribución de Poisson es de tipo discreta: Está definida únicamente para variables aleatorias cuya realización sean números enteros.\n",
    "\n",
    "Un ejemplo de distribución continua es la **distribución Beta**, la cual se define para una variable aleatoria continua $X$, con realización $x\\in \\mathbb{R}$, como\n",
    "\n",
    "<p style=\"text-align: center;\">$f(x|\\alpha ,\\beta)=\\frac{\\displaystyle x^{\\alpha -1}(1-x)^{\\beta -1}}{\\displaystyle \\mathrm{B}(\\alpha ,\\beta)}$</p>\n",
    "\n",
    "Donde $\\mathrm{B}(\\alpha ,\\beta)$ es la función Beta, definida como\n",
    "\n",
    "<p style=\"text-align: center;\">$\\mathrm{B}(\\alpha ,\\beta)  ={\\displaystyle \\int^{1}_{0} t^{\\alpha -1}(1-t)^{\\beta -1}dt}$</p>\n",
    "\n",
    "La distribución Beta es frecuentemente utilizada para modelar el comportamiento de proporciones y porcentajes, y también en estadística Bayesiana, como la distribución conjugada de varias distribuciones de interés (como la distribución binomial). También se utiliza para modelar eventos que están restringidos a ocurrir dentro de intervalos definidos por un valor máximo y mínimo de tiempo, típicos de problemas de planificación de ruta crítica (PERT). En **Numpy**, es sencillo obtener un muestreo de valores que siguen esta distribución mediante el método beta(), aplicado a nuestro generador `rng`:"
   ]
  },
  {
   "cell_type": "code",
   "execution_count": 42,
   "id": "3cad830d",
   "metadata": {},
   "outputs": [
    {
     "data": {
      "text/plain": [
       "array([[4.89927924e-01, 6.52110904e-04, 2.46498464e-01, 6.16163373e-03],\n",
       "       [3.99152041e-16, 4.39250439e-01, 9.03509415e-06, 1.21123765e-02],\n",
       "       [2.25390714e-16, 8.52705101e-09, 5.90073438e-04, 2.96941781e-05],\n",
       "       [3.06645800e-06, 1.34651222e-03, 2.89184439e-04, 3.18478511e-08]])"
      ]
     },
     "execution_count": 42,
     "metadata": {},
     "output_type": "execute_result"
    }
   ],
   "source": [
    "# Creación de un arreglo de 4x4 con elementos aleatorios con distribución Beta, con parámetros 𝛼=0.1 y 𝛽=1.2.\n",
    "rng.beta(a=0.1, b=1.2, size=(4, 4))"
   ]
  },
  {
   "cell_type": "markdown",
   "id": "a1ebb9e9",
   "metadata": {},
   "source": [
    "## Aspectos fundamentales de los arreglos de Numpy.\n",
    "La manipulación de datos en Python es, en muchos aspectos, un sinónimo del concepto de manipulación de arreglos de **Numpy**: Incluso herramientas más sofisticadas como **Pandas** (que estudiaremos más adelante) o **Scikit-Learn** están construidas sobre arreglos de **Numpy**. En esta subsección presentaremos varios ejemplos usando la manipulación de arreglos en **Numpy** para acceder a la data almacenada en tales arreglos y para separar, redimensionar y combinar arreglos. Cubriremos algunas categorías básicas, a saber:\n",
    "\n",
    "- Atributos de los arreglos: Determinación del tamaño, geometría, consumo de memoria y tipos de datos que conforman los elementos de un arreglo.\n",
    "- Indexación de arreglos: Setting y obtención de los valores individuales de un arreglo.\n",
    "- Slicing de arreglos: Setting y obtención de sub-arreglos a partir de un arreglo.\n",
    "- Redimensionamiento de arreglos: Cambio en la geometría de un arreglo.\n",
    "- Unión y separación de arreglos: Combinación de múltiples arreglos en uno, o splits de un arreglo en dos o más sub-arreglos.\n",
    "\n",
    "### Atributos de un arreglo.\n",
    "Primero discutiremos algunos de los atributos útiles de los arreglos de **Numpy**. Partiremos definiendo tres arreglos a partir de un muestreo pseudo-aleatorio, del tipo unidimensional (vector), bidimensional (matriz) y tridimensional (tensor de orden 3). Usaremos un generador para estos números, a fin de asegurar la reproducibilidad de los resultados, considerando una distribución uniforme entera, usando el método `integers()` sobre nuestro generador:"
   ]
  },
  {
   "cell_type": "code",
   "execution_count": 43,
   "id": "6097f874",
   "metadata": {},
   "outputs": [],
   "source": [
    "# Construcción de nuestros arreglos.\n",
    "x1 = rng.integers(low=0, high=10, size=6) # Arreglo unidimensional.\n",
    "x2 = rng.integers(low=0, high=10, size=(3, 4)) # Arreglo bidimensional.\n",
    "x3 = rng.integers(low=0, high=10, size=(3, 4, 5)) # Arreglo tridimensional."
   ]
  },
  {
   "cell_type": "markdown",
   "id": "7f0124cb",
   "metadata": {},
   "source": [
    "Todo arreglo cuenta con los atributos `ndim` (que calcula el número de dimensiones del arreglo), `shape` (que calcula el tamaño de cada dimensión en el arreglo; es decir, su geometría) y `size` (que calcula el tamaño total del arreglo):"
   ]
  },
  {
   "cell_type": "code",
   "execution_count": 44,
   "id": "d2adcd7a",
   "metadata": {},
   "outputs": [
    {
     "name": "stdout",
     "output_type": "stream",
     "text": [
      "x2.ndim = 2\n",
      "x2.shape = (3, 4)\n",
      "x2.size = 12\n"
     ]
    }
   ],
   "source": [
    "# Atributos ndim, shape y size para el arreglo x2.\n",
    "print(f\"x2.ndim = {x2.ndim}\")\n",
    "print(f\"x2.shape = {x2.shape}\")\n",
    "print(f\"x2.size = {x2.size}\")"
   ]
  },
  {
   "cell_type": "markdown",
   "id": "0f88e70e",
   "metadata": {},
   "source": [
    "Otros atributos son `itemsize`, que lista el tamaño (en bits) de cada uno de los elementos que conforman el arreglo, y `nbytes`, que lista el tamaño total (en bits) del arreglo:"
   ]
  },
  {
   "cell_type": "code",
   "execution_count": 45,
   "id": "d9a5277a",
   "metadata": {},
   "outputs": [
    {
     "name": "stdout",
     "output_type": "stream",
     "text": [
      "x2.itemsize = 8\n",
      "x2.nbytes = 96\n"
     ]
    }
   ],
   "source": [
    "# Atributos ndim, shape y size para el arreglo x2.\n",
    "print(f\"x2.itemsize = {x2.itemsize}\")\n",
    "print(f\"x2.nbytes = {x2.nbytes}\")"
   ]
  },
  {
   "cell_type": "markdown",
   "id": "646434cb",
   "metadata": {},
   "source": [
    "En general, como cabría esperar, se debe tener que `nbytes = itemsize`${\\times}$`size`.\n",
    "\n",
    "### Indexación de arreglos.\n",
    "De la misma forma que ocurre con las listas y tuplas, que son arreglos y/o contenedores de información nativos de Python, es posible acceder a la información contenida en los arreglos de **Numpy** mediante la especificación de las posiciones relativas a dichos elementos por medio de corchetes, siempre teniendo en cuenta que Python comienza a contar desde cero. De esta manera:\n",
    "\n",
    "- En un arreglo unidimensional, digamos `x`, podemos acceder al elemento en la posición `j`, mediante la notación `x[j]`.\n",
    "- En un arreglo bidimensional, digamos `X`, podemos acceder al elemento ubicado en la fila `i` y en la columna `j`, mediante la notación `X[i, j]`.\n",
    "- En un arreglo tridimensional, digamos `T`, podemos acceder al elemento ubicado en la fila `j` y en la columna `k` del sub-arreglo `i`, mediante la notación `T[i, j, k]`.\n",
    "\n",
    "La selección de elementos de un arreglos se hace, pues, por medio de una **notación indexada**. Consideremos, por ejemplo, al arreglo `x1` que construimos previamente, definido como"
   ]
  },
  {
   "cell_type": "code",
   "execution_count": 46,
   "id": "9a988bcc",
   "metadata": {},
   "outputs": [
    {
     "data": {
      "text/plain": [
       "array([6, 4, 3, 6, 1, 5])"
      ]
     },
     "execution_count": 46,
     "metadata": {},
     "output_type": "execute_result"
    }
   ],
   "source": [
    "x1"
   ]
  },
  {
   "cell_type": "markdown",
   "id": "892fbe72",
   "metadata": {},
   "source": [
    "Vemos que este arreglo contiene 6 elementos, los que se ubican en las posiciones 0 a 5. Si queremos recuperar el elemento en la posición 2, podemos escribir `x1[2]`, con lo cual obtenemos directamente ese valor:"
   ]
  },
  {
   "cell_type": "code",
   "execution_count": 47,
   "id": "2e9a7171",
   "metadata": {},
   "outputs": [
    {
     "data": {
      "text/plain": [
       "3"
      ]
     },
     "execution_count": 47,
     "metadata": {},
     "output_type": "execute_result"
    }
   ],
   "source": [
    "x1[2] # Recuperamos el tercer elemento del arreglo."
   ]
  },
  {
   "cell_type": "markdown",
   "id": "aa6d5a4e",
   "metadata": {},
   "source": [
    "Para seleccionar el elemento en la posición 0, escribimos `x1[0]`:"
   ]
  },
  {
   "cell_type": "code",
   "execution_count": 48,
   "id": "c5bd14fa",
   "metadata": {},
   "outputs": [
    {
     "data": {
      "text/plain": [
       "6"
      ]
     },
     "execution_count": 48,
     "metadata": {},
     "output_type": "execute_result"
    }
   ],
   "source": [
    "x1[0] # Recuperamos el primer elemento del arreglo."
   ]
  },
  {
   "cell_type": "markdown",
   "id": "6efe81b1",
   "metadata": {},
   "source": [
    "Este tipo de selección considera pues una indexación tal que las posiciones se cuentan de izquierda a derecha, desde cero. Sin embargo, es posible igualmente contarlas de derecha a izquierda, en cuyo caso la última posición se representa por medio del valor -1, la penúltima por medio de -2, y así sucesivamente. Por ejemplo, siguiendo con el arreglo `x1`:"
   ]
  },
  {
   "cell_type": "code",
   "execution_count": 49,
   "id": "50ae29ac",
   "metadata": {},
   "outputs": [
    {
     "data": {
      "text/plain": [
       "5"
      ]
     },
     "execution_count": 49,
     "metadata": {},
     "output_type": "execute_result"
    }
   ],
   "source": [
    "x1[-1] # Recuperamos el primer elemento del arreglo, de derecha a izquierda."
   ]
  },
  {
   "cell_type": "code",
   "execution_count": 50,
   "id": "e3947985",
   "metadata": {},
   "outputs": [
    {
     "data": {
      "text/plain": [
       "1"
      ]
     },
     "execution_count": 50,
     "metadata": {},
     "output_type": "execute_result"
    }
   ],
   "source": [
    "x1[-2] # Recuperamos el segundo elemento del arreglo, de derecha a izquierda."
   ]
  },
  {
   "cell_type": "markdown",
   "id": "2c129903",
   "metadata": {},
   "source": [
    "Para el caso de arreglos bidimensionales, la selección es igualmente sencilla (y sigue las mismas convenciones):"
   ]
  },
  {
   "cell_type": "code",
   "execution_count": 51,
   "id": "90243319",
   "metadata": {},
   "outputs": [
    {
     "data": {
      "text/plain": [
       "3"
      ]
     },
     "execution_count": 51,
     "metadata": {},
     "output_type": "execute_result"
    }
   ],
   "source": [
    "x2[2, 3] # Recuperamos el elemento en la fila 2 y columna 3."
   ]
  },
  {
   "cell_type": "code",
   "execution_count": 52,
   "id": "8c26c4c4",
   "metadata": {},
   "outputs": [
    {
     "data": {
      "text/plain": [
       "1"
      ]
     },
     "execution_count": 52,
     "metadata": {},
     "output_type": "execute_result"
    }
   ],
   "source": [
    "x2[-1, -2] # Recuperamos el elemento en última fila y en la penúltima columna (equivalente a x2[2, 2])."
   ]
  },
  {
   "cell_type": "markdown",
   "id": "3a602cc8",
   "metadata": {},
   "source": [
    "Finalmente, para el caso de arreglos tridimensionales, la selección es tal que el primer elemento definido entre los corchetes señala el sub-arreglo de interés. Para ejemplificar esto, centremos nuestra atención en el arreglo `x3` que definimos previamente:"
   ]
  },
  {
   "cell_type": "code",
   "execution_count": 53,
   "id": "ffa7925f",
   "metadata": {},
   "outputs": [
    {
     "data": {
      "text/plain": [
       "array([[[6, 1, 6, 1, 1],\n",
       "        [5, 7, 1, 2, 9],\n",
       "        [9, 5, 4, 3, 6],\n",
       "        [5, 2, 0, 1, 9]],\n",
       "\n",
       "       [[4, 4, 4, 7, 0],\n",
       "        [0, 2, 4, 6, 4],\n",
       "        [4, 9, 1, 5, 5],\n",
       "        [4, 8, 2, 9, 3]],\n",
       "\n",
       "       [[5, 5, 8, 4, 2],\n",
       "        [0, 3, 8, 0, 8],\n",
       "        [5, 1, 3, 5, 3],\n",
       "        [1, 6, 6, 1, 2]]])"
      ]
     },
     "execution_count": 53,
     "metadata": {},
     "output_type": "execute_result"
    }
   ],
   "source": [
    "x3 # El arreglo x3 tiene una estructura tensorial de orden 3."
   ]
  },
  {
   "cell_type": "markdown",
   "id": "e35241e7",
   "metadata": {},
   "source": [
    "Habiendo establecido el arreglo anterior, y como también comentamos en un principio, el primer elemento entre corchetes para el caso de la indexación en un arreglo tridimensional, se corresponde con el sub-arreglo respectivo. De hecho, es fácil darnos cuenta de ello: Si únicamente especificamos la primera posición de interés para el caso de `x3` (digamos, la posición 0), recuperaremos el primer sub-arreglo que conforma `x3`:"
   ]
  },
  {
   "cell_type": "code",
   "execution_count": 54,
   "id": "aad537a7",
   "metadata": {},
   "outputs": [
    {
     "data": {
      "text/plain": [
       "array([[6, 1, 6, 1, 1],\n",
       "       [5, 7, 1, 2, 9],\n",
       "       [9, 5, 4, 3, 6],\n",
       "       [5, 2, 0, 1, 9]])"
      ]
     },
     "execution_count": 54,
     "metadata": {},
     "output_type": "execute_result"
    }
   ],
   "source": [
    "x3[0] # El primer sub-arreglo del arreglo tridimensional x3."
   ]
  },
  {
   "cell_type": "markdown",
   "id": "51f529ab",
   "metadata": {},
   "source": [
    "De este modo, los siguientes elementos entre corchetes nos especifican la fila y columna relativa al sub-arreglo seleccionado. Por ejemplo, si escribimos `x3[0, 0, 0]`, estamos seleccionando el elemento ubicado en la primera fila y la primera columna del primer sub-arreglo:"
   ]
  },
  {
   "cell_type": "code",
   "execution_count": 55,
   "id": "f9ea7d6e",
   "metadata": {},
   "outputs": [
    {
     "data": {
      "text/plain": [
       "6"
      ]
     },
     "execution_count": 55,
     "metadata": {},
     "output_type": "execute_result"
    }
   ],
   "source": [
    "x3[0, 0, 0] # Elemento en la posición (0, 0) del primer sub-arreglo de x3."
   ]
  },
  {
   "cell_type": "markdown",
   "id": "48b776d0",
   "metadata": {},
   "source": [
    "La selección de un elemento mediante esta notación indexada permite, además, realizar modificaciones sobre la marcha. Por ejemplo:"
   ]
  },
  {
   "cell_type": "code",
   "execution_count": 56,
   "id": "1ce831fa",
   "metadata": {},
   "outputs": [
    {
     "data": {
      "text/plain": [
       "array([[ 0,  6,  6,  0],\n",
       "       [ 7,  4, 20,  0],\n",
       "       [ 1,  4,  1,  3]])"
      ]
     },
     "execution_count": 56,
     "metadata": {},
     "output_type": "execute_result"
    }
   ],
   "source": [
    "x2[1, 2] = 20 # Asignamos el valor 20 al elemento en la posición (1, 2) en el arreglo x2.\n",
    "x2"
   ]
  },
  {
   "cell_type": "markdown",
   "id": "142ef6d1",
   "metadata": {},
   "source": [
    "Debemos tener en consideración que, a diferencia de las listas de Python, los arreglos de **Numpy** siempre son de tipo fijo. Esto significa, por ejemplo, que si intentamos insertar un valor de punto flotante en un arreglo cuyos elementos son enteros, el valor insertado será truncado de forma silenciosa por **Numpy**, a fin de mantener esa característica:"
   ]
  },
  {
   "cell_type": "code",
   "execution_count": 57,
   "id": "a0ee348d",
   "metadata": {},
   "outputs": [
    {
     "data": {
      "text/plain": [
       "array([6, 4, 3, 6, 3, 5])"
      ]
     },
     "execution_count": 57,
     "metadata": {},
     "output_type": "execute_result"
    }
   ],
   "source": [
    "x1[4] = 3.141592654 # ¡Esto será truncado!\n",
    "x1"
   ]
  },
  {
   "cell_type": "markdown",
   "id": "5a307688",
   "metadata": {},
   "source": [
    "### Slicing.\n",
    "De la misma forma en que usamos corchetes para acceder a los elementos individuales de un arreglo, también podemos usarlos para acceder a sub-arreglos del mismo mediante la conocida notación de slicing vía el uso del símbolo `:`. La sintaxis de slicing de **Numpy** también sigue la notación de indexación estándar de las listas de Python; para acceder a un slice (sub-arreglo) de un arreglo de **Numpy**, digamos `x`, usamos la sintaxis `x[inicio: final: paso]`.\n",
    "\n",
    "Si cualquiera, `inicio`, `final` o `paso`, no se especifica, los valores por defecto serán `inicio = 0`, `final = x.shape` y `paso = 1`. \n",
    "\n",
    "**a) Arreglos unidimensionales:** Veamos esto por medio de ejemplos:"
   ]
  },
  {
   "cell_type": "code",
   "execution_count": 58,
   "id": "034ec7fd",
   "metadata": {},
   "outputs": [
    {
     "data": {
      "text/plain": [
       "array([0, 1, 2, 3, 4, 5, 6, 7, 8, 9])"
      ]
     },
     "execution_count": 58,
     "metadata": {},
     "output_type": "execute_result"
    }
   ],
   "source": [
    "x = np.arange(10)\n",
    "x"
   ]
  },
  {
   "cell_type": "code",
   "execution_count": 59,
   "id": "c61d4485",
   "metadata": {},
   "outputs": [
    {
     "data": {
      "text/plain": [
       "array([0, 1, 2, 3, 4])"
      ]
     },
     "execution_count": 59,
     "metadata": {},
     "output_type": "execute_result"
    }
   ],
   "source": [
    "x[:5] # Primeros cinco elementos del arreglo."
   ]
  },
  {
   "cell_type": "code",
   "execution_count": 60,
   "id": "64d26068",
   "metadata": {},
   "outputs": [
    {
     "data": {
      "text/plain": [
       "array([5, 6, 7, 8, 9])"
      ]
     },
     "execution_count": 60,
     "metadata": {},
     "output_type": "execute_result"
    }
   ],
   "source": [
    "x[5:] # Todos los elementos después del índice 5."
   ]
  },
  {
   "cell_type": "code",
   "execution_count": 61,
   "id": "dee0b781",
   "metadata": {},
   "outputs": [
    {
     "data": {
      "text/plain": [
       "array([4, 5, 6])"
      ]
     },
     "execution_count": 61,
     "metadata": {},
     "output_type": "execute_result"
    }
   ],
   "source": [
    "x[4:7] # Sub-arreglo (slice) de elementos entre los índices 4 y 6."
   ]
  },
  {
   "cell_type": "markdown",
   "id": "8c59dc23",
   "metadata": {},
   "source": [
    "Es posible realizar selecciones más sofisticadas. Por ejemplo, si escribimos `x[::2]`, seleccionaremos todos los elementos del arreglo `x`, partiendo desde el primero, avanzando siempre de a dos posiciones:"
   ]
  },
  {
   "cell_type": "code",
   "execution_count": 62,
   "id": "91861dd0",
   "metadata": {},
   "outputs": [
    {
     "data": {
      "text/plain": [
       "array([0, 2, 4, 6, 8])"
      ]
     },
     "execution_count": 62,
     "metadata": {},
     "output_type": "execute_result"
    }
   ],
   "source": [
    "x[::2] # Elección de elementos desde la posición 0, de dos en dos."
   ]
  },
  {
   "cell_type": "markdown",
   "id": "df01081a",
   "metadata": {},
   "source": [
    "Como regla general, siempre podremos realizar selecciones de elementos en un arreglo unidimensional, digamos `x`, equiespaciados cada `k` posiciones, mediante una sintaxis del tipo `x[inicio::k]`:"
   ]
  },
  {
   "cell_type": "code",
   "execution_count": 63,
   "id": "2e358897",
   "metadata": {},
   "outputs": [
    {
     "data": {
      "text/plain": [
       "array([1, 3, 5, 7, 9])"
      ]
     },
     "execution_count": 63,
     "metadata": {},
     "output_type": "execute_result"
    }
   ],
   "source": [
    "x[1::2] # Elección de elementos desde la posición 1, de dos en dos."
   ]
  },
  {
   "cell_type": "markdown",
   "id": "c5625dff",
   "metadata": {},
   "source": [
    "Un caso potencialmente confuso es cuando el valor del paso del slicing es negativo. En este caso, los valores para inicio y final son intercambiados. Esto permite, convenientemente, revertir el orden de los elementos de un arreglo. Por ejemplo:"
   ]
  },
  {
   "cell_type": "code",
   "execution_count": 64,
   "id": "494a6f32",
   "metadata": {},
   "outputs": [
    {
     "data": {
      "text/plain": [
       "array([9, 8, 7, 6, 5, 4, 3, 2, 1, 0])"
      ]
     },
     "execution_count": 64,
     "metadata": {},
     "output_type": "execute_result"
    }
   ],
   "source": [
    "x[::-1] # Todos los elementos del arreglo en orden inverso."
   ]
  },
  {
   "cell_type": "code",
   "execution_count": 65,
   "id": "d5452b0c",
   "metadata": {},
   "outputs": [
    {
     "data": {
      "text/plain": [
       "array([5, 3, 1])"
      ]
     },
     "execution_count": 65,
     "metadata": {},
     "output_type": "execute_result"
    }
   ],
   "source": [
    "x[5::-2] # Elementos en orden inverso, a partir de la posición 5."
   ]
  },
  {
   "cell_type": "markdown",
   "id": "88e6a4db",
   "metadata": {},
   "source": [
    "**b) Arreglos multidimensionales:** Las selecciones múltiples (slices) en arreglos de mayor dimensión trabajan del mismo modo, con slices múltiples separados por comas (indicando la referencia del eje que nos interesa indexar). Por ejemplo, en el caso del arreglo bidimensional `x2` que construimos previamente (y que, de hecho, modificamos ejercitando estos conceptos de indexación):"
   ]
  },
  {
   "cell_type": "code",
   "execution_count": 66,
   "id": "de2fc2d3",
   "metadata": {},
   "outputs": [
    {
     "data": {
      "text/plain": [
       "array([[ 0,  6,  6,  0],\n",
       "       [ 7,  4, 20,  0],\n",
       "       [ 1,  4,  1,  3]])"
      ]
     },
     "execution_count": 66,
     "metadata": {},
     "output_type": "execute_result"
    }
   ],
   "source": [
    "x2 # El arreglo x2."
   ]
  },
  {
   "cell_type": "code",
   "execution_count": 67,
   "id": "db3d7897",
   "metadata": {},
   "outputs": [
    {
     "data": {
      "text/plain": [
       "array([[ 0,  6,  6],\n",
       "       [ 7,  4, 20]])"
      ]
     },
     "execution_count": 67,
     "metadata": {},
     "output_type": "execute_result"
    }
   ],
   "source": [
    "x2[:2, :3] # Elegimos los elementos hasta la fila 1, y la columna 2."
   ]
  },
  {
   "cell_type": "code",
   "execution_count": 68,
   "id": "4d312dc7",
   "metadata": {},
   "outputs": [
    {
     "data": {
      "text/plain": [
       "array([[ 0,  6],\n",
       "       [ 7, 20],\n",
       "       [ 1,  1]])"
      ]
     },
     "execution_count": 68,
     "metadata": {},
     "output_type": "execute_result"
    }
   ],
   "source": [
    "x2[:3, ::2] # Elegimos los elementos hasta la fila 2, y las columnas en las posiciones 0 y 2."
   ]
  },
  {
   "cell_type": "code",
   "execution_count": 69,
   "id": "5328a581",
   "metadata": {},
   "outputs": [
    {
     "data": {
      "text/plain": [
       "array([[ 3,  1,  4,  1],\n",
       "       [ 0, 20,  4,  7],\n",
       "       [ 0,  6,  6,  0]])"
      ]
     },
     "execution_count": 69,
     "metadata": {},
     "output_type": "execute_result"
    }
   ],
   "source": [
    "x2[::-1, ::-1] # Invertimos el orden de los elementos del arreglo."
   ]
  },
  {
   "cell_type": "markdown",
   "id": "9f41eb8e",
   "metadata": {},
   "source": [
    "Una acción frecuente a la hora de trabajar con arreglos bidimensionales de **Numpy** corresponde a la selección de filas o columnas completas. Por supuesto, no es necesario que, para ello, detallemos las posición inicial y final relativas a la longitud de una fila o columna, debido a que, en muchos casos, ni siquiera sabremos de primera mano cuánto es dicha longitud. Podemos usar el símbolo `:` para especificar que queremos todos los elementos relativos a un eje del arreglo que estemos manipulando. De esta manera, si escribimos `x2[:, 1]`, estamos seleccionando todos los elementos de la segunda columna del arreglo `x2`:"
   ]
  },
  {
   "cell_type": "code",
   "execution_count": 70,
   "id": "e192db33",
   "metadata": {},
   "outputs": [
    {
     "data": {
      "text/plain": [
       "array([6, 4, 4])"
      ]
     },
     "execution_count": 70,
     "metadata": {},
     "output_type": "execute_result"
    }
   ],
   "source": [
    "x2[:, 1] # Todos los elementos de la columna en la posición 1 del arreglo x2."
   ]
  },
  {
   "cell_type": "markdown",
   "id": "f01e56ee",
   "metadata": {},
   "source": [
    "Correspondientemente, al escribir `x2[1, :]`, estamos seleccionando todos los elementos de la segunda fila del arreglo `x2`:"
   ]
  },
  {
   "cell_type": "markdown",
   "id": "1f6c6cc4",
   "metadata": {},
   "source": [
    "Algo importante, y extremadamente útil, de saber es que los slices que hagamos de un arreglo retornan vistas del mismo y no copias de él. Esta es una de las grandes diferencias entre el slicing de arreglos de **Numpy** y el slicing de listas de Python, ya que en el caso de éstas últimas, los slices sí devuelven copias. Para ilustrar esto, consideremos nuestro arreglo bidimensional `x2`:"
   ]
  },
  {
   "cell_type": "code",
   "execution_count": 71,
   "id": "daa3d437",
   "metadata": {},
   "outputs": [
    {
     "name": "stdout",
     "output_type": "stream",
     "text": [
      "[[ 0  6  6  0]\n",
      " [ 7  4 20  0]\n",
      " [ 1  4  1  3]]\n"
     ]
    }
   ],
   "source": [
    "print(x2)"
   ]
  },
  {
   "cell_type": "markdown",
   "id": "1bef3e67",
   "metadata": {},
   "source": [
    "Extraigamos un sub-arreglo de `2×2` a partir de `x2`:"
   ]
  },
  {
   "cell_type": "code",
   "execution_count": 72,
   "id": "a7fc3d2f",
   "metadata": {},
   "outputs": [
    {
     "name": "stdout",
     "output_type": "stream",
     "text": [
      "[[0 6]\n",
      " [7 4]]\n"
     ]
    }
   ],
   "source": [
    "x2_sub = x2[:2, :2]\n",
    "print(x2_sub)"
   ]
  },
  {
   "cell_type": "markdown",
   "id": "8da81c71",
   "metadata": {},
   "source": [
    "Ahora, si modificamos este sub-arreglo, veremos que **el arreglo original también cambia**:"
   ]
  },
  {
   "cell_type": "code",
   "execution_count": 73,
   "id": "f6534ac2",
   "metadata": {},
   "outputs": [
    {
     "name": "stdout",
     "output_type": "stream",
     "text": [
      "[[99  6]\n",
      " [ 7  4]]\n"
     ]
    }
   ],
   "source": [
    "x2_sub[0, 0] = 99\n",
    "print(x2_sub)"
   ]
  },
  {
   "cell_type": "code",
   "execution_count": 74,
   "id": "2af9e1d2",
   "metadata": {},
   "outputs": [
    {
     "name": "stdout",
     "output_type": "stream",
     "text": [
      "[[99  6  6  0]\n",
      " [ 7  4 20  0]\n",
      " [ 1  4  1  3]]\n"
     ]
    }
   ],
   "source": [
    "print(x2)"
   ]
  },
  {
   "cell_type": "markdown",
   "id": "b2141cf7",
   "metadata": {},
   "source": [
    "Este comportamiento por defecto es, de hecho, bastante útil. Significa que, cuando trabajemos con conjuntos de datos de gran envergadura representados por arreglos, podemos acceder a éstos y procesar fragmentos de dichos conjuntos sin necesidad de copiarlos en su totalidad, ahorrando memoria.\n",
    "\n",
    "### Redimensionamiento de arreglos.\n",
    "Otro tipo de operación que utilizamos con frecuencia corresponde al redimensionamiento de arreglos, la cual permite cambiar la estructura de un arreglo, siempre que el número total de elementos del arreglo original se conserve. Esta es una regla general que permite definir un determinado número de operaciones de este tipo. Por ejemplo:\n",
    "\n",
    "- Transposición: Intercambio de los elementos que pueblan el eje de un arreglo.\n",
    "- Aplanamiento o flattening: Transformación de un arreglo multidimensional en uno del tipo unidimensional.\n",
    "- Remodelamiento o reshaping: Cambio en la geometría (shape) de un arreglo, de manera tal que el número total de elementos que lo conforma (`size`) se mantenga constante.\n",
    "\n",
    "La transposición es un atributo propio del objeto `ndarray` de **Numpy**, y que se corresponde con `T`. Por ejemplo, si escribimos `x2.T`, el resultado será otro arreglo con las filas y columnas de `x2` intercambiadas:"
   ]
  },
  {
   "cell_type": "code",
   "execution_count": 75,
   "id": "9edad70e",
   "metadata": {},
   "outputs": [
    {
     "data": {
      "text/plain": [
       "array([[99,  7,  1],\n",
       "       [ 6,  4,  4],\n",
       "       [ 6, 20,  1],\n",
       "       [ 0,  0,  3]])"
      ]
     },
     "execution_count": 75,
     "metadata": {},
     "output_type": "execute_result"
    }
   ],
   "source": [
    "x2.T # Calculamos el arreglo transpuesto de x2."
   ]
  },
  {
   "cell_type": "markdown",
   "id": "55884c24",
   "metadata": {},
   "source": [
    "La operación anterior es equivalente a la transposición de matrices, en la cual, dada una matriz $\\mathbf{A} =\\left\\{ a_{ij}\\right\\}  \\in \\mathbb{R}^{n\\times d} $, existe otra matriz, llamada matriz transpuesta de $\\mathbf{A}$, denotada como $\\mathbf{A}^{\\top}$, y que se define como $\\mathbf{A}^{\\top } =\\left\\{ a_{ji}\\right\\}  \\in \\mathbb{R}^{d\\times n} $.\n",
    "\n",
    "Si bien la transposición, en términos algebraicos, tiene sentido para vectores, la transposición en **Numpy** pierde sentido para el caso de arreglos unidimensionales. Al escribir `x1.T`, podemos notar que el resultado de dicha operación retorna el mismo arreglo `x1`:"
   ]
  },
  {
   "cell_type": "code",
   "execution_count": 76,
   "id": "7c809adf",
   "metadata": {},
   "outputs": [
    {
     "data": {
      "text/plain": [
       "array([6, 4, 3, 6, 3, 5])"
      ]
     },
     "execution_count": 76,
     "metadata": {},
     "output_type": "execute_result"
    }
   ],
   "source": [
    "x1 # El arreglo x1."
   ]
  },
  {
   "cell_type": "code",
   "execution_count": 77,
   "id": "2e1e4cc9",
   "metadata": {},
   "outputs": [
    {
     "data": {
      "text/plain": [
       "array([6, 4, 3, 6, 3, 5])"
      ]
     },
     "execution_count": 77,
     "metadata": {},
     "output_type": "execute_result"
    }
   ],
   "source": [
    "x1.T # El arreglo transpuesto de x1 es el mismo arreglo x1."
   ]
  },
  {
   "cell_type": "markdown",
   "id": "16912ff1",
   "metadata": {},
   "source": [
    "Para el caso de arreglos tridimensionales, la transposición intercambia las dimensiones de los ejes 1 y 2. Para ejemplificar esto, consideremos el arreglo `x3`:"
   ]
  },
  {
   "cell_type": "code",
   "execution_count": 78,
   "id": "85ee5a16",
   "metadata": {},
   "outputs": [
    {
     "data": {
      "text/plain": [
       "array([[[6, 1, 6, 1, 1],\n",
       "        [5, 7, 1, 2, 9],\n",
       "        [9, 5, 4, 3, 6],\n",
       "        [5, 2, 0, 1, 9]],\n",
       "\n",
       "       [[4, 4, 4, 7, 0],\n",
       "        [0, 2, 4, 6, 4],\n",
       "        [4, 9, 1, 5, 5],\n",
       "        [4, 8, 2, 9, 3]],\n",
       "\n",
       "       [[5, 5, 8, 4, 2],\n",
       "        [0, 3, 8, 0, 8],\n",
       "        [5, 1, 3, 5, 3],\n",
       "        [1, 6, 6, 1, 2]]])"
      ]
     },
     "execution_count": 78,
     "metadata": {},
     "output_type": "execute_result"
    }
   ],
   "source": [
    "x3 # El arreglo x3."
   ]
  },
  {
   "cell_type": "markdown",
   "id": "fbe56ba7",
   "metadata": {},
   "source": [
    "Al aplicar una transposición sobre `x3`, lo que hacemos es intercambiar los ejes 1 y 2, como se observa en el esquema de la Fig. (1.4):"
   ]
  },
  {
   "cell_type": "code",
   "execution_count": 79,
   "id": "8b007781",
   "metadata": {},
   "outputs": [
    {
     "data": {
      "text/plain": [
       "array([[[6, 4, 5],\n",
       "        [5, 0, 0],\n",
       "        [9, 4, 5],\n",
       "        [5, 4, 1]],\n",
       "\n",
       "       [[1, 4, 5],\n",
       "        [7, 2, 3],\n",
       "        [5, 9, 1],\n",
       "        [2, 8, 6]],\n",
       "\n",
       "       [[6, 4, 8],\n",
       "        [1, 4, 8],\n",
       "        [4, 1, 3],\n",
       "        [0, 2, 6]],\n",
       "\n",
       "       [[1, 7, 4],\n",
       "        [2, 6, 0],\n",
       "        [3, 5, 5],\n",
       "        [1, 9, 1]],\n",
       "\n",
       "       [[1, 0, 2],\n",
       "        [9, 4, 8],\n",
       "        [6, 5, 3],\n",
       "        [9, 3, 2]]])"
      ]
     },
     "execution_count": 79,
     "metadata": {},
     "output_type": "execute_result"
    }
   ],
   "source": [
    "x3.T # El resultado de transponer x3."
   ]
  },
  {
   "cell_type": "markdown",
   "id": "9e093f0a",
   "metadata": {},
   "source": [
    "![alt text](https://github.com/rquezadac/udd_data_analytics_lectures/blob/main/seccion_01_numpy/figures/fig_1_4.png?raw=true \"Logo Title Text 1\")\n",
    "<p style=\"text-align: center;\">Fig. (1.4): Esquema de la transposición de nuestro arreglo tridimensional</p>\n",
    "\n",
    "Por otro lado, el aplanamiento o flattening es una operación que permite reordenar todos los elementos de un arreglo multidimensional en otro arreglo de tipo unidimensional. Se trata de una operación común en el análisis de datos con **Numpy**, y que se implementa mediante el método `ravel()`:"
   ]
  },
  {
   "cell_type": "code",
   "execution_count": 80,
   "id": "86231ae1",
   "metadata": {},
   "outputs": [
    {
     "data": {
      "text/plain": [
       "array([99,  6,  6,  0,  7,  4, 20,  0,  1,  4,  1,  3])"
      ]
     },
     "execution_count": 80,
     "metadata": {},
     "output_type": "execute_result"
    }
   ],
   "source": [
    "x2.ravel() # Aplanamos el arreglo x2."
   ]
  },
  {
   "cell_type": "markdown",
   "id": "b40bd2aa",
   "metadata": {},
   "source": [
    "Finalmente, el remodelamiento de arreglos corresponde al cambio en la geometría de los mismos, de tal forma que el número de elementos (`size`) de éstos permanezca inalterado. Estos redimensionamientos son muy comunes en el análisis de datos con **Numpy**, y pueden implementarse mediante el uso del método `reshape()`, directamente sobre el arreglo de interés. Dicho método requiere como input una tupla de Python que representa la nueva geometría del arreglo que queremos obtener como resultado del redimensionamiento. Por ejemplo, para el caso de `x2`:"
   ]
  },
  {
   "cell_type": "code",
   "execution_count": 81,
   "id": "1a2c03ed",
   "metadata": {},
   "outputs": [
    {
     "data": {
      "text/plain": [
       "array([[99,  6],\n",
       "       [ 6,  0],\n",
       "       [ 7,  4],\n",
       "       [20,  0],\n",
       "       [ 1,  4],\n",
       "       [ 1,  3]])"
      ]
     },
     "execution_count": 81,
     "metadata": {},
     "output_type": "execute_result"
    }
   ],
   "source": [
    "x2.reshape(6, -1) # Numpy inferirá que el número de columnas será igual a 2."
   ]
  },
  {
   "cell_type": "markdown",
   "id": "9ee70255",
   "metadata": {},
   "source": [
    "### Unión de arreglos.\n",
    "Las rutinas que hemos trabajado hasta ahora permiten operar sobre un único arreglo a fin de poder verificar sus atributos, seleccionar parte de la información que nos interesa de él, o bien, cambiar su geometría a otra que nos acomode. No obstante, una operación interesante de considerar y que, a diferencia de las anteriores, involucra a más de un arreglo, corresponde a la unión de este tipo de estructuras de datos.\n",
    "\n",
    "La unión (o concatenación) de varios arreglos en **Numpy**, se consigue principalmente mediante las siguientes funciones: `np.concatenate()`, `np.hstack()` y `np.vstack()`. La función `np.concatenate()` toma una tupla o lista de arreglos como primer argumento, y retorna la unión de los mismos. Esta función ya la habíamos comentado previamente, y habíamos mencionado que, para poder aplicarla, los arreglos de interés deben tener geometrías compatibles. De esta manera, si definimos los arreglos `a` y `b`:"
   ]
  },
  {
   "cell_type": "code",
   "execution_count": 82,
   "id": "bdf10cb3",
   "metadata": {},
   "outputs": [],
   "source": [
    "# Construimos los arreglos a y b.\n",
    "a = rng.normal(loc=0, scale=1, size=(4, 4))\n",
    "b = rng.normal(loc=1, scale=2, size=(2, 4))"
   ]
  },
  {
   "cell_type": "code",
   "execution_count": 83,
   "id": "46b033a4",
   "metadata": {},
   "outputs": [
    {
     "data": {
      "text/plain": [
       "array([[ 0.28068677,  1.76792991,  0.13027452,  0.98273951],\n",
       "       [-0.4992956 , -1.18494377, -0.96511676, -0.72522606],\n",
       "       [ 2.12846973, -0.82138668,  0.8384892 , -0.90292718],\n",
       "       [ 0.93157301,  0.38495097, -0.1566379 , -0.04076253]])"
      ]
     },
     "execution_count": 83,
     "metadata": {},
     "output_type": "execute_result"
    }
   ],
   "source": [
    "a"
   ]
  },
  {
   "cell_type": "code",
   "execution_count": 84,
   "id": "344dcf93",
   "metadata": {},
   "outputs": [
    {
     "data": {
      "text/plain": [
       "array([[-0.30957539,  1.8921444 ,  0.09003304, -1.45121153],\n",
       "       [-1.55587515,  1.34517584,  4.15818251,  1.31998323]])"
      ]
     },
     "execution_count": 84,
     "metadata": {},
     "output_type": "execute_result"
    }
   ],
   "source": [
    "b"
   ]
  },
  {
   "cell_type": "markdown",
   "id": "9f1247ca",
   "metadata": {},
   "source": [
    "Entonces la unión entre ambos sólo puede hacerse conforme la dirección del eje 0. Dicha unión puede entonces implementarse como sigue:"
   ]
  },
  {
   "cell_type": "code",
   "execution_count": 85,
   "id": "7bea4ca6",
   "metadata": {},
   "outputs": [
    {
     "data": {
      "text/plain": [
       "array([[ 0.28068677,  1.76792991,  0.13027452,  0.98273951],\n",
       "       [-0.4992956 , -1.18494377, -0.96511676, -0.72522606],\n",
       "       [ 2.12846973, -0.82138668,  0.8384892 , -0.90292718],\n",
       "       [ 0.93157301,  0.38495097, -0.1566379 , -0.04076253],\n",
       "       [-0.30957539,  1.8921444 ,  0.09003304, -1.45121153],\n",
       "       [-1.55587515,  1.34517584,  4.15818251,  1.31998323]])"
      ]
     },
     "execution_count": 85,
     "metadata": {},
     "output_type": "execute_result"
    }
   ],
   "source": [
    "np.concatenate([a, b], axis=0) # Los arreglos a unirse se especifican por medio de una lista."
   ]
  },
  {
   "cell_type": "markdown",
   "id": "7b654012",
   "metadata": {},
   "source": [
    "Evidentemente, la unión conforme el eje 1 es imposible, ya que los arreglos `a` y `b` no tienen el mismo número de filas. Por lo tanto, intentar implementar una unión conforme dicho eje dará como resultado un error:"
   ]
  },
  {
   "cell_type": "code",
   "execution_count": 86,
   "id": "345b38af",
   "metadata": {},
   "outputs": [
    {
     "name": "stdout",
     "output_type": "stream",
     "text": [
      "all the input array dimensions for the concatenation axis must match exactly, but along dimension 0, the array at index 0 has size 4 and the array at index 1 has size 2\n"
     ]
    }
   ],
   "source": [
    "# Esta unión es imposible, puesto que las geometrías de a y b son incompatibles.\n",
    "try:\n",
    "    np.concatenate([a, b], axis=1)\n",
    "except ValueError as e:\n",
    "    print(e)"
   ]
  },
  {
   "cell_type": "markdown",
   "id": "880ae6c0",
   "metadata": {},
   "source": [
    "La función `np.concatenate()`, por supuesto, no está limitada a únicamente dos arreglos. Podemos unir todos los arreglos que queramos, siempre que éstos sean compatibles:"
   ]
  },
  {
   "cell_type": "code",
   "execution_count": 87,
   "id": "f89a3bdb",
   "metadata": {},
   "outputs": [],
   "source": [
    "# Creamos dos arreglos nuevos.\n",
    "c = rng.normal(loc=3, scale=2, size=(2, 4))\n",
    "d = rng.normal(loc=-3, scale=1, size=(2, 4))"
   ]
  },
  {
   "cell_type": "code",
   "execution_count": 88,
   "id": "14a979f4",
   "metadata": {},
   "outputs": [
    {
     "data": {
      "text/plain": [
       "array([[2.76272335, 3.57165228, 5.61200348, 3.438765  ],\n",
       "       [2.17814554, 5.21257742, 3.85751288, 6.07151198]])"
      ]
     },
     "execution_count": 88,
     "metadata": {},
     "output_type": "execute_result"
    }
   ],
   "source": [
    "c"
   ]
  },
  {
   "cell_type": "code",
   "execution_count": 89,
   "id": "ba1303b1",
   "metadata": {},
   "outputs": [
    {
     "data": {
      "text/plain": [
       "array([[-2.81676556, -4.22446903, -4.3681592 , -1.34907207],\n",
       "       [-1.27633428, -3.17951921, -3.38318732, -1.53855571]])"
      ]
     },
     "execution_count": 89,
     "metadata": {},
     "output_type": "execute_result"
    }
   ],
   "source": [
    "d"
   ]
  },
  {
   "cell_type": "code",
   "execution_count": 90,
   "id": "671b27c8",
   "metadata": {},
   "outputs": [
    {
     "data": {
      "text/plain": [
       "array([[-0.30957539,  1.8921444 ,  0.09003304, -1.45121153],\n",
       "       [-1.55587515,  1.34517584,  4.15818251,  1.31998323],\n",
       "       [ 2.76272335,  3.57165228,  5.61200348,  3.438765  ],\n",
       "       [ 2.17814554,  5.21257742,  3.85751288,  6.07151198],\n",
       "       [-2.81676556, -4.22446903, -4.3681592 , -1.34907207],\n",
       "       [-1.27633428, -3.17951921, -3.38318732, -1.53855571]])"
      ]
     },
     "execution_count": 90,
     "metadata": {},
     "output_type": "execute_result"
    }
   ],
   "source": [
    "# Unión, conforme el eje 0, de los arreglos b, c y d.\n",
    "np.concatenate([b, c, d], axis=0)"
   ]
  },
  {
   "cell_type": "markdown",
   "id": "66e11d18",
   "metadata": {},
   "source": [
    "Si tenemos totalmente claro que deseamos construir uniones conforme un eje determinado, o bien, queremos evitar ciertas ambigüedades en nuestro código, podemos utilizar las funciones `np.hstack()` y `np.vstack()`, siempre que los arreglos involucrados sean geométricamente compatibles:"
   ]
  },
  {
   "cell_type": "code",
   "execution_count": 91,
   "id": "5bf610d0",
   "metadata": {},
   "outputs": [
    {
     "data": {
      "text/plain": [
       "array([[-0.30957539,  1.8921444 ,  0.09003304, -1.45121153,  2.76272335,\n",
       "         3.57165228,  5.61200348,  3.438765  ],\n",
       "       [-1.55587515,  1.34517584,  4.15818251,  1.31998323,  2.17814554,\n",
       "         5.21257742,  3.85751288,  6.07151198]])"
      ]
     },
     "execution_count": 91,
     "metadata": {},
     "output_type": "execute_result"
    }
   ],
   "source": [
    "# La función np.hstack() permite únicamente construir uniones horizontales.\n",
    "np.hstack([b, c])"
   ]
  },
  {
   "cell_type": "code",
   "execution_count": 92,
   "id": "dd341cf1",
   "metadata": {},
   "outputs": [
    {
     "data": {
      "text/plain": [
       "array([[-0.30957539,  1.8921444 ,  0.09003304, -1.45121153],\n",
       "       [-1.55587515,  1.34517584,  4.15818251,  1.31998323],\n",
       "       [ 2.76272335,  3.57165228,  5.61200348,  3.438765  ],\n",
       "       [ 2.17814554,  5.21257742,  3.85751288,  6.07151198]])"
      ]
     },
     "execution_count": 92,
     "metadata": {},
     "output_type": "execute_result"
    }
   ],
   "source": [
    "# La función np.vstack() permite únicamente construir uniones verticales.\n",
    "np.vstack([b, c])"
   ]
  },
  {
   "cell_type": "markdown",
   "id": "a8ed1177",
   "metadata": {},
   "source": [
    "**Numpy** también nos provee con la función `np.dstack()`, que nos permite unir arreglos conforme el eje que asegure aumentar en 1 el número de dimensiones del arreglo resultante. De este modo, para arreglos bidimensionales, `np.dstack()` generará una unión conforme el eje 2:"
   ]
  },
  {
   "cell_type": "code",
   "execution_count": 93,
   "id": "e7da3a17",
   "metadata": {},
   "outputs": [
    {
     "data": {
      "text/plain": [
       "array([[[-0.30957539,  2.76272335],\n",
       "        [ 1.8921444 ,  3.57165228],\n",
       "        [ 0.09003304,  5.61200348],\n",
       "        [-1.45121153,  3.438765  ]],\n",
       "\n",
       "       [[-1.55587515,  2.17814554],\n",
       "        [ 1.34517584,  5.21257742],\n",
       "        [ 4.15818251,  3.85751288],\n",
       "        [ 1.31998323,  6.07151198]]])"
      ]
     },
     "execution_count": 93,
     "metadata": {},
     "output_type": "execute_result"
    }
   ],
   "source": [
    "# La función np.dstack() permite únicamente construir uniones conforme el eje de profundidad (el eje 2, en este caso).\n",
    "np.dstack([b, c])"
   ]
  },
  {
   "cell_type": "markdown",
   "id": "b07a3aee",
   "metadata": {},
   "source": [
    "### División de arreglos.\n",
    "De la misma forma que **Numpy** permite la unión de dos o más arreglos en otro, es igualmente posible dividir arreglos existentes, a fin de obtener como resultado otros arreglos. Para ello, existen funciones análogas a las de unión: `np.split()` para el caso general, y `np.hsplit()`, `np.vsplit()` y `np.dsplit()` para cuando queremos explicitar, por medio de estas funciones, que las uniones automáticamente se realizarán conforme cierto eje.\n",
    "\n",
    "Para usar las funciones anteriores, además del arreglo que queremos dividir, es necesario que especifiquemos cuáles serán las posiciones que servirán como referencias de la respectiva división. Estos puntos de separación pueden imputarse a estas funciones en un formato de listas de manera sencilla:"
   ]
  },
  {
   "cell_type": "code",
   "execution_count": 94,
   "id": "ce643cd9",
   "metadata": {},
   "outputs": [
    {
     "name": "stdout",
     "output_type": "stream",
     "text": [
      "[1. 2. 3.] [4. 5. 6. 7.] [ 8.  9. 10.]\n"
     ]
    }
   ],
   "source": [
    "# Creamos un arreglo unidimensional.\n",
    "p = np.linspace(1, 10, 10)\n",
    "\n",
    "# Dividimos este arreglo en tres sub-arreglos distintos, con respecto a las posiciones 3 y 7.\n",
    "# Es decir, el primer sub-arreglo contiene los números entre las posiciones 0 y 2 (inclusive), \n",
    "# el segundo contiene los elementos entre las posiciones 3 y 6, y el tercero contiene los \n",
    "# elementos entre las posiciones 7 y 9.\n",
    "p1, p2, p3 = np.split(p, [3, 7])\n",
    "print(p1, p2, p3)"
   ]
  },
  {
   "cell_type": "markdown",
   "id": "fe3eae72",
   "metadata": {},
   "source": [
    "Notemos que $N$ puntos de división generan $N+1$ sub-arreglos. Las funciones `np.hsplit()` y `np.vsplit()` tienen un funcionamiento similar, dependiendo de si queremos una división conforme el eje 1 o 0, respectivamente:"
   ]
  },
  {
   "cell_type": "code",
   "execution_count": 95,
   "id": "cd095ed5",
   "metadata": {},
   "outputs": [
    {
     "data": {
      "text/plain": [
       "array([[7, 8, 0, 1, 2, 3],\n",
       "       [9, 7, 3, 9, 4, 5],\n",
       "       [4, 1, 9, 0, 1, 2],\n",
       "       [2, 1, 0, 6, 9, 1],\n",
       "       [2, 5, 9, 6, 7, 5],\n",
       "       [4, 1, 8, 8, 0, 7]])"
      ]
     },
     "execution_count": 95,
     "metadata": {},
     "output_type": "execute_result"
    }
   ],
   "source": [
    "B = rng.integers(low=0, high=10, size=(6, 6)) # Construimos un arreglo bidimensional B.\n",
    "B"
   ]
  },
  {
   "cell_type": "code",
   "execution_count": 96,
   "id": "cd9a7d54",
   "metadata": {},
   "outputs": [
    {
     "data": {
      "text/plain": [
       "array([[7, 8, 0, 1, 2, 3],\n",
       "       [9, 7, 3, 9, 4, 5],\n",
       "       [4, 1, 9, 0, 1, 2]])"
      ]
     },
     "execution_count": 96,
     "metadata": {},
     "output_type": "execute_result"
    }
   ],
   "source": [
    "# Dividimos el arreglo B conforme el eje 0, tomando como referencia la cuarta fila.\n",
    "B_lower, B_upper = np.vsplit(B, [3])\n",
    "B_lower"
   ]
  },
  {
   "cell_type": "code",
   "execution_count": 97,
   "id": "11d5afdb",
   "metadata": {},
   "outputs": [
    {
     "data": {
      "text/plain": [
       "array([[2, 1, 0, 6, 9, 1],\n",
       "       [2, 5, 9, 6, 7, 5],\n",
       "       [4, 1, 8, 8, 0, 7]])"
      ]
     },
     "execution_count": 97,
     "metadata": {},
     "output_type": "execute_result"
    }
   ],
   "source": [
    "B_upper"
   ]
  },
  {
   "cell_type": "code",
   "execution_count": 98,
   "id": "bff7d6b7",
   "metadata": {},
   "outputs": [
    {
     "data": {
      "text/plain": [
       "array([[7, 8, 0],\n",
       "       [9, 7, 3],\n",
       "       [4, 1, 9],\n",
       "       [2, 1, 0],\n",
       "       [2, 5, 9],\n",
       "       [4, 1, 8]])"
      ]
     },
     "execution_count": 98,
     "metadata": {},
     "output_type": "execute_result"
    }
   ],
   "source": [
    "# Dividimos el arreglo B conforme el eje 1, tomando como referencia la cuarta columna.\n",
    "B_left, B_right = np.hsplit(B, [3])\n",
    "B_left"
   ]
  },
  {
   "cell_type": "code",
   "execution_count": 99,
   "id": "69327a3a",
   "metadata": {},
   "outputs": [
    {
     "data": {
      "text/plain": [
       "array([[1, 2, 3],\n",
       "       [9, 4, 5],\n",
       "       [0, 1, 2],\n",
       "       [6, 9, 1],\n",
       "       [6, 7, 5],\n",
       "       [8, 0, 7]])"
      ]
     },
     "execution_count": 99,
     "metadata": {},
     "output_type": "execute_result"
    }
   ],
   "source": [
    "B_right"
   ]
  },
  {
   "cell_type": "markdown",
   "id": "782278c6",
   "metadata": {},
   "source": [
    "## Comentarios finales.\n",
    "En esta primera sección hemos aprendido a crear estructuras de datos características de **Numpy**, que son los arreglos. Hemos aprendido a hacer selecciones de datos almacenados en estos arreglos mediante diferentes esquemas de indexación, y hemos aprendido a hacer algunas operaciones básicas entre arreglos para obtener nuevos arreglos.\n",
    "\n",
    "En la próxima sección, profundizaremos en la operatoria entre arreglos considerando algunas funciones elementales de **Numpy** conocidas como funciones universales o `ufuncs`, las que nos permitirán generar cálculos de mayor complejidad sobre estas estructuras de datos, teniendo consideración con los tiempos de ejecución propios de tales operaciones."
   ]
  }
 ],
 "metadata": {
  "kernelspec": {
   "display_name": "Python 3 (ipykernel)",
   "language": "python",
   "name": "python3"
  },
  "language_info": {
   "codemirror_mode": {
    "name": "ipython",
    "version": 3
   },
   "file_extension": ".py",
   "mimetype": "text/x-python",
   "name": "python",
   "nbconvert_exporter": "python",
   "pygments_lexer": "ipython3",
   "version": "3.9.7"
  }
 },
 "nbformat": 4,
 "nbformat_minor": 5
}
