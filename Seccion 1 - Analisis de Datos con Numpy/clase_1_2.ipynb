{
 "cells": [
  {
   "attachments": {},
   "cell_type": "markdown",
   "id": "c96382c9",
   "metadata": {},
   "source": [
    "# CLASE 1.2: OPERATORIA EN NUMPY\n",
    "---\n",
    "## Una observación acerca de los tiempos de ejecución\n",
    "Hasta ahora, hemos estado discutiendo algunos de los conceptos más elementales de **Numpy**; en las próximas secciones de este módulo, navegaremos entre las razones por las cuales **Numpy** es tan importante en el mundo de la ciencia de datos con Python. A saber, nos provee de una interfaz sencilla y flexible para la computación optimizada con arreglos de datos.\n",
    "\n",
    "Los cálculos con arreglos de **Numpy** pueden ser extremadamente rápidos, o bien, muy muy lentos. La clave para hacerlos rápidos yace en la utilización de **operaciones vectorizadas** que, en general, se implementan mediante las llamadas funciones universales de **Numpy**, conocidas en la práctica como `ufuncs`. Procederemos a motivar la necesidad por el uso de las `ufuncs`, las cuales pueden ser utilizadas para la realización de cálculos recursivos sobre los elementos de un arreglo de manera mucho más eficiente. A partir de dicha motivación, introduciremos muchas de las `ufuncs` más comunes de **Numpy**.\n",
    "\n",
    "La implementación estándar de Python, conocida como *CPython*, realiza algunas operaciones muy lentamente. Esto es, en parte, debido a la naturaleza interpretativa y dinámica de Python. La flexibilidad de los tipos provoca que Python infiera nuestros datos sin necesidad de que los declaremos, pero también hace que dichos datos tengan mayor complejidad, lo que implica que, cuando hacemos cálculos recursivos con ellos (por ejemplo, en bucles), esa lentitud se manifieste de manera significativa. Por ejemplo:"
   ]
  },
  {
   "cell_type": "code",
   "execution_count": 1,
   "id": "b1e535f4",
   "metadata": {},
   "outputs": [],
   "source": [
    "import numpy as np"
   ]
  },
  {
   "cell_type": "code",
   "execution_count": 2,
   "id": "6a28d7df",
   "metadata": {},
   "outputs": [],
   "source": [
    "# Fijamos un generador de números aleatorios.\n",
    "rng = np.random.default_rng(seed=7)"
   ]
  },
  {
   "cell_type": "code",
   "execution_count": 3,
   "id": "906b7808",
   "metadata": {},
   "outputs": [],
   "source": [
    "# Construimos una función que nos permite calcular las potencias negativas de 2 conforme los \n",
    "# exponentes que se listan en un arreglo.\n",
    "def compute_neg_exp(values):\n",
    "    \n",
    "    # Inicializamos el output de nuestro cálculo mediante un arreglo vacío (función np.empty()).\n",
    "    output = np.empty(len(values))\n",
    "    \n",
    "    # Hacemos el cálculo mediante un bucle sencillo.\n",
    "    for i in range(len(values)):\n",
    "        output[i] = 2**(-values[i])\n",
    "    \n",
    "    return output"
   ]
  },
  {
   "cell_type": "code",
   "execution_count": 4,
   "id": "f17b70c5",
   "metadata": {},
   "outputs": [],
   "source": [
    "# Definimos un arreglo unidimensional para almacenar los exponentes que queremos evaluar.\n",
    "values = rng.normal(loc=5, scale=2, size=5)"
   ]
  },
  {
   "cell_type": "markdown",
   "id": "f5236264",
   "metadata": {},
   "source": [
    "La implementación anterior no parece tener ningún problema. Pero si medimos el **tiempo de ejecución** de este código para un input muy grande, veremos que esta operación se ejecuta de manera muy lenta… ¡Quizás demasiado lenta! Mediremos dicho tiempo de ejecución mediante el uso de un código mágico de **IPython** denominado `%timeit`:"
   ]
  },
  {
   "cell_type": "code",
   "execution_count": 5,
   "id": "339fda91",
   "metadata": {},
   "outputs": [],
   "source": [
    "# Construimos un arreglo de un millón de filas para testear el tiempo de ejecución de nuestra función.\n",
    "huge_array = rng.normal(loc=5, scale=2, size=1000000)"
   ]
  },
  {
   "cell_type": "code",
   "execution_count": 6,
   "id": "d8bbc27e",
   "metadata": {},
   "outputs": [
    {
     "name": "stdout",
     "output_type": "stream",
     "text": [
      "279 ms ± 7.46 ms per loop (mean ± std. dev. of 7 runs, 1 loop each)\n"
     ]
    }
   ],
   "source": [
    "# Medimos el tiempo de ejecución de la funcion que construimos sobre este arreglo.\n",
    "%timeit compute_neg_exp(huge_array)"
   ]
  },
  {
   "attachments": {},
   "cell_type": "markdown",
   "id": "8b9ab659",
   "metadata": {},
   "source": [
    "¡Toma varios milisegundos calcular estos millones de operaciones y almacenar el resultado! En un mundo en el cual incluso los celulares tienen velocidades de procesamiento de información medidas en Giga-FLOPS (es decir, miles de millones de cálculos por segundo), esto parece ser ridículamente lento. Sucede que el cuello de botella aquí no son las operaciones propiamente tales, sino que el chequeo de los tipos de datos subyacentes y los despachos de funciones que realiza CPython en cada ciclo del bucle. Cada vez que un recíproco se calcula, Python primero examina el tipo de dato que caracteriza al objeto respectivo y realiza un chequeo dinámico de la función correcta que debe usarse para ese tipo de dato.\n",
    "\n",
    "Es por eso que, a fin de ser capaces de asegurar que nuestros cálculos, basados en arreglos de **Numpy**, tengan un tiempo de ejecución razonable, tenemos que conocer cómo operar con tales arreglos mediante operaciones especialmente construidas para trabajar con ellos.\n",
    "\n",
    "## Funciones universales.\n",
    "Para muchos tipos de operaciones, **Numpy** nos provee de una conveniente interfaz en este tipo de rutinas, de manera similar a lo que se lograría mediante un código ya compilado. Aquello se conoce como **operación vectorizada**. Podemos lograr esto simplemente realizando una operación sobre el arreglo, la cual luego será aplicada a cada elemento del mismo. Este enfoque vectorizado está diseñado para forzar a cualquier bucle a trabajar más rápido aprovechando las bondades de **Numpy**, logrando así una ejecución más efectiva.\n",
    "\n",
    "Comparemos los tiempos de ejecución de la operación definida por nuestra función `compute_neg_exp()`, que trabaja mediante un bucle, y la misma operación trabajada por esta función, aplicada directamente sobre nuestro arreglo gigante (`huge_array`):"
   ]
  },
  {
   "cell_type": "code",
   "execution_count": 7,
   "id": "492cbeb3",
   "metadata": {},
   "outputs": [
    {
     "name": "stdout",
     "output_type": "stream",
     "text": [
      "8.56 ms ± 194 µs per loop (mean ± std. dev. of 7 runs, 100 loops each)\n"
     ]
    }
   ],
   "source": [
    "%timeit 1/2**(-huge_array)"
   ]
  },
  {
   "attachments": {},
   "cell_type": "markdown",
   "id": "f1fe5f16",
   "metadata": {},
   "source": [
    "Vemos que la operación anterior, aplicada directamente sobre el arreglo `huge_array`, se ejecuta muchísimo más rápido que en el caso de la función `compute_neg_exp()`, ya que ahora el cálculo completo toma 10.6 milisegundos, lo que es casi 38 veces más rápido que el primer cálculo que realizamos.\n",
    "\n",
    "Las operaciones vectorizadas es **Numpy** se implementan mediante el uso de funciones universales (comúnmente abreviadas como `ufuncs`, del inglés *universal functions*), cuyo gran propósito es ejecutar rápidamente operaciones recursivas sobre los elementos que conforman un arreglo de **Numpy**. Las ufuncs son extremadamente flexibles; recién vimos una operación entre un arreglo y un escalar, pero también podemos operar sobre dos arreglos:"
   ]
  },
  {
   "cell_type": "code",
   "execution_count": 8,
   "id": "cf6c6e86",
   "metadata": {},
   "outputs": [
    {
     "data": {
      "text/plain": [
       "array([0.09090909, 0.16666667, 0.23076923, 0.28571429, 0.33333333,\n",
       "       0.375     , 0.41176471, 0.44444444, 0.47368421, 0.5       ])"
      ]
     },
     "execution_count": 8,
     "metadata": {},
     "output_type": "execute_result"
    }
   ],
   "source": [
    "np.linspace(start=1, stop=10, num=10) / np.linspace(start=11, stop=20, num=10)"
   ]
  },
  {
   "attachments": {},
   "cell_type": "markdown",
   "id": "abe62e48",
   "metadata": {},
   "source": [
    "El código anterior muestra la operación aritmética de división entre arreglos. Sin embargo, antes de proceder, es buena idea revisar cómo se opera aritméticamente con estas estructuras de datos, a fin de tener muy claro, en términos matemáticos, qué es lo que estamos haciendo. Esto es importante, puesto que partimos este estudio hablando de cómo los arreglos pueden ser utilizados para representar objetos matemáticos típicos del álgebra lineal, tales como vectores, matrices y tensores. Y si bien hay operaciones tales como la suma de arreglos, que es exactamente la misma suma definida sobre tales objetos matemáticos, otras operaciones no tienen una equivalencia necesariamente obvia.\n",
    "\n",
    "### Aritmética de arreglos.\n",
    "En el contexto del álgebra lineal, existe un tipo de estructura de gran importancia conocida como **espacio vectorial**, la cual puede crearse a partir de un conjunto no vacío (cuyos elementos son llamados vectores), una operación interna (llamada suma, definida para los elementos del conjunto) y una operación externa (llamada producto por un escalar, definida entre dicho conjunto y otro conjunto, con estructura de cuerpo, como podrían ser los conjuntos $\\mathbb{R}$ o $\\mathbb{C}$) que satisface varias propiedades fundamentales. Tales propiedades se resumen en un conjunto de reglas que permiten darle sentido a las operaciones previamente mencionadas.\n",
    "\n",
    "En la asignatura de álgebra lineal, aprendimos que tanto los vectores en $\\mathbb{R}^n$ como las matrices (que se representan como $\\mathbb{R}^{m\\times n}$, para el caso de matrices con $m$ filas y $n$ columnas) conforman una estructura de espacio vectorial. La operación interna que define dicha estructura en ambos casos corresponde a la suma (de vectores o matrices). Sean $\\mathbf{a}=(a_{1},...,a_{m})$ y $\\mathbf{b}=(b_{1},...,b_{m})$ dos vectores en $\\mathbb{R}^{m}$. La suma de estos vectores es otro vector, que denotamos como $\\mathbf{a}+\\mathbf{b}$, y que se define como\n",
    "\n",
    "<p style=\"text-align: center;\">$\\mathbf{a}+\\mathbf{b}=(a_{1}+b_{1},...,a_{m}+b_{m})\\in \\mathbb{R}^{m}$</p>\n",
    "\n",
    "Es decir, para sumar dos vectores, estos deben ser de la misma dimensión, y la suma resultará en otro vector cuyos elementos serán iguales a la suma de los elementos de cada uno de los vectores originales, posición a posición. Esto también se cumple para el caso de las matrices en ℝ^(𝑚×𝑛); es decir, si $\\mathbf{A} =\\left\\{a_{ij}\\right\\}$ y $\\mathbf{B} =\\left\\{b_{ij}\\right\\}$ son matrices en $\\mathbb{R}^{m\\times n}$, la suma $\\mathbf{A}+\\mathbf{B}$ se definirá como\n",
    "\n",
    "<p style=\"text-align: center;\">$\\mathbf{A} +\\mathbf{B} =\\left\\{ a_{ij}+b_{ij}\\right\\}  =\\left( \\begin{matrix}a_{11}+b_{11}&\\cdots &a_{1n}+b_{1n}\\\\ \\vdots &\\ddots &\\vdots \\\\ a_{m1}+b_{m1}&\\cdots &a_{mn}+b_{mn}\\end{matrix} \\right)  \\in \\mathbb{R}^{m\\times n} $</p>\n",
    "\n",
    "La suma así definida es exactamente la misma suma que opera sobre arreglos en **Numpy**. Por ejemplo, si definimos los arreglos:"
   ]
  },
  {
   "cell_type": "code",
   "execution_count": 9,
   "id": "816aadde",
   "metadata": {},
   "outputs": [],
   "source": [
    "# Dos arreglos unidimensionales (similes a vectores).\n",
    "a = np.array([0, -1, 8, -2, 5])\n",
    "b = np.array([-6, -9, 0, 1, -2])"
   ]
  },
  {
   "cell_type": "code",
   "execution_count": 10,
   "id": "0636d351",
   "metadata": {},
   "outputs": [],
   "source": [
    "# Dos arreglos bidimensionales (similares a matrices).\n",
    "A = np.array([\n",
    "    [-1, 0, 1, 5, 2, 6],\n",
    "    [-4, 0, 0, 4, -1, 0],\n",
    "    [-8, -1, 3, 0, -2, 1],\n",
    "    [0, -1, -1, 4, -2, 1],\n",
    "])\n",
    "B = np.array([\n",
    "    [-2, -2, 0, 6, 1, -1],\n",
    "    [0, -1, 8, -6, -8, 0],\n",
    "    [9, 1, -7, 6, 1, -9],\n",
    "    [0, -4, 4, 0, 0, -5],\n",
    "])"
   ]
  },
  {
   "cell_type": "code",
   "execution_count": 11,
   "id": "a651d17e",
   "metadata": {},
   "outputs": [
    {
     "data": {
      "text/plain": [
       "array([ -6, -10,   8,  -1,   3])"
      ]
     },
     "execution_count": 11,
     "metadata": {},
     "output_type": "execute_result"
    }
   ],
   "source": [
    "# La suma a + b resulta en un arreglo también 1D, cuyos elementos son las sumas de los \n",
    "# correspondientes elementos de a y b.\n",
    "a + b"
   ]
  },
  {
   "cell_type": "code",
   "execution_count": 12,
   "id": "e280e855",
   "metadata": {},
   "outputs": [
    {
     "data": {
      "text/plain": [
       "array([[-3, -2,  1, 11,  3,  5],\n",
       "       [-4, -1,  8, -2, -9,  0],\n",
       "       [ 1,  0, -4,  6, -1, -8],\n",
       "       [ 0, -5,  3,  4, -2, -4]])"
      ]
     },
     "execution_count": 12,
     "metadata": {},
     "output_type": "execute_result"
    }
   ],
   "source": [
    "# La suma A + B resulta en un arreglo también 2D, cuyos elementos son las sumas de los \n",
    "# correspondientes elementos de A y B.\n",
    "A + B"
   ]
  },
  {
   "cell_type": "markdown",
   "id": "a3c04b71",
   "metadata": {},
   "source": [
    "La resta, que en términos algebraicos no es más que un caso particular de la suma, también es una operación interna que trabaja de la misma forma sobre los correspondientes arreglos:"
   ]
  },
  {
   "cell_type": "code",
   "execution_count": 13,
   "id": "2bc5052d",
   "metadata": {},
   "outputs": [
    {
     "data": {
      "text/plain": [
       "array([ 6,  8,  8, -3,  7])"
      ]
     },
     "execution_count": 13,
     "metadata": {},
     "output_type": "execute_result"
    }
   ],
   "source": [
    "# La resta a - b.\n",
    "a - b"
   ]
  },
  {
   "cell_type": "code",
   "execution_count": 14,
   "id": "82aaf5d6",
   "metadata": {},
   "outputs": [
    {
     "data": {
      "text/plain": [
       "array([[  1,   2,   1,  -1,   1,   7],\n",
       "       [ -4,   1,  -8,  10,   7,   0],\n",
       "       [-17,  -2,  10,  -6,  -3,  10],\n",
       "       [  0,   3,  -5,   4,  -2,   6]])"
      ]
     },
     "execution_count": 14,
     "metadata": {},
     "output_type": "execute_result"
    }
   ],
   "source": [
    "# La resta A - B.\n",
    "A - B"
   ]
  },
  {
   "attachments": {},
   "cell_type": "markdown",
   "id": "233d7c37",
   "metadata": {},
   "source": [
    "Veamos ahora el caso del producto por un escalar. \n",
    "\n",
    "En estricto rigor, un escalar no es más que un valor que pertenece ya sea a $\\mathbb{R}$ o $\\mathbb{C}$, según sea el caso. En términos de **Numpy**, los escalares son simplemente los números que pueden constituir los elementos de un arreglo respectivo. Desde la perspectiva algebraica, el producto de un vector por un escalar puede definirse como sigue: Sea $\\mathbf{a}=(a_{1},...,a_{m})\\in \\mathbb{R}$ un vector y $\\lambda \\in \\mathbb{R}$ un escalar. Entonces el producto del vector $\\mathbf{a}$ por el escalar $\\lambda$ es también un vector, denotado como $\\lambda \\mathbf{a}$, y que se define como\n",
    "\n",
    "<p style=\"text-align: center;\">$\\lambda \\mathbf{a}=(\\lambda a_{1},...,\\lambda a_{m})\\in \\mathbb{R}$</p>\n",
    "\n",
    "Esta operación se define de manera completamente análoga para el caso de las matrices. Es decir, para la matriz $\\mathbf{A} =\\left\\{ a_{ij}\\right\\}  \\in \\mathbb{R}^{m\\times n} $, el producto entre el escalar $\\lambda$ y dicha matriz, denotado como $\\lambda \\mathbf{A}$, es también una matriz, y se calcula como\n",
    "\n",
    "<p style=\"text-align: center;\">$\\lambda \\mathbf{A} =\\left\\{ \\lambda a_{ij}\\right\\}  =\\left( \\begin{matrix}\\lambda a_{11}&\\cdots &\\lambda a_{1n}\\\\ \\vdots &\\ddots &\\vdots \\\\ \\lambda a_{m1}&\\cdots &\\lambda a_{mn}\\end{matrix} \\right)  \\in \\mathbb{R}^{m\\times n}$</p>\n",
    "\n",
    "Para el caso de los arreglos de **Numpy**, la replicación de esta operación externa es igual de sencilla que en el caso de la suma:"
   ]
  },
  {
   "cell_type": "code",
   "execution_count": 15,
   "id": "3a352092",
   "metadata": {},
   "outputs": [],
   "source": [
    "lam = 2 # Un escalar con un valor igual a 2."
   ]
  },
  {
   "cell_type": "code",
   "execution_count": 16,
   "id": "7ffb1294",
   "metadata": {},
   "outputs": [
    {
     "data": {
      "text/plain": [
       "array([ 0, -2, 16, -4, 10])"
      ]
     },
     "execution_count": 16,
     "metadata": {},
     "output_type": "execute_result"
    }
   ],
   "source": [
    "# Multiplicación de un arreglo unidimensional por este escalar.\n",
    "lam * a"
   ]
  },
  {
   "cell_type": "code",
   "execution_count": 17,
   "id": "ec1e8026",
   "metadata": {},
   "outputs": [
    {
     "data": {
      "text/plain": [
       "array([[ -2,   0,   2,  10,   4,  12],\n",
       "       [ -8,   0,   0,   8,  -2,   0],\n",
       "       [-16,  -2,   6,   0,  -4,   2],\n",
       "       [  0,  -2,  -2,   8,  -4,   2]])"
      ]
     },
     "execution_count": 17,
     "metadata": {},
     "output_type": "execute_result"
    }
   ],
   "source": [
    "# Multiplicación de un arreglo bidimensional por este escalar.\n",
    "lam * A"
   ]
  },
  {
   "cell_type": "markdown",
   "id": "6567e335",
   "metadata": {},
   "source": [
    "Vemos pues que las operaciones de suma y producto por un escalar siguen exactamente la misma lógica cuando representamos vectores y matrices mediante arreglos unidimensionales y bidimensionales, respectivamente.\n",
    "\n",
    "Sin embargo, existen otras operaciones que no resultan obvias en su ejecución cuando homologamos este tipo de objetos matemáticos a arreglos, y es muy buena idea detenernos a explicarlas a fin de evitar cualquier tipo de confusión. En **Numpy**, las cuatro operaciones básicas de la aritmética (digamos, suma, resta, multiplicación y división) siguen la misma lógica que la suma (vista como una operación interna) definida previamente. Es decir, siempre operan componente a componente. De esta manera, para el caso los arreglos bidimensionales `A` y `B` que construimos un par de láminas atrás, la multiplicación `A * B` también da como resultado un arreglo, ya que:"
   ]
  },
  {
   "cell_type": "code",
   "execution_count": 18,
   "id": "65ec825b",
   "metadata": {},
   "outputs": [
    {
     "data": {
      "text/plain": [
       "array([[  2,   0,   0,  30,   2,  -6],\n",
       "       [  0,   0,   0, -24,   8,   0],\n",
       "       [-72,  -1, -21,   0,  -2,  -9],\n",
       "       [  0,   4,  -4,   0,   0,  -5]])"
      ]
     },
     "execution_count": 18,
     "metadata": {},
     "output_type": "execute_result"
    }
   ],
   "source": [
    "# La multiplicación directa de arreglos bidimensionales en Numpy trabaja como una operación interna: Componente a componente.\n",
    "A * B"
   ]
  },
  {
   "cell_type": "markdown",
   "id": "5f7b0f5b",
   "metadata": {},
   "source": [
    "Esto también se cumple para el caso de los arreglos unidimensionales:"
   ]
  },
  {
   "cell_type": "code",
   "execution_count": 19,
   "id": "392a0e3e",
   "metadata": {},
   "outputs": [
    {
     "data": {
      "text/plain": [
       "array([  0,   9,   0,  -2, -10])"
      ]
     },
     "execution_count": 19,
     "metadata": {},
     "output_type": "execute_result"
    }
   ],
   "source": [
    "# La multiplicación directa de arreglos unidimensionales en Numpy también es componente a componente.\n",
    "a * b"
   ]
  },
  {
   "cell_type": "markdown",
   "id": "6035113e",
   "metadata": {},
   "source": [
    "La división también trabaja exactamente igual:"
   ]
  },
  {
   "cell_type": "code",
   "execution_count": 20,
   "id": "2a21d3e5",
   "metadata": {},
   "outputs": [
    {
     "name": "stderr",
     "output_type": "stream",
     "text": [
      "/var/folders/sn/hlgjzv2n1537dplx8bvvj1c80000gn/T/ipykernel_31421/3816306364.py:2: RuntimeWarning: divide by zero encountered in true_divide\n",
      "  A / B\n",
      "/var/folders/sn/hlgjzv2n1537dplx8bvvj1c80000gn/T/ipykernel_31421/3816306364.py:2: RuntimeWarning: invalid value encountered in true_divide\n",
      "  A / B\n"
     ]
    },
    {
     "data": {
      "text/plain": [
       "array([[ 0.5       , -0.        ,         inf,  0.83333333,  2.        ,\n",
       "        -6.        ],\n",
       "       [       -inf, -0.        ,  0.        , -0.66666667,  0.125     ,\n",
       "                nan],\n",
       "       [-0.88888889, -1.        , -0.42857143,  0.        , -2.        ,\n",
       "        -0.11111111],\n",
       "       [        nan,  0.25      , -0.25      ,         inf,        -inf,\n",
       "        -0.2       ]])"
      ]
     },
     "execution_count": 20,
     "metadata": {},
     "output_type": "execute_result"
    }
   ],
   "source": [
    "# La división de arreglos bidimensionales también trabaja componente a componente.\n",
    "A / B"
   ]
  },
  {
   "cell_type": "code",
   "execution_count": 21,
   "id": "ab80cbec",
   "metadata": {},
   "outputs": [
    {
     "name": "stderr",
     "output_type": "stream",
     "text": [
      "/var/folders/sn/hlgjzv2n1537dplx8bvvj1c80000gn/T/ipykernel_31421/3266095820.py:2: RuntimeWarning: divide by zero encountered in true_divide\n",
      "  a / b\n"
     ]
    },
    {
     "data": {
      "text/plain": [
       "array([-0.        ,  0.11111111,         inf, -2.        , -2.5       ])"
      ]
     },
     "execution_count": 21,
     "metadata": {},
     "output_type": "execute_result"
    }
   ],
   "source": [
    "# Mismo caso para los arreglos unidimensionales.\n",
    "a / b"
   ]
  },
  {
   "attachments": {},
   "cell_type": "markdown",
   "id": "3afbdcef",
   "metadata": {},
   "source": [
    "Los arreglos resultantes de una división como la anterior pueden tener elementos indeterminados (`nan`) o con una magnitud demasiado grande (`inf`). Esto es porque, como cabría esperar, la división así definida requiere que los elementos del arreglo divisor sean todos distintos de cero.\n",
    "\n",
    "Es justo preguntarnos si esta forma de multiplicar existe formalmente en el área del álgebra lineal. Y resulta que, en efecto, esta operación sí está bien definida. Para todo par de matrices $\\mathbf{A} =\\left\\{ a_{ij}\\right\\}$ y $\\mathbf{B} =\\left\\{b_{ij}\\right\\}$ en $\\mathbb{R}^{m\\times n}$, se define el **producto de Hadamard**, denotado como $\\mathbf{A} \\odot \\mathbf{B}$, como la matriz cuyos elementos son las multiplicaciones, posición a posición, de los elementos originales de las matrices $\\mathbf{A}$ y $\\mathbf{B}$. Es decir,\n",
    "\n",
    "<p style=\"text-align: center;\">$\\mathbf{A} \\odot \\mathbf{B} =\\left\\{ a_{ij}b_{ij}\\right\\}  =\\left( \\begin{matrix}a_{11}b_{11}&\\cdots &a_{1n}b_{1n}\\\\ \\vdots &\\ddots &\\vdots \\\\ a_{m1}b_{m1}&\\cdots &a_{mn}b_{mn}\\end{matrix} \\right)  \\in \\mathbb{R}^{m\\times n} $</p>\n",
    "\n",
    "Por lo tanto, la operación de multiplicación `A * B` que está implementada en **Numpy** para los arreglos `A` y `B` es, indudablemente, el producto de Hadamard. De hecho, la división `A / B` es un caso particular de este producto, donde la multiplicación se aplica sobre los recíprocos de la matriz `B`. Si volvemos al contexto del álgebra lineal, podemos observar que el producto de matrices es muy diferente del producto de Hadamard. Al respecto, sean las matrices $\\mathbf{A} =\\left\\{ a_{ij}\\right\\}\\in \\mathbb{R}^{m\\times n}$ y $\\mathbf{B} =\\left\\{ b_{ij}\\right\\}\\in \\mathbb{R}^{m\\times k}$. Los elementos $\\left\\{ c_{ij}\\right\\} $ de la matriz producto $\\mathbf{A} \\mathbf{B} \\in \\mathbb{R}^{m\\times k}$ se definen mediante la fórmula siguiente:\n",
    "\n",
    "<p style=\"text-align: center;\">$c_{ij}={\\displaystyle \\sum^{n}_{s=1} a_{is}b_{sj}}\\  ;\\  i=1,...,m\\  \\wedge \\  j=1,...,k$</p>\n",
    "\n",
    "Por lo tanto, para computar el elemento $c_{ij}$ de la matriz $\\mathbf{C}=\\mathbf{A} \\mathbf{B}$, multiplicamos los elementos de la i-ésima fila de $\\mathbf{A}$ con la j-ésima columna de $\\mathbf{B}$, y luego los sumamos. Esto pone de manifiesto que las matrices $\\mathbf{A}$ y $\\mathbf{B}$ deben cumplir con ser compatibles para la multiplicación matricial así definida. Por ejemplo, una matriz $\\mathbf{A}$ de $n\\times k$ puede ser multiplicada por otra matriz $\\mathbf{B}$ de $k\\times m$, pero solamente de izquierda a derecha:\n",
    "\n",
    "<p style=\"text-align: center;\">$\\underbrace{\\mathbf{A} }_{n\\times k} \\  \\underbrace{\\mathbf{B} }_{k\\times m} =\\underbrace{\\mathbf{C} }_{n\\times m}$</p>\n",
    "\n",
    "El producto $\\mathbf{B} \\mathbf{A}$ no está definido si $n\\neq m$, ya que las dimensiones respectivas no son compatibles.\n",
    "\n",
    "Este producto también puede implementarse en **Numpy**. La función universal (o `ufunc`) encargada de hacerlo es `np.matmul()`, la cual toma como argumentos dos arreglos que nos interesa multiplicar, siempre que éstos sean compatibles para esta operación. Ejemplifiquemos esto mediante la definición de dos nuevas matrices `A` y `B`, definidas como"
   ]
  },
  {
   "cell_type": "code",
   "execution_count": 22,
   "id": "74b58910",
   "metadata": {},
   "outputs": [],
   "source": [
    "# Definimos los arreglos A y B.\n",
    "A = np.array([\n",
    "    [1, 2, 3],\n",
    "    [3, 2, 1]\n",
    "])\n",
    "B = np.array([\n",
    "    [0, 2],\n",
    "    [1, -1],\n",
    "    [0, 1]\n",
    "])"
   ]
  },
  {
   "cell_type": "code",
   "execution_count": 23,
   "id": "cee05363",
   "metadata": {},
   "outputs": [
    {
     "data": {
      "text/plain": [
       "array([[2, 3],\n",
       "       [2, 5]])"
      ]
     },
     "execution_count": 23,
     "metadata": {},
     "output_type": "execute_result"
    }
   ],
   "source": [
    "# La multiplicación matricial de ambos arreglos se realiza mediante la ufunc np.matmul().\n",
    "np.matmul(A, B)"
   ]
  },
  {
   "cell_type": "code",
   "execution_count": 24,
   "id": "31563757",
   "metadata": {},
   "outputs": [
    {
     "data": {
      "text/plain": [
       "array([[ 6,  4,  2],\n",
       "       [-2,  0,  2],\n",
       "       [ 3,  2,  1]])"
      ]
     },
     "execution_count": 24,
     "metadata": {},
     "output_type": "execute_result"
    }
   ],
   "source": [
    "# En este caso, ambos arreglos son compartibles para ser multiplicados en ambos sentidos.\n",
    "np.matmul(B, A)"
   ]
  },
  {
   "cell_type": "markdown",
   "id": "1171381b",
   "metadata": {},
   "source": [
    "La multiplicación matricial, como podemos observar, no es una operación conmutativa. Por lo tanto, no cumple con ser una operación interna válida para poder construir un espacio vectorial. En **Numpy**, el operador rápido para la implementación de este producto corresponde a `@`. De esta manera, en vez de utilizar la función `np.matmul()`, podemos simplemente escribir:"
   ]
  },
  {
   "cell_type": "code",
   "execution_count": 25,
   "id": "429da942",
   "metadata": {},
   "outputs": [
    {
     "data": {
      "text/plain": [
       "array([[2, 3],\n",
       "       [2, 5]])"
      ]
     },
     "execution_count": 25,
     "metadata": {},
     "output_type": "execute_result"
    }
   ],
   "source": [
    "# El operador @ permite multiplicar matricialmente nuestros arreglos.\n",
    "A @ B"
   ]
  },
  {
   "cell_type": "code",
   "execution_count": 26,
   "id": "38876b0c",
   "metadata": {},
   "outputs": [
    {
     "data": {
      "text/plain": [
       "array([[ 6,  4,  2],\n",
       "       [-2,  0,  2],\n",
       "       [ 3,  2,  1]])"
      ]
     },
     "execution_count": 26,
     "metadata": {},
     "output_type": "execute_result"
    }
   ],
   "source": [
    "B @ A"
   ]
  },
  {
   "attachments": {},
   "cell_type": "markdown",
   "id": "71091609",
   "metadata": {},
   "source": [
    "Volvamos a la operación de producto y consideremos ahora arreglos unidimensionales. Debido a que éstos pueden ser usados para representar vectores, es evidente que el producto definido en primera instancia (`a * b`, en nuestro ejemplo) es también un producto de Hadamard (componente a componente). Sin embargo, como en el caso de las matrices, es probable que recordemos que el concepto de producto visto en nuestros cursos de Cálculo (e incluso de Física) es muy diferente.\n",
    "\n",
    "Partamos con el concepto de **producto interno** (o producto punto o escalar) de vectores. Para todo par de vectores $a, b\\in \\mathbb{R}^{n}$, tales que $\\mathbf{a}=(a_{1},...,a_{n})$ y $\\mathbf{b}=(b_{1},...,b_{n})$, se define el producto interno $\\mathbf{a} \\cdot \\mathbf{b} $ como\n",
    "\n",
    "<p style=\"text-align: center;\">$\\mathbf{a} \\cdot \\mathbf{b} =a_{1}b_{1}+\\cdots +a_{n}b_{n}={\\displaystyle \\sum^{n}_{i=1} a_{i}b_{i}}\\in \\mathbb{R}$</p>\n",
    "\n",
    "Es decir, el producto interno $\\mathbf{a} \\cdot \\mathbf{b} $ de los vectores $\\mathbf{a}$ y $\\mathbf{b}$ da como resultado un escalar.\n",
    "\n",
    "La implementación de este producto interno en **Numpy** se realiza por medio de la función `np.dot()`. De esta manera, para el caso de los arreglos unidimensionales a y b definidos previamente, tendremos que su producto interno puede calcularse como"
   ]
  },
  {
   "cell_type": "code",
   "execution_count": 27,
   "id": "a5d3d40b",
   "metadata": {},
   "outputs": [
    {
     "data": {
      "text/plain": [
       "-3"
      ]
     },
     "execution_count": 27,
     "metadata": {},
     "output_type": "execute_result"
    }
   ],
   "source": [
    "# El producto interno entre los arreglos unidimensionales a y b se calcula de la siguiente manera.\n",
    "np.dot(a, b)"
   ]
  },
  {
   "cell_type": "markdown",
   "id": "09d1741f",
   "metadata": {},
   "source": [
    "Notemos que, en efecto, el resultado anterior es un escalar.\n",
    "\n",
    "Si los argumentos de la función `np.dot()` son arreglos bidimensionales, el resultado de la misma será el producto matricial equivalente al que obtendríamos por medio del uso de de la función `np.matmul()`. Esto podemos chequearlo rápidamente mediante la función `np.allclose()`, la cual evalúa el resultado de dos operaciones y devuelve el valor Booleano `True` cuando tales resultados son iguales:"
   ]
  },
  {
   "cell_type": "code",
   "execution_count": 28,
   "id": "bbb11364",
   "metadata": {},
   "outputs": [
    {
     "data": {
      "text/plain": [
       "True"
      ]
     },
     "execution_count": 28,
     "metadata": {},
     "output_type": "execute_result"
    }
   ],
   "source": [
    "# np.dot() y np.matmul() son equivalentes cuando usamos arreglos bidimensionales.\n",
    "np.allclose(np.dot(A, B), np.matmul(A, B))"
   ]
  },
  {
   "cell_type": "markdown",
   "id": "911f0036",
   "metadata": {},
   "source": [
    "Ahondaremos más en operaciones propias del álgebra lineal más adelante.\n",
    "\n",
    "Resumiendo las consideraciones previamente establecidas, las `ufuncs` de **Numpy** se sienten muy naturales de utilizar debido a que hacen uso de los operadores aritméticos nativos de Python. Las operaciones aritméticas de adición, sustracción, multiplicación y división, por tanto, pueden expresarse como sigue:"
   ]
  },
  {
   "cell_type": "code",
   "execution_count": 29,
   "id": "bd174005",
   "metadata": {},
   "outputs": [],
   "source": [
    "# Construimos el arreglo x.\n",
    "x = np.array([-1, 0, 9, 5, -4, 5])"
   ]
  },
  {
   "cell_type": "code",
   "execution_count": 30,
   "id": "c9f04529",
   "metadata": {},
   "outputs": [
    {
     "name": "stdout",
     "output_type": "stream",
     "text": [
      "x = [-1  0  9  5 -4  5]\n",
      "x + 5 = [ 4  5 14 10  1 10]\n",
      "x - 5 = [-6 -5  4  0 -9  0]\n",
      "x * 2 = [-2  0 18 10 -8 10]\n",
      "x / 2 = [-0.5  0.   4.5  2.5 -2.   2.5]\n",
      "x // 2 = [-1  0  4  2 -2  2]\n"
     ]
    }
   ],
   "source": [
    "# Las operaciones aritméticas en Numpy son, en resumen, muy intuitivas.\n",
    "print(\"x =\", x)\n",
    "print(\"x + 5 =\", x + 5)\n",
    "print(\"x - 5 =\", x - 5)\n",
    "print(\"x * 2 =\", x * 2)\n",
    "print(\"x / 2 =\", x / 2)\n",
    "print(\"x // 2 =\", x // 2)"
   ]
  },
  {
   "cell_type": "markdown",
   "id": "87853a38",
   "metadata": {},
   "source": [
    "También existe una `ufunc` unaria para la negación, un operador `**` para la exponenciación, y un operador `%` para el cálculo de restos de divisiones (módulos):"
   ]
  },
  {
   "cell_type": "code",
   "execution_count": 31,
   "id": "669068c2",
   "metadata": {},
   "outputs": [
    {
     "name": "stdout",
     "output_type": "stream",
     "text": [
      "-x = [ 1  0 -9 -5  4 -5]\n",
      "x ** 2 = [ 1  0 81 25 16 25]\n",
      "x % 2 = [1 0 1 1 0 1]\n"
     ]
    }
   ],
   "source": [
    "# Operaciones de negación, exponenciación y módulo.\n",
    "print(\"-x =\", -x)\n",
    "print(\"x ** 2 =\", x ** 2)\n",
    "print(\"x % 2 =\", x % 2)"
   ]
  },
  {
   "cell_type": "markdown",
   "id": "a49d921d",
   "metadata": {},
   "source": [
    "En adición, éstas `ufuncs` pueden mezclarse como sea que deseemos, teniendo en consideración siempre que las operaciones respetarán la jerarquía de las operaciones aritméticas:"
   ]
  },
  {
   "cell_type": "code",
   "execution_count": 32,
   "id": "a9c7d45c",
   "metadata": {},
   "outputs": [
    {
     "data": {
      "text/plain": [
       "array([ -0.25,  -1.  , -30.25, -12.25,  -1.  , -12.25])"
      ]
     },
     "execution_count": 32,
     "metadata": {},
     "output_type": "execute_result"
    }
   ],
   "source": [
    "-(0.5*x + 1) ** 2"
   ]
  },
  {
   "attachments": {},
   "cell_type": "markdown",
   "id": "3dc4027b",
   "metadata": {},
   "source": [
    "### Valor absoluto y norma.\n",
    "Estamos familiarizados con el concepto de valor absoluto, el cual, para el caso de los números reales, corresponde a la distancia absoluta a la cual éstos se emplazan en la recta real respecto del origen de dicha recta (el número 0). Por lo tanto, para todo número real $x$ se define la función valor absoluto como\n",
    "\n",
    "<p style=\"text-align: center;\">$f\\left( x\\right)  =\\left| x\\right|  =\\begin{cases}x&;\\  \\mathrm{s} \\mathrm{i} \\  x\\geq 0\\\\ -x&;\\  \\mathrm{s} \\mathrm{i} \\  x<0\\end{cases} $</p>\n",
    "\n",
    "El concepto de valor absoluto es extensible a los elementos de un arreglo siempre que opere únicamente sobre los elementos del mismo, posición a posición. De esta manera, en **Numpy**, el valor absoluto puede implementarse mediante la función `np.abs()`, la cual permite calcular dicho valor absoluto para todos los elementos de un arreglo:"
   ]
  },
  {
   "cell_type": "code",
   "execution_count": 33,
   "id": "3810fb51",
   "metadata": {},
   "outputs": [],
   "source": [
    "# Construimos un arreglo bidimensional A.\n",
    "A = np.array([\n",
    "    [-1, -6, 0, 7, 8],\n",
    "    [5, -3, -4, 8, -9],\n",
    "    [-6, 6, 7, 1, 0],\n",
    "    [9, -1, -1, 0, -7]\n",
    "])"
   ]
  },
  {
   "cell_type": "code",
   "execution_count": 34,
   "id": "f549003a",
   "metadata": {},
   "outputs": [
    {
     "data": {
      "text/plain": [
       "array([[1, 6, 0, 7, 8],\n",
       "       [5, 3, 4, 8, 9],\n",
       "       [6, 6, 7, 1, 0],\n",
       "       [9, 1, 1, 0, 7]])"
      ]
     },
     "execution_count": 34,
     "metadata": {},
     "output_type": "execute_result"
    }
   ],
   "source": [
    "# Calculamos el valor absoluto de sus elementos.\n",
    "np.abs(A)"
   ]
  },
  {
   "attachments": {},
   "cell_type": "markdown",
   "id": "933b8486",
   "metadata": {},
   "source": [
    "Si los elementos de un arreglo son números complejos (conforme la Tabla (1.1), el tipo `np.complex64` o `np.complex128`), la función `np.abs()` calculará los módulos asociados a tales elementos. Recordemos que si $z=a+bi\\in \\mathbb{C}$, con $a,b\\in \\mathbb{R}$, entonces el módulo de $z$ se define como\n",
    "\n",
    "<p style=\"text-align: center;\">$\\left| z\\right|={\\displaystyle \\sqrt{a^{2}+b^{2}}}$</p>\n",
    "\n",
    "Luego, en **Numpy**, tenemos:"
   ]
  },
  {
   "cell_type": "code",
   "execution_count": 35,
   "id": "1753fe24",
   "metadata": {},
   "outputs": [],
   "source": [
    "# Definimos un arreglo compuesto por números complejos.\n",
    "Z = np.array([\n",
    "    [2-3j, 4+1j, -5-6j, -2j],\n",
    "    [3, -5j, 1-1j, 2-9j],\n",
    "    [9+2j, -1-8j, 2+3j, -1j]\n",
    "])"
   ]
  },
  {
   "cell_type": "code",
   "execution_count": 36,
   "id": "3622e323",
   "metadata": {},
   "outputs": [
    {
     "data": {
      "text/plain": [
       "array([[3.60555128, 4.12310563, 7.81024968, 2.        ],\n",
       "       [3.        , 5.        , 1.41421356, 9.21954446],\n",
       "       [9.21954446, 8.06225775, 3.60555128, 1.        ]])"
      ]
     },
     "execution_count": 36,
     "metadata": {},
     "output_type": "execute_result"
    }
   ],
   "source": [
    "# Calculamos el valor absoluto de los elementos del arreglo Z.\n",
    "np.abs(Z)"
   ]
  },
  {
   "attachments": {},
   "cell_type": "markdown",
   "id": "e8cf691f",
   "metadata": {},
   "source": [
    "El concepto de valor absoluto suele ser asociado a otros resultados más generales que son propios del álgebra lineal o de la física. En particular, cuando pensamos en vectores desde una perspectiva puramente geométrica; es decir, líneas dirigidas que parten desde el origen y terminan en un punto determinado, siempre hemos asociado a estos vectores el concepto de longitud del mismo en términos de la distancia entre el origen y dicho punto. La norma es un concepto que permite formalizar esa noción, siendo dependiente, por supuesto, del tipo de geometría subyacente a la referencia propia del vector. Es muy común trabajar con la norma Euclidiana (o norma $\\mathcal{l}_{2}$) de un vector en $\\mathbf{x}\\in \\mathbb{R}^{n}$, la que nos permite calcular la distancia de este vector al origen del sistema de coordenadas que describe su posición:\n",
    "\n",
    "<p style=\"text-align: center;\">$\\left\\Vert \\mathbf{x} \\right\\Vert_{2}  :=\\sqrt{\\displaystyle \\sum^{n}_{i=1} x^{2}_{i}} =\\sqrt{\\mathbf{x}^{\\top } \\mathbf{x}}$</p>\n",
    "\n",
    "Si definimos el vector $\\mathbf{x}=( 1,-1,4,-8,0,-2)^{\\intercal}\\in \\mathbb{R}^{6}$, veremos que su norma Euclidiana será\n",
    "\n",
    "<p style=\"text-align: center;\">$\\left\\Vert \\mathbf{x} \\right\\Vert_{2}  =\\sqrt{1^{2}+1^{2}+4^{2}+8^{2}+0^{2}+2^{2}} =\\sqrt{86} \\approx 9.273$</p>\n",
    "\n",
    "En **Numpy**, podemos calcular esta norma como sigue:"
   ]
  },
  {
   "cell_type": "code",
   "execution_count": 37,
   "id": "b07bfd96",
   "metadata": {},
   "outputs": [
    {
     "data": {
      "text/plain": [
       "9.273618495495704"
      ]
     },
     "execution_count": 37,
     "metadata": {},
     "output_type": "execute_result"
    }
   ],
   "source": [
    "# Definimos el arreglo 1D (vector) x.\n",
    "x = np.array([1, -1, 4, -8, 0, -2])\n",
    "\n",
    "# Calculamos su norma Euclidiana.\n",
    "np.linalg.norm(x)"
   ]
  },
  {
   "attachments": {},
   "cell_type": "markdown",
   "id": "3a8a918b",
   "metadata": {},
   "source": [
    "No ahondaremos mucho más en temas relativos al álgebra lineal en **Numpy** por ahora, ya que esto lo revisaremos un poco más en detalle más adelante.\n",
    "\n",
    "## Funciones trigonométricas.\n",
    "**Numpy** nos provee de una enorme cantidad de funciones trascendentes típicas en el análisis de datos. Un ejemplo son las funciones trigonométricas, las cuales son fácilmente representables en **Numpy** mediante las funciones `np.sin()`, `np.cos()` y `np.tan()` para el caso de las funciones seno, coseno y tangente, respectivamente. Para ejemplificar su implementación, definiremos primeramente un arreglo llamado `theta`, que representará ciertos ángulos (en radianes) en términos de ciertos factores de $\\pi$. Tal constante puede, igualmente, representarse en **Numpy** mediante `np.pi`. De este modo,"
   ]
  },
  {
   "cell_type": "code",
   "execution_count": 38,
   "id": "ae29a3c9",
   "metadata": {},
   "outputs": [],
   "source": [
    "# Definimos un arreglo cuyos elementos serán algunos ángulos (en radianes).\n",
    "theta = np.linspace(0, np.pi, 4)"
   ]
  },
  {
   "cell_type": "code",
   "execution_count": 39,
   "id": "494ac0d4",
   "metadata": {},
   "outputs": [
    {
     "name": "stdout",
     "output_type": "stream",
     "text": [
      "theta =  [0.         1.04719755 2.0943951  3.14159265]\n",
      "sen(theta) =  [0.00000000e+00 8.66025404e-01 8.66025404e-01 1.22464680e-16]\n",
      "cos(theta) =  [ 1.   0.5 -0.5 -1. ]\n",
      "tan(theta) =  [ 0.00000000e+00  1.73205081e+00 -1.73205081e+00 -1.22464680e-16]\n"
     ]
    }
   ],
   "source": [
    "# Calculamos los valores de cada una de las funciones trigonométricas para los ángulos que componen nuestro arreglo.\n",
    "print(\"theta = \", theta)\n",
    "print(\"sen(theta) = \", np.sin(theta))\n",
    "print(\"cos(theta) = \", np.cos(theta))\n",
    "print(\"tan(theta) = \", np.tan(theta))"
   ]
  },
  {
   "cell_type": "markdown",
   "id": "e8da432f",
   "metadata": {},
   "source": [
    "Estos valores se calculan a partir de la precisión numérica que tienen los distintos elementos de un arreglo, considerando el tipo de dato al mismo (atributo `dtype`), razón por la cual, en el bloque de código anterior, observamos valores que deberían ser cero no son exactamente cero.\n",
    "\n",
    "Las funciones trigonométricas inversas también están disponibles en **Numpy**:"
   ]
  },
  {
   "cell_type": "code",
   "execution_count": 40,
   "id": "4810f761",
   "metadata": {},
   "outputs": [
    {
     "name": "stdout",
     "output_type": "stream",
     "text": [
      "x =  [-1, -0.5, 0, 0.5, 1]\n",
      "arcsen(x) =  [-1.57079633 -0.52359878  0.          0.52359878  1.57079633]\n",
      "arccos(x) =  [3.14159265 2.0943951  1.57079633 1.04719755 0.        ]\n",
      "arctan(x) =  [-0.78539816 -0.46364761  0.          0.46364761  0.78539816]\n"
     ]
    }
   ],
   "source": [
    "# Funciones trigonométricas inversas.\n",
    "x = [-1,  -1/2,  0, 1/2, 1]\n",
    "print(\"x = \", x)\n",
    "print(\"arcsen(x) = \", np.arcsin(x))\n",
    "print(\"arccos(x) = \", np.arccos(x))\n",
    "print(\"arctan(x) = \", np.arctan(x))"
   ]
  },
  {
   "attachments": {},
   "cell_type": "markdown",
   "id": "eb465bae",
   "metadata": {},
   "source": [
    "Las funciones anteriores asumen que los arreglos imputados a las mismas contienen ángulos expresados en radianes, o bien, en el caso de las funciones trigonométricas inversas, retornan arreglos cuyos elementos también son ángulos medidos en radianes. Para hacer conversiones de ángulos a otras unidades de medición, **Numpy** nos provee de algunas funciones muy útiles. Por ejemplo, la función `np.rad2deg()` permite convertir los elementos de un arreglo de radianes a grados (suponiendo, por supuesto, que dicho arreglo almacene ángulos):"
   ]
  },
  {
   "cell_type": "code",
   "execution_count": 41,
   "id": "cb9cb8c3",
   "metadata": {},
   "outputs": [
    {
     "data": {
      "text/plain": [
       "array([  0.,  60., 120., 180.])"
      ]
     },
     "execution_count": 41,
     "metadata": {},
     "output_type": "execute_result"
    }
   ],
   "source": [
    "# El arreglo theta expresado en grados.\n",
    "np.rad2deg(theta)"
   ]
  },
  {
   "attachments": {},
   "cell_type": "markdown",
   "id": "27515686",
   "metadata": {},
   "source": [
    "La función `np.deg2rad()` permite realizar la conversión inversa, de grados a radianes.\n",
    "\n",
    "## Funciones logarítmicas y exponenciales.\n",
    "**Numpy** también nos provee de una serie de implementaciones relativas a funciones exponenciales y logarítmicas. Algunos ejemplos se muestran a continuación:"
   ]
  },
  {
   "cell_type": "code",
   "execution_count": 42,
   "id": "3d7f3db7",
   "metadata": {},
   "outputs": [
    {
     "name": "stdout",
     "output_type": "stream",
     "text": [
      "x =  [1, 2, 3, 4, 5]\n",
      "exp(x) =  [  2.71828183   7.3890561   20.08553692  54.59815003 148.4131591 ]\n",
      "2^x =  [ 2.  4.  8. 16. 32.]\n",
      "3^x =  [  3   9  27  81 243]\n"
     ]
    }
   ],
   "source": [
    "# Ejemplos de funciones exponenciales (y potenciales).\n",
    "x = [1, 2, 3, 4, 5]\n",
    "print(\"x = \", x)\n",
    "print(\"exp(x) = \", np.exp(x))\n",
    "print(\"2^x = \", np.exp2(x))\n",
    "print(\"3^x = \", np.power(3, x))"
   ]
  },
  {
   "cell_type": "code",
   "execution_count": 43,
   "id": "fa137c28",
   "metadata": {},
   "outputs": [
    {
     "name": "stdout",
     "output_type": "stream",
     "text": [
      "ln(x) =  [0.         0.69314718 1.09861229 1.38629436 1.60943791]\n",
      "log2(x) =  [0.         1.         1.5849625  2.         2.32192809]\n",
      "log10(x) =  [0.         0.30103    0.47712125 0.60205999 0.69897   ]\n"
     ]
    }
   ],
   "source": [
    "# Ejemplos de funciones logarítmicas.\n",
    "print(\"ln(x) = \", np.log(x))\n",
    "print(\"log2(x) = \", np.log2(x))\n",
    "print(\"log10(x) = \", np.log10(x))"
   ]
  },
  {
   "cell_type": "markdown",
   "id": "4ab0cdd4",
   "metadata": {},
   "source": [
    "También existen versiones especializadas de funciones logarítmicas y exponenciales que son útiles para mantener la precisión para inputs de magnitudes pequeñas:"
   ]
  },
  {
   "cell_type": "code",
   "execution_count": 44,
   "id": "14ac8f05",
   "metadata": {},
   "outputs": [
    {
     "name": "stdout",
     "output_type": "stream",
     "text": [
      "exp(x) - 1 =  [0.         0.0010005  0.01005017 0.10517092]\n",
      "log(1 + x) =  [0.         0.0009995  0.00995033 0.09531018]\n"
     ]
    }
   ],
   "source": [
    "x = [0, 0.001, 0.01, 0.1]\n",
    "print(\"exp(x) - 1 = \", np.expm1(x))\n",
    "print(\"log(1 + x) = \", np.log1p(x))"
   ]
  },
  {
   "cell_type": "markdown",
   "id": "562fb82d",
   "metadata": {},
   "source": [
    "Finalmente, **Numpy** dispone de una función que permite calcular raíces cuadradas sin ningún problema:"
   ]
  },
  {
   "cell_type": "code",
   "execution_count": 45,
   "id": "1f20445c",
   "metadata": {},
   "outputs": [
    {
     "name": "stdout",
     "output_type": "stream",
     "text": [
      "np.sqrt(x) =  [1. 2. 3. 4. 5. 6.]\n"
     ]
    }
   ],
   "source": [
    "# La función np.sqrt() permite calcular la raíz cuadrada de los elementos de un arreglo.\n",
    "x = [1, 4, 9, 16, 25, 36]\n",
    "print(\"np.sqrt(x) = \", np.sqrt(x))"
   ]
  },
  {
   "cell_type": "markdown",
   "id": "4128c396",
   "metadata": {},
   "source": [
    "Y eso es todo lo relativo a funciones trascendentes. **Numpy** posee muchísimas otras funciones especializadas, las que pueden ser revisadas en la correspondiente documentación de la librería, junto con los correspondientes ejemplos.\n",
    "\n",
    "## Comentarios finales.\n",
    "En esta segunda sección hemos aprendido a operar con arreglos de **Numpy**, considerando la inclusión de funciones algebraicas y trascendentes, incluyendo también elementos importantes del álgebra lineal.\n",
    "\n",
    "Hasta ahora, ya disponemos de herramientas que nos permiten manipular datos almacenados en arreglos de **Numpy**. Sin embargo, existen ciertas limitaciones en la forma de operar, las que se resumen en que estamos trabajando siempre elemento a elemento, o bien, de forma global en un arreglo. En la siguiente sección procederemos a revisar el concepto de función de agregación, y que nos permitirá construir operaciones que diferencien tanto filas como columnas (y apilamientos) en un arreglo, lo que robustecerá muchísimo más nuestra caja de herramientas para el análisis de datos almacenados en **Numpy**."
   ]
  }
 ],
 "metadata": {
  "kernelspec": {
   "display_name": "Python 3 (ipykernel)",
   "language": "python",
   "name": "python3"
  },
  "language_info": {
   "codemirror_mode": {
    "name": "ipython",
    "version": 3
   },
   "file_extension": ".py",
   "mimetype": "text/x-python",
   "name": "python",
   "nbconvert_exporter": "python",
   "pygments_lexer": "ipython3",
   "version": "3.9.7"
  }
 },
 "nbformat": 4,
 "nbformat_minor": 5
}
